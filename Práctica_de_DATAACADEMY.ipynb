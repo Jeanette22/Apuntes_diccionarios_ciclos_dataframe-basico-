{
  "nbformat": 4,
  "nbformat_minor": 0,
  "metadata": {
    "colab": {
      "name": "Práctica_de_DATAACADEMY.ipynb",
      "provenance": [],
      "collapsed_sections": []
    },
    "kernelspec": {
      "name": "python3",
      "display_name": "Python 3"
    },
    "language_info": {
      "name": "python"
    }
  },
  "cells": [
    {
      "cell_type": "code",
      "execution_count": null,
      "metadata": {
        "colab": {
          "base_uri": "https://localhost:8080/"
        },
        "id": "OuXVlrCRQXRB",
        "outputId": "6676f307-4fae-4b93-ed53-c5ac5539028f"
      },
      "outputs": [
        {
          "output_type": "stream",
          "name": "stdout",
          "text": [
            "1\n",
            "2\n",
            "3\n",
            "4\n",
            "5\n",
            "6\n",
            "7\n",
            "8\n",
            "9\n",
            "10\n"
          ]
        }
      ],
      "source": [
        "contador = 1 \n",
        "print (contador)\n",
        "while contador < 10: #cuando nuestro contador valga menos a 100 para, sino sigue\n",
        "  contador += 1 #+= para reemplzarar contador = contador +1 \n",
        "  print (contador)\n"
      ]
    },
    {
      "cell_type": "code",
      "source": [
        "#version reducida, pero usando for, y rango. \n",
        "for contador in range (11):\n",
        "  print (contador)"
      ],
      "metadata": {
        "colab": {
          "base_uri": "https://localhost:8080/"
        },
        "id": "VLYPVFXrRq2a",
        "outputId": "bd441ff2-bd47-4f81-f2cf-e09f195295d4"
      },
      "execution_count": null,
      "outputs": [
        {
          "output_type": "stream",
          "name": "stdout",
          "text": [
            "0\n",
            "1\n",
            "2\n",
            "3\n",
            "4\n",
            "5\n",
            "6\n",
            "7\n",
            "8\n",
            "9\n",
            "10\n"
          ]
        }
      ]
    },
    {
      "cell_type": "code",
      "source": [
        "a = list (range(100)) #hacemos una lista de lo anterior y lo pones en una variable\n",
        "print (a)"
      ],
      "metadata": {
        "colab": {
          "base_uri": "https://localhost:8080/"
        },
        "id": "zy4rD1ToQ2vt",
        "outputId": "5f29df01-5702-48ce-f7af-2539f52e7019"
      },
      "execution_count": null,
      "outputs": [
        {
          "output_type": "stream",
          "name": "stdout",
          "text": [
            "[0, 1, 2, 3, 4, 5, 6, 7, 8, 9, 10, 11, 12, 13, 14, 15, 16, 17, 18, 19, 20, 21, 22, 23, 24, 25, 26, 27, 28, 29, 30, 31, 32, 33, 34, 35, 36, 37, 38, 39, 40, 41, 42, 43, 44, 45, 46, 47, 48, 49, 50, 51, 52, 53, 54, 55, 56, 57, 58, 59, 60, 61, 62, 63, 64, 65, 66, 67, 68, 69, 70, 71, 72, 73, 74, 75, 76, 77, 78, 79, 80, 81, 82, 83, 84, 85, 86, 87, 88, 89, 90, 91, 92, 93, 94, 95, 96, 97, 98, 99]\n"
          ]
        }
      ]
    },
    {
      "cell_type": "code",
      "source": [
        "for contador in range (1,11):\n",
        "  print (contador) #le indicamos que imprima los numeros desde el 1, no desde el cero, al 11 que seria 10"
      ],
      "metadata": {
        "colab": {
          "base_uri": "https://localhost:8080/"
        },
        "id": "HDHMgyseTDat",
        "outputId": "1b5a0d6e-75fc-4c54-a93a-c9e779b6efc1"
      },
      "execution_count": null,
      "outputs": [
        {
          "output_type": "stream",
          "name": "stdout",
          "text": [
            "1\n",
            "2\n",
            "3\n",
            "4\n",
            "5\n",
            "6\n",
            "7\n",
            "8\n",
            "9\n",
            "10\n"
          ]
        }
      ]
    },
    {
      "cell_type": "code",
      "source": [
        "for i in range (10): #tabla \n",
        "  print (11*i)"
      ],
      "metadata": {
        "colab": {
          "base_uri": "https://localhost:8080/"
        },
        "id": "Pb7SaQzdTSP0",
        "outputId": "0958200f-3320-4b93-928c-d4537eb16a0c"
      },
      "execution_count": null,
      "outputs": [
        {
          "output_type": "stream",
          "name": "stdout",
          "text": [
            "0\n",
            "11\n",
            "22\n",
            "33\n",
            "44\n",
            "55\n",
            "66\n",
            "77\n",
            "88\n",
            "99\n"
          ]
        }
      ]
    },
    {
      "cell_type": "code",
      "source": [
        "#recorremos un STRING con FOR"
      ],
      "metadata": {
        "id": "INSaPsmGTzCz"
      },
      "execution_count": null,
      "outputs": []
    },
    {
      "cell_type": "code",
      "source": [
        "#con ctrl c detenemos el programa\n",
        "def run():\n",
        "  # nombre = input (\"por favor ingrese su nombre: \")\n",
        "  # for letra in nombre: \n",
        "  #   print (letra)\n",
        "  # frase = input ('escriba una frase: ')\n",
        "  # for caracter in frase:   \n",
        "  #   print (caracter.upper()) #por cada caracter ingresado, imprimilo pero en mayuscula\n",
        "  \n",
        "  #sin salto de linea\n",
        "  frase = input ('escriba una frase: ')\n",
        "  for caracter in frase:   \n",
        "    print (caracter.upper(), end = '') #por cada caracter ingresado, imprimilo pero en mayuscula\n",
        "\n",
        "\n",
        "\n",
        "\n",
        "if __name__ == \"__main__\":\n",
        "  run ()"
      ],
      "metadata": {
        "colab": {
          "base_uri": "https://localhost:8080/"
        },
        "id": "bJ9C96--UMPA",
        "outputId": "e0f0441a-bed2-47e5-9e76-35e76c0fa186"
      },
      "execution_count": null,
      "outputs": [
        {
          "output_type": "stream",
          "name": "stdout",
          "text": [
            "escriba una frase: hola a todos \n",
            "HOLA A TODOS "
          ]
        }
      ]
    },
    {
      "cell_type": "code",
      "source": [
        ""
      ],
      "metadata": {
        "id": "wFAMaD78UyZ8"
      },
      "execution_count": null,
      "outputs": []
    },
    {
      "cell_type": "markdown",
      "source": [
        "PRACTICAMOS: interrumpir **ciclos** (usando **While, For** que nos permiten recorrer una función, y si usamos IF, colocar una condición determinada).\n",
        "Como interrumpimos un programa con **continue | break**:"
      ],
      "metadata": {
        "id": "Wo76HVf63Ef_"
      }
    },
    {
      "cell_type": "code",
      "source": [
        "def run():\n",
        "  # for contador in range (10):\n",
        "  #   if contador % 2 != 0:        #si contador al dividir con 2 y el resto es dif 0\n",
        "  #       continue\n",
        "  #   print (contador)\n",
        "    \n",
        "  #con esto le decimos al programa que pare cuando este en 55\n",
        "  # for i in range (99):\n",
        "  #   print (i)\n",
        "  #   if i == 55:\n",
        "  #     break \n",
        "  \n",
        "  #en este caso vemos como se imprime hasta que aparece la letra O! CORTA el ciclo\n",
        "  # texto = input (\"escribe un texto: \")\n",
        "  # for letra in texto: \n",
        "  #   if letra == 'o':\n",
        "  #     break \n",
        "  #   print (letra)\n",
        "  \n",
        "\n",
        "#  palabras= []\n",
        "#  palabra = input (\"ingrese una palabra\")\n",
        "#  for palabra in palabras:\n",
        "#    if palabra == 'a':\n",
        "#      break \n",
        "\n",
        "  # nombre = input (\"por favor ingrese su nombre: \")\n",
        "  # for letra in nombre: \n",
        "  #   print (letra)\n",
        "  # frase = input ('escriba una frase: ')\n",
        "  # for caracter in frase:   \n",
        "  #   print (caracter.upper()"
      ],
      "metadata": {
        "id": "3a4SDdyoWgIZ"
      },
      "execution_count": null,
      "outputs": []
    },
    {
      "cell_type": "markdown",
      "source": [
        "## Práctico el uso de LISTAS, accediendo a ellas por su posición *recordar: siempre contar desde el 0123.. "
      ],
      "metadata": {
        "id": "vJSWaia23wy5"
      }
    },
    {
      "cell_type": "code",
      "source": [
        "letras = ['a', 'b', 'c', 'd', 'e', 'f']"
      ],
      "metadata": {
        "id": "n9lW0HM1Xb0e"
      },
      "execution_count": null,
      "outputs": []
    },
    {
      "cell_type": "code",
      "source": [
        "letras [3]"
      ],
      "metadata": {
        "colab": {
          "base_uri": "https://localhost:8080/",
          "height": 36
        },
        "id": "_M4yhQ_-Rkun",
        "outputId": "9190b5e1-2244-4dc5-dee2-978d784a0ea1"
      },
      "execution_count": null,
      "outputs": [
        {
          "output_type": "execute_result",
          "data": {
            "application/vnd.google.colaboratory.intrinsic+json": {
              "type": "string"
            },
            "text/plain": [
              "'d'"
            ]
          },
          "metadata": {},
          "execution_count": 23
        }
      ]
    },
    {
      "cell_type": "markdown",
      "source": [
        "# Usamos append para agregar un elemento, a la lista creada\n",
        "cuando usamos pop eliminamos elemento especifico\n",
        "*recordar: \n",
        "#**.append (*elemento a agregar*)\n",
        "#.pop (*posicion del elemento a eliminar*)**\n",
        "            "
      ],
      "metadata": {
        "id": "EQhwkBFZ4tHY"
      }
    },
    {
      "cell_type": "code",
      "source": [
        "letras.append('hola') #Le estoy agregando un nuevo elemento a la lista original"
      ],
      "metadata": {
        "id": "X1lo28XISAb6"
      },
      "execution_count": null,
      "outputs": []
    },
    {
      "cell_type": "code",
      "source": [
        "letras #veo como quedo"
      ],
      "metadata": {
        "colab": {
          "base_uri": "https://localhost:8080/"
        },
        "id": "yhzYQBUqSDnU",
        "outputId": "d9bdcb15-c668-4533-93f3-dd319e64af99"
      },
      "execution_count": null,
      "outputs": [
        {
          "output_type": "execute_result",
          "data": {
            "text/plain": [
              "['a', 'b', 'c', 'd', 'e', 'f', 'hola']"
            ]
          },
          "metadata": {},
          "execution_count": 25
        }
      ]
    },
    {
      "cell_type": "code",
      "source": [
        "letras.append('borrame') #Le agrego otro elemento"
      ],
      "metadata": {
        "id": "a4yxwxV7SEvR"
      },
      "execution_count": null,
      "outputs": []
    },
    {
      "cell_type": "code",
      "source": [
        "letras"
      ],
      "metadata": {
        "colab": {
          "base_uri": "https://localhost:8080/"
        },
        "id": "zQlXOuCySLbF",
        "outputId": "9dd95b7f-6b98-4ac6-d1e1-6d3b44e3c969"
      },
      "execution_count": null,
      "outputs": [
        {
          "output_type": "execute_result",
          "data": {
            "text/plain": [
              "['a', 'b', 'c', 'd', 'e', 'f', 'hola', 'borrame']"
            ]
          },
          "metadata": {},
          "execution_count": 27
        }
      ]
    },
    {
      "cell_type": "code",
      "source": [
        "letras.pop(3)"
      ],
      "metadata": {
        "colab": {
          "base_uri": "https://localhost:8080/",
          "height": 36
        },
        "id": "Q-o27El2SS3s",
        "outputId": "0a83ebfa-49e4-4777-9601-de6e5d46c030"
      },
      "execution_count": null,
      "outputs": [
        {
          "output_type": "execute_result",
          "data": {
            "application/vnd.google.colaboratory.intrinsic+json": {
              "type": "string"
            },
            "text/plain": [
              "'d'"
            ]
          },
          "metadata": {},
          "execution_count": 41
        }
      ]
    },
    {
      "cell_type": "code",
      "source": [
        "letras"
      ],
      "metadata": {
        "colab": {
          "base_uri": "https://localhost:8080/"
        },
        "id": "fSu55R1PSbjC",
        "outputId": "86bf648c-6175-45bb-c6b6-f4e46f749a36"
      },
      "execution_count": null,
      "outputs": [
        {
          "output_type": "execute_result",
          "data": {
            "text/plain": [
              "['a', 'b', 'c', 'e', 'f', 'hola', 'borrame']"
            ]
          },
          "metadata": {},
          "execution_count": 42
        }
      ]
    },
    {
      "cell_type": "code",
      "source": [
        "for letra in letras: #IMPRIMIS CADA ELEMENTO, desde una lista----\n",
        "  print (letra)"
      ],
      "metadata": {
        "colab": {
          "base_uri": "https://localhost:8080/"
        },
        "id": "KXhzp0MqSfUO",
        "outputId": "9550c95e-0c52-4f72-ea3b-bbe39dbb9205"
      },
      "execution_count": null,
      "outputs": [
        {
          "output_type": "stream",
          "name": "stdout",
          "text": [
            "a\n",
            "b\n",
            "c\n",
            "e\n",
            "f\n",
            "hola\n",
            "borrame\n"
          ]
        }
      ]
    },
    {
      "cell_type": "code",
      "source": [
        "#listas al reves\n",
        "letras [::-1]"
      ],
      "metadata": {
        "colab": {
          "base_uri": "https://localhost:8080/"
        },
        "id": "zgBmkrgFUuoC",
        "outputId": "8fd572cc-3e26-44e4-be81-51521914c7b2"
      },
      "execution_count": null,
      "outputs": [
        {
          "output_type": "execute_result",
          "data": {
            "text/plain": [
              "['borrame', 'hola', 'f', 'e', 'c', 'b', 'a']"
            ]
          },
          "metadata": {},
          "execution_count": 44
        }
      ]
    },
    {
      "cell_type": "code",
      "source": [
        "#en las listas podemos tener un str como un bools\n",
        "palabras = ['7', '7 ', '7', True]"
      ],
      "metadata": {
        "id": "PAGAHjgYU79R"
      },
      "execution_count": null,
      "outputs": []
    },
    {
      "cell_type": "code",
      "source": [
        "palabras [3]"
      ],
      "metadata": {
        "colab": {
          "base_uri": "https://localhost:8080/"
        },
        "id": "lgWhyNlgVe_n",
        "outputId": "221b4c9d-07f0-42f9-eefb-205a15550cd2"
      },
      "execution_count": null,
      "outputs": [
        {
          "output_type": "execute_result",
          "data": {
            "text/plain": [
              "True"
            ]
          },
          "metadata": {},
          "execution_count": 46
        }
      ]
    },
    {
      "cell_type": "code",
      "source": [
        "#Una pregunta muy recurrente en entrevistas para posiciones de desarrollador en Python, es ¿Cuál es la diferencia entre lista y tupla? \n",
        "#R.- Las Tuplas son inmutables y las listas pueden añadir nuevos elementos y la otra diferencia es que el procesamiento de una tupla es más rápido que el de una lista."
      ],
      "metadata": {
        "id": "YLgJTz7fVjqp"
      },
      "execution_count": null,
      "outputs": []
    },
    {
      "cell_type": "markdown",
      "source": [
        "##TUPLAS: se diferencia de las listas porque no se le pueden agregar elementos nuevos, pero son mas rápidas de procesarlas. Por eso se dice que son \"estáticas\" y las listas \"dinámicas\". y usamos parentesis ()"
      ],
      "metadata": {
        "id": "YbxanYLH5ShA"
      }
    },
    {
      "cell_type": "code",
      "source": [
        "#TUPLAS"
      ],
      "metadata": {
        "id": "CjqGJRNMVzfo"
      },
      "execution_count": null,
      "outputs": []
    },
    {
      "cell_type": "code",
      "source": [
        "palabras = ('hola', 'funcionar', 'objetos')"
      ],
      "metadata": {
        "id": "V-ATAX-9V0rs"
      },
      "execution_count": null,
      "outputs": []
    },
    {
      "cell_type": "code",
      "source": [
        "for palabra in palabras: #USAMOS EL FOR y recorremos las palabras que tiene la tupla creada en la celda de arriba\n",
        "  print (palabra)"
      ],
      "metadata": {
        "colab": {
          "base_uri": "https://localhost:8080/"
        },
        "id": "VRDKuIW-XKmK",
        "outputId": "4660ac66-80ae-416c-cc99-a6db5322cf81"
      },
      "execution_count": null,
      "outputs": [
        {
          "output_type": "stream",
          "name": "stdout",
          "text": [
            "hola\n",
            "funcionar\n",
            "objetos\n"
          ]
        }
      ]
    },
    {
      "cell_type": "code",
      "source": [
        "def run ():\n",
        "  mi_diccionario= {'Luegar de residencia': 1,\n",
        "                   'años': 2,\n",
        "                   'profesión': 3,\n",
        "                   'sexo': 4\n",
        "                   }\n",
        "  #imprimir diccionario sus valores, desde las llaves!\n",
        "  print (mi_diccionario['Luegar de residencia'])\n",
        "  print (mi_diccionario['años'] )\n",
        "  \n",
        "  #vemos las llaves, recorremos con for\n",
        "  for datos in mi_diccionario.keys():\n",
        "    print(datos)\n",
        "\n",
        "  #con items veo todo completo \n",
        "  for datos in mi_diccionario.items():\n",
        "    print (datos)\n",
        "\n",
        "  #solo los valores:\n",
        "  for datos in mi_diccionario.values():\n",
        "    print (datos)\n",
        "  \n",
        "\n",
        "\n",
        "if __name__ == '__main__':\n",
        "  run()"
      ],
      "metadata": {
        "colab": {
          "base_uri": "https://localhost:8080/"
        },
        "id": "dJ28mIQfXO8M",
        "outputId": "45b391ca-74aa-4d25-c5e2-a52b0aeb9fa8"
      },
      "execution_count": null,
      "outputs": [
        {
          "output_type": "stream",
          "name": "stdout",
          "text": [
            "1\n",
            "2\n",
            "3\n",
            "4\n"
          ]
        }
      ]
    },
    {
      "cell_type": "code",
      "source": [
        "import pandas as pd \n",
        "import numpy as np"
      ],
      "metadata": {
        "id": "Ocy6UGr6xtw_"
      },
      "execution_count": null,
      "outputs": []
    },
    {
      "cell_type": "code",
      "source": [
        "mi_dict= {'Luegar de residencia': ['Ar', 'Mx', 'Fr', 'Col', 'Irl'],\n",
        "                   'años': [18,20,11,88, 44],\n",
        "                   'trabajo': ['independiente','empresa privada', 'sector pub.', 'mixto', 'otros'],\n",
        "                   'sexo': ['female', 'male', np.nan, 'trans', 'binario']\n",
        "                 }\n"
      ],
      "metadata": {
        "id": "oMh_NnGBYuk-"
      },
      "execution_count": null,
      "outputs": []
    },
    {
      "cell_type": "markdown",
      "source": [
        "# DataFrame: para hacer un dataframe de un diccionario nuevo creado recordar poner los mismos elementos para cada llave, en caso de que usemos lista\n",
        "\n",
        "**Ejemplo: **\n",
        "si en la primer llave pongo lugar de residencia, y pongo 5 paises, lo demas tiene que tener 5 elementos, en caso de ausencia de dato poner np.nan (primero importar libreria numpy, como hicimos con la de pandas) "
      ],
      "metadata": {
        "id": "cXqAoBN_1wjh"
      }
    },
    {
      "cell_type": "code",
      "source": [
        "\n",
        "df = pd.DataFrame (mi_dict)\n",
        "df"
      ],
      "metadata": {
        "colab": {
          "base_uri": "https://localhost:8080/",
          "height": 206
        },
        "id": "7o1oo9cWx47z",
        "outputId": "3eeedab3-b6c1-49ea-cb7b-e46fa98072ec"
      },
      "execution_count": null,
      "outputs": [
        {
          "output_type": "execute_result",
          "data": {
            "text/html": [
              "\n",
              "  <div id=\"df-3bd4ea4b-e151-4321-bfcc-afe56e8d4c3b\">\n",
              "    <div class=\"colab-df-container\">\n",
              "      <div>\n",
              "<style scoped>\n",
              "    .dataframe tbody tr th:only-of-type {\n",
              "        vertical-align: middle;\n",
              "    }\n",
              "\n",
              "    .dataframe tbody tr th {\n",
              "        vertical-align: top;\n",
              "    }\n",
              "\n",
              "    .dataframe thead th {\n",
              "        text-align: right;\n",
              "    }\n",
              "</style>\n",
              "<table border=\"1\" class=\"dataframe\">\n",
              "  <thead>\n",
              "    <tr style=\"text-align: right;\">\n",
              "      <th></th>\n",
              "      <th>Luegar de residencia</th>\n",
              "      <th>años</th>\n",
              "      <th>trabajo</th>\n",
              "      <th>sexo</th>\n",
              "    </tr>\n",
              "  </thead>\n",
              "  <tbody>\n",
              "    <tr>\n",
              "      <th>0</th>\n",
              "      <td>Ar</td>\n",
              "      <td>18</td>\n",
              "      <td>independiente</td>\n",
              "      <td>female</td>\n",
              "    </tr>\n",
              "    <tr>\n",
              "      <th>1</th>\n",
              "      <td>Mx</td>\n",
              "      <td>20</td>\n",
              "      <td>empresa privada</td>\n",
              "      <td>male</td>\n",
              "    </tr>\n",
              "    <tr>\n",
              "      <th>2</th>\n",
              "      <td>Fr</td>\n",
              "      <td>11</td>\n",
              "      <td>sector pub.</td>\n",
              "      <td>NaN</td>\n",
              "    </tr>\n",
              "    <tr>\n",
              "      <th>3</th>\n",
              "      <td>Col</td>\n",
              "      <td>88</td>\n",
              "      <td>mixto</td>\n",
              "      <td>trans</td>\n",
              "    </tr>\n",
              "    <tr>\n",
              "      <th>4</th>\n",
              "      <td>Irl</td>\n",
              "      <td>44</td>\n",
              "      <td>otros</td>\n",
              "      <td>binario</td>\n",
              "    </tr>\n",
              "  </tbody>\n",
              "</table>\n",
              "</div>\n",
              "      <button class=\"colab-df-convert\" onclick=\"convertToInteractive('df-3bd4ea4b-e151-4321-bfcc-afe56e8d4c3b')\"\n",
              "              title=\"Convert this dataframe to an interactive table.\"\n",
              "              style=\"display:none;\">\n",
              "        \n",
              "  <svg xmlns=\"http://www.w3.org/2000/svg\" height=\"24px\"viewBox=\"0 0 24 24\"\n",
              "       width=\"24px\">\n",
              "    <path d=\"M0 0h24v24H0V0z\" fill=\"none\"/>\n",
              "    <path d=\"M18.56 5.44l.94 2.06.94-2.06 2.06-.94-2.06-.94-.94-2.06-.94 2.06-2.06.94zm-11 1L8.5 8.5l.94-2.06 2.06-.94-2.06-.94L8.5 2.5l-.94 2.06-2.06.94zm10 10l.94 2.06.94-2.06 2.06-.94-2.06-.94-.94-2.06-.94 2.06-2.06.94z\"/><path d=\"M17.41 7.96l-1.37-1.37c-.4-.4-.92-.59-1.43-.59-.52 0-1.04.2-1.43.59L10.3 9.45l-7.72 7.72c-.78.78-.78 2.05 0 2.83L4 21.41c.39.39.9.59 1.41.59.51 0 1.02-.2 1.41-.59l7.78-7.78 2.81-2.81c.8-.78.8-2.07 0-2.86zM5.41 20L4 18.59l7.72-7.72 1.47 1.35L5.41 20z\"/>\n",
              "  </svg>\n",
              "      </button>\n",
              "      \n",
              "  <style>\n",
              "    .colab-df-container {\n",
              "      display:flex;\n",
              "      flex-wrap:wrap;\n",
              "      gap: 12px;\n",
              "    }\n",
              "\n",
              "    .colab-df-convert {\n",
              "      background-color: #E8F0FE;\n",
              "      border: none;\n",
              "      border-radius: 50%;\n",
              "      cursor: pointer;\n",
              "      display: none;\n",
              "      fill: #1967D2;\n",
              "      height: 32px;\n",
              "      padding: 0 0 0 0;\n",
              "      width: 32px;\n",
              "    }\n",
              "\n",
              "    .colab-df-convert:hover {\n",
              "      background-color: #E2EBFA;\n",
              "      box-shadow: 0px 1px 2px rgba(60, 64, 67, 0.3), 0px 1px 3px 1px rgba(60, 64, 67, 0.15);\n",
              "      fill: #174EA6;\n",
              "    }\n",
              "\n",
              "    [theme=dark] .colab-df-convert {\n",
              "      background-color: #3B4455;\n",
              "      fill: #D2E3FC;\n",
              "    }\n",
              "\n",
              "    [theme=dark] .colab-df-convert:hover {\n",
              "      background-color: #434B5C;\n",
              "      box-shadow: 0px 1px 3px 1px rgba(0, 0, 0, 0.15);\n",
              "      filter: drop-shadow(0px 1px 2px rgba(0, 0, 0, 0.3));\n",
              "      fill: #FFFFFF;\n",
              "    }\n",
              "  </style>\n",
              "\n",
              "      <script>\n",
              "        const buttonEl =\n",
              "          document.querySelector('#df-3bd4ea4b-e151-4321-bfcc-afe56e8d4c3b button.colab-df-convert');\n",
              "        buttonEl.style.display =\n",
              "          google.colab.kernel.accessAllowed ? 'block' : 'none';\n",
              "\n",
              "        async function convertToInteractive(key) {\n",
              "          const element = document.querySelector('#df-3bd4ea4b-e151-4321-bfcc-afe56e8d4c3b');\n",
              "          const dataTable =\n",
              "            await google.colab.kernel.invokeFunction('convertToInteractive',\n",
              "                                                     [key], {});\n",
              "          if (!dataTable) return;\n",
              "\n",
              "          const docLinkHtml = 'Like what you see? Visit the ' +\n",
              "            '<a target=\"_blank\" href=https://colab.research.google.com/notebooks/data_table.ipynb>data table notebook</a>'\n",
              "            + ' to learn more about interactive tables.';\n",
              "          element.innerHTML = '';\n",
              "          dataTable['output_type'] = 'display_data';\n",
              "          await google.colab.output.renderOutput(dataTable, element);\n",
              "          const docLink = document.createElement('div');\n",
              "          docLink.innerHTML = docLinkHtml;\n",
              "          element.appendChild(docLink);\n",
              "        }\n",
              "      </script>\n",
              "    </div>\n",
              "  </div>\n",
              "  "
            ],
            "text/plain": [
              "  Luegar de residencia  años          trabajo     sexo\n",
              "0                   Ar    18    independiente   female\n",
              "1                   Mx    20  empresa privada     male\n",
              "2                   Fr    11      sector pub.      NaN\n",
              "3                  Col    88            mixto    trans\n",
              "4                  Irl    44            otros  binario"
            ]
          },
          "metadata": {},
          "execution_count": 32
        }
      ]
    },
    {
      "cell_type": "code",
      "source": [
        ""
      ],
      "metadata": {
        "id": "xqPC4fg8yLXF"
      },
      "execution_count": null,
      "outputs": []
    }
  ]
}