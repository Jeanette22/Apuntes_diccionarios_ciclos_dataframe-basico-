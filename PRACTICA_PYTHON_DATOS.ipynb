{
  "cells": [
    {
      "cell_type": "markdown",
      "metadata": {
        "id": "view-in-github",
        "colab_type": "text"
      },
      "source": [
        "<a href=\"https://colab.research.google.com/github/Jeanette22/Proyectos-de-datos-en-Colab/blob/Google-Colab--Poryectos/PRACTICA_PYTHON_DATOS.ipynb\" target=\"_parent\"><img src=\"https://colab.research.google.com/assets/colab-badge.svg\" alt=\"Open In Colab\"/></a>"
      ]
    },
    {
      "cell_type": "markdown",
      "metadata": {
        "id": "wDkPUQW8wSDv"
      },
      "source": [
        ""
      ]
    },
    {
      "cell_type": "markdown",
      "metadata": {
        "id": "w5nXHt0cwZxI"
      },
      "source": [
        "# Para usar Python sin librerias, y sin instalar el programa ✨"
      ]
    },
    {
      "cell_type": "code",
      "execution_count": null,
      "metadata": {
        "colab": {
          "background_save": true
        },
        "id": "o5dqRGvXuQZo"
      },
      "outputs": [],
      "source": [
        "a = 1+1  #se le asigna una variable "
      ]
    },
    {
      "cell_type": "code",
      "execution_count": null,
      "metadata": {
        "colab": {
          "background_save": true
        },
        "id": "QsDZJzVOuVdE"
      },
      "outputs": [],
      "source": [
        "b=\"hola mundo!\" #str con comillas a diferencia de los numeros "
      ]
    },
    {
      "cell_type": "code",
      "execution_count": null,
      "metadata": {
        "colab": {
          "background_save": true,
          "base_uri": "https://localhost:8080/"
        },
        "id": "2RL-TiRRuuO5",
        "outputId": "ba9827f4-f912-4906-b0ef-4e5ccdfe1d37"
      },
      "outputs": [
        {
          "data": {
            "text/plain": [
              "2"
            ]
          },
          "execution_count": null,
          "metadata": {},
          "output_type": "execute_result"
        }
      ],
      "source": [
        "a"
      ]
    },
    {
      "cell_type": "code",
      "execution_count": null,
      "metadata": {
        "colab": {
          "background_save": true,
          "base_uri": "https://localhost:8080/",
          "height": 35
        },
        "id": "YsQ1xYgtuvbV",
        "outputId": "c06bdc41-559f-430a-e6ab-b117ff340cef"
      },
      "outputs": [
        {
          "data": {
            "application/vnd.google.colaboratory.intrinsic+json": {
              "type": "string"
            },
            "text/plain": [
              "'hola mundo!'"
            ]
          },
          "execution_count": null,
          "metadata": {},
          "output_type": "execute_result"
        }
      ],
      "source": [
        "b"
      ]
    },
    {
      "cell_type": "code",
      "execution_count": null,
      "metadata": {
        "colab": {
          "background_save": true
        },
        "id": "_rUQPT2TuwSY"
      },
      "outputs": [],
      "source": [
        "import pandas as pd"
      ]
    },
    {
      "cell_type": "code",
      "execution_count": null,
      "metadata": {
        "colab": {
          "background_save": true
        },
        "id": "IJmMfz6px98o"
      },
      "outputs": [],
      "source": [
        "d_star_wars=pd.DataFrame({'personaje': ['Luke Skywaker', 'C-3PO', 'Darth Vader'], 'altura':[172, 167, 202]}) #CREACIÓN DE TABLA !!!"
      ]
    },
    {
      "cell_type": "code",
      "execution_count": null,
      "metadata": {
        "colab": {
          "background_save": true,
          "base_uri": "https://localhost:8080/",
          "height": 143
        },
        "id": "T1qbPB2Jx_T3",
        "outputId": "b83aeeb7-9664-4441-f520-177cdece8383"
      },
      "outputs": [
        {
          "data": {
            "text/html": [
              "\n",
              "  <div id=\"df-8b4a5382-f104-4d08-b866-61f6cacfff01\">\n",
              "    <div class=\"colab-df-container\">\n",
              "      <div>\n",
              "<style scoped>\n",
              "    .dataframe tbody tr th:only-of-type {\n",
              "        vertical-align: middle;\n",
              "    }\n",
              "\n",
              "    .dataframe tbody tr th {\n",
              "        vertical-align: top;\n",
              "    }\n",
              "\n",
              "    .dataframe thead th {\n",
              "        text-align: right;\n",
              "    }\n",
              "</style>\n",
              "<table border=\"1\" class=\"dataframe\">\n",
              "  <thead>\n",
              "    <tr style=\"text-align: right;\">\n",
              "      <th></th>\n",
              "      <th>personaje</th>\n",
              "      <th>altura</th>\n",
              "    </tr>\n",
              "  </thead>\n",
              "  <tbody>\n",
              "    <tr>\n",
              "      <th>0</th>\n",
              "      <td>Luke Skywaker</td>\n",
              "      <td>172</td>\n",
              "    </tr>\n",
              "    <tr>\n",
              "      <th>1</th>\n",
              "      <td>C-3PO</td>\n",
              "      <td>167</td>\n",
              "    </tr>\n",
              "    <tr>\n",
              "      <th>2</th>\n",
              "      <td>Darth Vader</td>\n",
              "      <td>202</td>\n",
              "    </tr>\n",
              "  </tbody>\n",
              "</table>\n",
              "</div>\n",
              "      <button class=\"colab-df-convert\" onclick=\"convertToInteractive('df-8b4a5382-f104-4d08-b866-61f6cacfff01')\"\n",
              "              title=\"Convert this dataframe to an interactive table.\"\n",
              "              style=\"display:none;\">\n",
              "        \n",
              "  <svg xmlns=\"http://www.w3.org/2000/svg\" height=\"24px\"viewBox=\"0 0 24 24\"\n",
              "       width=\"24px\">\n",
              "    <path d=\"M0 0h24v24H0V0z\" fill=\"none\"/>\n",
              "    <path d=\"M18.56 5.44l.94 2.06.94-2.06 2.06-.94-2.06-.94-.94-2.06-.94 2.06-2.06.94zm-11 1L8.5 8.5l.94-2.06 2.06-.94-2.06-.94L8.5 2.5l-.94 2.06-2.06.94zm10 10l.94 2.06.94-2.06 2.06-.94-2.06-.94-.94-2.06-.94 2.06-2.06.94z\"/><path d=\"M17.41 7.96l-1.37-1.37c-.4-.4-.92-.59-1.43-.59-.52 0-1.04.2-1.43.59L10.3 9.45l-7.72 7.72c-.78.78-.78 2.05 0 2.83L4 21.41c.39.39.9.59 1.41.59.51 0 1.02-.2 1.41-.59l7.78-7.78 2.81-2.81c.8-.78.8-2.07 0-2.86zM5.41 20L4 18.59l7.72-7.72 1.47 1.35L5.41 20z\"/>\n",
              "  </svg>\n",
              "      </button>\n",
              "      \n",
              "  <style>\n",
              "    .colab-df-container {\n",
              "      display:flex;\n",
              "      flex-wrap:wrap;\n",
              "      gap: 12px;\n",
              "    }\n",
              "\n",
              "    .colab-df-convert {\n",
              "      background-color: #E8F0FE;\n",
              "      border: none;\n",
              "      border-radius: 50%;\n",
              "      cursor: pointer;\n",
              "      display: none;\n",
              "      fill: #1967D2;\n",
              "      height: 32px;\n",
              "      padding: 0 0 0 0;\n",
              "      width: 32px;\n",
              "    }\n",
              "\n",
              "    .colab-df-convert:hover {\n",
              "      background-color: #E2EBFA;\n",
              "      box-shadow: 0px 1px 2px rgba(60, 64, 67, 0.3), 0px 1px 3px 1px rgba(60, 64, 67, 0.15);\n",
              "      fill: #174EA6;\n",
              "    }\n",
              "\n",
              "    [theme=dark] .colab-df-convert {\n",
              "      background-color: #3B4455;\n",
              "      fill: #D2E3FC;\n",
              "    }\n",
              "\n",
              "    [theme=dark] .colab-df-convert:hover {\n",
              "      background-color: #434B5C;\n",
              "      box-shadow: 0px 1px 3px 1px rgba(0, 0, 0, 0.15);\n",
              "      filter: drop-shadow(0px 1px 2px rgba(0, 0, 0, 0.3));\n",
              "      fill: #FFFFFF;\n",
              "    }\n",
              "  </style>\n",
              "\n",
              "      <script>\n",
              "        const buttonEl =\n",
              "          document.querySelector('#df-8b4a5382-f104-4d08-b866-61f6cacfff01 button.colab-df-convert');\n",
              "        buttonEl.style.display =\n",
              "          google.colab.kernel.accessAllowed ? 'block' : 'none';\n",
              "\n",
              "        async function convertToInteractive(key) {\n",
              "          const element = document.querySelector('#df-8b4a5382-f104-4d08-b866-61f6cacfff01');\n",
              "          const dataTable =\n",
              "            await google.colab.kernel.invokeFunction('convertToInteractive',\n",
              "                                                     [key], {});\n",
              "          if (!dataTable) return;\n",
              "\n",
              "          const docLinkHtml = 'Like what you see? Visit the ' +\n",
              "            '<a target=\"_blank\" href=https://colab.research.google.com/notebooks/data_table.ipynb>data table notebook</a>'\n",
              "            + ' to learn more about interactive tables.';\n",
              "          element.innerHTML = '';\n",
              "          dataTable['output_type'] = 'display_data';\n",
              "          await google.colab.output.renderOutput(dataTable, element);\n",
              "          const docLink = document.createElement('div');\n",
              "          docLink.innerHTML = docLinkHtml;\n",
              "          element.appendChild(docLink);\n",
              "        }\n",
              "      </script>\n",
              "    </div>\n",
              "  </div>\n",
              "  "
            ],
            "text/plain": [
              "       personaje  altura\n",
              "0  Luke Skywaker     172\n",
              "1          C-3PO     167\n",
              "2    Darth Vader     202"
            ]
          },
          "execution_count": null,
          "metadata": {},
          "output_type": "execute_result"
        }
      ],
      "source": [
        "d_star_wars"
      ]
    },
    {
      "cell_type": "code",
      "execution_count": null,
      "metadata": {
        "colab": {
          "background_save": true,
          "base_uri": "https://localhost:8080/"
        },
        "id": "5qy9h_XLyP7r",
        "outputId": "45da09c5-294e-4a43-b692-44c88d0884e3"
      },
      "outputs": [
        {
          "data": {
            "text/plain": [
              "personaje    object\n",
              "altura        int64\n",
              "dtype: object"
            ]
          },
          "execution_count": null,
          "metadata": {},
          "output_type": "execute_result"
        }
      ],
      "source": [
        "d_star_wars.dtypes #STR INT O DEC Cuando estemos trabajando en datos. Object representa una cadena de texto "
      ]
    },
    {
      "cell_type": "code",
      "execution_count": null,
      "metadata": {
        "colab": {
          "background_save": true
        },
        "id": "FtmlYnpRzwxa"
      },
      "outputs": [],
      "source": [
        "lista_personajes=['Luke Skywaker', 'C-3PO', 'Darth Vader'] #Creación de LISTAS"
      ]
    },
    {
      "cell_type": "code",
      "execution_count": null,
      "metadata": {
        "colab": {
          "background_save": true,
          "base_uri": "https://localhost:8080/"
        },
        "id": "YW4S4ZE00Cce",
        "outputId": "d8597ff8-92ad-454d-a4e7-763130635502"
      },
      "outputs": [
        {
          "data": {
            "text/plain": [
              "['Luke Skywaker', 'C-3PO', 'Darth Vader']"
            ]
          },
          "execution_count": null,
          "metadata": {},
          "output_type": "execute_result"
        }
      ],
      "source": [
        "lista_personajes"
      ]
    },
    {
      "cell_type": "code",
      "execution_count": null,
      "metadata": {
        "colab": {
          "background_save": true
        },
        "id": "GnYieTlc0D3s"
      },
      "outputs": [],
      "source": [
        "lista_altura=[172, 167, 202]"
      ]
    },
    {
      "cell_type": "code",
      "execution_count": null,
      "metadata": {
        "colab": {
          "background_save": true,
          "base_uri": "https://localhost:8080/"
        },
        "id": "zDLHsFG00HSC",
        "outputId": "964bd3a4-e827-46f7-9099-d3f352140838"
      },
      "outputs": [
        {
          "data": {
            "text/plain": [
              "[172, 167, 202]"
            ]
          },
          "execution_count": null,
          "metadata": {},
          "output_type": "execute_result"
        }
      ],
      "source": [
        "lista_altura"
      ]
    },
    {
      "cell_type": "code",
      "execution_count": null,
      "metadata": {
        "colab": {
          "background_save": true
        },
        "id": "EGwdj1GD0gGj"
      },
      "outputs": [],
      "source": [
        ""
      ]
    },
    {
      "cell_type": "markdown",
      "metadata": {
        "id": "4C4NYgOQ0i49"
      },
      "source": [
        "**Crear un DATAFRAME DESDE DOS LISTAS **"
      ]
    },
    {
      "cell_type": "code",
      "execution_count": null,
      "metadata": {
        "colab": {
          "background_save": true
        },
        "id": "PmfgfJLc0git"
      },
      "outputs": [],
      "source": [
        "# Crear un pandas dataframe basado en 2 listas #DICCIONARIO\n",
        "d_sw=pd.DataFrame({'personaje': lista_personajes,  \n",
        "                   'altura':lista_altura\n",
        "                  })"
      ]
    },
    {
      "cell_type": "code",
      "execution_count": null,
      "metadata": {
        "colab": {
          "background_save": true,
          "base_uri": "https://localhost:8080/",
          "height": 143
        },
        "id": "TykiMf9k0VgG",
        "outputId": "e7b9adb6-a510-4f09-ec9a-e522d6cc0a80"
      },
      "outputs": [
        {
          "data": {
            "text/html": [
              "\n",
              "  <div id=\"df-5678d3a7-a49e-4901-97d2-bfc6f524011e\">\n",
              "    <div class=\"colab-df-container\">\n",
              "      <div>\n",
              "<style scoped>\n",
              "    .dataframe tbody tr th:only-of-type {\n",
              "        vertical-align: middle;\n",
              "    }\n",
              "\n",
              "    .dataframe tbody tr th {\n",
              "        vertical-align: top;\n",
              "    }\n",
              "\n",
              "    .dataframe thead th {\n",
              "        text-align: right;\n",
              "    }\n",
              "</style>\n",
              "<table border=\"1\" class=\"dataframe\">\n",
              "  <thead>\n",
              "    <tr style=\"text-align: right;\">\n",
              "      <th></th>\n",
              "      <th>personaje</th>\n",
              "      <th>altura</th>\n",
              "    </tr>\n",
              "  </thead>\n",
              "  <tbody>\n",
              "    <tr>\n",
              "      <th>0</th>\n",
              "      <td>Luke Skywaker</td>\n",
              "      <td>172</td>\n",
              "    </tr>\n",
              "    <tr>\n",
              "      <th>1</th>\n",
              "      <td>C-3PO</td>\n",
              "      <td>167</td>\n",
              "    </tr>\n",
              "    <tr>\n",
              "      <th>2</th>\n",
              "      <td>Darth Vader</td>\n",
              "      <td>202</td>\n",
              "    </tr>\n",
              "  </tbody>\n",
              "</table>\n",
              "</div>\n",
              "      <button class=\"colab-df-convert\" onclick=\"convertToInteractive('df-5678d3a7-a49e-4901-97d2-bfc6f524011e')\"\n",
              "              title=\"Convert this dataframe to an interactive table.\"\n",
              "              style=\"display:none;\">\n",
              "        \n",
              "  <svg xmlns=\"http://www.w3.org/2000/svg\" height=\"24px\"viewBox=\"0 0 24 24\"\n",
              "       width=\"24px\">\n",
              "    <path d=\"M0 0h24v24H0V0z\" fill=\"none\"/>\n",
              "    <path d=\"M18.56 5.44l.94 2.06.94-2.06 2.06-.94-2.06-.94-.94-2.06-.94 2.06-2.06.94zm-11 1L8.5 8.5l.94-2.06 2.06-.94-2.06-.94L8.5 2.5l-.94 2.06-2.06.94zm10 10l.94 2.06.94-2.06 2.06-.94-2.06-.94-.94-2.06-.94 2.06-2.06.94z\"/><path d=\"M17.41 7.96l-1.37-1.37c-.4-.4-.92-.59-1.43-.59-.52 0-1.04.2-1.43.59L10.3 9.45l-7.72 7.72c-.78.78-.78 2.05 0 2.83L4 21.41c.39.39.9.59 1.41.59.51 0 1.02-.2 1.41-.59l7.78-7.78 2.81-2.81c.8-.78.8-2.07 0-2.86zM5.41 20L4 18.59l7.72-7.72 1.47 1.35L5.41 20z\"/>\n",
              "  </svg>\n",
              "      </button>\n",
              "      \n",
              "  <style>\n",
              "    .colab-df-container {\n",
              "      display:flex;\n",
              "      flex-wrap:wrap;\n",
              "      gap: 12px;\n",
              "    }\n",
              "\n",
              "    .colab-df-convert {\n",
              "      background-color: #E8F0FE;\n",
              "      border: none;\n",
              "      border-radius: 50%;\n",
              "      cursor: pointer;\n",
              "      display: none;\n",
              "      fill: #1967D2;\n",
              "      height: 32px;\n",
              "      padding: 0 0 0 0;\n",
              "      width: 32px;\n",
              "    }\n",
              "\n",
              "    .colab-df-convert:hover {\n",
              "      background-color: #E2EBFA;\n",
              "      box-shadow: 0px 1px 2px rgba(60, 64, 67, 0.3), 0px 1px 3px 1px rgba(60, 64, 67, 0.15);\n",
              "      fill: #174EA6;\n",
              "    }\n",
              "\n",
              "    [theme=dark] .colab-df-convert {\n",
              "      background-color: #3B4455;\n",
              "      fill: #D2E3FC;\n",
              "    }\n",
              "\n",
              "    [theme=dark] .colab-df-convert:hover {\n",
              "      background-color: #434B5C;\n",
              "      box-shadow: 0px 1px 3px 1px rgba(0, 0, 0, 0.15);\n",
              "      filter: drop-shadow(0px 1px 2px rgba(0, 0, 0, 0.3));\n",
              "      fill: #FFFFFF;\n",
              "    }\n",
              "  </style>\n",
              "\n",
              "      <script>\n",
              "        const buttonEl =\n",
              "          document.querySelector('#df-5678d3a7-a49e-4901-97d2-bfc6f524011e button.colab-df-convert');\n",
              "        buttonEl.style.display =\n",
              "          google.colab.kernel.accessAllowed ? 'block' : 'none';\n",
              "\n",
              "        async function convertToInteractive(key) {\n",
              "          const element = document.querySelector('#df-5678d3a7-a49e-4901-97d2-bfc6f524011e');\n",
              "          const dataTable =\n",
              "            await google.colab.kernel.invokeFunction('convertToInteractive',\n",
              "                                                     [key], {});\n",
              "          if (!dataTable) return;\n",
              "\n",
              "          const docLinkHtml = 'Like what you see? Visit the ' +\n",
              "            '<a target=\"_blank\" href=https://colab.research.google.com/notebooks/data_table.ipynb>data table notebook</a>'\n",
              "            + ' to learn more about interactive tables.';\n",
              "          element.innerHTML = '';\n",
              "          dataTable['output_type'] = 'display_data';\n",
              "          await google.colab.output.renderOutput(dataTable, element);\n",
              "          const docLink = document.createElement('div');\n",
              "          docLink.innerHTML = docLinkHtml;\n",
              "          element.appendChild(docLink);\n",
              "        }\n",
              "      </script>\n",
              "    </div>\n",
              "  </div>\n",
              "  "
            ],
            "text/plain": [
              "       personaje  altura\n",
              "0  Luke Skywaker     172\n",
              "1          C-3PO     167\n",
              "2    Darth Vader     202"
            ]
          },
          "execution_count": null,
          "metadata": {},
          "output_type": "execute_result"
        }
      ],
      "source": [
        "d_sw"
      ]
    },
    {
      "cell_type": "code",
      "execution_count": null,
      "metadata": {
        "colab": {
          "background_save": true
        },
        "id": "W_ORu10R0Yh4"
      },
      "outputs": [],
      "source": [
        ""
      ]
    },
    {
      "cell_type": "markdown",
      "metadata": {
        "id": "rTHtU8XD5iZ7"
      },
      "source": [
        "**Filtrar datos en pandas. La lógica de la notación vectorial.**"
      ]
    },
    {
      "cell_type": "code",
      "execution_count": null,
      "metadata": {
        "colab": {
          "background_save": true,
          "base_uri": "https://localhost:8080/",
          "height": 143
        },
        "id": "tY2gHHwG5nxb",
        "outputId": "23fa7930-1983-45df-858f-b6bbdf2cb79c"
      },
      "outputs": [
        {
          "data": {
            "text/html": [
              "\n",
              "  <div id=\"df-61c947ac-95bf-49b5-b210-fd1ae8a8382e\">\n",
              "    <div class=\"colab-df-container\">\n",
              "      <div>\n",
              "<style scoped>\n",
              "    .dataframe tbody tr th:only-of-type {\n",
              "        vertical-align: middle;\n",
              "    }\n",
              "\n",
              "    .dataframe tbody tr th {\n",
              "        vertical-align: top;\n",
              "    }\n",
              "\n",
              "    .dataframe thead th {\n",
              "        text-align: right;\n",
              "    }\n",
              "</style>\n",
              "<table border=\"1\" class=\"dataframe\">\n",
              "  <thead>\n",
              "    <tr style=\"text-align: right;\">\n",
              "      <th></th>\n",
              "      <th>personaje</th>\n",
              "      <th>altura</th>\n",
              "    </tr>\n",
              "  </thead>\n",
              "  <tbody>\n",
              "    <tr>\n",
              "      <th>0</th>\n",
              "      <td>Luke Skywaker</td>\n",
              "      <td>172</td>\n",
              "    </tr>\n",
              "    <tr>\n",
              "      <th>1</th>\n",
              "      <td>C-3PO</td>\n",
              "      <td>167</td>\n",
              "    </tr>\n",
              "    <tr>\n",
              "      <th>2</th>\n",
              "      <td>Darth Vader</td>\n",
              "      <td>202</td>\n",
              "    </tr>\n",
              "  </tbody>\n",
              "</table>\n",
              "</div>\n",
              "      <button class=\"colab-df-convert\" onclick=\"convertToInteractive('df-61c947ac-95bf-49b5-b210-fd1ae8a8382e')\"\n",
              "              title=\"Convert this dataframe to an interactive table.\"\n",
              "              style=\"display:none;\">\n",
              "        \n",
              "  <svg xmlns=\"http://www.w3.org/2000/svg\" height=\"24px\"viewBox=\"0 0 24 24\"\n",
              "       width=\"24px\">\n",
              "    <path d=\"M0 0h24v24H0V0z\" fill=\"none\"/>\n",
              "    <path d=\"M18.56 5.44l.94 2.06.94-2.06 2.06-.94-2.06-.94-.94-2.06-.94 2.06-2.06.94zm-11 1L8.5 8.5l.94-2.06 2.06-.94-2.06-.94L8.5 2.5l-.94 2.06-2.06.94zm10 10l.94 2.06.94-2.06 2.06-.94-2.06-.94-.94-2.06-.94 2.06-2.06.94z\"/><path d=\"M17.41 7.96l-1.37-1.37c-.4-.4-.92-.59-1.43-.59-.52 0-1.04.2-1.43.59L10.3 9.45l-7.72 7.72c-.78.78-.78 2.05 0 2.83L4 21.41c.39.39.9.59 1.41.59.51 0 1.02-.2 1.41-.59l7.78-7.78 2.81-2.81c.8-.78.8-2.07 0-2.86zM5.41 20L4 18.59l7.72-7.72 1.47 1.35L5.41 20z\"/>\n",
              "  </svg>\n",
              "      </button>\n",
              "      \n",
              "  <style>\n",
              "    .colab-df-container {\n",
              "      display:flex;\n",
              "      flex-wrap:wrap;\n",
              "      gap: 12px;\n",
              "    }\n",
              "\n",
              "    .colab-df-convert {\n",
              "      background-color: #E8F0FE;\n",
              "      border: none;\n",
              "      border-radius: 50%;\n",
              "      cursor: pointer;\n",
              "      display: none;\n",
              "      fill: #1967D2;\n",
              "      height: 32px;\n",
              "      padding: 0 0 0 0;\n",
              "      width: 32px;\n",
              "    }\n",
              "\n",
              "    .colab-df-convert:hover {\n",
              "      background-color: #E2EBFA;\n",
              "      box-shadow: 0px 1px 2px rgba(60, 64, 67, 0.3), 0px 1px 3px 1px rgba(60, 64, 67, 0.15);\n",
              "      fill: #174EA6;\n",
              "    }\n",
              "\n",
              "    [theme=dark] .colab-df-convert {\n",
              "      background-color: #3B4455;\n",
              "      fill: #D2E3FC;\n",
              "    }\n",
              "\n",
              "    [theme=dark] .colab-df-convert:hover {\n",
              "      background-color: #434B5C;\n",
              "      box-shadow: 0px 1px 3px 1px rgba(0, 0, 0, 0.15);\n",
              "      filter: drop-shadow(0px 1px 2px rgba(0, 0, 0, 0.3));\n",
              "      fill: #FFFFFF;\n",
              "    }\n",
              "  </style>\n",
              "\n",
              "      <script>\n",
              "        const buttonEl =\n",
              "          document.querySelector('#df-61c947ac-95bf-49b5-b210-fd1ae8a8382e button.colab-df-convert');\n",
              "        buttonEl.style.display =\n",
              "          google.colab.kernel.accessAllowed ? 'block' : 'none';\n",
              "\n",
              "        async function convertToInteractive(key) {\n",
              "          const element = document.querySelector('#df-61c947ac-95bf-49b5-b210-fd1ae8a8382e');\n",
              "          const dataTable =\n",
              "            await google.colab.kernel.invokeFunction('convertToInteractive',\n",
              "                                                     [key], {});\n",
              "          if (!dataTable) return;\n",
              "\n",
              "          const docLinkHtml = 'Like what you see? Visit the ' +\n",
              "            '<a target=\"_blank\" href=https://colab.research.google.com/notebooks/data_table.ipynb>data table notebook</a>'\n",
              "            + ' to learn more about interactive tables.';\n",
              "          element.innerHTML = '';\n",
              "          dataTable['output_type'] = 'display_data';\n",
              "          await google.colab.output.renderOutput(dataTable, element);\n",
              "          const docLink = document.createElement('div');\n",
              "          docLink.innerHTML = docLinkHtml;\n",
              "          element.appendChild(docLink);\n",
              "        }\n",
              "      </script>\n",
              "    </div>\n",
              "  </div>\n",
              "  "
            ],
            "text/plain": [
              "       personaje  altura\n",
              "0  Luke Skywaker     172\n",
              "1          C-3PO     167\n",
              "2    Darth Vader     202"
            ]
          },
          "execution_count": null,
          "metadata": {},
          "output_type": "execute_result"
        }
      ],
      "source": [
        "d_star_wars"
      ]
    },
    {
      "cell_type": "code",
      "execution_count": null,
      "metadata": {
        "colab": {
          "background_save": true,
          "base_uri": "https://localhost:8080/"
        },
        "id": "ke8dxd_85rjt",
        "outputId": "ef1d4a66-8737-446d-8489-e21913e833c4"
      },
      "outputs": [
        {
          "data": {
            "text/plain": [
              "0    Luke Skywaker\n",
              "1            C-3PO\n",
              "2      Darth Vader\n",
              "Name: personaje, dtype: object"
            ]
          },
          "execution_count": null,
          "metadata": {},
          "output_type": "execute_result"
        }
      ],
      "source": [
        "d_star_wars['personaje'] #filtrar una Columna "
      ]
    },
    {
      "cell_type": "code",
      "execution_count": null,
      "metadata": {
        "colab": {
          "background_save": true,
          "base_uri": "https://localhost:8080/"
        },
        "id": "grJv-wlK54cc",
        "outputId": "964324d3-db02-4469-9ac5-ae2101353f46"
      },
      "outputs": [
        {
          "data": {
            "text/plain": [
              "0    Luke Skywaker\n",
              "1            C-3PO\n",
              "2      Darth Vader\n",
              "Name: personaje, dtype: object"
            ]
          },
          "execution_count": null,
          "metadata": {},
          "output_type": "execute_result"
        }
      ],
      "source": [
        "# d_star_wars.iloc[indice de fila/ indice de columna] PARA NOTACIONES MATRICIALES\n",
        "d_star_wars.iloc[:, 0] # los dos puntos simboliza los slides (toda la fila)"
      ]
    },
    {
      "cell_type": "code",
      "execution_count": null,
      "metadata": {
        "colab": {
          "background_save": true,
          "base_uri": "https://localhost:8080/"
        },
        "id": "i2-gCQTv6GbA",
        "outputId": "9bdca957-42a5-47b3-afec-3cd16173f05f"
      },
      "outputs": [
        {
          "data": {
            "text/plain": [
              "personaje    Luke Skywaker\n",
              "altura                 172\n",
              "Name: 0, dtype: object"
            ]
          },
          "execution_count": null,
          "metadata": {},
          "output_type": "execute_result"
        }
      ],
      "source": [
        "d_star_wars.iloc[0, :] #Muestra toda la info de la columna 0 "
      ]
    },
    {
      "cell_type": "code",
      "execution_count": null,
      "metadata": {
        "colab": {
          "background_save": true,
          "base_uri": "https://localhost:8080/"
        },
        "id": "pb-YszFf6qvN",
        "outputId": "acf8aa24-6ee6-40ae-8116-215f8c19a3d4"
      },
      "outputs": [
        {
          "data": {
            "text/plain": [
              "0    Luke Skywaker\n",
              "1            C-3PO\n",
              "2      Darth Vader\n",
              "Name: personaje, dtype: object"
            ]
          },
          "execution_count": null,
          "metadata": {},
          "output_type": "execute_result"
        }
      ],
      "source": [
        "d_star_wars.loc[:, 'personaje'] # OTRA FORMA DE ACCEDER USANDO .LOC, Se pone Columna, en vez de : es equivalente a: d_star_wars.iloc[:, 0] "
      ]
    },
    {
      "cell_type": "code",
      "execution_count": null,
      "metadata": {
        "colab": {
          "background_save": true,
          "base_uri": "https://localhost:8080/"
        },
        "id": "jiV2E3CK7UGg",
        "outputId": "e62444e5-061a-48dc-bfa6-1425bfc65f51"
      },
      "outputs": [
        {
          "data": {
            "text/plain": [
              "Index(['personaje', 'altura'], dtype='object')"
            ]
          },
          "execution_count": null,
          "metadata": {},
          "output_type": "execute_result"
        }
      ],
      "source": [
        "# índices para las columnas: #VER INDICES DE COLUMNAS\n",
        "d_star_wars.columns"
      ]
    },
    {
      "cell_type": "code",
      "execution_count": null,
      "metadata": {
        "colab": {
          "background_save": true,
          "base_uri": "https://localhost:8080/"
        },
        "id": "1eBmK4NE7gFz",
        "outputId": "bbb1c29c-3eb0-44fd-cb2a-c7e2da0c9769"
      },
      "outputs": [
        {
          "data": {
            "text/plain": [
              "[0, 1, 2]"
            ]
          },
          "execution_count": null,
          "metadata": {},
          "output_type": "execute_result"
        }
      ],
      "source": [
        "# índices de los registros\n",
        "list(d_star_wars.index) #Hacemos Lista los indices numeros "
      ]
    },
    {
      "cell_type": "code",
      "execution_count": null,
      "metadata": {
        "colab": {
          "background_save": true,
          "base_uri": "https://localhost:8080/"
        },
        "id": "rSIMgXpp7kvT",
        "outputId": "8b2681e7-4e64-4255-cdf2-4deb3e79993a"
      },
      "outputs": [
        {
          "data": {
            "text/plain": [
              "personaje    Luke Skywaker\n",
              "altura                 172\n",
              "Name: 0, dtype: object"
            ]
          },
          "execution_count": null,
          "metadata": {},
          "output_type": "execute_result"
        }
      ],
      "source": [
        "d_star_wars.loc[0, :] # es equivalente: d_star_wars.iloc[0, :] (porque el índice 0 es la posición y el nombre)\n"
      ]
    },
    {
      "cell_type": "code",
      "execution_count": null,
      "metadata": {
        "colab": {
          "background_save": true,
          "base_uri": "https://localhost:8080/"
        },
        "id": "NDN9lnec8Oxa",
        "outputId": "30d8c68f-5375-450b-a83f-441edc827811"
      },
      "outputs": [
        {
          "data": {
            "text/plain": [
              "172"
            ]
          },
          "execution_count": null,
          "metadata": {},
          "output_type": "execute_result"
        }
      ],
      "source": [
        "# acceder a 1 elemento CON LOC \n",
        "d_star_wars.loc[0, 'altura'] "
      ]
    },
    {
      "cell_type": "code",
      "execution_count": null,
      "metadata": {
        "colab": {
          "background_save": true
        },
        "id": "d-o068A58fJd",
        "outputId": "0bf3360a-f5fe-4be1-add3-0d2e7c937833"
      },
      "outputs": [
        {
          "data": {
            "text/plain": [
              "167"
            ]
          },
          "execution_count": null,
          "metadata": {},
          "output_type": "execute_result"
        }
      ],
      "source": [
        "d_star_wars.loc[1, 'altura'] "
      ]
    },
    {
      "cell_type": "code",
      "execution_count": null,
      "metadata": {
        "colab": {
          "background_save": true
        },
        "id": "8-lev0W_8nJP"
      },
      "outputs": [],
      "source": [
        ""
      ]
    },
    {
      "cell_type": "markdown",
      "metadata": {
        "id": "VJvW8U0d860h"
      },
      "source": [
        "**¿Cómo reemplazar valores en pandas data frame basado en una condición?**"
      ]
    },
    {
      "cell_type": "code",
      "execution_count": null,
      "metadata": {
        "colab": {
          "background_save": true
        },
        "id": "kR52JgZq88gE"
      },
      "outputs": [],
      "source": [
        ""
      ]
    },
    {
      "cell_type": "markdown",
      "metadata": {
        "id": "rjWOvJVSBMLU"
      },
      "source": [
        "![](https://shanelynnwebsite-mid9n9g1q9y8tt.netdna-ssl.com/wp-content/uploads/2016/10/Pandas-selections-and-indexing-768x549.png)"
      ]
    },
    {
      "cell_type": "code",
      "execution_count": null,
      "metadata": {
        "colab": {
          "background_save": true,
          "base_uri": "https://localhost:8080/",
          "height": 143
        },
        "id": "FlqfXCRMBuHj",
        "outputId": "5f5df7db-ae21-4dc6-b06f-fc1990f541de"
      },
      "outputs": [
        {
          "data": {
            "text/html": [
              "\n",
              "  <div id=\"df-f1ada11c-67ef-46d0-a6f0-5431f010b43a\">\n",
              "    <div class=\"colab-df-container\">\n",
              "      <div>\n",
              "<style scoped>\n",
              "    .dataframe tbody tr th:only-of-type {\n",
              "        vertical-align: middle;\n",
              "    }\n",
              "\n",
              "    .dataframe tbody tr th {\n",
              "        vertical-align: top;\n",
              "    }\n",
              "\n",
              "    .dataframe thead th {\n",
              "        text-align: right;\n",
              "    }\n",
              "</style>\n",
              "<table border=\"1\" class=\"dataframe\">\n",
              "  <thead>\n",
              "    <tr style=\"text-align: right;\">\n",
              "      <th></th>\n",
              "      <th>personaje</th>\n",
              "      <th>altura</th>\n",
              "    </tr>\n",
              "  </thead>\n",
              "  <tbody>\n",
              "    <tr>\n",
              "      <th>0</th>\n",
              "      <td>Luke Skywaker</td>\n",
              "      <td>172</td>\n",
              "    </tr>\n",
              "    <tr>\n",
              "      <th>1</th>\n",
              "      <td>C-3PO</td>\n",
              "      <td>167</td>\n",
              "    </tr>\n",
              "    <tr>\n",
              "      <th>2</th>\n",
              "      <td>Darth Vader</td>\n",
              "      <td>202</td>\n",
              "    </tr>\n",
              "  </tbody>\n",
              "</table>\n",
              "</div>\n",
              "      <button class=\"colab-df-convert\" onclick=\"convertToInteractive('df-f1ada11c-67ef-46d0-a6f0-5431f010b43a')\"\n",
              "              title=\"Convert this dataframe to an interactive table.\"\n",
              "              style=\"display:none;\">\n",
              "        \n",
              "  <svg xmlns=\"http://www.w3.org/2000/svg\" height=\"24px\"viewBox=\"0 0 24 24\"\n",
              "       width=\"24px\">\n",
              "    <path d=\"M0 0h24v24H0V0z\" fill=\"none\"/>\n",
              "    <path d=\"M18.56 5.44l.94 2.06.94-2.06 2.06-.94-2.06-.94-.94-2.06-.94 2.06-2.06.94zm-11 1L8.5 8.5l.94-2.06 2.06-.94-2.06-.94L8.5 2.5l-.94 2.06-2.06.94zm10 10l.94 2.06.94-2.06 2.06-.94-2.06-.94-.94-2.06-.94 2.06-2.06.94z\"/><path d=\"M17.41 7.96l-1.37-1.37c-.4-.4-.92-.59-1.43-.59-.52 0-1.04.2-1.43.59L10.3 9.45l-7.72 7.72c-.78.78-.78 2.05 0 2.83L4 21.41c.39.39.9.59 1.41.59.51 0 1.02-.2 1.41-.59l7.78-7.78 2.81-2.81c.8-.78.8-2.07 0-2.86zM5.41 20L4 18.59l7.72-7.72 1.47 1.35L5.41 20z\"/>\n",
              "  </svg>\n",
              "      </button>\n",
              "      \n",
              "  <style>\n",
              "    .colab-df-container {\n",
              "      display:flex;\n",
              "      flex-wrap:wrap;\n",
              "      gap: 12px;\n",
              "    }\n",
              "\n",
              "    .colab-df-convert {\n",
              "      background-color: #E8F0FE;\n",
              "      border: none;\n",
              "      border-radius: 50%;\n",
              "      cursor: pointer;\n",
              "      display: none;\n",
              "      fill: #1967D2;\n",
              "      height: 32px;\n",
              "      padding: 0 0 0 0;\n",
              "      width: 32px;\n",
              "    }\n",
              "\n",
              "    .colab-df-convert:hover {\n",
              "      background-color: #E2EBFA;\n",
              "      box-shadow: 0px 1px 2px rgba(60, 64, 67, 0.3), 0px 1px 3px 1px rgba(60, 64, 67, 0.15);\n",
              "      fill: #174EA6;\n",
              "    }\n",
              "\n",
              "    [theme=dark] .colab-df-convert {\n",
              "      background-color: #3B4455;\n",
              "      fill: #D2E3FC;\n",
              "    }\n",
              "\n",
              "    [theme=dark] .colab-df-convert:hover {\n",
              "      background-color: #434B5C;\n",
              "      box-shadow: 0px 1px 3px 1px rgba(0, 0, 0, 0.15);\n",
              "      filter: drop-shadow(0px 1px 2px rgba(0, 0, 0, 0.3));\n",
              "      fill: #FFFFFF;\n",
              "    }\n",
              "  </style>\n",
              "\n",
              "      <script>\n",
              "        const buttonEl =\n",
              "          document.querySelector('#df-f1ada11c-67ef-46d0-a6f0-5431f010b43a button.colab-df-convert');\n",
              "        buttonEl.style.display =\n",
              "          google.colab.kernel.accessAllowed ? 'block' : 'none';\n",
              "\n",
              "        async function convertToInteractive(key) {\n",
              "          const element = document.querySelector('#df-f1ada11c-67ef-46d0-a6f0-5431f010b43a');\n",
              "          const dataTable =\n",
              "            await google.colab.kernel.invokeFunction('convertToInteractive',\n",
              "                                                     [key], {});\n",
              "          if (!dataTable) return;\n",
              "\n",
              "          const docLinkHtml = 'Like what you see? Visit the ' +\n",
              "            '<a target=\"_blank\" href=https://colab.research.google.com/notebooks/data_table.ipynb>data table notebook</a>'\n",
              "            + ' to learn more about interactive tables.';\n",
              "          element.innerHTML = '';\n",
              "          dataTable['output_type'] = 'display_data';\n",
              "          await google.colab.output.renderOutput(dataTable, element);\n",
              "          const docLink = document.createElement('div');\n",
              "          docLink.innerHTML = docLinkHtml;\n",
              "          element.appendChild(docLink);\n",
              "        }\n",
              "      </script>\n",
              "    </div>\n",
              "  </div>\n",
              "  "
            ],
            "text/plain": [
              "       personaje  altura\n",
              "0  Luke Skywaker     172\n",
              "1          C-3PO     167\n",
              "2    Darth Vader     202"
            ]
          },
          "execution_count": null,
          "metadata": {},
          "output_type": "execute_result"
        }
      ],
      "source": [
        "d_star_wars"
      ]
    },
    {
      "cell_type": "code",
      "execution_count": null,
      "metadata": {
        "colab": {
          "background_save": true,
          "base_uri": "https://localhost:8080/"
        },
        "id": "oZAVaJClByhO",
        "outputId": "583fb601-e343-4dc5-b9e5-2bcfa92fc540"
      },
      "outputs": [
        {
          "data": {
            "text/plain": [
              "0    Luke Skywaker\n",
              "1            C-3PO\n",
              "Name: personaje, dtype: object"
            ]
          },
          "execution_count": null,
          "metadata": {},
          "output_type": "execute_result"
        }
      ],
      "source": [
        "d_star_wars.iloc[0:2, 0] #SLICES  #PARA VER LOS DOS PRIMEROS REGISTROS "
      ]
    },
    {
      "cell_type": "code",
      "execution_count": null,
      "metadata": {
        "colab": {
          "background_save": true,
          "base_uri": "https://localhost:8080/",
          "height": 143
        },
        "id": "5WGUREVYB7Zv",
        "outputId": "39f0081d-c772-4bb2-b06f-2ce432ecc174"
      },
      "outputs": [
        {
          "data": {
            "text/html": [
              "\n",
              "  <div id=\"df-9db324a4-b2c0-44eb-bb40-ed4e38ca34ba\">\n",
              "    <div class=\"colab-df-container\">\n",
              "      <div>\n",
              "<style scoped>\n",
              "    .dataframe tbody tr th:only-of-type {\n",
              "        vertical-align: middle;\n",
              "    }\n",
              "\n",
              "    .dataframe tbody tr th {\n",
              "        vertical-align: top;\n",
              "    }\n",
              "\n",
              "    .dataframe thead th {\n",
              "        text-align: right;\n",
              "    }\n",
              "</style>\n",
              "<table border=\"1\" class=\"dataframe\">\n",
              "  <thead>\n",
              "    <tr style=\"text-align: right;\">\n",
              "      <th></th>\n",
              "      <th>personaje</th>\n",
              "      <th>altura</th>\n",
              "    </tr>\n",
              "  </thead>\n",
              "  <tbody>\n",
              "    <tr>\n",
              "      <th>0</th>\n",
              "      <td>Luke Skywaker</td>\n",
              "      <td>172</td>\n",
              "    </tr>\n",
              "    <tr>\n",
              "      <th>1</th>\n",
              "      <td>C-3PO</td>\n",
              "      <td>167</td>\n",
              "    </tr>\n",
              "    <tr>\n",
              "      <th>2</th>\n",
              "      <td>Darth Vader</td>\n",
              "      <td>202</td>\n",
              "    </tr>\n",
              "  </tbody>\n",
              "</table>\n",
              "</div>\n",
              "      <button class=\"colab-df-convert\" onclick=\"convertToInteractive('df-9db324a4-b2c0-44eb-bb40-ed4e38ca34ba')\"\n",
              "              title=\"Convert this dataframe to an interactive table.\"\n",
              "              style=\"display:none;\">\n",
              "        \n",
              "  <svg xmlns=\"http://www.w3.org/2000/svg\" height=\"24px\"viewBox=\"0 0 24 24\"\n",
              "       width=\"24px\">\n",
              "    <path d=\"M0 0h24v24H0V0z\" fill=\"none\"/>\n",
              "    <path d=\"M18.56 5.44l.94 2.06.94-2.06 2.06-.94-2.06-.94-.94-2.06-.94 2.06-2.06.94zm-11 1L8.5 8.5l.94-2.06 2.06-.94-2.06-.94L8.5 2.5l-.94 2.06-2.06.94zm10 10l.94 2.06.94-2.06 2.06-.94-2.06-.94-.94-2.06-.94 2.06-2.06.94z\"/><path d=\"M17.41 7.96l-1.37-1.37c-.4-.4-.92-.59-1.43-.59-.52 0-1.04.2-1.43.59L10.3 9.45l-7.72 7.72c-.78.78-.78 2.05 0 2.83L4 21.41c.39.39.9.59 1.41.59.51 0 1.02-.2 1.41-.59l7.78-7.78 2.81-2.81c.8-.78.8-2.07 0-2.86zM5.41 20L4 18.59l7.72-7.72 1.47 1.35L5.41 20z\"/>\n",
              "  </svg>\n",
              "      </button>\n",
              "      \n",
              "  <style>\n",
              "    .colab-df-container {\n",
              "      display:flex;\n",
              "      flex-wrap:wrap;\n",
              "      gap: 12px;\n",
              "    }\n",
              "\n",
              "    .colab-df-convert {\n",
              "      background-color: #E8F0FE;\n",
              "      border: none;\n",
              "      border-radius: 50%;\n",
              "      cursor: pointer;\n",
              "      display: none;\n",
              "      fill: #1967D2;\n",
              "      height: 32px;\n",
              "      padding: 0 0 0 0;\n",
              "      width: 32px;\n",
              "    }\n",
              "\n",
              "    .colab-df-convert:hover {\n",
              "      background-color: #E2EBFA;\n",
              "      box-shadow: 0px 1px 2px rgba(60, 64, 67, 0.3), 0px 1px 3px 1px rgba(60, 64, 67, 0.15);\n",
              "      fill: #174EA6;\n",
              "    }\n",
              "\n",
              "    [theme=dark] .colab-df-convert {\n",
              "      background-color: #3B4455;\n",
              "      fill: #D2E3FC;\n",
              "    }\n",
              "\n",
              "    [theme=dark] .colab-df-convert:hover {\n",
              "      background-color: #434B5C;\n",
              "      box-shadow: 0px 1px 3px 1px rgba(0, 0, 0, 0.15);\n",
              "      filter: drop-shadow(0px 1px 2px rgba(0, 0, 0, 0.3));\n",
              "      fill: #FFFFFF;\n",
              "    }\n",
              "  </style>\n",
              "\n",
              "      <script>\n",
              "        const buttonEl =\n",
              "          document.querySelector('#df-9db324a4-b2c0-44eb-bb40-ed4e38ca34ba button.colab-df-convert');\n",
              "        buttonEl.style.display =\n",
              "          google.colab.kernel.accessAllowed ? 'block' : 'none';\n",
              "\n",
              "        async function convertToInteractive(key) {\n",
              "          const element = document.querySelector('#df-9db324a4-b2c0-44eb-bb40-ed4e38ca34ba');\n",
              "          const dataTable =\n",
              "            await google.colab.kernel.invokeFunction('convertToInteractive',\n",
              "                                                     [key], {});\n",
              "          if (!dataTable) return;\n",
              "\n",
              "          const docLinkHtml = 'Like what you see? Visit the ' +\n",
              "            '<a target=\"_blank\" href=https://colab.research.google.com/notebooks/data_table.ipynb>data table notebook</a>'\n",
              "            + ' to learn more about interactive tables.';\n",
              "          element.innerHTML = '';\n",
              "          dataTable['output_type'] = 'display_data';\n",
              "          await google.colab.output.renderOutput(dataTable, element);\n",
              "          const docLink = document.createElement('div');\n",
              "          docLink.innerHTML = docLinkHtml;\n",
              "          element.appendChild(docLink);\n",
              "        }\n",
              "      </script>\n",
              "    </div>\n",
              "  </div>\n",
              "  "
            ],
            "text/plain": [
              "       personaje  altura\n",
              "0  Luke Skywaker     172\n",
              "1          C-3PO     167\n",
              "2    Darth Vader     202"
            ]
          },
          "execution_count": null,
          "metadata": {},
          "output_type": "execute_result"
        }
      ],
      "source": [
        "# nos devuelve todo PORQUE ES UN DATAFRAME CHICA \n",
        "d_star_wars.iloc[0:3, 0:2]"
      ]
    },
    {
      "cell_type": "code",
      "execution_count": null,
      "metadata": {
        "colab": {
          "background_save": true
        },
        "id": "WD-IjJu2COyh"
      },
      "outputs": [],
      "source": [
        ""
      ]
    },
    {
      "cell_type": "markdown",
      "metadata": {
        "id": "Y39mpjfVL_yh"
      },
      "source": [
        "#REEMPLAZAR VALORES "
      ]
    },
    {
      "cell_type": "code",
      "execution_count": null,
      "metadata": {
        "colab": {
          "background_save": true,
          "base_uri": "https://localhost:8080/"
        },
        "id": "ShB824TRMBm3",
        "outputId": "c5b6075d-f8b3-4d65-ee1b-7069aac213b3"
      },
      "outputs": [
        {
          "data": {
            "text/plain": [
              "0    False\n",
              "1    False\n",
              "2     True\n",
              "Name: personaje, dtype: bool"
            ]
          },
          "execution_count": null,
          "metadata": {},
          "output_type": "execute_result"
        }
      ],
      "source": [
        "# otra manera de filtrar vectorialmente de comparacion == #ACA VEMOS CUANDO COINCIDE LOS VALORES QUE ES LA FILA 2: POR ESO TRUE\n",
        "d_star_wars['personaje']=='Darth Vader' "
      ]
    },
    {
      "cell_type": "code",
      "execution_count": null,
      "metadata": {
        "colab": {
          "background_save": true
        },
        "id": "Cg4_U-WhNCoy"
      },
      "outputs": [],
      "source": [
        "# ¿Cómo le cambiamos la altura a Darth Vader?\n",
        "v_flag=d_star_wars['personaje']=='Darth Vader'"
      ]
    },
    {
      "cell_type": "code",
      "execution_count": null,
      "metadata": {
        "colab": {
          "background_save": true,
          "base_uri": "https://localhost:8080/"
        },
        "id": "I9MlUDaPNZXF",
        "outputId": "54b1af46-59a9-4958-a051-e7890dff576e"
      },
      "outputs": [
        {
          "data": {
            "text/plain": [
              "2    202\n",
              "Name: altura, dtype: int64"
            ]
          },
          "execution_count": null,
          "metadata": {},
          "output_type": "execute_result"
        }
      ],
      "source": [
        "d_star_wars.loc[v_flag, 'altura'] "
      ]
    },
    {
      "cell_type": "code",
      "execution_count": null,
      "metadata": {
        "colab": {
          "background_save": true
        },
        "id": "oFaShNvDN771"
      },
      "outputs": [],
      "source": [
        "d_star_wars.loc[v_flag, 'altura'] = 185 #Suponiendo que no sabemos donde esta ese personaje, por eso la varibale v_flag, "
      ]
    },
    {
      "cell_type": "code",
      "execution_count": null,
      "metadata": {
        "colab": {
          "background_save": true,
          "base_uri": "https://localhost:8080/",
          "height": 143
        },
        "id": "wgrrN5r7OZAY",
        "outputId": "a6ceb871-2576-405b-a217-92417f7ed575"
      },
      "outputs": [
        {
          "data": {
            "text/html": [
              "\n",
              "  <div id=\"df-4d149257-b82c-4dd1-946f-6b4fdc18e8ea\">\n",
              "    <div class=\"colab-df-container\">\n",
              "      <div>\n",
              "<style scoped>\n",
              "    .dataframe tbody tr th:only-of-type {\n",
              "        vertical-align: middle;\n",
              "    }\n",
              "\n",
              "    .dataframe tbody tr th {\n",
              "        vertical-align: top;\n",
              "    }\n",
              "\n",
              "    .dataframe thead th {\n",
              "        text-align: right;\n",
              "    }\n",
              "</style>\n",
              "<table border=\"1\" class=\"dataframe\">\n",
              "  <thead>\n",
              "    <tr style=\"text-align: right;\">\n",
              "      <th></th>\n",
              "      <th>personaje</th>\n",
              "      <th>altura</th>\n",
              "    </tr>\n",
              "  </thead>\n",
              "  <tbody>\n",
              "    <tr>\n",
              "      <th>0</th>\n",
              "      <td>Luke Skywaker</td>\n",
              "      <td>172</td>\n",
              "    </tr>\n",
              "    <tr>\n",
              "      <th>1</th>\n",
              "      <td>C-3PO</td>\n",
              "      <td>167</td>\n",
              "    </tr>\n",
              "    <tr>\n",
              "      <th>2</th>\n",
              "      <td>Darth Vader</td>\n",
              "      <td>185</td>\n",
              "    </tr>\n",
              "  </tbody>\n",
              "</table>\n",
              "</div>\n",
              "      <button class=\"colab-df-convert\" onclick=\"convertToInteractive('df-4d149257-b82c-4dd1-946f-6b4fdc18e8ea')\"\n",
              "              title=\"Convert this dataframe to an interactive table.\"\n",
              "              style=\"display:none;\">\n",
              "        \n",
              "  <svg xmlns=\"http://www.w3.org/2000/svg\" height=\"24px\"viewBox=\"0 0 24 24\"\n",
              "       width=\"24px\">\n",
              "    <path d=\"M0 0h24v24H0V0z\" fill=\"none\"/>\n",
              "    <path d=\"M18.56 5.44l.94 2.06.94-2.06 2.06-.94-2.06-.94-.94-2.06-.94 2.06-2.06.94zm-11 1L8.5 8.5l.94-2.06 2.06-.94-2.06-.94L8.5 2.5l-.94 2.06-2.06.94zm10 10l.94 2.06.94-2.06 2.06-.94-2.06-.94-.94-2.06-.94 2.06-2.06.94z\"/><path d=\"M17.41 7.96l-1.37-1.37c-.4-.4-.92-.59-1.43-.59-.52 0-1.04.2-1.43.59L10.3 9.45l-7.72 7.72c-.78.78-.78 2.05 0 2.83L4 21.41c.39.39.9.59 1.41.59.51 0 1.02-.2 1.41-.59l7.78-7.78 2.81-2.81c.8-.78.8-2.07 0-2.86zM5.41 20L4 18.59l7.72-7.72 1.47 1.35L5.41 20z\"/>\n",
              "  </svg>\n",
              "      </button>\n",
              "      \n",
              "  <style>\n",
              "    .colab-df-container {\n",
              "      display:flex;\n",
              "      flex-wrap:wrap;\n",
              "      gap: 12px;\n",
              "    }\n",
              "\n",
              "    .colab-df-convert {\n",
              "      background-color: #E8F0FE;\n",
              "      border: none;\n",
              "      border-radius: 50%;\n",
              "      cursor: pointer;\n",
              "      display: none;\n",
              "      fill: #1967D2;\n",
              "      height: 32px;\n",
              "      padding: 0 0 0 0;\n",
              "      width: 32px;\n",
              "    }\n",
              "\n",
              "    .colab-df-convert:hover {\n",
              "      background-color: #E2EBFA;\n",
              "      box-shadow: 0px 1px 2px rgba(60, 64, 67, 0.3), 0px 1px 3px 1px rgba(60, 64, 67, 0.15);\n",
              "      fill: #174EA6;\n",
              "    }\n",
              "\n",
              "    [theme=dark] .colab-df-convert {\n",
              "      background-color: #3B4455;\n",
              "      fill: #D2E3FC;\n",
              "    }\n",
              "\n",
              "    [theme=dark] .colab-df-convert:hover {\n",
              "      background-color: #434B5C;\n",
              "      box-shadow: 0px 1px 3px 1px rgba(0, 0, 0, 0.15);\n",
              "      filter: drop-shadow(0px 1px 2px rgba(0, 0, 0, 0.3));\n",
              "      fill: #FFFFFF;\n",
              "    }\n",
              "  </style>\n",
              "\n",
              "      <script>\n",
              "        const buttonEl =\n",
              "          document.querySelector('#df-4d149257-b82c-4dd1-946f-6b4fdc18e8ea button.colab-df-convert');\n",
              "        buttonEl.style.display =\n",
              "          google.colab.kernel.accessAllowed ? 'block' : 'none';\n",
              "\n",
              "        async function convertToInteractive(key) {\n",
              "          const element = document.querySelector('#df-4d149257-b82c-4dd1-946f-6b4fdc18e8ea');\n",
              "          const dataTable =\n",
              "            await google.colab.kernel.invokeFunction('convertToInteractive',\n",
              "                                                     [key], {});\n",
              "          if (!dataTable) return;\n",
              "\n",
              "          const docLinkHtml = 'Like what you see? Visit the ' +\n",
              "            '<a target=\"_blank\" href=https://colab.research.google.com/notebooks/data_table.ipynb>data table notebook</a>'\n",
              "            + ' to learn more about interactive tables.';\n",
              "          element.innerHTML = '';\n",
              "          dataTable['output_type'] = 'display_data';\n",
              "          await google.colab.output.renderOutput(dataTable, element);\n",
              "          const docLink = document.createElement('div');\n",
              "          docLink.innerHTML = docLinkHtml;\n",
              "          element.appendChild(docLink);\n",
              "        }\n",
              "      </script>\n",
              "    </div>\n",
              "  </div>\n",
              "  "
            ],
            "text/plain": [
              "       personaje  altura\n",
              "0  Luke Skywaker     172\n",
              "1          C-3PO     167\n",
              "2    Darth Vader     185"
            ]
          },
          "execution_count": null,
          "metadata": {},
          "output_type": "execute_result"
        }
      ],
      "source": [
        "d_star_wars"
      ]
    },
    {
      "cell_type": "code",
      "execution_count": null,
      "metadata": {
        "colab": {
          "background_save": true
        },
        "id": "IaUc7xk5OcGG"
      },
      "outputs": [],
      "source": [
        "# haciendo todo en la misma linea\n",
        "d_star_wars.loc[ d_star_wars['personaje']=='Luke Skywaker', 'altura']=200"
      ]
    },
    {
      "cell_type": "code",
      "execution_count": null,
      "metadata": {
        "colab": {
          "background_save": true,
          "base_uri": "https://localhost:8080/",
          "height": 143
        },
        "id": "AmdRo1XiYGJS",
        "outputId": "6f934010-df09-409c-bb57-61f1bfc64e5d"
      },
      "outputs": [
        {
          "data": {
            "text/html": [
              "\n",
              "  <div id=\"df-df7a2bde-1528-4d76-a784-a2a183c8b4cf\">\n",
              "    <div class=\"colab-df-container\">\n",
              "      <div>\n",
              "<style scoped>\n",
              "    .dataframe tbody tr th:only-of-type {\n",
              "        vertical-align: middle;\n",
              "    }\n",
              "\n",
              "    .dataframe tbody tr th {\n",
              "        vertical-align: top;\n",
              "    }\n",
              "\n",
              "    .dataframe thead th {\n",
              "        text-align: right;\n",
              "    }\n",
              "</style>\n",
              "<table border=\"1\" class=\"dataframe\">\n",
              "  <thead>\n",
              "    <tr style=\"text-align: right;\">\n",
              "      <th></th>\n",
              "      <th>personaje</th>\n",
              "      <th>altura</th>\n",
              "    </tr>\n",
              "  </thead>\n",
              "  <tbody>\n",
              "    <tr>\n",
              "      <th>0</th>\n",
              "      <td>Luke Skywaker</td>\n",
              "      <td>200</td>\n",
              "    </tr>\n",
              "    <tr>\n",
              "      <th>1</th>\n",
              "      <td>C-3PO</td>\n",
              "      <td>167</td>\n",
              "    </tr>\n",
              "    <tr>\n",
              "      <th>2</th>\n",
              "      <td>Darth Vader</td>\n",
              "      <td>185</td>\n",
              "    </tr>\n",
              "  </tbody>\n",
              "</table>\n",
              "</div>\n",
              "      <button class=\"colab-df-convert\" onclick=\"convertToInteractive('df-df7a2bde-1528-4d76-a784-a2a183c8b4cf')\"\n",
              "              title=\"Convert this dataframe to an interactive table.\"\n",
              "              style=\"display:none;\">\n",
              "        \n",
              "  <svg xmlns=\"http://www.w3.org/2000/svg\" height=\"24px\"viewBox=\"0 0 24 24\"\n",
              "       width=\"24px\">\n",
              "    <path d=\"M0 0h24v24H0V0z\" fill=\"none\"/>\n",
              "    <path d=\"M18.56 5.44l.94 2.06.94-2.06 2.06-.94-2.06-.94-.94-2.06-.94 2.06-2.06.94zm-11 1L8.5 8.5l.94-2.06 2.06-.94-2.06-.94L8.5 2.5l-.94 2.06-2.06.94zm10 10l.94 2.06.94-2.06 2.06-.94-2.06-.94-.94-2.06-.94 2.06-2.06.94z\"/><path d=\"M17.41 7.96l-1.37-1.37c-.4-.4-.92-.59-1.43-.59-.52 0-1.04.2-1.43.59L10.3 9.45l-7.72 7.72c-.78.78-.78 2.05 0 2.83L4 21.41c.39.39.9.59 1.41.59.51 0 1.02-.2 1.41-.59l7.78-7.78 2.81-2.81c.8-.78.8-2.07 0-2.86zM5.41 20L4 18.59l7.72-7.72 1.47 1.35L5.41 20z\"/>\n",
              "  </svg>\n",
              "      </button>\n",
              "      \n",
              "  <style>\n",
              "    .colab-df-container {\n",
              "      display:flex;\n",
              "      flex-wrap:wrap;\n",
              "      gap: 12px;\n",
              "    }\n",
              "\n",
              "    .colab-df-convert {\n",
              "      background-color: #E8F0FE;\n",
              "      border: none;\n",
              "      border-radius: 50%;\n",
              "      cursor: pointer;\n",
              "      display: none;\n",
              "      fill: #1967D2;\n",
              "      height: 32px;\n",
              "      padding: 0 0 0 0;\n",
              "      width: 32px;\n",
              "    }\n",
              "\n",
              "    .colab-df-convert:hover {\n",
              "      background-color: #E2EBFA;\n",
              "      box-shadow: 0px 1px 2px rgba(60, 64, 67, 0.3), 0px 1px 3px 1px rgba(60, 64, 67, 0.15);\n",
              "      fill: #174EA6;\n",
              "    }\n",
              "\n",
              "    [theme=dark] .colab-df-convert {\n",
              "      background-color: #3B4455;\n",
              "      fill: #D2E3FC;\n",
              "    }\n",
              "\n",
              "    [theme=dark] .colab-df-convert:hover {\n",
              "      background-color: #434B5C;\n",
              "      box-shadow: 0px 1px 3px 1px rgba(0, 0, 0, 0.15);\n",
              "      filter: drop-shadow(0px 1px 2px rgba(0, 0, 0, 0.3));\n",
              "      fill: #FFFFFF;\n",
              "    }\n",
              "  </style>\n",
              "\n",
              "      <script>\n",
              "        const buttonEl =\n",
              "          document.querySelector('#df-df7a2bde-1528-4d76-a784-a2a183c8b4cf button.colab-df-convert');\n",
              "        buttonEl.style.display =\n",
              "          google.colab.kernel.accessAllowed ? 'block' : 'none';\n",
              "\n",
              "        async function convertToInteractive(key) {\n",
              "          const element = document.querySelector('#df-df7a2bde-1528-4d76-a784-a2a183c8b4cf');\n",
              "          const dataTable =\n",
              "            await google.colab.kernel.invokeFunction('convertToInteractive',\n",
              "                                                     [key], {});\n",
              "          if (!dataTable) return;\n",
              "\n",
              "          const docLinkHtml = 'Like what you see? Visit the ' +\n",
              "            '<a target=\"_blank\" href=https://colab.research.google.com/notebooks/data_table.ipynb>data table notebook</a>'\n",
              "            + ' to learn more about interactive tables.';\n",
              "          element.innerHTML = '';\n",
              "          dataTable['output_type'] = 'display_data';\n",
              "          await google.colab.output.renderOutput(dataTable, element);\n",
              "          const docLink = document.createElement('div');\n",
              "          docLink.innerHTML = docLinkHtml;\n",
              "          element.appendChild(docLink);\n",
              "        }\n",
              "      </script>\n",
              "    </div>\n",
              "  </div>\n",
              "  "
            ],
            "text/plain": [
              "       personaje  altura\n",
              "0  Luke Skywaker     200\n",
              "1          C-3PO     167\n",
              "2    Darth Vader     185"
            ]
          },
          "execution_count": null,
          "metadata": {},
          "output_type": "execute_result"
        }
      ],
      "source": [
        "d_star_wars"
      ]
    },
    {
      "cell_type": "markdown",
      "metadata": {
        "id": "Dsm3vLpzYkyx"
      },
      "source": [
        ""
      ]
    },
    {
      "cell_type": "markdown",
      "metadata": {
        "id": "TzVaL3lJZLQF"
      },
      "source": [
        "# **Cargar Archivos del Drive**"
      ]
    },
    {
      "cell_type": "code",
      "execution_count": null,
      "metadata": {
        "colab": {
          "base_uri": "https://localhost:8080/"
        },
        "id": "hUcbN8ykYIU3",
        "outputId": "dbfb95cc-3b07-4ac5-dce3-ec6b47bca31a"
      },
      "outputs": [
        {
          "name": "stdout",
          "output_type": "stream",
          "text": [
            "Mounted at /content/drive\n"
          ]
        }
      ],
      "source": [
        "from google.colab import drive\n",
        "drive.mount('/content/drive')"
      ]
    },
    {
      "cell_type": "code",
      "execution_count": null,
      "metadata": {
        "id": "60G4tgX3ZVP2"
      },
      "outputs": [],
      "source": [
        "import pandas as pd\n",
        "\n",
        "data_turismo=pd.read_csv(\"/content/drive/MyDrive/saldo-turistas-serie.csv\")"
      ]
    },
    {
      "cell_type": "code",
      "execution_count": null,
      "metadata": {
        "colab": {
          "base_uri": "https://localhost:8080/",
          "height": 206
        },
        "id": "03dE4PRRZmH9",
        "outputId": "03550c1b-0bec-4d6e-9e00-9cfea9f5869a"
      },
      "outputs": [
        {
          "data": {
            "text/html": [
              "\n",
              "  <div id=\"df-cc7847ff-39a7-488b-b86d-e0277afe53a0\">\n",
              "    <div class=\"colab-df-container\">\n",
              "      <div>\n",
              "<style scoped>\n",
              "    .dataframe tbody tr th:only-of-type {\n",
              "        vertical-align: middle;\n",
              "    }\n",
              "\n",
              "    .dataframe tbody tr th {\n",
              "        vertical-align: top;\n",
              "    }\n",
              "\n",
              "    .dataframe thead th {\n",
              "        text-align: right;\n",
              "    }\n",
              "</style>\n",
              "<table border=\"1\" class=\"dataframe\">\n",
              "  <thead>\n",
              "    <tr style=\"text-align: right;\">\n",
              "      <th></th>\n",
              "      <th>indice_tiempo</th>\n",
              "      <th>medio_de_transporte</th>\n",
              "      <th>pais</th>\n",
              "      <th>balanza</th>\n",
              "    </tr>\n",
              "  </thead>\n",
              "  <tbody>\n",
              "    <tr>\n",
              "      <th>0</th>\n",
              "      <td>2016-01</td>\n",
              "      <td>Aérea</td>\n",
              "      <td>Bolivia</td>\n",
              "      <td>3635.9</td>\n",
              "    </tr>\n",
              "    <tr>\n",
              "      <th>1</th>\n",
              "      <td>2016-01</td>\n",
              "      <td>Aérea</td>\n",
              "      <td>Brasil</td>\n",
              "      <td>-66768.5</td>\n",
              "    </tr>\n",
              "    <tr>\n",
              "      <th>2</th>\n",
              "      <td>2016-01</td>\n",
              "      <td>Aérea</td>\n",
              "      <td>Chile</td>\n",
              "      <td>-11200.7</td>\n",
              "    </tr>\n",
              "    <tr>\n",
              "      <th>3</th>\n",
              "      <td>2016-01</td>\n",
              "      <td>Aérea</td>\n",
              "      <td>Paraguay</td>\n",
              "      <td>1996.4</td>\n",
              "    </tr>\n",
              "    <tr>\n",
              "      <th>4</th>\n",
              "      <td>2016-01</td>\n",
              "      <td>Aérea</td>\n",
              "      <td>Uruguay</td>\n",
              "      <td>-12748.3</td>\n",
              "    </tr>\n",
              "  </tbody>\n",
              "</table>\n",
              "</div>\n",
              "      <button class=\"colab-df-convert\" onclick=\"convertToInteractive('df-cc7847ff-39a7-488b-b86d-e0277afe53a0')\"\n",
              "              title=\"Convert this dataframe to an interactive table.\"\n",
              "              style=\"display:none;\">\n",
              "        \n",
              "  <svg xmlns=\"http://www.w3.org/2000/svg\" height=\"24px\"viewBox=\"0 0 24 24\"\n",
              "       width=\"24px\">\n",
              "    <path d=\"M0 0h24v24H0V0z\" fill=\"none\"/>\n",
              "    <path d=\"M18.56 5.44l.94 2.06.94-2.06 2.06-.94-2.06-.94-.94-2.06-.94 2.06-2.06.94zm-11 1L8.5 8.5l.94-2.06 2.06-.94-2.06-.94L8.5 2.5l-.94 2.06-2.06.94zm10 10l.94 2.06.94-2.06 2.06-.94-2.06-.94-.94-2.06-.94 2.06-2.06.94z\"/><path d=\"M17.41 7.96l-1.37-1.37c-.4-.4-.92-.59-1.43-.59-.52 0-1.04.2-1.43.59L10.3 9.45l-7.72 7.72c-.78.78-.78 2.05 0 2.83L4 21.41c.39.39.9.59 1.41.59.51 0 1.02-.2 1.41-.59l7.78-7.78 2.81-2.81c.8-.78.8-2.07 0-2.86zM5.41 20L4 18.59l7.72-7.72 1.47 1.35L5.41 20z\"/>\n",
              "  </svg>\n",
              "      </button>\n",
              "      \n",
              "  <style>\n",
              "    .colab-df-container {\n",
              "      display:flex;\n",
              "      flex-wrap:wrap;\n",
              "      gap: 12px;\n",
              "    }\n",
              "\n",
              "    .colab-df-convert {\n",
              "      background-color: #E8F0FE;\n",
              "      border: none;\n",
              "      border-radius: 50%;\n",
              "      cursor: pointer;\n",
              "      display: none;\n",
              "      fill: #1967D2;\n",
              "      height: 32px;\n",
              "      padding: 0 0 0 0;\n",
              "      width: 32px;\n",
              "    }\n",
              "\n",
              "    .colab-df-convert:hover {\n",
              "      background-color: #E2EBFA;\n",
              "      box-shadow: 0px 1px 2px rgba(60, 64, 67, 0.3), 0px 1px 3px 1px rgba(60, 64, 67, 0.15);\n",
              "      fill: #174EA6;\n",
              "    }\n",
              "\n",
              "    [theme=dark] .colab-df-convert {\n",
              "      background-color: #3B4455;\n",
              "      fill: #D2E3FC;\n",
              "    }\n",
              "\n",
              "    [theme=dark] .colab-df-convert:hover {\n",
              "      background-color: #434B5C;\n",
              "      box-shadow: 0px 1px 3px 1px rgba(0, 0, 0, 0.15);\n",
              "      filter: drop-shadow(0px 1px 2px rgba(0, 0, 0, 0.3));\n",
              "      fill: #FFFFFF;\n",
              "    }\n",
              "  </style>\n",
              "\n",
              "      <script>\n",
              "        const buttonEl =\n",
              "          document.querySelector('#df-cc7847ff-39a7-488b-b86d-e0277afe53a0 button.colab-df-convert');\n",
              "        buttonEl.style.display =\n",
              "          google.colab.kernel.accessAllowed ? 'block' : 'none';\n",
              "\n",
              "        async function convertToInteractive(key) {\n",
              "          const element = document.querySelector('#df-cc7847ff-39a7-488b-b86d-e0277afe53a0');\n",
              "          const dataTable =\n",
              "            await google.colab.kernel.invokeFunction('convertToInteractive',\n",
              "                                                     [key], {});\n",
              "          if (!dataTable) return;\n",
              "\n",
              "          const docLinkHtml = 'Like what you see? Visit the ' +\n",
              "            '<a target=\"_blank\" href=https://colab.research.google.com/notebooks/data_table.ipynb>data table notebook</a>'\n",
              "            + ' to learn more about interactive tables.';\n",
              "          element.innerHTML = '';\n",
              "          dataTable['output_type'] = 'display_data';\n",
              "          await google.colab.output.renderOutput(dataTable, element);\n",
              "          const docLink = document.createElement('div');\n",
              "          docLink.innerHTML = docLinkHtml;\n",
              "          element.appendChild(docLink);\n",
              "        }\n",
              "      </script>\n",
              "    </div>\n",
              "  </div>\n",
              "  "
            ],
            "text/plain": [
              "  indice_tiempo medio_de_transporte      pais  balanza\n",
              "0       2016-01               Aérea   Bolivia   3635.9\n",
              "1       2016-01               Aérea    Brasil -66768.5\n",
              "2       2016-01               Aérea     Chile -11200.7\n",
              "3       2016-01               Aérea  Paraguay   1996.4\n",
              "4       2016-01               Aérea   Uruguay -12748.3"
            ]
          },
          "execution_count": 2,
          "metadata": {},
          "output_type": "execute_result"
        }
      ],
      "source": [
        "data_turismo.head ()"
      ]
    },
    {
      "cell_type": "code",
      "execution_count": null,
      "metadata": {
        "colab": {
          "base_uri": "https://localhost:8080/",
          "height": 206
        },
        "id": "g6R3nXP9rcAz",
        "outputId": "9eee5cd7-0ea3-4f4a-80f1-5d129ea101a2"
      },
      "outputs": [
        {
          "data": {
            "text/html": [
              "\n",
              "  <div id=\"df-3a00d0c0-8150-487b-994a-ecd8e70158a9\">\n",
              "    <div class=\"colab-df-container\">\n",
              "      <div>\n",
              "<style scoped>\n",
              "    .dataframe tbody tr th:only-of-type {\n",
              "        vertical-align: middle;\n",
              "    }\n",
              "\n",
              "    .dataframe tbody tr th {\n",
              "        vertical-align: top;\n",
              "    }\n",
              "\n",
              "    .dataframe thead th {\n",
              "        text-align: right;\n",
              "    }\n",
              "</style>\n",
              "<table border=\"1\" class=\"dataframe\">\n",
              "  <thead>\n",
              "    <tr style=\"text-align: right;\">\n",
              "      <th></th>\n",
              "      <th>indice_tiempo</th>\n",
              "      <th>medio_de_transporte</th>\n",
              "      <th>pais</th>\n",
              "      <th>balanza</th>\n",
              "    </tr>\n",
              "  </thead>\n",
              "  <tbody>\n",
              "    <tr>\n",
              "      <th>1696</th>\n",
              "      <td>2021-03</td>\n",
              "      <td>Fluvial/Marítima</td>\n",
              "      <td>Uruguay</td>\n",
              "      <td>-4172.0</td>\n",
              "    </tr>\n",
              "    <tr>\n",
              "      <th>1697</th>\n",
              "      <td>2021-03</td>\n",
              "      <td>Fluvial/Marítima</td>\n",
              "      <td>EE.UU. y Canadá</td>\n",
              "      <td>6.0</td>\n",
              "    </tr>\n",
              "    <tr>\n",
              "      <th>1698</th>\n",
              "      <td>2021-03</td>\n",
              "      <td>Fluvial/Marítima</td>\n",
              "      <td>Resto de América</td>\n",
              "      <td>4.0</td>\n",
              "    </tr>\n",
              "    <tr>\n",
              "      <th>1699</th>\n",
              "      <td>2021-03</td>\n",
              "      <td>Fluvial/Marítima</td>\n",
              "      <td>Europa</td>\n",
              "      <td>15.0</td>\n",
              "    </tr>\n",
              "    <tr>\n",
              "      <th>1700</th>\n",
              "      <td>2021-03</td>\n",
              "      <td>Fluvial/Marítima</td>\n",
              "      <td>Resto del mundo</td>\n",
              "      <td>4.0</td>\n",
              "    </tr>\n",
              "  </tbody>\n",
              "</table>\n",
              "</div>\n",
              "      <button class=\"colab-df-convert\" onclick=\"convertToInteractive('df-3a00d0c0-8150-487b-994a-ecd8e70158a9')\"\n",
              "              title=\"Convert this dataframe to an interactive table.\"\n",
              "              style=\"display:none;\">\n",
              "        \n",
              "  <svg xmlns=\"http://www.w3.org/2000/svg\" height=\"24px\"viewBox=\"0 0 24 24\"\n",
              "       width=\"24px\">\n",
              "    <path d=\"M0 0h24v24H0V0z\" fill=\"none\"/>\n",
              "    <path d=\"M18.56 5.44l.94 2.06.94-2.06 2.06-.94-2.06-.94-.94-2.06-.94 2.06-2.06.94zm-11 1L8.5 8.5l.94-2.06 2.06-.94-2.06-.94L8.5 2.5l-.94 2.06-2.06.94zm10 10l.94 2.06.94-2.06 2.06-.94-2.06-.94-.94-2.06-.94 2.06-2.06.94z\"/><path d=\"M17.41 7.96l-1.37-1.37c-.4-.4-.92-.59-1.43-.59-.52 0-1.04.2-1.43.59L10.3 9.45l-7.72 7.72c-.78.78-.78 2.05 0 2.83L4 21.41c.39.39.9.59 1.41.59.51 0 1.02-.2 1.41-.59l7.78-7.78 2.81-2.81c.8-.78.8-2.07 0-2.86zM5.41 20L4 18.59l7.72-7.72 1.47 1.35L5.41 20z\"/>\n",
              "  </svg>\n",
              "      </button>\n",
              "      \n",
              "  <style>\n",
              "    .colab-df-container {\n",
              "      display:flex;\n",
              "      flex-wrap:wrap;\n",
              "      gap: 12px;\n",
              "    }\n",
              "\n",
              "    .colab-df-convert {\n",
              "      background-color: #E8F0FE;\n",
              "      border: none;\n",
              "      border-radius: 50%;\n",
              "      cursor: pointer;\n",
              "      display: none;\n",
              "      fill: #1967D2;\n",
              "      height: 32px;\n",
              "      padding: 0 0 0 0;\n",
              "      width: 32px;\n",
              "    }\n",
              "\n",
              "    .colab-df-convert:hover {\n",
              "      background-color: #E2EBFA;\n",
              "      box-shadow: 0px 1px 2px rgba(60, 64, 67, 0.3), 0px 1px 3px 1px rgba(60, 64, 67, 0.15);\n",
              "      fill: #174EA6;\n",
              "    }\n",
              "\n",
              "    [theme=dark] .colab-df-convert {\n",
              "      background-color: #3B4455;\n",
              "      fill: #D2E3FC;\n",
              "    }\n",
              "\n",
              "    [theme=dark] .colab-df-convert:hover {\n",
              "      background-color: #434B5C;\n",
              "      box-shadow: 0px 1px 3px 1px rgba(0, 0, 0, 0.15);\n",
              "      filter: drop-shadow(0px 1px 2px rgba(0, 0, 0, 0.3));\n",
              "      fill: #FFFFFF;\n",
              "    }\n",
              "  </style>\n",
              "\n",
              "      <script>\n",
              "        const buttonEl =\n",
              "          document.querySelector('#df-3a00d0c0-8150-487b-994a-ecd8e70158a9 button.colab-df-convert');\n",
              "        buttonEl.style.display =\n",
              "          google.colab.kernel.accessAllowed ? 'block' : 'none';\n",
              "\n",
              "        async function convertToInteractive(key) {\n",
              "          const element = document.querySelector('#df-3a00d0c0-8150-487b-994a-ecd8e70158a9');\n",
              "          const dataTable =\n",
              "            await google.colab.kernel.invokeFunction('convertToInteractive',\n",
              "                                                     [key], {});\n",
              "          if (!dataTable) return;\n",
              "\n",
              "          const docLinkHtml = 'Like what you see? Visit the ' +\n",
              "            '<a target=\"_blank\" href=https://colab.research.google.com/notebooks/data_table.ipynb>data table notebook</a>'\n",
              "            + ' to learn more about interactive tables.';\n",
              "          element.innerHTML = '';\n",
              "          dataTable['output_type'] = 'display_data';\n",
              "          await google.colab.output.renderOutput(dataTable, element);\n",
              "          const docLink = document.createElement('div');\n",
              "          docLink.innerHTML = docLinkHtml;\n",
              "          element.appendChild(docLink);\n",
              "        }\n",
              "      </script>\n",
              "    </div>\n",
              "  </div>\n",
              "  "
            ],
            "text/plain": [
              "     indice_tiempo medio_de_transporte              pais  balanza\n",
              "1696       2021-03    Fluvial/Marítima           Uruguay  -4172.0\n",
              "1697       2021-03    Fluvial/Marítima   EE.UU. y Canadá      6.0\n",
              "1698       2021-03    Fluvial/Marítima  Resto de América      4.0\n",
              "1699       2021-03    Fluvial/Marítima            Europa     15.0\n",
              "1700       2021-03    Fluvial/Marítima   Resto del mundo      4.0"
            ]
          },
          "execution_count": 3,
          "metadata": {},
          "output_type": "execute_result"
        }
      ],
      "source": [
        "data_turismo.tail()"
      ]
    },
    {
      "cell_type": "code",
      "execution_count": null,
      "metadata": {
        "colab": {
          "base_uri": "https://localhost:8080/"
        },
        "id": "o5OGnrtdrf2T",
        "outputId": "77ed731b-09a8-4b97-b3d9-b6fc6c1ff32e"
      },
      "outputs": [
        {
          "data": {
            "text/plain": [
              "(1701, 4)"
            ]
          },
          "execution_count": 4,
          "metadata": {},
          "output_type": "execute_result"
        }
      ],
      "source": [
        "data_turismo.shape"
      ]
    },
    {
      "cell_type": "code",
      "execution_count": null,
      "metadata": {
        "colab": {
          "base_uri": "https://localhost:8080/",
          "height": 804
        },
        "id": "7W_ElLVMrknJ",
        "outputId": "c2c8ebbb-4435-467f-b58c-2d4316a4d238"
      },
      "outputs": [
        {
          "data": {
            "application/vnd.google.colaboratory.module+javascript": "\n      import \"https://ssl.gstatic.com/colaboratory/data_table/a6224c040fa35dcf/data_table.js\";\n\n      window.createDataTable({\n        data: [[{\n            'v': 0,\n            'f': \"0\",\n        },\n\"2016-01\",\n\"A\\u00e9rea\",\n\"Bolivia\",\n{\n            'v': 3635.9,\n            'f': \"3635.9\",\n        }],\n [{\n            'v': 1,\n            'f': \"1\",\n        },\n\"2016-01\",\n\"A\\u00e9rea\",\n\"Brasil\",\n{\n            'v': -66768.5,\n            'f': \"-66768.5\",\n        }],\n [{\n            'v': 2,\n            'f': \"2\",\n        },\n\"2016-01\",\n\"A\\u00e9rea\",\n\"Chile\",\n{\n            'v': -11200.7,\n            'f': \"-11200.7\",\n        }],\n [{\n            'v': 3,\n            'f': \"3\",\n        },\n\"2016-01\",\n\"A\\u00e9rea\",\n\"Paraguay\",\n{\n            'v': 1996.4,\n            'f': \"1996.4\",\n        }],\n [{\n            'v': 4,\n            'f': \"4\",\n        },\n\"2016-01\",\n\"A\\u00e9rea\",\n\"Uruguay\",\n{\n            'v': -12748.3,\n            'f': \"-12748.3\",\n        }],\n [{\n            'v': 5,\n            'f': \"5\",\n        },\n\"2016-01\",\n\"A\\u00e9rea\",\n\"EE.UU. y Canad\\u00e1\",\n{\n            'v': -14515.1,\n            'f': \"-14515.1\",\n        }],\n [{\n            'v': 6,\n            'f': \"6\",\n        },\n\"2016-01\",\n\"A\\u00e9rea\",\n\"Resto de Am\\u00e9rica\",\n{\n            'v': -41755.3,\n            'f': \"-41755.3\",\n        }],\n [{\n            'v': 7,\n            'f': \"7\",\n        },\n\"2016-01\",\n\"A\\u00e9rea\",\n\"Europa\",\n{\n            'v': 44002.4,\n            'f': \"44002.4\",\n        }],\n [{\n            'v': 8,\n            'f': \"8\",\n        },\n\"2016-01\",\n\"A\\u00e9rea\",\n\"Resto del mundo\",\n{\n            'v': 6531.2,\n            'f': \"6531.2\",\n        }],\n [{\n            'v': 9,\n            'f': \"9\",\n        },\n\"2016-01\",\n\"Terrestre\",\n\"Bolivia\",\n{\n            'v': 15052.1,\n            'f': \"15052.1\",\n        }],\n [{\n            'v': 10,\n            'f': \"10\",\n        },\n\"2016-01\",\n\"Terrestre\",\n\"Brasil\",\n{\n            'v': -316455.3,\n            'f': \"-316455.3\",\n        }],\n [{\n            'v': 11,\n            'f': \"11\",\n        },\n\"2016-01\",\n\"Terrestre\",\n\"Chile\",\n{\n            'v': -203937.3,\n            'f': \"-203937.3\",\n        }],\n [{\n            'v': 12,\n            'f': \"12\",\n        },\n\"2016-01\",\n\"Terrestre\",\n\"Paraguay\",\n{\n            'v': -49829.7,\n            'f': \"-49829.7\",\n        }],\n [{\n            'v': 13,\n            'f': \"13\",\n        },\n\"2016-01\",\n\"Terrestre\",\n\"Uruguay\",\n{\n            'v': -139444.8,\n            'f': \"-139444.8\",\n        }],\n [{\n            'v': 14,\n            'f': \"14\",\n        },\n\"2016-01\",\n\"Terrestre\",\n\"EE.UU. y Canad\\u00e1\",\n{\n            'v': 7487.9,\n            'f': \"7487.9\",\n        }],\n [{\n            'v': 15,\n            'f': \"15\",\n        },\n\"2016-01\",\n\"Terrestre\",\n\"Resto de Am\\u00e9rica\",\n{\n            'v': 13100.3,\n            'f': \"13100.3\",\n        }],\n [{\n            'v': 16,\n            'f': \"16\",\n        },\n\"2016-01\",\n\"Terrestre\",\n\"Europa\",\n{\n            'v': 36038.5,\n            'f': \"36038.5\",\n        }],\n [{\n            'v': 17,\n            'f': \"17\",\n        },\n\"2016-01\",\n\"Terrestre\",\n\"Resto del mundo\",\n{\n            'v': 16014.7,\n            'f': \"16014.7\",\n        }],\n [{\n            'v': 18,\n            'f': \"18\",\n        },\n\"2016-01\",\n\"Fluvial/Mar\\u00edtima\",\n\"Bolivia\",\n{\n            'v': 2105.1,\n            'f': \"2105.1\",\n        }],\n [{\n            'v': 19,\n            'f': \"19\",\n        },\n\"2016-01\",\n\"Fluvial/Mar\\u00edtima\",\n\"Brasil\",\n{\n            'v': 8785.9,\n            'f': \"8785.9\",\n        }],\n [{\n            'v': 20,\n            'f': \"20\",\n        },\n\"2016-01\",\n\"Fluvial/Mar\\u00edtima\",\n\"Chile\",\n{\n            'v': -9027.5,\n            'f': \"-9027.5\",\n        }],\n [{\n            'v': 21,\n            'f': \"21\",\n        },\n\"2016-01\",\n\"Fluvial/Mar\\u00edtima\",\n\"Paraguay\",\n{\n            'v': -2448.3,\n            'f': \"-2448.3\",\n        }],\n [{\n            'v': 22,\n            'f': \"22\",\n        },\n\"2016-01\",\n\"Fluvial/Mar\\u00edtima\",\n\"Uruguay\",\n{\n            'v': -79229.6,\n            'f': \"-79229.6\",\n        }],\n [{\n            'v': 23,\n            'f': \"23\",\n        },\n\"2016-01\",\n\"Fluvial/Mar\\u00edtima\",\n\"EE.UU. y Canad\\u00e1\",\n{\n            'v': 17933.0,\n            'f': \"17933.0\",\n        }],\n [{\n            'v': 24,\n            'f': \"24\",\n        },\n\"2016-01\",\n\"Fluvial/Mar\\u00edtima\",\n\"Resto de Am\\u00e9rica\",\n{\n            'v': 6600.9,\n            'f': \"6600.9\",\n        }],\n [{\n            'v': 25,\n            'f': \"25\",\n        },\n\"2016-01\",\n\"Fluvial/Mar\\u00edtima\",\n\"Europa\",\n{\n            'v': 21206.0,\n            'f': \"21206.0\",\n        }],\n [{\n            'v': 26,\n            'f': \"26\",\n        },\n\"2016-01\",\n\"Fluvial/Mar\\u00edtima\",\n\"Resto del mundo\",\n{\n            'v': 6276.2,\n            'f': \"6276.2\",\n        }],\n [{\n            'v': 27,\n            'f': \"27\",\n        },\n\"2016-02\",\n\"A\\u00e9rea\",\n\"Bolivia\",\n{\n            'v': -213.3,\n            'f': \"-213.3\",\n        }],\n [{\n            'v': 28,\n            'f': \"28\",\n        },\n\"2016-02\",\n\"A\\u00e9rea\",\n\"Brasil\",\n{\n            'v': -77398.6,\n            'f': \"-77398.6\",\n        }],\n [{\n            'v': 29,\n            'f': \"29\",\n        },\n\"2016-02\",\n\"A\\u00e9rea\",\n\"Chile\",\n{\n            'v': -6369.2,\n            'f': \"-6369.2\",\n        }],\n [{\n            'v': 30,\n            'f': \"30\",\n        },\n\"2016-02\",\n\"A\\u00e9rea\",\n\"Paraguay\",\n{\n            'v': 1427.1,\n            'f': \"1427.1\",\n        }],\n [{\n            'v': 31,\n            'f': \"31\",\n        },\n\"2016-02\",\n\"A\\u00e9rea\",\n\"Uruguay\",\n{\n            'v': -9229.1,\n            'f': \"-9229.1\",\n        }],\n [{\n            'v': 32,\n            'f': \"32\",\n        },\n\"2016-02\",\n\"A\\u00e9rea\",\n\"EE.UU. y Canad\\u00e1\",\n{\n            'v': -32805.9,\n            'f': \"-32805.9\",\n        }],\n [{\n            'v': 33,\n            'f': \"33\",\n        },\n\"2016-02\",\n\"A\\u00e9rea\",\n\"Resto de Am\\u00e9rica\",\n{\n            'v': -61028.7,\n            'f': \"-61028.7\",\n        }],\n [{\n            'v': 34,\n            'f': \"34\",\n        },\n\"2016-02\",\n\"A\\u00e9rea\",\n\"Europa\",\n{\n            'v': 13002.9,\n            'f': \"13002.9\",\n        }],\n [{\n            'v': 35,\n            'f': \"35\",\n        },\n\"2016-02\",\n\"A\\u00e9rea\",\n\"Resto del mundo\",\n{\n            'v': 2251.6,\n            'f': \"2251.6\",\n        }],\n [{\n            'v': 36,\n            'f': \"36\",\n        },\n\"2016-02\",\n\"Terrestre\",\n\"Bolivia\",\n{\n            'v': -20400.3,\n            'f': \"-20400.3\",\n        }],\n [{\n            'v': 37,\n            'f': \"37\",\n        },\n\"2016-02\",\n\"Terrestre\",\n\"Brasil\",\n{\n            'v': -299139.7,\n            'f': \"-299139.7\",\n        }],\n [{\n            'v': 38,\n            'f': \"38\",\n        },\n\"2016-02\",\n\"Terrestre\",\n\"Chile\",\n{\n            'v': -129159.3,\n            'f': \"-129159.3\",\n        }],\n [{\n            'v': 39,\n            'f': \"39\",\n        },\n\"2016-02\",\n\"Terrestre\",\n\"Paraguay\",\n{\n            'v': -31063.3,\n            'f': \"-31063.3\",\n        }],\n [{\n            'v': 40,\n            'f': \"40\",\n        },\n\"2016-02\",\n\"Terrestre\",\n\"Uruguay\",\n{\n            'v': -148520.6,\n            'f': \"-148520.6\",\n        }],\n [{\n            'v': 41,\n            'f': \"41\",\n        },\n\"2016-02\",\n\"Terrestre\",\n\"EE.UU. y Canad\\u00e1\",\n{\n            'v': 7238.8,\n            'f': \"7238.8\",\n        }],\n [{\n            'v': 42,\n            'f': \"42\",\n        },\n\"2016-02\",\n\"Terrestre\",\n\"Resto de Am\\u00e9rica\",\n{\n            'v': 9496.0,\n            'f': \"9496.0\",\n        }],\n [{\n            'v': 43,\n            'f': \"43\",\n        },\n\"2016-02\",\n\"Terrestre\",\n\"Europa\",\n{\n            'v': 33437.9,\n            'f': \"33437.9\",\n        }],\n [{\n            'v': 44,\n            'f': \"44\",\n        },\n\"2016-02\",\n\"Terrestre\",\n\"Resto del mundo\",\n{\n            'v': 13712.2,\n            'f': \"13712.2\",\n        }],\n [{\n            'v': 45,\n            'f': \"45\",\n        },\n\"2016-02\",\n\"Fluvial/Mar\\u00edtima\",\n\"Bolivia\",\n{\n            'v': -613.0,\n            'f': \"-613.0\",\n        }],\n [{\n            'v': 46,\n            'f': \"46\",\n        },\n\"2016-02\",\n\"Fluvial/Mar\\u00edtima\",\n\"Brasil\",\n{\n            'v': 2270.1,\n            'f': \"2270.1\",\n        }],\n [{\n            'v': 47,\n            'f': \"47\",\n        },\n\"2016-02\",\n\"Fluvial/Mar\\u00edtima\",\n\"Chile\",\n{\n            'v': -8112.1,\n            'f': \"-8112.1\",\n        }],\n [{\n            'v': 48,\n            'f': \"48\",\n        },\n\"2016-02\",\n\"Fluvial/Mar\\u00edtima\",\n\"Paraguay\",\n{\n            'v': -3076.6,\n            'f': \"-3076.6\",\n        }],\n [{\n            'v': 49,\n            'f': \"49\",\n        },\n\"2016-02\",\n\"Fluvial/Mar\\u00edtima\",\n\"Uruguay\",\n{\n            'v': -76596.6,\n            'f': \"-76596.6\",\n        }],\n [{\n            'v': 50,\n            'f': \"50\",\n        },\n\"2016-02\",\n\"Fluvial/Mar\\u00edtima\",\n\"EE.UU. y Canad\\u00e1\",\n{\n            'v': 18502.1,\n            'f': \"18502.1\",\n        }],\n [{\n            'v': 51,\n            'f': \"51\",\n        },\n\"2016-02\",\n\"Fluvial/Mar\\u00edtima\",\n\"Resto de Am\\u00e9rica\",\n{\n            'v': 3621.7,\n            'f': \"3621.7\",\n        }],\n [{\n            'v': 52,\n            'f': \"52\",\n        },\n\"2016-02\",\n\"Fluvial/Mar\\u00edtima\",\n\"Europa\",\n{\n            'v': 27430.0,\n            'f': \"27430.0\",\n        }],\n [{\n            'v': 53,\n            'f': \"53\",\n        },\n\"2016-02\",\n\"Fluvial/Mar\\u00edtima\",\n\"Resto del mundo\",\n{\n            'v': 6541.5,\n            'f': \"6541.5\",\n        }],\n [{\n            'v': 54,\n            'f': \"54\",\n        },\n\"2016-03\",\n\"A\\u00e9rea\",\n\"Bolivia\",\n{\n            'v': 882.0,\n            'f': \"882.0\",\n        }],\n [{\n            'v': 55,\n            'f': \"55\",\n        },\n\"2016-03\",\n\"A\\u00e9rea\",\n\"Brasil\",\n{\n            'v': -71699.2,\n            'f': \"-71699.2\",\n        }],\n [{\n            'v': 56,\n            'f': \"56\",\n        },\n\"2016-03\",\n\"A\\u00e9rea\",\n\"Chile\",\n{\n            'v': -7805.6,\n            'f': \"-7805.6\",\n        }],\n [{\n            'v': 57,\n            'f': \"57\",\n        },\n\"2016-03\",\n\"A\\u00e9rea\",\n\"Paraguay\",\n{\n            'v': 2764.7,\n            'f': \"2764.7\",\n        }],\n [{\n            'v': 58,\n            'f': \"58\",\n        },\n\"2016-03\",\n\"A\\u00e9rea\",\n\"Uruguay\",\n{\n            'v': -1747.8,\n            'f': \"-1747.8\",\n        }],\n [{\n            'v': 59,\n            'f': \"59\",\n        },\n\"2016-03\",\n\"A\\u00e9rea\",\n\"EE.UU. y Canad\\u00e1\",\n{\n            'v': -38987.0,\n            'f': \"-38987.0\",\n        }],\n [{\n            'v': 60,\n            'f': \"60\",\n        },\n\"2016-03\",\n\"A\\u00e9rea\",\n\"Resto de Am\\u00e9rica\",\n{\n            'v': -41168.2,\n            'f': \"-41168.2\",\n        }],\n [{\n            'v': 61,\n            'f': \"61\",\n        },\n\"2016-03\",\n\"A\\u00e9rea\",\n\"Europa\",\n{\n            'v': 12376.9,\n            'f': \"12376.9\",\n        }],\n [{\n            'v': 62,\n            'f': \"62\",\n        },\n\"2016-03\",\n\"A\\u00e9rea\",\n\"Resto del mundo\",\n{\n            'v': 112.1,\n            'f': \"112.1\",\n        }],\n [{\n            'v': 63,\n            'f': \"63\",\n        },\n\"2016-03\",\n\"Terrestre\",\n\"Bolivia\",\n{\n            'v': -3962.7,\n            'f': \"-3962.7\",\n        }],\n [{\n            'v': 64,\n            'f': \"64\",\n        },\n\"2016-03\",\n\"Terrestre\",\n\"Brasil\",\n{\n            'v': -112261.4,\n            'f': \"-112261.4\",\n        }],\n [{\n            'v': 65,\n            'f': \"65\",\n        },\n\"2016-03\",\n\"Terrestre\",\n\"Chile\",\n{\n            'v': -108868.4,\n            'f': \"-108868.4\",\n        }],\n [{\n            'v': 66,\n            'f': \"66\",\n        },\n\"2016-03\",\n\"Terrestre\",\n\"Paraguay\",\n{\n            'v': -3050.7,\n            'f': \"-3050.7\",\n        }],\n [{\n            'v': 67,\n            'f': \"67\",\n        },\n\"2016-03\",\n\"Terrestre\",\n\"Uruguay\",\n{\n            'v': -50435.2,\n            'f': \"-50435.2\",\n        }],\n [{\n            'v': 68,\n            'f': \"68\",\n        },\n\"2016-03\",\n\"Terrestre\",\n\"EE.UU. y Canad\\u00e1\",\n{\n            'v': 6501.1,\n            'f': \"6501.1\",\n        }],\n [{\n            'v': 69,\n            'f': \"69\",\n        },\n\"2016-03\",\n\"Terrestre\",\n\"Resto de Am\\u00e9rica\",\n{\n            'v': 9533.2,\n            'f': \"9533.2\",\n        }],\n [{\n            'v': 70,\n            'f': \"70\",\n        },\n\"2016-03\",\n\"Terrestre\",\n\"Europa\",\n{\n            'v': 30678.1,\n            'f': \"30678.1\",\n        }],\n [{\n            'v': 71,\n            'f': \"71\",\n        },\n\"2016-03\",\n\"Terrestre\",\n\"Resto del mundo\",\n{\n            'v': 9555.5,\n            'f': \"9555.5\",\n        }],\n [{\n            'v': 72,\n            'f': \"72\",\n        },\n\"2016-03\",\n\"Fluvial/Mar\\u00edtima\",\n\"Bolivia\",\n{\n            'v': -273.0,\n            'f': \"-273.0\",\n        }],\n [{\n            'v': 73,\n            'f': \"73\",\n        },\n\"2016-03\",\n\"Fluvial/Mar\\u00edtima\",\n\"Brasil\",\n{\n            'v': -97.7,\n            'f': \"-97.7\",\n        }],\n [{\n            'v': 74,\n            'f': \"74\",\n        },\n\"2016-03\",\n\"Fluvial/Mar\\u00edtima\",\n\"Chile\",\n{\n            'v': -3067.9,\n            'f': \"-3067.9\",\n        }],\n [{\n            'v': 75,\n            'f': \"75\",\n        },\n\"2016-03\",\n\"Fluvial/Mar\\u00edtima\",\n\"Paraguay\",\n{\n            'v': -1391.2,\n            'f': \"-1391.2\",\n        }],\n [{\n            'v': 76,\n            'f': \"76\",\n        },\n\"2016-03\",\n\"Fluvial/Mar\\u00edtima\",\n\"Uruguay\",\n{\n            'v': -26518.7,\n            'f': \"-26518.7\",\n        }],\n [{\n            'v': 77,\n            'f': \"77\",\n        },\n\"2016-03\",\n\"Fluvial/Mar\\u00edtima\",\n\"EE.UU. y Canad\\u00e1\",\n{\n            'v': 16347.0,\n            'f': \"16347.0\",\n        }],\n [{\n            'v': 78,\n            'f': \"78\",\n        },\n\"2016-03\",\n\"Fluvial/Mar\\u00edtima\",\n\"Resto de Am\\u00e9rica\",\n{\n            'v': 6845.7,\n            'f': \"6845.7\",\n        }],\n [{\n            'v': 79,\n            'f': \"79\",\n        },\n\"2016-03\",\n\"Fluvial/Mar\\u00edtima\",\n\"Europa\",\n{\n            'v': 17357.2,\n            'f': \"17357.2\",\n        }],\n [{\n            'v': 80,\n            'f': \"80\",\n        },\n\"2016-03\",\n\"Fluvial/Mar\\u00edtima\",\n\"Resto del mundo\",\n{\n            'v': 5092.9,\n            'f': \"5092.9\",\n        }],\n [{\n            'v': 81,\n            'f': \"81\",\n        },\n\"2016-04\",\n\"A\\u00e9rea\",\n\"Bolivia\",\n{\n            'v': 1868.8,\n            'f': \"1868.8\",\n        }],\n [{\n            'v': 82,\n            'f': \"82\",\n        },\n\"2016-04\",\n\"A\\u00e9rea\",\n\"Brasil\",\n{\n            'v': -27183.2,\n            'f': \"-27183.2\",\n        }],\n [{\n            'v': 83,\n            'f': \"83\",\n        },\n\"2016-04\",\n\"A\\u00e9rea\",\n\"Chile\",\n{\n            'v': -4251.1,\n            'f': \"-4251.1\",\n        }],\n [{\n            'v': 84,\n            'f': \"84\",\n        },\n\"2016-04\",\n\"A\\u00e9rea\",\n\"Paraguay\",\n{\n            'v': 1800.3,\n            'f': \"1800.3\",\n        }],\n [{\n            'v': 85,\n            'f': \"85\",\n        },\n\"2016-04\",\n\"A\\u00e9rea\",\n\"Uruguay\",\n{\n            'v': -269.5,\n            'f': \"-269.5\",\n        }],\n [{\n            'v': 86,\n            'f': \"86\",\n        },\n\"2016-04\",\n\"A\\u00e9rea\",\n\"EE.UU. y Canad\\u00e1\",\n{\n            'v': -40023.8,\n            'f': \"-40023.8\",\n        }],\n [{\n            'v': 87,\n            'f': \"87\",\n        },\n\"2016-04\",\n\"A\\u00e9rea\",\n\"Resto de Am\\u00e9rica\",\n{\n            'v': -41305.5,\n            'f': \"-41305.5\",\n        }],\n [{\n            'v': 88,\n            'f': \"88\",\n        },\n\"2016-04\",\n\"A\\u00e9rea\",\n\"Europa\",\n{\n            'v': 4898.6,\n            'f': \"4898.6\",\n        }],\n [{\n            'v': 89,\n            'f': \"89\",\n        },\n\"2016-04\",\n\"A\\u00e9rea\",\n\"Resto del mundo\",\n{\n            'v': -777.4,\n            'f': \"-777.4\",\n        }],\n [{\n            'v': 90,\n            'f': \"90\",\n        },\n\"2016-04\",\n\"Terrestre\",\n\"Bolivia\",\n{\n            'v': -1179.8,\n            'f': \"-1179.8\",\n        }],\n [{\n            'v': 91,\n            'f': \"91\",\n        },\n\"2016-04\",\n\"Terrestre\",\n\"Brasil\",\n{\n            'v': -26933.3,\n            'f': \"-26933.3\",\n        }],\n [{\n            'v': 92,\n            'f': \"92\",\n        },\n\"2016-04\",\n\"Terrestre\",\n\"Chile\",\n{\n            'v': -67904.2,\n            'f': \"-67904.2\",\n        }],\n [{\n            'v': 93,\n            'f': \"93\",\n        },\n\"2016-04\",\n\"Terrestre\",\n\"Paraguay\",\n{\n            'v': -28416.0,\n            'f': \"-28416.0\",\n        }],\n [{\n            'v': 94,\n            'f': \"94\",\n        },\n\"2016-04\",\n\"Terrestre\",\n\"Uruguay\",\n{\n            'v': -5864.9,\n            'f': \"-5864.9\",\n        }],\n [{\n            'v': 95,\n            'f': \"95\",\n        },\n\"2016-04\",\n\"Terrestre\",\n\"EE.UU. y Canad\\u00e1\",\n{\n            'v': 3366.0,\n            'f': \"3366.0\",\n        }],\n [{\n            'v': 96,\n            'f': \"96\",\n        },\n\"2016-04\",\n\"Terrestre\",\n\"Resto de Am\\u00e9rica\",\n{\n            'v': 7449.2,\n            'f': \"7449.2\",\n        }],\n [{\n            'v': 97,\n            'f': \"97\",\n        },\n\"2016-04\",\n\"Terrestre\",\n\"Europa\",\n{\n            'v': 17752.1,\n            'f': \"17752.1\",\n        }],\n [{\n            'v': 98,\n            'f': \"98\",\n        },\n\"2016-04\",\n\"Terrestre\",\n\"Resto del mundo\",\n{\n            'v': 5511.9,\n            'f': \"5511.9\",\n        }],\n [{\n            'v': 99,\n            'f': \"99\",\n        },\n\"2016-04\",\n\"Fluvial/Mar\\u00edtima\",\n\"Bolivia\",\n{\n            'v': 1729.0,\n            'f': \"1729.0\",\n        }],\n [{\n            'v': 100,\n            'f': \"100\",\n        },\n\"2016-04\",\n\"Fluvial/Mar\\u00edtima\",\n\"Brasil\",\n{\n            'v': 4121.5,\n            'f': \"4121.5\",\n        }],\n [{\n            'v': 101,\n            'f': \"101\",\n        },\n\"2016-04\",\n\"Fluvial/Mar\\u00edtima\",\n\"Chile\",\n{\n            'v': 569.5,\n            'f': \"569.5\",\n        }],\n [{\n            'v': 102,\n            'f': \"102\",\n        },\n\"2016-04\",\n\"Fluvial/Mar\\u00edtima\",\n\"Paraguay\",\n{\n            'v': -1202.7,\n            'f': \"-1202.7\",\n        }],\n [{\n            'v': 103,\n            'f': \"103\",\n        },\n\"2016-04\",\n\"Fluvial/Mar\\u00edtima\",\n\"Uruguay\",\n{\n            'v': 1698.8,\n            'f': \"1698.8\",\n        }],\n [{\n            'v': 104,\n            'f': \"104\",\n        },\n\"2016-04\",\n\"Fluvial/Mar\\u00edtima\",\n\"EE.UU. y Canad\\u00e1\",\n{\n            'v': 2661.1,\n            'f': \"2661.1\",\n        }],\n [{\n            'v': 105,\n            'f': \"105\",\n        },\n\"2016-04\",\n\"Fluvial/Mar\\u00edtima\",\n\"Resto de Am\\u00e9rica\",\n{\n            'v': 3116.6,\n            'f': \"3116.6\",\n        }],\n [{\n            'v': 106,\n            'f': \"106\",\n        },\n\"2016-04\",\n\"Fluvial/Mar\\u00edtima\",\n\"Europa\",\n{\n            'v': 6183.3,\n            'f': \"6183.3\",\n        }],\n [{\n            'v': 107,\n            'f': \"107\",\n        },\n\"2016-04\",\n\"Fluvial/Mar\\u00edtima\",\n\"Resto del mundo\",\n{\n            'v': 1668.1,\n            'f': \"1668.1\",\n        }],\n [{\n            'v': 108,\n            'f': \"108\",\n        },\n\"2016-05\",\n\"A\\u00e9rea\",\n\"Bolivia\",\n{\n            'v': 2141.7,\n            'f': \"2141.7\",\n        }],\n [{\n            'v': 109,\n            'f': \"109\",\n        },\n\"2016-05\",\n\"A\\u00e9rea\",\n\"Brasil\",\n{\n            'v': -3518.8,\n            'f': \"-3518.8\",\n        }],\n [{\n            'v': 110,\n            'f': \"110\",\n        },\n\"2016-05\",\n\"A\\u00e9rea\",\n\"Chile\",\n{\n            'v': -3946.8,\n            'f': \"-3946.8\",\n        }],\n [{\n            'v': 111,\n            'f': \"111\",\n        },\n\"2016-05\",\n\"A\\u00e9rea\",\n\"Paraguay\",\n{\n            'v': 1612.0,\n            'f': \"1612.0\",\n        }],\n [{\n            'v': 112,\n            'f': \"112\",\n        },\n\"2016-05\",\n\"A\\u00e9rea\",\n\"Uruguay\",\n{\n            'v': 332.6,\n            'f': \"332.6\",\n        }],\n [{\n            'v': 113,\n            'f': \"113\",\n        },\n\"2016-05\",\n\"A\\u00e9rea\",\n\"EE.UU. y Canad\\u00e1\",\n{\n            'v': -57860.9,\n            'f': \"-57860.9\",\n        }],\n [{\n            'v': 114,\n            'f': \"114\",\n        },\n\"2016-05\",\n\"A\\u00e9rea\",\n\"Resto de Am\\u00e9rica\",\n{\n            'v': -41847.9,\n            'f': \"-41847.9\",\n        }],\n [{\n            'v': 115,\n            'f': \"115\",\n        },\n\"2016-05\",\n\"A\\u00e9rea\",\n\"Europa\",\n{\n            'v': -26678.8,\n            'f': \"-26678.8\",\n        }],\n [{\n            'v': 116,\n            'f': \"116\",\n        },\n\"2016-05\",\n\"A\\u00e9rea\",\n\"Resto del mundo\",\n{\n            'v': 578.9,\n            'f': \"578.9\",\n        }],\n [{\n            'v': 117,\n            'f': \"117\",\n        },\n\"2016-05\",\n\"Terrestre\",\n\"Bolivia\",\n{\n            'v': -394.6,\n            'f': \"-394.6\",\n        }],\n [{\n            'v': 118,\n            'f': \"118\",\n        },\n\"2016-05\",\n\"Terrestre\",\n\"Brasil\",\n{\n            'v': -11046.4,\n            'f': \"-11046.4\",\n        }],\n [{\n            'v': 119,\n            'f': \"119\",\n        },\n\"2016-05\",\n\"Terrestre\",\n\"Chile\",\n{\n            'v': -54566.8,\n            'f': \"-54566.8\",\n        }],\n [{\n            'v': 120,\n            'f': \"120\",\n        },\n\"2016-05\",\n\"Terrestre\",\n\"Paraguay\",\n{\n            'v': -25715.4,\n            'f': \"-25715.4\",\n        }],\n [{\n            'v': 121,\n            'f': \"121\",\n        },\n\"2016-05\",\n\"Terrestre\",\n\"Uruguay\",\n{\n            'v': -8228.7,\n            'f': \"-8228.7\",\n        }],\n [{\n            'v': 122,\n            'f': \"122\",\n        },\n\"2016-05\",\n\"Terrestre\",\n\"EE.UU. y Canad\\u00e1\",\n{\n            'v': 1762.3,\n            'f': \"1762.3\",\n        }],\n [{\n            'v': 123,\n            'f': \"123\",\n        },\n\"2016-05\",\n\"Terrestre\",\n\"Resto de Am\\u00e9rica\",\n{\n            'v': 8329.3,\n            'f': \"8329.3\",\n        }],\n [{\n            'v': 124,\n            'f': \"124\",\n        },\n\"2016-05\",\n\"Terrestre\",\n\"Europa\",\n{\n            'v': 11501.5,\n            'f': \"11501.5\",\n        }],\n [{\n            'v': 125,\n            'f': \"125\",\n        },\n\"2016-05\",\n\"Terrestre\",\n\"Resto del mundo\",\n{\n            'v': 3821.8,\n            'f': \"3821.8\",\n        }],\n [{\n            'v': 126,\n            'f': \"126\",\n        },\n\"2016-05\",\n\"Fluvial/Mar\\u00edtima\",\n\"Bolivia\",\n{\n            'v': 2454.0,\n            'f': \"2454.0\",\n        }],\n [{\n            'v': 127,\n            'f': \"127\",\n        },\n\"2016-05\",\n\"Fluvial/Mar\\u00edtima\",\n\"Brasil\",\n{\n            'v': 1336.4,\n            'f': \"1336.4\",\n        }],\n [{\n            'v': 128,\n            'f': \"128\",\n        },\n\"2016-05\",\n\"Fluvial/Mar\\u00edtima\",\n\"Chile\",\n{\n            'v': 682.5,\n            'f': \"682.5\",\n        }],\n [{\n            'v': 129,\n            'f': \"129\",\n        },\n\"2016-05\",\n\"Fluvial/Mar\\u00edtima\",\n\"Paraguay\",\n{\n            'v': -2099.6,\n            'f': \"-2099.6\",\n        }],\n [{\n            'v': 130,\n            'f': \"130\",\n        },\n\"2016-05\",\n\"Fluvial/Mar\\u00edtima\",\n\"Uruguay\",\n{\n            'v': 1034.2,\n            'f': \"1034.2\",\n        }],\n [{\n            'v': 131,\n            'f': \"131\",\n        },\n\"2016-05\",\n\"Fluvial/Mar\\u00edtima\",\n\"EE.UU. y Canad\\u00e1\",\n{\n            'v': 1631.5,\n            'f': \"1631.5\",\n        }],\n [{\n            'v': 132,\n            'f': \"132\",\n        },\n\"2016-05\",\n\"Fluvial/Mar\\u00edtima\",\n\"Resto de Am\\u00e9rica\",\n{\n            'v': 2872.2,\n            'f': \"2872.2\",\n        }],\n [{\n            'v': 133,\n            'f': \"133\",\n        },\n\"2016-05\",\n\"Fluvial/Mar\\u00edtima\",\n\"Europa\",\n{\n            'v': 3844.1,\n            'f': \"3844.1\",\n        }],\n [{\n            'v': 134,\n            'f': \"134\",\n        },\n\"2016-05\",\n\"Fluvial/Mar\\u00edtima\",\n\"Resto del mundo\",\n{\n            'v': 1106.7,\n            'f': \"1106.7\",\n        }],\n [{\n            'v': 135,\n            'f': \"135\",\n        },\n\"2016-06\",\n\"A\\u00e9rea\",\n\"Bolivia\",\n{\n            'v': 2010.3,\n            'f': \"2010.3\",\n        }],\n [{\n            'v': 136,\n            'f': \"136\",\n        },\n\"2016-06\",\n\"A\\u00e9rea\",\n\"Brasil\",\n{\n            'v': 7944.2,\n            'f': \"7944.2\",\n        }],\n [{\n            'v': 137,\n            'f': \"137\",\n        },\n\"2016-06\",\n\"A\\u00e9rea\",\n\"Chile\",\n{\n            'v': -10596.1,\n            'f': \"-10596.1\",\n        }],\n [{\n            'v': 138,\n            'f': \"138\",\n        },\n\"2016-06\",\n\"A\\u00e9rea\",\n\"Paraguay\",\n{\n            'v': 1017.7,\n            'f': \"1017.7\",\n        }],\n [{\n            'v': 139,\n            'f': \"139\",\n        },\n\"2016-06\",\n\"A\\u00e9rea\",\n\"Uruguay\",\n{\n            'v': -130.9,\n            'f': \"-130.9\",\n        }],\n [{\n            'v': 140,\n            'f': \"140\",\n        },\n\"2016-06\",\n\"A\\u00e9rea\",\n\"EE.UU. y Canad\\u00e1\",\n{\n            'v': -54726.7,\n            'f': \"-54726.7\",\n        }],\n [{\n            'v': 141,\n            'f': \"141\",\n        },\n\"2016-06\",\n\"A\\u00e9rea\",\n\"Resto de Am\\u00e9rica\",\n{\n            'v': -36412.0,\n            'f': \"-36412.0\",\n        }],\n [{\n            'v': 142,\n            'f': \"142\",\n        },\n\"2016-06\",\n\"A\\u00e9rea\",\n\"Europa\",\n{\n            'v': -52168.2,\n            'f': \"-52168.2\",\n        }],\n [{\n            'v': 143,\n            'f': \"143\",\n        },\n\"2016-06\",\n\"A\\u00e9rea\",\n\"Resto del mundo\",\n{\n            'v': 1173.7,\n            'f': \"1173.7\",\n        }],\n [{\n            'v': 144,\n            'f': \"144\",\n        },\n\"2016-06\",\n\"Terrestre\",\n\"Bolivia\",\n{\n            'v': -2721.8,\n            'f': \"-2721.8\",\n        }],\n [{\n            'v': 145,\n            'f': \"145\",\n        },\n\"2016-06\",\n\"Terrestre\",\n\"Brasil\",\n{\n            'v': -20381.6,\n            'f': \"-20381.6\",\n        }],\n [{\n            'v': 146,\n            'f': \"146\",\n        },\n\"2016-06\",\n\"Terrestre\",\n\"Chile\",\n{\n            'v': -31362.1,\n            'f': \"-31362.1\",\n        }],\n [{\n            'v': 147,\n            'f': \"147\",\n        },\n\"2016-06\",\n\"Terrestre\",\n\"Paraguay\",\n{\n            'v': -33118.9,\n            'f': \"-33118.9\",\n        }],\n [{\n            'v': 148,\n            'f': \"148\",\n        },\n\"2016-06\",\n\"Terrestre\",\n\"Uruguay\",\n{\n            'v': -13910.2,\n            'f': \"-13910.2\",\n        }],\n [{\n            'v': 149,\n            'f': \"149\",\n        },\n\"2016-06\",\n\"Terrestre\",\n\"EE.UU. y Canad\\u00e1\",\n{\n            'v': 2092.9,\n            'f': \"2092.9\",\n        }],\n [{\n            'v': 150,\n            'f': \"150\",\n        },\n\"2016-06\",\n\"Terrestre\",\n\"Resto de Am\\u00e9rica\",\n{\n            'v': 6981.1,\n            'f': \"6981.1\",\n        }],\n [{\n            'v': 151,\n            'f': \"151\",\n        },\n\"2016-06\",\n\"Terrestre\",\n\"Europa\",\n{\n            'v': 7276.3,\n            'f': \"7276.3\",\n        }],\n [{\n            'v': 152,\n            'f': \"152\",\n        },\n\"2016-06\",\n\"Terrestre\",\n\"Resto del mundo\",\n{\n            'v': 2830.4,\n            'f': \"2830.4\",\n        }],\n [{\n            'v': 153,\n            'f': \"153\",\n        },\n\"2016-06\",\n\"Fluvial/Mar\\u00edtima\",\n\"Bolivia\",\n{\n            'v': 252.0,\n            'f': \"252.0\",\n        }],\n [{\n            'v': 154,\n            'f': \"154\",\n        },\n\"2016-06\",\n\"Fluvial/Mar\\u00edtima\",\n\"Brasil\",\n{\n            'v': 3324.1,\n            'f': \"3324.1\",\n        }],\n [{\n            'v': 155,\n            'f': \"155\",\n        },\n\"2016-06\",\n\"Fluvial/Mar\\u00edtima\",\n\"Chile\",\n{\n            'v': 524.5,\n            'f': \"524.5\",\n        }],\n [{\n            'v': 156,\n            'f': \"156\",\n        },\n\"2016-06\",\n\"Fluvial/Mar\\u00edtima\",\n\"Paraguay\",\n{\n            'v': -3450.2,\n            'f': \"-3450.2\",\n        }],\n [{\n            'v': 157,\n            'f': \"157\",\n        },\n\"2016-06\",\n\"Fluvial/Mar\\u00edtima\",\n\"Uruguay\",\n{\n            'v': -3465.4,\n            'f': \"-3465.4\",\n        }],\n [{\n            'v': 158,\n            'f': \"158\",\n        },\n\"2016-06\",\n\"Fluvial/Mar\\u00edtima\",\n\"EE.UU. y Canad\\u00e1\",\n{\n            'v': 1793.7,\n            'f': \"1793.7\",\n        }],\n [{\n            'v': 159,\n            'f': \"159\",\n        },\n\"2016-06\",\n\"Fluvial/Mar\\u00edtima\",\n\"Resto de Am\\u00e9rica\",\n{\n            'v': 2912.4,\n            'f': \"2912.4\",\n        }],\n [{\n            'v': 160,\n            'f': \"160\",\n        },\n\"2016-06\",\n\"Fluvial/Mar\\u00edtima\",\n\"Europa\",\n{\n            'v': 2630.7,\n            'f': \"2630.7\",\n        }],\n [{\n            'v': 161,\n            'f': \"161\",\n        },\n\"2016-06\",\n\"Fluvial/Mar\\u00edtima\",\n\"Resto del mundo\",\n{\n            'v': 916.3,\n            'f': \"916.3\",\n        }],\n [{\n            'v': 162,\n            'f': \"162\",\n        },\n\"2016-07\",\n\"A\\u00e9rea\",\n\"Bolivia\",\n{\n            'v': 2697.2,\n            'f': \"2697.2\",\n        }],\n [{\n            'v': 163,\n            'f': \"163\",\n        },\n\"2016-07\",\n\"A\\u00e9rea\",\n\"Brasil\",\n{\n            'v': 13211.2,\n            'f': \"13211.2\",\n        }],\n [{\n            'v': 164,\n            'f': \"164\",\n        },\n\"2016-07\",\n\"A\\u00e9rea\",\n\"Chile\",\n{\n            'v': -22933.7,\n            'f': \"-22933.7\",\n        }],\n [{\n            'v': 165,\n            'f': \"165\",\n        },\n\"2016-07\",\n\"A\\u00e9rea\",\n\"Paraguay\",\n{\n            'v': 3408.1,\n            'f': \"3408.1\",\n        }],\n [{\n            'v': 166,\n            'f': \"166\",\n        },\n\"2016-07\",\n\"A\\u00e9rea\",\n\"Uruguay\",\n{\n            'v': 897.8,\n            'f': \"897.8\",\n        }],\n [{\n            'v': 167,\n            'f': \"167\",\n        },\n\"2016-07\",\n\"A\\u00e9rea\",\n\"EE.UU. y Canad\\u00e1\",\n{\n            'v': -44915.1,\n            'f': \"-44915.1\",\n        }],\n [{\n            'v': 168,\n            'f': \"168\",\n        },\n\"2016-07\",\n\"A\\u00e9rea\",\n\"Resto de Am\\u00e9rica\",\n{\n            'v': -37633.0,\n            'f': \"-37633.0\",\n        }],\n [{\n            'v': 169,\n            'f': \"169\",\n        },\n\"2016-07\",\n\"A\\u00e9rea\",\n\"Europa\",\n{\n            'v': -45596.0,\n            'f': \"-45596.0\",\n        }],\n [{\n            'v': 170,\n            'f': \"170\",\n        },\n\"2016-07\",\n\"A\\u00e9rea\",\n\"Resto del mundo\",\n{\n            'v': 2118.6,\n            'f': \"2118.6\",\n        }],\n [{\n            'v': 171,\n            'f': \"171\",\n        },\n\"2016-07\",\n\"Terrestre\",\n\"Bolivia\",\n{\n            'v': -5369.6,\n            'f': \"-5369.6\",\n        }],\n [{\n            'v': 172,\n            'f': \"172\",\n        },\n\"2016-07\",\n\"Terrestre\",\n\"Brasil\",\n{\n            'v': -74857.9,\n            'f': \"-74857.9\",\n        }],\n [{\n            'v': 173,\n            'f': \"173\",\n        },\n\"2016-07\",\n\"Terrestre\",\n\"Chile\",\n{\n            'v': -72725.3,\n            'f': \"-72725.3\",\n        }],\n [{\n            'v': 174,\n            'f': \"174\",\n        },\n\"2016-07\",\n\"Terrestre\",\n\"Paraguay\",\n{\n            'v': -41934.6,\n            'f': \"-41934.6\",\n        }],\n [{\n            'v': 175,\n            'f': \"175\",\n        },\n\"2016-07\",\n\"Terrestre\",\n\"Uruguay\",\n{\n            'v': -18886.6,\n            'f': \"-18886.6\",\n        }],\n [{\n            'v': 176,\n            'f': \"176\",\n        },\n\"2016-07\",\n\"Terrestre\",\n\"EE.UU. y Canad\\u00e1\",\n{\n            'v': 2497.6,\n            'f': \"2497.6\",\n        }],\n [{\n            'v': 177,\n            'f': \"177\",\n        },\n\"2016-07\",\n\"Terrestre\",\n\"Resto de Am\\u00e9rica\",\n{\n            'v': 9481.7,\n            'f': \"9481.7\",\n        }],\n [{\n            'v': 178,\n            'f': \"178\",\n        },\n\"2016-07\",\n\"Terrestre\",\n\"Europa\",\n{\n            'v': 11153.9,\n            'f': \"11153.9\",\n        }],\n [{\n            'v': 179,\n            'f': \"179\",\n        },\n\"2016-07\",\n\"Terrestre\",\n\"Resto del mundo\",\n{\n            'v': 3254.4,\n            'f': \"3254.4\",\n        }],\n [{\n            'v': 180,\n            'f': \"180\",\n        },\n\"2016-07\",\n\"Fluvial/Mar\\u00edtima\",\n\"Bolivia\",\n{\n            'v': 988.0,\n            'f': \"988.0\",\n        }],\n [{\n            'v': 181,\n            'f': \"181\",\n        },\n\"2016-07\",\n\"Fluvial/Mar\\u00edtima\",\n\"Brasil\",\n{\n            'v': 5552.6,\n            'f': \"5552.6\",\n        }],\n [{\n            'v': 182,\n            'f': \"182\",\n        },\n\"2016-07\",\n\"Fluvial/Mar\\u00edtima\",\n\"Chile\",\n{\n            'v': 874.9,\n            'f': \"874.9\",\n        }],\n [{\n            'v': 183,\n            'f': \"183\",\n        },\n\"2016-07\",\n\"Fluvial/Mar\\u00edtima\",\n\"Paraguay\",\n{\n            'v': -6455.2,\n            'f': \"-6455.2\",\n        }],\n [{\n            'v': 184,\n            'f': \"184\",\n        },\n\"2016-07\",\n\"Fluvial/Mar\\u00edtima\",\n\"Uruguay\",\n{\n            'v': 2027.3,\n            'f': \"2027.3\",\n        }],\n [{\n            'v': 185,\n            'f': \"185\",\n        },\n\"2016-07\",\n\"Fluvial/Mar\\u00edtima\",\n\"EE.UU. y Canad\\u00e1\",\n{\n            'v': 1007.7,\n            'f': \"1007.7\",\n        }],\n [{\n            'v': 186,\n            'f': \"186\",\n        },\n\"2016-07\",\n\"Fluvial/Mar\\u00edtima\",\n\"Resto de Am\\u00e9rica\",\n{\n            'v': 2707.0,\n            'f': \"2707.0\",\n        }],\n [{\n            'v': 187,\n            'f': \"187\",\n        },\n\"2016-07\",\n\"Fluvial/Mar\\u00edtima\",\n\"Europa\",\n{\n            'v': 2814.1,\n            'f': \"2814.1\",\n        }],\n [{\n            'v': 188,\n            'f': \"188\",\n        },\n\"2016-07\",\n\"Fluvial/Mar\\u00edtima\",\n\"Resto del mundo\",\n{\n            'v': 963.4,\n            'f': \"963.4\",\n        }],\n [{\n            'v': 189,\n            'f': \"189\",\n        },\n\"2016-08\",\n\"A\\u00e9rea\",\n\"Bolivia\",\n{\n            'v': 1186.2,\n            'f': \"1186.2\",\n        }],\n [{\n            'v': 190,\n            'f': \"190\",\n        },\n\"2016-08\",\n\"A\\u00e9rea\",\n\"Brasil\",\n{\n            'v': 13691.2,\n            'f': \"13691.2\",\n        }],\n [{\n            'v': 191,\n            'f': \"191\",\n        },\n\"2016-08\",\n\"A\\u00e9rea\",\n\"Chile\",\n{\n            'v': -16119.3,\n            'f': \"-16119.3\",\n        }],\n [{\n            'v': 192,\n            'f': \"192\",\n        },\n\"2016-08\",\n\"A\\u00e9rea\",\n\"Paraguay\",\n{\n            'v': 1325.1,\n            'f': \"1325.1\",\n        }],\n [{\n            'v': 193,\n            'f': \"193\",\n        },\n\"2016-08\",\n\"A\\u00e9rea\",\n\"Uruguay\",\n{\n            'v': -617.5,\n            'f': \"-617.5\",\n        }],\n [{\n            'v': 194,\n            'f': \"194\",\n        },\n\"2016-08\",\n\"A\\u00e9rea\",\n\"EE.UU. y Canad\\u00e1\",\n{\n            'v': -55247.1,\n            'f': \"-55247.1\",\n        }],\n [{\n            'v': 195,\n            'f': \"195\",\n        },\n\"2016-08\",\n\"A\\u00e9rea\",\n\"Resto de Am\\u00e9rica\",\n{\n            'v': -31725.7,\n            'f': \"-31725.7\",\n        }],\n [{\n            'v': 196,\n            'f': \"196\",\n        },\n\"2016-08\",\n\"A\\u00e9rea\",\n\"Europa\",\n{\n            'v': -36996.6,\n            'f': \"-36996.6\",\n        }],\n [{\n            'v': 197,\n            'f': \"197\",\n        },\n\"2016-08\",\n\"A\\u00e9rea\",\n\"Resto del mundo\",\n{\n            'v': -160.4,\n            'f': \"-160.4\",\n        }],\n [{\n            'v': 198,\n            'f': \"198\",\n        },\n\"2016-08\",\n\"Terrestre\",\n\"Bolivia\",\n{\n            'v': -11063.7,\n            'f': \"-11063.7\",\n        }],\n [{\n            'v': 199,\n            'f': \"199\",\n        },\n\"2016-08\",\n\"Terrestre\",\n\"Brasil\",\n{\n            'v': -27438.9,\n            'f': \"-27438.9\",\n        }],\n [{\n            'v': 200,\n            'f': \"200\",\n        },\n\"2016-08\",\n\"Terrestre\",\n\"Chile\",\n{\n            'v': -58993.7,\n            'f': \"-58993.7\",\n        }],\n [{\n            'v': 201,\n            'f': \"201\",\n        },\n\"2016-08\",\n\"Terrestre\",\n\"Paraguay\",\n{\n            'v': -22185.4,\n            'f': \"-22185.4\",\n        }],\n [{\n            'v': 202,\n            'f': \"202\",\n        },\n\"2016-08\",\n\"Terrestre\",\n\"Uruguay\",\n{\n            'v': -12335.0,\n            'f': \"-12335.0\",\n        }],\n [{\n            'v': 203,\n            'f': \"203\",\n        },\n\"2016-08\",\n\"Terrestre\",\n\"EE.UU. y Canad\\u00e1\",\n{\n            'v': 2460.5,\n            'f': \"2460.5\",\n        }],\n [{\n            'v': 204,\n            'f': \"204\",\n        },\n\"2016-08\",\n\"Terrestre\",\n\"Resto de Am\\u00e9rica\",\n{\n            'v': 9492.1,\n            'f': \"9492.1\",\n        }],\n [{\n            'v': 205,\n            'f': \"205\",\n        },\n\"2016-08\",\n\"Terrestre\",\n\"Europa\",\n{\n            'v': 13711.8,\n            'f': \"13711.8\",\n        }],\n [{\n            'v': 206,\n            'f': \"206\",\n        },\n\"2016-08\",\n\"Terrestre\",\n\"Resto del mundo\",\n{\n            'v': 3532.8,\n            'f': \"3532.8\",\n        }],\n [{\n            'v': 207,\n            'f': \"207\",\n        },\n\"2016-08\",\n\"Fluvial/Mar\\u00edtima\",\n\"Bolivia\",\n{\n            'v': 1187.0,\n            'f': \"1187.0\",\n        }],\n [{\n            'v': 208,\n            'f': \"208\",\n        },\n\"2016-08\",\n\"Fluvial/Mar\\u00edtima\",\n\"Brasil\",\n{\n            'v': 4078.1,\n            'f': \"4078.1\",\n        }],\n [{\n            'v': 209,\n            'f': \"209\",\n        },\n\"2016-08\",\n\"Fluvial/Mar\\u00edtima\",\n\"Chile\",\n{\n            'v': 652.1,\n            'f': \"652.1\",\n        }],\n [{\n            'v': 210,\n            'f': \"210\",\n        },\n\"2016-08\",\n\"Fluvial/Mar\\u00edtima\",\n\"Paraguay\",\n{\n            'v': -2625.8,\n            'f': \"-2625.8\",\n        }],\n [{\n            'v': 211,\n            'f': \"211\",\n        },\n\"2016-08\",\n\"Fluvial/Mar\\u00edtima\",\n\"Uruguay\",\n{\n            'v': -434.9,\n            'f': \"-434.9\",\n        }],\n [{\n            'v': 212,\n            'f': \"212\",\n        },\n\"2016-08\",\n\"Fluvial/Mar\\u00edtima\",\n\"EE.UU. y Canad\\u00e1\",\n{\n            'v': 1097.9,\n            'f': \"1097.9\",\n        }],\n [{\n            'v': 213,\n            'f': \"213\",\n        },\n\"2016-08\",\n\"Fluvial/Mar\\u00edtima\",\n\"Resto de Am\\u00e9rica\",\n{\n            'v': 3005.4,\n            'f': \"3005.4\",\n        }],\n [{\n            'v': 214,\n            'f': \"214\",\n        },\n\"2016-08\",\n\"Fluvial/Mar\\u00edtima\",\n\"Europa\",\n{\n            'v': 3979.8,\n            'f': \"3979.8\",\n        }],\n [{\n            'v': 215,\n            'f': \"215\",\n        },\n\"2016-08\",\n\"Fluvial/Mar\\u00edtima\",\n\"Resto del mundo\",\n{\n            'v': 911.4,\n            'f': \"911.4\",\n        }],\n [{\n            'v': 216,\n            'f': \"216\",\n        },\n\"2016-09\",\n\"A\\u00e9rea\",\n\"Bolivia\",\n{\n            'v': 2014.5,\n            'f': \"2014.5\",\n        }],\n [{\n            'v': 217,\n            'f': \"217\",\n        },\n\"2016-09\",\n\"A\\u00e9rea\",\n\"Brasil\",\n{\n            'v': 9670.5,\n            'f': \"9670.5\",\n        }],\n [{\n            'v': 218,\n            'f': \"218\",\n        },\n\"2016-09\",\n\"A\\u00e9rea\",\n\"Chile\",\n{\n            'v': -15636.1,\n            'f': \"-15636.1\",\n        }],\n [{\n            'v': 219,\n            'f': \"219\",\n        },\n\"2016-09\",\n\"A\\u00e9rea\",\n\"Paraguay\",\n{\n            'v': 1510.0,\n            'f': \"1510.0\",\n        }],\n [{\n            'v': 220,\n            'f': \"220\",\n        },\n\"2016-09\",\n\"A\\u00e9rea\",\n\"Uruguay\",\n{\n            'v': -48.4,\n            'f': \"-48.4\",\n        }],\n [{\n            'v': 221,\n            'f': \"221\",\n        },\n\"2016-09\",\n\"A\\u00e9rea\",\n\"EE.UU. y Canad\\u00e1\",\n{\n            'v': -55130.1,\n            'f': \"-55130.1\",\n        }],\n [{\n            'v': 222,\n            'f': \"222\",\n        },\n\"2016-09\",\n\"A\\u00e9rea\",\n\"Resto de Am\\u00e9rica\",\n{\n            'v': -31961.2,\n            'f': \"-31961.2\",\n        }],\n [{\n            'v': 223,\n            'f': \"223\",\n        },\n\"2016-09\",\n\"A\\u00e9rea\",\n\"Europa\",\n{\n            'v': -39677.4,\n            'f': \"-39677.4\",\n        }],\n [{\n            'v': 224,\n            'f': \"224\",\n        },\n\"2016-09\",\n\"A\\u00e9rea\",\n\"Resto del mundo\",\n{\n            'v': 1803.2,\n            'f': \"1803.2\",\n        }],\n [{\n            'v': 225,\n            'f': \"225\",\n        },\n\"2016-09\",\n\"Terrestre\",\n\"Bolivia\",\n{\n            'v': -7591.9,\n            'f': \"-7591.9\",\n        }],\n [{\n            'v': 226,\n            'f': \"226\",\n        },\n\"2016-09\",\n\"Terrestre\",\n\"Brasil\",\n{\n            'v': -30363.2,\n            'f': \"-30363.2\",\n        }],\n [{\n            'v': 227,\n            'f': \"227\",\n        },\n\"2016-09\",\n\"Terrestre\",\n\"Chile\",\n{\n            'v': -57820.2,\n            'f': \"-57820.2\",\n        }],\n [{\n            'v': 228,\n            'f': \"228\",\n        },\n\"2016-09\",\n\"Terrestre\",\n\"Paraguay\",\n{\n            'v': -12927.9,\n            'f': \"-12927.9\",\n        }],\n [{\n            'v': 229,\n            'f': \"229\",\n        },\n\"2016-09\",\n\"Terrestre\",\n\"Uruguay\",\n{\n            'v': -3108.7,\n            'f': \"-3108.7\",\n        }],\n [{\n            'v': 230,\n            'f': \"230\",\n        },\n\"2016-09\",\n\"Terrestre\",\n\"EE.UU. y Canad\\u00e1\",\n{\n            'v': 2134.8,\n            'f': \"2134.8\",\n        }],\n [{\n            'v': 231,\n            'f': \"231\",\n        },\n\"2016-09\",\n\"Terrestre\",\n\"Resto de Am\\u00e9rica\",\n{\n            'v': 7945.6,\n            'f': \"7945.6\",\n        }],\n [{\n            'v': 232,\n            'f': \"232\",\n        },\n\"2016-09\",\n\"Terrestre\",\n\"Europa\",\n{\n            'v': 11552.0,\n            'f': \"11552.0\",\n        }],\n [{\n            'v': 233,\n            'f': \"233\",\n        },\n\"2016-09\",\n\"Terrestre\",\n\"Resto del mundo\",\n{\n            'v': 3477.2,\n            'f': \"3477.2\",\n        }],\n [{\n            'v': 234,\n            'f': \"234\",\n        },\n\"2016-09\",\n\"Fluvial/Mar\\u00edtima\",\n\"Bolivia\",\n{\n            'v': 888.0,\n            'f': \"888.0\",\n        }],\n [{\n            'v': 235,\n            'f': \"235\",\n        },\n\"2016-09\",\n\"Fluvial/Mar\\u00edtima\",\n\"Brasil\",\n{\n            'v': 5807.1,\n            'f': \"5807.1\",\n        }],\n [{\n            'v': 236,\n            'f': \"236\",\n        },\n\"2016-09\",\n\"Fluvial/Mar\\u00edtima\",\n\"Chile\",\n{\n            'v': 1003.0,\n            'f': \"1003.0\",\n        }],\n [{\n            'v': 237,\n            'f': \"237\",\n        },\n\"2016-09\",\n\"Fluvial/Mar\\u00edtima\",\n\"Paraguay\",\n{\n            'v': -1830.3,\n            'f': \"-1830.3\",\n        }],\n [{\n            'v': 238,\n            'f': \"238\",\n        },\n\"2016-09\",\n\"Fluvial/Mar\\u00edtima\",\n\"Uruguay\",\n{\n            'v': -656.8,\n            'f': \"-656.8\",\n        }],\n [{\n            'v': 239,\n            'f': \"239\",\n        },\n\"2016-09\",\n\"Fluvial/Mar\\u00edtima\",\n\"EE.UU. y Canad\\u00e1\",\n{\n            'v': 1220.6,\n            'f': \"1220.6\",\n        }],\n [{\n            'v': 240,\n            'f': \"240\",\n        },\n\"2016-09\",\n\"Fluvial/Mar\\u00edtima\",\n\"Resto de Am\\u00e9rica\",\n{\n            'v': 3318.5,\n            'f': \"3318.5\",\n        }],\n [{\n            'v': 241,\n            'f': \"241\",\n        },\n\"2016-09\",\n\"Fluvial/Mar\\u00edtima\",\n\"Europa\",\n{\n            'v': 3862.6,\n            'f': \"3862.6\",\n        }],\n [{\n            'v': 242,\n            'f': \"242\",\n        },\n\"2016-09\",\n\"Fluvial/Mar\\u00edtima\",\n\"Resto del mundo\",\n{\n            'v': 1124.8,\n            'f': \"1124.8\",\n        }],\n [{\n            'v': 243,\n            'f': \"243\",\n        },\n\"2016-10\",\n\"A\\u00e9rea\",\n\"Bolivia\",\n{\n            'v': 2806.5,\n            'f': \"2806.5\",\n        }],\n [{\n            'v': 244,\n            'f': \"244\",\n        },\n\"2016-10\",\n\"A\\u00e9rea\",\n\"Brasil\",\n{\n            'v': -12557.2,\n            'f': \"-12557.2\",\n        }],\n [{\n            'v': 245,\n            'f': \"245\",\n        },\n\"2016-10\",\n\"A\\u00e9rea\",\n\"Chile\",\n{\n            'v': -22080.0,\n            'f': \"-22080.0\",\n        }],\n [{\n            'v': 246,\n            'f': \"246\",\n        },\n\"2016-10\",\n\"A\\u00e9rea\",\n\"Paraguay\",\n{\n            'v': 1090.3,\n            'f': \"1090.3\",\n        }],\n [{\n            'v': 247,\n            'f': \"247\",\n        },\n\"2016-10\",\n\"A\\u00e9rea\",\n\"Uruguay\",\n{\n            'v': -2063.9,\n            'f': \"-2063.9\",\n        }],\n [{\n            'v': 248,\n            'f': \"248\",\n        },\n\"2016-10\",\n\"A\\u00e9rea\",\n\"EE.UU. y Canad\\u00e1\",\n{\n            'v': -60905.2,\n            'f': \"-60905.2\",\n        }],\n [{\n            'v': 249,\n            'f': \"249\",\n        },\n\"2016-10\",\n\"A\\u00e9rea\",\n\"Resto de Am\\u00e9rica\",\n{\n            'v': -27872.1,\n            'f': \"-27872.1\",\n        }],\n [{\n            'v': 250,\n            'f': \"250\",\n        },\n\"2016-10\",\n\"A\\u00e9rea\",\n\"Europa\",\n{\n            'v': -42489.3,\n            'f': \"-42489.3\",\n        }],\n [{\n            'v': 251,\n            'f': \"251\",\n        },\n\"2016-10\",\n\"A\\u00e9rea\",\n\"Resto del mundo\",\n{\n            'v': 3907.9,\n            'f': \"3907.9\",\n        }],\n [{\n            'v': 252,\n            'f': \"252\",\n        },\n\"2016-10\",\n\"Terrestre\",\n\"Bolivia\",\n{\n            'v': 681.7,\n            'f': \"681.7\",\n        }],\n [{\n            'v': 253,\n            'f': \"253\",\n        },\n\"2016-10\",\n\"Terrestre\",\n\"Brasil\",\n{\n            'v': -33163.5,\n            'f': \"-33163.5\",\n        }],\n [{\n            'v': 254,\n            'f': \"254\",\n        },\n\"2016-10\",\n\"Terrestre\",\n\"Chile\",\n{\n            'v': -92202.6,\n            'f': \"-92202.6\",\n        }],\n [{\n            'v': 255,\n            'f': \"255\",\n        },\n\"2016-10\",\n\"Terrestre\",\n\"Paraguay\",\n{\n            'v': -21588.3,\n            'f': \"-21588.3\",\n        }],\n [{\n            'v': 256,\n            'f': \"256\",\n        },\n\"2016-10\",\n\"Terrestre\",\n\"Uruguay\",\n{\n            'v': -23463.8,\n            'f': \"-23463.8\",\n        }],\n [{\n            'v': 257,\n            'f': \"257\",\n        },\n\"2016-10\",\n\"Terrestre\",\n\"EE.UU. y Canad\\u00e1\",\n{\n            'v': 2908.7,\n            'f': \"2908.7\",\n        }],\n [{\n            'v': 258,\n            'f': \"258\",\n        },\n\"2016-10\",\n\"Terrestre\",\n\"Resto de Am\\u00e9rica\",\n{\n            'v': 11051.9,\n            'f': \"11051.9\",\n        }],\n [{\n            'v': 259,\n            'f': \"259\",\n        },\n\"2016-10\",\n\"Terrestre\",\n\"Europa\",\n{\n            'v': 20485.4,\n            'f': \"20485.4\",\n        }],\n [{\n            'v': 260,\n            'f': \"260\",\n        },\n\"2016-10\",\n\"Terrestre\",\n\"Resto del mundo\",\n{\n            'v': 5624.3,\n            'f': \"5624.3\",\n        }],\n [{\n            'v': 261,\n            'f': \"261\",\n        },\n\"2016-10\",\n\"Fluvial/Mar\\u00edtima\",\n\"Bolivia\",\n{\n            'v': 2369.0,\n            'f': \"2369.0\",\n        }],\n [{\n            'v': 262,\n            'f': \"262\",\n        },\n\"2016-10\",\n\"Fluvial/Mar\\u00edtima\",\n\"Brasil\",\n{\n            'v': 4997.9,\n            'f': \"4997.9\",\n        }],\n [{\n            'v': 263,\n            'f': \"263\",\n        },\n\"2016-10\",\n\"Fluvial/Mar\\u00edtima\",\n\"Chile\",\n{\n            'v': 1030.0,\n            'f': \"1030.0\",\n        }],\n [{\n            'v': 264,\n            'f': \"264\",\n        },\n\"2016-10\",\n\"Fluvial/Mar\\u00edtima\",\n\"Paraguay\",\n{\n            'v': -3403.1,\n            'f': \"-3403.1\",\n        }],\n [{\n            'v': 265,\n            'f': \"265\",\n        },\n\"2016-10\",\n\"Fluvial/Mar\\u00edtima\",\n\"Uruguay\",\n{\n            'v': -12638.0,\n            'f': \"-12638.0\",\n        }],\n [{\n            'v': 266,\n            'f': \"266\",\n        },\n\"2016-10\",\n\"Fluvial/Mar\\u00edtima\",\n\"EE.UU. y Canad\\u00e1\",\n{\n            'v': 1952.2,\n            'f': \"1952.2\",\n        }],\n [{\n            'v': 267,\n            'f': \"267\",\n        },\n\"2016-10\",\n\"Fluvial/Mar\\u00edtima\",\n\"Resto de Am\\u00e9rica\",\n{\n            'v': 4742.9,\n            'f': \"4742.9\",\n        }],\n [{\n            'v': 268,\n            'f': \"268\",\n        },\n\"2016-10\",\n\"Fluvial/Mar\\u00edtima\",\n\"Europa\",\n{\n            'v': 5884.3,\n            'f': \"5884.3\",\n        }],\n [{\n            'v': 269,\n            'f': \"269\",\n        },\n\"2016-10\",\n\"Fluvial/Mar\\u00edtima\",\n\"Resto del mundo\",\n{\n            'v': 1422.4,\n            'f': \"1422.4\",\n        }],\n [{\n            'v': 270,\n            'f': \"270\",\n        },\n\"2016-11\",\n\"A\\u00e9rea\",\n\"Bolivia\",\n{\n            'v': 2749.2,\n            'f': \"2749.2\",\n        }],\n [{\n            'v': 271,\n            'f': \"271\",\n        },\n\"2016-11\",\n\"A\\u00e9rea\",\n\"Brasil\",\n{\n            'v': -8745.9,\n            'f': \"-8745.9\",\n        }],\n [{\n            'v': 272,\n            'f': \"272\",\n        },\n\"2016-11\",\n\"A\\u00e9rea\",\n\"Chile\",\n{\n            'v': -19763.3,\n            'f': \"-19763.3\",\n        }],\n [{\n            'v': 273,\n            'f': \"273\",\n        },\n\"2016-11\",\n\"A\\u00e9rea\",\n\"Paraguay\",\n{\n            'v': 1032.5,\n            'f': \"1032.5\",\n        }],\n [{\n            'v': 274,\n            'f': \"274\",\n        },\n\"2016-11\",\n\"A\\u00e9rea\",\n\"Uruguay\",\n{\n            'v': -3365.8,\n            'f': \"-3365.8\",\n        }],\n [{\n            'v': 275,\n            'f': \"275\",\n        },\n\"2016-11\",\n\"A\\u00e9rea\",\n\"EE.UU. y Canad\\u00e1\",\n{\n            'v': -31432.8,\n            'f': \"-31432.8\",\n        }],\n [{\n            'v': 276,\n            'f': \"276\",\n        },\n\"2016-11\",\n\"A\\u00e9rea\",\n\"Resto de Am\\u00e9rica\",\n{\n            'v': -25650.4,\n            'f': \"-25650.4\",\n        }],\n [{\n            'v': 277,\n            'f': \"277\",\n        },\n\"2016-11\",\n\"A\\u00e9rea\",\n\"Europa\",\n{\n            'v': 7292.0,\n            'f': \"7292.0\",\n        }],\n [{\n            'v': 278,\n            'f': \"278\",\n        },\n\"2016-11\",\n\"A\\u00e9rea\",\n\"Resto del mundo\",\n{\n            'v': 3398.7,\n            'f': \"3398.7\",\n        }],\n [{\n            'v': 279,\n            'f': \"279\",\n        },\n\"2016-11\",\n\"Terrestre\",\n\"Bolivia\",\n{\n            'v': -652.5,\n            'f': \"-652.5\",\n        }],\n [{\n            'v': 280,\n            'f': \"280\",\n        },\n\"2016-11\",\n\"Terrestre\",\n\"Brasil\",\n{\n            'v': -22221.4,\n            'f': \"-22221.4\",\n        }],\n [{\n            'v': 281,\n            'f': \"281\",\n        },\n\"2016-11\",\n\"Terrestre\",\n\"Chile\",\n{\n            'v': -81765.8,\n            'f': \"-81765.8\",\n        }],\n [{\n            'v': 282,\n            'f': \"282\",\n        },\n\"2016-11\",\n\"Terrestre\",\n\"Paraguay\",\n{\n            'v': -20857.5,\n            'f': \"-20857.5\",\n        }],\n [{\n            'v': 283,\n            'f': \"283\",\n        },\n\"2016-11\",\n\"Terrestre\",\n\"Uruguay\",\n{\n            'v': -31721.6,\n            'f': \"-31721.6\",\n        }],\n [{\n            'v': 284,\n            'f': \"284\",\n        },\n\"2016-11\",\n\"Terrestre\",\n\"EE.UU. y Canad\\u00e1\",\n{\n            'v': 4780.2,\n            'f': \"4780.2\",\n        }],\n [{\n            'v': 285,\n            'f': \"285\",\n        },\n\"2016-11\",\n\"Terrestre\",\n\"Resto de Am\\u00e9rica\",\n{\n            'v': 11742.5,\n            'f': \"11742.5\",\n        }],\n [{\n            'v': 286,\n            'f': \"286\",\n        },\n\"2016-11\",\n\"Terrestre\",\n\"Europa\",\n{\n            'v': 34811.5,\n            'f': \"34811.5\",\n        }],\n [{\n            'v': 287,\n            'f': \"287\",\n        },\n\"2016-11\",\n\"Terrestre\",\n\"Resto del mundo\",\n{\n            'v': 6047.4,\n            'f': \"6047.4\",\n        }],\n [{\n            'v': 288,\n            'f': \"288\",\n        },\n\"2016-11\",\n\"Fluvial/Mar\\u00edtima\",\n\"Bolivia\",\n{\n            'v': 817.0,\n            'f': \"817.0\",\n        }],\n [{\n            'v': 289,\n            'f': \"289\",\n        },\n\"2016-11\",\n\"Fluvial/Mar\\u00edtima\",\n\"Brasil\",\n{\n            'v': 4894.6,\n            'f': \"4894.6\",\n        }],\n [{\n            'v': 290,\n            'f': \"290\",\n        },\n\"2016-11\",\n\"Fluvial/Mar\\u00edtima\",\n\"Chile\",\n{\n            'v': 208.2,\n            'f': \"208.2\",\n        }],\n [{\n            'v': 291,\n            'f': \"291\",\n        },\n\"2016-11\",\n\"Fluvial/Mar\\u00edtima\",\n\"Paraguay\",\n{\n            'v': -2635.1,\n            'f': \"-2635.1\",\n        }],\n [{\n            'v': 292,\n            'f': \"292\",\n        },\n\"2016-11\",\n\"Fluvial/Mar\\u00edtima\",\n\"Uruguay\",\n{\n            'v': -20837.9,\n            'f': \"-20837.9\",\n        }],\n [{\n            'v': 293,\n            'f': \"293\",\n        },\n\"2016-11\",\n\"Fluvial/Mar\\u00edtima\",\n\"EE.UU. y Canad\\u00e1\",\n{\n            'v': 5649.9,\n            'f': \"5649.9\",\n        }],\n [{\n            'v': 294,\n            'f': \"294\",\n        },\n\"2016-11\",\n\"Fluvial/Mar\\u00edtima\",\n\"Resto de Am\\u00e9rica\",\n{\n            'v': 5436.1,\n            'f': \"5436.1\",\n        }],\n [{\n            'v': 295,\n            'f': \"295\",\n        },\n\"2016-11\",\n\"Fluvial/Mar\\u00edtima\",\n\"Europa\",\n{\n            'v': 11717.1,\n            'f': \"11717.1\",\n        }],\n [{\n            'v': 296,\n            'f': \"296\",\n        },\n\"2016-11\",\n\"Fluvial/Mar\\u00edtima\",\n\"Resto del mundo\",\n{\n            'v': 1893.2,\n            'f': \"1893.2\",\n        }],\n [{\n            'v': 297,\n            'f': \"297\",\n        },\n\"2016-12\",\n\"A\\u00e9rea\",\n\"Bolivia\",\n{\n            'v': 4939.8,\n            'f': \"4939.8\",\n        }],\n [{\n            'v': 298,\n            'f': \"298\",\n        },\n\"2016-12\",\n\"A\\u00e9rea\",\n\"Brasil\",\n{\n            'v': -18905.2,\n            'f': \"-18905.2\",\n        }],\n [{\n            'v': 299,\n            'f': \"299\",\n        },\n\"2016-12\",\n\"A\\u00e9rea\",\n\"Chile\",\n{\n            'v': -22471.1,\n            'f': \"-22471.1\",\n        }],\n [{\n            'v': 300,\n            'f': \"300\",\n        },\n\"2016-12\",\n\"A\\u00e9rea\",\n\"Paraguay\",\n{\n            'v': 2342.6,\n            'f': \"2342.6\",\n        }],\n [{\n            'v': 301,\n            'f': \"301\",\n        },\n\"2016-12\",\n\"A\\u00e9rea\",\n\"Uruguay\",\n{\n            'v': -5699.8,\n            'f': \"-5699.8\",\n        }],\n [{\n            'v': 302,\n            'f': \"302\",\n        },\n\"2016-12\",\n\"A\\u00e9rea\",\n\"EE.UU. y Canad\\u00e1\",\n{\n            'v': -27200.2,\n            'f': \"-27200.2\",\n        }],\n [{\n            'v': 303,\n            'f': \"303\",\n        },\n\"2016-12\",\n\"A\\u00e9rea\",\n\"Resto de Am\\u00e9rica\",\n{\n            'v': -12036.9,\n            'f': \"-12036.9\",\n        }],\n [{\n            'v': 304,\n            'f': \"304\",\n        },\n\"2016-12\",\n\"A\\u00e9rea\",\n\"Europa\",\n{\n            'v': 26925.1,\n            'f': \"26925.1\",\n        }],\n [{\n            'v': 305,\n            'f': \"305\",\n        },\n\"2016-12\",\n\"A\\u00e9rea\",\n\"Resto del mundo\",\n{\n            'v': 4742.7,\n            'f': \"4742.7\",\n        }],\n [{\n            'v': 306,\n            'f': \"306\",\n        },\n\"2016-12\",\n\"Terrestre\",\n\"Bolivia\",\n{\n            'v': 12142.1,\n            'f': \"12142.1\",\n        }],\n [{\n            'v': 307,\n            'f': \"307\",\n        },\n\"2016-12\",\n\"Terrestre\",\n\"Brasil\",\n{\n            'v': -35644.4,\n            'f': \"-35644.4\",\n        }],\n [{\n            'v': 308,\n            'f': \"308\",\n        },\n\"2016-12\",\n\"Terrestre\",\n\"Chile\",\n{\n            'v': -106583.6,\n            'f': \"-106583.6\",\n        }],\n [{\n            'v': 309,\n            'f': \"309\",\n        },\n\"2016-12\",\n\"Terrestre\",\n\"Paraguay\",\n{\n            'v': 45397.4,\n            'f': \"45397.4\",\n        }],\n [{\n            'v': 310,\n            'f': \"310\",\n        },\n\"2016-12\",\n\"Terrestre\",\n\"Uruguay\",\n{\n            'v': -52866.9,\n            'f': \"-52866.9\",\n        }],\n [{\n            'v': 311,\n            'f': \"311\",\n        },\n\"2016-12\",\n\"Terrestre\",\n\"EE.UU. y Canad\\u00e1\",\n{\n            'v': 6394.1,\n            'f': \"6394.1\",\n        }],\n [{\n            'v': 312,\n            'f': \"312\",\n        },\n\"2016-12\",\n\"Terrestre\",\n\"Resto de Am\\u00e9rica\",\n{\n            'v': 12952.4,\n            'f': \"12952.4\",\n        }],\n [{\n            'v': 313,\n            'f': \"313\",\n        },\n\"2016-12\",\n\"Terrestre\",\n\"Europa\",\n{\n            'v': 29493.4,\n            'f': \"29493.4\",\n        }],\n [{\n            'v': 314,\n            'f': \"314\",\n        },\n\"2016-12\",\n\"Terrestre\",\n\"Resto del mundo\",\n{\n            'v': 9145.9,\n            'f': \"9145.9\",\n        }],\n [{\n            'v': 315,\n            'f': \"315\",\n        },\n\"2016-12\",\n\"Fluvial/Mar\\u00edtima\",\n\"Bolivia\",\n{\n            'v': 817.0,\n            'f': \"817.0\",\n        }],\n [{\n            'v': 316,\n            'f': \"316\",\n        },\n\"2016-12\",\n\"Fluvial/Mar\\u00edtima\",\n\"Brasil\",\n{\n            'v': 2777.9,\n            'f': \"2777.9\",\n        }],\n [{\n            'v': 317,\n            'f': \"317\",\n        },\n\"2016-12\",\n\"Fluvial/Mar\\u00edtima\",\n\"Chile\",\n{\n            'v': -7488.7,\n            'f': \"-7488.7\",\n        }],\n [{\n            'v': 318,\n            'f': \"318\",\n        },\n\"2016-12\",\n\"Fluvial/Mar\\u00edtima\",\n\"Paraguay\",\n{\n            'v': -232.8,\n            'f': \"-232.8\",\n        }],\n [{\n            'v': 319,\n            'f': \"319\",\n        },\n\"2016-12\",\n\"Fluvial/Mar\\u00edtima\",\n\"Uruguay\",\n{\n            'v': -30846.3,\n            'f': \"-30846.3\",\n        }],\n [{\n            'v': 320,\n            'f': \"320\",\n        },\n\"2016-12\",\n\"Fluvial/Mar\\u00edtima\",\n\"EE.UU. y Canad\\u00e1\",\n{\n            'v': 10621.6,\n            'f': \"10621.6\",\n        }],\n [{\n            'v': 321,\n            'f': \"321\",\n        },\n\"2016-12\",\n\"Fluvial/Mar\\u00edtima\",\n\"Resto de Am\\u00e9rica\",\n{\n            'v': 6864.7,\n            'f': \"6864.7\",\n        }],\n [{\n            'v': 322,\n            'f': \"322\",\n        },\n\"2016-12\",\n\"Fluvial/Mar\\u00edtima\",\n\"Europa\",\n{\n            'v': 13128.4,\n            'f': \"13128.4\",\n        }],\n [{\n            'v': 323,\n            'f': \"323\",\n        },\n\"2016-12\",\n\"Fluvial/Mar\\u00edtima\",\n\"Resto del mundo\",\n{\n            'v': 3224.0,\n            'f': \"3224.0\",\n        }],\n [{\n            'v': 324,\n            'f': \"324\",\n        },\n\"2017-01\",\n\"A\\u00e9rea\",\n\"Bolivia\",\n{\n            'v': 2570.0,\n            'f': \"2570.0\",\n        }],\n [{\n            'v': 325,\n            'f': \"325\",\n        },\n\"2017-01\",\n\"A\\u00e9rea\",\n\"Brasil\",\n{\n            'v': -68614.0,\n            'f': \"-68614.0\",\n        }],\n [{\n            'v': 326,\n            'f': \"326\",\n        },\n\"2017-01\",\n\"A\\u00e9rea\",\n\"Chile\",\n{\n            'v': -27968.9,\n            'f': \"-27968.9\",\n        }],\n [{\n            'v': 327,\n            'f': \"327\",\n        },\n\"2017-01\",\n\"A\\u00e9rea\",\n\"Paraguay\",\n{\n            'v': 2500.3,\n            'f': \"2500.3\",\n        }],\n [{\n            'v': 328,\n            'f': \"328\",\n        },\n\"2017-01\",\n\"A\\u00e9rea\",\n\"Uruguay\",\n{\n            'v': -16445.6,\n            'f': \"-16445.6\",\n        }],\n [{\n            'v': 329,\n            'f': \"329\",\n        },\n\"2017-01\",\n\"A\\u00e9rea\",\n\"EE.UU. y Canad\\u00e1\",\n{\n            'v': -29593.3,\n            'f': \"-29593.3\",\n        }],\n [{\n            'v': 330,\n            'f': \"330\",\n        },\n\"2017-01\",\n\"A\\u00e9rea\",\n\"Resto de Am\\u00e9rica\",\n{\n            'v': -48044.0,\n            'f': \"-48044.0\",\n        }],\n [{\n            'v': 331,\n            'f': \"331\",\n        },\n\"2017-01\",\n\"A\\u00e9rea\",\n\"Europa\",\n{\n            'v': 37797.4,\n            'f': \"37797.4\",\n        }],\n [{\n            'v': 332,\n            'f': \"332\",\n        },\n\"2017-01\",\n\"A\\u00e9rea\",\n\"Resto del mundo\",\n{\n            'v': 3312.7,\n            'f': \"3312.7\",\n        }],\n [{\n            'v': 333,\n            'f': \"333\",\n        },\n\"2017-01\",\n\"Terrestre\",\n\"Bolivia\",\n{\n            'v': 2904.7,\n            'f': \"2904.7\",\n        }],\n [{\n            'v': 334,\n            'f': \"334\",\n        },\n\"2017-01\",\n\"Terrestre\",\n\"Brasil\",\n{\n            'v': -318845.5,\n            'f': \"-318845.5\",\n        }],\n [{\n            'v': 335,\n            'f': \"335\",\n        },\n\"2017-01\",\n\"Terrestre\",\n\"Chile\",\n{\n            'v': -379517.4,\n            'f': \"-379517.4\",\n        }],\n [{\n            'v': 336,\n            'f': \"336\",\n        },\n\"2017-01\",\n\"Terrestre\",\n\"Paraguay\",\n{\n            'v': -101926.9,\n            'f': \"-101926.9\",\n        }],\n [{\n            'v': 337,\n            'f': \"337\",\n        },\n\"2017-01\",\n\"Terrestre\",\n\"Uruguay\",\n{\n            'v': -191792.5,\n            'f': \"-191792.5\",\n        }],\n [{\n            'v': 338,\n            'f': \"338\",\n        },\n\"2017-01\",\n\"Terrestre\",\n\"EE.UU. y Canad\\u00e1\",\n{\n            'v': 6750.9,\n            'f': \"6750.9\",\n        }],\n [{\n            'v': 339,\n            'f': \"339\",\n        },\n\"2017-01\",\n\"Terrestre\",\n\"Resto de Am\\u00e9rica\",\n{\n            'v': 10251.1,\n            'f': \"10251.1\",\n        }],\n [{\n            'v': 340,\n            'f': \"340\",\n        },\n\"2017-01\",\n\"Terrestre\",\n\"Europa\",\n{\n            'v': 33393.6,\n            'f': \"33393.6\",\n        }],\n [{\n            'v': 341,\n            'f': \"341\",\n        },\n\"2017-01\",\n\"Terrestre\",\n\"Resto del mundo\",\n{\n            'v': 13877.0,\n            'f': \"13877.0\",\n        }],\n [{\n            'v': 342,\n            'f': \"342\",\n        },\n\"2017-01\",\n\"Fluvial/Mar\\u00edtima\",\n\"Bolivia\",\n{\n            'v': 841.0,\n            'f': \"841.0\",\n        }],\n [{\n            'v': 343,\n            'f': \"343\",\n        },\n\"2017-01\",\n\"Fluvial/Mar\\u00edtima\",\n\"Brasil\",\n{\n            'v': 5652.0,\n            'f': \"5652.0\",\n        }],\n [{\n            'v': 344,\n            'f': \"344\",\n        },\n\"2017-01\",\n\"Fluvial/Mar\\u00edtima\",\n\"Chile\",\n{\n            'v': -9482.1,\n            'f': \"-9482.1\",\n        }],\n [{\n            'v': 345,\n            'f': \"345\",\n        },\n\"2017-01\",\n\"Fluvial/Mar\\u00edtima\",\n\"Paraguay\",\n{\n            'v': -7735.9,\n            'f': \"-7735.9\",\n        }],\n [{\n            'v': 346,\n            'f': \"346\",\n        },\n\"2017-01\",\n\"Fluvial/Mar\\u00edtima\",\n\"Uruguay\",\n{\n            'v': -100674.6,\n            'f': \"-100674.6\",\n        }],\n [{\n            'v': 347,\n            'f': \"347\",\n        },\n\"2017-01\",\n\"Fluvial/Mar\\u00edtima\",\n\"EE.UU. y Canad\\u00e1\",\n{\n            'v': 19251.4,\n            'f': \"19251.4\",\n        }],\n [{\n            'v': 348,\n            'f': \"348\",\n        },\n\"2017-01\",\n\"Fluvial/Mar\\u00edtima\",\n\"Resto de Am\\u00e9rica\",\n{\n            'v': 5799.7,\n            'f': \"5799.7\",\n        }],\n [{\n            'v': 349,\n            'f': \"349\",\n        },\n\"2017-01\",\n\"Fluvial/Mar\\u00edtima\",\n\"Europa\",\n{\n            'v': 20204.3,\n            'f': \"20204.3\",\n        }],\n [{\n            'v': 350,\n            'f': \"350\",\n        },\n\"2017-01\",\n\"Fluvial/Mar\\u00edtima\",\n\"Resto del mundo\",\n{\n            'v': 5981.3,\n            'f': \"5981.3\",\n        }],\n [{\n            'v': 351,\n            'f': \"351\",\n        },\n\"2017-02\",\n\"A\\u00e9rea\",\n\"Bolivia\",\n{\n            'v': 1698.2,\n            'f': \"1698.2\",\n        }],\n [{\n            'v': 352,\n            'f': \"352\",\n        },\n\"2017-02\",\n\"A\\u00e9rea\",\n\"Brasil\",\n{\n            'v': -91578.2,\n            'f': \"-91578.2\",\n        }],\n [{\n            'v': 353,\n            'f': \"353\",\n        },\n\"2017-02\",\n\"A\\u00e9rea\",\n\"Chile\",\n{\n            'v': -25235.1,\n            'f': \"-25235.1\",\n        }],\n [{\n            'v': 354,\n            'f': \"354\",\n        },\n\"2017-02\",\n\"A\\u00e9rea\",\n\"Paraguay\",\n{\n            'v': 783.8,\n            'f': \"783.8\",\n        }],\n [{\n            'v': 355,\n            'f': \"355\",\n        },\n\"2017-02\",\n\"A\\u00e9rea\",\n\"Uruguay\",\n{\n            'v': -10384.8,\n            'f': \"-10384.8\",\n        }],\n [{\n            'v': 356,\n            'f': \"356\",\n        },\n\"2017-02\",\n\"A\\u00e9rea\",\n\"EE.UU. y Canad\\u00e1\",\n{\n            'v': -42170.8,\n            'f': \"-42170.8\",\n        }],\n [{\n            'v': 357,\n            'f': \"357\",\n        },\n\"2017-02\",\n\"A\\u00e9rea\",\n\"Resto de Am\\u00e9rica\",\n{\n            'v': -75559.9,\n            'f': \"-75559.9\",\n        }],\n [{\n            'v': 358,\n            'f': \"358\",\n        },\n\"2017-02\",\n\"A\\u00e9rea\",\n\"Europa\",\n{\n            'v': 7434.3,\n            'f': \"7434.3\",\n        }],\n [{\n            'v': 359,\n            'f': \"359\",\n        },\n\"2017-02\",\n\"A\\u00e9rea\",\n\"Resto del mundo\",\n{\n            'v': -2076.9,\n            'f': \"-2076.9\",\n        }],\n [{\n            'v': 360,\n            'f': \"360\",\n        },\n\"2017-02\",\n\"Terrestre\",\n\"Bolivia\",\n{\n            'v': -3202.4,\n            'f': \"-3202.4\",\n        }],\n [{\n            'v': 361,\n            'f': \"361\",\n        },\n\"2017-02\",\n\"Terrestre\",\n\"Brasil\",\n{\n            'v': -321366.6,\n            'f': \"-321366.6\",\n        }],\n [{\n            'v': 362,\n            'f': \"362\",\n        },\n\"2017-02\",\n\"Terrestre\",\n\"Chile\",\n{\n            'v': -234550.6,\n            'f': \"-234550.6\",\n        }],\n [{\n            'v': 363,\n            'f': \"363\",\n        },\n\"2017-02\",\n\"Terrestre\",\n\"Paraguay\",\n{\n            'v': -80548.7,\n            'f': \"-80548.7\",\n        }],\n [{\n            'v': 364,\n            'f': \"364\",\n        },\n\"2017-02\",\n\"Terrestre\",\n\"Uruguay\",\n{\n            'v': -189289.5,\n            'f': \"-189289.5\",\n        }],\n [{\n            'v': 365,\n            'f': \"365\",\n        },\n\"2017-02\",\n\"Terrestre\",\n\"EE.UU. y Canad\\u00e1\",\n{\n            'v': 6207.7,\n            'f': \"6207.7\",\n        }],\n [{\n            'v': 366,\n            'f': \"366\",\n        },\n\"2017-02\",\n\"Terrestre\",\n\"Resto de Am\\u00e9rica\",\n{\n            'v': 6876.9,\n            'f': \"6876.9\",\n        }],\n [{\n            'v': 367,\n            'f': \"367\",\n        },\n\"2017-02\",\n\"Terrestre\",\n\"Europa\",\n{\n            'v': 30712.9,\n            'f': \"30712.9\",\n        }],\n [{\n            'v': 368,\n            'f': \"368\",\n        },\n\"2017-02\",\n\"Terrestre\",\n\"Resto del mundo\",\n{\n            'v': 12779.1,\n            'f': \"12779.1\",\n        }],\n [{\n            'v': 369,\n            'f': \"369\",\n        },\n\"2017-02\",\n\"Fluvial/Mar\\u00edtima\",\n\"Bolivia\",\n{\n            'v': 436.0,\n            'f': \"436.0\",\n        }],\n [{\n            'v': 370,\n            'f': \"370\",\n        },\n\"2017-02\",\n\"Fluvial/Mar\\u00edtima\",\n\"Brasil\",\n{\n            'v': 114.7,\n            'f': \"114.7\",\n        }],\n [{\n            'v': 371,\n            'f': \"371\",\n        },\n\"2017-02\",\n\"Fluvial/Mar\\u00edtima\",\n\"Chile\",\n{\n            'v': -6945.7,\n            'f': \"-6945.7\",\n        }],\n [{\n            'v': 372,\n            'f': \"372\",\n        },\n\"2017-02\",\n\"Fluvial/Mar\\u00edtima\",\n\"Paraguay\",\n{\n            'v': -5529.8,\n            'f': \"-5529.8\",\n        }],\n [{\n            'v': 373,\n            'f': \"373\",\n        },\n\"2017-02\",\n\"Fluvial/Mar\\u00edtima\",\n\"Uruguay\",\n{\n            'v': -80392.6,\n            'f': \"-80392.6\",\n        }],\n [{\n            'v': 374,\n            'f': \"374\",\n        },\n\"2017-02\",\n\"Fluvial/Mar\\u00edtima\",\n\"EE.UU. y Canad\\u00e1\",\n{\n            'v': 19765.1,\n            'f': \"19765.1\",\n        }],\n [{\n            'v': 375,\n            'f': \"375\",\n        },\n\"2017-02\",\n\"Fluvial/Mar\\u00edtima\",\n\"Resto de Am\\u00e9rica\",\n{\n            'v': -1086.9,\n            'f': \"-1086.9\",\n        }],\n [{\n            'v': 376,\n            'f': \"376\",\n        },\n\"2017-02\",\n\"Fluvial/Mar\\u00edtima\",\n\"Europa\",\n{\n            'v': 24276.7,\n            'f': \"24276.7\",\n        }],\n [{\n            'v': 377,\n            'f': \"377\",\n        },\n\"2017-02\",\n\"Fluvial/Mar\\u00edtima\",\n\"Resto del mundo\",\n{\n            'v': 9156.2,\n            'f': \"9156.2\",\n        }],\n [{\n            'v': 378,\n            'f': \"378\",\n        },\n\"2017-03\",\n\"A\\u00e9rea\",\n\"Bolivia\",\n{\n            'v': 40.2,\n            'f': \"40.2\",\n        }],\n [{\n            'v': 379,\n            'f': \"379\",\n        },\n\"2017-03\",\n\"A\\u00e9rea\",\n\"Brasil\",\n{\n            'v': -69586.6,\n            'f': \"-69586.6\",\n        }],\n [{\n            'v': 380,\n            'f': \"380\",\n        },\n\"2017-03\",\n\"A\\u00e9rea\",\n\"Chile\",\n{\n            'v': -21259.5,\n            'f': \"-21259.5\",\n        }],\n [{\n            'v': 381,\n            'f': \"381\",\n        },\n\"2017-03\",\n\"A\\u00e9rea\",\n\"Paraguay\",\n{\n            'v': 963.3,\n            'f': \"963.3\",\n        }],\n [{\n            'v': 382,\n            'f': \"382\",\n        },\n\"2017-03\",\n\"A\\u00e9rea\",\n\"Uruguay\",\n{\n            'v': -2960.7,\n            'f': \"-2960.7\",\n        }],\n [{\n            'v': 383,\n            'f': \"383\",\n        },\n\"2017-03\",\n\"A\\u00e9rea\",\n\"EE.UU. y Canad\\u00e1\",\n{\n            'v': -47046.8,\n            'f': \"-47046.8\",\n        }],\n [{\n            'v': 384,\n            'f': \"384\",\n        },\n\"2017-03\",\n\"A\\u00e9rea\",\n\"Resto de Am\\u00e9rica\",\n{\n            'v': -63196.9,\n            'f': \"-63196.9\",\n        }],\n [{\n            'v': 385,\n            'f': \"385\",\n        },\n\"2017-03\",\n\"A\\u00e9rea\",\n\"Europa\",\n{\n            'v': 13883.2,\n            'f': \"13883.2\",\n        }],\n [{\n            'v': 386,\n            'f': \"386\",\n        },\n\"2017-03\",\n\"A\\u00e9rea\",\n\"Resto del mundo\",\n{\n            'v': -7310.5,\n            'f': \"-7310.5\",\n        }],\n [{\n            'v': 387,\n            'f': \"387\",\n        },\n\"2017-03\",\n\"Terrestre\",\n\"Bolivia\",\n{\n            'v': -19815.2,\n            'f': \"-19815.2\",\n        }],\n [{\n            'v': 388,\n            'f': \"388\",\n        },\n\"2017-03\",\n\"Terrestre\",\n\"Brasil\",\n{\n            'v': -122384.8,\n            'f': \"-122384.8\",\n        }],\n [{\n            'v': 389,\n            'f': \"389\",\n        },\n\"2017-03\",\n\"Terrestre\",\n\"Chile\",\n{\n            'v': -147559.9,\n            'f': \"-147559.9\",\n        }],\n [{\n            'v': 390,\n            'f': \"390\",\n        },\n\"2017-03\",\n\"Terrestre\",\n\"Paraguay\",\n{\n            'v': -43384.9,\n            'f': \"-43384.9\",\n        }],\n [{\n            'v': 391,\n            'f': \"391\",\n        },\n\"2017-03\",\n\"Terrestre\",\n\"Uruguay\",\n{\n            'v': -72311.7,\n            'f': \"-72311.7\",\n        }],\n [{\n            'v': 392,\n            'f': \"392\",\n        },\n\"2017-03\",\n\"Terrestre\",\n\"EE.UU. y Canad\\u00e1\",\n{\n            'v': 5870.6,\n            'f': \"5870.6\",\n        }],\n [{\n            'v': 393,\n            'f': \"393\",\n        },\n\"2017-03\",\n\"Terrestre\",\n\"Resto de Am\\u00e9rica\",\n{\n            'v': 6070.0,\n            'f': \"6070.0\",\n        }],\n [{\n            'v': 394,\n            'f': \"394\",\n        },\n\"2017-03\",\n\"Terrestre\",\n\"Europa\",\n{\n            'v': 27860.6,\n            'f': \"27860.6\",\n        }],\n [{\n            'v': 395,\n            'f': \"395\",\n        },\n\"2017-03\",\n\"Terrestre\",\n\"Resto del mundo\",\n{\n            'v': 8689.5,\n            'f': \"8689.5\",\n        }],\n [{\n            'v': 396,\n            'f': \"396\",\n        },\n\"2017-03\",\n\"Fluvial/Mar\\u00edtima\",\n\"Bolivia\",\n{\n            'v': -3822.0,\n            'f': \"-3822.0\",\n        }],\n [{\n            'v': 397,\n            'f': \"397\",\n        },\n\"2017-03\",\n\"Fluvial/Mar\\u00edtima\",\n\"Brasil\",\n{\n            'v': 6349.2,\n            'f': \"6349.2\",\n        }],\n [{\n            'v': 398,\n            'f': \"398\",\n        },\n\"2017-03\",\n\"Fluvial/Mar\\u00edtima\",\n\"Chile\",\n{\n            'v': -4579.2,\n            'f': \"-4579.2\",\n        }],\n [{\n            'v': 399,\n            'f': \"399\",\n        },\n\"2017-03\",\n\"Fluvial/Mar\\u00edtima\",\n\"Paraguay\",\n{\n            'v': -3291.2,\n            'f': \"-3291.2\",\n        }],\n [{\n            'v': 400,\n            'f': \"400\",\n        },\n\"2017-03\",\n\"Fluvial/Mar\\u00edtima\",\n\"Uruguay\",\n{\n            'v': -50465.0,\n            'f': \"-50465.0\",\n        }],\n [{\n            'v': 401,\n            'f': \"401\",\n        },\n\"2017-03\",\n\"Fluvial/Mar\\u00edtima\",\n\"EE.UU. y Canad\\u00e1\",\n{\n            'v': 12654.4,\n            'f': \"12654.4\",\n        }],\n [{\n            'v': 402,\n            'f': \"402\",\n        },\n\"2017-03\",\n\"Fluvial/Mar\\u00edtima\",\n\"Resto de Am\\u00e9rica\",\n{\n            'v': 4155.7,\n            'f': \"4155.7\",\n        }],\n [{\n            'v': 403,\n            'f': \"403\",\n        },\n\"2017-03\",\n\"Fluvial/Mar\\u00edtima\",\n\"Europa\",\n{\n            'v': 15188.8,\n            'f': \"15188.8\",\n        }],\n [{\n            'v': 404,\n            'f': \"404\",\n        },\n\"2017-03\",\n\"Fluvial/Mar\\u00edtima\",\n\"Resto del mundo\",\n{\n            'v': 3233.3,\n            'f': \"3233.3\",\n        }],\n [{\n            'v': 405,\n            'f': \"405\",\n        },\n\"2017-04\",\n\"A\\u00e9rea\",\n\"Bolivia\",\n{\n            'v': 2291.8,\n            'f': \"2291.8\",\n        }],\n [{\n            'v': 406,\n            'f': \"406\",\n        },\n\"2017-04\",\n\"A\\u00e9rea\",\n\"Brasil\",\n{\n            'v': -41194.0,\n            'f': \"-41194.0\",\n        }],\n [{\n            'v': 407,\n            'f': \"407\",\n        },\n\"2017-04\",\n\"A\\u00e9rea\",\n\"Chile\",\n{\n            'v': -22627.4,\n            'f': \"-22627.4\",\n        }],\n [{\n            'v': 408,\n            'f': \"408\",\n        },\n\"2017-04\",\n\"A\\u00e9rea\",\n\"Paraguay\",\n{\n            'v': 1810.3,\n            'f': \"1810.3\",\n        }],\n [{\n            'v': 409,\n            'f': \"409\",\n        },\n\"2017-04\",\n\"A\\u00e9rea\",\n\"Uruguay\",\n{\n            'v': -61.5,\n            'f': \"-61.5\",\n        }],\n [{\n            'v': 410,\n            'f': \"410\",\n        },\n\"2017-04\",\n\"A\\u00e9rea\",\n\"EE.UU. y Canad\\u00e1\",\n{\n            'v': -43186.4,\n            'f': \"-43186.4\",\n        }],\n [{\n            'v': 411,\n            'f': \"411\",\n        },\n\"2017-04\",\n\"A\\u00e9rea\",\n\"Resto de Am\\u00e9rica\",\n{\n            'v': -55552.5,\n            'f': \"-55552.5\",\n        }],\n [{\n            'v': 412,\n            'f': \"412\",\n        },\n\"2017-04\",\n\"A\\u00e9rea\",\n\"Europa\",\n{\n            'v': 5298.1,\n            'f': \"5298.1\",\n        }],\n [{\n            'v': 413,\n            'f': \"413\",\n        },\n\"2017-04\",\n\"A\\u00e9rea\",\n\"Resto del mundo\",\n{\n            'v': -6469.6,\n            'f': \"-6469.6\",\n        }],\n [{\n            'v': 414,\n            'f': \"414\",\n        },\n\"2017-04\",\n\"Terrestre\",\n\"Bolivia\",\n{\n            'v': -2897.8,\n            'f': \"-2897.8\",\n        }],\n [{\n            'v': 415,\n            'f': \"415\",\n        },\n\"2017-04\",\n\"Terrestre\",\n\"Brasil\",\n{\n            'v': -49989.8,\n            'f': \"-49989.8\",\n        }],\n [{\n            'v': 416,\n            'f': \"416\",\n        },\n\"2017-04\",\n\"Terrestre\",\n\"Chile\",\n{\n            'v': -105370.2,\n            'f': \"-105370.2\",\n        }],\n [{\n            'v': 417,\n            'f': \"417\",\n        },\n\"2017-04\",\n\"Terrestre\",\n\"Paraguay\",\n{\n            'v': -60680.2,\n            'f': \"-60680.2\",\n        }],\n [{\n            'v': 418,\n            'f': \"418\",\n        },\n\"2017-04\",\n\"Terrestre\",\n\"Uruguay\",\n{\n            'v': -39999.4,\n            'f': \"-39999.4\",\n        }],\n [{\n            'v': 419,\n            'f': \"419\",\n        },\n\"2017-04\",\n\"Terrestre\",\n\"EE.UU. y Canad\\u00e1\",\n{\n            'v': 2917.1,\n            'f': \"2917.1\",\n        }],\n [{\n            'v': 420,\n            'f': \"420\",\n        },\n\"2017-04\",\n\"Terrestre\",\n\"Resto de Am\\u00e9rica\",\n{\n            'v': 7321.1,\n            'f': \"7321.1\",\n        }],\n [{\n            'v': 421,\n            'f': \"421\",\n        },\n\"2017-04\",\n\"Terrestre\",\n\"Europa\",\n{\n            'v': 19530.3,\n            'f': \"19530.3\",\n        }],\n [{\n            'v': 422,\n            'f': \"422\",\n        },\n\"2017-04\",\n\"Terrestre\",\n\"Resto del mundo\",\n{\n            'v': 5956.5,\n            'f': \"5956.5\",\n        }],\n [{\n            'v': 423,\n            'f': \"423\",\n        },\n\"2017-04\",\n\"Fluvial/Mar\\u00edtima\",\n\"Bolivia\",\n{\n            'v': -1187.0,\n            'f': \"-1187.0\",\n        }],\n [{\n            'v': 424,\n            'f': \"424\",\n        },\n\"2017-04\",\n\"Fluvial/Mar\\u00edtima\",\n\"Brasil\",\n{\n            'v': 4450.7,\n            'f': \"4450.7\",\n        }],\n [{\n            'v': 425,\n            'f': \"425\",\n        },\n\"2017-04\",\n\"Fluvial/Mar\\u00edtima\",\n\"Chile\",\n{\n            'v': 747.4,\n            'f': \"747.4\",\n        }],\n [{\n            'v': 426,\n            'f': \"426\",\n        },\n\"2017-04\",\n\"Fluvial/Mar\\u00edtima\",\n\"Paraguay\",\n{\n            'v': -1738.7,\n            'f': \"-1738.7\",\n        }],\n [{\n            'v': 427,\n            'f': \"427\",\n        },\n\"2017-04\",\n\"Fluvial/Mar\\u00edtima\",\n\"Uruguay\",\n{\n            'v': -12255.0,\n            'f': \"-12255.0\",\n        }],\n [{\n            'v': 428,\n            'f': \"428\",\n        },\n\"2017-04\",\n\"Fluvial/Mar\\u00edtima\",\n\"EE.UU. y Canad\\u00e1\",\n{\n            'v': 4068.4,\n            'f': \"4068.4\",\n        }],\n [{\n            'v': 429,\n            'f': \"429\",\n        },\n\"2017-04\",\n\"Fluvial/Mar\\u00edtima\",\n\"Resto de Am\\u00e9rica\",\n{\n            'v': 4534.3,\n            'f': \"4534.3\",\n        }],\n [{\n            'v': 430,\n            'f': \"430\",\n        },\n\"2017-04\",\n\"Fluvial/Mar\\u00edtima\",\n\"Europa\",\n{\n            'v': 7931.7,\n            'f': \"7931.7\",\n        }],\n [{\n            'v': 431,\n            'f': \"431\",\n        },\n\"2017-04\",\n\"Fluvial/Mar\\u00edtima\",\n\"Resto del mundo\",\n{\n            'v': 1712.7,\n            'f': \"1712.7\",\n        }],\n [{\n            'v': 432,\n            'f': \"432\",\n        },\n\"2017-05\",\n\"A\\u00e9rea\",\n\"Bolivia\",\n{\n            'v': 1482.5,\n            'f': \"1482.5\",\n        }],\n [{\n            'v': 433,\n            'f': \"433\",\n        },\n\"2017-05\",\n\"A\\u00e9rea\",\n\"Brasil\",\n{\n            'v': -12287.4,\n            'f': \"-12287.4\",\n        }],\n [{\n            'v': 434,\n            'f': \"434\",\n        },\n\"2017-05\",\n\"A\\u00e9rea\",\n\"Chile\",\n{\n            'v': -23205.8,\n            'f': \"-23205.8\",\n        }],\n [{\n            'v': 435,\n            'f': \"435\",\n        },\n\"2017-05\",\n\"A\\u00e9rea\",\n\"Paraguay\",\n{\n            'v': 2073.2,\n            'f': \"2073.2\",\n        }],\n [{\n            'v': 436,\n            'f': \"436\",\n        },\n\"2017-05\",\n\"A\\u00e9rea\",\n\"Uruguay\",\n{\n            'v': -79.8,\n            'f': \"-79.8\",\n        }],\n [{\n            'v': 437,\n            'f': \"437\",\n        },\n\"2017-05\",\n\"A\\u00e9rea\",\n\"EE.UU. y Canad\\u00e1\",\n{\n            'v': -50788.7,\n            'f': \"-50788.7\",\n        }],\n [{\n            'v': 438,\n            'f': \"438\",\n        },\n\"2017-05\",\n\"A\\u00e9rea\",\n\"Resto de Am\\u00e9rica\",\n{\n            'v': -68011.3,\n            'f': \"-68011.3\",\n        }],\n [{\n            'v': 439,\n            'f': \"439\",\n        },\n\"2017-05\",\n\"A\\u00e9rea\",\n\"Europa\",\n{\n            'v': -22046.2,\n            'f': \"-22046.2\",\n        }],\n [{\n            'v': 440,\n            'f': \"440\",\n        },\n\"2017-05\",\n\"A\\u00e9rea\",\n\"Resto del mundo\",\n{\n            'v': -15728.1,\n            'f': \"-15728.1\",\n        }],\n [{\n            'v': 441,\n            'f': \"441\",\n        },\n\"2017-05\",\n\"Terrestre\",\n\"Bolivia\",\n{\n            'v': -1722.2,\n            'f': \"-1722.2\",\n        }],\n [{\n            'v': 442,\n            'f': \"442\",\n        },\n\"2017-05\",\n\"Terrestre\",\n\"Brasil\",\n{\n            'v': -23866.0,\n            'f': \"-23866.0\",\n        }],\n [{\n            'v': 443,\n            'f': \"443\",\n        },\n\"2017-05\",\n\"Terrestre\",\n\"Chile\",\n{\n            'v': -71664.3,\n            'f': \"-71664.3\",\n        }],\n [{\n            'v': 444,\n            'f': \"444\",\n        },\n\"2017-05\",\n\"Terrestre\",\n\"Paraguay\",\n{\n            'v': -54143.7,\n            'f': \"-54143.7\",\n        }],\n [{\n            'v': 445,\n            'f': \"445\",\n        },\n\"2017-05\",\n\"Terrestre\",\n\"Uruguay\",\n{\n            'v': -25731.5,\n            'f': \"-25731.5\",\n        }],\n [{\n            'v': 446,\n            'f': \"446\",\n        },\n\"2017-05\",\n\"Terrestre\",\n\"EE.UU. y Canad\\u00e1\",\n{\n            'v': 1878.2,\n            'f': \"1878.2\",\n        }],\n [{\n            'v': 447,\n            'f': \"447\",\n        },\n\"2017-05\",\n\"Terrestre\",\n\"Resto de Am\\u00e9rica\",\n{\n            'v': 7518.5,\n            'f': \"7518.5\",\n        }],\n [{\n            'v': 448,\n            'f': \"448\",\n        },\n\"2017-05\",\n\"Terrestre\",\n\"Europa\",\n{\n            'v': 10510.4,\n            'f': \"10510.4\",\n        }],\n [{\n            'v': 449,\n            'f': \"449\",\n        },\n\"2017-05\",\n\"Terrestre\",\n\"Resto del mundo\",\n{\n            'v': 3973.8,\n            'f': \"3973.8\",\n        }],\n [{\n            'v': 450,\n            'f': \"450\",\n        },\n\"2017-05\",\n\"Fluvial/Mar\\u00edtima\",\n\"Bolivia\",\n{\n            'v': -55.0,\n            'f': \"-55.0\",\n        }],\n [{\n            'v': 451,\n            'f': \"451\",\n        },\n\"2017-05\",\n\"Fluvial/Mar\\u00edtima\",\n\"Brasil\",\n{\n            'v': 4728.0,\n            'f': \"4728.0\",\n        }],\n [{\n            'v': 452,\n            'f': \"452\",\n        },\n\"2017-05\",\n\"Fluvial/Mar\\u00edtima\",\n\"Chile\",\n{\n            'v': 735.0,\n            'f': \"735.0\",\n        }],\n [{\n            'v': 453,\n            'f': \"453\",\n        },\n\"2017-05\",\n\"Fluvial/Mar\\u00edtima\",\n\"Paraguay\",\n{\n            'v': -2806.8,\n            'f': \"-2806.8\",\n        }],\n [{\n            'v': 454,\n            'f': \"454\",\n        },\n\"2017-05\",\n\"Fluvial/Mar\\u00edtima\",\n\"Uruguay\",\n{\n            'v': -9544.6,\n            'f': \"-9544.6\",\n        }],\n [{\n            'v': 455,\n            'f': \"455\",\n        },\n\"2017-05\",\n\"Fluvial/Mar\\u00edtima\",\n\"EE.UU. y Canad\\u00e1\",\n{\n            'v': 1723.6,\n            'f': \"1723.6\",\n        }],\n [{\n            'v': 456,\n            'f': \"456\",\n        },\n\"2017-05\",\n\"Fluvial/Mar\\u00edtima\",\n\"Resto de Am\\u00e9rica\",\n{\n            'v': 3340.2,\n            'f': \"3340.2\",\n        }],\n [{\n            'v': 457,\n            'f': \"457\",\n        },\n\"2017-05\",\n\"Fluvial/Mar\\u00edtima\",\n\"Europa\",\n{\n            'v': 3487.7,\n            'f': \"3487.7\",\n        }],\n [{\n            'v': 458,\n            'f': \"458\",\n        },\n\"2017-05\",\n\"Fluvial/Mar\\u00edtima\",\n\"Resto del mundo\",\n{\n            'v': 1074.1,\n            'f': \"1074.1\",\n        }],\n [{\n            'v': 459,\n            'f': \"459\",\n        },\n\"2017-06\",\n\"A\\u00e9rea\",\n\"Bolivia\",\n{\n            'v': 1210.0,\n            'f': \"1210.0\",\n        }],\n [{\n            'v': 460,\n            'f': \"460\",\n        },\n\"2017-06\",\n\"A\\u00e9rea\",\n\"Brasil\",\n{\n            'v': 10671.6,\n            'f': \"10671.6\",\n        }],\n [{\n            'v': 461,\n            'f': \"461\",\n        },\n\"2017-06\",\n\"A\\u00e9rea\",\n\"Chile\",\n{\n            'v': -16927.7,\n            'f': \"-16927.7\",\n        }],\n [{\n            'v': 462,\n            'f': \"462\",\n        },\n\"2017-06\",\n\"A\\u00e9rea\",\n\"Paraguay\",\n{\n            'v': 1691.8,\n            'f': \"1691.8\",\n        }],\n [{\n            'v': 463,\n            'f': \"463\",\n        },\n\"2017-06\",\n\"A\\u00e9rea\",\n\"Uruguay\",\n{\n            'v': 930.9,\n            'f': \"930.9\",\n        }],\n [{\n            'v': 464,\n            'f': \"464\",\n        },\n\"2017-06\",\n\"A\\u00e9rea\",\n\"EE.UU. y Canad\\u00e1\",\n{\n            'v': -52987.8,\n            'f': \"-52987.8\",\n        }],\n [{\n            'v': 465,\n            'f': \"465\",\n        },\n\"2017-06\",\n\"A\\u00e9rea\",\n\"Resto de Am\\u00e9rica\",\n{\n            'v': -52143.5,\n            'f': \"-52143.5\",\n        }],\n [{\n            'v': 466,\n            'f': \"466\",\n        },\n\"2017-06\",\n\"A\\u00e9rea\",\n\"Europa\",\n{\n            'v': -53893.7,\n            'f': \"-53893.7\",\n        }],\n [{\n            'v': 467,\n            'f': \"467\",\n        },\n\"2017-06\",\n\"A\\u00e9rea\",\n\"Resto del mundo\",\n{\n            'v': -6720.5,\n            'f': \"-6720.5\",\n        }],\n [{\n            'v': 468,\n            'f': \"468\",\n        },\n\"2017-06\",\n\"Terrestre\",\n\"Bolivia\",\n{\n            'v': -1176.1,\n            'f': \"-1176.1\",\n        }],\n [{\n            'v': 469,\n            'f': \"469\",\n        },\n\"2017-06\",\n\"Terrestre\",\n\"Brasil\",\n{\n            'v': -17081.7,\n            'f': \"-17081.7\",\n        }],\n [{\n            'v': 470,\n            'f': \"470\",\n        },\n\"2017-06\",\n\"Terrestre\",\n\"Chile\",\n{\n            'v': -34134.7,\n            'f': \"-34134.7\",\n        }],\n [{\n            'v': 471,\n            'f': \"471\",\n        },\n\"2017-06\",\n\"Terrestre\",\n\"Paraguay\",\n{\n            'v': -50327.0,\n            'f': \"-50327.0\",\n        }],\n [{\n            'v': 472,\n            'f': \"472\",\n        },\n\"2017-06\",\n\"Terrestre\",\n\"Uruguay\",\n{\n            'v': -15334.8,\n            'f': \"-15334.8\",\n        }],\n [{\n            'v': 473,\n            'f': \"473\",\n        },\n\"2017-06\",\n\"Terrestre\",\n\"EE.UU. y Canad\\u00e1\",\n{\n            'v': 1206.3,\n            'f': \"1206.3\",\n        }],\n [{\n            'v': 474,\n            'f': \"474\",\n        },\n\"2017-06\",\n\"Terrestre\",\n\"Resto de Am\\u00e9rica\",\n{\n            'v': 5355.5,\n            'f': \"5355.5\",\n        }],\n [{\n            'v': 475,\n            'f': \"475\",\n        },\n\"2017-06\",\n\"Terrestre\",\n\"Europa\",\n{\n            'v': 6181.9,\n            'f': \"6181.9\",\n        }],\n [{\n            'v': 476,\n            'f': \"476\",\n        },\n\"2017-06\",\n\"Terrestre\",\n\"Resto del mundo\",\n{\n            'v': 2293.7,\n            'f': \"2293.7\",\n        }],\n [{\n            'v': 477,\n            'f': \"477\",\n        },\n\"2017-06\",\n\"Fluvial/Mar\\u00edtima\",\n\"Bolivia\",\n{\n            'v': 246.0,\n            'f': \"246.0\",\n        }],\n [{\n            'v': 478,\n            'f': \"478\",\n        },\n\"2017-06\",\n\"Fluvial/Mar\\u00edtima\",\n\"Brasil\",\n{\n            'v': 5271.3,\n            'f': \"5271.3\",\n        }],\n [{\n            'v': 479,\n            'f': \"479\",\n        },\n\"2017-06\",\n\"Fluvial/Mar\\u00edtima\",\n\"Chile\",\n{\n            'v': 528.6,\n            'f': \"528.6\",\n        }],\n [{\n            'v': 480,\n            'f': \"480\",\n        },\n\"2017-06\",\n\"Fluvial/Mar\\u00edtima\",\n\"Paraguay\",\n{\n            'v': -5703.1,\n            'f': \"-5703.1\",\n        }],\n [{\n            'v': 481,\n            'f': \"481\",\n        },\n\"2017-06\",\n\"Fluvial/Mar\\u00edtima\",\n\"Uruguay\",\n{\n            'v': -250.1,\n            'f': \"-250.1\",\n        }],\n [{\n            'v': 482,\n            'f': \"482\",\n        },\n\"2017-06\",\n\"Fluvial/Mar\\u00edtima\",\n\"EE.UU. y Canad\\u00e1\",\n{\n            'v': 1784.7,\n            'f': \"1784.7\",\n        }],\n [{\n            'v': 483,\n            'f': \"483\",\n        },\n\"2017-06\",\n\"Fluvial/Mar\\u00edtima\",\n\"Resto de Am\\u00e9rica\",\n{\n            'v': 2079.2,\n            'f': \"2079.2\",\n        }],\n [{\n            'v': 484,\n            'f': \"484\",\n        },\n\"2017-06\",\n\"Fluvial/Mar\\u00edtima\",\n\"Europa\",\n{\n            'v': 2305.5,\n            'f': \"2305.5\",\n        }],\n [{\n            'v': 485,\n            'f': \"485\",\n        },\n\"2017-06\",\n\"Fluvial/Mar\\u00edtima\",\n\"Resto del mundo\",\n{\n            'v': 873.1,\n            'f': \"873.1\",\n        }],\n [{\n            'v': 486,\n            'f': \"486\",\n        },\n\"2017-07\",\n\"A\\u00e9rea\",\n\"Bolivia\",\n{\n            'v': 1386.5,\n            'f': \"1386.5\",\n        }],\n [{\n            'v': 487,\n            'f': \"487\",\n        },\n\"2017-07\",\n\"A\\u00e9rea\",\n\"Brasil\",\n{\n            'v': 21744.4,\n            'f': \"21744.4\",\n        }],\n [{\n            'v': 488,\n            'f': \"488\",\n        },\n\"2017-07\",\n\"A\\u00e9rea\",\n\"Chile\",\n{\n            'v': -35409.5,\n            'f': \"-35409.5\",\n        }],\n [{\n            'v': 489,\n            'f': \"489\",\n        },\n\"2017-07\",\n\"A\\u00e9rea\",\n\"Paraguay\",\n{\n            'v': 1693.2,\n            'f': \"1693.2\",\n        }],\n [{\n            'v': 490,\n            'f': \"490\",\n        },\n\"2017-07\",\n\"A\\u00e9rea\",\n\"Uruguay\",\n{\n            'v': 2097.0,\n            'f': \"2097.0\",\n        }],\n [{\n            'v': 491,\n            'f': \"491\",\n        },\n\"2017-07\",\n\"A\\u00e9rea\",\n\"EE.UU. y Canad\\u00e1\",\n{\n            'v': -55444.8,\n            'f': \"-55444.8\",\n        }],\n [{\n            'v': 492,\n            'f': \"492\",\n        },\n\"2017-07\",\n\"A\\u00e9rea\",\n\"Resto de Am\\u00e9rica\",\n{\n            'v': -53650.0,\n            'f': \"-53650.0\",\n        }],\n [{\n            'v': 493,\n            'f': \"493\",\n        },\n\"2017-07\",\n\"A\\u00e9rea\",\n\"Europa\",\n{\n            'v': -56014.1,\n            'f': \"-56014.1\",\n        }],\n [{\n            'v': 494,\n            'f': \"494\",\n        },\n\"2017-07\",\n\"A\\u00e9rea\",\n\"Resto del mundo\",\n{\n            'v': -2975.7,\n            'f': \"-2975.7\",\n        }],\n [{\n            'v': 495,\n            'f': \"495\",\n        },\n\"2017-07\",\n\"Terrestre\",\n\"Bolivia\",\n{\n            'v': -7282.5,\n            'f': \"-7282.5\",\n        }],\n [{\n            'v': 496,\n            'f': \"496\",\n        },\n\"2017-07\",\n\"Terrestre\",\n\"Brasil\",\n{\n            'v': -77550.9,\n            'f': \"-77550.9\",\n        }],\n [{\n            'v': 497,\n            'f': \"497\",\n        },\n\"2017-07\",\n\"Terrestre\",\n\"Chile\",\n{\n            'v': -83266.4,\n            'f': \"-83266.4\",\n        }],\n [{\n            'v': 498,\n            'f': \"498\",\n        },\n\"2017-07\",\n\"Terrestre\",\n\"Paraguay\",\n{\n            'v': -87476.5,\n            'f': \"-87476.5\",\n        }],\n [{\n            'v': 499,\n            'f': \"499\",\n        },\n\"2017-07\",\n\"Terrestre\",\n\"Uruguay\",\n{\n            'v': -32393.7,\n            'f': \"-32393.7\",\n        }],\n [{\n            'v': 500,\n            'f': \"500\",\n        },\n\"2017-07\",\n\"Terrestre\",\n\"EE.UU. y Canad\\u00e1\",\n{\n            'v': 1325.6,\n            'f': \"1325.6\",\n        }],\n [{\n            'v': 501,\n            'f': \"501\",\n        },\n\"2017-07\",\n\"Terrestre\",\n\"Resto de Am\\u00e9rica\",\n{\n            'v': 8257.6,\n            'f': \"8257.6\",\n        }],\n [{\n            'v': 502,\n            'f': \"502\",\n        },\n\"2017-07\",\n\"Terrestre\",\n\"Europa\",\n{\n            'v': 10023.1,\n            'f': \"10023.1\",\n        }],\n [{\n            'v': 503,\n            'f': \"503\",\n        },\n\"2017-07\",\n\"Terrestre\",\n\"Resto del mundo\",\n{\n            'v': 2678.1,\n            'f': \"2678.1\",\n        }],\n [{\n            'v': 504,\n            'f': \"504\",\n        },\n\"2017-07\",\n\"Fluvial/Mar\\u00edtima\",\n\"Bolivia\",\n{\n            'v': -10069.0,\n            'f': \"-10069.0\",\n        }],\n [{\n            'v': 505,\n            'f': \"505\",\n        },\n\"2017-07\",\n\"Fluvial/Mar\\u00edtima\",\n\"Brasil\",\n{\n            'v': 8439.8,\n            'f': \"8439.8\",\n        }],\n [{\n            'v': 506,\n            'f': \"506\",\n        },\n\"2017-07\",\n\"Fluvial/Mar\\u00edtima\",\n\"Chile\",\n{\n            'v': 913.2,\n            'f': \"913.2\",\n        }],\n [{\n            'v': 507,\n            'f': \"507\",\n        },\n\"2017-07\",\n\"Fluvial/Mar\\u00edtima\",\n\"Paraguay\",\n{\n            'v': -10209.6,\n            'f': \"-10209.6\",\n        }],\n [{\n            'v': 508,\n            'f': \"508\",\n        },\n\"2017-07\",\n\"Fluvial/Mar\\u00edtima\",\n\"Uruguay\",\n{\n            'v': -9546.4,\n            'f': \"-9546.4\",\n        }],\n [{\n            'v': 509,\n            'f': \"509\",\n        },\n\"2017-07\",\n\"Fluvial/Mar\\u00edtima\",\n\"EE.UU. y Canad\\u00e1\",\n{\n            'v': 1852.6,\n            'f': \"1852.6\",\n        }],\n [{\n            'v': 510,\n            'f': \"510\",\n        },\n\"2017-07\",\n\"Fluvial/Mar\\u00edtima\",\n\"Resto de Am\\u00e9rica\",\n{\n            'v': 1015.9,\n            'f': \"1015.9\",\n        }],\n [{\n            'v': 511,\n            'f': \"511\",\n        },\n\"2017-07\",\n\"Fluvial/Mar\\u00edtima\",\n\"Europa\",\n{\n            'v': 3157.8,\n            'f': \"3157.8\",\n        }],\n [{\n            'v': 512,\n            'f': \"512\",\n        },\n\"2017-07\",\n\"Fluvial/Mar\\u00edtima\",\n\"Resto del mundo\",\n{\n            'v': 842.8,\n            'f': \"842.8\",\n        }],\n [{\n            'v': 513,\n            'f': \"513\",\n        },\n\"2017-08\",\n\"A\\u00e9rea\",\n\"Bolivia\",\n{\n            'v': 628.2,\n            'f': \"628.2\",\n        }],\n [{\n            'v': 514,\n            'f': \"514\",\n        },\n\"2017-08\",\n\"A\\u00e9rea\",\n\"Brasil\",\n{\n            'v': 9577.0,\n            'f': \"9577.0\",\n        }],\n [{\n            'v': 515,\n            'f': \"515\",\n        },\n\"2017-08\",\n\"A\\u00e9rea\",\n\"Chile\",\n{\n            'v': -25186.0,\n            'f': \"-25186.0\",\n        }],\n [{\n            'v': 516,\n            'f': \"516\",\n        },\n\"2017-08\",\n\"A\\u00e9rea\",\n\"Paraguay\",\n{\n            'v': 956.0,\n            'f': \"956.0\",\n        }],\n [{\n            'v': 517,\n            'f': \"517\",\n        },\n\"2017-08\",\n\"A\\u00e9rea\",\n\"Uruguay\",\n{\n            'v': 1702.1,\n            'f': \"1702.1\",\n        }],\n [{\n            'v': 518,\n            'f': \"518\",\n        },\n\"2017-08\",\n\"A\\u00e9rea\",\n\"EE.UU. y Canad\\u00e1\",\n{\n            'v': -62329.7,\n            'f': \"-62329.7\",\n        }],\n [{\n            'v': 519,\n            'f': \"519\",\n        },\n\"2017-08\",\n\"A\\u00e9rea\",\n\"Resto de Am\\u00e9rica\",\n{\n            'v': -47418.3,\n            'f': \"-47418.3\",\n        }],\n [{\n            'v': 520,\n            'f': \"520\",\n        },\n\"2017-08\",\n\"A\\u00e9rea\",\n\"Europa\",\n{\n            'v': -46307.7,\n            'f': \"-46307.7\",\n        }],\n [{\n            'v': 521,\n            'f': \"521\",\n        },\n\"2017-08\",\n\"A\\u00e9rea\",\n\"Resto del mundo\",\n{\n            'v': -369.5,\n            'f': \"-369.5\",\n        }],\n [{\n            'v': 522,\n            'f': \"522\",\n        },\n\"2017-08\",\n\"Terrestre\",\n\"Bolivia\",\n{\n            'v': -8463.9,\n            'f': \"-8463.9\",\n        }],\n [{\n            'v': 523,\n            'f': \"523\",\n        },\n\"2017-08\",\n\"Terrestre\",\n\"Brasil\",\n{\n            'v': -33233.2,\n            'f': \"-33233.2\",\n        }],\n [{\n            'v': 524,\n            'f': \"524\",\n        },\n\"2017-08\",\n\"Terrestre\",\n\"Chile\",\n{\n            'v': -66147.1,\n            'f': \"-66147.1\",\n        }],\n [{\n            'v': 525,\n            'f': \"525\",\n        },\n\"2017-08\",\n\"Terrestre\",\n\"Paraguay\",\n{\n            'v': -48847.2,\n            'f': \"-48847.2\",\n        }],\n [{\n            'v': 526,\n            'f': \"526\",\n        },\n\"2017-08\",\n\"Terrestre\",\n\"Uruguay\",\n{\n            'v': -19820.2,\n            'f': \"-19820.2\",\n        }],\n [{\n            'v': 527,\n            'f': \"527\",\n        },\n\"2017-08\",\n\"Terrestre\",\n\"EE.UU. y Canad\\u00e1\",\n{\n            'v': 1217.0,\n            'f': \"1217.0\",\n        }],\n [{\n            'v': 528,\n            'f': \"528\",\n        },\n\"2017-08\",\n\"Terrestre\",\n\"Resto de Am\\u00e9rica\",\n{\n            'v': 8680.9,\n            'f': \"8680.9\",\n        }],\n [{\n            'v': 529,\n            'f': \"529\",\n        },\n\"2017-08\",\n\"Terrestre\",\n\"Europa\",\n{\n            'v': 12201.7,\n            'f': \"12201.7\",\n        }],\n [{\n            'v': 530,\n            'f': \"530\",\n        },\n\"2017-08\",\n\"Terrestre\",\n\"Resto del mundo\",\n{\n            'v': 3069.7,\n            'f': \"3069.7\",\n        }],\n [{\n            'v': 531,\n            'f': \"531\",\n        },\n\"2017-08\",\n\"Fluvial/Mar\\u00edtima\",\n\"Bolivia\",\n{\n            'v': -9777.0,\n            'f': \"-9777.0\",\n        }],\n [{\n            'v': 532,\n            'f': \"532\",\n        },\n\"2017-08\",\n\"Fluvial/Mar\\u00edtima\",\n\"Brasil\",\n{\n            'v': 3484.2,\n            'f': \"3484.2\",\n        }],\n [{\n            'v': 533,\n            'f': \"533\",\n        },\n\"2017-08\",\n\"Fluvial/Mar\\u00edtima\",\n\"Chile\",\n{\n            'v': 657.8,\n            'f': \"657.8\",\n        }],\n [{\n            'v': 534,\n            'f': \"534\",\n        },\n\"2017-08\",\n\"Fluvial/Mar\\u00edtima\",\n\"Paraguay\",\n{\n            'v': -3709.1,\n            'f': \"-3709.1\",\n        }],\n [{\n            'v': 535,\n            'f': \"535\",\n        },\n\"2017-08\",\n\"Fluvial/Mar\\u00edtima\",\n\"Uruguay\",\n{\n            'v': -2203.1,\n            'f': \"-2203.1\",\n        }],\n [{\n            'v': 536,\n            'f': \"536\",\n        },\n\"2017-08\",\n\"Fluvial/Mar\\u00edtima\",\n\"EE.UU. y Canad\\u00e1\",\n{\n            'v': 988.4,\n            'f': \"988.4\",\n        }],\n [{\n            'v': 537,\n            'f': \"537\",\n        },\n\"2017-08\",\n\"Fluvial/Mar\\u00edtima\",\n\"Resto de Am\\u00e9rica\",\n{\n            'v': 1157.1,\n            'f': \"1157.1\",\n        }],\n [{\n            'v': 538,\n            'f': \"538\",\n        },\n\"2017-08\",\n\"Fluvial/Mar\\u00edtima\",\n\"Europa\",\n{\n            'v': 3174.1,\n            'f': \"3174.1\",\n        }],\n [{\n            'v': 539,\n            'f': \"539\",\n        },\n\"2017-08\",\n\"Fluvial/Mar\\u00edtima\",\n\"Resto del mundo\",\n{\n            'v': 783.9,\n            'f': \"783.9\",\n        }],\n [{\n            'v': 540,\n            'f': \"540\",\n        },\n\"2017-09\",\n\"A\\u00e9rea\",\n\"Bolivia\",\n{\n            'v': 1339.8,\n            'f': \"1339.8\",\n        }],\n [{\n            'v': 541,\n            'f': \"541\",\n        },\n\"2017-09\",\n\"A\\u00e9rea\",\n\"Brasil\",\n{\n            'v': -3133.6,\n            'f': \"-3133.6\",\n        }],\n [{\n            'v': 542,\n            'f': \"542\",\n        },\n\"2017-09\",\n\"A\\u00e9rea\",\n\"Chile\",\n{\n            'v': -12902.3,\n            'f': \"-12902.3\",\n        }],\n [{\n            'v': 543,\n            'f': \"543\",\n        },\n\"2017-09\",\n\"A\\u00e9rea\",\n\"Paraguay\",\n{\n            'v': 923.0,\n            'f': \"923.0\",\n        }],\n [{\n            'v': 544,\n            'f': \"544\",\n        },\n\"2017-09\",\n\"A\\u00e9rea\",\n\"Uruguay\",\n{\n            'v': -274.4,\n            'f': \"-274.4\",\n        }],\n [{\n            'v': 545,\n            'f': \"545\",\n        },\n\"2017-09\",\n\"A\\u00e9rea\",\n\"EE.UU. y Canad\\u00e1\",\n{\n            'v': -57554.9,\n            'f': \"-57554.9\",\n        }],\n [{\n            'v': 546,\n            'f': \"546\",\n        },\n\"2017-09\",\n\"A\\u00e9rea\",\n\"Resto de Am\\u00e9rica\",\n{\n            'v': -38828.8,\n            'f': \"-38828.8\",\n        }],\n [{\n            'v': 547,\n            'f': \"547\",\n        },\n\"2017-09\",\n\"A\\u00e9rea\",\n\"Europa\",\n{\n            'v': -54490.6,\n            'f': \"-54490.6\",\n        }],\n [{\n            'v': 548,\n            'f': \"548\",\n        },\n\"2017-09\",\n\"A\\u00e9rea\",\n\"Resto del mundo\",\n{\n            'v': -1719.3,\n            'f': \"-1719.3\",\n        }],\n [{\n            'v': 549,\n            'f': \"549\",\n        },\n\"2017-09\",\n\"Terrestre\",\n\"Bolivia\",\n{\n            'v': -6367.6,\n            'f': \"-6367.6\",\n        }],\n [{\n            'v': 550,\n            'f': \"550\",\n        },\n\"2017-09\",\n\"Terrestre\",\n\"Brasil\",\n{\n            'v': -24292.0,\n            'f': \"-24292.0\",\n        }],\n [{\n            'v': 551,\n            'f': \"551\",\n        },\n\"2017-09\",\n\"Terrestre\",\n\"Chile\",\n{\n            'v': -62085.5,\n            'f': \"-62085.5\",\n        }],\n [{\n            'v': 552,\n            'f': \"552\",\n        },\n\"2017-09\",\n\"Terrestre\",\n\"Paraguay\",\n{\n            'v': -33975.5,\n            'f': \"-33975.5\",\n        }],\n [{\n            'v': 553,\n            'f': \"553\",\n        },\n\"2017-09\",\n\"Terrestre\",\n\"Uruguay\",\n{\n            'v': -6944.6,\n            'f': \"-6944.6\",\n        }],\n [{\n            'v': 554,\n            'f': \"554\",\n        },\n\"2017-09\",\n\"Terrestre\",\n\"EE.UU. y Canad\\u00e1\",\n{\n            'v': 1326.9,\n            'f': \"1326.9\",\n        }],\n [{\n            'v': 555,\n            'f': \"555\",\n        },\n\"2017-09\",\n\"Terrestre\",\n\"Resto de Am\\u00e9rica\",\n{\n            'v': 7102.6,\n            'f': \"7102.6\",\n        }],\n [{\n            'v': 556,\n            'f': \"556\",\n        },\n\"2017-09\",\n\"Terrestre\",\n\"Europa\",\n{\n            'v': 9848.2,\n            'f': \"9848.2\",\n        }],\n [{\n            'v': 557,\n            'f': \"557\",\n        },\n\"2017-09\",\n\"Terrestre\",\n\"Resto del mundo\",\n{\n            'v': 3279.3,\n            'f': \"3279.3\",\n        }],\n [{\n            'v': 558,\n            'f': \"558\",\n        },\n\"2017-09\",\n\"Fluvial/Mar\\u00edtima\",\n\"Bolivia\",\n{\n            'v': -9713.0,\n            'f': \"-9713.0\",\n        }],\n [{\n            'v': 559,\n            'f': \"559\",\n        },\n\"2017-09\",\n\"Fluvial/Mar\\u00edtima\",\n\"Brasil\",\n{\n            'v': 7156.7,\n            'f': \"7156.7\",\n        }],\n [{\n            'v': 560,\n            'f': \"560\",\n        },\n\"2017-09\",\n\"Fluvial/Mar\\u00edtima\",\n\"Chile\",\n{\n            'v': 1173.2,\n            'f': \"1173.2\",\n        }],\n [{\n            'v': 561,\n            'f': \"561\",\n        },\n\"2017-09\",\n\"Fluvial/Mar\\u00edtima\",\n\"Paraguay\",\n{\n            'v': -3536.5,\n            'f': \"-3536.5\",\n        }],\n [{\n            'v': 562,\n            'f': \"562\",\n        },\n\"2017-09\",\n\"Fluvial/Mar\\u00edtima\",\n\"Uruguay\",\n{\n            'v': -7204.6,\n            'f': \"-7204.6\",\n        }],\n [{\n            'v': 563,\n            'f': \"563\",\n        },\n\"2017-09\",\n\"Fluvial/Mar\\u00edtima\",\n\"EE.UU. y Canad\\u00e1\",\n{\n            'v': 1509.5,\n            'f': \"1509.5\",\n        }],\n [{\n            'v': 564,\n            'f': \"564\",\n        },\n\"2017-09\",\n\"Fluvial/Mar\\u00edtima\",\n\"Resto de Am\\u00e9rica\",\n{\n            'v': 3244.1,\n            'f': \"3244.1\",\n        }],\n [{\n            'v': 565,\n            'f': \"565\",\n        },\n\"2017-09\",\n\"Fluvial/Mar\\u00edtima\",\n\"Europa\",\n{\n            'v': 3481.7,\n            'f': \"3481.7\",\n        }],\n [{\n            'v': 566,\n            'f': \"566\",\n        },\n\"2017-09\",\n\"Fluvial/Mar\\u00edtima\",\n\"Resto del mundo\",\n{\n            'v': 1085.1,\n            'f': \"1085.1\",\n        }],\n [{\n            'v': 567,\n            'f': \"567\",\n        },\n\"2017-10\",\n\"A\\u00e9rea\",\n\"Bolivia\",\n{\n            'v': 1890.4,\n            'f': \"1890.4\",\n        }],\n [{\n            'v': 568,\n            'f': \"568\",\n        },\n\"2017-10\",\n\"A\\u00e9rea\",\n\"Brasil\",\n{\n            'v': -12990.6,\n            'f': \"-12990.6\",\n        }],\n [{\n            'v': 569,\n            'f': \"569\",\n        },\n\"2017-10\",\n\"A\\u00e9rea\",\n\"Chile\",\n{\n            'v': -20646.8,\n            'f': \"-20646.8\",\n        }],\n [{\n            'v': 570,\n            'f': \"570\",\n        },\n\"2017-10\",\n\"A\\u00e9rea\",\n\"Paraguay\",\n{\n            'v': 344.7,\n            'f': \"344.7\",\n        }],\n [{\n            'v': 571,\n            'f': \"571\",\n        },\n\"2017-10\",\n\"A\\u00e9rea\",\n\"Uruguay\",\n{\n            'v': -1392.3,\n            'f': \"-1392.3\",\n        }],\n [{\n            'v': 572,\n            'f': \"572\",\n        },\n\"2017-10\",\n\"A\\u00e9rea\",\n\"EE.UU. y Canad\\u00e1\",\n{\n            'v': -64703.8,\n            'f': \"-64703.8\",\n        }],\n [{\n            'v': 573,\n            'f': \"573\",\n        },\n\"2017-10\",\n\"A\\u00e9rea\",\n\"Resto de Am\\u00e9rica\",\n{\n            'v': -28860.1,\n            'f': \"-28860.1\",\n        }],\n [{\n            'v': 574,\n            'f': \"574\",\n        },\n\"2017-10\",\n\"A\\u00e9rea\",\n\"Europa\",\n{\n            'v': -48267.2,\n            'f': \"-48267.2\",\n        }],\n [{\n            'v': 575,\n            'f': \"575\",\n        },\n\"2017-10\",\n\"A\\u00e9rea\",\n\"Resto del mundo\",\n{\n            'v': -4271.3,\n            'f': \"-4271.3\",\n        }],\n [{\n            'v': 576,\n            'f': \"576\",\n        },\n\"2017-10\",\n\"Terrestre\",\n\"Bolivia\",\n{\n            'v': -1013.2,\n            'f': \"-1013.2\",\n        }],\n [{\n            'v': 577,\n            'f': \"577\",\n        },\n\"2017-10\",\n\"Terrestre\",\n\"Brasil\",\n{\n            'v': -29243.2,\n            'f': \"-29243.2\",\n        }],\n [{\n            'v': 578,\n            'f': \"578\",\n        },\n\"2017-10\",\n\"Terrestre\",\n\"Chile\",\n{\n            'v': -90876.9,\n            'f': \"-90876.9\",\n        }],\n [{\n            'v': 579,\n            'f': \"579\",\n        },\n\"2017-10\",\n\"Terrestre\",\n\"Paraguay\",\n{\n            'v': -36260.3,\n            'f': \"-36260.3\",\n        }],\n [{\n            'v': 580,\n            'f': \"580\",\n        },\n\"2017-10\",\n\"Terrestre\",\n\"Uruguay\",\n{\n            'v': -26290.2,\n            'f': \"-26290.2\",\n        }],\n [{\n            'v': 581,\n            'f': \"581\",\n        },\n\"2017-10\",\n\"Terrestre\",\n\"EE.UU. y Canad\\u00e1\",\n{\n            'v': 3027.5,\n            'f': \"3027.5\",\n        }],\n [{\n            'v': 582,\n            'f': \"582\",\n        },\n\"2017-10\",\n\"Terrestre\",\n\"Resto de Am\\u00e9rica\",\n{\n            'v': 10446.1,\n            'f': \"10446.1\",\n        }],\n [{\n            'v': 583,\n            'f': \"583\",\n        },\n\"2017-10\",\n\"Terrestre\",\n\"Europa\",\n{\n            'v': 18171.2,\n            'f': \"18171.2\",\n        }],\n [{\n            'v': 584,\n            'f': \"584\",\n        },\n\"2017-10\",\n\"Terrestre\",\n\"Resto del mundo\",\n{\n            'v': 5222.2,\n            'f': \"5222.2\",\n        }],\n [{\n            'v': 585,\n            'f': \"585\",\n        },\n\"2017-10\",\n\"Fluvial/Mar\\u00edtima\",\n\"Bolivia\",\n{\n            'v': -6952.7,\n            'f': \"-6952.7\",\n        }],\n [{\n            'v': 586,\n            'f': \"586\",\n        },\n\"2017-10\",\n\"Fluvial/Mar\\u00edtima\",\n\"Brasil\",\n{\n            'v': 5702.4,\n            'f': \"5702.4\",\n        }],\n [{\n            'v': 587,\n            'f': \"587\",\n        },\n\"2017-10\",\n\"Fluvial/Mar\\u00edtima\",\n\"Chile\",\n{\n            'v': 1036.1,\n            'f': \"1036.1\",\n        }],\n [{\n            'v': 588,\n            'f': \"588\",\n        },\n\"2017-10\",\n\"Fluvial/Mar\\u00edtima\",\n\"Paraguay\",\n{\n            'v': -4843.6,\n            'f': \"-4843.6\",\n        }],\n [{\n            'v': 589,\n            'f': \"589\",\n        },\n\"2017-10\",\n\"Fluvial/Mar\\u00edtima\",\n\"Uruguay\",\n{\n            'v': -16284.5,\n            'f': \"-16284.5\",\n        }],\n [{\n            'v': 590,\n            'f': \"590\",\n        },\n\"2017-10\",\n\"Fluvial/Mar\\u00edtima\",\n\"EE.UU. y Canad\\u00e1\",\n{\n            'v': 2734.5,\n            'f': \"2734.5\",\n        }],\n [{\n            'v': 591,\n            'f': \"591\",\n        },\n\"2017-10\",\n\"Fluvial/Mar\\u00edtima\",\n\"Resto de Am\\u00e9rica\",\n{\n            'v': 4325.7,\n            'f': \"4325.7\",\n        }],\n [{\n            'v': 592,\n            'f': \"592\",\n        },\n\"2017-10\",\n\"Fluvial/Mar\\u00edtima\",\n\"Europa\",\n{\n            'v': 6661.7,\n            'f': \"6661.7\",\n        }],\n [{\n            'v': 593,\n            'f': \"593\",\n        },\n\"2017-10\",\n\"Fluvial/Mar\\u00edtima\",\n\"Resto del mundo\",\n{\n            'v': 1750.7,\n            'f': \"1750.7\",\n        }],\n [{\n            'v': 594,\n            'f': \"594\",\n        },\n\"2017-11\",\n\"A\\u00e9rea\",\n\"Bolivia\",\n{\n            'v': 2399.8,\n            'f': \"2399.8\",\n        }],\n [{\n            'v': 595,\n            'f': \"595\",\n        },\n\"2017-11\",\n\"A\\u00e9rea\",\n\"Brasil\",\n{\n            'v': -18324.0,\n            'f': \"-18324.0\",\n        }],\n [{\n            'v': 596,\n            'f': \"596\",\n        },\n\"2017-11\",\n\"A\\u00e9rea\",\n\"Chile\",\n{\n            'v': -22659.8,\n            'f': \"-22659.8\",\n        }],\n [{\n            'v': 597,\n            'f': \"597\",\n        },\n\"2017-11\",\n\"A\\u00e9rea\",\n\"Paraguay\",\n{\n            'v': 1736.1,\n            'f': \"1736.1\",\n        }],\n [{\n            'v': 598,\n            'f': \"598\",\n        },\n\"2017-11\",\n\"A\\u00e9rea\",\n\"Uruguay\",\n{\n            'v': -3768.2,\n            'f': \"-3768.2\",\n        }],\n [{\n            'v': 599,\n            'f': \"599\",\n        },\n\"2017-11\",\n\"A\\u00e9rea\",\n\"EE.UU. y Canad\\u00e1\",\n{\n            'v': -35654.9,\n            'f': \"-35654.9\",\n        }],\n [{\n            'v': 600,\n            'f': \"600\",\n        },\n\"2017-11\",\n\"A\\u00e9rea\",\n\"Resto de Am\\u00e9rica\",\n{\n            'v': -23963.9,\n            'f': \"-23963.9\",\n        }],\n [{\n            'v': 601,\n            'f': \"601\",\n        },\n\"2017-11\",\n\"A\\u00e9rea\",\n\"Europa\",\n{\n            'v': 423.9,\n            'f': \"423.9\",\n        }],\n [{\n            'v': 602,\n            'f': \"602\",\n        },\n\"2017-11\",\n\"A\\u00e9rea\",\n\"Resto del mundo\",\n{\n            'v': -561.5,\n            'f': \"-561.5\",\n        }],\n [{\n            'v': 603,\n            'f': \"603\",\n        },\n\"2017-11\",\n\"Terrestre\",\n\"Bolivia\",\n{\n            'v': -1980.9,\n            'f': \"-1980.9\",\n        }],\n [{\n            'v': 604,\n            'f': \"604\",\n        },\n\"2017-11\",\n\"Terrestre\",\n\"Brasil\",\n{\n            'v': -32916.4,\n            'f': \"-32916.4\",\n        }],\n [{\n            'v': 605,\n            'f': \"605\",\n        },\n\"2017-11\",\n\"Terrestre\",\n\"Chile\",\n{\n            'v': -89766.3,\n            'f': \"-89766.3\",\n        }],\n [{\n            'v': 606,\n            'f': \"606\",\n        },\n\"2017-11\",\n\"Terrestre\",\n\"Paraguay\",\n{\n            'v': -37775.0,\n            'f': \"-37775.0\",\n        }],\n [{\n            'v': 607,\n            'f': \"607\",\n        },\n\"2017-11\",\n\"Terrestre\",\n\"Uruguay\",\n{\n            'v': -35691.7,\n            'f': \"-35691.7\",\n        }],\n [{\n            'v': 608,\n            'f': \"608\",\n        },\n\"2017-11\",\n\"Terrestre\",\n\"EE.UU. y Canad\\u00e1\",\n{\n            'v': 4932.5,\n            'f': \"4932.5\",\n        }],\n [{\n            'v': 609,\n            'f': \"609\",\n        },\n\"2017-11\",\n\"Terrestre\",\n\"Resto de Am\\u00e9rica\",\n{\n            'v': 10949.0,\n            'f': \"10949.0\",\n        }],\n [{\n            'v': 610,\n            'f': \"610\",\n        },\n\"2017-11\",\n\"Terrestre\",\n\"Europa\",\n{\n            'v': 34724.3,\n            'f': \"34724.3\",\n        }],\n [{\n            'v': 611,\n            'f': \"611\",\n        },\n\"2017-11\",\n\"Terrestre\",\n\"Resto del mundo\",\n{\n            'v': 6068.4,\n            'f': \"6068.4\",\n        }],\n [{\n            'v': 612,\n            'f': \"612\",\n        },\n\"2017-11\",\n\"Fluvial/Mar\\u00edtima\",\n\"Bolivia\",\n{\n            'v': -7873.0,\n            'f': \"-7873.0\",\n        }],\n [{\n            'v': 613,\n            'f': \"613\",\n        },\n\"2017-11\",\n\"Fluvial/Mar\\u00edtima\",\n\"Brasil\",\n{\n            'v': 4201.4,\n            'f': \"4201.4\",\n        }],\n [{\n            'v': 614,\n            'f': \"614\",\n        },\n\"2017-11\",\n\"Fluvial/Mar\\u00edtima\",\n\"Chile\",\n{\n            'v': -75.8,\n            'f': \"-75.8\",\n        }],\n [{\n            'v': 615,\n            'f': \"615\",\n        },\n\"2017-11\",\n\"Fluvial/Mar\\u00edtima\",\n\"Paraguay\",\n{\n            'v': -4310.4,\n            'f': \"-4310.4\",\n        }],\n [{\n            'v': 616,\n            'f': \"616\",\n        },\n\"2017-11\",\n\"Fluvial/Mar\\u00edtima\",\n\"Uruguay\",\n{\n            'v': -26283.6,\n            'f': \"-26283.6\",\n        }],\n [{\n            'v': 617,\n            'f': \"617\",\n        },\n\"2017-11\",\n\"Fluvial/Mar\\u00edtima\",\n\"EE.UU. y Canad\\u00e1\",\n{\n            'v': 5232.4,\n            'f': \"5232.4\",\n        }],\n [{\n            'v': 618,\n            'f': \"618\",\n        },\n\"2017-11\",\n\"Fluvial/Mar\\u00edtima\",\n\"Resto de Am\\u00e9rica\",\n{\n            'v': 4469.9,\n            'f': \"4469.9\",\n        }],\n [{\n            'v': 619,\n            'f': \"619\",\n        },\n\"2017-11\",\n\"Fluvial/Mar\\u00edtima\",\n\"Europa\",\n{\n            'v': 12031.0,\n            'f': \"12031.0\",\n        }],\n [{\n            'v': 620,\n            'f': \"620\",\n        },\n\"2017-11\",\n\"Fluvial/Mar\\u00edtima\",\n\"Resto del mundo\",\n{\n            'v': 2688.0,\n            'f': \"2688.0\",\n        }],\n [{\n            'v': 621,\n            'f': \"621\",\n        },\n\"2017-12\",\n\"A\\u00e9rea\",\n\"Bolivia\",\n{\n            'v': 4585.3,\n            'f': \"4585.3\",\n        }],\n [{\n            'v': 622,\n            'f': \"622\",\n        },\n\"2017-12\",\n\"A\\u00e9rea\",\n\"Brasil\",\n{\n            'v': -33485.5,\n            'f': \"-33485.5\",\n        }],\n [{\n            'v': 623,\n            'f': \"623\",\n        },\n\"2017-12\",\n\"A\\u00e9rea\",\n\"Chile\",\n{\n            'v': -20989.6,\n            'f': \"-20989.6\",\n        }],\n [{\n            'v': 624,\n            'f': \"624\",\n        },\n\"2017-12\",\n\"A\\u00e9rea\",\n\"Paraguay\",\n{\n            'v': 2542.4,\n            'f': \"2542.4\",\n        }],\n [{\n            'v': 625,\n            'f': \"625\",\n        },\n\"2017-12\",\n\"A\\u00e9rea\",\n\"Uruguay\",\n{\n            'v': -5941.7,\n            'f': \"-5941.7\",\n        }],\n [{\n            'v': 626,\n            'f': \"626\",\n        },\n\"2017-12\",\n\"A\\u00e9rea\",\n\"EE.UU. y Canad\\u00e1\",\n{\n            'v': -27187.1,\n            'f': \"-27187.1\",\n        }],\n [{\n            'v': 627,\n            'f': \"627\",\n        },\n\"2017-12\",\n\"A\\u00e9rea\",\n\"Resto de Am\\u00e9rica\",\n{\n            'v': -15791.2,\n            'f': \"-15791.2\",\n        }],\n [{\n            'v': 628,\n            'f': \"628\",\n        },\n\"2017-12\",\n\"A\\u00e9rea\",\n\"Europa\",\n{\n            'v': 25103.4,\n            'f': \"25103.4\",\n        }],\n [{\n            'v': 629,\n            'f': \"629\",\n        },\n\"2017-12\",\n\"A\\u00e9rea\",\n\"Resto del mundo\",\n{\n            'v': 7866.3,\n            'f': \"7866.3\",\n        }],\n [{\n            'v': 630,\n            'f': \"630\",\n        },\n\"2017-12\",\n\"Terrestre\",\n\"Bolivia\",\n{\n            'v': 12926.5,\n            'f': \"12926.5\",\n        }],\n [{\n            'v': 631,\n            'f': \"631\",\n        },\n\"2017-12\",\n\"Terrestre\",\n\"Brasil\",\n{\n            'v': -31716.1,\n            'f': \"-31716.1\",\n        }],\n [{\n            'v': 632,\n            'f': \"632\",\n        },\n\"2017-12\",\n\"Terrestre\",\n\"Chile\",\n{\n            'v': -84991.0,\n            'f': \"-84991.0\",\n        }],\n [{\n            'v': 633,\n            'f': \"633\",\n        },\n\"2017-12\",\n\"Terrestre\",\n\"Paraguay\",\n{\n            'v': 40226.2,\n            'f': \"40226.2\",\n        }],\n [{\n            'v': 634,\n            'f': \"634\",\n        },\n\"2017-12\",\n\"Terrestre\",\n\"Uruguay\",\n{\n            'v': -48319.1,\n            'f': \"-48319.1\",\n        }],\n [{\n            'v': 635,\n            'f': \"635\",\n        },\n\"2017-12\",\n\"Terrestre\",\n\"EE.UU. y Canad\\u00e1\",\n{\n            'v': 6299.3,\n            'f': \"6299.3\",\n        }],\n [{\n            'v': 636,\n            'f': \"636\",\n        },\n\"2017-12\",\n\"Terrestre\",\n\"Resto de Am\\u00e9rica\",\n{\n            'v': 14604.8,\n            'f': \"14604.8\",\n        }],\n [{\n            'v': 637,\n            'f': \"637\",\n        },\n\"2017-12\",\n\"Terrestre\",\n\"Europa\",\n{\n            'v': 29322.0,\n            'f': \"29322.0\",\n        }],\n [{\n            'v': 638,\n            'f': \"638\",\n        },\n\"2017-12\",\n\"Terrestre\",\n\"Resto del mundo\",\n{\n            'v': 9787.5,\n            'f': \"9787.5\",\n        }],\n [{\n            'v': 639,\n            'f': \"639\",\n        },\n\"2017-12\",\n\"Fluvial/Mar\\u00edtima\",\n\"Bolivia\",\n{\n            'v': -8148.3,\n            'f': \"-8148.3\",\n        }],\n [{\n            'v': 640,\n            'f': \"640\",\n        },\n\"2017-12\",\n\"Fluvial/Mar\\u00edtima\",\n\"Brasil\",\n{\n            'v': 3637.1,\n            'f': \"3637.1\",\n        }],\n [{\n            'v': 641,\n            'f': \"641\",\n        },\n\"2017-12\",\n\"Fluvial/Mar\\u00edtima\",\n\"Chile\",\n{\n            'v': -10861.8,\n            'f': \"-10861.8\",\n        }],\n [{\n            'v': 642,\n            'f': \"642\",\n        },\n\"2017-12\",\n\"Fluvial/Mar\\u00edtima\",\n\"Paraguay\",\n{\n            'v': 346.5,\n            'f': \"346.5\",\n        }],\n [{\n            'v': 643,\n            'f': \"643\",\n        },\n\"2017-12\",\n\"Fluvial/Mar\\u00edtima\",\n\"Uruguay\",\n{\n            'v': -35490.3,\n            'f': \"-35490.3\",\n        }],\n [{\n            'v': 644,\n            'f': \"644\",\n        },\n\"2017-12\",\n\"Fluvial/Mar\\u00edtima\",\n\"EE.UU. y Canad\\u00e1\",\n{\n            'v': 12907.2,\n            'f': \"12907.2\",\n        }],\n [{\n            'v': 645,\n            'f': \"645\",\n        },\n\"2017-12\",\n\"Fluvial/Mar\\u00edtima\",\n\"Resto de Am\\u00e9rica\",\n{\n            'v': 10103.2,\n            'f': \"10103.2\",\n        }],\n [{\n            'v': 646,\n            'f': \"646\",\n        },\n\"2017-12\",\n\"Fluvial/Mar\\u00edtima\",\n\"Europa\",\n{\n            'v': 13921.7,\n            'f': \"13921.7\",\n        }],\n [{\n            'v': 647,\n            'f': \"647\",\n        },\n\"2017-12\",\n\"Fluvial/Mar\\u00edtima\",\n\"Resto del mundo\",\n{\n            'v': 4426.5,\n            'f': \"4426.5\",\n        }],\n [{\n            'v': 648,\n            'f': \"648\",\n        },\n\"2018-01\",\n\"A\\u00e9rea\",\n\"Bolivia\",\n{\n            'v': 2527.3,\n            'f': \"2527.3\",\n        }],\n [{\n            'v': 649,\n            'f': \"649\",\n        },\n\"2018-01\",\n\"A\\u00e9rea\",\n\"Brasil\",\n{\n            'v': -91604.4,\n            'f': \"-91604.4\",\n        }],\n [{\n            'v': 650,\n            'f': \"650\",\n        },\n\"2018-01\",\n\"A\\u00e9rea\",\n\"Chile\",\n{\n            'v': -38532.8,\n            'f': \"-38532.8\",\n        }],\n [{\n            'v': 651,\n            'f': \"651\",\n        },\n\"2018-01\",\n\"A\\u00e9rea\",\n\"Paraguay\",\n{\n            'v': 1917.1,\n            'f': \"1917.1\",\n        }],\n [{\n            'v': 652,\n            'f': \"652\",\n        },\n\"2018-01\",\n\"A\\u00e9rea\",\n\"Uruguay\",\n{\n            'v': -23517.6,\n            'f': \"-23517.6\",\n        }],\n [{\n            'v': 653,\n            'f': \"653\",\n        },\n\"2018-01\",\n\"A\\u00e9rea\",\n\"EE.UU. y Canad\\u00e1\",\n{\n            'v': -26108.2,\n            'f': \"-26108.2\",\n        }],\n [{\n            'v': 654,\n            'f': \"654\",\n        },\n\"2018-01\",\n\"A\\u00e9rea\",\n\"Resto de Am\\u00e9rica\",\n{\n            'v': -59713.3,\n            'f': \"-59713.3\",\n        }],\n [{\n            'v': 655,\n            'f': \"655\",\n        },\n\"2018-01\",\n\"A\\u00e9rea\",\n\"Europa\",\n{\n            'v': 27281.8,\n            'f': \"27281.8\",\n        }],\n [{\n            'v': 656,\n            'f': \"656\",\n        },\n\"2018-01\",\n\"A\\u00e9rea\",\n\"Resto del mundo\",\n{\n            'v': 4544.1,\n            'f': \"4544.1\",\n        }],\n [{\n            'v': 657,\n            'f': \"657\",\n        },\n\"2018-01\",\n\"Terrestre\",\n\"Bolivia\",\n{\n            'v': 8371.8,\n            'f': \"8371.8\",\n        }],\n [{\n            'v': 658,\n            'f': \"658\",\n        },\n\"2018-01\",\n\"Terrestre\",\n\"Brasil\",\n{\n            'v': -326200.0,\n            'f': \"-326200.0\",\n        }],\n [{\n            'v': 659,\n            'f': \"659\",\n        },\n\"2018-01\",\n\"Terrestre\",\n\"Chile\",\n{\n            'v': -286439.9,\n            'f': \"-286439.9\",\n        }],\n [{\n            'v': 660,\n            'f': \"660\",\n        },\n\"2018-01\",\n\"Terrestre\",\n\"Paraguay\",\n{\n            'v': -129656.3,\n            'f': \"-129656.3\",\n        }],\n [{\n            'v': 661,\n            'f': \"661\",\n        },\n\"2018-01\",\n\"Terrestre\",\n\"Uruguay\",\n{\n            'v': -223053.1,\n            'f': \"-223053.1\",\n        }],\n [{\n            'v': 662,\n            'f': \"662\",\n        },\n\"2018-01\",\n\"Terrestre\",\n\"EE.UU. y Canad\\u00e1\",\n{\n            'v': 7357.1,\n            'f': \"7357.1\",\n        }],\n [{\n            'v': 663,\n            'f': \"663\",\n        },\n\"2018-01\",\n\"Terrestre\",\n\"Resto de Am\\u00e9rica\",\n{\n            'v': 12518.2,\n            'f': \"12518.2\",\n        }],\n [{\n            'v': 664,\n            'f': \"664\",\n        },\n\"2018-01\",\n\"Terrestre\",\n\"Europa\",\n{\n            'v': 32984.9,\n            'f': \"32984.9\",\n        }],\n [{\n            'v': 665,\n            'f': \"665\",\n        },\n\"2018-01\",\n\"Terrestre\",\n\"Resto del mundo\",\n{\n            'v': 15588.6,\n            'f': \"15588.6\",\n        }],\n [{\n            'v': 666,\n            'f': \"666\",\n        },\n\"2018-01\",\n\"Fluvial/Mar\\u00edtima\",\n\"Bolivia\",\n{\n            'v': -6394.0,\n            'f': \"-6394.0\",\n        }],\n [{\n            'v': 667,\n            'f': \"667\",\n        },\n\"2018-01\",\n\"Fluvial/Mar\\u00edtima\",\n\"Brasil\",\n{\n            'v': 15729.8,\n            'f': \"15729.8\",\n        }],\n [{\n            'v': 668,\n            'f': \"668\",\n        },\n\"2018-01\",\n\"Fluvial/Mar\\u00edtima\",\n\"Chile\",\n{\n            'v': -10112.6,\n            'f': \"-10112.6\",\n        }],\n [{\n            'v': 669,\n            'f': \"669\",\n        },\n\"2018-01\",\n\"Fluvial/Mar\\u00edtima\",\n\"Paraguay\",\n{\n            'v': -12291.8,\n            'f': \"-12291.8\",\n        }],\n [{\n            'v': 670,\n            'f': \"670\",\n        },\n\"2018-01\",\n\"Fluvial/Mar\\u00edtima\",\n\"Uruguay\",\n{\n            'v': -112874.1,\n            'f': \"-112874.1\",\n        }],\n [{\n            'v': 671,\n            'f': \"671\",\n        },\n\"2018-01\",\n\"Fluvial/Mar\\u00edtima\",\n\"EE.UU. y Canad\\u00e1\",\n{\n            'v': 18031.6,\n            'f': \"18031.6\",\n        }],\n [{\n            'v': 672,\n            'f': \"672\",\n        },\n\"2018-01\",\n\"Fluvial/Mar\\u00edtima\",\n\"Resto de Am\\u00e9rica\",\n{\n            'v': 2223.3,\n            'f': \"2223.3\",\n        }],\n [{\n            'v': 673,\n            'f': \"673\",\n        },\n\"2018-01\",\n\"Fluvial/Mar\\u00edtima\",\n\"Europa\",\n{\n            'v': 18471.3,\n            'f': \"18471.3\",\n        }],\n [{\n            'v': 674,\n            'f': \"674\",\n        },\n\"2018-01\",\n\"Fluvial/Mar\\u00edtima\",\n\"Resto del mundo\",\n{\n            'v': 5430.6,\n            'f': \"5430.6\",\n        }],\n [{\n            'v': 675,\n            'f': \"675\",\n        },\n\"2018-02\",\n\"A\\u00e9rea\",\n\"Bolivia\",\n{\n            'v': -329.7,\n            'f': \"-329.7\",\n        }],\n [{\n            'v': 676,\n            'f': \"676\",\n        },\n\"2018-02\",\n\"A\\u00e9rea\",\n\"Brasil\",\n{\n            'v': -110766.7,\n            'f': \"-110766.7\",\n        }],\n [{\n            'v': 677,\n            'f': \"677\",\n        },\n\"2018-02\",\n\"A\\u00e9rea\",\n\"Chile\",\n{\n            'v': -34332.2,\n            'f': \"-34332.2\",\n        }],\n [{\n            'v': 678,\n            'f': \"678\",\n        },\n\"2018-02\",\n\"A\\u00e9rea\",\n\"Paraguay\",\n{\n            'v': -402.3,\n            'f': \"-402.3\",\n        }],\n [{\n            'v': 679,\n            'f': \"679\",\n        },\n\"2018-02\",\n\"A\\u00e9rea\",\n\"Uruguay\",\n{\n            'v': -11905.4,\n            'f': \"-11905.4\",\n        }],\n [{\n            'v': 680,\n            'f': \"680\",\n        },\n\"2018-02\",\n\"A\\u00e9rea\",\n\"EE.UU. y Canad\\u00e1\",\n{\n            'v': -54225.9,\n            'f': \"-54225.9\",\n        }],\n [{\n            'v': 681,\n            'f': \"681\",\n        },\n\"2018-02\",\n\"A\\u00e9rea\",\n\"Resto de Am\\u00e9rica\",\n{\n            'v': -75065.5,\n            'f': \"-75065.5\",\n        }],\n [{\n            'v': 682,\n            'f': \"682\",\n        },\n\"2018-02\",\n\"A\\u00e9rea\",\n\"Europa\",\n{\n            'v': 1809.9,\n            'f': \"1809.9\",\n        }],\n [{\n            'v': 683,\n            'f': \"683\",\n        },\n\"2018-02\",\n\"A\\u00e9rea\",\n\"Resto del mundo\",\n{\n            'v': -3178.5,\n            'f': \"-3178.5\",\n        }],\n [{\n            'v': 684,\n            'f': \"684\",\n        },\n\"2018-02\",\n\"Terrestre\",\n\"Bolivia\",\n{\n            'v': -16101.3,\n            'f': \"-16101.3\",\n        }],\n [{\n            'v': 685,\n            'f': \"685\",\n        },\n\"2018-02\",\n\"Terrestre\",\n\"Brasil\",\n{\n            'v': -311139.3,\n            'f': \"-311139.3\",\n        }],\n [{\n            'v': 686,\n            'f': \"686\",\n        },\n\"2018-02\",\n\"Terrestre\",\n\"Chile\",\n{\n            'v': -180595.6,\n            'f': \"-180595.6\",\n        }],\n [{\n            'v': 687,\n            'f': \"687\",\n        },\n\"2018-02\",\n\"Terrestre\",\n\"Paraguay\",\n{\n            'v': -101572.2,\n            'f': \"-101572.2\",\n        }],\n [{\n            'v': 688,\n            'f': \"688\",\n        },\n\"2018-02\",\n\"Terrestre\",\n\"Uruguay\",\n{\n            'v': -206811.9,\n            'f': \"-206811.9\",\n        }],\n [{\n            'v': 689,\n            'f': \"689\",\n        },\n\"2018-02\",\n\"Terrestre\",\n\"EE.UU. y Canad\\u00e1\",\n{\n            'v': 6556.1,\n            'f': \"6556.1\",\n        }],\n [{\n            'v': 690,\n            'f': \"690\",\n        },\n\"2018-02\",\n\"Terrestre\",\n\"Resto de Am\\u00e9rica\",\n{\n            'v': 9034.3,\n            'f': \"9034.3\",\n        }],\n [{\n            'v': 691,\n            'f': \"691\",\n        },\n\"2018-02\",\n\"Terrestre\",\n\"Europa\",\n{\n            'v': 31235.5,\n            'f': \"31235.5\",\n        }],\n [{\n            'v': 692,\n            'f': \"692\",\n        },\n\"2018-02\",\n\"Terrestre\",\n\"Resto del mundo\",\n{\n            'v': 13003.1,\n            'f': \"13003.1\",\n        }],\n [{\n            'v': 693,\n            'f': \"693\",\n        },\n\"2018-02\",\n\"Fluvial/Mar\\u00edtima\",\n\"Bolivia\",\n{\n            'v': -5443.0,\n            'f': \"-5443.0\",\n        }],\n [{\n            'v': 694,\n            'f': \"694\",\n        },\n\"2018-02\",\n\"Fluvial/Mar\\u00edtima\",\n\"Brasil\",\n{\n            'v': 788.7,\n            'f': \"788.7\",\n        }],\n [{\n            'v': 695,\n            'f': \"695\",\n        },\n\"2018-02\",\n\"Fluvial/Mar\\u00edtima\",\n\"Chile\",\n{\n            'v': -9636.0,\n            'f': \"-9636.0\",\n        }],\n [{\n            'v': 696,\n            'f': \"696\",\n        },\n\"2018-02\",\n\"Fluvial/Mar\\u00edtima\",\n\"Paraguay\",\n{\n            'v': -6026.7,\n            'f': \"-6026.7\",\n        }],\n [{\n            'v': 697,\n            'f': \"697\",\n        },\n\"2018-02\",\n\"Fluvial/Mar\\u00edtima\",\n\"Uruguay\",\n{\n            'v': -99264.4,\n            'f': \"-99264.4\",\n        }],\n [{\n            'v': 698,\n            'f': \"698\",\n        },\n\"2018-02\",\n\"Fluvial/Mar\\u00edtima\",\n\"EE.UU. y Canad\\u00e1\",\n{\n            'v': 19163.7,\n            'f': \"19163.7\",\n        }],\n [{\n            'v': 699,\n            'f': \"699\",\n        },\n\"2018-02\",\n\"Fluvial/Mar\\u00edtima\",\n\"Resto de Am\\u00e9rica\",\n{\n            'v': -5807.7,\n            'f': \"-5807.7\",\n        }],\n [{\n            'v': 700,\n            'f': \"700\",\n        },\n\"2018-02\",\n\"Fluvial/Mar\\u00edtima\",\n\"Europa\",\n{\n            'v': 20170.7,\n            'f': \"20170.7\",\n        }],\n [{\n            'v': 701,\n            'f': \"701\",\n        },\n\"2018-02\",\n\"Fluvial/Mar\\u00edtima\",\n\"Resto del mundo\",\n{\n            'v': 6343.2,\n            'f': \"6343.2\",\n        }],\n [{\n            'v': 702,\n            'f': \"702\",\n        },\n\"2018-03\",\n\"A\\u00e9rea\",\n\"Bolivia\",\n{\n            'v': 1202.2,\n            'f': \"1202.2\",\n        }],\n [{\n            'v': 703,\n            'f': \"703\",\n        },\n\"2018-03\",\n\"A\\u00e9rea\",\n\"Brasil\",\n{\n            'v': -104140.2,\n            'f': \"-104140.2\",\n        }],\n [{\n            'v': 704,\n            'f': \"704\",\n        },\n\"2018-03\",\n\"A\\u00e9rea\",\n\"Chile\",\n{\n            'v': -19301.9,\n            'f': \"-19301.9\",\n        }],\n [{\n            'v': 705,\n            'f': \"705\",\n        },\n\"2018-03\",\n\"A\\u00e9rea\",\n\"Paraguay\",\n{\n            'v': 2533.4,\n            'f': \"2533.4\",\n        }],\n [{\n            'v': 706,\n            'f': \"706\",\n        },\n\"2018-03\",\n\"A\\u00e9rea\",\n\"Uruguay\",\n{\n            'v': -3098.0,\n            'f': \"-3098.0\",\n        }],\n [{\n            'v': 707,\n            'f': \"707\",\n        },\n\"2018-03\",\n\"A\\u00e9rea\",\n\"EE.UU. y Canad\\u00e1\",\n{\n            'v': -45584.4,\n            'f': \"-45584.4\",\n        }],\n [{\n            'v': 708,\n            'f': \"708\",\n        },\n\"2018-03\",\n\"A\\u00e9rea\",\n\"Resto de Am\\u00e9rica\",\n{\n            'v': -70656.5,\n            'f': \"-70656.5\",\n        }],\n [{\n            'v': 709,\n            'f': \"709\",\n        },\n\"2018-03\",\n\"A\\u00e9rea\",\n\"Europa\",\n{\n            'v': 4421.2,\n            'f': \"4421.2\",\n        }],\n [{\n            'v': 710,\n            'f': \"710\",\n        },\n\"2018-03\",\n\"A\\u00e9rea\",\n\"Resto del mundo\",\n{\n            'v': -5162.9,\n            'f': \"-5162.9\",\n        }],\n [{\n            'v': 711,\n            'f': \"711\",\n        },\n\"2018-03\",\n\"Terrestre\",\n\"Bolivia\",\n{\n            'v': -5084.9,\n            'f': \"-5084.9\",\n        }],\n [{\n            'v': 712,\n            'f': \"712\",\n        },\n\"2018-03\",\n\"Terrestre\",\n\"Brasil\",\n{\n            'v': -144712.3,\n            'f': \"-144712.3\",\n        }],\n [{\n            'v': 713,\n            'f': \"713\",\n        },\n\"2018-03\",\n\"Terrestre\",\n\"Chile\",\n{\n            'v': -77825.8,\n            'f': \"-77825.8\",\n        }],\n [{\n            'v': 714,\n            'f': \"714\",\n        },\n\"2018-03\",\n\"Terrestre\",\n\"Paraguay\",\n{\n            'v': -27818.0,\n            'f': \"-27818.0\",\n        }],\n [{\n            'v': 715,\n            'f': \"715\",\n        },\n\"2018-03\",\n\"Terrestre\",\n\"Uruguay\",\n{\n            'v': -48588.0,\n            'f': \"-48588.0\",\n        }],\n [{\n            'v': 716,\n            'f': \"716\",\n        },\n\"2018-03\",\n\"Terrestre\",\n\"EE.UU. y Canad\\u00e1\",\n{\n            'v': 6633.2,\n            'f': \"6633.2\",\n        }],\n [{\n            'v': 717,\n            'f': \"717\",\n        },\n\"2018-03\",\n\"Terrestre\",\n\"Resto de Am\\u00e9rica\",\n{\n            'v': 9632.2,\n            'f': \"9632.2\",\n        }],\n [{\n            'v': 718,\n            'f': \"718\",\n        },\n\"2018-03\",\n\"Terrestre\",\n\"Europa\",\n{\n            'v': 30750.2,\n            'f': \"30750.2\",\n        }],\n [{\n            'v': 719,\n            'f': \"719\",\n        },\n\"2018-03\",\n\"Terrestre\",\n\"Resto del mundo\",\n{\n            'v': 9226.7,\n            'f': \"9226.7\",\n        }],\n [{\n            'v': 720,\n            'f': \"720\",\n        },\n\"2018-03\",\n\"Fluvial/Mar\\u00edtima\",\n\"Bolivia\",\n{\n            'v': 1834.0,\n            'f': \"1834.0\",\n        }],\n [{\n            'v': 721,\n            'f': \"721\",\n        },\n\"2018-03\",\n\"Fluvial/Mar\\u00edtima\",\n\"Brasil\",\n{\n            'v': 4446.5,\n            'f': \"4446.5\",\n        }],\n [{\n            'v': 722,\n            'f': \"722\",\n        },\n\"2018-03\",\n\"Fluvial/Mar\\u00edtima\",\n\"Chile\",\n{\n            'v': -4045.5,\n            'f': \"-4045.5\",\n        }],\n [{\n            'v': 723,\n            'f': \"723\",\n        },\n\"2018-03\",\n\"Fluvial/Mar\\u00edtima\",\n\"Paraguay\",\n{\n            'v': -4250.8,\n            'f': \"-4250.8\",\n        }],\n [{\n            'v': 724,\n            'f': \"724\",\n        },\n\"2018-03\",\n\"Fluvial/Mar\\u00edtima\",\n\"Uruguay\",\n{\n            'v': -27430.1,\n            'f': \"-27430.1\",\n        }],\n [{\n            'v': 725,\n            'f': \"725\",\n        },\n\"2018-03\",\n\"Fluvial/Mar\\u00edtima\",\n\"EE.UU. y Canad\\u00e1\",\n{\n            'v': 12496.6,\n            'f': \"12496.6\",\n        }],\n [{\n            'v': 726,\n            'f': \"726\",\n        },\n\"2018-03\",\n\"Fluvial/Mar\\u00edtima\",\n\"Resto de Am\\u00e9rica\",\n{\n            'v': 1823.5,\n            'f': \"1823.5\",\n        }],\n [{\n            'v': 727,\n            'f': \"727\",\n        },\n\"2018-03\",\n\"Fluvial/Mar\\u00edtima\",\n\"Europa\",\n{\n            'v': 13001.7,\n            'f': \"13001.7\",\n        }],\n [{\n            'v': 728,\n            'f': \"728\",\n        },\n\"2018-03\",\n\"Fluvial/Mar\\u00edtima\",\n\"Resto del mundo\",\n{\n            'v': 3331.4,\n            'f': \"3331.4\",\n        }],\n [{\n            'v': 729,\n            'f': \"729\",\n        },\n\"2018-04\",\n\"A\\u00e9rea\",\n\"Bolivia\",\n{\n            'v': 2286.3,\n            'f': \"2286.3\",\n        }],\n [{\n            'v': 730,\n            'f': \"730\",\n        },\n\"2018-04\",\n\"A\\u00e9rea\",\n\"Brasil\",\n{\n            'v': -59087.2,\n            'f': \"-59087.2\",\n        }],\n [{\n            'v': 731,\n            'f': \"731\",\n        },\n\"2018-04\",\n\"A\\u00e9rea\",\n\"Chile\",\n{\n            'v': -18855.7,\n            'f': \"-18855.7\",\n        }],\n [{\n            'v': 732,\n            'f': \"732\",\n        },\n\"2018-04\",\n\"A\\u00e9rea\",\n\"Paraguay\",\n{\n            'v': 828.5,\n            'f': \"828.5\",\n        }],\n [{\n            'v': 733,\n            'f': \"733\",\n        },\n\"2018-04\",\n\"A\\u00e9rea\",\n\"Uruguay\",\n{\n            'v': -2452.2,\n            'f': \"-2452.2\",\n        }],\n [{\n            'v': 734,\n            'f': \"734\",\n        },\n\"2018-04\",\n\"A\\u00e9rea\",\n\"EE.UU. y Canad\\u00e1\",\n{\n            'v': -43598.4,\n            'f': \"-43598.4\",\n        }],\n [{\n            'v': 735,\n            'f': \"735\",\n        },\n\"2018-04\",\n\"A\\u00e9rea\",\n\"Resto de Am\\u00e9rica\",\n{\n            'v': -65069.3,\n            'f': \"-65069.3\",\n        }],\n [{\n            'v': 736,\n            'f': \"736\",\n        },\n\"2018-04\",\n\"A\\u00e9rea\",\n\"Europa\",\n{\n            'v': 1978.1,\n            'f': \"1978.1\",\n        }],\n [{\n            'v': 737,\n            'f': \"737\",\n        },\n\"2018-04\",\n\"A\\u00e9rea\",\n\"Resto del mundo\",\n{\n            'v': -13588.2,\n            'f': \"-13588.2\",\n        }],\n [{\n            'v': 738,\n            'f': \"738\",\n        },\n\"2018-04\",\n\"Terrestre\",\n\"Bolivia\",\n{\n            'v': -465.5,\n            'f': \"-465.5\",\n        }],\n [{\n            'v': 739,\n            'f': \"739\",\n        },\n\"2018-04\",\n\"Terrestre\",\n\"Brasil\",\n{\n            'v': -70728.3,\n            'f': \"-70728.3\",\n        }],\n [{\n            'v': 740,\n            'f': \"740\",\n        },\n\"2018-04\",\n\"Terrestre\",\n\"Chile\",\n{\n            'v': -99095.8,\n            'f': \"-99095.8\",\n        }],\n [{\n            'v': 741,\n            'f': \"741\",\n        },\n\"2018-04\",\n\"Terrestre\",\n\"Paraguay\",\n{\n            'v': -92429.9,\n            'f': \"-92429.9\",\n        }],\n [{\n            'v': 742,\n            'f': \"742\",\n        },\n\"2018-04\",\n\"Terrestre\",\n\"Uruguay\",\n{\n            'v': -82137.2,\n            'f': \"-82137.2\",\n        }],\n [{\n            'v': 743,\n            'f': \"743\",\n        },\n\"2018-04\",\n\"Terrestre\",\n\"EE.UU. y Canad\\u00e1\",\n{\n            'v': 3768.0,\n            'f': \"3768.0\",\n        }],\n [{\n            'v': 744,\n            'f': \"744\",\n        },\n\"2018-04\",\n\"Terrestre\",\n\"Resto de Am\\u00e9rica\",\n{\n            'v': 7630.3,\n            'f': \"7630.3\",\n        }],\n [{\n            'v': 745,\n            'f': \"745\",\n        },\n\"2018-04\",\n\"Terrestre\",\n\"Europa\",\n{\n            'v': 17118.0,\n            'f': \"17118.0\",\n        }],\n [{\n            'v': 746,\n            'f': \"746\",\n        },\n\"2018-04\",\n\"Terrestre\",\n\"Resto del mundo\",\n{\n            'v': 6023.3,\n            'f': \"6023.3\",\n        }],\n [{\n            'v': 747,\n            'f': \"747\",\n        },\n\"2018-04\",\n\"Fluvial/Mar\\u00edtima\",\n\"Bolivia\",\n{\n            'v': 2488.0,\n            'f': \"2488.0\",\n        }],\n [{\n            'v': 748,\n            'f': \"748\",\n        },\n\"2018-04\",\n\"Fluvial/Mar\\u00edtima\",\n\"Brasil\",\n{\n            'v': 266.7,\n            'f': \"266.7\",\n        }],\n [{\n            'v': 749,\n            'f': \"749\",\n        },\n\"2018-04\",\n\"Fluvial/Mar\\u00edtima\",\n\"Chile\",\n{\n            'v': -507.7,\n            'f': \"-507.7\",\n        }],\n [{\n            'v': 750,\n            'f': \"750\",\n        },\n\"2018-04\",\n\"Fluvial/Mar\\u00edtima\",\n\"Paraguay\",\n{\n            'v': -4746.7,\n            'f': \"-4746.7\",\n        }],\n [{\n            'v': 751,\n            'f': \"751\",\n        },\n\"2018-04\",\n\"Fluvial/Mar\\u00edtima\",\n\"Uruguay\",\n{\n            'v': -29351.4,\n            'f': \"-29351.4\",\n        }],\n [{\n            'v': 752,\n            'f': \"752\",\n        },\n\"2018-04\",\n\"Fluvial/Mar\\u00edtima\",\n\"EE.UU. y Canad\\u00e1\",\n{\n            'v': 2011.4,\n            'f': \"2011.4\",\n        }],\n [{\n            'v': 753,\n            'f': \"753\",\n        },\n\"2018-04\",\n\"Fluvial/Mar\\u00edtima\",\n\"Resto de Am\\u00e9rica\",\n{\n            'v': 1722.4,\n            'f': \"1722.4\",\n        }],\n [{\n            'v': 754,\n            'f': \"754\",\n        },\n\"2018-04\",\n\"Fluvial/Mar\\u00edtima\",\n\"Europa\",\n{\n            'v': 5487.7,\n            'f': \"5487.7\",\n        }],\n [{\n            'v': 755,\n            'f': \"755\",\n        },\n\"2018-04\",\n\"Fluvial/Mar\\u00edtima\",\n\"Resto del mundo\",\n{\n            'v': 1426.7,\n            'f': \"1426.7\",\n        }],\n [{\n            'v': 756,\n            'f': \"756\",\n        },\n\"2018-05\",\n\"A\\u00e9rea\",\n\"Bolivia\",\n{\n            'v': 1657.2,\n            'f': \"1657.2\",\n        }],\n [{\n            'v': 757,\n            'f': \"757\",\n        },\n\"2018-05\",\n\"A\\u00e9rea\",\n\"Brasil\",\n{\n            'v': -11281.3,\n            'f': \"-11281.3\",\n        }],\n [{\n            'v': 758,\n            'f': \"758\",\n        },\n\"2018-05\",\n\"A\\u00e9rea\",\n\"Chile\",\n{\n            'v': -9989.3,\n            'f': \"-9989.3\",\n        }],\n [{\n            'v': 759,\n            'f': \"759\",\n        },\n\"2018-05\",\n\"A\\u00e9rea\",\n\"Paraguay\",\n{\n            'v': 897.3,\n            'f': \"897.3\",\n        }],\n [{\n            'v': 760,\n            'f': \"760\",\n        },\n\"2018-05\",\n\"A\\u00e9rea\",\n\"Uruguay\",\n{\n            'v': -1945.2,\n            'f': \"-1945.2\",\n        }],\n [{\n            'v': 761,\n            'f': \"761\",\n        },\n\"2018-05\",\n\"A\\u00e9rea\",\n\"EE.UU. y Canad\\u00e1\",\n{\n            'v': -65094.0,\n            'f': \"-65094.0\",\n        }],\n [{\n            'v': 762,\n            'f': \"762\",\n        },\n\"2018-05\",\n\"A\\u00e9rea\",\n\"Resto de Am\\u00e9rica\",\n{\n            'v': -64007.0,\n            'f': \"-64007.0\",\n        }],\n [{\n            'v': 763,\n            'f': \"763\",\n        },\n\"2018-05\",\n\"A\\u00e9rea\",\n\"Europa\",\n{\n            'v': -45320.1,\n            'f': \"-45320.1\",\n        }],\n [{\n            'v': 764,\n            'f': \"764\",\n        },\n\"2018-05\",\n\"A\\u00e9rea\",\n\"Resto del mundo\",\n{\n            'v': -5162.7,\n            'f': \"-5162.7\",\n        }],\n [{\n            'v': 765,\n            'f': \"765\",\n        },\n\"2018-05\",\n\"Terrestre\",\n\"Bolivia\",\n{\n            'v': 4329.6,\n            'f': \"4329.6\",\n        }],\n [{\n            'v': 766,\n            'f': \"766\",\n        },\n\"2018-05\",\n\"Terrestre\",\n\"Brasil\",\n{\n            'v': -25439.8,\n            'f': \"-25439.8\",\n        }],\n [{\n            'v': 767,\n            'f': \"767\",\n        },\n\"2018-05\",\n\"Terrestre\",\n\"Chile\",\n{\n            'v': -46448.3,\n            'f': \"-46448.3\",\n        }],\n [{\n            'v': 768,\n            'f': \"768\",\n        },\n\"2018-05\",\n\"Terrestre\",\n\"Paraguay\",\n{\n            'v': -58669.5,\n            'f': \"-58669.5\",\n        }],\n [{\n            'v': 769,\n            'f': \"769\",\n        },\n\"2018-05\",\n\"Terrestre\",\n\"Uruguay\",\n{\n            'v': -30167.1,\n            'f': \"-30167.1\",\n        }],\n [{\n            'v': 770,\n            'f': \"770\",\n        },\n\"2018-05\",\n\"Terrestre\",\n\"EE.UU. y Canad\\u00e1\",\n{\n            'v': 2087.5,\n            'f': \"2087.5\",\n        }],\n [{\n            'v': 771,\n            'f': \"771\",\n        },\n\"2018-05\",\n\"Terrestre\",\n\"Resto de Am\\u00e9rica\",\n{\n            'v': 8434.5,\n            'f': \"8434.5\",\n        }],\n [{\n            'v': 772,\n            'f': \"772\",\n        },\n\"2018-05\",\n\"Terrestre\",\n\"Europa\",\n{\n            'v': 11546.1,\n            'f': \"11546.1\",\n        }],\n [{\n            'v': 773,\n            'f': \"773\",\n        },\n\"2018-05\",\n\"Terrestre\",\n\"Resto del mundo\",\n{\n            'v': 3550.5,\n            'f': \"3550.5\",\n        }],\n [{\n            'v': 774,\n            'f': \"774\",\n        },\n\"2018-05\",\n\"Fluvial/Mar\\u00edtima\",\n\"Bolivia\",\n{\n            'v': 2665.0,\n            'f': \"2665.0\",\n        }],\n [{\n            'v': 775,\n            'f': \"775\",\n        },\n\"2018-05\",\n\"Fluvial/Mar\\u00edtima\",\n\"Brasil\",\n{\n            'v': 1906.8,\n            'f': \"1906.8\",\n        }],\n [{\n            'v': 776,\n            'f': \"776\",\n        },\n\"2018-05\",\n\"Fluvial/Mar\\u00edtima\",\n\"Chile\",\n{\n            'v': 703.5,\n            'f': \"703.5\",\n        }],\n [{\n            'v': 777,\n            'f': \"777\",\n        },\n\"2018-05\",\n\"Fluvial/Mar\\u00edtima\",\n\"Paraguay\",\n{\n            'v': -2925.9,\n            'f': \"-2925.9\",\n        }],\n [{\n            'v': 778,\n            'f': \"778\",\n        },\n\"2018-05\",\n\"Fluvial/Mar\\u00edtima\",\n\"Uruguay\",\n{\n            'v': -8488.7,\n            'f': \"-8488.7\",\n        }],\n [{\n            'v': 779,\n            'f': \"779\",\n        },\n\"2018-05\",\n\"Fluvial/Mar\\u00edtima\",\n\"EE.UU. y Canad\\u00e1\",\n{\n            'v': 1357.8,\n            'f': \"1357.8\",\n        }],\n [{\n            'v': 780,\n            'f': \"780\",\n        },\n\"2018-05\",\n\"Fluvial/Mar\\u00edtima\",\n\"Resto de Am\\u00e9rica\",\n{\n            'v': 858.8,\n            'f': \"858.8\",\n        }],\n [{\n            'v': 781,\n            'f': \"781\",\n        },\n\"2018-05\",\n\"Fluvial/Mar\\u00edtima\",\n\"Europa\",\n{\n            'v': 3084.0,\n            'f': \"3084.0\",\n        }],\n [{\n            'v': 782,\n            'f': \"782\",\n        },\n\"2018-05\",\n\"Fluvial/Mar\\u00edtima\",\n\"Resto del mundo\",\n{\n            'v': 1216.9,\n            'f': \"1216.9\",\n        }],\n [{\n            'v': 783,\n            'f': \"783\",\n        },\n\"2018-06\",\n\"A\\u00e9rea\",\n\"Bolivia\",\n{\n            'v': 1414.3,\n            'f': \"1414.3\",\n        }],\n [{\n            'v': 784,\n            'f': \"784\",\n        },\n\"2018-06\",\n\"A\\u00e9rea\",\n\"Brasil\",\n{\n            'v': 22436.6,\n            'f': \"22436.6\",\n        }],\n [{\n            'v': 785,\n            'f': \"785\",\n        },\n\"2018-06\",\n\"A\\u00e9rea\",\n\"Chile\",\n{\n            'v': -3401.1,\n            'f': \"-3401.1\",\n        }],\n [{\n            'v': 786,\n            'f': \"786\",\n        },\n\"2018-06\",\n\"A\\u00e9rea\",\n\"Paraguay\",\n{\n            'v': 912.5,\n            'f': \"912.5\",\n        }],\n [{\n            'v': 787,\n            'f': \"787\",\n        },\n\"2018-06\",\n\"A\\u00e9rea\",\n\"Uruguay\",\n{\n            'v': 328.3,\n            'f': \"328.3\",\n        }],\n [{\n            'v': 788,\n            'f': \"788\",\n        },\n\"2018-06\",\n\"A\\u00e9rea\",\n\"EE.UU. y Canad\\u00e1\",\n{\n            'v': -60829.3,\n            'f': \"-60829.3\",\n        }],\n [{\n            'v': 789,\n            'f': \"789\",\n        },\n\"2018-06\",\n\"A\\u00e9rea\",\n\"Resto de Am\\u00e9rica\",\n{\n            'v': -50198.6,\n            'f': \"-50198.6\",\n        }],\n [{\n            'v': 790,\n            'f': \"790\",\n        },\n\"2018-06\",\n\"A\\u00e9rea\",\n\"Europa\",\n{\n            'v': -65896.5,\n            'f': \"-65896.5\",\n        }],\n [{\n            'v': 791,\n            'f': \"791\",\n        },\n\"2018-06\",\n\"A\\u00e9rea\",\n\"Resto del mundo\",\n{\n            'v': -5186.2,\n            'f': \"-5186.2\",\n        }],\n [{\n            'v': 792,\n            'f': \"792\",\n        },\n\"2018-06\",\n\"Terrestre\",\n\"Bolivia\",\n{\n            'v': 5182.3,\n            'f': \"5182.3\",\n        }],\n [{\n            'v': 793,\n            'f': \"793\",\n        },\n\"2018-06\",\n\"Terrestre\",\n\"Brasil\",\n{\n            'v': -17556.4,\n            'f': \"-17556.4\",\n        }],\n [{\n            'v': 794,\n            'f': \"794\",\n        },\n\"2018-06\",\n\"Terrestre\",\n\"Chile\",\n{\n            'v': -9995.6,\n            'f': \"-9995.6\",\n        }],\n [{\n            'v': 795,\n            'f': \"795\",\n        },\n\"2018-06\",\n\"Terrestre\",\n\"Paraguay\",\n{\n            'v': -36912.0,\n            'f': \"-36912.0\",\n        }],\n [{\n            'v': 796,\n            'f': \"796\",\n        },\n\"2018-06\",\n\"Terrestre\",\n\"Uruguay\",\n{\n            'v': -10008.5,\n            'f': \"-10008.5\",\n        }],\n [{\n            'v': 797,\n            'f': \"797\",\n        },\n\"2018-06\",\n\"Terrestre\",\n\"EE.UU. y Canad\\u00e1\",\n{\n            'v': 1584.9,\n            'f': \"1584.9\",\n        }],\n [{\n            'v': 798,\n            'f': \"798\",\n        },\n\"2018-06\",\n\"Terrestre\",\n\"Resto de Am\\u00e9rica\",\n{\n            'v': 7008.8,\n            'f': \"7008.8\",\n        }],\n [{\n            'v': 799,\n            'f': \"799\",\n        },\n\"2018-06\",\n\"Terrestre\",\n\"Europa\",\n{\n            'v': 6712.2,\n            'f': \"6712.2\",\n        }],\n [{\n            'v': 800,\n            'f': \"800\",\n        },\n\"2018-06\",\n\"Terrestre\",\n\"Resto del mundo\",\n{\n            'v': 2411.5,\n            'f': \"2411.5\",\n        }],\n [{\n            'v': 801,\n            'f': \"801\",\n        },\n\"2018-06\",\n\"Fluvial/Mar\\u00edtima\",\n\"Bolivia\",\n{\n            'v': 1982.0,\n            'f': \"1982.0\",\n        }],\n [{\n            'v': 802,\n            'f': \"802\",\n        },\n\"2018-06\",\n\"Fluvial/Mar\\u00edtima\",\n\"Brasil\",\n{\n            'v': 4596.7,\n            'f': \"4596.7\",\n        }],\n [{\n            'v': 803,\n            'f': \"803\",\n        },\n\"2018-06\",\n\"Fluvial/Mar\\u00edtima\",\n\"Chile\",\n{\n            'v': 520.4,\n            'f': \"520.4\",\n        }],\n [{\n            'v': 804,\n            'f': \"804\",\n        },\n\"2018-06\",\n\"Fluvial/Mar\\u00edtima\",\n\"Paraguay\",\n{\n            'v': -2026.3,\n            'f': \"-2026.3\",\n        }],\n [{\n            'v': 805,\n            'f': \"805\",\n        },\n\"2018-06\",\n\"Fluvial/Mar\\u00edtima\",\n\"Uruguay\",\n{\n            'v': 179.7,\n            'f': \"179.7\",\n        }],\n [{\n            'v': 806,\n            'f': \"806\",\n        },\n\"2018-06\",\n\"Fluvial/Mar\\u00edtima\",\n\"EE.UU. y Canad\\u00e1\",\n{\n            'v': 1872.6,\n            'f': \"1872.6\",\n        }],\n [{\n            'v': 807,\n            'f': \"807\",\n        },\n\"2018-06\",\n\"Fluvial/Mar\\u00edtima\",\n\"Resto de Am\\u00e9rica\",\n{\n            'v': 2501.4,\n            'f': \"2501.4\",\n        }],\n [{\n            'v': 808,\n            'f': \"808\",\n        },\n\"2018-06\",\n\"Fluvial/Mar\\u00edtima\",\n\"Europa\",\n{\n            'v': 2505.5,\n            'f': \"2505.5\",\n        }],\n [{\n            'v': 809,\n            'f': \"809\",\n        },\n\"2018-06\",\n\"Fluvial/Mar\\u00edtima\",\n\"Resto del mundo\",\n{\n            'v': 1040.1,\n            'f': \"1040.1\",\n        }],\n [{\n            'v': 810,\n            'f': \"810\",\n        },\n\"2018-07\",\n\"A\\u00e9rea\",\n\"Bolivia\",\n{\n            'v': 1957.9,\n            'f': \"1957.9\",\n        }],\n [{\n            'v': 811,\n            'f': \"811\",\n        },\n\"2018-07\",\n\"A\\u00e9rea\",\n\"Brasil\",\n{\n            'v': 32982.5,\n            'f': \"32982.5\",\n        }],\n [{\n            'v': 812,\n            'f': \"812\",\n        },\n\"2018-07\",\n\"A\\u00e9rea\",\n\"Chile\",\n{\n            'v': -5767.8,\n            'f': \"-5767.8\",\n        }],\n [{\n            'v': 813,\n            'f': \"813\",\n        },\n\"2018-07\",\n\"A\\u00e9rea\",\n\"Paraguay\",\n{\n            'v': 2375.2,\n            'f': \"2375.2\",\n        }],\n [{\n            'v': 814,\n            'f': \"814\",\n        },\n\"2018-07\",\n\"A\\u00e9rea\",\n\"Uruguay\",\n{\n            'v': -191.2,\n            'f': \"-191.2\",\n        }],\n [{\n            'v': 815,\n            'f': \"815\",\n        },\n\"2018-07\",\n\"A\\u00e9rea\",\n\"EE.UU. y Canad\\u00e1\",\n{\n            'v': -52949.0,\n            'f': \"-52949.0\",\n        }],\n [{\n            'v': 816,\n            'f': \"816\",\n        },\n\"2018-07\",\n\"A\\u00e9rea\",\n\"Resto de Am\\u00e9rica\",\n{\n            'v': -50473.4,\n            'f': \"-50473.4\",\n        }],\n [{\n            'v': 817,\n            'f': \"817\",\n        },\n\"2018-07\",\n\"A\\u00e9rea\",\n\"Europa\",\n{\n            'v': -69208.8,\n            'f': \"-69208.8\",\n        }],\n [{\n            'v': 818,\n            'f': \"818\",\n        },\n\"2018-07\",\n\"A\\u00e9rea\",\n\"Resto del mundo\",\n{\n            'v': -2027.4,\n            'f': \"-2027.4\",\n        }],\n [{\n            'v': 819,\n            'f': \"819\",\n        },\n\"2018-07\",\n\"Terrestre\",\n\"Bolivia\",\n{\n            'v': 1945.6,\n            'f': \"1945.6\",\n        }],\n [{\n            'v': 820,\n            'f': \"820\",\n        },\n\"2018-07\",\n\"Terrestre\",\n\"Brasil\",\n{\n            'v': -76870.7,\n            'f': \"-76870.7\",\n        }],\n [{\n            'v': 821,\n            'f': \"821\",\n        },\n\"2018-07\",\n\"Terrestre\",\n\"Chile\",\n{\n            'v': -13434.6,\n            'f': \"-13434.6\",\n        }],\n [{\n            'v': 822,\n            'f': \"822\",\n        },\n\"2018-07\",\n\"Terrestre\",\n\"Paraguay\",\n{\n            'v': -53051.4,\n            'f': \"-53051.4\",\n        }],\n [{\n            'v': 823,\n            'f': \"823\",\n        },\n\"2018-07\",\n\"Terrestre\",\n\"Uruguay\",\n{\n            'v': -15962.3,\n            'f': \"-15962.3\",\n        }],\n [{\n            'v': 824,\n            'f': \"824\",\n        },\n\"2018-07\",\n\"Terrestre\",\n\"EE.UU. y Canad\\u00e1\",\n{\n            'v': 1702.2,\n            'f': \"1702.2\",\n        }],\n [{\n            'v': 825,\n            'f': \"825\",\n        },\n\"2018-07\",\n\"Terrestre\",\n\"Resto de Am\\u00e9rica\",\n{\n            'v': 9739.3,\n            'f': \"9739.3\",\n        }],\n [{\n            'v': 826,\n            'f': \"826\",\n        },\n\"2018-07\",\n\"Terrestre\",\n\"Europa\",\n{\n            'v': 9914.9,\n            'f': \"9914.9\",\n        }],\n [{\n            'v': 827,\n            'f': \"827\",\n        },\n\"2018-07\",\n\"Terrestre\",\n\"Resto del mundo\",\n{\n            'v': 2949.9,\n            'f': \"2949.9\",\n        }],\n [{\n            'v': 828,\n            'f': \"828\",\n        },\n\"2018-07\",\n\"Fluvial/Mar\\u00edtima\",\n\"Bolivia\",\n{\n            'v': 2857.0,\n            'f': \"2857.0\",\n        }],\n [{\n            'v': 829,\n            'f': \"829\",\n        },\n\"2018-07\",\n\"Fluvial/Mar\\u00edtima\",\n\"Brasil\",\n{\n            'v': 7740.6,\n            'f': \"7740.6\",\n        }],\n [{\n            'v': 830,\n            'f': \"830\",\n        },\n\"2018-07\",\n\"Fluvial/Mar\\u00edtima\",\n\"Chile\",\n{\n            'v': 1003.6,\n            'f': \"1003.6\",\n        }],\n [{\n            'v': 831,\n            'f': \"831\",\n        },\n\"2018-07\",\n\"Fluvial/Mar\\u00edtima\",\n\"Paraguay\",\n{\n            'v': -5611.7,\n            'f': \"-5611.7\",\n        }],\n [{\n            'v': 832,\n            'f': \"832\",\n        },\n\"2018-07\",\n\"Fluvial/Mar\\u00edtima\",\n\"Uruguay\",\n{\n            'v': -866.8,\n            'f': \"-866.8\",\n        }],\n [{\n            'v': 833,\n            'f': \"833\",\n        },\n\"2018-07\",\n\"Fluvial/Mar\\u00edtima\",\n\"EE.UU. y Canad\\u00e1\",\n{\n            'v': 1020.4,\n            'f': \"1020.4\",\n        }],\n [{\n            'v': 834,\n            'f': \"834\",\n        },\n\"2018-07\",\n\"Fluvial/Mar\\u00edtima\",\n\"Resto de Am\\u00e9rica\",\n{\n            'v': 65.3,\n            'f': \"65.3\",\n        }],\n [{\n            'v': 835,\n            'f': \"835\",\n        },\n\"2018-07\",\n\"Fluvial/Mar\\u00edtima\",\n\"Europa\",\n{\n            'v': 2434.1,\n            'f': \"2434.1\",\n        }],\n [{\n            'v': 836,\n            'f': \"836\",\n        },\n\"2018-07\",\n\"Fluvial/Mar\\u00edtima\",\n\"Resto del mundo\",\n{\n            'v': 887.7,\n            'f': \"887.7\",\n        }],\n [{\n            'v': 837,\n            'f': \"837\",\n        },\n\"2018-08\",\n\"A\\u00e9rea\",\n\"Bolivia\",\n{\n            'v': 1114.6,\n            'f': \"1114.6\",\n        }],\n [{\n            'v': 838,\n            'f': \"838\",\n        },\n\"2018-08\",\n\"A\\u00e9rea\",\n\"Brasil\",\n{\n            'v': 19368.1,\n            'f': \"19368.1\",\n        }],\n [{\n            'v': 839,\n            'f': \"839\",\n        },\n\"2018-08\",\n\"A\\u00e9rea\",\n\"Chile\",\n{\n            'v': -942.3,\n            'f': \"-942.3\",\n        }],\n [{\n            'v': 840,\n            'f': \"840\",\n        },\n\"2018-08\",\n\"A\\u00e9rea\",\n\"Paraguay\",\n{\n            'v': 1467.9,\n            'f': \"1467.9\",\n        }],\n [{\n            'v': 841,\n            'f': \"841\",\n        },\n\"2018-08\",\n\"A\\u00e9rea\",\n\"Uruguay\",\n{\n            'v': 446.9,\n            'f': \"446.9\",\n        }],\n [{\n            'v': 842,\n            'f': \"842\",\n        },\n\"2018-08\",\n\"A\\u00e9rea\",\n\"EE.UU. y Canad\\u00e1\",\n{\n            'v': -46603.7,\n            'f': \"-46603.7\",\n        }],\n [{\n            'v': 843,\n            'f': \"843\",\n        },\n\"2018-08\",\n\"A\\u00e9rea\",\n\"Resto de Am\\u00e9rica\",\n{\n            'v': -32700.9,\n            'f': \"-32700.9\",\n        }],\n [{\n            'v': 844,\n            'f': \"844\",\n        },\n\"2018-08\",\n\"A\\u00e9rea\",\n\"Europa\",\n{\n            'v': -49926.9,\n            'f': \"-49926.9\",\n        }],\n [{\n            'v': 845,\n            'f': \"845\",\n        },\n\"2018-08\",\n\"A\\u00e9rea\",\n\"Resto del mundo\",\n{\n            'v': -208.7,\n            'f': \"-208.7\",\n        }],\n [{\n            'v': 846,\n            'f': \"846\",\n        },\n\"2018-08\",\n\"Terrestre\",\n\"Bolivia\",\n{\n            'v': -3745.8,\n            'f': \"-3745.8\",\n        }],\n [{\n            'v': 847,\n            'f': \"847\",\n        },\n\"2018-08\",\n\"Terrestre\",\n\"Brasil\",\n{\n            'v': -32745.8,\n            'f': \"-32745.8\",\n        }],\n [{\n            'v': 848,\n            'f': \"848\",\n        },\n\"2018-08\",\n\"Terrestre\",\n\"Chile\",\n{\n            'v': -18125.2,\n            'f': \"-18125.2\",\n        }],\n [{\n            'v': 849,\n            'f': \"849\",\n        },\n\"2018-08\",\n\"Terrestre\",\n\"Paraguay\",\n{\n            'v': -26192.0,\n            'f': \"-26192.0\",\n        }],\n [{\n            'v': 850,\n            'f': \"850\",\n        },\n\"2018-08\",\n\"Terrestre\",\n\"Uruguay\",\n{\n            'v': -8652.6,\n            'f': \"-8652.6\",\n        }],\n [{\n            'v': 851,\n            'f': \"851\",\n        },\n\"2018-08\",\n\"Terrestre\",\n\"EE.UU. y Canad\\u00e1\",\n{\n            'v': 1508.6,\n            'f': \"1508.6\",\n        }],\n [{\n            'v': 852,\n            'f': \"852\",\n        },\n\"2018-08\",\n\"Terrestre\",\n\"Resto de Am\\u00e9rica\",\n{\n            'v': 9115.1,\n            'f': \"9115.1\",\n        }],\n [{\n            'v': 853,\n            'f': \"853\",\n        },\n\"2018-08\",\n\"Terrestre\",\n\"Europa\",\n{\n            'v': 12975.3,\n            'f': \"12975.3\",\n        }],\n [{\n            'v': 854,\n            'f': \"854\",\n        },\n\"2018-08\",\n\"Terrestre\",\n\"Resto del mundo\",\n{\n            'v': 2728.9,\n            'f': \"2728.9\",\n        }],\n [{\n            'v': 855,\n            'f': \"855\",\n        },\n\"2018-08\",\n\"Fluvial/Mar\\u00edtima\",\n\"Bolivia\",\n{\n            'v': 304.0,\n            'f': \"304.0\",\n        }],\n [{\n            'v': 856,\n            'f': \"856\",\n        },\n\"2018-08\",\n\"Fluvial/Mar\\u00edtima\",\n\"Brasil\",\n{\n            'v': 4760.1,\n            'f': \"4760.1\",\n        }],\n [{\n            'v': 857,\n            'f': \"857\",\n        },\n\"2018-08\",\n\"Fluvial/Mar\\u00edtima\",\n\"Chile\",\n{\n            'v': 686.6,\n            'f': \"686.6\",\n        }],\n [{\n            'v': 858,\n            'f': \"858\",\n        },\n\"2018-08\",\n\"Fluvial/Mar\\u00edtima\",\n\"Paraguay\",\n{\n            'v': -2448.0,\n            'f': \"-2448.0\",\n        }],\n [{\n            'v': 859,\n            'f': \"859\",\n        },\n\"2018-08\",\n\"Fluvial/Mar\\u00edtima\",\n\"Uruguay\",\n{\n            'v': -739.9,\n            'f': \"-739.9\",\n        }],\n [{\n            'v': 860,\n            'f': \"860\",\n        },\n\"2018-08\",\n\"Fluvial/Mar\\u00edtima\",\n\"EE.UU. y Canad\\u00e1\",\n{\n            'v': 1350.3,\n            'f': \"1350.3\",\n        }],\n [{\n            'v': 861,\n            'f': \"861\",\n        },\n\"2018-08\",\n\"Fluvial/Mar\\u00edtima\",\n\"Resto de Am\\u00e9rica\",\n{\n            'v': 2661.3,\n            'f': \"2661.3\",\n        }],\n [{\n            'v': 862,\n            'f': \"862\",\n        },\n\"2018-08\",\n\"Fluvial/Mar\\u00edtima\",\n\"Europa\",\n{\n            'v': 3561.3,\n            'f': \"3561.3\",\n        }],\n [{\n            'v': 863,\n            'f': \"863\",\n        },\n\"2018-08\",\n\"Fluvial/Mar\\u00edtima\",\n\"Resto del mundo\",\n{\n            'v': 897.3,\n            'f': \"897.3\",\n        }],\n [{\n            'v': 864,\n            'f': \"864\",\n        },\n\"2018-09\",\n\"A\\u00e9rea\",\n\"Bolivia\",\n{\n            'v': 2057.2,\n            'f': \"2057.2\",\n        }],\n [{\n            'v': 865,\n            'f': \"865\",\n        },\n\"2018-09\",\n\"A\\u00e9rea\",\n\"Brasil\",\n{\n            'v': 2049.7,\n            'f': \"2049.7\",\n        }],\n [{\n            'v': 866,\n            'f': \"866\",\n        },\n\"2018-09\",\n\"A\\u00e9rea\",\n\"Chile\",\n{\n            'v': 12860.9,\n            'f': \"12860.9\",\n        }],\n [{\n            'v': 867,\n            'f': \"867\",\n        },\n\"2018-09\",\n\"A\\u00e9rea\",\n\"Paraguay\",\n{\n            'v': 808.6,\n            'f': \"808.6\",\n        }],\n [{\n            'v': 868,\n            'f': \"868\",\n        },\n\"2018-09\",\n\"A\\u00e9rea\",\n\"Uruguay\",\n{\n            'v': 582.0,\n            'f': \"582.0\",\n        }],\n [{\n            'v': 869,\n            'f': \"869\",\n        },\n\"2018-09\",\n\"A\\u00e9rea\",\n\"EE.UU. y Canad\\u00e1\",\n{\n            'v': -46522.8,\n            'f': \"-46522.8\",\n        }],\n [{\n            'v': 870,\n            'f': \"870\",\n        },\n\"2018-09\",\n\"A\\u00e9rea\",\n\"Resto de Am\\u00e9rica\",\n{\n            'v': -26530.6,\n            'f': \"-26530.6\",\n        }],\n [{\n            'v': 871,\n            'f': \"871\",\n        },\n\"2018-09\",\n\"A\\u00e9rea\",\n\"Europa\",\n{\n            'v': -48254.7,\n            'f': \"-48254.7\",\n        }],\n [{\n            'v': 872,\n            'f': \"872\",\n        },\n\"2018-09\",\n\"A\\u00e9rea\",\n\"Resto del mundo\",\n{\n            'v': -124.4,\n            'f': \"-124.4\",\n        }],\n [{\n            'v': 873,\n            'f': \"873\",\n        },\n\"2018-09\",\n\"Terrestre\",\n\"Bolivia\",\n{\n            'v': 1917.2,\n            'f': \"1917.2\",\n        }],\n [{\n            'v': 874,\n            'f': \"874\",\n        },\n\"2018-09\",\n\"Terrestre\",\n\"Brasil\",\n{\n            'v': -21245.4,\n            'f': \"-21245.4\",\n        }],\n [{\n            'v': 875,\n            'f': \"875\",\n        },\n\"2018-09\",\n\"Terrestre\",\n\"Chile\",\n{\n            'v': 24947.1,\n            'f': \"24947.1\",\n        }],\n [{\n            'v': 876,\n            'f': \"876\",\n        },\n\"2018-09\",\n\"Terrestre\",\n\"Paraguay\",\n{\n            'v': -11266.6,\n            'f': \"-11266.6\",\n        }],\n [{\n            'v': 877,\n            'f': \"877\",\n        },\n\"2018-09\",\n\"Terrestre\",\n\"Uruguay\",\n{\n            'v': 14901.7,\n            'f': \"14901.7\",\n        }],\n [{\n            'v': 878,\n            'f': \"878\",\n        },\n\"2018-09\",\n\"Terrestre\",\n\"EE.UU. y Canad\\u00e1\",\n{\n            'v': 2083.3,\n            'f': \"2083.3\",\n        }],\n [{\n            'v': 879,\n            'f': \"879\",\n        },\n\"2018-09\",\n\"Terrestre\",\n\"Resto de Am\\u00e9rica\",\n{\n            'v': 9523.2,\n            'f': \"9523.2\",\n        }],\n [{\n            'v': 880,\n            'f': \"880\",\n        },\n\"2018-09\",\n\"Terrestre\",\n\"Europa\",\n{\n            'v': 11642.7,\n            'f': \"11642.7\",\n        }],\n [{\n            'v': 881,\n            'f': \"881\",\n        },\n\"2018-09\",\n\"Terrestre\",\n\"Resto del mundo\",\n{\n            'v': 4186.8,\n            'f': \"4186.8\",\n        }],\n [{\n            'v': 882,\n            'f': \"882\",\n        },\n\"2018-09\",\n\"Fluvial/Mar\\u00edtima\",\n\"Bolivia\",\n{\n            'v': 1292.0,\n            'f': \"1292.0\",\n        }],\n [{\n            'v': 883,\n            'f': \"883\",\n        },\n\"2018-09\",\n\"Fluvial/Mar\\u00edtima\",\n\"Brasil\",\n{\n            'v': 5863.8,\n            'f': \"5863.8\",\n        }],\n [{\n            'v': 884,\n            'f': \"884\",\n        },\n\"2018-09\",\n\"Fluvial/Mar\\u00edtima\",\n\"Chile\",\n{\n            'v': 1262.2,\n            'f': \"1262.2\",\n        }],\n [{\n            'v': 885,\n            'f': \"885\",\n        },\n\"2018-09\",\n\"Fluvial/Mar\\u00edtima\",\n\"Paraguay\",\n{\n            'v': -1703.3,\n            'f': \"-1703.3\",\n        }],\n [{\n            'v': 886,\n            'f': \"886\",\n        },\n\"2018-09\",\n\"Fluvial/Mar\\u00edtima\",\n\"Uruguay\",\n{\n            'v': 9468.3,\n            'f': \"9468.3\",\n        }],\n [{\n            'v': 887,\n            'f': \"887\",\n        },\n\"2018-09\",\n\"Fluvial/Mar\\u00edtima\",\n\"EE.UU. y Canad\\u00e1\",\n{\n            'v': 1581.9,\n            'f': \"1581.9\",\n        }],\n [{\n            'v': 888,\n            'f': \"888\",\n        },\n\"2018-09\",\n\"Fluvial/Mar\\u00edtima\",\n\"Resto de Am\\u00e9rica\",\n{\n            'v': 4312.1,\n            'f': \"4312.1\",\n        }],\n [{\n            'v': 889,\n            'f': \"889\",\n        },\n\"2018-09\",\n\"Fluvial/Mar\\u00edtima\",\n\"Europa\",\n{\n            'v': 4113.5,\n            'f': \"4113.5\",\n        }],\n [{\n            'v': 890,\n            'f': \"890\",\n        },\n\"2018-09\",\n\"Fluvial/Mar\\u00edtima\",\n\"Resto del mundo\",\n{\n            'v': 1284.5,\n            'f': \"1284.5\",\n        }],\n [{\n            'v': 891,\n            'f': \"891\",\n        },\n\"2018-10\",\n\"A\\u00e9rea\",\n\"Bolivia\",\n{\n            'v': 2652.8,\n            'f': \"2652.8\",\n        }],\n [{\n            'v': 892,\n            'f': \"892\",\n        },\n\"2018-10\",\n\"A\\u00e9rea\",\n\"Brasil\",\n{\n            'v': -7066.2,\n            'f': \"-7066.2\",\n        }],\n [{\n            'v': 893,\n            'f': \"893\",\n        },\n\"2018-10\",\n\"A\\u00e9rea\",\n\"Chile\",\n{\n            'v': 8215.9,\n            'f': \"8215.9\",\n        }],\n [{\n            'v': 894,\n            'f': \"894\",\n        },\n\"2018-10\",\n\"A\\u00e9rea\",\n\"Paraguay\",\n{\n            'v': 1594.1,\n            'f': \"1594.1\",\n        }],\n [{\n            'v': 895,\n            'f': \"895\",\n        },\n\"2018-10\",\n\"A\\u00e9rea\",\n\"Uruguay\",\n{\n            'v': -606.5,\n            'f': \"-606.5\",\n        }],\n [{\n            'v': 896,\n            'f': \"896\",\n        },\n\"2018-10\",\n\"A\\u00e9rea\",\n\"EE.UU. y Canad\\u00e1\",\n{\n            'v': -41183.2,\n            'f': \"-41183.2\",\n        }],\n [{\n            'v': 897,\n            'f': \"897\",\n        },\n\"2018-10\",\n\"A\\u00e9rea\",\n\"Resto de Am\\u00e9rica\",\n{\n            'v': -19009.2,\n            'f': \"-19009.2\",\n        }],\n [{\n            'v': 898,\n            'f': \"898\",\n        },\n\"2018-10\",\n\"A\\u00e9rea\",\n\"Europa\",\n{\n            'v': -43510.3,\n            'f': \"-43510.3\",\n        }],\n [{\n            'v': 899,\n            'f': \"899\",\n        },\n\"2018-10\",\n\"A\\u00e9rea\",\n\"Resto del mundo\",\n{\n            'v': 4389.6,\n            'f': \"4389.6\",\n        }],\n [{\n            'v': 900,\n            'f': \"900\",\n        },\n\"2018-10\",\n\"Terrestre\",\n\"Bolivia\",\n{\n            'v': 8762.9,\n            'f': \"8762.9\",\n        }],\n [{\n            'v': 901,\n            'f': \"901\",\n        },\n\"2018-10\",\n\"Terrestre\",\n\"Brasil\",\n{\n            'v': -27700.0,\n            'f': \"-27700.0\",\n        }],\n [{\n            'v': 902,\n            'f': \"902\",\n        },\n\"2018-10\",\n\"Terrestre\",\n\"Chile\",\n{\n            'v': -5069.3,\n            'f': \"-5069.3\",\n        }],\n [{\n            'v': 903,\n            'f': \"903\",\n        },\n\"2018-10\",\n\"Terrestre\",\n\"Paraguay\",\n{\n            'v': -9101.2,\n            'f': \"-9101.2\",\n        }],\n [{\n            'v': 904,\n            'f': \"904\",\n        },\n\"2018-10\",\n\"Terrestre\",\n\"Uruguay\",\n{\n            'v': -4894.2,\n            'f': \"-4894.2\",\n        }],\n [{\n            'v': 905,\n            'f': \"905\",\n        },\n\"2018-10\",\n\"Terrestre\",\n\"EE.UU. y Canad\\u00e1\",\n{\n            'v': 3691.1,\n            'f': \"3691.1\",\n        }],\n [{\n            'v': 906,\n            'f': \"906\",\n        },\n\"2018-10\",\n\"Terrestre\",\n\"Resto de Am\\u00e9rica\",\n{\n            'v': 12146.3,\n            'f': \"12146.3\",\n        }],\n [{\n            'v': 907,\n            'f': \"907\",\n        },\n\"2018-10\",\n\"Terrestre\",\n\"Europa\",\n{\n            'v': 20897.1,\n            'f': \"20897.1\",\n        }],\n [{\n            'v': 908,\n            'f': \"908\",\n        },\n\"2018-10\",\n\"Terrestre\",\n\"Resto del mundo\",\n{\n            'v': 5282.5,\n            'f': \"5282.5\",\n        }],\n [{\n            'v': 909,\n            'f': \"909\",\n        },\n\"2018-10\",\n\"Fluvial/Mar\\u00edtima\",\n\"Bolivia\",\n{\n            'v': 2164.0,\n            'f': \"2164.0\",\n        }],\n [{\n            'v': 910,\n            'f': \"910\",\n        },\n\"2018-10\",\n\"Fluvial/Mar\\u00edtima\",\n\"Brasil\",\n{\n            'v': 4834.1,\n            'f': \"4834.1\",\n        }],\n [{\n            'v': 911,\n            'f': \"911\",\n        },\n\"2018-10\",\n\"Fluvial/Mar\\u00edtima\",\n\"Chile\",\n{\n            'v': 866.5,\n            'f': \"866.5\",\n        }],\n [{\n            'v': 912,\n            'f': \"912\",\n        },\n\"2018-10\",\n\"Fluvial/Mar\\u00edtima\",\n\"Paraguay\",\n{\n            'v': -1933.6,\n            'f': \"-1933.6\",\n        }],\n [{\n            'v': 913,\n            'f': \"913\",\n        },\n\"2018-10\",\n\"Fluvial/Mar\\u00edtima\",\n\"Uruguay\",\n{\n            'v': 648.4,\n            'f': \"648.4\",\n        }],\n [{\n            'v': 914,\n            'f': \"914\",\n        },\n\"2018-10\",\n\"Fluvial/Mar\\u00edtima\",\n\"EE.UU. y Canad\\u00e1\",\n{\n            'v': 3237.5,\n            'f': \"3237.5\",\n        }],\n [{\n            'v': 915,\n            'f': \"915\",\n        },\n\"2018-10\",\n\"Fluvial/Mar\\u00edtima\",\n\"Resto de Am\\u00e9rica\",\n{\n            'v': 5485.1,\n            'f': \"5485.1\",\n        }],\n [{\n            'v': 916,\n            'f': \"916\",\n        },\n\"2018-10\",\n\"Fluvial/Mar\\u00edtima\",\n\"Europa\",\n{\n            'v': 6387.6,\n            'f': \"6387.6\",\n        }],\n [{\n            'v': 917,\n            'f': \"917\",\n        },\n\"2018-10\",\n\"Fluvial/Mar\\u00edtima\",\n\"Resto del mundo\",\n{\n            'v': 1961.7,\n            'f': \"1961.7\",\n        }],\n [{\n            'v': 918,\n            'f': \"918\",\n        },\n\"2018-11\",\n\"A\\u00e9rea\",\n\"Bolivia\",\n{\n            'v': 3726.4,\n            'f': \"3726.4\",\n        }],\n [{\n            'v': 919,\n            'f': \"919\",\n        },\n\"2018-11\",\n\"A\\u00e9rea\",\n\"Brasil\",\n{\n            'v': 4925.6,\n            'f': \"4925.6\",\n        }],\n [{\n            'v': 920,\n            'f': \"920\",\n        },\n\"2018-11\",\n\"A\\u00e9rea\",\n\"Chile\",\n{\n            'v': 16612.4,\n            'f': \"16612.4\",\n        }],\n [{\n            'v': 921,\n            'f': \"921\",\n        },\n\"2018-11\",\n\"A\\u00e9rea\",\n\"Paraguay\",\n{\n            'v': 1574.5,\n            'f': \"1574.5\",\n        }],\n [{\n            'v': 922,\n            'f': \"922\",\n        },\n\"2018-11\",\n\"A\\u00e9rea\",\n\"Uruguay\",\n{\n            'v': -1597.2,\n            'f': \"-1597.2\",\n        }],\n [{\n            'v': 923,\n            'f': \"923\",\n        },\n\"2018-11\",\n\"A\\u00e9rea\",\n\"EE.UU. y Canad\\u00e1\",\n{\n            'v': -20260.4,\n            'f': \"-20260.4\",\n        }],\n [{\n            'v': 924,\n            'f': \"924\",\n        },\n\"2018-11\",\n\"A\\u00e9rea\",\n\"Resto de Am\\u00e9rica\",\n{\n            'v': -18298.5,\n            'f': \"-18298.5\",\n        }],\n [{\n            'v': 925,\n            'f': \"925\",\n        },\n\"2018-11\",\n\"A\\u00e9rea\",\n\"Europa\",\n{\n            'v': 12881.6,\n            'f': \"12881.6\",\n        }],\n [{\n            'v': 926,\n            'f': \"926\",\n        },\n\"2018-11\",\n\"A\\u00e9rea\",\n\"Resto del mundo\",\n{\n            'v': -1605.6,\n            'f': \"-1605.6\",\n        }],\n [{\n            'v': 927,\n            'f': \"927\",\n        },\n\"2018-11\",\n\"Terrestre\",\n\"Bolivia\",\n{\n            'v': 3398.5,\n            'f': \"3398.5\",\n        }],\n [{\n            'v': 928,\n            'f': \"928\",\n        },\n\"2018-11\",\n\"Terrestre\",\n\"Brasil\",\n{\n            'v': -14861.0,\n            'f': \"-14861.0\",\n        }],\n [{\n            'v': 929,\n            'f': \"929\",\n        },\n\"2018-11\",\n\"Terrestre\",\n\"Chile\",\n{\n            'v': 5676.2,\n            'f': \"5676.2\",\n        }],\n [{\n            'v': 930,\n            'f': \"930\",\n        },\n\"2018-11\",\n\"Terrestre\",\n\"Paraguay\",\n{\n            'v': -15753.0,\n            'f': \"-15753.0\",\n        }],\n [{\n            'v': 931,\n            'f': \"931\",\n        },\n\"2018-11\",\n\"Terrestre\",\n\"Uruguay\",\n{\n            'v': -9259.3,\n            'f': \"-9259.3\",\n        }],\n [{\n            'v': 932,\n            'f': \"932\",\n        },\n\"2018-11\",\n\"Terrestre\",\n\"EE.UU. y Canad\\u00e1\",\n{\n            'v': 6651.8,\n            'f': \"6651.8\",\n        }],\n [{\n            'v': 933,\n            'f': \"933\",\n        },\n\"2018-11\",\n\"Terrestre\",\n\"Resto de Am\\u00e9rica\",\n{\n            'v': 13629.6,\n            'f': \"13629.6\",\n        }],\n [{\n            'v': 934,\n            'f': \"934\",\n        },\n\"2018-11\",\n\"Terrestre\",\n\"Europa\",\n{\n            'v': 40694.2,\n            'f': \"40694.2\",\n        }],\n [{\n            'v': 935,\n            'f': \"935\",\n        },\n\"2018-11\",\n\"Terrestre\",\n\"Resto del mundo\",\n{\n            'v': 6954.4,\n            'f': \"6954.4\",\n        }],\n [{\n            'v': 936,\n            'f': \"936\",\n        },\n\"2018-11\",\n\"Fluvial/Mar\\u00edtima\",\n\"Bolivia\",\n{\n            'v': 659.3,\n            'f': \"659.3\",\n        }],\n [{\n            'v': 937,\n            'f': \"937\",\n        },\n\"2018-11\",\n\"Fluvial/Mar\\u00edtima\",\n\"Brasil\",\n{\n            'v': 3713.9,\n            'f': \"3713.9\",\n        }],\n [{\n            'v': 938,\n            'f': \"938\",\n        },\n\"2018-11\",\n\"Fluvial/Mar\\u00edtima\",\n\"Chile\",\n{\n            'v': 765.4,\n            'f': \"765.4\",\n        }],\n [{\n            'v': 939,\n            'f': \"939\",\n        },\n\"2018-11\",\n\"Fluvial/Mar\\u00edtima\",\n\"Paraguay\",\n{\n            'v': -1462.6,\n            'f': \"-1462.6\",\n        }],\n [{\n            'v': 940,\n            'f': \"940\",\n        },\n\"2018-11\",\n\"Fluvial/Mar\\u00edtima\",\n\"Uruguay\",\n{\n            'v': -3669.1,\n            'f': \"-3669.1\",\n        }],\n [{\n            'v': 941,\n            'f': \"941\",\n        },\n\"2018-11\",\n\"Fluvial/Mar\\u00edtima\",\n\"EE.UU. y Canad\\u00e1\",\n{\n            'v': 4671.5,\n            'f': \"4671.5\",\n        }],\n [{\n            'v': 942,\n            'f': \"942\",\n        },\n\"2018-11\",\n\"Fluvial/Mar\\u00edtima\",\n\"Resto de Am\\u00e9rica\",\n{\n            'v': 5947.9,\n            'f': \"5947.9\",\n        }],\n [{\n            'v': 943,\n            'f': \"943\",\n        },\n\"2018-11\",\n\"Fluvial/Mar\\u00edtima\",\n\"Europa\",\n{\n            'v': 11939.5,\n            'f': \"11939.5\",\n        }],\n [{\n            'v': 944,\n            'f': \"944\",\n        },\n\"2018-11\",\n\"Fluvial/Mar\\u00edtima\",\n\"Resto del mundo\",\n{\n            'v': 2345.2,\n            'f': \"2345.2\",\n        }],\n [{\n            'v': 945,\n            'f': \"945\",\n        },\n\"2018-12\",\n\"A\\u00e9rea\",\n\"Bolivia\",\n{\n            'v': 4519.9,\n            'f': \"4519.9\",\n        }],\n [{\n            'v': 946,\n            'f': \"946\",\n        },\n\"2018-12\",\n\"A\\u00e9rea\",\n\"Brasil\",\n{\n            'v': -1576.0,\n            'f': \"-1576.0\",\n        }],\n [{\n            'v': 947,\n            'f': \"947\",\n        },\n\"2018-12\",\n\"A\\u00e9rea\",\n\"Chile\",\n{\n            'v': 6368.8,\n            'f': \"6368.8\",\n        }],\n [{\n            'v': 948,\n            'f': \"948\",\n        },\n\"2018-12\",\n\"A\\u00e9rea\",\n\"Paraguay\",\n{\n            'v': 2590.1,\n            'f': \"2590.1\",\n        }],\n [{\n            'v': 949,\n            'f': \"949\",\n        },\n\"2018-12\",\n\"A\\u00e9rea\",\n\"Uruguay\",\n{\n            'v': -3623.2,\n            'f': \"-3623.2\",\n        }],\n [{\n            'v': 950,\n            'f': \"950\",\n        },\n\"2018-12\",\n\"A\\u00e9rea\",\n\"EE.UU. y Canad\\u00e1\",\n{\n            'v': -15167.7,\n            'f': \"-15167.7\",\n        }],\n [{\n            'v': 951,\n            'f': \"951\",\n        },\n\"2018-12\",\n\"A\\u00e9rea\",\n\"Resto de Am\\u00e9rica\",\n{\n            'v': -6982.6,\n            'f': \"-6982.6\",\n        }],\n [{\n            'v': 952,\n            'f': \"952\",\n        },\n\"2018-12\",\n\"A\\u00e9rea\",\n\"Europa\",\n{\n            'v': 20655.6,\n            'f': \"20655.6\",\n        }],\n [{\n            'v': 953,\n            'f': \"953\",\n        },\n\"2018-12\",\n\"A\\u00e9rea\",\n\"Resto del mundo\",\n{\n            'v': 8488.8,\n            'f': \"8488.8\",\n        }],\n [{\n            'v': 954,\n            'f': \"954\",\n        },\n\"2018-12\",\n\"Terrestre\",\n\"Bolivia\",\n{\n            'v': 17572.1,\n            'f': \"17572.1\",\n        }],\n [{\n            'v': 955,\n            'f': \"955\",\n        },\n\"2018-12\",\n\"Terrestre\",\n\"Brasil\",\n{\n            'v': -21805.9,\n            'f': \"-21805.9\",\n        }],\n [{\n            'v': 956,\n            'f': \"956\",\n        },\n\"2018-12\",\n\"Terrestre\",\n\"Chile\",\n{\n            'v': -4919.2,\n            'f': \"-4919.2\",\n        }],\n [{\n            'v': 957,\n            'f': \"957\",\n        },\n\"2018-12\",\n\"Terrestre\",\n\"Paraguay\",\n{\n            'v': 40786.0,\n            'f': \"40786.0\",\n        }],\n [{\n            'v': 958,\n            'f': \"958\",\n        },\n\"2018-12\",\n\"Terrestre\",\n\"Uruguay\",\n{\n            'v': -23166.6,\n            'f': \"-23166.6\",\n        }],\n [{\n            'v': 959,\n            'f': \"959\",\n        },\n\"2018-12\",\n\"Terrestre\",\n\"EE.UU. y Canad\\u00e1\",\n{\n            'v': 8156.8,\n            'f': \"8156.8\",\n        }],\n [{\n            'v': 960,\n            'f': \"960\",\n        },\n\"2018-12\",\n\"Terrestre\",\n\"Resto de Am\\u00e9rica\",\n{\n            'v': 15284.9,\n            'f': \"15284.9\",\n        }],\n [{\n            'v': 961,\n            'f': \"961\",\n        },\n\"2018-12\",\n\"Terrestre\",\n\"Europa\",\n{\n            'v': 32346.9,\n            'f': \"32346.9\",\n        }],\n [{\n            'v': 962,\n            'f': \"962\",\n        },\n\"2018-12\",\n\"Terrestre\",\n\"Resto del mundo\",\n{\n            'v': 10167.9,\n            'f': \"10167.9\",\n        }],\n [{\n            'v': 963,\n            'f': \"963\",\n        },\n\"2018-12\",\n\"Fluvial/Mar\\u00edtima\",\n\"Bolivia\",\n{\n            'v': 1984.0,\n            'f': \"1984.0\",\n        }],\n [{\n            'v': 964,\n            'f': \"964\",\n        },\n\"2018-12\",\n\"Fluvial/Mar\\u00edtima\",\n\"Brasil\",\n{\n            'v': 19963.5,\n            'f': \"19963.5\",\n        }],\n [{\n            'v': 965,\n            'f': \"965\",\n        },\n\"2018-12\",\n\"Fluvial/Mar\\u00edtima\",\n\"Chile\",\n{\n            'v': 469.3,\n            'f': \"469.3\",\n        }],\n [{\n            'v': 966,\n            'f': \"966\",\n        },\n\"2018-12\",\n\"Fluvial/Mar\\u00edtima\",\n\"Paraguay\",\n{\n            'v': 1134.7,\n            'f': \"1134.7\",\n        }],\n [{\n            'v': 967,\n            'f': \"967\",\n        },\n\"2018-12\",\n\"Fluvial/Mar\\u00edtima\",\n\"Uruguay\",\n{\n            'v': -32454.4,\n            'f': \"-32454.4\",\n        }],\n [{\n            'v': 968,\n            'f': \"968\",\n        },\n\"2018-12\",\n\"Fluvial/Mar\\u00edtima\",\n\"EE.UU. y Canad\\u00e1\",\n{\n            'v': 14549.3,\n            'f': \"14549.3\",\n        }],\n [{\n            'v': 969,\n            'f': \"969\",\n        },\n\"2018-12\",\n\"Fluvial/Mar\\u00edtima\",\n\"Resto de Am\\u00e9rica\",\n{\n            'v': 10815.7,\n            'f': \"10815.7\",\n        }],\n [{\n            'v': 970,\n            'f': \"970\",\n        },\n\"2018-12\",\n\"Fluvial/Mar\\u00edtima\",\n\"Europa\",\n{\n            'v': 15803.0,\n            'f': \"15803.0\",\n        }],\n [{\n            'v': 971,\n            'f': \"971\",\n        },\n\"2018-12\",\n\"Fluvial/Mar\\u00edtima\",\n\"Resto del mundo\",\n{\n            'v': 5299.7,\n            'f': \"5299.7\",\n        }],\n [{\n            'v': 972,\n            'f': \"972\",\n        },\n\"2019-01\",\n\"A\\u00e9rea\",\n\"Bolivia\",\n{\n            'v': 4921.1,\n            'f': \"4921.1\",\n        }],\n [{\n            'v': 973,\n            'f': \"973\",\n        },\n\"2019-01\",\n\"A\\u00e9rea\",\n\"Brasil\",\n{\n            'v': -38950.4,\n            'f': \"-38950.4\",\n        }],\n [{\n            'v': 974,\n            'f': \"974\",\n        },\n\"2019-01\",\n\"A\\u00e9rea\",\n\"Chile\",\n{\n            'v': -4483.1,\n            'f': \"-4483.1\",\n        }],\n [{\n            'v': 975,\n            'f': \"975\",\n        },\n\"2019-01\",\n\"A\\u00e9rea\",\n\"Paraguay\",\n{\n            'v': 3903.1,\n            'f': \"3903.1\",\n        }],\n [{\n            'v': 976,\n            'f': \"976\",\n        },\n\"2019-01\",\n\"A\\u00e9rea\",\n\"Uruguay\",\n{\n            'v': -14965.5,\n            'f': \"-14965.5\",\n        }],\n [{\n            'v': 977,\n            'f': \"977\",\n        },\n\"2019-01\",\n\"A\\u00e9rea\",\n\"EE.UU. y Canad\\u00e1\",\n{\n            'v': -8499.6,\n            'f': \"-8499.6\",\n        }],\n [{\n            'v': 978,\n            'f': \"978\",\n        },\n\"2019-01\",\n\"A\\u00e9rea\",\n\"Resto de Am\\u00e9rica\",\n{\n            'v': -25096.1,\n            'f': \"-25096.1\",\n        }],\n [{\n            'v': 979,\n            'f': \"979\",\n        },\n\"2019-01\",\n\"A\\u00e9rea\",\n\"Europa\",\n{\n            'v': 42615.5,\n            'f': \"42615.5\",\n        }],\n [{\n            'v': 980,\n            'f': \"980\",\n        },\n\"2019-01\",\n\"A\\u00e9rea\",\n\"Resto del mundo\",\n{\n            'v': 3043.9,\n            'f': \"3043.9\",\n        }],\n [{\n            'v': 981,\n            'f': \"981\",\n        },\n\"2019-01\",\n\"Terrestre\",\n\"Bolivia\",\n{\n            'v': 11522.3,\n            'f': \"11522.3\",\n        }],\n [{\n            'v': 982,\n            'f': \"982\",\n        },\n\"2019-01\",\n\"Terrestre\",\n\"Brasil\",\n{\n            'v': -153857.1,\n            'f': \"-153857.1\",\n        }],\n [{\n            'v': 983,\n            'f': \"983\",\n        },\n\"2019-01\",\n\"Terrestre\",\n\"Chile\",\n{\n            'v': -121783.1,\n            'f': \"-121783.1\",\n        }],\n [{\n            'v': 984,\n            'f': \"984\",\n        },\n\"2019-01\",\n\"Terrestre\",\n\"Paraguay\",\n{\n            'v': -83664.2,\n            'f': \"-83664.2\",\n        }],\n [{\n            'v': 985,\n            'f': \"985\",\n        },\n\"2019-01\",\n\"Terrestre\",\n\"Uruguay\",\n{\n            'v': -129364.3,\n            'f': \"-129364.3\",\n        }],\n [{\n            'v': 986,\n            'f': \"986\",\n        },\n\"2019-01\",\n\"Terrestre\",\n\"EE.UU. y Canad\\u00e1\",\n{\n            'v': 9206.5,\n            'f': \"9206.5\",\n        }],\n [{\n            'v': 987,\n            'f': \"987\",\n        },\n\"2019-01\",\n\"Terrestre\",\n\"Resto de Am\\u00e9rica\",\n{\n            'v': 16699.5,\n            'f': \"16699.5\",\n        }],\n [{\n            'v': 988,\n            'f': \"988\",\n        },\n\"2019-01\",\n\"Terrestre\",\n\"Europa\",\n{\n            'v': 39163.3,\n            'f': \"39163.3\",\n        }],\n [{\n            'v': 989,\n            'f': \"989\",\n        },\n\"2019-01\",\n\"Terrestre\",\n\"Resto del mundo\",\n{\n            'v': 16045.1,\n            'f': \"16045.1\",\n        }],\n [{\n            'v': 990,\n            'f': \"990\",\n        },\n\"2019-01\",\n\"Fluvial/Mar\\u00edtima\",\n\"Bolivia\",\n{\n            'v': 1851.0,\n            'f': \"1851.0\",\n        }],\n [{\n            'v': 991,\n            'f': \"991\",\n        },\n\"2019-01\",\n\"Fluvial/Mar\\u00edtima\",\n\"Brasil\",\n{\n            'v': 31808.8,\n            'f': \"31808.8\",\n        }],\n [{\n            'v': 992,\n            'f': \"992\",\n        },\n\"2019-01\",\n\"Fluvial/Mar\\u00edtima\",\n\"Chile\",\n{\n            'v': 370.1,\n            'f': \"370.1\",\n        }],\n [{\n            'v': 993,\n            'f': \"993\",\n        },\n\"2019-01\",\n\"Fluvial/Mar\\u00edtima\",\n\"Paraguay\",\n{\n            'v': -7899.5,\n            'f': \"-7899.5\",\n        }],\n [{\n            'v': 994,\n            'f': \"994\",\n        },\n\"2019-01\",\n\"Fluvial/Mar\\u00edtima\",\n\"Uruguay\",\n{\n            'v': -82265.6,\n            'f': \"-82265.6\",\n        }],\n [{\n            'v': 995,\n            'f': \"995\",\n        },\n\"2019-01\",\n\"Fluvial/Mar\\u00edtima\",\n\"EE.UU. y Canad\\u00e1\",\n{\n            'v': 24202.8,\n            'f': \"24202.8\",\n        }],\n [{\n            'v': 996,\n            'f': \"996\",\n        },\n\"2019-01\",\n\"Fluvial/Mar\\u00edtima\",\n\"Resto de Am\\u00e9rica\",\n{\n            'v': 5196.4,\n            'f': \"5196.4\",\n        }],\n [{\n            'v': 997,\n            'f': \"997\",\n        },\n\"2019-01\",\n\"Fluvial/Mar\\u00edtima\",\n\"Europa\",\n{\n            'v': 22705.0,\n            'f': \"22705.0\",\n        }],\n [{\n            'v': 998,\n            'f': \"998\",\n        },\n\"2019-01\",\n\"Fluvial/Mar\\u00edtima\",\n\"Resto del mundo\",\n{\n            'v': 7234.8,\n            'f': \"7234.8\",\n        }],\n [{\n            'v': 999,\n            'f': \"999\",\n        },\n\"2019-02\",\n\"A\\u00e9rea\",\n\"Bolivia\",\n{\n            'v': 2110.5,\n            'f': \"2110.5\",\n        }],\n [{\n            'v': 1000,\n            'f': \"1000\",\n        },\n\"2019-02\",\n\"A\\u00e9rea\",\n\"Brasil\",\n{\n            'v': -88384.9,\n            'f': \"-88384.9\",\n        }],\n [{\n            'v': 1001,\n            'f': \"1001\",\n        },\n\"2019-02\",\n\"A\\u00e9rea\",\n\"Chile\",\n{\n            'v': 11826.1,\n            'f': \"11826.1\",\n        }],\n [{\n            'v': 1002,\n            'f': \"1002\",\n        },\n\"2019-02\",\n\"A\\u00e9rea\",\n\"Paraguay\",\n{\n            'v': 1624.4,\n            'f': \"1624.4\",\n        }],\n [{\n            'v': 1003,\n            'f': \"1003\",\n        },\n\"2019-02\",\n\"A\\u00e9rea\",\n\"Uruguay\",\n{\n            'v': -7282.2,\n            'f': \"-7282.2\",\n        }],\n [{\n            'v': 1004,\n            'f': \"1004\",\n        },\n\"2019-02\",\n\"A\\u00e9rea\",\n\"EE.UU. y Canad\\u00e1\",\n{\n            'v': -37584.9,\n            'f': \"-37584.9\",\n        }],\n [{\n            'v': 1005,\n            'f': \"1005\",\n        },\n\"2019-02\",\n\"A\\u00e9rea\",\n\"Resto de Am\\u00e9rica\",\n{\n            'v': -60722.5,\n            'f': \"-60722.5\",\n        }],\n [{\n            'v': 1006,\n            'f': \"1006\",\n        },\n\"2019-02\",\n\"A\\u00e9rea\",\n\"Europa\",\n{\n            'v': 4977.7,\n            'f': \"4977.7\",\n        }],\n [{\n            'v': 1007,\n            'f': \"1007\",\n        },\n\"2019-02\",\n\"A\\u00e9rea\",\n\"Resto del mundo\",\n{\n            'v': -2033.1,\n            'f': \"-2033.1\",\n        }],\n [{\n            'v': 1008,\n            'f': \"1008\",\n        },\n\"2019-02\",\n\"Terrestre\",\n\"Bolivia\",\n{\n            'v': 411.3,\n            'f': \"411.3\",\n        }],\n [{\n            'v': 1009,\n            'f': \"1009\",\n        },\n\"2019-02\",\n\"Terrestre\",\n\"Brasil\",\n{\n            'v': -208262.8,\n            'f': \"-208262.8\",\n        }],\n [{\n            'v': 1010,\n            'f': \"1010\",\n        },\n\"2019-02\",\n\"Terrestre\",\n\"Chile\",\n{\n            'v': -9860.8,\n            'f': \"-9860.8\",\n        }],\n [{\n            'v': 1011,\n            'f': \"1011\",\n        },\n\"2019-02\",\n\"Terrestre\",\n\"Paraguay\",\n{\n            'v': -53817.0,\n            'f': \"-53817.0\",\n        }],\n [{\n            'v': 1012,\n            'f': \"1012\",\n        },\n\"2019-02\",\n\"Terrestre\",\n\"Uruguay\",\n{\n            'v': -108473.2,\n            'f': \"-108473.2\",\n        }],\n [{\n            'v': 1013,\n            'f': \"1013\",\n        },\n\"2019-02\",\n\"Terrestre\",\n\"EE.UU. y Canad\\u00e1\",\n{\n            'v': 7867.4,\n            'f': \"7867.4\",\n        }],\n [{\n            'v': 1014,\n            'f': \"1014\",\n        },\n\"2019-02\",\n\"Terrestre\",\n\"Resto de Am\\u00e9rica\",\n{\n            'v': 9752.9,\n            'f': \"9752.9\",\n        }],\n [{\n            'v': 1015,\n            'f': \"1015\",\n        },\n\"2019-02\",\n\"Terrestre\",\n\"Europa\",\n{\n            'v': 36651.4,\n            'f': \"36651.4\",\n        }],\n [{\n            'v': 1016,\n            'f': \"1016\",\n        },\n\"2019-02\",\n\"Terrestre\",\n\"Resto del mundo\",\n{\n            'v': 15501.2,\n            'f': \"15501.2\",\n        }],\n [{\n            'v': 1017,\n            'f': \"1017\",\n        },\n\"2019-02\",\n\"Fluvial/Mar\\u00edtima\",\n\"Bolivia\",\n{\n            'v': 728.5,\n            'f': \"728.5\",\n        }],\n [{\n            'v': 1018,\n            'f': \"1018\",\n        },\n\"2019-02\",\n\"Fluvial/Mar\\u00edtima\",\n\"Brasil\",\n{\n            'v': 13992.1,\n            'f': \"13992.1\",\n        }],\n [{\n            'v': 1019,\n            'f': \"1019\",\n        },\n\"2019-02\",\n\"Fluvial/Mar\\u00edtima\",\n\"Chile\",\n{\n            'v': 2803.8,\n            'f': \"2803.8\",\n        }],\n [{\n            'v': 1020,\n            'f': \"1020\",\n        },\n\"2019-02\",\n\"Fluvial/Mar\\u00edtima\",\n\"Paraguay\",\n{\n            'v': -3845.7,\n            'f': \"-3845.7\",\n        }],\n [{\n            'v': 1021,\n            'f': \"1021\",\n        },\n\"2019-02\",\n\"Fluvial/Mar\\u00edtima\",\n\"Uruguay\",\n{\n            'v': -60504.3,\n            'f': \"-60504.3\",\n        }],\n [{\n            'v': 1022,\n            'f': \"1022\",\n        },\n\"2019-02\",\n\"Fluvial/Mar\\u00edtima\",\n\"EE.UU. y Canad\\u00e1\",\n{\n            'v': 26489.7,\n            'f': \"26489.7\",\n        }],\n [{\n            'v': 1023,\n            'f': \"1023\",\n        },\n\"2019-02\",\n\"Fluvial/Mar\\u00edtima\",\n\"Resto de Am\\u00e9rica\",\n{\n            'v': 3140.2,\n            'f': \"3140.2\",\n        }],\n [{\n            'v': 1024,\n            'f': \"1024\",\n        },\n\"2019-02\",\n\"Fluvial/Mar\\u00edtima\",\n\"Europa\",\n{\n            'v': 24134.7,\n            'f': \"24134.7\",\n        }],\n [{\n            'v': 1025,\n            'f': \"1025\",\n        },\n\"2019-02\",\n\"Fluvial/Mar\\u00edtima\",\n\"Resto del mundo\",\n{\n            'v': 9278.8,\n            'f': \"9278.8\",\n        }],\n [{\n            'v': 1026,\n            'f': \"1026\",\n        },\n\"2019-03\",\n\"A\\u00e9rea\",\n\"Bolivia\",\n{\n            'v': 1771.6,\n            'f': \"1771.6\",\n        }],\n [{\n            'v': 1027,\n            'f': \"1027\",\n        },\n\"2019-03\",\n\"A\\u00e9rea\",\n\"Brasil\",\n{\n            'v': -46104.8,\n            'f': \"-46104.8\",\n        }],\n [{\n            'v': 1028,\n            'f': \"1028\",\n        },\n\"2019-03\",\n\"A\\u00e9rea\",\n\"Chile\",\n{\n            'v': 2718.4,\n            'f': \"2718.4\",\n        }],\n [{\n            'v': 1029,\n            'f': \"1029\",\n        },\n\"2019-03\",\n\"A\\u00e9rea\",\n\"Paraguay\",\n{\n            'v': 1683.1,\n            'f': \"1683.1\",\n        }],\n [{\n            'v': 1030,\n            'f': \"1030\",\n        },\n\"2019-03\",\n\"A\\u00e9rea\",\n\"Uruguay\",\n{\n            'v': -1230.6,\n            'f': \"-1230.6\",\n        }],\n [{\n            'v': 1031,\n            'f': \"1031\",\n        },\n\"2019-03\",\n\"A\\u00e9rea\",\n\"EE.UU. y Canad\\u00e1\",\n{\n            'v': -32945.5,\n            'f': \"-32945.5\",\n        }],\n [{\n            'v': 1032,\n            'f': \"1032\",\n        },\n\"2019-03\",\n\"A\\u00e9rea\",\n\"Resto de Am\\u00e9rica\",\n{\n            'v': -61661.4,\n            'f': \"-61661.4\",\n        }],\n [{\n            'v': 1033,\n            'f': \"1033\",\n        },\n\"2019-03\",\n\"A\\u00e9rea\",\n\"Europa\",\n{\n            'v': 16724.9,\n            'f': \"16724.9\",\n        }],\n [{\n            'v': 1034,\n            'f': \"1034\",\n        },\n\"2019-03\",\n\"A\\u00e9rea\",\n\"Resto del mundo\",\n{\n            'v': -713.7,\n            'f': \"-713.7\",\n        }],\n [{\n            'v': 1035,\n            'f': \"1035\",\n        },\n\"2019-03\",\n\"Terrestre\",\n\"Bolivia\",\n{\n            'v': -10364.8,\n            'f': \"-10364.8\",\n        }],\n [{\n            'v': 1036,\n            'f': \"1036\",\n        },\n\"2019-03\",\n\"Terrestre\",\n\"Brasil\",\n{\n            'v': -94664.2,\n            'f': \"-94664.2\",\n        }],\n [{\n            'v': 1037,\n            'f': \"1037\",\n        },\n\"2019-03\",\n\"Terrestre\",\n\"Chile\",\n{\n            'v': -51733.7,\n            'f': \"-51733.7\",\n        }],\n [{\n            'v': 1038,\n            'f': \"1038\",\n        },\n\"2019-03\",\n\"Terrestre\",\n\"Paraguay\",\n{\n            'v': -33175.6,\n            'f': \"-33175.6\",\n        }],\n [{\n            'v': 1039,\n            'f': \"1039\",\n        },\n\"2019-03\",\n\"Terrestre\",\n\"Uruguay\",\n{\n            'v': -61335.0,\n            'f': \"-61335.0\",\n        }],\n [{\n            'v': 1040,\n            'f': \"1040\",\n        },\n\"2019-03\",\n\"Terrestre\",\n\"EE.UU. y Canad\\u00e1\",\n{\n            'v': 7814.8,\n            'f': \"7814.8\",\n        }],\n [{\n            'v': 1041,\n            'f': \"1041\",\n        },\n\"2019-03\",\n\"Terrestre\",\n\"Resto de Am\\u00e9rica\",\n{\n            'v': 11731.2,\n            'f': \"11731.2\",\n        }],\n [{\n            'v': 1042,\n            'f': \"1042\",\n        },\n\"2019-03\",\n\"Terrestre\",\n\"Europa\",\n{\n            'v': 33168.9,\n            'f': \"33168.9\",\n        }],\n [{\n            'v': 1043,\n            'f': \"1043\",\n        },\n\"2019-03\",\n\"Terrestre\",\n\"Resto del mundo\",\n{\n            'v': 11741.5,\n            'f': \"11741.5\",\n        }],\n [{\n            'v': 1044,\n            'f': \"1044\",\n        },\n\"2019-03\",\n\"Fluvial/Mar\\u00edtima\",\n\"Bolivia\",\n{\n            'v': 492.0,\n            'f': \"492.0\",\n        }],\n [{\n            'v': 1045,\n            'f': \"1045\",\n        },\n\"2019-03\",\n\"Fluvial/Mar\\u00edtima\",\n\"Brasil\",\n{\n            'v': 14405.1,\n            'f': \"14405.1\",\n        }],\n [{\n            'v': 1046,\n            'f': \"1046\",\n        },\n\"2019-03\",\n\"Fluvial/Mar\\u00edtima\",\n\"Chile\",\n{\n            'v': 844.8,\n            'f': \"844.8\",\n        }],\n [{\n            'v': 1047,\n            'f': \"1047\",\n        },\n\"2019-03\",\n\"Fluvial/Mar\\u00edtima\",\n\"Paraguay\",\n{\n            'v': -2555.2,\n            'f': \"-2555.2\",\n        }],\n [{\n            'v': 1048,\n            'f': \"1048\",\n        },\n\"2019-03\",\n\"Fluvial/Mar\\u00edtima\",\n\"Uruguay\",\n{\n            'v': -39458.5,\n            'f': \"-39458.5\",\n        }],\n [{\n            'v': 1049,\n            'f': \"1049\",\n        },\n\"2019-03\",\n\"Fluvial/Mar\\u00edtima\",\n\"EE.UU. y Canad\\u00e1\",\n{\n            'v': 17482.5,\n            'f': \"17482.5\",\n        }],\n [{\n            'v': 1050,\n            'f': \"1050\",\n        },\n\"2019-03\",\n\"Fluvial/Mar\\u00edtima\",\n\"Resto de Am\\u00e9rica\",\n{\n            'v': 5003.1,\n            'f': \"5003.1\",\n        }],\n [{\n            'v': 1051,\n            'f': \"1051\",\n        },\n\"2019-03\",\n\"Fluvial/Mar\\u00edtima\",\n\"Europa\",\n{\n            'v': 16616.5,\n            'f': \"16616.5\",\n        }],\n [{\n            'v': 1052,\n            'f': \"1052\",\n        },\n\"2019-03\",\n\"Fluvial/Mar\\u00edtima\",\n\"Resto del mundo\",\n{\n            'v': 5028.3,\n            'f': \"5028.3\",\n        }],\n [{\n            'v': 1053,\n            'f': \"1053\",\n        },\n\"2019-04\",\n\"A\\u00e9rea\",\n\"Bolivia\",\n{\n            'v': 3171.6,\n            'f': \"3171.6\",\n        }],\n [{\n            'v': 1054,\n            'f': \"1054\",\n        },\n\"2019-04\",\n\"A\\u00e9rea\",\n\"Brasil\",\n{\n            'v': -23325.5,\n            'f': \"-23325.5\",\n        }],\n [{\n            'v': 1055,\n            'f': \"1055\",\n        },\n\"2019-04\",\n\"A\\u00e9rea\",\n\"Chile\",\n{\n            'v': 3041.2,\n            'f': \"3041.2\",\n        }],\n [{\n            'v': 1056,\n            'f': \"1056\",\n        },\n\"2019-04\",\n\"A\\u00e9rea\",\n\"Paraguay\",\n{\n            'v': 3298.4,\n            'f': \"3298.4\",\n        }],\n [{\n            'v': 1057,\n            'f': \"1057\",\n        },\n\"2019-04\",\n\"A\\u00e9rea\",\n\"Uruguay\",\n{\n            'v': 4551.7,\n            'f': \"4551.7\",\n        }],\n [{\n            'v': 1058,\n            'f': \"1058\",\n        },\n\"2019-04\",\n\"A\\u00e9rea\",\n\"EE.UU. y Canad\\u00e1\",\n{\n            'v': -34700.1,\n            'f': \"-34700.1\",\n        }],\n [{\n            'v': 1059,\n            'f': \"1059\",\n        },\n\"2019-04\",\n\"A\\u00e9rea\",\n\"Resto de Am\\u00e9rica\",\n{\n            'v': -33793.9,\n            'f': \"-33793.9\",\n        }],\n [{\n            'v': 1060,\n            'f': \"1060\",\n        },\n\"2019-04\",\n\"A\\u00e9rea\",\n\"Europa\",\n{\n            'v': 5599.2,\n            'f': \"5599.2\",\n        }],\n [{\n            'v': 1061,\n            'f': \"1061\",\n        },\n\"2019-04\",\n\"A\\u00e9rea\",\n\"Resto del mundo\",\n{\n            'v': -1293.5,\n            'f': \"-1293.5\",\n        }],\n [{\n            'v': 1062,\n            'f': \"1062\",\n        },\n\"2019-04\",\n\"Terrestre\",\n\"Bolivia\",\n{\n            'v': 4119.3,\n            'f': \"4119.3\",\n        }],\n [{\n            'v': 1063,\n            'f': \"1063\",\n        },\n\"2019-04\",\n\"Terrestre\",\n\"Brasil\",\n{\n            'v': -44473.7,\n            'f': \"-44473.7\",\n        }],\n [{\n            'v': 1064,\n            'f': \"1064\",\n        },\n\"2019-04\",\n\"Terrestre\",\n\"Chile\",\n{\n            'v': -24492.4,\n            'f': \"-24492.4\",\n        }],\n [{\n            'v': 1065,\n            'f': \"1065\",\n        },\n\"2019-04\",\n\"Terrestre\",\n\"Paraguay\",\n{\n            'v': -40889.7,\n            'f': \"-40889.7\",\n        }],\n [{\n            'v': 1066,\n            'f': \"1066\",\n        },\n\"2019-04\",\n\"Terrestre\",\n\"Uruguay\",\n{\n            'v': -11390.3,\n            'f': \"-11390.3\",\n        }],\n [{\n            'v': 1067,\n            'f': \"1067\",\n        },\n\"2019-04\",\n\"Terrestre\",\n\"EE.UU. y Canad\\u00e1\",\n{\n            'v': 4282.0,\n            'f': \"4282.0\",\n        }],\n [{\n            'v': 1068,\n            'f': \"1068\",\n        },\n\"2019-04\",\n\"Terrestre\",\n\"Resto de Am\\u00e9rica\",\n{\n            'v': 11933.7,\n            'f': \"11933.7\",\n        }],\n [{\n            'v': 1069,\n            'f': \"1069\",\n        },\n\"2019-04\",\n\"Terrestre\",\n\"Europa\",\n{\n            'v': 24423.8,\n            'f': \"24423.8\",\n        }],\n [{\n            'v': 1070,\n            'f': \"1070\",\n        },\n\"2019-04\",\n\"Terrestre\",\n\"Resto del mundo\",\n{\n            'v': 7233.3,\n            'f': \"7233.3\",\n        }],\n [{\n            'v': 1071,\n            'f': \"1071\",\n        },\n\"2019-04\",\n\"Fluvial/Mar\\u00edtima\",\n\"Bolivia\",\n{\n            'v': 1740.0,\n            'f': \"1740.0\",\n        }],\n [{\n            'v': 1072,\n            'f': \"1072\",\n        },\n\"2019-04\",\n\"Fluvial/Mar\\u00edtima\",\n\"Brasil\",\n{\n            'v': 1209.0,\n            'f': \"1209.0\",\n        }],\n [{\n            'v': 1073,\n            'f': \"1073\",\n        },\n\"2019-04\",\n\"Fluvial/Mar\\u00edtima\",\n\"Chile\",\n{\n            'v': 712.0,\n            'f': \"712.0\",\n        }],\n [{\n            'v': 1074,\n            'f': \"1074\",\n        },\n\"2019-04\",\n\"Fluvial/Mar\\u00edtima\",\n\"Paraguay\",\n{\n            'v': -1139.9,\n            'f': \"-1139.9\",\n        }],\n [{\n            'v': 1075,\n            'f': \"1075\",\n        },\n\"2019-04\",\n\"Fluvial/Mar\\u00edtima\",\n\"Uruguay\",\n{\n            'v': -2785.3,\n            'f': \"-2785.3\",\n        }],\n [{\n            'v': 1076,\n            'f': \"1076\",\n        },\n\"2019-04\",\n\"Fluvial/Mar\\u00edtima\",\n\"EE.UU. y Canad\\u00e1\",\n{\n            'v': 3133.8,\n            'f': \"3133.8\",\n        }],\n [{\n            'v': 1077,\n            'f': \"1077\",\n        },\n\"2019-04\",\n\"Fluvial/Mar\\u00edtima\",\n\"Resto de Am\\u00e9rica\",\n{\n            'v': 5239.1,\n            'f': \"5239.1\",\n        }],\n [{\n            'v': 1078,\n            'f': \"1078\",\n        },\n\"2019-04\",\n\"Fluvial/Mar\\u00edtima\",\n\"Europa\",\n{\n            'v': 7394.5,\n            'f': \"7394.5\",\n        }],\n [{\n            'v': 1079,\n            'f': \"1079\",\n        },\n\"2019-04\",\n\"Fluvial/Mar\\u00edtima\",\n\"Resto del mundo\",\n{\n            'v': 2182.7,\n            'f': \"2182.7\",\n        }],\n [{\n            'v': 1080,\n            'f': \"1080\",\n        },\n\"2019-05\",\n\"A\\u00e9rea\",\n\"Bolivia\",\n{\n            'v': 3019.3,\n            'f': \"3019.3\",\n        }],\n [{\n            'v': 1081,\n            'f': \"1081\",\n        },\n\"2019-05\",\n\"A\\u00e9rea\",\n\"Brasil\",\n{\n            'v': 7524.5,\n            'f': \"7524.5\",\n        }],\n [{\n            'v': 1082,\n            'f': \"1082\",\n        },\n\"2019-05\",\n\"A\\u00e9rea\",\n\"Chile\",\n{\n            'v': 11420.2,\n            'f': \"11420.2\",\n        }],\n [{\n            'v': 1083,\n            'f': \"1083\",\n        },\n\"2019-05\",\n\"A\\u00e9rea\",\n\"Paraguay\",\n{\n            'v': 2189.1,\n            'f': \"2189.1\",\n        }],\n [{\n            'v': 1084,\n            'f': \"1084\",\n        },\n\"2019-05\",\n\"A\\u00e9rea\",\n\"Uruguay\",\n{\n            'v': 2516.2,\n            'f': \"2516.2\",\n        }],\n [{\n            'v': 1085,\n            'f': \"1085\",\n        },\n\"2019-05\",\n\"A\\u00e9rea\",\n\"EE.UU. y Canad\\u00e1\",\n{\n            'v': -53594.5,\n            'f': \"-53594.5\",\n        }],\n [{\n            'v': 1086,\n            'f': \"1086\",\n        },\n\"2019-05\",\n\"A\\u00e9rea\",\n\"Resto de Am\\u00e9rica\",\n{\n            'v': -44934.7,\n            'f': \"-44934.7\",\n        }],\n [{\n            'v': 1087,\n            'f': \"1087\",\n        },\n\"2019-05\",\n\"A\\u00e9rea\",\n\"Europa\",\n{\n            'v': -25291.4,\n            'f': \"-25291.4\",\n        }],\n [{\n            'v': 1088,\n            'f': \"1088\",\n        },\n\"2019-05\",\n\"A\\u00e9rea\",\n\"Resto del mundo\",\n{\n            'v': -1781.6,\n            'f': \"-1781.6\",\n        }],\n [{\n            'v': 1089,\n            'f': \"1089\",\n        },\n\"2019-05\",\n\"Terrestre\",\n\"Bolivia\",\n{\n            'v': 485.6,\n            'f': \"485.6\",\n        }],\n [{\n            'v': 1090,\n            'f': \"1090\",\n        },\n\"2019-05\",\n\"Terrestre\",\n\"Brasil\",\n{\n            'v': -22134.7,\n            'f': \"-22134.7\",\n        }],\n [{\n            'v': 1091,\n            'f': \"1091\",\n        },\n\"2019-05\",\n\"Terrestre\",\n\"Chile\",\n{\n            'v': -6246.5,\n            'f': \"-6246.5\",\n        }],\n [{\n            'v': 1092,\n            'f': \"1092\",\n        },\n\"2019-05\",\n\"Terrestre\",\n\"Paraguay\",\n{\n            'v': -34607.2,\n            'f': \"-34607.2\",\n        }],\n [{\n            'v': 1093,\n            'f': \"1093\",\n        },\n\"2019-05\",\n\"Terrestre\",\n\"Uruguay\",\n{\n            'v': -11468.9,\n            'f': \"-11468.9\",\n        }],\n [{\n            'v': 1094,\n            'f': \"1094\",\n        },\n\"2019-05\",\n\"Terrestre\",\n\"EE.UU. y Canad\\u00e1\",\n{\n            'v': 2462.1,\n            'f': \"2462.1\",\n        }],\n [{\n            'v': 1095,\n            'f': \"1095\",\n        },\n\"2019-05\",\n\"Terrestre\",\n\"Resto de Am\\u00e9rica\",\n{\n            'v': 9472.2,\n            'f': \"9472.2\",\n        }],\n [{\n            'v': 1096,\n            'f': \"1096\",\n        },\n\"2019-05\",\n\"Terrestre\",\n\"Europa\",\n{\n            'v': 12951.7,\n            'f': \"12951.7\",\n        }],\n [{\n            'v': 1097,\n            'f': \"1097\",\n        },\n\"2019-05\",\n\"Terrestre\",\n\"Resto del mundo\",\n{\n            'v': 4385.6,\n            'f': \"4385.6\",\n        }],\n [{\n            'v': 1098,\n            'f': \"1098\",\n        },\n\"2019-05\",\n\"Fluvial/Mar\\u00edtima\",\n\"Bolivia\",\n{\n            'v': 3340.1,\n            'f': \"3340.1\",\n        }],\n [{\n            'v': 1099,\n            'f': \"1099\",\n        },\n\"2019-05\",\n\"Fluvial/Mar\\u00edtima\",\n\"Brasil\",\n{\n            'v': 3553.8,\n            'f': \"3553.8\",\n        }],\n [{\n            'v': 1100,\n            'f': \"1100\",\n        },\n\"2019-05\",\n\"Fluvial/Mar\\u00edtima\",\n\"Chile\",\n{\n            'v': 649.3,\n            'f': \"649.3\",\n        }],\n [{\n            'v': 1101,\n            'f': \"1101\",\n        },\n\"2019-05\",\n\"Fluvial/Mar\\u00edtima\",\n\"Paraguay\",\n{\n            'v': -1386.9,\n            'f': \"-1386.9\",\n        }],\n [{\n            'v': 1102,\n            'f': \"1102\",\n        },\n\"2019-05\",\n\"Fluvial/Mar\\u00edtima\",\n\"Uruguay\",\n{\n            'v': 1101.6,\n            'f': \"1101.6\",\n        }],\n [{\n            'v': 1103,\n            'f': \"1103\",\n        },\n\"2019-05\",\n\"Fluvial/Mar\\u00edtima\",\n\"EE.UU. y Canad\\u00e1\",\n{\n            'v': 2129.0,\n            'f': \"2129.0\",\n        }],\n [{\n            'v': 1104,\n            'f': \"1104\",\n        },\n\"2019-05\",\n\"Fluvial/Mar\\u00edtima\",\n\"Resto de Am\\u00e9rica\",\n{\n            'v': 3690.3,\n            'f': \"3690.3\",\n        }],\n [{\n            'v': 1105,\n            'f': \"1105\",\n        },\n\"2019-05\",\n\"Fluvial/Mar\\u00edtima\",\n\"Europa\",\n{\n            'v': 3724.0,\n            'f': \"3724.0\",\n        }],\n [{\n            'v': 1106,\n            'f': \"1106\",\n        },\n\"2019-05\",\n\"Fluvial/Mar\\u00edtima\",\n\"Resto del mundo\",\n{\n            'v': 1452.5,\n            'f': \"1452.5\",\n        }],\n [{\n            'v': 1107,\n            'f': \"1107\",\n        },\n\"2019-06\",\n\"A\\u00e9rea\",\n\"Bolivia\",\n{\n            'v': 2539.0,\n            'f': \"2539.0\",\n        }],\n [{\n            'v': 1108,\n            'f': \"1108\",\n        },\n\"2019-06\",\n\"A\\u00e9rea\",\n\"Brasil\",\n{\n            'v': 26461.4,\n            'f': \"26461.4\",\n        }],\n [{\n            'v': 1109,\n            'f': \"1109\",\n        },\n\"2019-06\",\n\"A\\u00e9rea\",\n\"Chile\",\n{\n            'v': 8543.6,\n            'f': \"8543.6\",\n        }],\n [{\n            'v': 1110,\n            'f': \"1110\",\n        },\n\"2019-06\",\n\"A\\u00e9rea\",\n\"Paraguay\",\n{\n            'v': 1727.1,\n            'f': \"1727.1\",\n        }],\n [{\n            'v': 1111,\n            'f': \"1111\",\n        },\n\"2019-06\",\n\"A\\u00e9rea\",\n\"Uruguay\",\n{\n            'v': 2894.0,\n            'f': \"2894.0\",\n        }],\n [{\n            'v': 1112,\n            'f': \"1112\",\n        },\n\"2019-06\",\n\"A\\u00e9rea\",\n\"EE.UU. y Canad\\u00e1\",\n{\n            'v': -55574.4,\n            'f': \"-55574.4\",\n        }],\n [{\n            'v': 1113,\n            'f': \"1113\",\n        },\n\"2019-06\",\n\"A\\u00e9rea\",\n\"Resto de Am\\u00e9rica\",\n{\n            'v': -39163.6,\n            'f': \"-39163.6\",\n        }],\n [{\n            'v': 1114,\n            'f': \"1114\",\n        },\n\"2019-06\",\n\"A\\u00e9rea\",\n\"Europa\",\n{\n            'v': -50726.7,\n            'f': \"-50726.7\",\n        }],\n [{\n            'v': 1115,\n            'f': \"1115\",\n        },\n\"2019-06\",\n\"A\\u00e9rea\",\n\"Resto del mundo\",\n{\n            'v': -4284.5,\n            'f': \"-4284.5\",\n        }],\n [{\n            'v': 1116,\n            'f': \"1116\",\n        },\n\"2019-06\",\n\"Terrestre\",\n\"Bolivia\",\n{\n            'v': -5211.2,\n            'f': \"-5211.2\",\n        }],\n [{\n            'v': 1117,\n            'f': \"1117\",\n        },\n\"2019-06\",\n\"Terrestre\",\n\"Brasil\",\n{\n            'v': -25987.3,\n            'f': \"-25987.3\",\n        }],\n [{\n            'v': 1118,\n            'f': \"1118\",\n        },\n\"2019-06\",\n\"Terrestre\",\n\"Chile\",\n{\n            'v': -9112.5,\n            'f': \"-9112.5\",\n        }],\n [{\n            'v': 1119,\n            'f': \"1119\",\n        },\n\"2019-06\",\n\"Terrestre\",\n\"Paraguay\",\n{\n            'v': -42349.1,\n            'f': \"-42349.1\",\n        }],\n [{\n            'v': 1120,\n            'f': \"1120\",\n        },\n\"2019-06\",\n\"Terrestre\",\n\"Uruguay\",\n{\n            'v': -9895.4,\n            'f': \"-9895.4\",\n        }],\n [{\n            'v': 1121,\n            'f': \"1121\",\n        },\n\"2019-06\",\n\"Terrestre\",\n\"EE.UU. y Canad\\u00e1\",\n{\n            'v': 2357.9,\n            'f': \"2357.9\",\n        }],\n [{\n            'v': 1122,\n            'f': \"1122\",\n        },\n\"2019-06\",\n\"Terrestre\",\n\"Resto de Am\\u00e9rica\",\n{\n            'v': 9099.8,\n            'f': \"9099.8\",\n        }],\n [{\n            'v': 1123,\n            'f': \"1123\",\n        },\n\"2019-06\",\n\"Terrestre\",\n\"Europa\",\n{\n            'v': 7957.9,\n            'f': \"7957.9\",\n        }],\n [{\n            'v': 1124,\n            'f': \"1124\",\n        },\n\"2019-06\",\n\"Terrestre\",\n\"Resto del mundo\",\n{\n            'v': 2693.8,\n            'f': \"2693.8\",\n        }],\n [{\n            'v': 1125,\n            'f': \"1125\",\n        },\n\"2019-06\",\n\"Fluvial/Mar\\u00edtima\",\n\"Bolivia\",\n{\n            'v': 2561.0,\n            'f': \"2561.0\",\n        }],\n [{\n            'v': 1126,\n            'f': \"1126\",\n        },\n\"2019-06\",\n\"Fluvial/Mar\\u00edtima\",\n\"Brasil\",\n{\n            'v': 3782.5,\n            'f': \"3782.5\",\n        }],\n [{\n            'v': 1127,\n            'f': \"1127\",\n        },\n\"2019-06\",\n\"Fluvial/Mar\\u00edtima\",\n\"Chile\",\n{\n            'v': 397.2,\n            'f': \"397.2\",\n        }],\n [{\n            'v': 1128,\n            'f': \"1128\",\n        },\n\"2019-06\",\n\"Fluvial/Mar\\u00edtima\",\n\"Paraguay\",\n{\n            'v': -1392.3,\n            'f': \"-1392.3\",\n        }],\n [{\n            'v': 1129,\n            'f': \"1129\",\n        },\n\"2019-06\",\n\"Fluvial/Mar\\u00edtima\",\n\"Uruguay\",\n{\n            'v': -962.2,\n            'f': \"-962.2\",\n        }],\n [{\n            'v': 1130,\n            'f': \"1130\",\n        },\n\"2019-06\",\n\"Fluvial/Mar\\u00edtima\",\n\"EE.UU. y Canad\\u00e1\",\n{\n            'v': 1957.3,\n            'f': \"1957.3\",\n        }],\n [{\n            'v': 1131,\n            'f': \"1131\",\n        },\n\"2019-06\",\n\"Fluvial/Mar\\u00edtima\",\n\"Resto de Am\\u00e9rica\",\n{\n            'v': 3256.5,\n            'f': \"3256.5\",\n        }],\n [{\n            'v': 1132,\n            'f': \"1132\",\n        },\n\"2019-06\",\n\"Fluvial/Mar\\u00edtima\",\n\"Europa\",\n{\n            'v': 2596.2,\n            'f': \"2596.2\",\n        }],\n [{\n            'v': 1133,\n            'f': \"1133\",\n        },\n\"2019-06\",\n\"Fluvial/Mar\\u00edtima\",\n\"Resto del mundo\",\n{\n            'v': 1058.4,\n            'f': \"1058.4\",\n        }],\n [{\n            'v': 1134,\n            'f': \"1134\",\n        },\n\"2019-07\",\n\"A\\u00e9rea\",\n\"Bolivia\",\n{\n            'v': 3221.6,\n            'f': \"3221.6\",\n        }],\n [{\n            'v': 1135,\n            'f': \"1135\",\n        },\n\"2019-07\",\n\"A\\u00e9rea\",\n\"Brasil\",\n{\n            'v': 51678.3,\n            'f': \"51678.3\",\n        }],\n [{\n            'v': 1136,\n            'f': \"1136\",\n        },\n\"2019-07\",\n\"A\\u00e9rea\",\n\"Chile\",\n{\n            'v': 9762.7,\n            'f': \"9762.7\",\n        }],\n [{\n            'v': 1137,\n            'f': \"1137\",\n        },\n\"2019-07\",\n\"A\\u00e9rea\",\n\"Paraguay\",\n{\n            'v': 3715.7,\n            'f': \"3715.7\",\n        }],\n [{\n            'v': 1138,\n            'f': \"1138\",\n        },\n\"2019-07\",\n\"A\\u00e9rea\",\n\"Uruguay\",\n{\n            'v': 2983.6,\n            'f': \"2983.6\",\n        }],\n [{\n            'v': 1139,\n            'f': \"1139\",\n        },\n\"2019-07\",\n\"A\\u00e9rea\",\n\"EE.UU. y Canad\\u00e1\",\n{\n            'v': -34325.4,\n            'f': \"-34325.4\",\n        }],\n [{\n            'v': 1140,\n            'f': \"1140\",\n        },\n\"2019-07\",\n\"A\\u00e9rea\",\n\"Resto de Am\\u00e9rica\",\n{\n            'v': -36795.4,\n            'f': \"-36795.4\",\n        }],\n [{\n            'v': 1141,\n            'f': \"1141\",\n        },\n\"2019-07\",\n\"A\\u00e9rea\",\n\"Europa\",\n{\n            'v': -48400.4,\n            'f': \"-48400.4\",\n        }],\n [{\n            'v': 1142,\n            'f': \"1142\",\n        },\n\"2019-07\",\n\"A\\u00e9rea\",\n\"Resto del mundo\",\n{\n            'v': -2017.7,\n            'f': \"-2017.7\",\n        }],\n [{\n            'v': 1143,\n            'f': \"1143\",\n        },\n\"2019-07\",\n\"Terrestre\",\n\"Bolivia\",\n{\n            'v': -1588.4,\n            'f': \"-1588.4\",\n        }],\n [{\n            'v': 1144,\n            'f': \"1144\",\n        },\n\"2019-07\",\n\"Terrestre\",\n\"Brasil\",\n{\n            'v': -67415.6,\n            'f': \"-67415.6\",\n        }],\n [{\n            'v': 1145,\n            'f': \"1145\",\n        },\n\"2019-07\",\n\"Terrestre\",\n\"Chile\",\n{\n            'v': -20267.6,\n            'f': \"-20267.6\",\n        }],\n [{\n            'v': 1146,\n            'f': \"1146\",\n        },\n\"2019-07\",\n\"Terrestre\",\n\"Paraguay\",\n{\n            'v': -44893.2,\n            'f': \"-44893.2\",\n        }],\n [{\n            'v': 1147,\n            'f': \"1147\",\n        },\n\"2019-07\",\n\"Terrestre\",\n\"Uruguay\",\n{\n            'v': -1445.4,\n            'f': \"-1445.4\",\n        }],\n [{\n            'v': 1148,\n            'f': \"1148\",\n        },\n\"2019-07\",\n\"Terrestre\",\n\"EE.UU. y Canad\\u00e1\",\n{\n            'v': 2863.1,\n            'f': \"2863.1\",\n        }],\n [{\n            'v': 1149,\n            'f': \"1149\",\n        },\n\"2019-07\",\n\"Terrestre\",\n\"Resto de Am\\u00e9rica\",\n{\n            'v': 9797.6,\n            'f': \"9797.6\",\n        }],\n [{\n            'v': 1150,\n            'f': \"1150\",\n        },\n\"2019-07\",\n\"Terrestre\",\n\"Europa\",\n{\n            'v': 12938.8,\n            'f': \"12938.8\",\n        }],\n [{\n            'v': 1151,\n            'f': \"1151\",\n        },\n\"2019-07\",\n\"Terrestre\",\n\"Resto del mundo\",\n{\n            'v': 3107.0,\n            'f': \"3107.0\",\n        }],\n [{\n            'v': 1152,\n            'f': \"1152\",\n        },\n\"2019-07\",\n\"Fluvial/Mar\\u00edtima\",\n\"Bolivia\",\n{\n            'v': 2836.0,\n            'f': \"2836.0\",\n        }],\n [{\n            'v': 1153,\n            'f': \"1153\",\n        },\n\"2019-07\",\n\"Fluvial/Mar\\u00edtima\",\n\"Brasil\",\n{\n            'v': 7785.0,\n            'f': \"7785.0\",\n        }],\n [{\n            'v': 1154,\n            'f': \"1154\",\n        },\n\"2019-07\",\n\"Fluvial/Mar\\u00edtima\",\n\"Chile\",\n{\n            'v': 797.0,\n            'f': \"797.0\",\n        }],\n [{\n            'v': 1155,\n            'f': \"1155\",\n        },\n\"2019-07\",\n\"Fluvial/Mar\\u00edtima\",\n\"Paraguay\",\n{\n            'v': -2407.9,\n            'f': \"-2407.9\",\n        }],\n [{\n            'v': 1156,\n            'f': \"1156\",\n        },\n\"2019-07\",\n\"Fluvial/Mar\\u00edtima\",\n\"Uruguay\",\n{\n            'v': 3591.9,\n            'f': \"3591.9\",\n        }],\n [{\n            'v': 1157,\n            'f': \"1157\",\n        },\n\"2019-07\",\n\"Fluvial/Mar\\u00edtima\",\n\"EE.UU. y Canad\\u00e1\",\n{\n            'v': 2555.8,\n            'f': \"2555.8\",\n        }],\n [{\n            'v': 1158,\n            'f': \"1158\",\n        },\n\"2019-07\",\n\"Fluvial/Mar\\u00edtima\",\n\"Resto de Am\\u00e9rica\",\n{\n            'v': 4254.8,\n            'f': \"4254.8\",\n        }],\n [{\n            'v': 1159,\n            'f': \"1159\",\n        },\n\"2019-07\",\n\"Fluvial/Mar\\u00edtima\",\n\"Europa\",\n{\n            'v': 3933.3,\n            'f': \"3933.3\",\n        }],\n [{\n            'v': 1160,\n            'f': \"1160\",\n        },\n\"2019-07\",\n\"Fluvial/Mar\\u00edtima\",\n\"Resto del mundo\",\n{\n            'v': 1252.2,\n            'f': \"1252.2\",\n        }],\n [{\n            'v': 1161,\n            'f': \"1161\",\n        },\n\"2019-08\",\n\"A\\u00e9rea\",\n\"Bolivia\",\n{\n            'v': 785.4,\n            'f': \"785.4\",\n        }],\n [{\n            'v': 1162,\n            'f': \"1162\",\n        },\n\"2019-08\",\n\"A\\u00e9rea\",\n\"Brasil\",\n{\n            'v': 23984.0,\n            'f': \"23984.0\",\n        }],\n [{\n            'v': 1163,\n            'f': \"1163\",\n        },\n\"2019-08\",\n\"A\\u00e9rea\",\n\"Chile\",\n{\n            'v': 5954.6,\n            'f': \"5954.6\",\n        }],\n [{\n            'v': 1164,\n            'f': \"1164\",\n        },\n\"2019-08\",\n\"A\\u00e9rea\",\n\"Paraguay\",\n{\n            'v': 1114.0,\n            'f': \"1114.0\",\n        }],\n [{\n            'v': 1165,\n            'f': \"1165\",\n        },\n\"2019-08\",\n\"A\\u00e9rea\",\n\"Uruguay\",\n{\n            'v': 1116.8,\n            'f': \"1116.8\",\n        }],\n [{\n            'v': 1166,\n            'f': \"1166\",\n        },\n\"2019-08\",\n\"A\\u00e9rea\",\n\"EE.UU. y Canad\\u00e1\",\n{\n            'v': -55679.4,\n            'f': \"-55679.4\",\n        }],\n [{\n            'v': 1167,\n            'f': \"1167\",\n        },\n\"2019-08\",\n\"A\\u00e9rea\",\n\"Resto de Am\\u00e9rica\",\n{\n            'v': -37236.6,\n            'f': \"-37236.6\",\n        }],\n [{\n            'v': 1168,\n            'f': \"1168\",\n        },\n\"2019-08\",\n\"A\\u00e9rea\",\n\"Europa\",\n{\n            'v': -46737.7,\n            'f': \"-46737.7\",\n        }],\n [{\n            'v': 1169,\n            'f': \"1169\",\n        },\n\"2019-08\",\n\"A\\u00e9rea\",\n\"Resto del mundo\",\n{\n            'v': -70.0,\n            'f': \"-70.0\",\n        }],\n [{\n            'v': 1170,\n            'f': \"1170\",\n        },\n\"2019-08\",\n\"Terrestre\",\n\"Bolivia\",\n{\n            'v': -7642.7,\n            'f': \"-7642.7\",\n        }],\n [{\n            'v': 1171,\n            'f': \"1171\",\n        },\n\"2019-08\",\n\"Terrestre\",\n\"Brasil\",\n{\n            'v': -32701.6,\n            'f': \"-32701.6\",\n        }],\n [{\n            'v': 1172,\n            'f': \"1172\",\n        },\n\"2019-08\",\n\"Terrestre\",\n\"Chile\",\n{\n            'v': -10669.6,\n            'f': \"-10669.6\",\n        }],\n [{\n            'v': 1173,\n            'f': \"1173\",\n        },\n\"2019-08\",\n\"Terrestre\",\n\"Paraguay\",\n{\n            'v': -31514.6,\n            'f': \"-31514.6\",\n        }],\n [{\n            'v': 1174,\n            'f': \"1174\",\n        },\n\"2019-08\",\n\"Terrestre\",\n\"Uruguay\",\n{\n            'v': -6071.8,\n            'f': \"-6071.8\",\n        }],\n [{\n            'v': 1175,\n            'f': \"1175\",\n        },\n\"2019-08\",\n\"Terrestre\",\n\"EE.UU. y Canad\\u00e1\",\n{\n            'v': 2158.4,\n            'f': \"2158.4\",\n        }],\n [{\n            'v': 1176,\n            'f': \"1176\",\n        },\n\"2019-08\",\n\"Terrestre\",\n\"Resto de Am\\u00e9rica\",\n{\n            'v': 9521.7,\n            'f': \"9521.7\",\n        }],\n [{\n            'v': 1177,\n            'f': \"1177\",\n        },\n\"2019-08\",\n\"Terrestre\",\n\"Europa\",\n{\n            'v': 16109.4,\n            'f': \"16109.4\",\n        }],\n [{\n            'v': 1178,\n            'f': \"1178\",\n        },\n\"2019-08\",\n\"Terrestre\",\n\"Resto del mundo\",\n{\n            'v': 3112.3,\n            'f': \"3112.3\",\n        }],\n [{\n            'v': 1179,\n            'f': \"1179\",\n        },\n\"2019-08\",\n\"Fluvial/Mar\\u00edtima\",\n\"Bolivia\",\n{\n            'v': 849.7,\n            'f': \"849.7\",\n        }],\n [{\n            'v': 1180,\n            'f': \"1180\",\n        },\n\"2019-08\",\n\"Fluvial/Mar\\u00edtima\",\n\"Brasil\",\n{\n            'v': 5772.6,\n            'f': \"5772.6\",\n        }],\n [{\n            'v': 1181,\n            'f': \"1181\",\n        },\n\"2019-08\",\n\"Fluvial/Mar\\u00edtima\",\n\"Chile\",\n{\n            'v': 536.0,\n            'f': \"536.0\",\n        }],\n [{\n            'v': 1182,\n            'f': \"1182\",\n        },\n\"2019-08\",\n\"Fluvial/Mar\\u00edtima\",\n\"Paraguay\",\n{\n            'v': -2024.1,\n            'f': \"-2024.1\",\n        }],\n [{\n            'v': 1183,\n            'f': \"1183\",\n        },\n\"2019-08\",\n\"Fluvial/Mar\\u00edtima\",\n\"Uruguay\",\n{\n            'v': -2618.5,\n            'f': \"-2618.5\",\n        }],\n [{\n            'v': 1184,\n            'f': \"1184\",\n        },\n\"2019-08\",\n\"Fluvial/Mar\\u00edtima\",\n\"EE.UU. y Canad\\u00e1\",\n{\n            'v': 1396.2,\n            'f': \"1396.2\",\n        }],\n [{\n            'v': 1185,\n            'f': \"1185\",\n        },\n\"2019-08\",\n\"Fluvial/Mar\\u00edtima\",\n\"Resto de Am\\u00e9rica\",\n{\n            'v': 3074.4,\n            'f': \"3074.4\",\n        }],\n [{\n            'v': 1186,\n            'f': \"1186\",\n        },\n\"2019-08\",\n\"Fluvial/Mar\\u00edtima\",\n\"Europa\",\n{\n            'v': 4036.4,\n            'f': \"4036.4\",\n        }],\n [{\n            'v': 1187,\n            'f': \"1187\",\n        },\n\"2019-08\",\n\"Fluvial/Mar\\u00edtima\",\n\"Resto del mundo\",\n{\n            'v': 1148.2,\n            'f': \"1148.2\",\n        }],\n [{\n            'v': 1188,\n            'f': \"1188\",\n        },\n\"2019-09\",\n\"A\\u00e9rea\",\n\"Bolivia\",\n{\n            'v': 2358.1,\n            'f': \"2358.1\",\n        }],\n [{\n            'v': 1189,\n            'f': \"1189\",\n        },\n\"2019-09\",\n\"A\\u00e9rea\",\n\"Brasil\",\n{\n            'v': 17767.3,\n            'f': \"17767.3\",\n        }],\n [{\n            'v': 1190,\n            'f': \"1190\",\n        },\n\"2019-09\",\n\"A\\u00e9rea\",\n\"Chile\",\n{\n            'v': 16927.9,\n            'f': \"16927.9\",\n        }],\n [{\n            'v': 1191,\n            'f': \"1191\",\n        },\n\"2019-09\",\n\"A\\u00e9rea\",\n\"Paraguay\",\n{\n            'v': 2382.7,\n            'f': \"2382.7\",\n        }],\n [{\n            'v': 1192,\n            'f': \"1192\",\n        },\n\"2019-09\",\n\"A\\u00e9rea\",\n\"Uruguay\",\n{\n            'v': 3480.9,\n            'f': \"3480.9\",\n        }],\n [{\n            'v': 1193,\n            'f': \"1193\",\n        },\n\"2019-09\",\n\"A\\u00e9rea\",\n\"EE.UU. y Canad\\u00e1\",\n{\n            'v': -51199.6,\n            'f': \"-51199.6\",\n        }],\n [{\n            'v': 1194,\n            'f': \"1194\",\n        },\n\"2019-09\",\n\"A\\u00e9rea\",\n\"Resto de Am\\u00e9rica\",\n{\n            'v': -24091.6,\n            'f': \"-24091.6\",\n        }],\n [{\n            'v': 1195,\n            'f': \"1195\",\n        },\n\"2019-09\",\n\"A\\u00e9rea\",\n\"Europa\",\n{\n            'v': -52979.5,\n            'f': \"-52979.5\",\n        }],\n [{\n            'v': 1196,\n            'f': \"1196\",\n        },\n\"2019-09\",\n\"A\\u00e9rea\",\n\"Resto del mundo\",\n{\n            'v': -1199.1,\n            'f': \"-1199.1\",\n        }],\n [{\n            'v': 1197,\n            'f': \"1197\",\n        },\n\"2019-09\",\n\"Terrestre\",\n\"Bolivia\",\n{\n            'v': -1538.6,\n            'f': \"-1538.6\",\n        }],\n [{\n            'v': 1198,\n            'f': \"1198\",\n        },\n\"2019-09\",\n\"Terrestre\",\n\"Brasil\",\n{\n            'v': -20156.0,\n            'f': \"-20156.0\",\n        }],\n [{\n            'v': 1199,\n            'f': \"1199\",\n        },\n\"2019-09\",\n\"Terrestre\",\n\"Chile\",\n{\n            'v': 17223.1,\n            'f': \"17223.1\",\n        }],\n [{\n            'v': 1200,\n            'f': \"1200\",\n        },\n\"2019-09\",\n\"Terrestre\",\n\"Paraguay\",\n{\n            'v': -13758.3,\n            'f': \"-13758.3\",\n        }],\n [{\n            'v': 1201,\n            'f': \"1201\",\n        },\n\"2019-09\",\n\"Terrestre\",\n\"Uruguay\",\n{\n            'v': 23402.0,\n            'f': \"23402.0\",\n        }],\n [{\n            'v': 1202,\n            'f': \"1202\",\n        },\n\"2019-09\",\n\"Terrestre\",\n\"EE.UU. y Canad\\u00e1\",\n{\n            'v': 2689.5,\n            'f': \"2689.5\",\n        }],\n [{\n            'v': 1203,\n            'f': \"1203\",\n        },\n\"2019-09\",\n\"Terrestre\",\n\"Resto de Am\\u00e9rica\",\n{\n            'v': 11001.3,\n            'f': \"11001.3\",\n        }],\n [{\n            'v': 1204,\n            'f': \"1204\",\n        },\n\"2019-09\",\n\"Terrestre\",\n\"Europa\",\n{\n            'v': 13694.2,\n            'f': \"13694.2\",\n        }],\n [{\n            'v': 1205,\n            'f': \"1205\",\n        },\n\"2019-09\",\n\"Terrestre\",\n\"Resto del mundo\",\n{\n            'v': 3831.7,\n            'f': \"3831.7\",\n        }],\n [{\n            'v': 1206,\n            'f': \"1206\",\n        },\n\"2019-09\",\n\"Fluvial/Mar\\u00edtima\",\n\"Bolivia\",\n{\n            'v': 2554.0,\n            'f': \"2554.0\",\n        }],\n [{\n            'v': 1207,\n            'f': \"1207\",\n        },\n\"2019-09\",\n\"Fluvial/Mar\\u00edtima\",\n\"Brasil\",\n{\n            'v': 6313.9,\n            'f': \"6313.9\",\n        }],\n [{\n            'v': 1208,\n            'f': \"1208\",\n        },\n\"2019-09\",\n\"Fluvial/Mar\\u00edtima\",\n\"Chile\",\n{\n            'v': 1138.0,\n            'f': \"1138.0\",\n        }],\n [{\n            'v': 1209,\n            'f': \"1209\",\n        },\n\"2019-09\",\n\"Fluvial/Mar\\u00edtima\",\n\"Paraguay\",\n{\n            'v': -1474.0,\n            'f': \"-1474.0\",\n        }],\n [{\n            'v': 1210,\n            'f': \"1210\",\n        },\n\"2019-09\",\n\"Fluvial/Mar\\u00edtima\",\n\"Uruguay\",\n{\n            'v': 11692.6,\n            'f': \"11692.6\",\n        }],\n [{\n            'v': 1211,\n            'f': \"1211\",\n        },\n\"2019-09\",\n\"Fluvial/Mar\\u00edtima\",\n\"EE.UU. y Canad\\u00e1\",\n{\n            'v': 1792.2,\n            'f': \"1792.2\",\n        }],\n [{\n            'v': 1212,\n            'f': \"1212\",\n        },\n\"2019-09\",\n\"Fluvial/Mar\\u00edtima\",\n\"Resto de Am\\u00e9rica\",\n{\n            'v': 4682.8,\n            'f': \"4682.8\",\n        }],\n [{\n            'v': 1213,\n            'f': \"1213\",\n        },\n\"2019-09\",\n\"Fluvial/Mar\\u00edtima\",\n\"Europa\",\n{\n            'v': 3995.1,\n            'f': \"3995.1\",\n        }],\n [{\n            'v': 1214,\n            'f': \"1214\",\n        },\n\"2019-09\",\n\"Fluvial/Mar\\u00edtima\",\n\"Resto del mundo\",\n{\n            'v': 1215.4,\n            'f': \"1215.4\",\n        }],\n [{\n            'v': 1215,\n            'f': \"1215\",\n        },\n\"2019-10\",\n\"A\\u00e9rea\",\n\"Bolivia\",\n{\n            'v': 4212.7,\n            'f': \"4212.7\",\n        }],\n [{\n            'v': 1216,\n            'f': \"1216\",\n        },\n\"2019-10\",\n\"A\\u00e9rea\",\n\"Brasil\",\n{\n            'v': 10521.9,\n            'f': \"10521.9\",\n        }],\n [{\n            'v': 1217,\n            'f': \"1217\",\n        },\n\"2019-10\",\n\"A\\u00e9rea\",\n\"Chile\",\n{\n            'v': 12366.1,\n            'f': \"12366.1\",\n        }],\n [{\n            'v': 1218,\n            'f': \"1218\",\n        },\n\"2019-10\",\n\"A\\u00e9rea\",\n\"Paraguay\",\n{\n            'v': 2190.7,\n            'f': \"2190.7\",\n        }],\n [{\n            'v': 1219,\n            'f': \"1219\",\n        },\n\"2019-10\",\n\"A\\u00e9rea\",\n\"Uruguay\",\n{\n            'v': 602.8,\n            'f': \"602.8\",\n        }],\n [{\n            'v': 1220,\n            'f': \"1220\",\n        },\n\"2019-10\",\n\"A\\u00e9rea\",\n\"EE.UU. y Canad\\u00e1\",\n{\n            'v': -47444.7,\n            'f': \"-47444.7\",\n        }],\n [{\n            'v': 1221,\n            'f': \"1221\",\n        },\n\"2019-10\",\n\"A\\u00e9rea\",\n\"Resto de Am\\u00e9rica\",\n{\n            'v': -19891.0,\n            'f': \"-19891.0\",\n        }],\n [{\n            'v': 1222,\n            'f': \"1222\",\n        },\n\"2019-10\",\n\"A\\u00e9rea\",\n\"Europa\",\n{\n            'v': -41852.7,\n            'f': \"-41852.7\",\n        }],\n [{\n            'v': 1223,\n            'f': \"1223\",\n        },\n\"2019-10\",\n\"A\\u00e9rea\",\n\"Resto del mundo\",\n{\n            'v': -7240.9,\n            'f': \"-7240.9\",\n        }],\n [{\n            'v': 1224,\n            'f': \"1224\",\n        },\n\"2019-10\",\n\"Terrestre\",\n\"Bolivia\",\n{\n            'v': 4467.4,\n            'f': \"4467.4\",\n        }],\n [{\n            'v': 1225,\n            'f': \"1225\",\n        },\n\"2019-10\",\n\"Terrestre\",\n\"Brasil\",\n{\n            'v': -22867.8,\n            'f': \"-22867.8\",\n        }],\n [{\n            'v': 1226,\n            'f': \"1226\",\n        },\n\"2019-10\",\n\"Terrestre\",\n\"Chile\",\n{\n            'v': -12114.8,\n            'f': \"-12114.8\",\n        }],\n [{\n            'v': 1227,\n            'f': \"1227\",\n        },\n\"2019-10\",\n\"Terrestre\",\n\"Paraguay\",\n{\n            'v': -16491.3,\n            'f': \"-16491.3\",\n        }],\n [{\n            'v': 1228,\n            'f': \"1228\",\n        },\n\"2019-10\",\n\"Terrestre\",\n\"Uruguay\",\n{\n            'v': 439.3,\n            'f': \"439.3\",\n        }],\n [{\n            'v': 1229,\n            'f': \"1229\",\n        },\n\"2019-10\",\n\"Terrestre\",\n\"EE.UU. y Canad\\u00e1\",\n{\n            'v': 4705.8,\n            'f': \"4705.8\",\n        }],\n [{\n            'v': 1230,\n            'f': \"1230\",\n        },\n\"2019-10\",\n\"Terrestre\",\n\"Resto de Am\\u00e9rica\",\n{\n            'v': 12178.3,\n            'f': \"12178.3\",\n        }],\n [{\n            'v': 1231,\n            'f': \"1231\",\n        },\n\"2019-10\",\n\"Terrestre\",\n\"Europa\",\n{\n            'v': 23315.4,\n            'f': \"23315.4\",\n        }],\n [{\n            'v': 1232,\n            'f': \"1232\",\n        },\n\"2019-10\",\n\"Terrestre\",\n\"Resto del mundo\",\n{\n            'v': 6399.3,\n            'f': \"6399.3\",\n        }],\n [{\n            'v': 1233,\n            'f': \"1233\",\n        },\n\"2019-10\",\n\"Fluvial/Mar\\u00edtima\",\n\"Bolivia\",\n{\n            'v': 1103.0,\n            'f': \"1103.0\",\n        }],\n [{\n            'v': 1234,\n            'f': \"1234\",\n        },\n\"2019-10\",\n\"Fluvial/Mar\\u00edtima\",\n\"Brasil\",\n{\n            'v': 5889.0,\n            'f': \"5889.0\",\n        }],\n [{\n            'v': 1235,\n            'f': \"1235\",\n        },\n\"2019-10\",\n\"Fluvial/Mar\\u00edtima\",\n\"Chile\",\n{\n            'v': 725.7,\n            'f': \"725.7\",\n        }],\n [{\n            'v': 1236,\n            'f': \"1236\",\n        },\n\"2019-10\",\n\"Fluvial/Mar\\u00edtima\",\n\"Paraguay\",\n{\n            'v': -2432.0,\n            'f': \"-2432.0\",\n        }],\n [{\n            'v': 1237,\n            'f': \"1237\",\n        },\n\"2019-10\",\n\"Fluvial/Mar\\u00edtima\",\n\"Uruguay\",\n{\n            'v': 1554.0,\n            'f': \"1554.0\",\n        }],\n [{\n            'v': 1238,\n            'f': \"1238\",\n        },\n\"2019-10\",\n\"Fluvial/Mar\\u00edtima\",\n\"EE.UU. y Canad\\u00e1\",\n{\n            'v': 2507.0,\n            'f': \"2507.0\",\n        }],\n [{\n            'v': 1239,\n            'f': \"1239\",\n        },\n\"2019-10\",\n\"Fluvial/Mar\\u00edtima\",\n\"Resto de Am\\u00e9rica\",\n{\n            'v': 6115.0,\n            'f': \"6115.0\",\n        }],\n [{\n            'v': 1240,\n            'f': \"1240\",\n        },\n\"2019-10\",\n\"Fluvial/Mar\\u00edtima\",\n\"Europa\",\n{\n            'v': 6274.5,\n            'f': \"6274.5\",\n        }],\n [{\n            'v': 1241,\n            'f': \"1241\",\n        },\n\"2019-10\",\n\"Fluvial/Mar\\u00edtima\",\n\"Resto del mundo\",\n{\n            'v': 1835.8,\n            'f': \"1835.8\",\n        }],\n [{\n            'v': 1242,\n            'f': \"1242\",\n        },\n\"2019-11\",\n\"A\\u00e9rea\",\n\"Bolivia\",\n{\n            'v': 3034.7,\n            'f': \"3034.7\",\n        }],\n [{\n            'v': 1243,\n            'f': \"1243\",\n        },\n\"2019-11\",\n\"A\\u00e9rea\",\n\"Brasil\",\n{\n            'v': 10323.2,\n            'f': \"10323.2\",\n        }],\n [{\n            'v': 1244,\n            'f': \"1244\",\n        },\n\"2019-11\",\n\"A\\u00e9rea\",\n\"Chile\",\n{\n            'v': 19470.5,\n            'f': \"19470.5\",\n        }],\n [{\n            'v': 1245,\n            'f': \"1245\",\n        },\n\"2019-11\",\n\"A\\u00e9rea\",\n\"Paraguay\",\n{\n            'v': 1893.8,\n            'f': \"1893.8\",\n        }],\n [{\n            'v': 1246,\n            'f': \"1246\",\n        },\n\"2019-11\",\n\"A\\u00e9rea\",\n\"Uruguay\",\n{\n            'v': -847.3,\n            'f': \"-847.3\",\n        }],\n [{\n            'v': 1247,\n            'f': \"1247\",\n        },\n\"2019-11\",\n\"A\\u00e9rea\",\n\"EE.UU. y Canad\\u00e1\",\n{\n            'v': -29476.3,\n            'f': \"-29476.3\",\n        }],\n [{\n            'v': 1248,\n            'f': \"1248\",\n        },\n\"2019-11\",\n\"A\\u00e9rea\",\n\"Resto de Am\\u00e9rica\",\n{\n            'v': -17956.2,\n            'f': \"-17956.2\",\n        }],\n [{\n            'v': 1249,\n            'f': \"1249\",\n        },\n\"2019-11\",\n\"A\\u00e9rea\",\n\"Europa\",\n{\n            'v': 11998.1,\n            'f': \"11998.1\",\n        }],\n [{\n            'v': 1250,\n            'f': \"1250\",\n        },\n\"2019-11\",\n\"A\\u00e9rea\",\n\"Resto del mundo\",\n{\n            'v': -2047.6,\n            'f': \"-2047.6\",\n        }],\n [{\n            'v': 1251,\n            'f': \"1251\",\n        },\n\"2019-11\",\n\"Terrestre\",\n\"Bolivia\",\n{\n            'v': -1113.1,\n            'f': \"-1113.1\",\n        }],\n [{\n            'v': 1252,\n            'f': \"1252\",\n        },\n\"2019-11\",\n\"Terrestre\",\n\"Brasil\",\n{\n            'v': -18019.5,\n            'f': \"-18019.5\",\n        }],\n [{\n            'v': 1253,\n            'f': \"1253\",\n        },\n\"2019-11\",\n\"Terrestre\",\n\"Chile\",\n{\n            'v': 30761.3,\n            'f': \"30761.3\",\n        }],\n [{\n            'v': 1254,\n            'f': \"1254\",\n        },\n\"2019-11\",\n\"Terrestre\",\n\"Paraguay\",\n{\n            'v': -52891.7,\n            'f': \"-52891.7\",\n        }],\n [{\n            'v': 1255,\n            'f': \"1255\",\n        },\n\"2019-11\",\n\"Terrestre\",\n\"Uruguay\",\n{\n            'v': -10103.4,\n            'f': \"-10103.4\",\n        }],\n [{\n            'v': 1256,\n            'f': \"1256\",\n        },\n\"2019-11\",\n\"Terrestre\",\n\"EE.UU. y Canad\\u00e1\",\n{\n            'v': 8052.4,\n            'f': \"8052.4\",\n        }],\n [{\n            'v': 1257,\n            'f': \"1257\",\n        },\n\"2019-11\",\n\"Terrestre\",\n\"Resto de Am\\u00e9rica\",\n{\n            'v': 13527.2,\n            'f': \"13527.2\",\n        }],\n [{\n            'v': 1258,\n            'f': \"1258\",\n        },\n\"2019-11\",\n\"Terrestre\",\n\"Europa\",\n{\n            'v': 45183.0,\n            'f': \"45183.0\",\n        }],\n [{\n            'v': 1259,\n            'f': \"1259\",\n        },\n\"2019-11\",\n\"Terrestre\",\n\"Resto del mundo\",\n{\n            'v': 7607.9,\n            'f': \"7607.9\",\n        }],\n [{\n            'v': 1260,\n            'f': \"1260\",\n        },\n\"2019-11\",\n\"Fluvial/Mar\\u00edtima\",\n\"Bolivia\",\n{\n            'v': 1699.9,\n            'f': \"1699.9\",\n        }],\n [{\n            'v': 1261,\n            'f': \"1261\",\n        },\n\"2019-11\",\n\"Fluvial/Mar\\u00edtima\",\n\"Brasil\",\n{\n            'v': 5712.3,\n            'f': \"5712.3\",\n        }],\n [{\n            'v': 1262,\n            'f': \"1262\",\n        },\n\"2019-11\",\n\"Fluvial/Mar\\u00edtima\",\n\"Chile\",\n{\n            'v': 763.7,\n            'f': \"763.7\",\n        }],\n [{\n            'v': 1263,\n            'f': \"1263\",\n        },\n\"2019-11\",\n\"Fluvial/Mar\\u00edtima\",\n\"Paraguay\",\n{\n            'v': -1930.5,\n            'f': \"-1930.5\",\n        }],\n [{\n            'v': 1264,\n            'f': \"1264\",\n        },\n\"2019-11\",\n\"Fluvial/Mar\\u00edtima\",\n\"Uruguay\",\n{\n            'v': -8659.6,\n            'f': \"-8659.6\",\n        }],\n [{\n            'v': 1265,\n            'f': \"1265\",\n        },\n\"2019-11\",\n\"Fluvial/Mar\\u00edtima\",\n\"EE.UU. y Canad\\u00e1\",\n{\n            'v': 5724.5,\n            'f': \"5724.5\",\n        }],\n [{\n            'v': 1266,\n            'f': \"1266\",\n        },\n\"2019-11\",\n\"Fluvial/Mar\\u00edtima\",\n\"Resto de Am\\u00e9rica\",\n{\n            'v': 5425.1,\n            'f': \"5425.1\",\n        }],\n [{\n            'v': 1267,\n            'f': \"1267\",\n        },\n\"2019-11\",\n\"Fluvial/Mar\\u00edtima\",\n\"Europa\",\n{\n            'v': 12628.8,\n            'f': \"12628.8\",\n        }],\n [{\n            'v': 1268,\n            'f': \"1268\",\n        },\n\"2019-11\",\n\"Fluvial/Mar\\u00edtima\",\n\"Resto del mundo\",\n{\n            'v': 2477.0,\n            'f': \"2477.0\",\n        }],\n [{\n            'v': 1269,\n            'f': \"1269\",\n        },\n\"2019-12\",\n\"A\\u00e9rea\",\n\"Bolivia\",\n{\n            'v': 5139.4,\n            'f': \"5139.4\",\n        }],\n [{\n            'v': 1270,\n            'f': \"1270\",\n        },\n\"2019-12\",\n\"A\\u00e9rea\",\n\"Brasil\",\n{\n            'v': 12887.4,\n            'f': \"12887.4\",\n        }],\n [{\n            'v': 1271,\n            'f': \"1271\",\n        },\n\"2019-12\",\n\"A\\u00e9rea\",\n\"Chile\",\n{\n            'v': 10974.2,\n            'f': \"10974.2\",\n        }],\n [{\n            'v': 1272,\n            'f': \"1272\",\n        },\n\"2019-12\",\n\"A\\u00e9rea\",\n\"Paraguay\",\n{\n            'v': 3234.4,\n            'f': \"3234.4\",\n        }],\n [{\n            'v': 1273,\n            'f': \"1273\",\n        },\n\"2019-12\",\n\"A\\u00e9rea\",\n\"Uruguay\",\n{\n            'v': -2689.2,\n            'f': \"-2689.2\",\n        }],\n [{\n            'v': 1274,\n            'f': \"1274\",\n        },\n\"2019-12\",\n\"A\\u00e9rea\",\n\"EE.UU. y Canad\\u00e1\",\n{\n            'v': -8376.1,\n            'f': \"-8376.1\",\n        }],\n [{\n            'v': 1275,\n            'f': \"1275\",\n        },\n\"2019-12\",\n\"A\\u00e9rea\",\n\"Resto de Am\\u00e9rica\",\n{\n            'v': 251.6,\n            'f': \"251.6\",\n        }],\n [{\n            'v': 1276,\n            'f': \"1276\",\n        },\n\"2019-12\",\n\"A\\u00e9rea\",\n\"Europa\",\n{\n            'v': 29431.7,\n            'f': \"29431.7\",\n        }],\n [{\n            'v': 1277,\n            'f': \"1277\",\n        },\n\"2019-12\",\n\"A\\u00e9rea\",\n\"Resto del mundo\",\n{\n            'v': 10404.5,\n            'f': \"10404.5\",\n        }],\n [{\n            'v': 1278,\n            'f': \"1278\",\n        },\n\"2019-12\",\n\"Terrestre\",\n\"Bolivia\",\n{\n            'v': 18261.1,\n            'f': \"18261.1\",\n        }],\n [{\n            'v': 1279,\n            'f': \"1279\",\n        },\n\"2019-12\",\n\"Terrestre\",\n\"Brasil\",\n{\n            'v': -24927.4,\n            'f': \"-24927.4\",\n        }],\n [{\n            'v': 1280,\n            'f': \"1280\",\n        },\n\"2019-12\",\n\"Terrestre\",\n\"Chile\",\n{\n            'v': 18411.6,\n            'f': \"18411.6\",\n        }],\n [{\n            'v': 1281,\n            'f': \"1281\",\n        },\n\"2019-12\",\n\"Terrestre\",\n\"Paraguay\",\n{\n            'v': 41343.9,\n            'f': \"41343.9\",\n        }],\n [{\n            'v': 1282,\n            'f': \"1282\",\n        },\n\"2019-12\",\n\"Terrestre\",\n\"Uruguay\",\n{\n            'v': -19003.3,\n            'f': \"-19003.3\",\n        }],\n [{\n            'v': 1283,\n            'f': \"1283\",\n        },\n\"2019-12\",\n\"Terrestre\",\n\"EE.UU. y Canad\\u00e1\",\n{\n            'v': 11135.3,\n            'f': \"11135.3\",\n        }],\n [{\n            'v': 1284,\n            'f': \"1284\",\n        },\n\"2019-12\",\n\"Terrestre\",\n\"Resto de Am\\u00e9rica\",\n{\n            'v': 18241.4,\n            'f': \"18241.4\",\n        }],\n [{\n            'v': 1285,\n            'f': \"1285\",\n        },\n\"2019-12\",\n\"Terrestre\",\n\"Europa\",\n{\n            'v': 37171.6,\n            'f': \"37171.6\",\n        }],\n [{\n            'v': 1286,\n            'f': \"1286\",\n        },\n\"2019-12\",\n\"Terrestre\",\n\"Resto del mundo\",\n{\n            'v': 11179.4,\n            'f': \"11179.4\",\n        }],\n [{\n            'v': 1287,\n            'f': \"1287\",\n        },\n\"2019-12\",\n\"Fluvial/Mar\\u00edtima\",\n\"Bolivia\",\n{\n            'v': 3793.0,\n            'f': \"3793.0\",\n        }],\n [{\n            'v': 1288,\n            'f': \"1288\",\n        },\n\"2019-12\",\n\"Fluvial/Mar\\u00edtima\",\n\"Brasil\",\n{\n            'v': 12323.3,\n            'f': \"12323.3\",\n        }],\n [{\n            'v': 1289,\n            'f': \"1289\",\n        },\n\"2019-12\",\n\"Fluvial/Mar\\u00edtima\",\n\"Chile\",\n{\n            'v': 954.2,\n            'f': \"954.2\",\n        }],\n [{\n            'v': 1290,\n            'f': \"1290\",\n        },\n\"2019-12\",\n\"Fluvial/Mar\\u00edtima\",\n\"Paraguay\",\n{\n            'v': 999.9,\n            'f': \"999.9\",\n        }],\n [{\n            'v': 1291,\n            'f': \"1291\",\n        },\n\"2019-12\",\n\"Fluvial/Mar\\u00edtima\",\n\"Uruguay\",\n{\n            'v': -30385.5,\n            'f': \"-30385.5\",\n        }],\n [{\n            'v': 1292,\n            'f': \"1292\",\n        },\n\"2019-12\",\n\"Fluvial/Mar\\u00edtima\",\n\"EE.UU. y Canad\\u00e1\",\n{\n            'v': 18703.1,\n            'f': \"18703.1\",\n        }],\n [{\n            'v': 1293,\n            'f': \"1293\",\n        },\n\"2019-12\",\n\"Fluvial/Mar\\u00edtima\",\n\"Resto de Am\\u00e9rica\",\n{\n            'v': 11402.6,\n            'f': \"11402.6\",\n        }],\n [{\n            'v': 1294,\n            'f': \"1294\",\n        },\n\"2019-12\",\n\"Fluvial/Mar\\u00edtima\",\n\"Europa\",\n{\n            'v': 15463.3,\n            'f': \"15463.3\",\n        }],\n [{\n            'v': 1295,\n            'f': \"1295\",\n        },\n\"2019-12\",\n\"Fluvial/Mar\\u00edtima\",\n\"Resto del mundo\",\n{\n            'v': 5597.0,\n            'f': \"5597.0\",\n        }],\n [{\n            'v': 1296,\n            'f': \"1296\",\n        },\n\"2020-01\",\n\"A\\u00e9rea\",\n\"Bolivia\",\n{\n            'v': 5390.9,\n            'f': \"5390.9\",\n        }],\n [{\n            'v': 1297,\n            'f': \"1297\",\n        },\n\"2020-01\",\n\"A\\u00e9rea\",\n\"Brasil\",\n{\n            'v': -16541.6,\n            'f': \"-16541.6\",\n        }],\n [{\n            'v': 1298,\n            'f': \"1298\",\n        },\n\"2020-01\",\n\"A\\u00e9rea\",\n\"Chile\",\n{\n            'v': 5861.1,\n            'f': \"5861.1\",\n        }],\n [{\n            'v': 1299,\n            'f': \"1299\",\n        },\n\"2020-01\",\n\"A\\u00e9rea\",\n\"Paraguay\",\n{\n            'v': 3292.6,\n            'f': \"3292.6\",\n        }],\n [{\n            'v': 1300,\n            'f': \"1300\",\n        },\n\"2020-01\",\n\"A\\u00e9rea\",\n\"Uruguay\",\n{\n            'v': -10598.1,\n            'f': \"-10598.1\",\n        }],\n [{\n            'v': 1301,\n            'f': \"1301\",\n        },\n\"2020-01\",\n\"A\\u00e9rea\",\n\"EE.UU. y Canad\\u00e1\",\n{\n            'v': 2827.1,\n            'f': \"2827.1\",\n        }],\n [{\n            'v': 1302,\n            'f': \"1302\",\n        },\n\"2020-01\",\n\"A\\u00e9rea\",\n\"Resto de Am\\u00e9rica\",\n{\n            'v': -25348.7,\n            'f': \"-25348.7\",\n        }],\n [{\n            'v': 1303,\n            'f': \"1303\",\n        },\n\"2020-01\",\n\"A\\u00e9rea\",\n\"Europa\",\n{\n            'v': 37417.5,\n            'f': \"37417.5\",\n        }],\n [{\n            'v': 1304,\n            'f': \"1304\",\n        },\n\"2020-01\",\n\"A\\u00e9rea\",\n\"Resto del mundo\",\n{\n            'v': 6673.2,\n            'f': \"6673.2\",\n        }],\n [{\n            'v': 1305,\n            'f': \"1305\",\n        },\n\"2020-01\",\n\"Terrestre\",\n\"Bolivia\",\n{\n            'v': 20459.9,\n            'f': \"20459.9\",\n        }],\n [{\n            'v': 1306,\n            'f': \"1306\",\n        },\n\"2020-01\",\n\"Terrestre\",\n\"Brasil\",\n{\n            'v': -179196.5,\n            'f': \"-179196.5\",\n        }],\n [{\n            'v': 1307,\n            'f': \"1307\",\n        },\n\"2020-01\",\n\"Terrestre\",\n\"Chile\",\n{\n            'v': -28231.9,\n            'f': \"-28231.9\",\n        }],\n [{\n            'v': 1308,\n            'f': \"1308\",\n        },\n\"2020-01\",\n\"Terrestre\",\n\"Paraguay\",\n{\n            'v': -71228.2,\n            'f': \"-71228.2\",\n        }],\n [{\n            'v': 1309,\n            'f': \"1309\",\n        },\n\"2020-01\",\n\"Terrestre\",\n\"Uruguay\",\n{\n            'v': -116378.7,\n            'f': \"-116378.7\",\n        }],\n [{\n            'v': 1310,\n            'f': \"1310\",\n        },\n\"2020-01\",\n\"Terrestre\",\n\"EE.UU. y Canad\\u00e1\",\n{\n            'v': 11430.8,\n            'f': \"11430.8\",\n        }],\n [{\n            'v': 1311,\n            'f': \"1311\",\n        },\n\"2020-01\",\n\"Terrestre\",\n\"Resto de Am\\u00e9rica\",\n{\n            'v': 20068.7,\n            'f': \"20068.7\",\n        }],\n [{\n            'v': 1312,\n            'f': \"1312\",\n        },\n\"2020-01\",\n\"Terrestre\",\n\"Europa\",\n{\n            'v': 41198.0,\n            'f': \"41198.0\",\n        }],\n [{\n            'v': 1313,\n            'f': \"1313\",\n        },\n\"2020-01\",\n\"Terrestre\",\n\"Resto del mundo\",\n{\n            'v': 16906.2,\n            'f': \"16906.2\",\n        }],\n [{\n            'v': 1314,\n            'f': \"1314\",\n        },\n\"2020-01\",\n\"Fluvial/Mar\\u00edtima\",\n\"Bolivia\",\n{\n            'v': 2777.0,\n            'f': \"2777.0\",\n        }],\n [{\n            'v': 1315,\n            'f': \"1315\",\n        },\n\"2020-01\",\n\"Fluvial/Mar\\u00edtima\",\n\"Brasil\",\n{\n            'v': 34279.2,\n            'f': \"34279.2\",\n        }],\n [{\n            'v': 1316,\n            'f': \"1316\",\n        },\n\"2020-01\",\n\"Fluvial/Mar\\u00edtima\",\n\"Chile\",\n{\n            'v': 503.2,\n            'f': \"503.2\",\n        }],\n [{\n            'v': 1317,\n            'f': \"1317\",\n        },\n\"2020-01\",\n\"Fluvial/Mar\\u00edtima\",\n\"Paraguay\",\n{\n            'v': -5744.6,\n            'f': \"-5744.6\",\n        }],\n [{\n            'v': 1318,\n            'f': \"1318\",\n        },\n\"2020-01\",\n\"Fluvial/Mar\\u00edtima\",\n\"Uruguay\",\n{\n            'v': -89156.5,\n            'f': \"-89156.5\",\n        }],\n [{\n            'v': 1319,\n            'f': \"1319\",\n        },\n\"2020-01\",\n\"Fluvial/Mar\\u00edtima\",\n\"EE.UU. y Canad\\u00e1\",\n{\n            'v': 23565.7,\n            'f': \"23565.7\",\n        }],\n [{\n            'v': 1320,\n            'f': \"1320\",\n        },\n\"2020-01\",\n\"Fluvial/Mar\\u00edtima\",\n\"Resto de Am\\u00e9rica\",\n{\n            'v': 7918.5,\n            'f': \"7918.5\",\n        }],\n [{\n            'v': 1321,\n            'f': \"1321\",\n        },\n\"2020-01\",\n\"Fluvial/Mar\\u00edtima\",\n\"Europa\",\n{\n            'v': 23423.1,\n            'f': \"23423.1\",\n        }],\n [{\n            'v': 1322,\n            'f': \"1322\",\n        },\n\"2020-01\",\n\"Fluvial/Mar\\u00edtima\",\n\"Resto del mundo\",\n{\n            'v': 6814.0,\n            'f': \"6814.0\",\n        }],\n [{\n            'v': 1323,\n            'f': \"1323\",\n        },\n\"2020-02\",\n\"A\\u00e9rea\",\n\"Bolivia\",\n{\n            'v': 2522.8,\n            'f': \"2522.8\",\n        }],\n [{\n            'v': 1324,\n            'f': \"1324\",\n        },\n\"2020-02\",\n\"A\\u00e9rea\",\n\"Brasil\",\n{\n            'v': -66132.5,\n            'f': \"-66132.5\",\n        }],\n [{\n            'v': 1325,\n            'f': \"1325\",\n        },\n\"2020-02\",\n\"A\\u00e9rea\",\n\"Chile\",\n{\n            'v': 16250.5,\n            'f': \"16250.5\",\n        }],\n [{\n            'v': 1326,\n            'f': \"1326\",\n        },\n\"2020-02\",\n\"A\\u00e9rea\",\n\"Paraguay\",\n{\n            'v': 1429.7,\n            'f': \"1429.7\",\n        }],\n [{\n            'v': 1327,\n            'f': \"1327\",\n        },\n\"2020-02\",\n\"A\\u00e9rea\",\n\"Uruguay\",\n{\n            'v': -7822.4,\n            'f': \"-7822.4\",\n        }],\n [{\n            'v': 1328,\n            'f': \"1328\",\n        },\n\"2020-02\",\n\"A\\u00e9rea\",\n\"EE.UU. y Canad\\u00e1\",\n{\n            'v': -24133.3,\n            'f': \"-24133.3\",\n        }],\n [{\n            'v': 1329,\n            'f': \"1329\",\n        },\n\"2020-02\",\n\"A\\u00e9rea\",\n\"Resto de Am\\u00e9rica\",\n{\n            'v': -43053.2,\n            'f': \"-43053.2\",\n        }],\n [{\n            'v': 1330,\n            'f': \"1330\",\n        },\n\"2020-02\",\n\"A\\u00e9rea\",\n\"Europa\",\n{\n            'v': 10428.7,\n            'f': \"10428.7\",\n        }],\n [{\n            'v': 1331,\n            'f': \"1331\",\n        },\n\"2020-02\",\n\"A\\u00e9rea\",\n\"Resto del mundo\",\n{\n            'v': -756.3,\n            'f': \"-756.3\",\n        }],\n [{\n            'v': 1332,\n            'f': \"1332\",\n        },\n\"2020-02\",\n\"Terrestre\",\n\"Bolivia\",\n{\n            'v': 7650.3,\n            'f': \"7650.3\",\n        }],\n [{\n            'v': 1333,\n            'f': \"1333\",\n        },\n\"2020-02\",\n\"Terrestre\",\n\"Brasil\",\n{\n            'v': -223884.5,\n            'f': \"-223884.5\",\n        }],\n [{\n            'v': 1334,\n            'f': \"1334\",\n        },\n\"2020-02\",\n\"Terrestre\",\n\"Chile\",\n{\n            'v': 27537.7,\n            'f': \"27537.7\",\n        }],\n [{\n            'v': 1335,\n            'f': \"1335\",\n        },\n\"2020-02\",\n\"Terrestre\",\n\"Paraguay\",\n{\n            'v': -48708.7,\n            'f': \"-48708.7\",\n        }],\n [{\n            'v': 1336,\n            'f': \"1336\",\n        },\n\"2020-02\",\n\"Terrestre\",\n\"Uruguay\",\n{\n            'v': -118027.9,\n            'f': \"-118027.9\",\n        }],\n [{\n            'v': 1337,\n            'f': \"1337\",\n        },\n\"2020-02\",\n\"Terrestre\",\n\"EE.UU. y Canad\\u00e1\",\n{\n            'v': 10468.4,\n            'f': \"10468.4\",\n        }],\n [{\n            'v': 1338,\n            'f': \"1338\",\n        },\n\"2020-02\",\n\"Terrestre\",\n\"Resto de Am\\u00e9rica\",\n{\n            'v': 14388.6,\n            'f': \"14388.6\",\n        }],\n [{\n            'v': 1339,\n            'f': \"1339\",\n        },\n\"2020-02\",\n\"Terrestre\",\n\"Europa\",\n{\n            'v': 38810.1,\n            'f': \"38810.1\",\n        }],\n [{\n            'v': 1340,\n            'f': \"1340\",\n        },\n\"2020-02\",\n\"Terrestre\",\n\"Resto del mundo\",\n{\n            'v': 16418.8,\n            'f': \"16418.8\",\n        }],\n [{\n            'v': 1341,\n            'f': \"1341\",\n        },\n\"2020-02\",\n\"Fluvial/Mar\\u00edtima\",\n\"Bolivia\",\n{\n            'v': 58.0,\n            'f': \"58.0\",\n        }],\n [{\n            'v': 1342,\n            'f': \"1342\",\n        },\n\"2020-02\",\n\"Fluvial/Mar\\u00edtima\",\n\"Brasil\",\n{\n            'v': 15162.4,\n            'f': \"15162.4\",\n        }],\n [{\n            'v': 1343,\n            'f': \"1343\",\n        },\n\"2020-02\",\n\"Fluvial/Mar\\u00edtima\",\n\"Chile\",\n{\n            'v': 2293.1,\n            'f': \"2293.1\",\n        }],\n [{\n            'v': 1344,\n            'f': \"1344\",\n        },\n\"2020-02\",\n\"Fluvial/Mar\\u00edtima\",\n\"Paraguay\",\n{\n            'v': -3169.2,\n            'f': \"-3169.2\",\n        }],\n [{\n            'v': 1345,\n            'f': \"1345\",\n        },\n\"2020-02\",\n\"Fluvial/Mar\\u00edtima\",\n\"Uruguay\",\n{\n            'v': -83687.8,\n            'f': \"-83687.8\",\n        }],\n [{\n            'v': 1346,\n            'f': \"1346\",\n        },\n\"2020-02\",\n\"Fluvial/Mar\\u00edtima\",\n\"EE.UU. y Canad\\u00e1\",\n{\n            'v': 29252.0,\n            'f': \"29252.0\",\n        }],\n [{\n            'v': 1347,\n            'f': \"1347\",\n        },\n\"2020-02\",\n\"Fluvial/Mar\\u00edtima\",\n\"Resto de Am\\u00e9rica\",\n{\n            'v': 5761.3,\n            'f': \"5761.3\",\n        }],\n [{\n            'v': 1348,\n            'f': \"1348\",\n        },\n\"2020-02\",\n\"Fluvial/Mar\\u00edtima\",\n\"Europa\",\n{\n            'v': 27473.2,\n            'f': \"27473.2\",\n        }],\n [{\n            'v': 1349,\n            'f': \"1349\",\n        },\n\"2020-02\",\n\"Fluvial/Mar\\u00edtima\",\n\"Resto del mundo\",\n{\n            'v': 7887.0,\n            'f': \"7887.0\",\n        }],\n [{\n            'v': 1350,\n            'f': \"1350\",\n        },\n\"2020-03\",\n\"A\\u00e9rea\",\n\"Bolivia\",\n{\n            'v': 3140.9,\n            'f': \"3140.9\",\n        }],\n [{\n            'v': 1351,\n            'f': \"1351\",\n        },\n\"2020-03\",\n\"A\\u00e9rea\",\n\"Brasil\",\n{\n            'v': -22460.6,\n            'f': \"-22460.6\",\n        }],\n [{\n            'v': 1352,\n            'f': \"1352\",\n        },\n\"2020-03\",\n\"A\\u00e9rea\",\n\"Chile\",\n{\n            'v': 1845.4,\n            'f': \"1845.4\",\n        }],\n [{\n            'v': 1353,\n            'f': \"1353\",\n        },\n\"2020-03\",\n\"A\\u00e9rea\",\n\"Paraguay\",\n{\n            'v': 746.1,\n            'f': \"746.1\",\n        }],\n [{\n            'v': 1354,\n            'f': \"1354\",\n        },\n\"2020-03\",\n\"A\\u00e9rea\",\n\"Uruguay\",\n{\n            'v': 206.9,\n            'f': \"206.9\",\n        }],\n [{\n            'v': 1355,\n            'f': \"1355\",\n        },\n\"2020-03\",\n\"A\\u00e9rea\",\n\"EE.UU. y Canad\\u00e1\",\n{\n            'v': -7896.3,\n            'f': \"-7896.3\",\n        }],\n [{\n            'v': 1356,\n            'f': \"1356\",\n        },\n\"2020-03\",\n\"A\\u00e9rea\",\n\"Resto de Am\\u00e9rica\",\n{\n            'v': -5075.8,\n            'f': \"-5075.8\",\n        }],\n [{\n            'v': 1357,\n            'f': \"1357\",\n        },\n\"2020-03\",\n\"A\\u00e9rea\",\n\"Europa\",\n{\n            'v': 3433.3,\n            'f': \"3433.3\",\n        }],\n [{\n            'v': 1358,\n            'f': \"1358\",\n        },\n\"2020-03\",\n\"A\\u00e9rea\",\n\"Resto del mundo\",\n{\n            'v': -1462.9,\n            'f': \"-1462.9\",\n        }],\n [{\n            'v': 1359,\n            'f': \"1359\",\n        },\n\"2020-03\",\n\"Terrestre\",\n\"Bolivia\",\n{\n            'v': 15690.0,\n            'f': \"15690.0\",\n        }],\n [{\n            'v': 1360,\n            'f': \"1360\",\n        },\n\"2020-03\",\n\"Terrestre\",\n\"Brasil\",\n{\n            'v': -44715.9,\n            'f': \"-44715.9\",\n        }],\n [{\n            'v': 1361,\n            'f': \"1361\",\n        },\n\"2020-03\",\n\"Terrestre\",\n\"Chile\",\n{\n            'v': 5233.3,\n            'f': \"5233.3\",\n        }],\n [{\n            'v': 1362,\n            'f': \"1362\",\n        },\n\"2020-03\",\n\"Terrestre\",\n\"Paraguay\",\n{\n            'v': -197.3,\n            'f': \"-197.3\",\n        }],\n [{\n            'v': 1363,\n            'f': \"1363\",\n        },\n\"2020-03\",\n\"Terrestre\",\n\"Uruguay\",\n{\n            'v': -9647.9,\n            'f': \"-9647.9\",\n        }],\n [{\n            'v': 1364,\n            'f': \"1364\",\n        },\n\"2020-03\",\n\"Terrestre\",\n\"EE.UU. y Canad\\u00e1\",\n{\n            'v': 4501.3,\n            'f': \"4501.3\",\n        }],\n [{\n            'v': 1365,\n            'f': \"1365\",\n        },\n\"2020-03\",\n\"Terrestre\",\n\"Resto de Am\\u00e9rica\",\n{\n            'v': 8542.2,\n            'f': \"8542.2\",\n        }],\n [{\n            'v': 1366,\n            'f': \"1366\",\n        },\n\"2020-03\",\n\"Terrestre\",\n\"Europa\",\n{\n            'v': 16618.8,\n            'f': \"16618.8\",\n        }],\n [{\n            'v': 1367,\n            'f': \"1367\",\n        },\n\"2020-03\",\n\"Terrestre\",\n\"Resto del mundo\",\n{\n            'v': 4969.2,\n            'f': \"4969.2\",\n        }],\n [{\n            'v': 1368,\n            'f': \"1368\",\n        },\n\"2020-03\",\n\"Fluvial/Mar\\u00edtima\",\n\"Bolivia\",\n{\n            'v': -922.1,\n            'f': \"-922.1\",\n        }],\n [{\n            'v': 1369,\n            'f': \"1369\",\n        },\n\"2020-03\",\n\"Fluvial/Mar\\u00edtima\",\n\"Brasil\",\n{\n            'v': 6541.2,\n            'f': \"6541.2\",\n        }],\n [{\n            'v': 1370,\n            'f': \"1370\",\n        },\n\"2020-03\",\n\"Fluvial/Mar\\u00edtima\",\n\"Chile\",\n{\n            'v': 665.7,\n            'f': \"665.7\",\n        }],\n [{\n            'v': 1371,\n            'f': \"1371\",\n        },\n\"2020-03\",\n\"Fluvial/Mar\\u00edtima\",\n\"Paraguay\",\n{\n            'v': 836.7,\n            'f': \"836.7\",\n        }],\n [{\n            'v': 1372,\n            'f': \"1372\",\n        },\n\"2020-03\",\n\"Fluvial/Mar\\u00edtima\",\n\"Uruguay\",\n{\n            'v': -5911.9,\n            'f': \"-5911.9\",\n        }],\n [{\n            'v': 1373,\n            'f': \"1373\",\n        },\n\"2020-03\",\n\"Fluvial/Mar\\u00edtima\",\n\"EE.UU. y Canad\\u00e1\",\n{\n            'v': 11542.3,\n            'f': \"11542.3\",\n        }],\n [{\n            'v': 1374,\n            'f': \"1374\",\n        },\n\"2020-03\",\n\"Fluvial/Mar\\u00edtima\",\n\"Resto de Am\\u00e9rica\",\n{\n            'v': 3219.8,\n            'f': \"3219.8\",\n        }],\n [{\n            'v': 1375,\n            'f': \"1375\",\n        },\n\"2020-03\",\n\"Fluvial/Mar\\u00edtima\",\n\"Europa\",\n{\n            'v': 8838.3,\n            'f': \"8838.3\",\n        }],\n [{\n            'v': 1376,\n            'f': \"1376\",\n        },\n\"2020-03\",\n\"Fluvial/Mar\\u00edtima\",\n\"Resto del mundo\",\n{\n            'v': 2107.0,\n            'f': \"2107.0\",\n        }],\n [{\n            'v': 1377,\n            'f': \"1377\",\n        },\n\"2020-04\",\n\"A\\u00e9rea\",\n\"Bolivia\",\n{\n            'v': 0.0,\n            'f': \"0.0\",\n        }],\n [{\n            'v': 1378,\n            'f': \"1378\",\n        },\n\"2020-04\",\n\"A\\u00e9rea\",\n\"Brasil\",\n{\n            'v': 0.0,\n            'f': \"0.0\",\n        }],\n [{\n            'v': 1379,\n            'f': \"1379\",\n        },\n\"2020-04\",\n\"A\\u00e9rea\",\n\"Chile\",\n{\n            'v': 0.0,\n            'f': \"0.0\",\n        }],\n [{\n            'v': 1380,\n            'f': \"1380\",\n        },\n\"2020-04\",\n\"A\\u00e9rea\",\n\"Paraguay\",\n{\n            'v': 0.0,\n            'f': \"0.0\",\n        }],\n [{\n            'v': 1381,\n            'f': \"1381\",\n        },\n\"2020-04\",\n\"A\\u00e9rea\",\n\"Uruguay\",\n{\n            'v': 0.0,\n            'f': \"0.0\",\n        }],\n [{\n            'v': 1382,\n            'f': \"1382\",\n        },\n\"2020-04\",\n\"A\\u00e9rea\",\n\"EE.UU. y Canad\\u00e1\",\n{\n            'v': 0.0,\n            'f': \"0.0\",\n        }],\n [{\n            'v': 1383,\n            'f': \"1383\",\n        },\n\"2020-04\",\n\"A\\u00e9rea\",\n\"Resto de Am\\u00e9rica\",\n{\n            'v': 0.0,\n            'f': \"0.0\",\n        }],\n [{\n            'v': 1384,\n            'f': \"1384\",\n        },\n\"2020-04\",\n\"A\\u00e9rea\",\n\"Europa\",\n{\n            'v': 0.0,\n            'f': \"0.0\",\n        }],\n [{\n            'v': 1385,\n            'f': \"1385\",\n        },\n\"2020-04\",\n\"A\\u00e9rea\",\n\"Resto del mundo\",\n{\n            'v': 0.0,\n            'f': \"0.0\",\n        }],\n [{\n            'v': 1386,\n            'f': \"1386\",\n        },\n\"2020-04\",\n\"Terrestre\",\n\"Bolivia\",\n{\n            'v': 0.0,\n            'f': \"0.0\",\n        }],\n [{\n            'v': 1387,\n            'f': \"1387\",\n        },\n\"2020-04\",\n\"Terrestre\",\n\"Brasil\",\n{\n            'v': 0.0,\n            'f': \"0.0\",\n        }],\n [{\n            'v': 1388,\n            'f': \"1388\",\n        },\n\"2020-04\",\n\"Terrestre\",\n\"Chile\",\n{\n            'v': 0.0,\n            'f': \"0.0\",\n        }],\n [{\n            'v': 1389,\n            'f': \"1389\",\n        },\n\"2020-04\",\n\"Terrestre\",\n\"Paraguay\",\n{\n            'v': 0.0,\n            'f': \"0.0\",\n        }],\n [{\n            'v': 1390,\n            'f': \"1390\",\n        },\n\"2020-04\",\n\"Terrestre\",\n\"Uruguay\",\n{\n            'v': 0.0,\n            'f': \"0.0\",\n        }],\n [{\n            'v': 1391,\n            'f': \"1391\",\n        },\n\"2020-04\",\n\"Terrestre\",\n\"EE.UU. y Canad\\u00e1\",\n{\n            'v': 0.0,\n            'f': \"0.0\",\n        }],\n [{\n            'v': 1392,\n            'f': \"1392\",\n        },\n\"2020-04\",\n\"Terrestre\",\n\"Resto de Am\\u00e9rica\",\n{\n            'v': 0.0,\n            'f': \"0.0\",\n        }],\n [{\n            'v': 1393,\n            'f': \"1393\",\n        },\n\"2020-04\",\n\"Terrestre\",\n\"Europa\",\n{\n            'v': 0.0,\n            'f': \"0.0\",\n        }],\n [{\n            'v': 1394,\n            'f': \"1394\",\n        },\n\"2020-04\",\n\"Terrestre\",\n\"Resto del mundo\",\n{\n            'v': 0.0,\n            'f': \"0.0\",\n        }],\n [{\n            'v': 1395,\n            'f': \"1395\",\n        },\n\"2020-04\",\n\"Fluvial/Mar\\u00edtima\",\n\"Bolivia\",\n{\n            'v': 0.0,\n            'f': \"0.0\",\n        }],\n [{\n            'v': 1396,\n            'f': \"1396\",\n        },\n\"2020-04\",\n\"Fluvial/Mar\\u00edtima\",\n\"Brasil\",\n{\n            'v': 0.0,\n            'f': \"0.0\",\n        }],\n [{\n            'v': 1397,\n            'f': \"1397\",\n        },\n\"2020-04\",\n\"Fluvial/Mar\\u00edtima\",\n\"Chile\",\n{\n            'v': 0.0,\n            'f': \"0.0\",\n        }],\n [{\n            'v': 1398,\n            'f': \"1398\",\n        },\n\"2020-04\",\n\"Fluvial/Mar\\u00edtima\",\n\"Paraguay\",\n{\n            'v': 0.0,\n            'f': \"0.0\",\n        }],\n [{\n            'v': 1399,\n            'f': \"1399\",\n        },\n\"2020-04\",\n\"Fluvial/Mar\\u00edtima\",\n\"Uruguay\",\n{\n            'v': 0.0,\n            'f': \"0.0\",\n        }],\n [{\n            'v': 1400,\n            'f': \"1400\",\n        },\n\"2020-04\",\n\"Fluvial/Mar\\u00edtima\",\n\"EE.UU. y Canad\\u00e1\",\n{\n            'v': 0.0,\n            'f': \"0.0\",\n        }],\n [{\n            'v': 1401,\n            'f': \"1401\",\n        },\n\"2020-04\",\n\"Fluvial/Mar\\u00edtima\",\n\"Resto de Am\\u00e9rica\",\n{\n            'v': 0.0,\n            'f': \"0.0\",\n        }],\n [{\n            'v': 1402,\n            'f': \"1402\",\n        },\n\"2020-04\",\n\"Fluvial/Mar\\u00edtima\",\n\"Europa\",\n{\n            'v': 0.0,\n            'f': \"0.0\",\n        }],\n [{\n            'v': 1403,\n            'f': \"1403\",\n        },\n\"2020-04\",\n\"Fluvial/Mar\\u00edtima\",\n\"Resto del mundo\",\n{\n            'v': 0.0,\n            'f': \"0.0\",\n        }],\n [{\n            'v': 1404,\n            'f': \"1404\",\n        },\n\"2020-05\",\n\"A\\u00e9rea\",\n\"Bolivia\",\n{\n            'v': 0.0,\n            'f': \"0.0\",\n        }],\n [{\n            'v': 1405,\n            'f': \"1405\",\n        },\n\"2020-05\",\n\"A\\u00e9rea\",\n\"Brasil\",\n{\n            'v': 0.0,\n            'f': \"0.0\",\n        }],\n [{\n            'v': 1406,\n            'f': \"1406\",\n        },\n\"2020-05\",\n\"A\\u00e9rea\",\n\"Chile\",\n{\n            'v': 0.0,\n            'f': \"0.0\",\n        }],\n [{\n            'v': 1407,\n            'f': \"1407\",\n        },\n\"2020-05\",\n\"A\\u00e9rea\",\n\"Paraguay\",\n{\n            'v': 0.0,\n            'f': \"0.0\",\n        }],\n [{\n            'v': 1408,\n            'f': \"1408\",\n        },\n\"2020-05\",\n\"A\\u00e9rea\",\n\"Uruguay\",\n{\n            'v': 0.0,\n            'f': \"0.0\",\n        }],\n [{\n            'v': 1409,\n            'f': \"1409\",\n        },\n\"2020-05\",\n\"A\\u00e9rea\",\n\"EE.UU. y Canad\\u00e1\",\n{\n            'v': 0.0,\n            'f': \"0.0\",\n        }],\n [{\n            'v': 1410,\n            'f': \"1410\",\n        },\n\"2020-05\",\n\"A\\u00e9rea\",\n\"Resto de Am\\u00e9rica\",\n{\n            'v': 0.0,\n            'f': \"0.0\",\n        }],\n [{\n            'v': 1411,\n            'f': \"1411\",\n        },\n\"2020-05\",\n\"A\\u00e9rea\",\n\"Europa\",\n{\n            'v': 0.0,\n            'f': \"0.0\",\n        }],\n [{\n            'v': 1412,\n            'f': \"1412\",\n        },\n\"2020-05\",\n\"A\\u00e9rea\",\n\"Resto del mundo\",\n{\n            'v': 0.0,\n            'f': \"0.0\",\n        }],\n [{\n            'v': 1413,\n            'f': \"1413\",\n        },\n\"2020-05\",\n\"Terrestre\",\n\"Bolivia\",\n{\n            'v': 0.0,\n            'f': \"0.0\",\n        }],\n [{\n            'v': 1414,\n            'f': \"1414\",\n        },\n\"2020-05\",\n\"Terrestre\",\n\"Brasil\",\n{\n            'v': 0.0,\n            'f': \"0.0\",\n        }],\n [{\n            'v': 1415,\n            'f': \"1415\",\n        },\n\"2020-05\",\n\"Terrestre\",\n\"Chile\",\n{\n            'v': 0.0,\n            'f': \"0.0\",\n        }],\n [{\n            'v': 1416,\n            'f': \"1416\",\n        },\n\"2020-05\",\n\"Terrestre\",\n\"Paraguay\",\n{\n            'v': 0.0,\n            'f': \"0.0\",\n        }],\n [{\n            'v': 1417,\n            'f': \"1417\",\n        },\n\"2020-05\",\n\"Terrestre\",\n\"Uruguay\",\n{\n            'v': 0.0,\n            'f': \"0.0\",\n        }],\n [{\n            'v': 1418,\n            'f': \"1418\",\n        },\n\"2020-05\",\n\"Terrestre\",\n\"EE.UU. y Canad\\u00e1\",\n{\n            'v': 0.0,\n            'f': \"0.0\",\n        }],\n [{\n            'v': 1419,\n            'f': \"1419\",\n        },\n\"2020-05\",\n\"Terrestre\",\n\"Resto de Am\\u00e9rica\",\n{\n            'v': 0.0,\n            'f': \"0.0\",\n        }],\n [{\n            'v': 1420,\n            'f': \"1420\",\n        },\n\"2020-05\",\n\"Terrestre\",\n\"Europa\",\n{\n            'v': 0.0,\n            'f': \"0.0\",\n        }],\n [{\n            'v': 1421,\n            'f': \"1421\",\n        },\n\"2020-05\",\n\"Terrestre\",\n\"Resto del mundo\",\n{\n            'v': 0.0,\n            'f': \"0.0\",\n        }],\n [{\n            'v': 1422,\n            'f': \"1422\",\n        },\n\"2020-05\",\n\"Fluvial/Mar\\u00edtima\",\n\"Bolivia\",\n{\n            'v': 0.0,\n            'f': \"0.0\",\n        }],\n [{\n            'v': 1423,\n            'f': \"1423\",\n        },\n\"2020-05\",\n\"Fluvial/Mar\\u00edtima\",\n\"Brasil\",\n{\n            'v': 0.0,\n            'f': \"0.0\",\n        }],\n [{\n            'v': 1424,\n            'f': \"1424\",\n        },\n\"2020-05\",\n\"Fluvial/Mar\\u00edtima\",\n\"Chile\",\n{\n            'v': 0.0,\n            'f': \"0.0\",\n        }],\n [{\n            'v': 1425,\n            'f': \"1425\",\n        },\n\"2020-05\",\n\"Fluvial/Mar\\u00edtima\",\n\"Paraguay\",\n{\n            'v': 0.0,\n            'f': \"0.0\",\n        }],\n [{\n            'v': 1426,\n            'f': \"1426\",\n        },\n\"2020-05\",\n\"Fluvial/Mar\\u00edtima\",\n\"Uruguay\",\n{\n            'v': 0.0,\n            'f': \"0.0\",\n        }],\n [{\n            'v': 1427,\n            'f': \"1427\",\n        },\n\"2020-05\",\n\"Fluvial/Mar\\u00edtima\",\n\"EE.UU. y Canad\\u00e1\",\n{\n            'v': 0.0,\n            'f': \"0.0\",\n        }],\n [{\n            'v': 1428,\n            'f': \"1428\",\n        },\n\"2020-05\",\n\"Fluvial/Mar\\u00edtima\",\n\"Resto de Am\\u00e9rica\",\n{\n            'v': 0.0,\n            'f': \"0.0\",\n        }],\n [{\n            'v': 1429,\n            'f': \"1429\",\n        },\n\"2020-05\",\n\"Fluvial/Mar\\u00edtima\",\n\"Europa\",\n{\n            'v': 0.0,\n            'f': \"0.0\",\n        }],\n [{\n            'v': 1430,\n            'f': \"1430\",\n        },\n\"2020-05\",\n\"Fluvial/Mar\\u00edtima\",\n\"Resto del mundo\",\n{\n            'v': 0.0,\n            'f': \"0.0\",\n        }],\n [{\n            'v': 1431,\n            'f': \"1431\",\n        },\n\"2020-06\",\n\"A\\u00e9rea\",\n\"Bolivia\",\n{\n            'v': 0.0,\n            'f': \"0.0\",\n        }],\n [{\n            'v': 1432,\n            'f': \"1432\",\n        },\n\"2020-06\",\n\"A\\u00e9rea\",\n\"Brasil\",\n{\n            'v': 0.0,\n            'f': \"0.0\",\n        }],\n [{\n            'v': 1433,\n            'f': \"1433\",\n        },\n\"2020-06\",\n\"A\\u00e9rea\",\n\"Chile\",\n{\n            'v': 0.0,\n            'f': \"0.0\",\n        }],\n [{\n            'v': 1434,\n            'f': \"1434\",\n        },\n\"2020-06\",\n\"A\\u00e9rea\",\n\"Paraguay\",\n{\n            'v': 0.0,\n            'f': \"0.0\",\n        }],\n [{\n            'v': 1435,\n            'f': \"1435\",\n        },\n\"2020-06\",\n\"A\\u00e9rea\",\n\"Uruguay\",\n{\n            'v': 0.0,\n            'f': \"0.0\",\n        }],\n [{\n            'v': 1436,\n            'f': \"1436\",\n        },\n\"2020-06\",\n\"A\\u00e9rea\",\n\"EE.UU. y Canad\\u00e1\",\n{\n            'v': 0.0,\n            'f': \"0.0\",\n        }],\n [{\n            'v': 1437,\n            'f': \"1437\",\n        },\n\"2020-06\",\n\"A\\u00e9rea\",\n\"Resto de Am\\u00e9rica\",\n{\n            'v': 0.0,\n            'f': \"0.0\",\n        }],\n [{\n            'v': 1438,\n            'f': \"1438\",\n        },\n\"2020-06\",\n\"A\\u00e9rea\",\n\"Europa\",\n{\n            'v': 0.0,\n            'f': \"0.0\",\n        }],\n [{\n            'v': 1439,\n            'f': \"1439\",\n        },\n\"2020-06\",\n\"A\\u00e9rea\",\n\"Resto del mundo\",\n{\n            'v': 0.0,\n            'f': \"0.0\",\n        }],\n [{\n            'v': 1440,\n            'f': \"1440\",\n        },\n\"2020-06\",\n\"Terrestre\",\n\"Bolivia\",\n{\n            'v': 0.0,\n            'f': \"0.0\",\n        }],\n [{\n            'v': 1441,\n            'f': \"1441\",\n        },\n\"2020-06\",\n\"Terrestre\",\n\"Brasil\",\n{\n            'v': 0.0,\n            'f': \"0.0\",\n        }],\n [{\n            'v': 1442,\n            'f': \"1442\",\n        },\n\"2020-06\",\n\"Terrestre\",\n\"Chile\",\n{\n            'v': 0.0,\n            'f': \"0.0\",\n        }],\n [{\n            'v': 1443,\n            'f': \"1443\",\n        },\n\"2020-06\",\n\"Terrestre\",\n\"Paraguay\",\n{\n            'v': 0.0,\n            'f': \"0.0\",\n        }],\n [{\n            'v': 1444,\n            'f': \"1444\",\n        },\n\"2020-06\",\n\"Terrestre\",\n\"Uruguay\",\n{\n            'v': 0.0,\n            'f': \"0.0\",\n        }],\n [{\n            'v': 1445,\n            'f': \"1445\",\n        },\n\"2020-06\",\n\"Terrestre\",\n\"EE.UU. y Canad\\u00e1\",\n{\n            'v': 0.0,\n            'f': \"0.0\",\n        }],\n [{\n            'v': 1446,\n            'f': \"1446\",\n        },\n\"2020-06\",\n\"Terrestre\",\n\"Resto de Am\\u00e9rica\",\n{\n            'v': 0.0,\n            'f': \"0.0\",\n        }],\n [{\n            'v': 1447,\n            'f': \"1447\",\n        },\n\"2020-06\",\n\"Terrestre\",\n\"Europa\",\n{\n            'v': 0.0,\n            'f': \"0.0\",\n        }],\n [{\n            'v': 1448,\n            'f': \"1448\",\n        },\n\"2020-06\",\n\"Terrestre\",\n\"Resto del mundo\",\n{\n            'v': 0.0,\n            'f': \"0.0\",\n        }],\n [{\n            'v': 1449,\n            'f': \"1449\",\n        },\n\"2020-06\",\n\"Fluvial/Mar\\u00edtima\",\n\"Bolivia\",\n{\n            'v': 0.0,\n            'f': \"0.0\",\n        }],\n [{\n            'v': 1450,\n            'f': \"1450\",\n        },\n\"2020-06\",\n\"Fluvial/Mar\\u00edtima\",\n\"Brasil\",\n{\n            'v': 0.0,\n            'f': \"0.0\",\n        }],\n [{\n            'v': 1451,\n            'f': \"1451\",\n        },\n\"2020-06\",\n\"Fluvial/Mar\\u00edtima\",\n\"Chile\",\n{\n            'v': 0.0,\n            'f': \"0.0\",\n        }],\n [{\n            'v': 1452,\n            'f': \"1452\",\n        },\n\"2020-06\",\n\"Fluvial/Mar\\u00edtima\",\n\"Paraguay\",\n{\n            'v': 0.0,\n            'f': \"0.0\",\n        }],\n [{\n            'v': 1453,\n            'f': \"1453\",\n        },\n\"2020-06\",\n\"Fluvial/Mar\\u00edtima\",\n\"Uruguay\",\n{\n            'v': 0.0,\n            'f': \"0.0\",\n        }],\n [{\n            'v': 1454,\n            'f': \"1454\",\n        },\n\"2020-06\",\n\"Fluvial/Mar\\u00edtima\",\n\"EE.UU. y Canad\\u00e1\",\n{\n            'v': 0.0,\n            'f': \"0.0\",\n        }],\n [{\n            'v': 1455,\n            'f': \"1455\",\n        },\n\"2020-06\",\n\"Fluvial/Mar\\u00edtima\",\n\"Resto de Am\\u00e9rica\",\n{\n            'v': 0.0,\n            'f': \"0.0\",\n        }],\n [{\n            'v': 1456,\n            'f': \"1456\",\n        },\n\"2020-06\",\n\"Fluvial/Mar\\u00edtima\",\n\"Europa\",\n{\n            'v': 0.0,\n            'f': \"0.0\",\n        }],\n [{\n            'v': 1457,\n            'f': \"1457\",\n        },\n\"2020-06\",\n\"Fluvial/Mar\\u00edtima\",\n\"Resto del mundo\",\n{\n            'v': 0.0,\n            'f': \"0.0\",\n        }],\n [{\n            'v': 1458,\n            'f': \"1458\",\n        },\n\"2020-07\",\n\"A\\u00e9rea\",\n\"Bolivia\",\n{\n            'v': -178.3,\n            'f': \"-178.3\",\n        }],\n [{\n            'v': 1459,\n            'f': \"1459\",\n        },\n\"2020-07\",\n\"A\\u00e9rea\",\n\"Brasil\",\n{\n            'v': -130.2,\n            'f': \"-130.2\",\n        }],\n [{\n            'v': 1460,\n            'f': \"1460\",\n        },\n\"2020-07\",\n\"A\\u00e9rea\",\n\"Chile\",\n{\n            'v': -232.9,\n            'f': \"-232.9\",\n        }],\n [{\n            'v': 1461,\n            'f': \"1461\",\n        },\n\"2020-07\",\n\"A\\u00e9rea\",\n\"Paraguay\",\n{\n            'v': -217.0,\n            'f': \"-217.0\",\n        }],\n [{\n            'v': 1462,\n            'f': \"1462\",\n        },\n\"2020-07\",\n\"A\\u00e9rea\",\n\"Uruguay\",\n{\n            'v': -11.4,\n            'f': \"-11.4\",\n        }],\n [{\n            'v': 1463,\n            'f': \"1463\",\n        },\n\"2020-07\",\n\"A\\u00e9rea\",\n\"EE.UU. y Canad\\u00e1\",\n{\n            'v': -503.9,\n            'f': \"-503.9\",\n        }],\n [{\n            'v': 1464,\n            'f': \"1464\",\n        },\n\"2020-07\",\n\"A\\u00e9rea\",\n\"Resto de Am\\u00e9rica\",\n{\n            'v': -581.6,\n            'f': \"-581.6\",\n        }],\n [{\n            'v': 1465,\n            'f': \"1465\",\n        },\n\"2020-07\",\n\"A\\u00e9rea\",\n\"Europa\",\n{\n            'v': -763.8,\n            'f': \"-763.8\",\n        }],\n [{\n            'v': 1466,\n            'f': \"1466\",\n        },\n\"2020-07\",\n\"A\\u00e9rea\",\n\"Resto del mundo\",\n{\n            'v': 19.9,\n            'f': \"19.9\",\n        }],\n [{\n            'v': 1467,\n            'f': \"1467\",\n        },\n\"2020-07\",\n\"Terrestre\",\n\"Bolivia\",\n{\n            'v': -46.0,\n            'f': \"-46.0\",\n        }],\n [{\n            'v': 1468,\n            'f': \"1468\",\n        },\n\"2020-07\",\n\"Terrestre\",\n\"Brasil\",\n{\n            'v': -345.4,\n            'f': \"-345.4\",\n        }],\n [{\n            'v': 1469,\n            'f': \"1469\",\n        },\n\"2020-07\",\n\"Terrestre\",\n\"Chile\",\n{\n            'v': -88.6,\n            'f': \"-88.6\",\n        }],\n [{\n            'v': 1470,\n            'f': \"1470\",\n        },\n\"2020-07\",\n\"Terrestre\",\n\"Paraguay\",\n{\n            'v': -422.0,\n            'f': \"-422.0\",\n        }],\n [{\n            'v': 1471,\n            'f': \"1471\",\n        },\n\"2020-07\",\n\"Terrestre\",\n\"Uruguay\",\n{\n            'v': -354.0,\n            'f': \"-354.0\",\n        }],\n [{\n            'v': 1472,\n            'f': \"1472\",\n        },\n\"2020-07\",\n\"Terrestre\",\n\"EE.UU. y Canad\\u00e1\",\n{\n            'v': 2.0,\n            'f': \"2.0\",\n        }],\n [{\n            'v': 1473,\n            'f': \"1473\",\n        },\n\"2020-07\",\n\"Terrestre\",\n\"Resto de Am\\u00e9rica\",\n{\n            'v': 1.0,\n            'f': \"1.0\",\n        }],\n [{\n            'v': 1474,\n            'f': \"1474\",\n        },\n\"2020-07\",\n\"Terrestre\",\n\"Europa\",\n{\n            'v': 2.0,\n            'f': \"2.0\",\n        }],\n [{\n            'v': 1475,\n            'f': \"1475\",\n        },\n\"2020-07\",\n\"Terrestre\",\n\"Resto del mundo\",\n{\n            'v': 29.0,\n            'f': \"29.0\",\n        }],\n [{\n            'v': 1476,\n            'f': \"1476\",\n        },\n\"2020-07\",\n\"Fluvial/Mar\\u00edtima\",\n\"Bolivia\",\n{\n            'v': 0.0,\n            'f': \"0.0\",\n        }],\n [{\n            'v': 1477,\n            'f': \"1477\",\n        },\n\"2020-07\",\n\"Fluvial/Mar\\u00edtima\",\n\"Brasil\",\n{\n            'v': 6.0,\n            'f': \"6.0\",\n        }],\n [{\n            'v': 1478,\n            'f': \"1478\",\n        },\n\"2020-07\",\n\"Fluvial/Mar\\u00edtima\",\n\"Chile\",\n{\n            'v': 0.0,\n            'f': \"0.0\",\n        }],\n [{\n            'v': 1479,\n            'f': \"1479\",\n        },\n\"2020-07\",\n\"Fluvial/Mar\\u00edtima\",\n\"Paraguay\",\n{\n            'v': 1.0,\n            'f': \"1.0\",\n        }],\n [{\n            'v': 1480,\n            'f': \"1480\",\n        },\n\"2020-07\",\n\"Fluvial/Mar\\u00edtima\",\n\"Uruguay\",\n{\n            'v': -344.0,\n            'f': \"-344.0\",\n        }],\n [{\n            'v': 1481,\n            'f': \"1481\",\n        },\n\"2020-07\",\n\"Fluvial/Mar\\u00edtima\",\n\"EE.UU. y Canad\\u00e1\",\n{\n            'v': 0.0,\n            'f': \"0.0\",\n        }],\n [{\n            'v': 1482,\n            'f': \"1482\",\n        },\n\"2020-07\",\n\"Fluvial/Mar\\u00edtima\",\n\"Resto de Am\\u00e9rica\",\n{\n            'v': 1.0,\n            'f': \"1.0\",\n        }],\n [{\n            'v': 1483,\n            'f': \"1483\",\n        },\n\"2020-07\",\n\"Fluvial/Mar\\u00edtima\",\n\"Europa\",\n{\n            'v': 1.0,\n            'f': \"1.0\",\n        }],\n [{\n            'v': 1484,\n            'f': \"1484\",\n        },\n\"2020-07\",\n\"Fluvial/Mar\\u00edtima\",\n\"Resto del mundo\",\n{\n            'v': 5.0,\n            'f': \"5.0\",\n        }],\n [{\n            'v': 1485,\n            'f': \"1485\",\n        },\n\"2020-08\",\n\"A\\u00e9rea\",\n\"Bolivia\",\n{\n            'v': -91.4,\n            'f': \"-91.4\",\n        }],\n [{\n            'v': 1486,\n            'f': \"1486\",\n        },\n\"2020-08\",\n\"A\\u00e9rea\",\n\"Brasil\",\n{\n            'v': -286.0,\n            'f': \"-286.0\",\n        }],\n [{\n            'v': 1487,\n            'f': \"1487\",\n        },\n\"2020-08\",\n\"A\\u00e9rea\",\n\"Chile\",\n{\n            'v': -117.9,\n            'f': \"-117.9\",\n        }],\n [{\n            'v': 1488,\n            'f': \"1488\",\n        },\n\"2020-08\",\n\"A\\u00e9rea\",\n\"Paraguay\",\n{\n            'v': -94.0,\n            'f': \"-94.0\",\n        }],\n [{\n            'v': 1489,\n            'f': \"1489\",\n        },\n\"2020-08\",\n\"A\\u00e9rea\",\n\"Uruguay\",\n{\n            'v': -56.7,\n            'f': \"-56.7\",\n        }],\n [{\n            'v': 1490,\n            'f': \"1490\",\n        },\n\"2020-08\",\n\"A\\u00e9rea\",\n\"EE.UU. y Canad\\u00e1\",\n{\n            'v': -662.6,\n            'f': \"-662.6\",\n        }],\n [{\n            'v': 1491,\n            'f': \"1491\",\n        },\n\"2020-08\",\n\"A\\u00e9rea\",\n\"Resto de Am\\u00e9rica\",\n{\n            'v': 172.1,\n            'f': \"172.1\",\n        }],\n [{\n            'v': 1492,\n            'f': \"1492\",\n        },\n\"2020-08\",\n\"A\\u00e9rea\",\n\"Europa\",\n{\n            'v': -839.3,\n            'f': \"-839.3\",\n        }],\n [{\n            'v': 1493,\n            'f': \"1493\",\n        },\n\"2020-08\",\n\"A\\u00e9rea\",\n\"Resto del mundo\",\n{\n            'v': 9.8,\n            'f': \"9.8\",\n        }],\n [{\n            'v': 1494,\n            'f': \"1494\",\n        },\n\"2020-08\",\n\"Terrestre\",\n\"Bolivia\",\n{\n            'v': 257.0,\n            'f': \"257.0\",\n        }],\n [{\n            'v': 1495,\n            'f': \"1495\",\n        },\n\"2020-08\",\n\"Terrestre\",\n\"Brasil\",\n{\n            'v': -181.0,\n            'f': \"-181.0\",\n        }],\n [{\n            'v': 1496,\n            'f': \"1496\",\n        },\n\"2020-08\",\n\"Terrestre\",\n\"Chile\",\n{\n            'v': -158.0,\n            'f': \"-158.0\",\n        }],\n [{\n            'v': 1497,\n            'f': \"1497\",\n        },\n\"2020-08\",\n\"Terrestre\",\n\"Paraguay\",\n{\n            'v': 318.0,\n            'f': \"318.0\",\n        }],\n [{\n            'v': 1498,\n            'f': \"1498\",\n        },\n\"2020-08\",\n\"Terrestre\",\n\"Uruguay\",\n{\n            'v': -438.0,\n            'f': \"-438.0\",\n        }],\n [{\n            'v': 1499,\n            'f': \"1499\",\n        },\n\"2020-08\",\n\"Terrestre\",\n\"EE.UU. y Canad\\u00e1\",\n{\n            'v': 0.0,\n            'f': \"0.0\",\n        }],\n [{\n            'v': 1500,\n            'f': \"1500\",\n        },\n\"2020-08\",\n\"Terrestre\",\n\"Resto de Am\\u00e9rica\",\n{\n            'v': 1.0,\n            'f': \"1.0\",\n        }],\n [{\n            'v': 1501,\n            'f': \"1501\",\n        },\n\"2020-08\",\n\"Terrestre\",\n\"Europa\",\n{\n            'v': 6.0,\n            'f': \"6.0\",\n        }],\n [{\n            'v': 1502,\n            'f': \"1502\",\n        },\n\"2020-08\",\n\"Terrestre\",\n\"Resto del mundo\",\n{\n            'v': 2.0,\n            'f': \"2.0\",\n        }],\n [{\n            'v': 1503,\n            'f': \"1503\",\n        },\n\"2020-08\",\n\"Fluvial/Mar\\u00edtima\",\n\"Bolivia\",\n{\n            'v': 1.0,\n            'f': \"1.0\",\n        }],\n [{\n            'v': 1504,\n            'f': \"1504\",\n        },\n\"2020-08\",\n\"Fluvial/Mar\\u00edtima\",\n\"Brasil\",\n{\n            'v': 2.0,\n            'f': \"2.0\",\n        }],\n [{\n            'v': 1505,\n            'f': \"1505\",\n        },\n\"2020-08\",\n\"Fluvial/Mar\\u00edtima\",\n\"Chile\",\n{\n            'v': 0.0,\n            'f': \"0.0\",\n        }],\n [{\n            'v': 1506,\n            'f': \"1506\",\n        },\n\"2020-08\",\n\"Fluvial/Mar\\u00edtima\",\n\"Paraguay\",\n{\n            'v': -7.0,\n            'f': \"-7.0\",\n        }],\n [{\n            'v': 1507,\n            'f': \"1507\",\n        },\n\"2020-08\",\n\"Fluvial/Mar\\u00edtima\",\n\"Uruguay\",\n{\n            'v': -445.0,\n            'f': \"-445.0\",\n        }],\n [{\n            'v': 1508,\n            'f': \"1508\",\n        },\n\"2020-08\",\n\"Fluvial/Mar\\u00edtima\",\n\"EE.UU. y Canad\\u00e1\",\n{\n            'v': 4.0,\n            'f': \"4.0\",\n        }],\n [{\n            'v': 1509,\n            'f': \"1509\",\n        },\n\"2020-08\",\n\"Fluvial/Mar\\u00edtima\",\n\"Resto de Am\\u00e9rica\",\n{\n            'v': 2.0,\n            'f': \"2.0\",\n        }],\n [{\n            'v': 1510,\n            'f': \"1510\",\n        },\n\"2020-08\",\n\"Fluvial/Mar\\u00edtima\",\n\"Europa\",\n{\n            'v': 9.0,\n            'f': \"9.0\",\n        }],\n [{\n            'v': 1511,\n            'f': \"1511\",\n        },\n\"2020-08\",\n\"Fluvial/Mar\\u00edtima\",\n\"Resto del mundo\",\n{\n            'v': 6.0,\n            'f': \"6.0\",\n        }],\n [{\n            'v': 1512,\n            'f': \"1512\",\n        },\n\"2020-09\",\n\"A\\u00e9rea\",\n\"Bolivia\",\n{\n            'v': -387.0,\n            'f': \"-387.0\",\n        }],\n [{\n            'v': 1513,\n            'f': \"1513\",\n        },\n\"2020-09\",\n\"A\\u00e9rea\",\n\"Brasil\",\n{\n            'v': -628.4,\n            'f': \"-628.4\",\n        }],\n [{\n            'v': 1514,\n            'f': \"1514\",\n        },\n\"2020-09\",\n\"A\\u00e9rea\",\n\"Chile\",\n{\n            'v': -320.2,\n            'f': \"-320.2\",\n        }],\n [{\n            'v': 1515,\n            'f': \"1515\",\n        },\n\"2020-09\",\n\"A\\u00e9rea\",\n\"Paraguay\",\n{\n            'v': -370.4,\n            'f': \"-370.4\",\n        }],\n [{\n            'v': 1516,\n            'f': \"1516\",\n        },\n\"2020-09\",\n\"A\\u00e9rea\",\n\"Uruguay\",\n{\n            'v': -45.4,\n            'f': \"-45.4\",\n        }],\n [{\n            'v': 1517,\n            'f': \"1517\",\n        },\n\"2020-09\",\n\"A\\u00e9rea\",\n\"EE.UU. y Canad\\u00e1\",\n{\n            'v': -1602.7,\n            'f': \"-1602.7\",\n        }],\n [{\n            'v': 1518,\n            'f': \"1518\",\n        },\n\"2020-09\",\n\"A\\u00e9rea\",\n\"Resto de Am\\u00e9rica\",\n{\n            'v': -352.1,\n            'f': \"-352.1\",\n        }],\n [{\n            'v': 1519,\n            'f': \"1519\",\n        },\n\"2020-09\",\n\"A\\u00e9rea\",\n\"Europa\",\n{\n            'v': -2727.9,\n            'f': \"-2727.9\",\n        }],\n [{\n            'v': 1520,\n            'f': \"1520\",\n        },\n\"2020-09\",\n\"A\\u00e9rea\",\n\"Resto del mundo\",\n{\n            'v': 97.0,\n            'f': \"97.0\",\n        }],\n [{\n            'v': 1521,\n            'f': \"1521\",\n        },\n\"2020-09\",\n\"Terrestre\",\n\"Bolivia\",\n{\n            'v': 426.0,\n            'f': \"426.0\",\n        }],\n [{\n            'v': 1522,\n            'f': \"1522\",\n        },\n\"2020-09\",\n\"Terrestre\",\n\"Brasil\",\n{\n            'v': -190.0,\n            'f': \"-190.0\",\n        }],\n [{\n            'v': 1523,\n            'f': \"1523\",\n        },\n\"2020-09\",\n\"Terrestre\",\n\"Chile\",\n{\n            'v': -11.6,\n            'f': \"-11.6\",\n        }],\n [{\n            'v': 1524,\n            'f': \"1524\",\n        },\n\"2020-09\",\n\"Terrestre\",\n\"Paraguay\",\n{\n            'v': 525.0,\n            'f': \"525.0\",\n        }],\n [{\n            'v': 1525,\n            'f': \"1525\",\n        },\n\"2020-09\",\n\"Terrestre\",\n\"Uruguay\",\n{\n            'v': -615.0,\n            'f': \"-615.0\",\n        }],\n [{\n            'v': 1526,\n            'f': \"1526\",\n        },\n\"2020-09\",\n\"Terrestre\",\n\"EE.UU. y Canad\\u00e1\",\n{\n            'v': 5.0,\n            'f': \"5.0\",\n        }],\n [{\n            'v': 1527,\n            'f': \"1527\",\n        },\n\"2020-09\",\n\"Terrestre\",\n\"Resto de Am\\u00e9rica\",\n{\n            'v': 24.7,\n            'f': \"24.7\",\n        }],\n [{\n            'v': 1528,\n            'f': \"1528\",\n        },\n\"2020-09\",\n\"Terrestre\",\n\"Europa\",\n{\n            'v': 8.9,\n            'f': \"8.9\",\n        }],\n [{\n            'v': 1529,\n            'f': \"1529\",\n        },\n\"2020-09\",\n\"Terrestre\",\n\"Resto del mundo\",\n{\n            'v': 6.0,\n            'f': \"6.0\",\n        }],\n [{\n            'v': 1530,\n            'f': \"1530\",\n        },\n\"2020-09\",\n\"Fluvial/Mar\\u00edtima\",\n\"Bolivia\",\n{\n            'v': 2.0,\n            'f': \"2.0\",\n        }],\n [{\n            'v': 1531,\n            'f': \"1531\",\n        },\n\"2020-09\",\n\"Fluvial/Mar\\u00edtima\",\n\"Brasil\",\n{\n            'v': 6.0,\n            'f': \"6.0\",\n        }],\n [{\n            'v': 1532,\n            'f': \"1532\",\n        },\n\"2020-09\",\n\"Fluvial/Mar\\u00edtima\",\n\"Chile\",\n{\n            'v': 1.0,\n            'f': \"1.0\",\n        }],\n [{\n            'v': 1533,\n            'f': \"1533\",\n        },\n\"2020-09\",\n\"Fluvial/Mar\\u00edtima\",\n\"Paraguay\",\n{\n            'v': 0.0,\n            'f': \"0.0\",\n        }],\n [{\n            'v': 1534,\n            'f': \"1534\",\n        },\n\"2020-09\",\n\"Fluvial/Mar\\u00edtima\",\n\"Uruguay\",\n{\n            'v': -616.0,\n            'f': \"-616.0\",\n        }],\n [{\n            'v': 1535,\n            'f': \"1535\",\n        },\n\"2020-09\",\n\"Fluvial/Mar\\u00edtima\",\n\"EE.UU. y Canad\\u00e1\",\n{\n            'v': 3.0,\n            'f': \"3.0\",\n        }],\n [{\n            'v': 1536,\n            'f': \"1536\",\n        },\n\"2020-09\",\n\"Fluvial/Mar\\u00edtima\",\n\"Resto de Am\\u00e9rica\",\n{\n            'v': 5.0,\n            'f': \"5.0\",\n        }],\n [{\n            'v': 1537,\n            'f': \"1537\",\n        },\n\"2020-09\",\n\"Fluvial/Mar\\u00edtima\",\n\"Europa\",\n{\n            'v': 7.0,\n            'f': \"7.0\",\n        }],\n [{\n            'v': 1538,\n            'f': \"1538\",\n        },\n\"2020-09\",\n\"Fluvial/Mar\\u00edtima\",\n\"Resto del mundo\",\n{\n            'v': 25.0,\n            'f': \"25.0\",\n        }],\n [{\n            'v': 1539,\n            'f': \"1539\",\n        },\n\"2020-10\",\n\"A\\u00e9rea\",\n\"Bolivia\",\n{\n            'v': -1052.0,\n            'f': \"-1052.0\",\n        }],\n [{\n            'v': 1540,\n            'f': \"1540\",\n        },\n\"2020-10\",\n\"A\\u00e9rea\",\n\"Brasil\",\n{\n            'v': -1021.0,\n            'f': \"-1021.0\",\n        }],\n [{\n            'v': 1541,\n            'f': \"1541\",\n        },\n\"2020-10\",\n\"A\\u00e9rea\",\n\"Chile\",\n{\n            'v': -604.0,\n            'f': \"-604.0\",\n        }],\n [{\n            'v': 1542,\n            'f': \"1542\",\n        },\n\"2020-10\",\n\"A\\u00e9rea\",\n\"Paraguay\",\n{\n            'v': -285.0,\n            'f': \"-285.0\",\n        }],\n [{\n            'v': 1543,\n            'f': \"1543\",\n        },\n\"2020-10\",\n\"A\\u00e9rea\",\n\"Uruguay\",\n{\n            'v': -137.0,\n            'f': \"-137.0\",\n        }],\n [{\n            'v': 1544,\n            'f': \"1544\",\n        },\n\"2020-10\",\n\"A\\u00e9rea\",\n\"EE.UU. y Canad\\u00e1\",\n{\n            'v': -4297.0,\n            'f': \"-4297.0\",\n        }],\n [{\n            'v': 1545,\n            'f': \"1545\",\n        },\n\"2020-10\",\n\"A\\u00e9rea\",\n\"Resto de Am\\u00e9rica\",\n{\n            'v': -843.0,\n            'f': \"-843.0\",\n        }],\n [{\n            'v': 1546,\n            'f': \"1546\",\n        },\n\"2020-10\",\n\"A\\u00e9rea\",\n\"Europa\",\n{\n            'v': -3488.0,\n            'f': \"-3488.0\",\n        }],\n [{\n            'v': 1547,\n            'f': \"1547\",\n        },\n\"2020-10\",\n\"A\\u00e9rea\",\n\"Resto del mundo\",\n{\n            'v': 121.0,\n            'f': \"121.0\",\n        }],\n [{\n            'v': 1548,\n            'f': \"1548\",\n        },\n\"2020-10\",\n\"Terrestre\",\n\"Bolivia\",\n{\n            'v': 272.0,\n            'f': \"272.0\",\n        }],\n [{\n            'v': 1549,\n            'f': \"1549\",\n        },\n\"2020-10\",\n\"Terrestre\",\n\"Brasil\",\n{\n            'v': -245.0,\n            'f': \"-245.0\",\n        }],\n [{\n            'v': 1550,\n            'f': \"1550\",\n        },\n\"2020-10\",\n\"Terrestre\",\n\"Chile\",\n{\n            'v': -206.7,\n            'f': \"-206.7\",\n        }],\n [{\n            'v': 1551,\n            'f': \"1551\",\n        },\n\"2020-10\",\n\"Terrestre\",\n\"Paraguay\",\n{\n            'v': 416.0,\n            'f': \"416.0\",\n        }],\n [{\n            'v': 1552,\n            'f': \"1552\",\n        },\n\"2020-10\",\n\"Terrestre\",\n\"Uruguay\",\n{\n            'v': -1051.0,\n            'f': \"-1051.0\",\n        }],\n [{\n            'v': 1553,\n            'f': \"1553\",\n        },\n\"2020-10\",\n\"Terrestre\",\n\"EE.UU. y Canad\\u00e1\",\n{\n            'v': 2.0,\n            'f': \"2.0\",\n        }],\n [{\n            'v': 1554,\n            'f': \"1554\",\n        },\n\"2020-10\",\n\"Terrestre\",\n\"Resto de Am\\u00e9rica\",\n{\n            'v': 30.8,\n            'f': \"30.8\",\n        }],\n [{\n            'v': 1555,\n            'f': \"1555\",\n        },\n\"2020-10\",\n\"Terrestre\",\n\"Europa\",\n{\n            'v': 7.9,\n            'f': \"7.9\",\n        }],\n [{\n            'v': 1556,\n            'f': \"1556\",\n        },\n\"2020-10\",\n\"Terrestre\",\n\"Resto del mundo\",\n{\n            'v': 1.0,\n            'f': \"1.0\",\n        }],\n [{\n            'v': 1557,\n            'f': \"1557\",\n        },\n\"2020-10\",\n\"Fluvial/Mar\\u00edtima\",\n\"Bolivia\",\n{\n            'v': 0.0,\n            'f': \"0.0\",\n        }],\n [{\n            'v': 1558,\n            'f': \"1558\",\n        },\n\"2020-10\",\n\"Fluvial/Mar\\u00edtima\",\n\"Brasil\",\n{\n            'v': 2.0,\n            'f': \"2.0\",\n        }],\n [{\n            'v': 1559,\n            'f': \"1559\",\n        },\n\"2020-10\",\n\"Fluvial/Mar\\u00edtima\",\n\"Chile\",\n{\n            'v': 0.0,\n            'f': \"0.0\",\n        }],\n [{\n            'v': 1560,\n            'f': \"1560\",\n        },\n\"2020-10\",\n\"Fluvial/Mar\\u00edtima\",\n\"Paraguay\",\n{\n            'v': 0.0,\n            'f': \"0.0\",\n        }],\n [{\n            'v': 1561,\n            'f': \"1561\",\n        },\n\"2020-10\",\n\"Fluvial/Mar\\u00edtima\",\n\"Uruguay\",\n{\n            'v': -1118.0,\n            'f': \"-1118.0\",\n        }],\n [{\n            'v': 1562,\n            'f': \"1562\",\n        },\n\"2020-10\",\n\"Fluvial/Mar\\u00edtima\",\n\"EE.UU. y Canad\\u00e1\",\n{\n            'v': 1.0,\n            'f': \"1.0\",\n        }],\n [{\n            'v': 1563,\n            'f': \"1563\",\n        },\n\"2020-10\",\n\"Fluvial/Mar\\u00edtima\",\n\"Resto de Am\\u00e9rica\",\n{\n            'v': 7.0,\n            'f': \"7.0\",\n        }],\n [{\n            'v': 1564,\n            'f': \"1564\",\n        },\n\"2020-10\",\n\"Fluvial/Mar\\u00edtima\",\n\"Europa\",\n{\n            'v': 4.0,\n            'f': \"4.0\",\n        }],\n [{\n            'v': 1565,\n            'f': \"1565\",\n        },\n\"2020-10\",\n\"Fluvial/Mar\\u00edtima\",\n\"Resto del mundo\",\n{\n            'v': 3.0,\n            'f': \"3.0\",\n        }],\n [{\n            'v': 1566,\n            'f': \"1566\",\n        },\n\"2020-11\",\n\"A\\u00e9rea\",\n\"Bolivia\",\n{\n            'v': -1243.6,\n            'f': \"-1243.6\",\n        }],\n [{\n            'v': 1567,\n            'f': \"1567\",\n        },\n\"2020-11\",\n\"A\\u00e9rea\",\n\"Brasil\",\n{\n            'v': -2463.0,\n            'f': \"-2463.0\",\n        }],\n [{\n            'v': 1568,\n            'f': \"1568\",\n        },\n\"2020-11\",\n\"A\\u00e9rea\",\n\"Chile\",\n{\n            'v': -1736.5,\n            'f': \"-1736.5\",\n        }],\n [{\n            'v': 1569,\n            'f': \"1569\",\n        },\n\"2020-11\",\n\"A\\u00e9rea\",\n\"Paraguay\",\n{\n            'v': -630.1,\n            'f': \"-630.1\",\n        }],\n [{\n            'v': 1570,\n            'f': \"1570\",\n        },\n\"2020-11\",\n\"A\\u00e9rea\",\n\"Uruguay\",\n{\n            'v': -256.9,\n            'f': \"-256.9\",\n        }],\n [{\n            'v': 1571,\n            'f': \"1571\",\n        },\n\"2020-11\",\n\"A\\u00e9rea\",\n\"EE.UU. y Canad\\u00e1\",\n{\n            'v': -8368.4,\n            'f': \"-8368.4\",\n        }],\n [{\n            'v': 1572,\n            'f': \"1572\",\n        },\n\"2020-11\",\n\"A\\u00e9rea\",\n\"Resto de Am\\u00e9rica\",\n{\n            'v': -2185.2,\n            'f': \"-2185.2\",\n        }],\n [{\n            'v': 1573,\n            'f': \"1573\",\n        },\n\"2020-11\",\n\"A\\u00e9rea\",\n\"Europa\",\n{\n            'v': -4518.2,\n            'f': \"-4518.2\",\n        }],\n [{\n            'v': 1574,\n            'f': \"1574\",\n        },\n\"2020-11\",\n\"A\\u00e9rea\",\n\"Resto del mundo\",\n{\n            'v': 142.8,\n            'f': \"142.8\",\n        }],\n [{\n            'v': 1575,\n            'f': \"1575\",\n        },\n\"2020-11\",\n\"Terrestre\",\n\"Bolivia\",\n{\n            'v': -90.0,\n            'f': \"-90.0\",\n        }],\n [{\n            'v': 1576,\n            'f': \"1576\",\n        },\n\"2020-11\",\n\"Terrestre\",\n\"Brasil\",\n{\n            'v': -398.0,\n            'f': \"-398.0\",\n        }],\n [{\n            'v': 1577,\n            'f': \"1577\",\n        },\n\"2020-11\",\n\"Terrestre\",\n\"Chile\",\n{\n            'v': -444.2,\n            'f': \"-444.2\",\n        }],\n [{\n            'v': 1578,\n            'f': \"1578\",\n        },\n\"2020-11\",\n\"Terrestre\",\n\"Paraguay\",\n{\n            'v': 1020.0,\n            'f': \"1020.0\",\n        }],\n [{\n            'v': 1579,\n            'f': \"1579\",\n        },\n\"2020-11\",\n\"Terrestre\",\n\"Uruguay\",\n{\n            'v': -1485.0,\n            'f': \"-1485.0\",\n        }],\n [{\n            'v': 1580,\n            'f': \"1580\",\n        },\n\"2020-11\",\n\"Terrestre\",\n\"EE.UU. y Canad\\u00e1\",\n{\n            'v': 4.0,\n            'f': \"4.0\",\n        }],\n [{\n            'v': 1581,\n            'f': \"1581\",\n        },\n\"2020-11\",\n\"Terrestre\",\n\"Resto de Am\\u00e9rica\",\n{\n            'v': 51.1,\n            'f': \"51.1\",\n        }],\n [{\n            'v': 1582,\n            'f': \"1582\",\n        },\n\"2020-11\",\n\"Terrestre\",\n\"Europa\",\n{\n            'v': 17.0,\n            'f': \"17.0\",\n        }],\n [{\n            'v': 1583,\n            'f': \"1583\",\n        },\n\"2020-11\",\n\"Terrestre\",\n\"Resto del mundo\",\n{\n            'v': 2.0,\n            'f': \"2.0\",\n        }],\n [{\n            'v': 1584,\n            'f': \"1584\",\n        },\n\"2020-11\",\n\"Fluvial/Mar\\u00edtima\",\n\"Bolivia\",\n{\n            'v': 1.0,\n            'f': \"1.0\",\n        }],\n [{\n            'v': 1585,\n            'f': \"1585\",\n        },\n\"2020-11\",\n\"Fluvial/Mar\\u00edtima\",\n\"Brasil\",\n{\n            'v': 4.0,\n            'f': \"4.0\",\n        }],\n [{\n            'v': 1586,\n            'f': \"1586\",\n        },\n\"2020-11\",\n\"Fluvial/Mar\\u00edtima\",\n\"Chile\",\n{\n            'v': 6.0,\n            'f': \"6.0\",\n        }],\n [{\n            'v': 1587,\n            'f': \"1587\",\n        },\n\"2020-11\",\n\"Fluvial/Mar\\u00edtima\",\n\"Paraguay\",\n{\n            'v': 4.0,\n            'f': \"4.0\",\n        }],\n [{\n            'v': 1588,\n            'f': \"1588\",\n        },\n\"2020-11\",\n\"Fluvial/Mar\\u00edtima\",\n\"Uruguay\",\n{\n            'v': -1262.0,\n            'f': \"-1262.0\",\n        }],\n [{\n            'v': 1589,\n            'f': \"1589\",\n        },\n\"2020-11\",\n\"Fluvial/Mar\\u00edtima\",\n\"EE.UU. y Canad\\u00e1\",\n{\n            'v': 2.0,\n            'f': \"2.0\",\n        }],\n [{\n            'v': 1590,\n            'f': \"1590\",\n        },\n\"2020-11\",\n\"Fluvial/Mar\\u00edtima\",\n\"Resto de Am\\u00e9rica\",\n{\n            'v': 7.0,\n            'f': \"7.0\",\n        }],\n [{\n            'v': 1591,\n            'f': \"1591\",\n        },\n\"2020-11\",\n\"Fluvial/Mar\\u00edtima\",\n\"Europa\",\n{\n            'v': 17.0,\n            'f': \"17.0\",\n        }],\n [{\n            'v': 1592,\n            'f': \"1592\",\n        },\n\"2020-11\",\n\"Fluvial/Mar\\u00edtima\",\n\"Resto del mundo\",\n{\n            'v': 1.0,\n            'f': \"1.0\",\n        }],\n [{\n            'v': 1593,\n            'f': \"1593\",\n        },\n\"2020-12\",\n\"A\\u00e9rea\",\n\"Bolivia\",\n{\n            'v': -1621.9,\n            'f': \"-1621.9\",\n        }],\n [{\n            'v': 1594,\n            'f': \"1594\",\n        },\n\"2020-12\",\n\"A\\u00e9rea\",\n\"Brasil\",\n{\n            'v': -2307.7,\n            'f': \"-2307.7\",\n        }],\n [{\n            'v': 1595,\n            'f': \"1595\",\n        },\n\"2020-12\",\n\"A\\u00e9rea\",\n\"Chile\",\n{\n            'v': -4119.9,\n            'f': \"-4119.9\",\n        }],\n [{\n            'v': 1596,\n            'f': \"1596\",\n        },\n\"2020-12\",\n\"A\\u00e9rea\",\n\"Paraguay\",\n{\n            'v': -3908.2,\n            'f': \"-3908.2\",\n        }],\n [{\n            'v': 1597,\n            'f': \"1597\",\n        },\n\"2020-12\",\n\"A\\u00e9rea\",\n\"Uruguay\",\n{\n            'v': -121.2,\n            'f': \"-121.2\",\n        }],\n [{\n            'v': 1598,\n            'f': \"1598\",\n        },\n\"2020-12\",\n\"A\\u00e9rea\",\n\"EE.UU. y Canad\\u00e1\",\n{\n            'v': -11674.2,\n            'f': \"-11674.2\",\n        }],\n [{\n            'v': 1599,\n            'f': \"1599\",\n        },\n\"2020-12\",\n\"A\\u00e9rea\",\n\"Resto de Am\\u00e9rica\",\n{\n            'v': -5644.8,\n            'f': \"-5644.8\",\n        }],\n [{\n            'v': 1600,\n            'f': \"1600\",\n        },\n\"2020-12\",\n\"A\\u00e9rea\",\n\"Europa\",\n{\n            'v': -8402.2,\n            'f': \"-8402.2\",\n        }],\n [{\n            'v': 1601,\n            'f': \"1601\",\n        },\n\"2020-12\",\n\"A\\u00e9rea\",\n\"Resto del mundo\",\n{\n            'v': 184.0,\n            'f': \"184.0\",\n        }],\n [{\n            'v': 1602,\n            'f': \"1602\",\n        },\n\"2020-12\",\n\"Terrestre\",\n\"Bolivia\",\n{\n            'v': -80.9,\n            'f': \"-80.9\",\n        }],\n [{\n            'v': 1603,\n            'f': \"1603\",\n        },\n\"2020-12\",\n\"Terrestre\",\n\"Brasil\",\n{\n            'v': -577.0,\n            'f': \"-577.0\",\n        }],\n [{\n            'v': 1604,\n            'f': \"1604\",\n        },\n\"2020-12\",\n\"Terrestre\",\n\"Chile\",\n{\n            'v': -2631.3,\n            'f': \"-2631.3\",\n        }],\n [{\n            'v': 1605,\n            'f': \"1605\",\n        },\n\"2020-12\",\n\"Terrestre\",\n\"Paraguay\",\n{\n            'v': 1054.0,\n            'f': \"1054.0\",\n        }],\n [{\n            'v': 1606,\n            'f': \"1606\",\n        },\n\"2020-12\",\n\"Terrestre\",\n\"Uruguay\",\n{\n            'v': -2380.9,\n            'f': \"-2380.9\",\n        }],\n [{\n            'v': 1607,\n            'f': \"1607\",\n        },\n\"2020-12\",\n\"Terrestre\",\n\"EE.UU. y Canad\\u00e1\",\n{\n            'v': 6.0,\n            'f': \"6.0\",\n        }],\n [{\n            'v': 1608,\n            'f': \"1608\",\n        },\n\"2020-12\",\n\"Terrestre\",\n\"Resto de Am\\u00e9rica\",\n{\n            'v': 58.1,\n            'f': \"58.1\",\n        }],\n [{\n            'v': 1609,\n            'f': \"1609\",\n        },\n\"2020-12\",\n\"Terrestre\",\n\"Europa\",\n{\n            'v': 16.1,\n            'f': \"16.1\",\n        }],\n [{\n            'v': 1610,\n            'f': \"1610\",\n        },\n\"2020-12\",\n\"Terrestre\",\n\"Resto del mundo\",\n{\n            'v': 3.0,\n            'f': \"3.0\",\n        }],\n [{\n            'v': 1611,\n            'f': \"1611\",\n        },\n\"2020-12\",\n\"Fluvial/Mar\\u00edtima\",\n\"Bolivia\",\n{\n            'v': 1.0,\n            'f': \"1.0\",\n        }],\n [{\n            'v': 1612,\n            'f': \"1612\",\n        },\n\"2020-12\",\n\"Fluvial/Mar\\u00edtima\",\n\"Brasil\",\n{\n            'v': 4.0,\n            'f': \"4.0\",\n        }],\n [{\n            'v': 1613,\n            'f': \"1613\",\n        },\n\"2020-12\",\n\"Fluvial/Mar\\u00edtima\",\n\"Chile\",\n{\n            'v': 8.0,\n            'f': \"8.0\",\n        }],\n [{\n            'v': 1614,\n            'f': \"1614\",\n        },\n\"2020-12\",\n\"Fluvial/Mar\\u00edtima\",\n\"Paraguay\",\n{\n            'v': 6.0,\n            'f': \"6.0\",\n        }],\n [{\n            'v': 1615,\n            'f': \"1615\",\n        },\n\"2020-12\",\n\"Fluvial/Mar\\u00edtima\",\n\"Uruguay\",\n{\n            'v': -1923.0,\n            'f': \"-1923.0\",\n        }],\n [{\n            'v': 1616,\n            'f': \"1616\",\n        },\n\"2020-12\",\n\"Fluvial/Mar\\u00edtima\",\n\"EE.UU. y Canad\\u00e1\",\n{\n            'v': 6.0,\n            'f': \"6.0\",\n        }],\n [{\n            'v': 1617,\n            'f': \"1617\",\n        },\n\"2020-12\",\n\"Fluvial/Mar\\u00edtima\",\n\"Resto de Am\\u00e9rica\",\n{\n            'v': 6.0,\n            'f': \"6.0\",\n        }],\n [{\n            'v': 1618,\n            'f': \"1618\",\n        },\n\"2020-12\",\n\"Fluvial/Mar\\u00edtima\",\n\"Europa\",\n{\n            'v': 24.0,\n            'f': \"24.0\",\n        }],\n [{\n            'v': 1619,\n            'f': \"1619\",\n        },\n\"2020-12\",\n\"Fluvial/Mar\\u00edtima\",\n\"Resto del mundo\",\n{\n            'v': 2.0,\n            'f': \"2.0\",\n        }],\n [{\n            'v': 1620,\n            'f': \"1620\",\n        },\n\"2021-01\",\n\"A\\u00e9rea\",\n\"Bolivia\",\n{\n            'v': -659.0,\n            'f': \"-659.0\",\n        }],\n [{\n            'v': 1621,\n            'f': \"1621\",\n        },\n\"2021-01\",\n\"A\\u00e9rea\",\n\"Brasil\",\n{\n            'v': -8941.9,\n            'f': \"-8941.9\",\n        }],\n [{\n            'v': 1622,\n            'f': \"1622\",\n        },\n\"2021-01\",\n\"A\\u00e9rea\",\n\"Chile\",\n{\n            'v': -3765.5,\n            'f': \"-3765.5\",\n        }],\n [{\n            'v': 1623,\n            'f': \"1623\",\n        },\n\"2021-01\",\n\"A\\u00e9rea\",\n\"Paraguay\",\n{\n            'v': -1872.2,\n            'f': \"-1872.2\",\n        }],\n [{\n            'v': 1624,\n            'f': \"1624\",\n        },\n\"2021-01\",\n\"A\\u00e9rea\",\n\"Uruguay\",\n{\n            'v': -114.6,\n            'f': \"-114.6\",\n        }],\n [{\n            'v': 1625,\n            'f': \"1625\",\n        },\n\"2021-01\",\n\"A\\u00e9rea\",\n\"EE.UU. y Canad\\u00e1\",\n{\n            'v': -11943.1,\n            'f': \"-11943.1\",\n        }],\n [{\n            'v': 1626,\n            'f': \"1626\",\n        },\n\"2021-01\",\n\"A\\u00e9rea\",\n\"Resto de Am\\u00e9rica\",\n{\n            'v': -13979.4,\n            'f': \"-13979.4\",\n        }],\n [{\n            'v': 1627,\n            'f': \"1627\",\n        },\n\"2021-01\",\n\"A\\u00e9rea\",\n\"Europa\",\n{\n            'v': 4211.0,\n            'f': \"4211.0\",\n        }],\n [{\n            'v': 1628,\n            'f': \"1628\",\n        },\n\"2021-01\",\n\"A\\u00e9rea\",\n\"Resto del mundo\",\n{\n            'v': -1150.2,\n            'f': \"-1150.2\",\n        }],\n [{\n            'v': 1629,\n            'f': \"1629\",\n        },\n\"2021-01\",\n\"Terrestre\",\n\"Bolivia\",\n{\n            'v': -59.0,\n            'f': \"-59.0\",\n        }],\n [{\n            'v': 1630,\n            'f': \"1630\",\n        },\n\"2021-01\",\n\"Terrestre\",\n\"Brasil\",\n{\n            'v': -835.0,\n            'f': \"-835.0\",\n        }],\n [{\n            'v': 1631,\n            'f': \"1631\",\n        },\n\"2021-01\",\n\"Terrestre\",\n\"Chile\",\n{\n            'v': -443.2,\n            'f': \"-443.2\",\n        }],\n [{\n            'v': 1632,\n            'f': \"1632\",\n        },\n\"2021-01\",\n\"Terrestre\",\n\"Paraguay\",\n{\n            'v': 436.0,\n            'f': \"436.0\",\n        }],\n [{\n            'v': 1633,\n            'f': \"1633\",\n        },\n\"2021-01\",\n\"Terrestre\",\n\"Uruguay\",\n{\n            'v': -1225.0,\n            'f': \"-1225.0\",\n        }],\n [{\n            'v': 1634,\n            'f': \"1634\",\n        },\n\"2021-01\",\n\"Terrestre\",\n\"EE.UU. y Canad\\u00e1\",\n{\n            'v': 10.8,\n            'f': \"10.8\",\n        }],\n [{\n            'v': 1635,\n            'f': \"1635\",\n        },\n\"2021-01\",\n\"Terrestre\",\n\"Resto de Am\\u00e9rica\",\n{\n            'v': 23.7,\n            'f': \"23.7\",\n        }],\n [{\n            'v': 1636,\n            'f': \"1636\",\n        },\n\"2021-01\",\n\"Terrestre\",\n\"Europa\",\n{\n            'v': 12.8,\n            'f': \"12.8\",\n        }],\n [{\n            'v': 1637,\n            'f': \"1637\",\n        },\n\"2021-01\",\n\"Terrestre\",\n\"Resto del mundo\",\n{\n            'v': 0.0,\n            'f': \"0.0\",\n        }],\n [{\n            'v': 1638,\n            'f': \"1638\",\n        },\n\"2021-01\",\n\"Fluvial/Mar\\u00edtima\",\n\"Bolivia\",\n{\n            'v': 5.0,\n            'f': \"5.0\",\n        }],\n [{\n            'v': 1639,\n            'f': \"1639\",\n        },\n\"2021-01\",\n\"Fluvial/Mar\\u00edtima\",\n\"Brasil\",\n{\n            'v': 1.0,\n            'f': \"1.0\",\n        }],\n [{\n            'v': 1640,\n            'f': \"1640\",\n        },\n\"2021-01\",\n\"Fluvial/Mar\\u00edtima\",\n\"Chile\",\n{\n            'v': 2.0,\n            'f': \"2.0\",\n        }],\n [{\n            'v': 1641,\n            'f': \"1641\",\n        },\n\"2021-01\",\n\"Fluvial/Mar\\u00edtima\",\n\"Paraguay\",\n{\n            'v': 2.0,\n            'f': \"2.0\",\n        }],\n [{\n            'v': 1642,\n            'f': \"1642\",\n        },\n\"2021-01\",\n\"Fluvial/Mar\\u00edtima\",\n\"Uruguay\",\n{\n            'v': -1436.0,\n            'f': \"-1436.0\",\n        }],\n [{\n            'v': 1643,\n            'f': \"1643\",\n        },\n\"2021-01\",\n\"Fluvial/Mar\\u00edtima\",\n\"EE.UU. y Canad\\u00e1\",\n{\n            'v': 2.0,\n            'f': \"2.0\",\n        }],\n [{\n            'v': 1644,\n            'f': \"1644\",\n        },\n\"2021-01\",\n\"Fluvial/Mar\\u00edtima\",\n\"Resto de Am\\u00e9rica\",\n{\n            'v': 5.0,\n            'f': \"5.0\",\n        }],\n [{\n            'v': 1645,\n            'f': \"1645\",\n        },\n\"2021-01\",\n\"Fluvial/Mar\\u00edtima\",\n\"Europa\",\n{\n            'v': 17.0,\n            'f': \"17.0\",\n        }],\n [{\n            'v': 1646,\n            'f': \"1646\",\n        },\n\"2021-01\",\n\"Fluvial/Mar\\u00edtima\",\n\"Resto del mundo\",\n{\n            'v': 0.0,\n            'f': \"0.0\",\n        }],\n [{\n            'v': 1647,\n            'f': \"1647\",\n        },\n\"2021-02\",\n\"A\\u00e9rea\",\n\"Bolivia\",\n{\n            'v': -2637.0,\n            'f': \"-2637.0\",\n        }],\n [{\n            'v': 1648,\n            'f': \"1648\",\n        },\n\"2021-02\",\n\"A\\u00e9rea\",\n\"Brasil\",\n{\n            'v': -7025.2,\n            'f': \"-7025.2\",\n        }],\n [{\n            'v': 1649,\n            'f': \"1649\",\n        },\n\"2021-02\",\n\"A\\u00e9rea\",\n\"Chile\",\n{\n            'v': -3727.2,\n            'f': \"-3727.2\",\n        }],\n [{\n            'v': 1650,\n            'f': \"1650\",\n        },\n\"2021-02\",\n\"A\\u00e9rea\",\n\"Paraguay\",\n{\n            'v': -2700.2,\n            'f': \"-2700.2\",\n        }],\n [{\n            'v': 1651,\n            'f': \"1651\",\n        },\n\"2021-02\",\n\"A\\u00e9rea\",\n\"Uruguay\",\n{\n            'v': -185.5,\n            'f': \"-185.5\",\n        }],\n [{\n            'v': 1652,\n            'f': \"1652\",\n        },\n\"2021-02\",\n\"A\\u00e9rea\",\n\"EE.UU. y Canad\\u00e1\",\n{\n            'v': -12969.1,\n            'f': \"-12969.1\",\n        }],\n [{\n            'v': 1653,\n            'f': \"1653\",\n        },\n\"2021-02\",\n\"A\\u00e9rea\",\n\"Resto de Am\\u00e9rica\",\n{\n            'v': -17568.9,\n            'f': \"-17568.9\",\n        }],\n [{\n            'v': 1654,\n            'f': \"1654\",\n        },\n\"2021-02\",\n\"A\\u00e9rea\",\n\"Europa\",\n{\n            'v': 598.9,\n            'f': \"598.9\",\n        }],\n [{\n            'v': 1655,\n            'f': \"1655\",\n        },\n\"2021-02\",\n\"A\\u00e9rea\",\n\"Resto del mundo\",\n{\n            'v': -437.0,\n            'f': \"-437.0\",\n        }],\n [{\n            'v': 1656,\n            'f': \"1656\",\n        },\n\"2021-02\",\n\"Terrestre\",\n\"Bolivia\",\n{\n            'v': -103.0,\n            'f': \"-103.0\",\n        }],\n [{\n            'v': 1657,\n            'f': \"1657\",\n        },\n\"2021-02\",\n\"Terrestre\",\n\"Brasil\",\n{\n            'v': -757.0,\n            'f': \"-757.0\",\n        }],\n [{\n            'v': 1658,\n            'f': \"1658\",\n        },\n\"2021-02\",\n\"Terrestre\",\n\"Chile\",\n{\n            'v': -634.1,\n            'f': \"-634.1\",\n        }],\n [{\n            'v': 1659,\n            'f': \"1659\",\n        },\n\"2021-02\",\n\"Terrestre\",\n\"Paraguay\",\n{\n            'v': 182.0,\n            'f': \"182.0\",\n        }],\n [{\n            'v': 1660,\n            'f': \"1660\",\n        },\n\"2021-02\",\n\"Terrestre\",\n\"Uruguay\",\n{\n            'v': -660.0,\n            'f': \"-660.0\",\n        }],\n [{\n            'v': 1661,\n            'f': \"1661\",\n        },\n\"2021-02\",\n\"Terrestre\",\n\"EE.UU. y Canad\\u00e1\",\n{\n            'v': 7.0,\n            'f': \"7.0\",\n        }],\n [{\n            'v': 1662,\n            'f': \"1662\",\n        },\n\"2021-02\",\n\"Terrestre\",\n\"Resto de Am\\u00e9rica\",\n{\n            'v': 20.0,\n            'f': \"20.0\",\n        }],\n [{\n            'v': 1663,\n            'f': \"1663\",\n        },\n\"2021-02\",\n\"Terrestre\",\n\"Europa\",\n{\n            'v': 22.0,\n            'f': \"22.0\",\n        }],\n [{\n            'v': 1664,\n            'f': \"1664\",\n        },\n\"2021-02\",\n\"Terrestre\",\n\"Resto del mundo\",\n{\n            'v': 8.0,\n            'f': \"8.0\",\n        }],\n [{\n            'v': 1665,\n            'f': \"1665\",\n        },\n\"2021-02\",\n\"Fluvial/Mar\\u00edtima\",\n\"Bolivia\",\n{\n            'v': 1.0,\n            'f': \"1.0\",\n        }],\n [{\n            'v': 1666,\n            'f': \"1666\",\n        },\n\"2021-02\",\n\"Fluvial/Mar\\u00edtima\",\n\"Brasil\",\n{\n            'v': 3.0,\n            'f': \"3.0\",\n        }],\n [{\n            'v': 1667,\n            'f': \"1667\",\n        },\n\"2021-02\",\n\"Fluvial/Mar\\u00edtima\",\n\"Chile\",\n{\n            'v': 1.0,\n            'f': \"1.0\",\n        }],\n [{\n            'v': 1668,\n            'f': \"1668\",\n        },\n\"2021-02\",\n\"Fluvial/Mar\\u00edtima\",\n\"Paraguay\",\n{\n            'v': 1.0,\n            'f': \"1.0\",\n        }],\n [{\n            'v': 1669,\n            'f': \"1669\",\n        },\n\"2021-02\",\n\"Fluvial/Mar\\u00edtima\",\n\"Uruguay\",\n{\n            'v': -2728.0,\n            'f': \"-2728.0\",\n        }],\n [{\n            'v': 1670,\n            'f': \"1670\",\n        },\n\"2021-02\",\n\"Fluvial/Mar\\u00edtima\",\n\"EE.UU. y Canad\\u00e1\",\n{\n            'v': 4.0,\n            'f': \"4.0\",\n        }],\n [{\n            'v': 1671,\n            'f': \"1671\",\n        },\n\"2021-02\",\n\"Fluvial/Mar\\u00edtima\",\n\"Resto de Am\\u00e9rica\",\n{\n            'v': 10.0,\n            'f': \"10.0\",\n        }],\n [{\n            'v': 1672,\n            'f': \"1672\",\n        },\n\"2021-02\",\n\"Fluvial/Mar\\u00edtima\",\n\"Europa\",\n{\n            'v': 21.0,\n            'f': \"21.0\",\n        }],\n [{\n            'v': 1673,\n            'f': \"1673\",\n        },\n\"2021-02\",\n\"Fluvial/Mar\\u00edtima\",\n\"Resto del mundo\",\n{\n            'v': 2.0,\n            'f': \"2.0\",\n        }],\n [{\n            'v': 1674,\n            'f': \"1674\",\n        },\n\"2021-03\",\n\"A\\u00e9rea\",\n\"Bolivia\",\n{\n            'v': -2372.3,\n            'f': \"-2372.3\",\n        }],\n [{\n            'v': 1675,\n            'f': \"1675\",\n        },\n\"2021-03\",\n\"A\\u00e9rea\",\n\"Brasil\",\n{\n            'v': -5925.0,\n            'f': \"-5925.0\",\n        }],\n [{\n            'v': 1676,\n            'f': \"1676\",\n        },\n\"2021-03\",\n\"A\\u00e9rea\",\n\"Chile\",\n{\n            'v': -2617.2,\n            'f': \"-2617.2\",\n        }],\n [{\n            'v': 1677,\n            'f': \"1677\",\n        },\n\"2021-03\",\n\"A\\u00e9rea\",\n\"Paraguay\",\n{\n            'v': -4328.5,\n            'f': \"-4328.5\",\n        }],\n [{\n            'v': 1678,\n            'f': \"1678\",\n        },\n\"2021-03\",\n\"A\\u00e9rea\",\n\"Uruguay\",\n{\n            'v': -254.0,\n            'f': \"-254.0\",\n        }],\n [{\n            'v': 1679,\n            'f': \"1679\",\n        },\n\"2021-03\",\n\"A\\u00e9rea\",\n\"EE.UU. y Canad\\u00e1\",\n{\n            'v': -7970.9,\n            'f': \"-7970.9\",\n        }],\n [{\n            'v': 1680,\n            'f': \"1680\",\n        },\n\"2021-03\",\n\"A\\u00e9rea\",\n\"Resto de Am\\u00e9rica\",\n{\n            'v': -17740.3,\n            'f': \"-17740.3\",\n        }],\n [{\n            'v': 1681,\n            'f': \"1681\",\n        },\n\"2021-03\",\n\"A\\u00e9rea\",\n\"Europa\",\n{\n            'v': 1809.4,\n            'f': \"1809.4\",\n        }],\n [{\n            'v': 1682,\n            'f': \"1682\",\n        },\n\"2021-03\",\n\"A\\u00e9rea\",\n\"Resto del mundo\",\n{\n            'v': -279.2,\n            'f': \"-279.2\",\n        }],\n [{\n            'v': 1683,\n            'f': \"1683\",\n        },\n\"2021-03\",\n\"Terrestre\",\n\"Bolivia\",\n{\n            'v': -150.0,\n            'f': \"-150.0\",\n        }],\n [{\n            'v': 1684,\n            'f': \"1684\",\n        },\n\"2021-03\",\n\"Terrestre\",\n\"Brasil\",\n{\n            'v': -643.0,\n            'f': \"-643.0\",\n        }],\n [{\n            'v': 1685,\n            'f': \"1685\",\n        },\n\"2021-03\",\n\"Terrestre\",\n\"Chile\",\n{\n            'v': -427.7,\n            'f': \"-427.7\",\n        }],\n [{\n            'v': 1686,\n            'f': \"1686\",\n        },\n\"2021-03\",\n\"Terrestre\",\n\"Paraguay\",\n{\n            'v': -128.0,\n            'f': \"-128.0\",\n        }],\n [{\n            'v': 1687,\n            'f': \"1687\",\n        },\n\"2021-03\",\n\"Terrestre\",\n\"Uruguay\",\n{\n            'v': -229.0,\n            'f': \"-229.0\",\n        }],\n [{\n            'v': 1688,\n            'f': \"1688\",\n        },\n\"2021-03\",\n\"Terrestre\",\n\"EE.UU. y Canad\\u00e1\",\n{\n            'v': 2.0,\n            'f': \"2.0\",\n        }],\n [{\n            'v': 1689,\n            'f': \"1689\",\n        },\n\"2021-03\",\n\"Terrestre\",\n\"Resto de Am\\u00e9rica\",\n{\n            'v': 17.9,\n            'f': \"17.9\",\n        }],\n [{\n            'v': 1690,\n            'f': \"1690\",\n        },\n\"2021-03\",\n\"Terrestre\",\n\"Europa\",\n{\n            'v': 9.9,\n            'f': \"9.9\",\n        }],\n [{\n            'v': 1691,\n            'f': \"1691\",\n        },\n\"2021-03\",\n\"Terrestre\",\n\"Resto del mundo\",\n{\n            'v': 2.0,\n            'f': \"2.0\",\n        }],\n [{\n            'v': 1692,\n            'f': \"1692\",\n        },\n\"2021-03\",\n\"Fluvial/Mar\\u00edtima\",\n\"Bolivia\",\n{\n            'v': 1.0,\n            'f': \"1.0\",\n        }],\n [{\n            'v': 1693,\n            'f': \"1693\",\n        },\n\"2021-03\",\n\"Fluvial/Mar\\u00edtima\",\n\"Brasil\",\n{\n            'v': -5.0,\n            'f': \"-5.0\",\n        }],\n [{\n            'v': 1694,\n            'f': \"1694\",\n        },\n\"2021-03\",\n\"Fluvial/Mar\\u00edtima\",\n\"Chile\",\n{\n            'v': 1.0,\n            'f': \"1.0\",\n        }],\n [{\n            'v': 1695,\n            'f': \"1695\",\n        },\n\"2021-03\",\n\"Fluvial/Mar\\u00edtima\",\n\"Paraguay\",\n{\n            'v': 3.0,\n            'f': \"3.0\",\n        }],\n [{\n            'v': 1696,\n            'f': \"1696\",\n        },\n\"2021-03\",\n\"Fluvial/Mar\\u00edtima\",\n\"Uruguay\",\n{\n            'v': -4172.0,\n            'f': \"-4172.0\",\n        }],\n [{\n            'v': 1697,\n            'f': \"1697\",\n        },\n\"2021-03\",\n\"Fluvial/Mar\\u00edtima\",\n\"EE.UU. y Canad\\u00e1\",\n{\n            'v': 6.0,\n            'f': \"6.0\",\n        }],\n [{\n            'v': 1698,\n            'f': \"1698\",\n        },\n\"2021-03\",\n\"Fluvial/Mar\\u00edtima\",\n\"Resto de Am\\u00e9rica\",\n{\n            'v': 4.0,\n            'f': \"4.0\",\n        }],\n [{\n            'v': 1699,\n            'f': \"1699\",\n        },\n\"2021-03\",\n\"Fluvial/Mar\\u00edtima\",\n\"Europa\",\n{\n            'v': 15.0,\n            'f': \"15.0\",\n        }],\n [{\n            'v': 1700,\n            'f': \"1700\",\n        },\n\"2021-03\",\n\"Fluvial/Mar\\u00edtima\",\n\"Resto del mundo\",\n{\n            'v': 4.0,\n            'f': \"4.0\",\n        }]],\n        columns: [[\"number\", \"index\"], [\"string\", \"indice_tiempo\"], [\"string\", \"medio_de_transporte\"], [\"string\", \"pais\"], [\"number\", \"balanza\"]],\n        columnOptions: [{\"width\": \"1px\", \"className\": \"index_column\"}],\n        rowsPerPage: 25,\n        helpUrl: \"https://colab.research.google.com/notebooks/data_table.ipynb\",\n        suppressOutputScrolling: true,\n        minimumWidth: undefined,\n      });\n    ",
            "text/html": [
              "<div>\n",
              "<style scoped>\n",
              "    .dataframe tbody tr th:only-of-type {\n",
              "        vertical-align: middle;\n",
              "    }\n",
              "\n",
              "    .dataframe tbody tr th {\n",
              "        vertical-align: top;\n",
              "    }\n",
              "\n",
              "    .dataframe thead th {\n",
              "        text-align: right;\n",
              "    }\n",
              "</style>\n",
              "<table border=\"1\" class=\"dataframe\">\n",
              "  <thead>\n",
              "    <tr style=\"text-align: right;\">\n",
              "      <th></th>\n",
              "      <th>indice_tiempo</th>\n",
              "      <th>medio_de_transporte</th>\n",
              "      <th>pais</th>\n",
              "      <th>balanza</th>\n",
              "    </tr>\n",
              "  </thead>\n",
              "  <tbody>\n",
              "    <tr>\n",
              "      <th>0</th>\n",
              "      <td>2016-01</td>\n",
              "      <td>Aérea</td>\n",
              "      <td>Bolivia</td>\n",
              "      <td>3635.9</td>\n",
              "    </tr>\n",
              "    <tr>\n",
              "      <th>1</th>\n",
              "      <td>2016-01</td>\n",
              "      <td>Aérea</td>\n",
              "      <td>Brasil</td>\n",
              "      <td>-66768.5</td>\n",
              "    </tr>\n",
              "    <tr>\n",
              "      <th>2</th>\n",
              "      <td>2016-01</td>\n",
              "      <td>Aérea</td>\n",
              "      <td>Chile</td>\n",
              "      <td>-11200.7</td>\n",
              "    </tr>\n",
              "    <tr>\n",
              "      <th>3</th>\n",
              "      <td>2016-01</td>\n",
              "      <td>Aérea</td>\n",
              "      <td>Paraguay</td>\n",
              "      <td>1996.4</td>\n",
              "    </tr>\n",
              "    <tr>\n",
              "      <th>4</th>\n",
              "      <td>2016-01</td>\n",
              "      <td>Aérea</td>\n",
              "      <td>Uruguay</td>\n",
              "      <td>-12748.3</td>\n",
              "    </tr>\n",
              "    <tr>\n",
              "      <th>...</th>\n",
              "      <td>...</td>\n",
              "      <td>...</td>\n",
              "      <td>...</td>\n",
              "      <td>...</td>\n",
              "    </tr>\n",
              "    <tr>\n",
              "      <th>1696</th>\n",
              "      <td>2021-03</td>\n",
              "      <td>Fluvial/Marítima</td>\n",
              "      <td>Uruguay</td>\n",
              "      <td>-4172.0</td>\n",
              "    </tr>\n",
              "    <tr>\n",
              "      <th>1697</th>\n",
              "      <td>2021-03</td>\n",
              "      <td>Fluvial/Marítima</td>\n",
              "      <td>EE.UU. y Canadá</td>\n",
              "      <td>6.0</td>\n",
              "    </tr>\n",
              "    <tr>\n",
              "      <th>1698</th>\n",
              "      <td>2021-03</td>\n",
              "      <td>Fluvial/Marítima</td>\n",
              "      <td>Resto de América</td>\n",
              "      <td>4.0</td>\n",
              "    </tr>\n",
              "    <tr>\n",
              "      <th>1699</th>\n",
              "      <td>2021-03</td>\n",
              "      <td>Fluvial/Marítima</td>\n",
              "      <td>Europa</td>\n",
              "      <td>15.0</td>\n",
              "    </tr>\n",
              "    <tr>\n",
              "      <th>1700</th>\n",
              "      <td>2021-03</td>\n",
              "      <td>Fluvial/Marítima</td>\n",
              "      <td>Resto del mundo</td>\n",
              "      <td>4.0</td>\n",
              "    </tr>\n",
              "  </tbody>\n",
              "</table>\n",
              "<p>1701 rows × 4 columns</p>\n",
              "</div>"
            ],
            "text/plain": [
              "<google.colab.data_table.DataTable object>"
            ]
          },
          "execution_count": 6,
          "metadata": {},
          "output_type": "execute_result"
        }
      ],
      "source": [
        "from google.colab.data_table import DataTable\n",
        "\n",
        "DataTable(data_turismo)"
      ]
    },
    {
      "cell_type": "code",
      "execution_count": null,
      "metadata": {
        "id": "OHHUCvHKtSAO"
      },
      "outputs": [],
      "source": [
        ""
      ]
    },
    {
      "cell_type": "markdown",
      "metadata": {
        "id": "2fLW2bTctvN_"
      },
      "source": [
        "**NON ES EQUIVALENTE A NaN #cuando se hablan de datos nulos **"
      ]
    },
    {
      "cell_type": "code",
      "execution_count": null,
      "metadata": {
        "colab": {
          "base_uri": "https://localhost:8080/"
        },
        "id": "OUKnbMgzt5pW",
        "outputId": "47b286ec-1e41-4cec-8ca3-b6726943b056"
      },
      "outputs": [
        {
          "name": "stdout",
          "output_type": "stream",
          "text": [
            "Collecting funpymodeling\n",
            "  Downloading funpymodeling-0.1.7-py3-none-any.whl (6.4 kB)\n",
            "Requirement already satisfied: pandas<2.0.0,>=1.0.5 in /usr/local/lib/python3.7/dist-packages (from funpymodeling) (1.1.5)\n",
            "Requirement already satisfied: typing-extensions<4.0.0,>=3.7.4 in /usr/local/lib/python3.7/dist-packages (from funpymodeling) (3.10.0.2)\n",
            "Requirement already satisfied: sklearn<0.1,>=0.0 in /usr/local/lib/python3.7/dist-packages (from funpymodeling) (0.0)\n",
            "Collecting seaborn<0.11.0,>=0.10.1\n",
            "  Downloading seaborn-0.10.1-py3-none-any.whl (215 kB)\n",
            "\u001b[K     |████████████████████████████████| 215 kB 5.4 MB/s \n",
            "\u001b[?25hRequirement already satisfied: numpy<2.0.0,>=1.18.5 in /usr/local/lib/python3.7/dist-packages (from funpymodeling) (1.19.5)\n",
            "Requirement already satisfied: matplotlib<4.0.0,>=3.2.2 in /usr/local/lib/python3.7/dist-packages (from funpymodeling) (3.2.2)\n",
            "Requirement already satisfied: cycler>=0.10 in /usr/local/lib/python3.7/dist-packages (from matplotlib<4.0.0,>=3.2.2->funpymodeling) (0.11.0)\n",
            "Requirement already satisfied: kiwisolver>=1.0.1 in /usr/local/lib/python3.7/dist-packages (from matplotlib<4.0.0,>=3.2.2->funpymodeling) (1.3.2)\n",
            "Requirement already satisfied: python-dateutil>=2.1 in /usr/local/lib/python3.7/dist-packages (from matplotlib<4.0.0,>=3.2.2->funpymodeling) (2.8.2)\n",
            "Requirement already satisfied: pyparsing!=2.0.4,!=2.1.2,!=2.1.6,>=2.0.1 in /usr/local/lib/python3.7/dist-packages (from matplotlib<4.0.0,>=3.2.2->funpymodeling) (3.0.6)\n",
            "Requirement already satisfied: pytz>=2017.2 in /usr/local/lib/python3.7/dist-packages (from pandas<2.0.0,>=1.0.5->funpymodeling) (2018.9)\n",
            "Requirement already satisfied: six>=1.5 in /usr/local/lib/python3.7/dist-packages (from python-dateutil>=2.1->matplotlib<4.0.0,>=3.2.2->funpymodeling) (1.15.0)\n",
            "Requirement already satisfied: scipy>=1.0.1 in /usr/local/lib/python3.7/dist-packages (from seaborn<0.11.0,>=0.10.1->funpymodeling) (1.4.1)\n",
            "Requirement already satisfied: scikit-learn in /usr/local/lib/python3.7/dist-packages (from sklearn<0.1,>=0.0->funpymodeling) (1.0.1)\n",
            "Requirement already satisfied: threadpoolctl>=2.0.0 in /usr/local/lib/python3.7/dist-packages (from scikit-learn->sklearn<0.1,>=0.0->funpymodeling) (3.0.0)\n",
            "Requirement already satisfied: joblib>=0.11 in /usr/local/lib/python3.7/dist-packages (from scikit-learn->sklearn<0.1,>=0.0->funpymodeling) (1.1.0)\n",
            "Installing collected packages: seaborn, funpymodeling\n",
            "  Attempting uninstall: seaborn\n",
            "    Found existing installation: seaborn 0.11.2\n",
            "    Uninstalling seaborn-0.11.2:\n",
            "      Successfully uninstalled seaborn-0.11.2\n",
            "Successfully installed funpymodeling-0.1.7 seaborn-0.10.1\n"
          ]
        }
      ],
      "source": [
        "!pip install funpymodeling"
      ]
    },
    {
      "cell_type": "code",
      "execution_count": null,
      "metadata": {
        "colab": {
          "base_uri": "https://localhost:8080/",
          "height": 424
        },
        "id": "5b6X6oWYumWz",
        "outputId": "7e0b2c99-bc95-453d-dae9-50868249906f"
      },
      "outputs": [
        {
          "data": {
            "text/html": [
              "\n",
              "  <div id=\"df-a6019e0d-a810-4960-b125-faa3266ad173\">\n",
              "    <div class=\"colab-df-container\">\n",
              "      <div>\n",
              "<style scoped>\n",
              "    .dataframe tbody tr th:only-of-type {\n",
              "        vertical-align: middle;\n",
              "    }\n",
              "\n",
              "    .dataframe tbody tr th {\n",
              "        vertical-align: top;\n",
              "    }\n",
              "\n",
              "    .dataframe thead th {\n",
              "        text-align: right;\n",
              "    }\n",
              "</style>\n",
              "<table border=\"1\" class=\"dataframe\">\n",
              "  <thead>\n",
              "    <tr style=\"text-align: right;\">\n",
              "      <th></th>\n",
              "      <th>indice_tiempo</th>\n",
              "      <th>medio_de_transporte</th>\n",
              "      <th>pais</th>\n",
              "      <th>balanza</th>\n",
              "    </tr>\n",
              "  </thead>\n",
              "  <tbody>\n",
              "    <tr>\n",
              "      <th>0</th>\n",
              "      <td>False</td>\n",
              "      <td>False</td>\n",
              "      <td>False</td>\n",
              "      <td>False</td>\n",
              "    </tr>\n",
              "    <tr>\n",
              "      <th>1</th>\n",
              "      <td>False</td>\n",
              "      <td>False</td>\n",
              "      <td>False</td>\n",
              "      <td>False</td>\n",
              "    </tr>\n",
              "    <tr>\n",
              "      <th>2</th>\n",
              "      <td>False</td>\n",
              "      <td>False</td>\n",
              "      <td>False</td>\n",
              "      <td>False</td>\n",
              "    </tr>\n",
              "    <tr>\n",
              "      <th>3</th>\n",
              "      <td>False</td>\n",
              "      <td>False</td>\n",
              "      <td>False</td>\n",
              "      <td>False</td>\n",
              "    </tr>\n",
              "    <tr>\n",
              "      <th>4</th>\n",
              "      <td>False</td>\n",
              "      <td>False</td>\n",
              "      <td>False</td>\n",
              "      <td>False</td>\n",
              "    </tr>\n",
              "    <tr>\n",
              "      <th>...</th>\n",
              "      <td>...</td>\n",
              "      <td>...</td>\n",
              "      <td>...</td>\n",
              "      <td>...</td>\n",
              "    </tr>\n",
              "    <tr>\n",
              "      <th>1696</th>\n",
              "      <td>False</td>\n",
              "      <td>False</td>\n",
              "      <td>False</td>\n",
              "      <td>False</td>\n",
              "    </tr>\n",
              "    <tr>\n",
              "      <th>1697</th>\n",
              "      <td>False</td>\n",
              "      <td>False</td>\n",
              "      <td>False</td>\n",
              "      <td>False</td>\n",
              "    </tr>\n",
              "    <tr>\n",
              "      <th>1698</th>\n",
              "      <td>False</td>\n",
              "      <td>False</td>\n",
              "      <td>False</td>\n",
              "      <td>False</td>\n",
              "    </tr>\n",
              "    <tr>\n",
              "      <th>1699</th>\n",
              "      <td>False</td>\n",
              "      <td>False</td>\n",
              "      <td>False</td>\n",
              "      <td>False</td>\n",
              "    </tr>\n",
              "    <tr>\n",
              "      <th>1700</th>\n",
              "      <td>False</td>\n",
              "      <td>False</td>\n",
              "      <td>False</td>\n",
              "      <td>False</td>\n",
              "    </tr>\n",
              "  </tbody>\n",
              "</table>\n",
              "<p>1701 rows × 4 columns</p>\n",
              "</div>\n",
              "      <button class=\"colab-df-convert\" onclick=\"convertToInteractive('df-a6019e0d-a810-4960-b125-faa3266ad173')\"\n",
              "              title=\"Convert this dataframe to an interactive table.\"\n",
              "              style=\"display:none;\">\n",
              "        \n",
              "  <svg xmlns=\"http://www.w3.org/2000/svg\" height=\"24px\"viewBox=\"0 0 24 24\"\n",
              "       width=\"24px\">\n",
              "    <path d=\"M0 0h24v24H0V0z\" fill=\"none\"/>\n",
              "    <path d=\"M18.56 5.44l.94 2.06.94-2.06 2.06-.94-2.06-.94-.94-2.06-.94 2.06-2.06.94zm-11 1L8.5 8.5l.94-2.06 2.06-.94-2.06-.94L8.5 2.5l-.94 2.06-2.06.94zm10 10l.94 2.06.94-2.06 2.06-.94-2.06-.94-.94-2.06-.94 2.06-2.06.94z\"/><path d=\"M17.41 7.96l-1.37-1.37c-.4-.4-.92-.59-1.43-.59-.52 0-1.04.2-1.43.59L10.3 9.45l-7.72 7.72c-.78.78-.78 2.05 0 2.83L4 21.41c.39.39.9.59 1.41.59.51 0 1.02-.2 1.41-.59l7.78-7.78 2.81-2.81c.8-.78.8-2.07 0-2.86zM5.41 20L4 18.59l7.72-7.72 1.47 1.35L5.41 20z\"/>\n",
              "  </svg>\n",
              "      </button>\n",
              "      \n",
              "  <style>\n",
              "    .colab-df-container {\n",
              "      display:flex;\n",
              "      flex-wrap:wrap;\n",
              "      gap: 12px;\n",
              "    }\n",
              "\n",
              "    .colab-df-convert {\n",
              "      background-color: #E8F0FE;\n",
              "      border: none;\n",
              "      border-radius: 50%;\n",
              "      cursor: pointer;\n",
              "      display: none;\n",
              "      fill: #1967D2;\n",
              "      height: 32px;\n",
              "      padding: 0 0 0 0;\n",
              "      width: 32px;\n",
              "    }\n",
              "\n",
              "    .colab-df-convert:hover {\n",
              "      background-color: #E2EBFA;\n",
              "      box-shadow: 0px 1px 2px rgba(60, 64, 67, 0.3), 0px 1px 3px 1px rgba(60, 64, 67, 0.15);\n",
              "      fill: #174EA6;\n",
              "    }\n",
              "\n",
              "    [theme=dark] .colab-df-convert {\n",
              "      background-color: #3B4455;\n",
              "      fill: #D2E3FC;\n",
              "    }\n",
              "\n",
              "    [theme=dark] .colab-df-convert:hover {\n",
              "      background-color: #434B5C;\n",
              "      box-shadow: 0px 1px 3px 1px rgba(0, 0, 0, 0.15);\n",
              "      filter: drop-shadow(0px 1px 2px rgba(0, 0, 0, 0.3));\n",
              "      fill: #FFFFFF;\n",
              "    }\n",
              "  </style>\n",
              "\n",
              "      <script>\n",
              "        const buttonEl =\n",
              "          document.querySelector('#df-a6019e0d-a810-4960-b125-faa3266ad173 button.colab-df-convert');\n",
              "        buttonEl.style.display =\n",
              "          google.colab.kernel.accessAllowed ? 'block' : 'none';\n",
              "\n",
              "        async function convertToInteractive(key) {\n",
              "          const element = document.querySelector('#df-a6019e0d-a810-4960-b125-faa3266ad173');\n",
              "          const dataTable =\n",
              "            await google.colab.kernel.invokeFunction('convertToInteractive',\n",
              "                                                     [key], {});\n",
              "          if (!dataTable) return;\n",
              "\n",
              "          const docLinkHtml = 'Like what you see? Visit the ' +\n",
              "            '<a target=\"_blank\" href=https://colab.research.google.com/notebooks/data_table.ipynb>data table notebook</a>'\n",
              "            + ' to learn more about interactive tables.';\n",
              "          element.innerHTML = '';\n",
              "          dataTable['output_type'] = 'display_data';\n",
              "          await google.colab.output.renderOutput(dataTable, element);\n",
              "          const docLink = document.createElement('div');\n",
              "          docLink.innerHTML = docLinkHtml;\n",
              "          element.appendChild(docLink);\n",
              "        }\n",
              "      </script>\n",
              "    </div>\n",
              "  </div>\n",
              "  "
            ],
            "text/plain": [
              "      indice_tiempo  medio_de_transporte   pais  balanza\n",
              "0             False                False  False    False\n",
              "1             False                False  False    False\n",
              "2             False                False  False    False\n",
              "3             False                False  False    False\n",
              "4             False                False  False    False\n",
              "...             ...                  ...    ...      ...\n",
              "1696          False                False  False    False\n",
              "1697          False                False  False    False\n",
              "1698          False                False  False    False\n",
              "1699          False                False  False    False\n",
              "1700          False                False  False    False\n",
              "\n",
              "[1701 rows x 4 columns]"
            ]
          },
          "execution_count": 11,
          "metadata": {},
          "output_type": "execute_result"
        }
      ],
      "source": [
        "data_turismo.isna () #veo por True o false valores nulos "
      ]
    },
    {
      "cell_type": "code",
      "execution_count": null,
      "metadata": {
        "colab": {
          "base_uri": "https://localhost:8080/",
          "height": 49
        },
        "id": "_sK-1uXeusCi",
        "outputId": "e67f177b-7464-4b45-ba22-d9a13ff418a6"
      },
      "outputs": [
        {
          "data": {
            "text/html": [
              "\n",
              "  <div id=\"df-40eef682-9163-4e0a-aa81-bf678230a759\">\n",
              "    <div class=\"colab-df-container\">\n",
              "      <div>\n",
              "<style scoped>\n",
              "    .dataframe tbody tr th:only-of-type {\n",
              "        vertical-align: middle;\n",
              "    }\n",
              "\n",
              "    .dataframe tbody tr th {\n",
              "        vertical-align: top;\n",
              "    }\n",
              "\n",
              "    .dataframe thead th {\n",
              "        text-align: right;\n",
              "    }\n",
              "</style>\n",
              "<table border=\"1\" class=\"dataframe\">\n",
              "  <thead>\n",
              "    <tr style=\"text-align: right;\">\n",
              "      <th></th>\n",
              "      <th>indice_tiempo</th>\n",
              "      <th>medio_de_transporte</th>\n",
              "      <th>pais</th>\n",
              "      <th>balanza</th>\n",
              "    </tr>\n",
              "  </thead>\n",
              "  <tbody>\n",
              "  </tbody>\n",
              "</table>\n",
              "</div>\n",
              "      <button class=\"colab-df-convert\" onclick=\"convertToInteractive('df-40eef682-9163-4e0a-aa81-bf678230a759')\"\n",
              "              title=\"Convert this dataframe to an interactive table.\"\n",
              "              style=\"display:none;\">\n",
              "        \n",
              "  <svg xmlns=\"http://www.w3.org/2000/svg\" height=\"24px\"viewBox=\"0 0 24 24\"\n",
              "       width=\"24px\">\n",
              "    <path d=\"M0 0h24v24H0V0z\" fill=\"none\"/>\n",
              "    <path d=\"M18.56 5.44l.94 2.06.94-2.06 2.06-.94-2.06-.94-.94-2.06-.94 2.06-2.06.94zm-11 1L8.5 8.5l.94-2.06 2.06-.94-2.06-.94L8.5 2.5l-.94 2.06-2.06.94zm10 10l.94 2.06.94-2.06 2.06-.94-2.06-.94-.94-2.06-.94 2.06-2.06.94z\"/><path d=\"M17.41 7.96l-1.37-1.37c-.4-.4-.92-.59-1.43-.59-.52 0-1.04.2-1.43.59L10.3 9.45l-7.72 7.72c-.78.78-.78 2.05 0 2.83L4 21.41c.39.39.9.59 1.41.59.51 0 1.02-.2 1.41-.59l7.78-7.78 2.81-2.81c.8-.78.8-2.07 0-2.86zM5.41 20L4 18.59l7.72-7.72 1.47 1.35L5.41 20z\"/>\n",
              "  </svg>\n",
              "      </button>\n",
              "      \n",
              "  <style>\n",
              "    .colab-df-container {\n",
              "      display:flex;\n",
              "      flex-wrap:wrap;\n",
              "      gap: 12px;\n",
              "    }\n",
              "\n",
              "    .colab-df-convert {\n",
              "      background-color: #E8F0FE;\n",
              "      border: none;\n",
              "      border-radius: 50%;\n",
              "      cursor: pointer;\n",
              "      display: none;\n",
              "      fill: #1967D2;\n",
              "      height: 32px;\n",
              "      padding: 0 0 0 0;\n",
              "      width: 32px;\n",
              "    }\n",
              "\n",
              "    .colab-df-convert:hover {\n",
              "      background-color: #E2EBFA;\n",
              "      box-shadow: 0px 1px 2px rgba(60, 64, 67, 0.3), 0px 1px 3px 1px rgba(60, 64, 67, 0.15);\n",
              "      fill: #174EA6;\n",
              "    }\n",
              "\n",
              "    [theme=dark] .colab-df-convert {\n",
              "      background-color: #3B4455;\n",
              "      fill: #D2E3FC;\n",
              "    }\n",
              "\n",
              "    [theme=dark] .colab-df-convert:hover {\n",
              "      background-color: #434B5C;\n",
              "      box-shadow: 0px 1px 3px 1px rgba(0, 0, 0, 0.15);\n",
              "      filter: drop-shadow(0px 1px 2px rgba(0, 0, 0, 0.3));\n",
              "      fill: #FFFFFF;\n",
              "    }\n",
              "  </style>\n",
              "\n",
              "      <script>\n",
              "        const buttonEl =\n",
              "          document.querySelector('#df-40eef682-9163-4e0a-aa81-bf678230a759 button.colab-df-convert');\n",
              "        buttonEl.style.display =\n",
              "          google.colab.kernel.accessAllowed ? 'block' : 'none';\n",
              "\n",
              "        async function convertToInteractive(key) {\n",
              "          const element = document.querySelector('#df-40eef682-9163-4e0a-aa81-bf678230a759');\n",
              "          const dataTable =\n",
              "            await google.colab.kernel.invokeFunction('convertToInteractive',\n",
              "                                                     [key], {});\n",
              "          if (!dataTable) return;\n",
              "\n",
              "          const docLinkHtml = 'Like what you see? Visit the ' +\n",
              "            '<a target=\"_blank\" href=https://colab.research.google.com/notebooks/data_table.ipynb>data table notebook</a>'\n",
              "            + ' to learn more about interactive tables.';\n",
              "          element.innerHTML = '';\n",
              "          dataTable['output_type'] = 'display_data';\n",
              "          await google.colab.output.renderOutput(dataTable, element);\n",
              "          const docLink = document.createElement('div');\n",
              "          docLink.innerHTML = docLinkHtml;\n",
              "          element.appendChild(docLink);\n",
              "        }\n",
              "      </script>\n",
              "    </div>\n",
              "  </div>\n",
              "  "
            ],
            "text/plain": [
              "Empty DataFrame\n",
              "Columns: [indice_tiempo, medio_de_transporte, pais, balanza]\n",
              "Index: []"
            ]
          },
          "execution_count": 17,
          "metadata": {},
          "output_type": "execute_result"
        }
      ],
      "source": [
        "# obtener nulos de una columna\n",
        "data_turismo[data_turismo['indice_tiempo'].isna ()] "
      ]
    },
    {
      "cell_type": "code",
      "execution_count": null,
      "metadata": {
        "id": "u9nbj7IQvZUG"
      },
      "outputs": [],
      "source": [
        ""
      ]
    },
    {
      "cell_type": "code",
      "execution_count": null,
      "metadata": {
        "colab": {
          "base_uri": "https://localhost:8080/"
        },
        "id": "IayAVB5Xv3ap",
        "outputId": "8c47c4c3-5deb-4dba-a4bf-3a143be29e34"
      },
      "outputs": [
        {
          "name": "stderr",
          "output_type": "stream",
          "text": [
            "/usr/local/lib/python3.7/dist-packages/statsmodels/tools/_testing.py:19: FutureWarning: pandas.util.testing is deprecated. Use the functions in the public API at pandas.testing instead.\n",
            "  import pandas.util.testing as tm\n"
          ]
        }
      ],
      "source": [
        "from funpymodeling.exploratory import status"
      ]
    },
    {
      "cell_type": "code",
      "execution_count": null,
      "metadata": {
        "colab": {
          "base_uri": "https://localhost:8080/",
          "height": 175
        },
        "id": "8QXhvnUvv61R",
        "outputId": "bfb06ca4-e0d9-442e-f737-98a920999287"
      },
      "outputs": [
        {
          "data": {
            "text/html": [
              "\n",
              "  <div id=\"df-fb58cd0d-a979-4bc5-9c66-4f566f32c461\">\n",
              "    <div class=\"colab-df-container\">\n",
              "      <div>\n",
              "<style scoped>\n",
              "    .dataframe tbody tr th:only-of-type {\n",
              "        vertical-align: middle;\n",
              "    }\n",
              "\n",
              "    .dataframe tbody tr th {\n",
              "        vertical-align: top;\n",
              "    }\n",
              "\n",
              "    .dataframe thead th {\n",
              "        text-align: right;\n",
              "    }\n",
              "</style>\n",
              "<table border=\"1\" class=\"dataframe\">\n",
              "  <thead>\n",
              "    <tr style=\"text-align: right;\">\n",
              "      <th></th>\n",
              "      <th>variable</th>\n",
              "      <th>q_nan</th>\n",
              "      <th>p_nan</th>\n",
              "      <th>q_zeros</th>\n",
              "      <th>p_zeros</th>\n",
              "      <th>unique</th>\n",
              "      <th>type</th>\n",
              "    </tr>\n",
              "  </thead>\n",
              "  <tbody>\n",
              "    <tr>\n",
              "      <th>0</th>\n",
              "      <td>indice_tiempo</td>\n",
              "      <td>0</td>\n",
              "      <td>0.0</td>\n",
              "      <td>0</td>\n",
              "      <td>0.000000</td>\n",
              "      <td>63</td>\n",
              "      <td>object</td>\n",
              "    </tr>\n",
              "    <tr>\n",
              "      <th>1</th>\n",
              "      <td>medio_de_transporte</td>\n",
              "      <td>0</td>\n",
              "      <td>0.0</td>\n",
              "      <td>0</td>\n",
              "      <td>0.000000</td>\n",
              "      <td>3</td>\n",
              "      <td>object</td>\n",
              "    </tr>\n",
              "    <tr>\n",
              "      <th>2</th>\n",
              "      <td>pais</td>\n",
              "      <td>0</td>\n",
              "      <td>0.0</td>\n",
              "      <td>0</td>\n",
              "      <td>0.000000</td>\n",
              "      <td>9</td>\n",
              "      <td>object</td>\n",
              "    </tr>\n",
              "    <tr>\n",
              "      <th>3</th>\n",
              "      <td>balanza</td>\n",
              "      <td>0</td>\n",
              "      <td>0.0</td>\n",
              "      <td>92</td>\n",
              "      <td>0.054086</td>\n",
              "      <td>1541</td>\n",
              "      <td>float64</td>\n",
              "    </tr>\n",
              "  </tbody>\n",
              "</table>\n",
              "</div>\n",
              "      <button class=\"colab-df-convert\" onclick=\"convertToInteractive('df-fb58cd0d-a979-4bc5-9c66-4f566f32c461')\"\n",
              "              title=\"Convert this dataframe to an interactive table.\"\n",
              "              style=\"display:none;\">\n",
              "        \n",
              "  <svg xmlns=\"http://www.w3.org/2000/svg\" height=\"24px\"viewBox=\"0 0 24 24\"\n",
              "       width=\"24px\">\n",
              "    <path d=\"M0 0h24v24H0V0z\" fill=\"none\"/>\n",
              "    <path d=\"M18.56 5.44l.94 2.06.94-2.06 2.06-.94-2.06-.94-.94-2.06-.94 2.06-2.06.94zm-11 1L8.5 8.5l.94-2.06 2.06-.94-2.06-.94L8.5 2.5l-.94 2.06-2.06.94zm10 10l.94 2.06.94-2.06 2.06-.94-2.06-.94-.94-2.06-.94 2.06-2.06.94z\"/><path d=\"M17.41 7.96l-1.37-1.37c-.4-.4-.92-.59-1.43-.59-.52 0-1.04.2-1.43.59L10.3 9.45l-7.72 7.72c-.78.78-.78 2.05 0 2.83L4 21.41c.39.39.9.59 1.41.59.51 0 1.02-.2 1.41-.59l7.78-7.78 2.81-2.81c.8-.78.8-2.07 0-2.86zM5.41 20L4 18.59l7.72-7.72 1.47 1.35L5.41 20z\"/>\n",
              "  </svg>\n",
              "      </button>\n",
              "      \n",
              "  <style>\n",
              "    .colab-df-container {\n",
              "      display:flex;\n",
              "      flex-wrap:wrap;\n",
              "      gap: 12px;\n",
              "    }\n",
              "\n",
              "    .colab-df-convert {\n",
              "      background-color: #E8F0FE;\n",
              "      border: none;\n",
              "      border-radius: 50%;\n",
              "      cursor: pointer;\n",
              "      display: none;\n",
              "      fill: #1967D2;\n",
              "      height: 32px;\n",
              "      padding: 0 0 0 0;\n",
              "      width: 32px;\n",
              "    }\n",
              "\n",
              "    .colab-df-convert:hover {\n",
              "      background-color: #E2EBFA;\n",
              "      box-shadow: 0px 1px 2px rgba(60, 64, 67, 0.3), 0px 1px 3px 1px rgba(60, 64, 67, 0.15);\n",
              "      fill: #174EA6;\n",
              "    }\n",
              "\n",
              "    [theme=dark] .colab-df-convert {\n",
              "      background-color: #3B4455;\n",
              "      fill: #D2E3FC;\n",
              "    }\n",
              "\n",
              "    [theme=dark] .colab-df-convert:hover {\n",
              "      background-color: #434B5C;\n",
              "      box-shadow: 0px 1px 3px 1px rgba(0, 0, 0, 0.15);\n",
              "      filter: drop-shadow(0px 1px 2px rgba(0, 0, 0, 0.3));\n",
              "      fill: #FFFFFF;\n",
              "    }\n",
              "  </style>\n",
              "\n",
              "      <script>\n",
              "        const buttonEl =\n",
              "          document.querySelector('#df-fb58cd0d-a979-4bc5-9c66-4f566f32c461 button.colab-df-convert');\n",
              "        buttonEl.style.display =\n",
              "          google.colab.kernel.accessAllowed ? 'block' : 'none';\n",
              "\n",
              "        async function convertToInteractive(key) {\n",
              "          const element = document.querySelector('#df-fb58cd0d-a979-4bc5-9c66-4f566f32c461');\n",
              "          const dataTable =\n",
              "            await google.colab.kernel.invokeFunction('convertToInteractive',\n",
              "                                                     [key], {});\n",
              "          if (!dataTable) return;\n",
              "\n",
              "          const docLinkHtml = 'Like what you see? Visit the ' +\n",
              "            '<a target=\"_blank\" href=https://colab.research.google.com/notebooks/data_table.ipynb>data table notebook</a>'\n",
              "            + ' to learn more about interactive tables.';\n",
              "          element.innerHTML = '';\n",
              "          dataTable['output_type'] = 'display_data';\n",
              "          await google.colab.output.renderOutput(dataTable, element);\n",
              "          const docLink = document.createElement('div');\n",
              "          docLink.innerHTML = docLinkHtml;\n",
              "          element.appendChild(docLink);\n",
              "        }\n",
              "      </script>\n",
              "    </div>\n",
              "  </div>\n",
              "  "
            ],
            "text/plain": [
              "              variable  q_nan  p_nan  q_zeros   p_zeros  unique     type\n",
              "0        indice_tiempo      0    0.0        0  0.000000      63   object\n",
              "1  medio_de_transporte      0    0.0        0  0.000000       3   object\n",
              "2                 pais      0    0.0        0  0.000000       9   object\n",
              "3              balanza      0    0.0       92  0.054086    1541  float64"
            ]
          },
          "execution_count": 14,
          "metadata": {},
          "output_type": "execute_result"
        }
      ],
      "source": [
        "status (data_turismo)"
      ]
    },
    {
      "cell_type": "code",
      "execution_count": null,
      "metadata": {
        "id": "2PdDGIhvv9-p"
      },
      "outputs": [],
      "source": [
        ""
      ]
    },
    {
      "cell_type": "markdown",
      "metadata": {
        "id": "BUiFfYh6ywy9"
      },
      "source": [
        "# **Reemplazo de Valores Nulos ** texto en negrita"
      ]
    },
    {
      "cell_type": "code",
      "execution_count": null,
      "metadata": {
        "id": "lHocHUYUy2fZ"
      },
      "outputs": [],
      "source": [
        "import numpy as np"
      ]
    },
    {
      "cell_type": "code",
      "execution_count": null,
      "metadata": {
        "id": "sAvK74MA0Czk"
      },
      "outputs": [],
      "source": [
        ""
      ]
    },
    {
      "cell_type": "markdown",
      "metadata": {
        "id": "m9cl677w0Ebn"
      },
      "source": [
        "variable categórica / object"
      ]
    },
    {
      "cell_type": "code",
      "execution_count": null,
      "metadata": {
        "colab": {
          "base_uri": "https://localhost:8080/",
          "height": 424
        },
        "id": "Kj9ena0d0Fyo",
        "outputId": "bdf6bef7-83bc-4fd2-c206-7bc3b18acf23"
      },
      "outputs": [
        {
          "data": {
            "text/html": [
              "\n",
              "  <div id=\"df-ccafc2f5-1c90-42c3-be2e-799ec93053e6\">\n",
              "    <div class=\"colab-df-container\">\n",
              "      <div>\n",
              "<style scoped>\n",
              "    .dataframe tbody tr th:only-of-type {\n",
              "        vertical-align: middle;\n",
              "    }\n",
              "\n",
              "    .dataframe tbody tr th {\n",
              "        vertical-align: top;\n",
              "    }\n",
              "\n",
              "    .dataframe thead th {\n",
              "        text-align: right;\n",
              "    }\n",
              "</style>\n",
              "<table border=\"1\" class=\"dataframe\">\n",
              "  <thead>\n",
              "    <tr style=\"text-align: right;\">\n",
              "      <th></th>\n",
              "      <th>indice_tiempo</th>\n",
              "      <th>medio_de_transporte</th>\n",
              "      <th>pais</th>\n",
              "      <th>balanza</th>\n",
              "    </tr>\n",
              "  </thead>\n",
              "  <tbody>\n",
              "    <tr>\n",
              "      <th>0</th>\n",
              "      <td>2016-01</td>\n",
              "      <td>Aérea</td>\n",
              "      <td>Bolivia</td>\n",
              "      <td>3635.9</td>\n",
              "    </tr>\n",
              "    <tr>\n",
              "      <th>1</th>\n",
              "      <td>2016-01</td>\n",
              "      <td>Aérea</td>\n",
              "      <td>Brasil</td>\n",
              "      <td>-66768.5</td>\n",
              "    </tr>\n",
              "    <tr>\n",
              "      <th>2</th>\n",
              "      <td>2016-01</td>\n",
              "      <td>Aérea</td>\n",
              "      <td>Chile</td>\n",
              "      <td>-11200.7</td>\n",
              "    </tr>\n",
              "    <tr>\n",
              "      <th>3</th>\n",
              "      <td>2016-01</td>\n",
              "      <td>Aérea</td>\n",
              "      <td>Paraguay</td>\n",
              "      <td>1996.4</td>\n",
              "    </tr>\n",
              "    <tr>\n",
              "      <th>4</th>\n",
              "      <td>2016-01</td>\n",
              "      <td>Aérea</td>\n",
              "      <td>Uruguay</td>\n",
              "      <td>-12748.3</td>\n",
              "    </tr>\n",
              "    <tr>\n",
              "      <th>...</th>\n",
              "      <td>...</td>\n",
              "      <td>...</td>\n",
              "      <td>...</td>\n",
              "      <td>...</td>\n",
              "    </tr>\n",
              "    <tr>\n",
              "      <th>1696</th>\n",
              "      <td>2021-03</td>\n",
              "      <td>Fluvial/Marítima</td>\n",
              "      <td>Uruguay</td>\n",
              "      <td>-4172.0</td>\n",
              "    </tr>\n",
              "    <tr>\n",
              "      <th>1697</th>\n",
              "      <td>2021-03</td>\n",
              "      <td>Fluvial/Marítima</td>\n",
              "      <td>EE.UU. y Canadá</td>\n",
              "      <td>6.0</td>\n",
              "    </tr>\n",
              "    <tr>\n",
              "      <th>1698</th>\n",
              "      <td>2021-03</td>\n",
              "      <td>Fluvial/Marítima</td>\n",
              "      <td>Resto de América</td>\n",
              "      <td>4.0</td>\n",
              "    </tr>\n",
              "    <tr>\n",
              "      <th>1699</th>\n",
              "      <td>2021-03</td>\n",
              "      <td>Fluvial/Marítima</td>\n",
              "      <td>Europa</td>\n",
              "      <td>15.0</td>\n",
              "    </tr>\n",
              "    <tr>\n",
              "      <th>1700</th>\n",
              "      <td>2021-03</td>\n",
              "      <td>Fluvial/Marítima</td>\n",
              "      <td>Resto del mundo</td>\n",
              "      <td>4.0</td>\n",
              "    </tr>\n",
              "  </tbody>\n",
              "</table>\n",
              "<p>1701 rows × 4 columns</p>\n",
              "</div>\n",
              "      <button class=\"colab-df-convert\" onclick=\"convertToInteractive('df-ccafc2f5-1c90-42c3-be2e-799ec93053e6')\"\n",
              "              title=\"Convert this dataframe to an interactive table.\"\n",
              "              style=\"display:none;\">\n",
              "        \n",
              "  <svg xmlns=\"http://www.w3.org/2000/svg\" height=\"24px\"viewBox=\"0 0 24 24\"\n",
              "       width=\"24px\">\n",
              "    <path d=\"M0 0h24v24H0V0z\" fill=\"none\"/>\n",
              "    <path d=\"M18.56 5.44l.94 2.06.94-2.06 2.06-.94-2.06-.94-.94-2.06-.94 2.06-2.06.94zm-11 1L8.5 8.5l.94-2.06 2.06-.94-2.06-.94L8.5 2.5l-.94 2.06-2.06.94zm10 10l.94 2.06.94-2.06 2.06-.94-2.06-.94-.94-2.06-.94 2.06-2.06.94z\"/><path d=\"M17.41 7.96l-1.37-1.37c-.4-.4-.92-.59-1.43-.59-.52 0-1.04.2-1.43.59L10.3 9.45l-7.72 7.72c-.78.78-.78 2.05 0 2.83L4 21.41c.39.39.9.59 1.41.59.51 0 1.02-.2 1.41-.59l7.78-7.78 2.81-2.81c.8-.78.8-2.07 0-2.86zM5.41 20L4 18.59l7.72-7.72 1.47 1.35L5.41 20z\"/>\n",
              "  </svg>\n",
              "      </button>\n",
              "      \n",
              "  <style>\n",
              "    .colab-df-container {\n",
              "      display:flex;\n",
              "      flex-wrap:wrap;\n",
              "      gap: 12px;\n",
              "    }\n",
              "\n",
              "    .colab-df-convert {\n",
              "      background-color: #E8F0FE;\n",
              "      border: none;\n",
              "      border-radius: 50%;\n",
              "      cursor: pointer;\n",
              "      display: none;\n",
              "      fill: #1967D2;\n",
              "      height: 32px;\n",
              "      padding: 0 0 0 0;\n",
              "      width: 32px;\n",
              "    }\n",
              "\n",
              "    .colab-df-convert:hover {\n",
              "      background-color: #E2EBFA;\n",
              "      box-shadow: 0px 1px 2px rgba(60, 64, 67, 0.3), 0px 1px 3px 1px rgba(60, 64, 67, 0.15);\n",
              "      fill: #174EA6;\n",
              "    }\n",
              "\n",
              "    [theme=dark] .colab-df-convert {\n",
              "      background-color: #3B4455;\n",
              "      fill: #D2E3FC;\n",
              "    }\n",
              "\n",
              "    [theme=dark] .colab-df-convert:hover {\n",
              "      background-color: #434B5C;\n",
              "      box-shadow: 0px 1px 3px 1px rgba(0, 0, 0, 0.15);\n",
              "      filter: drop-shadow(0px 1px 2px rgba(0, 0, 0, 0.3));\n",
              "      fill: #FFFFFF;\n",
              "    }\n",
              "  </style>\n",
              "\n",
              "      <script>\n",
              "        const buttonEl =\n",
              "          document.querySelector('#df-ccafc2f5-1c90-42c3-be2e-799ec93053e6 button.colab-df-convert');\n",
              "        buttonEl.style.display =\n",
              "          google.colab.kernel.accessAllowed ? 'block' : 'none';\n",
              "\n",
              "        async function convertToInteractive(key) {\n",
              "          const element = document.querySelector('#df-ccafc2f5-1c90-42c3-be2e-799ec93053e6');\n",
              "          const dataTable =\n",
              "            await google.colab.kernel.invokeFunction('convertToInteractive',\n",
              "                                                     [key], {});\n",
              "          if (!dataTable) return;\n",
              "\n",
              "          const docLinkHtml = 'Like what you see? Visit the ' +\n",
              "            '<a target=\"_blank\" href=https://colab.research.google.com/notebooks/data_table.ipynb>data table notebook</a>'\n",
              "            + ' to learn more about interactive tables.';\n",
              "          element.innerHTML = '';\n",
              "          dataTable['output_type'] = 'display_data';\n",
              "          await google.colab.output.renderOutput(dataTable, element);\n",
              "          const docLink = document.createElement('div');\n",
              "          docLink.innerHTML = docLinkHtml;\n",
              "          element.appendChild(docLink);\n",
              "        }\n",
              "      </script>\n",
              "    </div>\n",
              "  </div>\n",
              "  "
            ],
            "text/plain": [
              "     indice_tiempo medio_de_transporte              pais  balanza\n",
              "0          2016-01               Aérea           Bolivia   3635.9\n",
              "1          2016-01               Aérea            Brasil -66768.5\n",
              "2          2016-01               Aérea             Chile -11200.7\n",
              "3          2016-01               Aérea          Paraguay   1996.4\n",
              "4          2016-01               Aérea           Uruguay -12748.3\n",
              "...            ...                 ...               ...      ...\n",
              "1696       2021-03    Fluvial/Marítima           Uruguay  -4172.0\n",
              "1697       2021-03    Fluvial/Marítima   EE.UU. y Canadá      6.0\n",
              "1698       2021-03    Fluvial/Marítima  Resto de América      4.0\n",
              "1699       2021-03    Fluvial/Marítima            Europa     15.0\n",
              "1700       2021-03    Fluvial/Marítima   Resto del mundo      4.0\n",
              "\n",
              "[1701 rows x 4 columns]"
            ]
          },
          "execution_count": 20,
          "metadata": {},
          "output_type": "execute_result"
        }
      ],
      "source": [
        "values={'indice_tiempo': 'nulo_indice', 'balanza': 'nulo_balanza'}\n",
        "\n",
        "data_turismo.fillna(value=values)"
      ]
    },
    {
      "cell_type": "code",
      "execution_count": null,
      "metadata": {
        "id": "AzbbgZDM0iZO"
      },
      "outputs": [],
      "source": [
        "# remplazo en el mismo data frame\n",
        "data_turismo.fillna(value=values, inplace=True)"
      ]
    },
    {
      "cell_type": "code",
      "execution_count": null,
      "metadata": {
        "colab": {
          "base_uri": "https://localhost:8080/",
          "height": 424
        },
        "id": "_AbT7dT60qiF",
        "outputId": "c76012e4-051c-453d-e0f5-1f326c7d977b"
      },
      "outputs": [
        {
          "data": {
            "text/html": [
              "\n",
              "  <div id=\"df-37e3c77c-3c35-447f-8634-855d798b4efb\">\n",
              "    <div class=\"colab-df-container\">\n",
              "      <div>\n",
              "<style scoped>\n",
              "    .dataframe tbody tr th:only-of-type {\n",
              "        vertical-align: middle;\n",
              "    }\n",
              "\n",
              "    .dataframe tbody tr th {\n",
              "        vertical-align: top;\n",
              "    }\n",
              "\n",
              "    .dataframe thead th {\n",
              "        text-align: right;\n",
              "    }\n",
              "</style>\n",
              "<table border=\"1\" class=\"dataframe\">\n",
              "  <thead>\n",
              "    <tr style=\"text-align: right;\">\n",
              "      <th></th>\n",
              "      <th>indice_tiempo</th>\n",
              "      <th>medio_de_transporte</th>\n",
              "      <th>pais</th>\n",
              "      <th>balanza</th>\n",
              "    </tr>\n",
              "  </thead>\n",
              "  <tbody>\n",
              "    <tr>\n",
              "      <th>0</th>\n",
              "      <td>2016-01</td>\n",
              "      <td>Aérea</td>\n",
              "      <td>Bolivia</td>\n",
              "      <td>3635.9</td>\n",
              "    </tr>\n",
              "    <tr>\n",
              "      <th>1</th>\n",
              "      <td>2016-01</td>\n",
              "      <td>Aérea</td>\n",
              "      <td>Brasil</td>\n",
              "      <td>-66768.5</td>\n",
              "    </tr>\n",
              "    <tr>\n",
              "      <th>2</th>\n",
              "      <td>2016-01</td>\n",
              "      <td>Aérea</td>\n",
              "      <td>Chile</td>\n",
              "      <td>-11200.7</td>\n",
              "    </tr>\n",
              "    <tr>\n",
              "      <th>3</th>\n",
              "      <td>2016-01</td>\n",
              "      <td>Aérea</td>\n",
              "      <td>Paraguay</td>\n",
              "      <td>1996.4</td>\n",
              "    </tr>\n",
              "    <tr>\n",
              "      <th>4</th>\n",
              "      <td>2016-01</td>\n",
              "      <td>Aérea</td>\n",
              "      <td>Uruguay</td>\n",
              "      <td>-12748.3</td>\n",
              "    </tr>\n",
              "    <tr>\n",
              "      <th>...</th>\n",
              "      <td>...</td>\n",
              "      <td>...</td>\n",
              "      <td>...</td>\n",
              "      <td>...</td>\n",
              "    </tr>\n",
              "    <tr>\n",
              "      <th>1696</th>\n",
              "      <td>2021-03</td>\n",
              "      <td>Fluvial/Marítima</td>\n",
              "      <td>Uruguay</td>\n",
              "      <td>-4172.0</td>\n",
              "    </tr>\n",
              "    <tr>\n",
              "      <th>1697</th>\n",
              "      <td>2021-03</td>\n",
              "      <td>Fluvial/Marítima</td>\n",
              "      <td>EE.UU. y Canadá</td>\n",
              "      <td>6.0</td>\n",
              "    </tr>\n",
              "    <tr>\n",
              "      <th>1698</th>\n",
              "      <td>2021-03</td>\n",
              "      <td>Fluvial/Marítima</td>\n",
              "      <td>Resto de América</td>\n",
              "      <td>4.0</td>\n",
              "    </tr>\n",
              "    <tr>\n",
              "      <th>1699</th>\n",
              "      <td>2021-03</td>\n",
              "      <td>Fluvial/Marítima</td>\n",
              "      <td>Europa</td>\n",
              "      <td>15.0</td>\n",
              "    </tr>\n",
              "    <tr>\n",
              "      <th>1700</th>\n",
              "      <td>2021-03</td>\n",
              "      <td>Fluvial/Marítima</td>\n",
              "      <td>Resto del mundo</td>\n",
              "      <td>4.0</td>\n",
              "    </tr>\n",
              "  </tbody>\n",
              "</table>\n",
              "<p>1701 rows × 4 columns</p>\n",
              "</div>\n",
              "      <button class=\"colab-df-convert\" onclick=\"convertToInteractive('df-37e3c77c-3c35-447f-8634-855d798b4efb')\"\n",
              "              title=\"Convert this dataframe to an interactive table.\"\n",
              "              style=\"display:none;\">\n",
              "        \n",
              "  <svg xmlns=\"http://www.w3.org/2000/svg\" height=\"24px\"viewBox=\"0 0 24 24\"\n",
              "       width=\"24px\">\n",
              "    <path d=\"M0 0h24v24H0V0z\" fill=\"none\"/>\n",
              "    <path d=\"M18.56 5.44l.94 2.06.94-2.06 2.06-.94-2.06-.94-.94-2.06-.94 2.06-2.06.94zm-11 1L8.5 8.5l.94-2.06 2.06-.94-2.06-.94L8.5 2.5l-.94 2.06-2.06.94zm10 10l.94 2.06.94-2.06 2.06-.94-2.06-.94-.94-2.06-.94 2.06-2.06.94z\"/><path d=\"M17.41 7.96l-1.37-1.37c-.4-.4-.92-.59-1.43-.59-.52 0-1.04.2-1.43.59L10.3 9.45l-7.72 7.72c-.78.78-.78 2.05 0 2.83L4 21.41c.39.39.9.59 1.41.59.51 0 1.02-.2 1.41-.59l7.78-7.78 2.81-2.81c.8-.78.8-2.07 0-2.86zM5.41 20L4 18.59l7.72-7.72 1.47 1.35L5.41 20z\"/>\n",
              "  </svg>\n",
              "      </button>\n",
              "      \n",
              "  <style>\n",
              "    .colab-df-container {\n",
              "      display:flex;\n",
              "      flex-wrap:wrap;\n",
              "      gap: 12px;\n",
              "    }\n",
              "\n",
              "    .colab-df-convert {\n",
              "      background-color: #E8F0FE;\n",
              "      border: none;\n",
              "      border-radius: 50%;\n",
              "      cursor: pointer;\n",
              "      display: none;\n",
              "      fill: #1967D2;\n",
              "      height: 32px;\n",
              "      padding: 0 0 0 0;\n",
              "      width: 32px;\n",
              "    }\n",
              "\n",
              "    .colab-df-convert:hover {\n",
              "      background-color: #E2EBFA;\n",
              "      box-shadow: 0px 1px 2px rgba(60, 64, 67, 0.3), 0px 1px 3px 1px rgba(60, 64, 67, 0.15);\n",
              "      fill: #174EA6;\n",
              "    }\n",
              "\n",
              "    [theme=dark] .colab-df-convert {\n",
              "      background-color: #3B4455;\n",
              "      fill: #D2E3FC;\n",
              "    }\n",
              "\n",
              "    [theme=dark] .colab-df-convert:hover {\n",
              "      background-color: #434B5C;\n",
              "      box-shadow: 0px 1px 3px 1px rgba(0, 0, 0, 0.15);\n",
              "      filter: drop-shadow(0px 1px 2px rgba(0, 0, 0, 0.3));\n",
              "      fill: #FFFFFF;\n",
              "    }\n",
              "  </style>\n",
              "\n",
              "      <script>\n",
              "        const buttonEl =\n",
              "          document.querySelector('#df-37e3c77c-3c35-447f-8634-855d798b4efb button.colab-df-convert');\n",
              "        buttonEl.style.display =\n",
              "          google.colab.kernel.accessAllowed ? 'block' : 'none';\n",
              "\n",
              "        async function convertToInteractive(key) {\n",
              "          const element = document.querySelector('#df-37e3c77c-3c35-447f-8634-855d798b4efb');\n",
              "          const dataTable =\n",
              "            await google.colab.kernel.invokeFunction('convertToInteractive',\n",
              "                                                     [key], {});\n",
              "          if (!dataTable) return;\n",
              "\n",
              "          const docLinkHtml = 'Like what you see? Visit the ' +\n",
              "            '<a target=\"_blank\" href=https://colab.research.google.com/notebooks/data_table.ipynb>data table notebook</a>'\n",
              "            + ' to learn more about interactive tables.';\n",
              "          element.innerHTML = '';\n",
              "          dataTable['output_type'] = 'display_data';\n",
              "          await google.colab.output.renderOutput(dataTable, element);\n",
              "          const docLink = document.createElement('div');\n",
              "          docLink.innerHTML = docLinkHtml;\n",
              "          element.appendChild(docLink);\n",
              "        }\n",
              "      </script>\n",
              "    </div>\n",
              "  </div>\n",
              "  "
            ],
            "text/plain": [
              "     indice_tiempo medio_de_transporte              pais  balanza\n",
              "0          2016-01               Aérea           Bolivia   3635.9\n",
              "1          2016-01               Aérea            Brasil -66768.5\n",
              "2          2016-01               Aérea             Chile -11200.7\n",
              "3          2016-01               Aérea          Paraguay   1996.4\n",
              "4          2016-01               Aérea           Uruguay -12748.3\n",
              "...            ...                 ...               ...      ...\n",
              "1696       2021-03    Fluvial/Marítima           Uruguay  -4172.0\n",
              "1697       2021-03    Fluvial/Marítima   EE.UU. y Canadá      6.0\n",
              "1698       2021-03    Fluvial/Marítima  Resto de América      4.0\n",
              "1699       2021-03    Fluvial/Marítima            Europa     15.0\n",
              "1700       2021-03    Fluvial/Marítima   Resto del mundo      4.0\n",
              "\n",
              "[1701 rows x 4 columns]"
            ]
          },
          "execution_count": 23,
          "metadata": {},
          "output_type": "execute_result"
        }
      ],
      "source": [
        "data_turismo"
      ]
    },
    {
      "cell_type": "code",
      "execution_count": null,
      "metadata": {
        "id": "x-XG8aT80xP0"
      },
      "outputs": [],
      "source": [
        ""
      ]
    },
    {
      "cell_type": "markdown",
      "metadata": {
        "id": "34BuebZY06VF"
      },
      "source": [
        "## Imputación de nulos para variables numéricas"
      ]
    },
    {
      "cell_type": "code",
      "execution_count": null,
      "metadata": {
        "colab": {
          "base_uri": "https://localhost:8080/"
        },
        "id": "B3S0T_XL06yi",
        "outputId": "9a0a42ac-6cae-49aa-b8c1-f9e3a04cac4b"
      },
      "outputs": [
        {
          "data": {
            "text/plain": [
              "-9431.563198118745"
            ]
          },
          "execution_count": 24,
          "metadata": {},
          "output_type": "execute_result"
        }
      ],
      "source": [
        "# Obtención del promedio, y luego imputamos una columna\n",
        "data_turismo['balanza'].mean()\n"
      ]
    },
    {
      "cell_type": "code",
      "execution_count": null,
      "metadata": {
        "colab": {
          "base_uri": "https://localhost:8080/",
          "height": 424
        },
        "id": "3H31XQ0b1eGK",
        "outputId": "ce7baafb-9f2c-4c01-c0e5-5feec1eb993a"
      },
      "outputs": [
        {
          "data": {
            "text/html": [
              "\n",
              "  <div id=\"df-6d8c12ea-9bcc-46b4-bba7-c15b8edcb9d8\">\n",
              "    <div class=\"colab-df-container\">\n",
              "      <div>\n",
              "<style scoped>\n",
              "    .dataframe tbody tr th:only-of-type {\n",
              "        vertical-align: middle;\n",
              "    }\n",
              "\n",
              "    .dataframe tbody tr th {\n",
              "        vertical-align: top;\n",
              "    }\n",
              "\n",
              "    .dataframe thead th {\n",
              "        text-align: right;\n",
              "    }\n",
              "</style>\n",
              "<table border=\"1\" class=\"dataframe\">\n",
              "  <thead>\n",
              "    <tr style=\"text-align: right;\">\n",
              "      <th></th>\n",
              "      <th>indice_tiempo</th>\n",
              "      <th>medio_de_transporte</th>\n",
              "      <th>pais</th>\n",
              "      <th>balanza</th>\n",
              "    </tr>\n",
              "  </thead>\n",
              "  <tbody>\n",
              "    <tr>\n",
              "      <th>0</th>\n",
              "      <td>2016-01</td>\n",
              "      <td>Aérea</td>\n",
              "      <td>Bolivia</td>\n",
              "      <td>3635.9</td>\n",
              "    </tr>\n",
              "    <tr>\n",
              "      <th>1</th>\n",
              "      <td>2016-01</td>\n",
              "      <td>Aérea</td>\n",
              "      <td>Brasil</td>\n",
              "      <td>-66768.5</td>\n",
              "    </tr>\n",
              "    <tr>\n",
              "      <th>2</th>\n",
              "      <td>2016-01</td>\n",
              "      <td>Aérea</td>\n",
              "      <td>Chile</td>\n",
              "      <td>-11200.7</td>\n",
              "    </tr>\n",
              "    <tr>\n",
              "      <th>3</th>\n",
              "      <td>2016-01</td>\n",
              "      <td>Aérea</td>\n",
              "      <td>Paraguay</td>\n",
              "      <td>1996.4</td>\n",
              "    </tr>\n",
              "    <tr>\n",
              "      <th>4</th>\n",
              "      <td>2016-01</td>\n",
              "      <td>Aérea</td>\n",
              "      <td>Uruguay</td>\n",
              "      <td>-12748.3</td>\n",
              "    </tr>\n",
              "    <tr>\n",
              "      <th>...</th>\n",
              "      <td>...</td>\n",
              "      <td>...</td>\n",
              "      <td>...</td>\n",
              "      <td>...</td>\n",
              "    </tr>\n",
              "    <tr>\n",
              "      <th>1696</th>\n",
              "      <td>2021-03</td>\n",
              "      <td>Fluvial/Marítima</td>\n",
              "      <td>Uruguay</td>\n",
              "      <td>-4172.0</td>\n",
              "    </tr>\n",
              "    <tr>\n",
              "      <th>1697</th>\n",
              "      <td>2021-03</td>\n",
              "      <td>Fluvial/Marítima</td>\n",
              "      <td>EE.UU. y Canadá</td>\n",
              "      <td>6.0</td>\n",
              "    </tr>\n",
              "    <tr>\n",
              "      <th>1698</th>\n",
              "      <td>2021-03</td>\n",
              "      <td>Fluvial/Marítima</td>\n",
              "      <td>Resto de América</td>\n",
              "      <td>4.0</td>\n",
              "    </tr>\n",
              "    <tr>\n",
              "      <th>1699</th>\n",
              "      <td>2021-03</td>\n",
              "      <td>Fluvial/Marítima</td>\n",
              "      <td>Europa</td>\n",
              "      <td>15.0</td>\n",
              "    </tr>\n",
              "    <tr>\n",
              "      <th>1700</th>\n",
              "      <td>2021-03</td>\n",
              "      <td>Fluvial/Marítima</td>\n",
              "      <td>Resto del mundo</td>\n",
              "      <td>4.0</td>\n",
              "    </tr>\n",
              "  </tbody>\n",
              "</table>\n",
              "<p>1701 rows × 4 columns</p>\n",
              "</div>\n",
              "      <button class=\"colab-df-convert\" onclick=\"convertToInteractive('df-6d8c12ea-9bcc-46b4-bba7-c15b8edcb9d8')\"\n",
              "              title=\"Convert this dataframe to an interactive table.\"\n",
              "              style=\"display:none;\">\n",
              "        \n",
              "  <svg xmlns=\"http://www.w3.org/2000/svg\" height=\"24px\"viewBox=\"0 0 24 24\"\n",
              "       width=\"24px\">\n",
              "    <path d=\"M0 0h24v24H0V0z\" fill=\"none\"/>\n",
              "    <path d=\"M18.56 5.44l.94 2.06.94-2.06 2.06-.94-2.06-.94-.94-2.06-.94 2.06-2.06.94zm-11 1L8.5 8.5l.94-2.06 2.06-.94-2.06-.94L8.5 2.5l-.94 2.06-2.06.94zm10 10l.94 2.06.94-2.06 2.06-.94-2.06-.94-.94-2.06-.94 2.06-2.06.94z\"/><path d=\"M17.41 7.96l-1.37-1.37c-.4-.4-.92-.59-1.43-.59-.52 0-1.04.2-1.43.59L10.3 9.45l-7.72 7.72c-.78.78-.78 2.05 0 2.83L4 21.41c.39.39.9.59 1.41.59.51 0 1.02-.2 1.41-.59l7.78-7.78 2.81-2.81c.8-.78.8-2.07 0-2.86zM5.41 20L4 18.59l7.72-7.72 1.47 1.35L5.41 20z\"/>\n",
              "  </svg>\n",
              "      </button>\n",
              "      \n",
              "  <style>\n",
              "    .colab-df-container {\n",
              "      display:flex;\n",
              "      flex-wrap:wrap;\n",
              "      gap: 12px;\n",
              "    }\n",
              "\n",
              "    .colab-df-convert {\n",
              "      background-color: #E8F0FE;\n",
              "      border: none;\n",
              "      border-radius: 50%;\n",
              "      cursor: pointer;\n",
              "      display: none;\n",
              "      fill: #1967D2;\n",
              "      height: 32px;\n",
              "      padding: 0 0 0 0;\n",
              "      width: 32px;\n",
              "    }\n",
              "\n",
              "    .colab-df-convert:hover {\n",
              "      background-color: #E2EBFA;\n",
              "      box-shadow: 0px 1px 2px rgba(60, 64, 67, 0.3), 0px 1px 3px 1px rgba(60, 64, 67, 0.15);\n",
              "      fill: #174EA6;\n",
              "    }\n",
              "\n",
              "    [theme=dark] .colab-df-convert {\n",
              "      background-color: #3B4455;\n",
              "      fill: #D2E3FC;\n",
              "    }\n",
              "\n",
              "    [theme=dark] .colab-df-convert:hover {\n",
              "      background-color: #434B5C;\n",
              "      box-shadow: 0px 1px 3px 1px rgba(0, 0, 0, 0.15);\n",
              "      filter: drop-shadow(0px 1px 2px rgba(0, 0, 0, 0.3));\n",
              "      fill: #FFFFFF;\n",
              "    }\n",
              "  </style>\n",
              "\n",
              "      <script>\n",
              "        const buttonEl =\n",
              "          document.querySelector('#df-6d8c12ea-9bcc-46b4-bba7-c15b8edcb9d8 button.colab-df-convert');\n",
              "        buttonEl.style.display =\n",
              "          google.colab.kernel.accessAllowed ? 'block' : 'none';\n",
              "\n",
              "        async function convertToInteractive(key) {\n",
              "          const element = document.querySelector('#df-6d8c12ea-9bcc-46b4-bba7-c15b8edcb9d8');\n",
              "          const dataTable =\n",
              "            await google.colab.kernel.invokeFunction('convertToInteractive',\n",
              "                                                     [key], {});\n",
              "          if (!dataTable) return;\n",
              "\n",
              "          const docLinkHtml = 'Like what you see? Visit the ' +\n",
              "            '<a target=\"_blank\" href=https://colab.research.google.com/notebooks/data_table.ipynb>data table notebook</a>'\n",
              "            + ' to learn more about interactive tables.';\n",
              "          element.innerHTML = '';\n",
              "          dataTable['output_type'] = 'display_data';\n",
              "          await google.colab.output.renderOutput(dataTable, element);\n",
              "          const docLink = document.createElement('div');\n",
              "          docLink.innerHTML = docLinkHtml;\n",
              "          element.appendChild(docLink);\n",
              "        }\n",
              "      </script>\n",
              "    </div>\n",
              "  </div>\n",
              "  "
            ],
            "text/plain": [
              "     indice_tiempo medio_de_transporte              pais  balanza\n",
              "0          2016-01               Aérea           Bolivia   3635.9\n",
              "1          2016-01               Aérea            Brasil -66768.5\n",
              "2          2016-01               Aérea             Chile -11200.7\n",
              "3          2016-01               Aérea          Paraguay   1996.4\n",
              "4          2016-01               Aérea           Uruguay -12748.3\n",
              "...            ...                 ...               ...      ...\n",
              "1696       2021-03    Fluvial/Marítima           Uruguay  -4172.0\n",
              "1697       2021-03    Fluvial/Marítima   EE.UU. y Canadá      6.0\n",
              "1698       2021-03    Fluvial/Marítima  Resto de América      4.0\n",
              "1699       2021-03    Fluvial/Marítima            Europa     15.0\n",
              "1700       2021-03    Fluvial/Marítima   Resto del mundo      4.0\n",
              "\n",
              "[1701 rows x 4 columns]"
            ]
          },
          "execution_count": 25,
          "metadata": {},
          "output_type": "execute_result"
        }
      ],
      "source": [
        "data_turismo['balanza']=data_turismo['balanza'].fillna(data_turismo['balanza'].mean())\n",
        "\n",
        "data_turismo"
      ]
    },
    {
      "cell_type": "code",
      "execution_count": null,
      "metadata": {
        "id": "XMEws5mY1woT"
      },
      "outputs": [],
      "source": [
        "  "
      ]
    },
    {
      "cell_type": "markdown",
      "metadata": {
        "id": "xw7HWKn0l6a5"
      },
      "source": [
        "# **EJERCICIOS **"
      ]
    },
    {
      "cell_type": "code",
      "execution_count": null,
      "metadata": {
        "id": "IxHZ3-AWmB2g"
      },
      "outputs": [],
      "source": [
        ""
      ]
    },
    {
      "cell_type": "code",
      "execution_count": null,
      "metadata": {
        "id": "bVCiM4IW0GUB"
      },
      "outputs": [],
      "source": [
        "list_valores1 = [1,2,3,4,5]\n",
        "list_valores2 = [\"a\", \"b\", \"c\", \"d\", \"e\"]"
      ]
    },
    {
      "cell_type": "code",
      "execution_count": null,
      "metadata": {
        "colab": {
          "base_uri": "https://localhost:8080/"
        },
        "id": "1OUB57uxmDC0",
        "outputId": "e6f317b7-d148-4d39-8505-6b52b86b191c"
      },
      "outputs": [
        {
          "data": {
            "text/plain": [
              "[1, 2, 3, 4, 5]"
            ]
          },
          "execution_count": 6,
          "metadata": {},
          "output_type": "execute_result"
        }
      ],
      "source": [
        "list_valores1"
      ]
    },
    {
      "cell_type": "code",
      "execution_count": null,
      "metadata": {
        "colab": {
          "base_uri": "https://localhost:8080/"
        },
        "id": "WE6uBSQymNGm",
        "outputId": "e51dd578-51df-4578-df58-ac2be103761c"
      },
      "outputs": [
        {
          "data": {
            "text/plain": [
              "['a', 'b', 'c', 'd', 'e']"
            ]
          },
          "execution_count": 7,
          "metadata": {},
          "output_type": "execute_result"
        }
      ],
      "source": [
        "list_valores2"
      ]
    },
    {
      "cell_type": "code",
      "execution_count": null,
      "metadata": {
        "id": "Qni2XlfLnYwI"
      },
      "outputs": [],
      "source": [
        "import pandas as pd "
      ]
    },
    {
      "cell_type": "code",
      "execution_count": null,
      "metadata": {
        "id": "h6DLpzuDmoCT"
      },
      "outputs": [],
      "source": [
        "d_test = pd.DataFrame ({'columna1': list_valores1,\n",
        "                        'columna2': list_valores2\n",
        "                      })\n",
        "\n"
      ]
    },
    {
      "cell_type": "code",
      "execution_count": null,
      "metadata": {
        "colab": {
          "base_uri": "https://localhost:8080/",
          "height": 206
        },
        "id": "QXYQEcR0nVjH",
        "outputId": "354b1f55-64eb-4e29-db5c-cddd52182d95"
      },
      "outputs": [
        {
          "data": {
            "text/html": [
              "\n",
              "  <div id=\"df-69c30e61-6710-4a72-99d0-17224b8f2903\">\n",
              "    <div class=\"colab-df-container\">\n",
              "      <div>\n",
              "<style scoped>\n",
              "    .dataframe tbody tr th:only-of-type {\n",
              "        vertical-align: middle;\n",
              "    }\n",
              "\n",
              "    .dataframe tbody tr th {\n",
              "        vertical-align: top;\n",
              "    }\n",
              "\n",
              "    .dataframe thead th {\n",
              "        text-align: right;\n",
              "    }\n",
              "</style>\n",
              "<table border=\"1\" class=\"dataframe\">\n",
              "  <thead>\n",
              "    <tr style=\"text-align: right;\">\n",
              "      <th></th>\n",
              "      <th>columna1</th>\n",
              "      <th>columna2</th>\n",
              "    </tr>\n",
              "  </thead>\n",
              "  <tbody>\n",
              "    <tr>\n",
              "      <th>0</th>\n",
              "      <td>1</td>\n",
              "      <td>a</td>\n",
              "    </tr>\n",
              "    <tr>\n",
              "      <th>1</th>\n",
              "      <td>2</td>\n",
              "      <td>b</td>\n",
              "    </tr>\n",
              "    <tr>\n",
              "      <th>2</th>\n",
              "      <td>3</td>\n",
              "      <td>c</td>\n",
              "    </tr>\n",
              "    <tr>\n",
              "      <th>3</th>\n",
              "      <td>4</td>\n",
              "      <td>d</td>\n",
              "    </tr>\n",
              "    <tr>\n",
              "      <th>4</th>\n",
              "      <td>5</td>\n",
              "      <td>e</td>\n",
              "    </tr>\n",
              "  </tbody>\n",
              "</table>\n",
              "</div>\n",
              "      <button class=\"colab-df-convert\" onclick=\"convertToInteractive('df-69c30e61-6710-4a72-99d0-17224b8f2903')\"\n",
              "              title=\"Convert this dataframe to an interactive table.\"\n",
              "              style=\"display:none;\">\n",
              "        \n",
              "  <svg xmlns=\"http://www.w3.org/2000/svg\" height=\"24px\"viewBox=\"0 0 24 24\"\n",
              "       width=\"24px\">\n",
              "    <path d=\"M0 0h24v24H0V0z\" fill=\"none\"/>\n",
              "    <path d=\"M18.56 5.44l.94 2.06.94-2.06 2.06-.94-2.06-.94-.94-2.06-.94 2.06-2.06.94zm-11 1L8.5 8.5l.94-2.06 2.06-.94-2.06-.94L8.5 2.5l-.94 2.06-2.06.94zm10 10l.94 2.06.94-2.06 2.06-.94-2.06-.94-.94-2.06-.94 2.06-2.06.94z\"/><path d=\"M17.41 7.96l-1.37-1.37c-.4-.4-.92-.59-1.43-.59-.52 0-1.04.2-1.43.59L10.3 9.45l-7.72 7.72c-.78.78-.78 2.05 0 2.83L4 21.41c.39.39.9.59 1.41.59.51 0 1.02-.2 1.41-.59l7.78-7.78 2.81-2.81c.8-.78.8-2.07 0-2.86zM5.41 20L4 18.59l7.72-7.72 1.47 1.35L5.41 20z\"/>\n",
              "  </svg>\n",
              "      </button>\n",
              "      \n",
              "  <style>\n",
              "    .colab-df-container {\n",
              "      display:flex;\n",
              "      flex-wrap:wrap;\n",
              "      gap: 12px;\n",
              "    }\n",
              "\n",
              "    .colab-df-convert {\n",
              "      background-color: #E8F0FE;\n",
              "      border: none;\n",
              "      border-radius: 50%;\n",
              "      cursor: pointer;\n",
              "      display: none;\n",
              "      fill: #1967D2;\n",
              "      height: 32px;\n",
              "      padding: 0 0 0 0;\n",
              "      width: 32px;\n",
              "    }\n",
              "\n",
              "    .colab-df-convert:hover {\n",
              "      background-color: #E2EBFA;\n",
              "      box-shadow: 0px 1px 2px rgba(60, 64, 67, 0.3), 0px 1px 3px 1px rgba(60, 64, 67, 0.15);\n",
              "      fill: #174EA6;\n",
              "    }\n",
              "\n",
              "    [theme=dark] .colab-df-convert {\n",
              "      background-color: #3B4455;\n",
              "      fill: #D2E3FC;\n",
              "    }\n",
              "\n",
              "    [theme=dark] .colab-df-convert:hover {\n",
              "      background-color: #434B5C;\n",
              "      box-shadow: 0px 1px 3px 1px rgba(0, 0, 0, 0.15);\n",
              "      filter: drop-shadow(0px 1px 2px rgba(0, 0, 0, 0.3));\n",
              "      fill: #FFFFFF;\n",
              "    }\n",
              "  </style>\n",
              "\n",
              "      <script>\n",
              "        const buttonEl =\n",
              "          document.querySelector('#df-69c30e61-6710-4a72-99d0-17224b8f2903 button.colab-df-convert');\n",
              "        buttonEl.style.display =\n",
              "          google.colab.kernel.accessAllowed ? 'block' : 'none';\n",
              "\n",
              "        async function convertToInteractive(key) {\n",
              "          const element = document.querySelector('#df-69c30e61-6710-4a72-99d0-17224b8f2903');\n",
              "          const dataTable =\n",
              "            await google.colab.kernel.invokeFunction('convertToInteractive',\n",
              "                                                     [key], {});\n",
              "          if (!dataTable) return;\n",
              "\n",
              "          const docLinkHtml = 'Like what you see? Visit the ' +\n",
              "            '<a target=\"_blank\" href=https://colab.research.google.com/notebooks/data_table.ipynb>data table notebook</a>'\n",
              "            + ' to learn more about interactive tables.';\n",
              "          element.innerHTML = '';\n",
              "          dataTable['output_type'] = 'display_data';\n",
              "          await google.colab.output.renderOutput(dataTable, element);\n",
              "          const docLink = document.createElement('div');\n",
              "          docLink.innerHTML = docLinkHtml;\n",
              "          element.appendChild(docLink);\n",
              "        }\n",
              "      </script>\n",
              "    </div>\n",
              "  </div>\n",
              "  "
            ],
            "text/plain": [
              "   columna1 columna2\n",
              "0         1        a\n",
              "1         2        b\n",
              "2         3        c\n",
              "3         4        d\n",
              "4         5        e"
            ]
          },
          "execution_count": 12,
          "metadata": {},
          "output_type": "execute_result"
        }
      ],
      "source": [
        "d_test"
      ]
    },
    {
      "cell_type": "code",
      "execution_count": null,
      "metadata": {
        "id": "P8VHdHShnkfB"
      },
      "outputs": [],
      "source": [
        "d_hd = pd.read_csv (\"https://raw.githubusercontent.com/pablo14/datasets/main/heart_disease/heart_disease.csv\")"
      ]
    },
    {
      "cell_type": "code",
      "execution_count": null,
      "metadata": {
        "colab": {
          "base_uri": "https://localhost:8080/",
          "height": 488
        },
        "id": "mwc-abJIn-_f",
        "outputId": "46f3a87d-d7eb-49a4-eb5f-10412f7e9bc0"
      },
      "outputs": [
        {
          "data": {
            "text/html": [
              "\n",
              "  <div id=\"df-8a0a7c9e-93cd-4e5f-adc2-3ae29c260945\">\n",
              "    <div class=\"colab-df-container\">\n",
              "      <div>\n",
              "<style scoped>\n",
              "    .dataframe tbody tr th:only-of-type {\n",
              "        vertical-align: middle;\n",
              "    }\n",
              "\n",
              "    .dataframe tbody tr th {\n",
              "        vertical-align: top;\n",
              "    }\n",
              "\n",
              "    .dataframe thead th {\n",
              "        text-align: right;\n",
              "    }\n",
              "</style>\n",
              "<table border=\"1\" class=\"dataframe\">\n",
              "  <thead>\n",
              "    <tr style=\"text-align: right;\">\n",
              "      <th></th>\n",
              "      <th>age</th>\n",
              "      <th>gender</th>\n",
              "      <th>chest_pain</th>\n",
              "      <th>resting_blood_pressure</th>\n",
              "      <th>serum_cholestoral</th>\n",
              "      <th>fasting_blood_sugar</th>\n",
              "      <th>resting_electro</th>\n",
              "      <th>max_heart_rate</th>\n",
              "      <th>exer_angina</th>\n",
              "      <th>oldpeak</th>\n",
              "      <th>slope</th>\n",
              "      <th>num_vessels_flour</th>\n",
              "      <th>thal</th>\n",
              "      <th>heart_disease_severity</th>\n",
              "      <th>exter_angina</th>\n",
              "      <th>has_heart_disease</th>\n",
              "    </tr>\n",
              "  </thead>\n",
              "  <tbody>\n",
              "    <tr>\n",
              "      <th>0</th>\n",
              "      <td>63</td>\n",
              "      <td>male</td>\n",
              "      <td>1</td>\n",
              "      <td>145</td>\n",
              "      <td>233</td>\n",
              "      <td>1</td>\n",
              "      <td>2</td>\n",
              "      <td>150</td>\n",
              "      <td>0</td>\n",
              "      <td>2.3</td>\n",
              "      <td>3</td>\n",
              "      <td>0.0</td>\n",
              "      <td>6.0</td>\n",
              "      <td>0</td>\n",
              "      <td>0</td>\n",
              "      <td>no</td>\n",
              "    </tr>\n",
              "    <tr>\n",
              "      <th>1</th>\n",
              "      <td>67</td>\n",
              "      <td>male</td>\n",
              "      <td>4</td>\n",
              "      <td>160</td>\n",
              "      <td>286</td>\n",
              "      <td>0</td>\n",
              "      <td>2</td>\n",
              "      <td>108</td>\n",
              "      <td>1</td>\n",
              "      <td>1.5</td>\n",
              "      <td>2</td>\n",
              "      <td>3.0</td>\n",
              "      <td>3.0</td>\n",
              "      <td>2</td>\n",
              "      <td>1</td>\n",
              "      <td>yes</td>\n",
              "    </tr>\n",
              "    <tr>\n",
              "      <th>2</th>\n",
              "      <td>67</td>\n",
              "      <td>male</td>\n",
              "      <td>4</td>\n",
              "      <td>120</td>\n",
              "      <td>229</td>\n",
              "      <td>0</td>\n",
              "      <td>2</td>\n",
              "      <td>129</td>\n",
              "      <td>1</td>\n",
              "      <td>2.6</td>\n",
              "      <td>2</td>\n",
              "      <td>2.0</td>\n",
              "      <td>7.0</td>\n",
              "      <td>1</td>\n",
              "      <td>1</td>\n",
              "      <td>yes</td>\n",
              "    </tr>\n",
              "    <tr>\n",
              "      <th>3</th>\n",
              "      <td>37</td>\n",
              "      <td>male</td>\n",
              "      <td>3</td>\n",
              "      <td>130</td>\n",
              "      <td>250</td>\n",
              "      <td>0</td>\n",
              "      <td>0</td>\n",
              "      <td>187</td>\n",
              "      <td>0</td>\n",
              "      <td>3.5</td>\n",
              "      <td>3</td>\n",
              "      <td>0.0</td>\n",
              "      <td>3.0</td>\n",
              "      <td>0</td>\n",
              "      <td>0</td>\n",
              "      <td>no</td>\n",
              "    </tr>\n",
              "    <tr>\n",
              "      <th>4</th>\n",
              "      <td>41</td>\n",
              "      <td>female</td>\n",
              "      <td>2</td>\n",
              "      <td>130</td>\n",
              "      <td>204</td>\n",
              "      <td>0</td>\n",
              "      <td>2</td>\n",
              "      <td>172</td>\n",
              "      <td>0</td>\n",
              "      <td>1.4</td>\n",
              "      <td>1</td>\n",
              "      <td>0.0</td>\n",
              "      <td>3.0</td>\n",
              "      <td>0</td>\n",
              "      <td>0</td>\n",
              "      <td>no</td>\n",
              "    </tr>\n",
              "    <tr>\n",
              "      <th>...</th>\n",
              "      <td>...</td>\n",
              "      <td>...</td>\n",
              "      <td>...</td>\n",
              "      <td>...</td>\n",
              "      <td>...</td>\n",
              "      <td>...</td>\n",
              "      <td>...</td>\n",
              "      <td>...</td>\n",
              "      <td>...</td>\n",
              "      <td>...</td>\n",
              "      <td>...</td>\n",
              "      <td>...</td>\n",
              "      <td>...</td>\n",
              "      <td>...</td>\n",
              "      <td>...</td>\n",
              "      <td>...</td>\n",
              "    </tr>\n",
              "    <tr>\n",
              "      <th>298</th>\n",
              "      <td>45</td>\n",
              "      <td>male</td>\n",
              "      <td>1</td>\n",
              "      <td>110</td>\n",
              "      <td>264</td>\n",
              "      <td>0</td>\n",
              "      <td>0</td>\n",
              "      <td>132</td>\n",
              "      <td>0</td>\n",
              "      <td>1.2</td>\n",
              "      <td>2</td>\n",
              "      <td>0.0</td>\n",
              "      <td>7.0</td>\n",
              "      <td>1</td>\n",
              "      <td>0</td>\n",
              "      <td>yes</td>\n",
              "    </tr>\n",
              "    <tr>\n",
              "      <th>299</th>\n",
              "      <td>68</td>\n",
              "      <td>male</td>\n",
              "      <td>4</td>\n",
              "      <td>144</td>\n",
              "      <td>193</td>\n",
              "      <td>1</td>\n",
              "      <td>0</td>\n",
              "      <td>141</td>\n",
              "      <td>0</td>\n",
              "      <td>3.4</td>\n",
              "      <td>2</td>\n",
              "      <td>2.0</td>\n",
              "      <td>7.0</td>\n",
              "      <td>2</td>\n",
              "      <td>0</td>\n",
              "      <td>yes</td>\n",
              "    </tr>\n",
              "    <tr>\n",
              "      <th>300</th>\n",
              "      <td>57</td>\n",
              "      <td>male</td>\n",
              "      <td>4</td>\n",
              "      <td>130</td>\n",
              "      <td>131</td>\n",
              "      <td>0</td>\n",
              "      <td>0</td>\n",
              "      <td>115</td>\n",
              "      <td>1</td>\n",
              "      <td>1.2</td>\n",
              "      <td>2</td>\n",
              "      <td>1.0</td>\n",
              "      <td>7.0</td>\n",
              "      <td>3</td>\n",
              "      <td>1</td>\n",
              "      <td>yes</td>\n",
              "    </tr>\n",
              "    <tr>\n",
              "      <th>301</th>\n",
              "      <td>57</td>\n",
              "      <td>female</td>\n",
              "      <td>2</td>\n",
              "      <td>130</td>\n",
              "      <td>236</td>\n",
              "      <td>0</td>\n",
              "      <td>2</td>\n",
              "      <td>174</td>\n",
              "      <td>0</td>\n",
              "      <td>0.0</td>\n",
              "      <td>2</td>\n",
              "      <td>1.0</td>\n",
              "      <td>3.0</td>\n",
              "      <td>1</td>\n",
              "      <td>0</td>\n",
              "      <td>yes</td>\n",
              "    </tr>\n",
              "    <tr>\n",
              "      <th>302</th>\n",
              "      <td>38</td>\n",
              "      <td>male</td>\n",
              "      <td>3</td>\n",
              "      <td>138</td>\n",
              "      <td>175</td>\n",
              "      <td>0</td>\n",
              "      <td>0</td>\n",
              "      <td>173</td>\n",
              "      <td>0</td>\n",
              "      <td>0.0</td>\n",
              "      <td>1</td>\n",
              "      <td>NaN</td>\n",
              "      <td>3.0</td>\n",
              "      <td>0</td>\n",
              "      <td>0</td>\n",
              "      <td>no</td>\n",
              "    </tr>\n",
              "  </tbody>\n",
              "</table>\n",
              "<p>303 rows × 16 columns</p>\n",
              "</div>\n",
              "      <button class=\"colab-df-convert\" onclick=\"convertToInteractive('df-8a0a7c9e-93cd-4e5f-adc2-3ae29c260945')\"\n",
              "              title=\"Convert this dataframe to an interactive table.\"\n",
              "              style=\"display:none;\">\n",
              "        \n",
              "  <svg xmlns=\"http://www.w3.org/2000/svg\" height=\"24px\"viewBox=\"0 0 24 24\"\n",
              "       width=\"24px\">\n",
              "    <path d=\"M0 0h24v24H0V0z\" fill=\"none\"/>\n",
              "    <path d=\"M18.56 5.44l.94 2.06.94-2.06 2.06-.94-2.06-.94-.94-2.06-.94 2.06-2.06.94zm-11 1L8.5 8.5l.94-2.06 2.06-.94-2.06-.94L8.5 2.5l-.94 2.06-2.06.94zm10 10l.94 2.06.94-2.06 2.06-.94-2.06-.94-.94-2.06-.94 2.06-2.06.94z\"/><path d=\"M17.41 7.96l-1.37-1.37c-.4-.4-.92-.59-1.43-.59-.52 0-1.04.2-1.43.59L10.3 9.45l-7.72 7.72c-.78.78-.78 2.05 0 2.83L4 21.41c.39.39.9.59 1.41.59.51 0 1.02-.2 1.41-.59l7.78-7.78 2.81-2.81c.8-.78.8-2.07 0-2.86zM5.41 20L4 18.59l7.72-7.72 1.47 1.35L5.41 20z\"/>\n",
              "  </svg>\n",
              "      </button>\n",
              "      \n",
              "  <style>\n",
              "    .colab-df-container {\n",
              "      display:flex;\n",
              "      flex-wrap:wrap;\n",
              "      gap: 12px;\n",
              "    }\n",
              "\n",
              "    .colab-df-convert {\n",
              "      background-color: #E8F0FE;\n",
              "      border: none;\n",
              "      border-radius: 50%;\n",
              "      cursor: pointer;\n",
              "      display: none;\n",
              "      fill: #1967D2;\n",
              "      height: 32px;\n",
              "      padding: 0 0 0 0;\n",
              "      width: 32px;\n",
              "    }\n",
              "\n",
              "    .colab-df-convert:hover {\n",
              "      background-color: #E2EBFA;\n",
              "      box-shadow: 0px 1px 2px rgba(60, 64, 67, 0.3), 0px 1px 3px 1px rgba(60, 64, 67, 0.15);\n",
              "      fill: #174EA6;\n",
              "    }\n",
              "\n",
              "    [theme=dark] .colab-df-convert {\n",
              "      background-color: #3B4455;\n",
              "      fill: #D2E3FC;\n",
              "    }\n",
              "\n",
              "    [theme=dark] .colab-df-convert:hover {\n",
              "      background-color: #434B5C;\n",
              "      box-shadow: 0px 1px 3px 1px rgba(0, 0, 0, 0.15);\n",
              "      filter: drop-shadow(0px 1px 2px rgba(0, 0, 0, 0.3));\n",
              "      fill: #FFFFFF;\n",
              "    }\n",
              "  </style>\n",
              "\n",
              "      <script>\n",
              "        const buttonEl =\n",
              "          document.querySelector('#df-8a0a7c9e-93cd-4e5f-adc2-3ae29c260945 button.colab-df-convert');\n",
              "        buttonEl.style.display =\n",
              "          google.colab.kernel.accessAllowed ? 'block' : 'none';\n",
              "\n",
              "        async function convertToInteractive(key) {\n",
              "          const element = document.querySelector('#df-8a0a7c9e-93cd-4e5f-adc2-3ae29c260945');\n",
              "          const dataTable =\n",
              "            await google.colab.kernel.invokeFunction('convertToInteractive',\n",
              "                                                     [key], {});\n",
              "          if (!dataTable) return;\n",
              "\n",
              "          const docLinkHtml = 'Like what you see? Visit the ' +\n",
              "            '<a target=\"_blank\" href=https://colab.research.google.com/notebooks/data_table.ipynb>data table notebook</a>'\n",
              "            + ' to learn more about interactive tables.';\n",
              "          element.innerHTML = '';\n",
              "          dataTable['output_type'] = 'display_data';\n",
              "          await google.colab.output.renderOutput(dataTable, element);\n",
              "          const docLink = document.createElement('div');\n",
              "          docLink.innerHTML = docLinkHtml;\n",
              "          element.appendChild(docLink);\n",
              "        }\n",
              "      </script>\n",
              "    </div>\n",
              "  </div>\n",
              "  "
            ],
            "text/plain": [
              "     age  gender  ...  exter_angina  has_heart_disease\n",
              "0     63    male  ...             0                 no\n",
              "1     67    male  ...             1                yes\n",
              "2     67    male  ...             1                yes\n",
              "3     37    male  ...             0                 no\n",
              "4     41  female  ...             0                 no\n",
              "..   ...     ...  ...           ...                ...\n",
              "298   45    male  ...             0                yes\n",
              "299   68    male  ...             0                yes\n",
              "300   57    male  ...             1                yes\n",
              "301   57  female  ...             0                yes\n",
              "302   38    male  ...             0                 no\n",
              "\n",
              "[303 rows x 16 columns]"
            ]
          },
          "execution_count": 15,
          "metadata": {},
          "output_type": "execute_result"
        }
      ],
      "source": [
        "d_hd"
      ]
    },
    {
      "cell_type": "code",
      "execution_count": null,
      "metadata": {
        "colab": {
          "base_uri": "https://localhost:8080/"
        },
        "id": "VlDjdrxYoAMq",
        "outputId": "c2da1dd8-3d9d-4343-b534-a76ef1cc8f34"
      },
      "outputs": [
        {
          "data": {
            "text/plain": [
              "(0      63\n",
              " 1      67\n",
              " 2      67\n",
              " 3      37\n",
              " 4      41\n",
              "        ..\n",
              " 298    45\n",
              " 299    68\n",
              " 300    57\n",
              " 301    57\n",
              " 302    38\n",
              " Name: age, Length: 303, dtype: int64, ['has_heart_disease'])"
            ]
          },
          "execution_count": 16,
          "metadata": {},
          "output_type": "execute_result"
        }
      ],
      "source": [
        "d_hd ['age'], ['has_heart_disease'] # Imprimir la variable `age` y `has_heart_disease` al mismo tiempo. No usar loc ni iloc."
      ]
    },
    {
      "cell_type": "code",
      "execution_count": null,
      "metadata": {
        "colab": {
          "base_uri": "https://localhost:8080/",
          "height": 910
        },
        "id": "cYgIDgv2o0j9",
        "outputId": "d46520e1-d849-4617-a8ce-2a0e388c4f33"
      },
      "outputs": [
        {
          "data": {
            "application/vnd.google.colaboratory.module+javascript": "\n      import \"https://ssl.gstatic.com/colaboratory/data_table/a6224c040fa35dcf/data_table.js\";\n\n      window.createDataTable({\n        data: [[{\n            'v': 0,\n            'f': \"0\",\n        },\n{\n            'v': 63,\n            'f': \"63\",\n        },\n\"male\",\n{\n            'v': 1,\n            'f': \"1\",\n        },\n{\n            'v': 145,\n            'f': \"145\",\n        },\n{\n            'v': 233,\n            'f': \"233\",\n        },\n{\n            'v': 1,\n            'f': \"1\",\n        },\n{\n            'v': 2,\n            'f': \"2\",\n        },\n{\n            'v': 150,\n            'f': \"150\",\n        },\n{\n            'v': 0,\n            'f': \"0\",\n        },\n{\n            'v': 2.3,\n            'f': \"2.3\",\n        },\n{\n            'v': 3,\n            'f': \"3\",\n        },\n{\n            'v': 0.0,\n            'f': \"0.0\",\n        },\n{\n            'v': 6.0,\n            'f': \"6.0\",\n        },\n{\n            'v': 0,\n            'f': \"0\",\n        },\n{\n            'v': 0,\n            'f': \"0\",\n        },\n\"no\"],\n [{\n            'v': 1,\n            'f': \"1\",\n        },\n{\n            'v': 67,\n            'f': \"67\",\n        },\n\"male\",\n{\n            'v': 4,\n            'f': \"4\",\n        },\n{\n            'v': 160,\n            'f': \"160\",\n        },\n{\n            'v': 286,\n            'f': \"286\",\n        },\n{\n            'v': 0,\n            'f': \"0\",\n        },\n{\n            'v': 2,\n            'f': \"2\",\n        },\n{\n            'v': 108,\n            'f': \"108\",\n        },\n{\n            'v': 1,\n            'f': \"1\",\n        },\n{\n            'v': 1.5,\n            'f': \"1.5\",\n        },\n{\n            'v': 2,\n            'f': \"2\",\n        },\n{\n            'v': 3.0,\n            'f': \"3.0\",\n        },\n{\n            'v': 3.0,\n            'f': \"3.0\",\n        },\n{\n            'v': 2,\n            'f': \"2\",\n        },\n{\n            'v': 1,\n            'f': \"1\",\n        },\n\"yes\"],\n [{\n            'v': 2,\n            'f': \"2\",\n        },\n{\n            'v': 67,\n            'f': \"67\",\n        },\n\"male\",\n{\n            'v': 4,\n            'f': \"4\",\n        },\n{\n            'v': 120,\n            'f': \"120\",\n        },\n{\n            'v': 229,\n            'f': \"229\",\n        },\n{\n            'v': 0,\n            'f': \"0\",\n        },\n{\n            'v': 2,\n            'f': \"2\",\n        },\n{\n            'v': 129,\n            'f': \"129\",\n        },\n{\n            'v': 1,\n            'f': \"1\",\n        },\n{\n            'v': 2.6,\n            'f': \"2.6\",\n        },\n{\n            'v': 2,\n            'f': \"2\",\n        },\n{\n            'v': 2.0,\n            'f': \"2.0\",\n        },\n{\n            'v': 7.0,\n            'f': \"7.0\",\n        },\n{\n            'v': 1,\n            'f': \"1\",\n        },\n{\n            'v': 1,\n            'f': \"1\",\n        },\n\"yes\"],\n [{\n            'v': 3,\n            'f': \"3\",\n        },\n{\n            'v': 37,\n            'f': \"37\",\n        },\n\"male\",\n{\n            'v': 3,\n            'f': \"3\",\n        },\n{\n            'v': 130,\n            'f': \"130\",\n        },\n{\n            'v': 250,\n            'f': \"250\",\n        },\n{\n            'v': 0,\n            'f': \"0\",\n        },\n{\n            'v': 0,\n            'f': \"0\",\n        },\n{\n            'v': 187,\n            'f': \"187\",\n        },\n{\n            'v': 0,\n            'f': \"0\",\n        },\n{\n            'v': 3.5,\n            'f': \"3.5\",\n        },\n{\n            'v': 3,\n            'f': \"3\",\n        },\n{\n            'v': 0.0,\n            'f': \"0.0\",\n        },\n{\n            'v': 3.0,\n            'f': \"3.0\",\n        },\n{\n            'v': 0,\n            'f': \"0\",\n        },\n{\n            'v': 0,\n            'f': \"0\",\n        },\n\"no\"],\n [{\n            'v': 4,\n            'f': \"4\",\n        },\n{\n            'v': 41,\n            'f': \"41\",\n        },\n\"female\",\n{\n            'v': 2,\n            'f': \"2\",\n        },\n{\n            'v': 130,\n            'f': \"130\",\n        },\n{\n            'v': 204,\n            'f': \"204\",\n        },\n{\n            'v': 0,\n            'f': \"0\",\n        },\n{\n            'v': 2,\n            'f': \"2\",\n        },\n{\n            'v': 172,\n            'f': \"172\",\n        },\n{\n            'v': 0,\n            'f': \"0\",\n        },\n{\n            'v': 1.4,\n            'f': \"1.4\",\n        },\n{\n            'v': 1,\n            'f': \"1\",\n        },\n{\n            'v': 0.0,\n            'f': \"0.0\",\n        },\n{\n            'v': 3.0,\n            'f': \"3.0\",\n        },\n{\n            'v': 0,\n            'f': \"0\",\n        },\n{\n            'v': 0,\n            'f': \"0\",\n        },\n\"no\"],\n [{\n            'v': 5,\n            'f': \"5\",\n        },\n{\n            'v': 56,\n            'f': \"56\",\n        },\n\"male\",\n{\n            'v': 2,\n            'f': \"2\",\n        },\n{\n            'v': 120,\n            'f': \"120\",\n        },\n{\n            'v': 236,\n            'f': \"236\",\n        },\n{\n            'v': 0,\n            'f': \"0\",\n        },\n{\n            'v': 0,\n            'f': \"0\",\n        },\n{\n            'v': 178,\n            'f': \"178\",\n        },\n{\n            'v': 0,\n            'f': \"0\",\n        },\n{\n            'v': 0.8,\n            'f': \"0.8\",\n        },\n{\n            'v': 1,\n            'f': \"1\",\n        },\n{\n            'v': 0.0,\n            'f': \"0.0\",\n        },\n{\n            'v': 3.0,\n            'f': \"3.0\",\n        },\n{\n            'v': 0,\n            'f': \"0\",\n        },\n{\n            'v': 0,\n            'f': \"0\",\n        },\n\"no\"],\n [{\n            'v': 6,\n            'f': \"6\",\n        },\n{\n            'v': 62,\n            'f': \"62\",\n        },\n\"female\",\n{\n            'v': 4,\n            'f': \"4\",\n        },\n{\n            'v': 140,\n            'f': \"140\",\n        },\n{\n            'v': 268,\n            'f': \"268\",\n        },\n{\n            'v': 0,\n            'f': \"0\",\n        },\n{\n            'v': 2,\n            'f': \"2\",\n        },\n{\n            'v': 160,\n            'f': \"160\",\n        },\n{\n            'v': 0,\n            'f': \"0\",\n        },\n{\n            'v': 3.6,\n            'f': \"3.6\",\n        },\n{\n            'v': 3,\n            'f': \"3\",\n        },\n{\n            'v': 2.0,\n            'f': \"2.0\",\n        },\n{\n            'v': 3.0,\n            'f': \"3.0\",\n        },\n{\n            'v': 3,\n            'f': \"3\",\n        },\n{\n            'v': 0,\n            'f': \"0\",\n        },\n\"yes\"],\n [{\n            'v': 7,\n            'f': \"7\",\n        },\n{\n            'v': 57,\n            'f': \"57\",\n        },\n\"female\",\n{\n            'v': 4,\n            'f': \"4\",\n        },\n{\n            'v': 120,\n            'f': \"120\",\n        },\n{\n            'v': 354,\n            'f': \"354\",\n        },\n{\n            'v': 0,\n            'f': \"0\",\n        },\n{\n            'v': 0,\n            'f': \"0\",\n        },\n{\n            'v': 163,\n            'f': \"163\",\n        },\n{\n            'v': 1,\n            'f': \"1\",\n        },\n{\n            'v': 0.6,\n            'f': \"0.6\",\n        },\n{\n            'v': 1,\n            'f': \"1\",\n        },\n{\n            'v': 0.0,\n            'f': \"0.0\",\n        },\n{\n            'v': 3.0,\n            'f': \"3.0\",\n        },\n{\n            'v': 0,\n            'f': \"0\",\n        },\n{\n            'v': 1,\n            'f': \"1\",\n        },\n\"no\"],\n [{\n            'v': 8,\n            'f': \"8\",\n        },\n{\n            'v': 63,\n            'f': \"63\",\n        },\n\"male\",\n{\n            'v': 4,\n            'f': \"4\",\n        },\n{\n            'v': 130,\n            'f': \"130\",\n        },\n{\n            'v': 254,\n            'f': \"254\",\n        },\n{\n            'v': 0,\n            'f': \"0\",\n        },\n{\n            'v': 2,\n            'f': \"2\",\n        },\n{\n            'v': 147,\n            'f': \"147\",\n        },\n{\n            'v': 0,\n            'f': \"0\",\n        },\n{\n            'v': 1.4,\n            'f': \"1.4\",\n        },\n{\n            'v': 2,\n            'f': \"2\",\n        },\n{\n            'v': 1.0,\n            'f': \"1.0\",\n        },\n{\n            'v': 7.0,\n            'f': \"7.0\",\n        },\n{\n            'v': 2,\n            'f': \"2\",\n        },\n{\n            'v': 0,\n            'f': \"0\",\n        },\n\"yes\"],\n [{\n            'v': 9,\n            'f': \"9\",\n        },\n{\n            'v': 53,\n            'f': \"53\",\n        },\n\"male\",\n{\n            'v': 4,\n            'f': \"4\",\n        },\n{\n            'v': 140,\n            'f': \"140\",\n        },\n{\n            'v': 203,\n            'f': \"203\",\n        },\n{\n            'v': 1,\n            'f': \"1\",\n        },\n{\n            'v': 2,\n            'f': \"2\",\n        },\n{\n            'v': 155,\n            'f': \"155\",\n        },\n{\n            'v': 1,\n            'f': \"1\",\n        },\n{\n            'v': 3.1,\n            'f': \"3.1\",\n        },\n{\n            'v': 3,\n            'f': \"3\",\n        },\n{\n            'v': 0.0,\n            'f': \"0.0\",\n        },\n{\n            'v': 7.0,\n            'f': \"7.0\",\n        },\n{\n            'v': 1,\n            'f': \"1\",\n        },\n{\n            'v': 1,\n            'f': \"1\",\n        },\n\"yes\"],\n [{\n            'v': 10,\n            'f': \"10\",\n        },\n{\n            'v': 57,\n            'f': \"57\",\n        },\n\"male\",\n{\n            'v': 4,\n            'f': \"4\",\n        },\n{\n            'v': 140,\n            'f': \"140\",\n        },\n{\n            'v': 192,\n            'f': \"192\",\n        },\n{\n            'v': 0,\n            'f': \"0\",\n        },\n{\n            'v': 0,\n            'f': \"0\",\n        },\n{\n            'v': 148,\n            'f': \"148\",\n        },\n{\n            'v': 0,\n            'f': \"0\",\n        },\n{\n            'v': 0.4,\n            'f': \"0.4\",\n        },\n{\n            'v': 2,\n            'f': \"2\",\n        },\n{\n            'v': 0.0,\n            'f': \"0.0\",\n        },\n{\n            'v': 6.0,\n            'f': \"6.0\",\n        },\n{\n            'v': 0,\n            'f': \"0\",\n        },\n{\n            'v': 0,\n            'f': \"0\",\n        },\n\"no\"],\n [{\n            'v': 11,\n            'f': \"11\",\n        },\n{\n            'v': 56,\n            'f': \"56\",\n        },\n\"female\",\n{\n            'v': 2,\n            'f': \"2\",\n        },\n{\n            'v': 140,\n            'f': \"140\",\n        },\n{\n            'v': 294,\n            'f': \"294\",\n        },\n{\n            'v': 0,\n            'f': \"0\",\n        },\n{\n            'v': 2,\n            'f': \"2\",\n        },\n{\n            'v': 153,\n            'f': \"153\",\n        },\n{\n            'v': 0,\n            'f': \"0\",\n        },\n{\n            'v': 1.3,\n            'f': \"1.3\",\n        },\n{\n            'v': 2,\n            'f': \"2\",\n        },\n{\n            'v': 0.0,\n            'f': \"0.0\",\n        },\n{\n            'v': 3.0,\n            'f': \"3.0\",\n        },\n{\n            'v': 0,\n            'f': \"0\",\n        },\n{\n            'v': 0,\n            'f': \"0\",\n        },\n\"no\"],\n [{\n            'v': 12,\n            'f': \"12\",\n        },\n{\n            'v': 56,\n            'f': \"56\",\n        },\n\"male\",\n{\n            'v': 3,\n            'f': \"3\",\n        },\n{\n            'v': 130,\n            'f': \"130\",\n        },\n{\n            'v': 256,\n            'f': \"256\",\n        },\n{\n            'v': 1,\n            'f': \"1\",\n        },\n{\n            'v': 2,\n            'f': \"2\",\n        },\n{\n            'v': 142,\n            'f': \"142\",\n        },\n{\n            'v': 1,\n            'f': \"1\",\n        },\n{\n            'v': 0.6,\n            'f': \"0.6\",\n        },\n{\n            'v': 2,\n            'f': \"2\",\n        },\n{\n            'v': 1.0,\n            'f': \"1.0\",\n        },\n{\n            'v': 6.0,\n            'f': \"6.0\",\n        },\n{\n            'v': 2,\n            'f': \"2\",\n        },\n{\n            'v': 1,\n            'f': \"1\",\n        },\n\"yes\"],\n [{\n            'v': 13,\n            'f': \"13\",\n        },\n{\n            'v': 44,\n            'f': \"44\",\n        },\n\"male\",\n{\n            'v': 2,\n            'f': \"2\",\n        },\n{\n            'v': 120,\n            'f': \"120\",\n        },\n{\n            'v': 263,\n            'f': \"263\",\n        },\n{\n            'v': 0,\n            'f': \"0\",\n        },\n{\n            'v': 0,\n            'f': \"0\",\n        },\n{\n            'v': 173,\n            'f': \"173\",\n        },\n{\n            'v': 0,\n            'f': \"0\",\n        },\n{\n            'v': 0.0,\n            'f': \"0.0\",\n        },\n{\n            'v': 1,\n            'f': \"1\",\n        },\n{\n            'v': 0.0,\n            'f': \"0.0\",\n        },\n{\n            'v': 7.0,\n            'f': \"7.0\",\n        },\n{\n            'v': 0,\n            'f': \"0\",\n        },\n{\n            'v': 0,\n            'f': \"0\",\n        },\n\"no\"],\n [{\n            'v': 14,\n            'f': \"14\",\n        },\n{\n            'v': 52,\n            'f': \"52\",\n        },\n\"male\",\n{\n            'v': 3,\n            'f': \"3\",\n        },\n{\n            'v': 172,\n            'f': \"172\",\n        },\n{\n            'v': 199,\n            'f': \"199\",\n        },\n{\n            'v': 1,\n            'f': \"1\",\n        },\n{\n            'v': 0,\n            'f': \"0\",\n        },\n{\n            'v': 162,\n            'f': \"162\",\n        },\n{\n            'v': 0,\n            'f': \"0\",\n        },\n{\n            'v': 0.5,\n            'f': \"0.5\",\n        },\n{\n            'v': 1,\n            'f': \"1\",\n        },\n{\n            'v': 0.0,\n            'f': \"0.0\",\n        },\n{\n            'v': 7.0,\n            'f': \"7.0\",\n        },\n{\n            'v': 0,\n            'f': \"0\",\n        },\n{\n            'v': 0,\n            'f': \"0\",\n        },\n\"no\"],\n [{\n            'v': 15,\n            'f': \"15\",\n        },\n{\n            'v': 57,\n            'f': \"57\",\n        },\n\"male\",\n{\n            'v': 3,\n            'f': \"3\",\n        },\n{\n            'v': 150,\n            'f': \"150\",\n        },\n{\n            'v': 168,\n            'f': \"168\",\n        },\n{\n            'v': 0,\n            'f': \"0\",\n        },\n{\n            'v': 0,\n            'f': \"0\",\n        },\n{\n            'v': 174,\n            'f': \"174\",\n        },\n{\n            'v': 0,\n            'f': \"0\",\n        },\n{\n            'v': 1.6,\n            'f': \"1.6\",\n        },\n{\n            'v': 1,\n            'f': \"1\",\n        },\n{\n            'v': 0.0,\n            'f': \"0.0\",\n        },\n{\n            'v': 3.0,\n            'f': \"3.0\",\n        },\n{\n            'v': 0,\n            'f': \"0\",\n        },\n{\n            'v': 0,\n            'f': \"0\",\n        },\n\"no\"],\n [{\n            'v': 16,\n            'f': \"16\",\n        },\n{\n            'v': 48,\n            'f': \"48\",\n        },\n\"male\",\n{\n            'v': 2,\n            'f': \"2\",\n        },\n{\n            'v': 110,\n            'f': \"110\",\n        },\n{\n            'v': 229,\n            'f': \"229\",\n        },\n{\n            'v': 0,\n            'f': \"0\",\n        },\n{\n            'v': 0,\n            'f': \"0\",\n        },\n{\n            'v': 168,\n            'f': \"168\",\n        },\n{\n            'v': 0,\n            'f': \"0\",\n        },\n{\n            'v': 1.0,\n            'f': \"1.0\",\n        },\n{\n            'v': 3,\n            'f': \"3\",\n        },\n{\n            'v': 0.0,\n            'f': \"0.0\",\n        },\n{\n            'v': 7.0,\n            'f': \"7.0\",\n        },\n{\n            'v': 1,\n            'f': \"1\",\n        },\n{\n            'v': 0,\n            'f': \"0\",\n        },\n\"yes\"],\n [{\n            'v': 17,\n            'f': \"17\",\n        },\n{\n            'v': 54,\n            'f': \"54\",\n        },\n\"male\",\n{\n            'v': 4,\n            'f': \"4\",\n        },\n{\n            'v': 140,\n            'f': \"140\",\n        },\n{\n            'v': 239,\n            'f': \"239\",\n        },\n{\n            'v': 0,\n            'f': \"0\",\n        },\n{\n            'v': 0,\n            'f': \"0\",\n        },\n{\n            'v': 160,\n            'f': \"160\",\n        },\n{\n            'v': 0,\n            'f': \"0\",\n        },\n{\n            'v': 1.2,\n            'f': \"1.2\",\n        },\n{\n            'v': 1,\n            'f': \"1\",\n        },\n{\n            'v': 0.0,\n            'f': \"0.0\",\n        },\n{\n            'v': 3.0,\n            'f': \"3.0\",\n        },\n{\n            'v': 0,\n            'f': \"0\",\n        },\n{\n            'v': 0,\n            'f': \"0\",\n        },\n\"no\"],\n [{\n            'v': 18,\n            'f': \"18\",\n        },\n{\n            'v': 48,\n            'f': \"48\",\n        },\n\"female\",\n{\n            'v': 3,\n            'f': \"3\",\n        },\n{\n            'v': 130,\n            'f': \"130\",\n        },\n{\n            'v': 275,\n            'f': \"275\",\n        },\n{\n            'v': 0,\n            'f': \"0\",\n        },\n{\n            'v': 0,\n            'f': \"0\",\n        },\n{\n            'v': 139,\n            'f': \"139\",\n        },\n{\n            'v': 0,\n            'f': \"0\",\n        },\n{\n            'v': 0.2,\n            'f': \"0.2\",\n        },\n{\n            'v': 1,\n            'f': \"1\",\n        },\n{\n            'v': 0.0,\n            'f': \"0.0\",\n        },\n{\n            'v': 3.0,\n            'f': \"3.0\",\n        },\n{\n            'v': 0,\n            'f': \"0\",\n        },\n{\n            'v': 0,\n            'f': \"0\",\n        },\n\"no\"],\n [{\n            'v': 19,\n            'f': \"19\",\n        },\n{\n            'v': 49,\n            'f': \"49\",\n        },\n\"male\",\n{\n            'v': 2,\n            'f': \"2\",\n        },\n{\n            'v': 130,\n            'f': \"130\",\n        },\n{\n            'v': 266,\n            'f': \"266\",\n        },\n{\n            'v': 0,\n            'f': \"0\",\n        },\n{\n            'v': 0,\n            'f': \"0\",\n        },\n{\n            'v': 171,\n            'f': \"171\",\n        },\n{\n            'v': 0,\n            'f': \"0\",\n        },\n{\n            'v': 0.6,\n            'f': \"0.6\",\n        },\n{\n            'v': 1,\n            'f': \"1\",\n        },\n{\n            'v': 0.0,\n            'f': \"0.0\",\n        },\n{\n            'v': 3.0,\n            'f': \"3.0\",\n        },\n{\n            'v': 0,\n            'f': \"0\",\n        },\n{\n            'v': 0,\n            'f': \"0\",\n        },\n\"no\"],\n [{\n            'v': 20,\n            'f': \"20\",\n        },\n{\n            'v': 64,\n            'f': \"64\",\n        },\n\"male\",\n{\n            'v': 1,\n            'f': \"1\",\n        },\n{\n            'v': 110,\n            'f': \"110\",\n        },\n{\n            'v': 211,\n            'f': \"211\",\n        },\n{\n            'v': 0,\n            'f': \"0\",\n        },\n{\n            'v': 2,\n            'f': \"2\",\n        },\n{\n            'v': 144,\n            'f': \"144\",\n        },\n{\n            'v': 1,\n            'f': \"1\",\n        },\n{\n            'v': 1.8,\n            'f': \"1.8\",\n        },\n{\n            'v': 2,\n            'f': \"2\",\n        },\n{\n            'v': 0.0,\n            'f': \"0.0\",\n        },\n{\n            'v': 3.0,\n            'f': \"3.0\",\n        },\n{\n            'v': 0,\n            'f': \"0\",\n        },\n{\n            'v': 1,\n            'f': \"1\",\n        },\n\"no\"],\n [{\n            'v': 21,\n            'f': \"21\",\n        },\n{\n            'v': 58,\n            'f': \"58\",\n        },\n\"female\",\n{\n            'v': 1,\n            'f': \"1\",\n        },\n{\n            'v': 150,\n            'f': \"150\",\n        },\n{\n            'v': 283,\n            'f': \"283\",\n        },\n{\n            'v': 1,\n            'f': \"1\",\n        },\n{\n            'v': 2,\n            'f': \"2\",\n        },\n{\n            'v': 162,\n            'f': \"162\",\n        },\n{\n            'v': 0,\n            'f': \"0\",\n        },\n{\n            'v': 1.0,\n            'f': \"1.0\",\n        },\n{\n            'v': 1,\n            'f': \"1\",\n        },\n{\n            'v': 0.0,\n            'f': \"0.0\",\n        },\n{\n            'v': 3.0,\n            'f': \"3.0\",\n        },\n{\n            'v': 0,\n            'f': \"0\",\n        },\n{\n            'v': 0,\n            'f': \"0\",\n        },\n\"no\"],\n [{\n            'v': 22,\n            'f': \"22\",\n        },\n{\n            'v': 58,\n            'f': \"58\",\n        },\n\"male\",\n{\n            'v': 2,\n            'f': \"2\",\n        },\n{\n            'v': 120,\n            'f': \"120\",\n        },\n{\n            'v': 284,\n            'f': \"284\",\n        },\n{\n            'v': 0,\n            'f': \"0\",\n        },\n{\n            'v': 2,\n            'f': \"2\",\n        },\n{\n            'v': 160,\n            'f': \"160\",\n        },\n{\n            'v': 0,\n            'f': \"0\",\n        },\n{\n            'v': 1.8,\n            'f': \"1.8\",\n        },\n{\n            'v': 2,\n            'f': \"2\",\n        },\n{\n            'v': 0.0,\n            'f': \"0.0\",\n        },\n{\n            'v': 3.0,\n            'f': \"3.0\",\n        },\n{\n            'v': 1,\n            'f': \"1\",\n        },\n{\n            'v': 0,\n            'f': \"0\",\n        },\n\"yes\"],\n [{\n            'v': 23,\n            'f': \"23\",\n        },\n{\n            'v': 58,\n            'f': \"58\",\n        },\n\"male\",\n{\n            'v': 3,\n            'f': \"3\",\n        },\n{\n            'v': 132,\n            'f': \"132\",\n        },\n{\n            'v': 224,\n            'f': \"224\",\n        },\n{\n            'v': 0,\n            'f': \"0\",\n        },\n{\n            'v': 2,\n            'f': \"2\",\n        },\n{\n            'v': 173,\n            'f': \"173\",\n        },\n{\n            'v': 0,\n            'f': \"0\",\n        },\n{\n            'v': 3.2,\n            'f': \"3.2\",\n        },\n{\n            'v': 1,\n            'f': \"1\",\n        },\n{\n            'v': 2.0,\n            'f': \"2.0\",\n        },\n{\n            'v': 7.0,\n            'f': \"7.0\",\n        },\n{\n            'v': 3,\n            'f': \"3\",\n        },\n{\n            'v': 0,\n            'f': \"0\",\n        },\n\"yes\"],\n [{\n            'v': 24,\n            'f': \"24\",\n        },\n{\n            'v': 60,\n            'f': \"60\",\n        },\n\"male\",\n{\n            'v': 4,\n            'f': \"4\",\n        },\n{\n            'v': 130,\n            'f': \"130\",\n        },\n{\n            'v': 206,\n            'f': \"206\",\n        },\n{\n            'v': 0,\n            'f': \"0\",\n        },\n{\n            'v': 2,\n            'f': \"2\",\n        },\n{\n            'v': 132,\n            'f': \"132\",\n        },\n{\n            'v': 1,\n            'f': \"1\",\n        },\n{\n            'v': 2.4,\n            'f': \"2.4\",\n        },\n{\n            'v': 2,\n            'f': \"2\",\n        },\n{\n            'v': 2.0,\n            'f': \"2.0\",\n        },\n{\n            'v': 7.0,\n            'f': \"7.0\",\n        },\n{\n            'v': 4,\n            'f': \"4\",\n        },\n{\n            'v': 1,\n            'f': \"1\",\n        },\n\"yes\"],\n [{\n            'v': 25,\n            'f': \"25\",\n        },\n{\n            'v': 50,\n            'f': \"50\",\n        },\n\"female\",\n{\n            'v': 3,\n            'f': \"3\",\n        },\n{\n            'v': 120,\n            'f': \"120\",\n        },\n{\n            'v': 219,\n            'f': \"219\",\n        },\n{\n            'v': 0,\n            'f': \"0\",\n        },\n{\n            'v': 0,\n            'f': \"0\",\n        },\n{\n            'v': 158,\n            'f': \"158\",\n        },\n{\n            'v': 0,\n            'f': \"0\",\n        },\n{\n            'v': 1.6,\n            'f': \"1.6\",\n        },\n{\n            'v': 2,\n            'f': \"2\",\n        },\n{\n            'v': 0.0,\n            'f': \"0.0\",\n        },\n{\n            'v': 3.0,\n            'f': \"3.0\",\n        },\n{\n            'v': 0,\n            'f': \"0\",\n        },\n{\n            'v': 0,\n            'f': \"0\",\n        },\n\"no\"],\n [{\n            'v': 26,\n            'f': \"26\",\n        },\n{\n            'v': 58,\n            'f': \"58\",\n        },\n\"female\",\n{\n            'v': 3,\n            'f': \"3\",\n        },\n{\n            'v': 120,\n            'f': \"120\",\n        },\n{\n            'v': 340,\n            'f': \"340\",\n        },\n{\n            'v': 0,\n            'f': \"0\",\n        },\n{\n            'v': 0,\n            'f': \"0\",\n        },\n{\n            'v': 172,\n            'f': \"172\",\n        },\n{\n            'v': 0,\n            'f': \"0\",\n        },\n{\n            'v': 0.0,\n            'f': \"0.0\",\n        },\n{\n            'v': 1,\n            'f': \"1\",\n        },\n{\n            'v': 0.0,\n            'f': \"0.0\",\n        },\n{\n            'v': 3.0,\n            'f': \"3.0\",\n        },\n{\n            'v': 0,\n            'f': \"0\",\n        },\n{\n            'v': 0,\n            'f': \"0\",\n        },\n\"no\"],\n [{\n            'v': 27,\n            'f': \"27\",\n        },\n{\n            'v': 66,\n            'f': \"66\",\n        },\n\"female\",\n{\n            'v': 1,\n            'f': \"1\",\n        },\n{\n            'v': 150,\n            'f': \"150\",\n        },\n{\n            'v': 226,\n            'f': \"226\",\n        },\n{\n            'v': 0,\n            'f': \"0\",\n        },\n{\n            'v': 0,\n            'f': \"0\",\n        },\n{\n            'v': 114,\n            'f': \"114\",\n        },\n{\n            'v': 0,\n            'f': \"0\",\n        },\n{\n            'v': 2.6,\n            'f': \"2.6\",\n        },\n{\n            'v': 3,\n            'f': \"3\",\n        },\n{\n            'v': 0.0,\n            'f': \"0.0\",\n        },\n{\n            'v': 3.0,\n            'f': \"3.0\",\n        },\n{\n            'v': 0,\n            'f': \"0\",\n        },\n{\n            'v': 0,\n            'f': \"0\",\n        },\n\"no\"],\n [{\n            'v': 28,\n            'f': \"28\",\n        },\n{\n            'v': 43,\n            'f': \"43\",\n        },\n\"male\",\n{\n            'v': 4,\n            'f': \"4\",\n        },\n{\n            'v': 150,\n            'f': \"150\",\n        },\n{\n            'v': 247,\n            'f': \"247\",\n        },\n{\n            'v': 0,\n            'f': \"0\",\n        },\n{\n            'v': 0,\n            'f': \"0\",\n        },\n{\n            'v': 171,\n            'f': \"171\",\n        },\n{\n            'v': 0,\n            'f': \"0\",\n        },\n{\n            'v': 1.5,\n            'f': \"1.5\",\n        },\n{\n            'v': 1,\n            'f': \"1\",\n        },\n{\n            'v': 0.0,\n            'f': \"0.0\",\n        },\n{\n            'v': 3.0,\n            'f': \"3.0\",\n        },\n{\n            'v': 0,\n            'f': \"0\",\n        },\n{\n            'v': 0,\n            'f': \"0\",\n        },\n\"no\"],\n [{\n            'v': 29,\n            'f': \"29\",\n        },\n{\n            'v': 40,\n            'f': \"40\",\n        },\n\"male\",\n{\n            'v': 4,\n            'f': \"4\",\n        },\n{\n            'v': 110,\n            'f': \"110\",\n        },\n{\n            'v': 167,\n            'f': \"167\",\n        },\n{\n            'v': 0,\n            'f': \"0\",\n        },\n{\n            'v': 2,\n            'f': \"2\",\n        },\n{\n            'v': 114,\n            'f': \"114\",\n        },\n{\n            'v': 1,\n            'f': \"1\",\n        },\n{\n            'v': 2.0,\n            'f': \"2.0\",\n        },\n{\n            'v': 2,\n            'f': \"2\",\n        },\n{\n            'v': 0.0,\n            'f': \"0.0\",\n        },\n{\n            'v': 7.0,\n            'f': \"7.0\",\n        },\n{\n            'v': 3,\n            'f': \"3\",\n        },\n{\n            'v': 1,\n            'f': \"1\",\n        },\n\"yes\"],\n [{\n            'v': 30,\n            'f': \"30\",\n        },\n{\n            'v': 69,\n            'f': \"69\",\n        },\n\"female\",\n{\n            'v': 1,\n            'f': \"1\",\n        },\n{\n            'v': 140,\n            'f': \"140\",\n        },\n{\n            'v': 239,\n            'f': \"239\",\n        },\n{\n            'v': 0,\n            'f': \"0\",\n        },\n{\n            'v': 0,\n            'f': \"0\",\n        },\n{\n            'v': 151,\n            'f': \"151\",\n        },\n{\n            'v': 0,\n            'f': \"0\",\n        },\n{\n            'v': 1.8,\n            'f': \"1.8\",\n        },\n{\n            'v': 1,\n            'f': \"1\",\n        },\n{\n            'v': 2.0,\n            'f': \"2.0\",\n        },\n{\n            'v': 3.0,\n            'f': \"3.0\",\n        },\n{\n            'v': 0,\n            'f': \"0\",\n        },\n{\n            'v': 0,\n            'f': \"0\",\n        },\n\"no\"],\n [{\n            'v': 31,\n            'f': \"31\",\n        },\n{\n            'v': 60,\n            'f': \"60\",\n        },\n\"male\",\n{\n            'v': 4,\n            'f': \"4\",\n        },\n{\n            'v': 117,\n            'f': \"117\",\n        },\n{\n            'v': 230,\n            'f': \"230\",\n        },\n{\n            'v': 1,\n            'f': \"1\",\n        },\n{\n            'v': 0,\n            'f': \"0\",\n        },\n{\n            'v': 160,\n            'f': \"160\",\n        },\n{\n            'v': 1,\n            'f': \"1\",\n        },\n{\n            'v': 1.4,\n            'f': \"1.4\",\n        },\n{\n            'v': 1,\n            'f': \"1\",\n        },\n{\n            'v': 2.0,\n            'f': \"2.0\",\n        },\n{\n            'v': 7.0,\n            'f': \"7.0\",\n        },\n{\n            'v': 2,\n            'f': \"2\",\n        },\n{\n            'v': 1,\n            'f': \"1\",\n        },\n\"yes\"],\n [{\n            'v': 32,\n            'f': \"32\",\n        },\n{\n            'v': 64,\n            'f': \"64\",\n        },\n\"male\",\n{\n            'v': 3,\n            'f': \"3\",\n        },\n{\n            'v': 140,\n            'f': \"140\",\n        },\n{\n            'v': 335,\n            'f': \"335\",\n        },\n{\n            'v': 0,\n            'f': \"0\",\n        },\n{\n            'v': 0,\n            'f': \"0\",\n        },\n{\n            'v': 158,\n            'f': \"158\",\n        },\n{\n            'v': 0,\n            'f': \"0\",\n        },\n{\n            'v': 0.0,\n            'f': \"0.0\",\n        },\n{\n            'v': 1,\n            'f': \"1\",\n        },\n{\n            'v': 0.0,\n            'f': \"0.0\",\n        },\n{\n            'v': 3.0,\n            'f': \"3.0\",\n        },\n{\n            'v': 1,\n            'f': \"1\",\n        },\n{\n            'v': 0,\n            'f': \"0\",\n        },\n\"yes\"],\n [{\n            'v': 33,\n            'f': \"33\",\n        },\n{\n            'v': 59,\n            'f': \"59\",\n        },\n\"male\",\n{\n            'v': 4,\n            'f': \"4\",\n        },\n{\n            'v': 135,\n            'f': \"135\",\n        },\n{\n            'v': 234,\n            'f': \"234\",\n        },\n{\n            'v': 0,\n            'f': \"0\",\n        },\n{\n            'v': 0,\n            'f': \"0\",\n        },\n{\n            'v': 161,\n            'f': \"161\",\n        },\n{\n            'v': 0,\n            'f': \"0\",\n        },\n{\n            'v': 0.5,\n            'f': \"0.5\",\n        },\n{\n            'v': 2,\n            'f': \"2\",\n        },\n{\n            'v': 0.0,\n            'f': \"0.0\",\n        },\n{\n            'v': 7.0,\n            'f': \"7.0\",\n        },\n{\n            'v': 0,\n            'f': \"0\",\n        },\n{\n            'v': 0,\n            'f': \"0\",\n        },\n\"no\"],\n [{\n            'v': 34,\n            'f': \"34\",\n        },\n{\n            'v': 44,\n            'f': \"44\",\n        },\n\"male\",\n{\n            'v': 3,\n            'f': \"3\",\n        },\n{\n            'v': 130,\n            'f': \"130\",\n        },\n{\n            'v': 233,\n            'f': \"233\",\n        },\n{\n            'v': 0,\n            'f': \"0\",\n        },\n{\n            'v': 0,\n            'f': \"0\",\n        },\n{\n            'v': 179,\n            'f': \"179\",\n        },\n{\n            'v': 1,\n            'f': \"1\",\n        },\n{\n            'v': 0.4,\n            'f': \"0.4\",\n        },\n{\n            'v': 1,\n            'f': \"1\",\n        },\n{\n            'v': 0.0,\n            'f': \"0.0\",\n        },\n{\n            'v': 3.0,\n            'f': \"3.0\",\n        },\n{\n            'v': 0,\n            'f': \"0\",\n        },\n{\n            'v': 1,\n            'f': \"1\",\n        },\n\"no\"],\n [{\n            'v': 35,\n            'f': \"35\",\n        },\n{\n            'v': 42,\n            'f': \"42\",\n        },\n\"male\",\n{\n            'v': 4,\n            'f': \"4\",\n        },\n{\n            'v': 140,\n            'f': \"140\",\n        },\n{\n            'v': 226,\n            'f': \"226\",\n        },\n{\n            'v': 0,\n            'f': \"0\",\n        },\n{\n            'v': 0,\n            'f': \"0\",\n        },\n{\n            'v': 178,\n            'f': \"178\",\n        },\n{\n            'v': 0,\n            'f': \"0\",\n        },\n{\n            'v': 0.0,\n            'f': \"0.0\",\n        },\n{\n            'v': 1,\n            'f': \"1\",\n        },\n{\n            'v': 0.0,\n            'f': \"0.0\",\n        },\n{\n            'v': 3.0,\n            'f': \"3.0\",\n        },\n{\n            'v': 0,\n            'f': \"0\",\n        },\n{\n            'v': 0,\n            'f': \"0\",\n        },\n\"no\"],\n [{\n            'v': 36,\n            'f': \"36\",\n        },\n{\n            'v': 43,\n            'f': \"43\",\n        },\n\"male\",\n{\n            'v': 4,\n            'f': \"4\",\n        },\n{\n            'v': 120,\n            'f': \"120\",\n        },\n{\n            'v': 177,\n            'f': \"177\",\n        },\n{\n            'v': 0,\n            'f': \"0\",\n        },\n{\n            'v': 2,\n            'f': \"2\",\n        },\n{\n            'v': 120,\n            'f': \"120\",\n        },\n{\n            'v': 1,\n            'f': \"1\",\n        },\n{\n            'v': 2.5,\n            'f': \"2.5\",\n        },\n{\n            'v': 2,\n            'f': \"2\",\n        },\n{\n            'v': 0.0,\n            'f': \"0.0\",\n        },\n{\n            'v': 7.0,\n            'f': \"7.0\",\n        },\n{\n            'v': 3,\n            'f': \"3\",\n        },\n{\n            'v': 1,\n            'f': \"1\",\n        },\n\"yes\"],\n [{\n            'v': 37,\n            'f': \"37\",\n        },\n{\n            'v': 57,\n            'f': \"57\",\n        },\n\"male\",\n{\n            'v': 4,\n            'f': \"4\",\n        },\n{\n            'v': 150,\n            'f': \"150\",\n        },\n{\n            'v': 276,\n            'f': \"276\",\n        },\n{\n            'v': 0,\n            'f': \"0\",\n        },\n{\n            'v': 2,\n            'f': \"2\",\n        },\n{\n            'v': 112,\n            'f': \"112\",\n        },\n{\n            'v': 1,\n            'f': \"1\",\n        },\n{\n            'v': 0.6,\n            'f': \"0.6\",\n        },\n{\n            'v': 2,\n            'f': \"2\",\n        },\n{\n            'v': 1.0,\n            'f': \"1.0\",\n        },\n{\n            'v': 6.0,\n            'f': \"6.0\",\n        },\n{\n            'v': 1,\n            'f': \"1\",\n        },\n{\n            'v': 1,\n            'f': \"1\",\n        },\n\"yes\"],\n [{\n            'v': 38,\n            'f': \"38\",\n        },\n{\n            'v': 55,\n            'f': \"55\",\n        },\n\"male\",\n{\n            'v': 4,\n            'f': \"4\",\n        },\n{\n            'v': 132,\n            'f': \"132\",\n        },\n{\n            'v': 353,\n            'f': \"353\",\n        },\n{\n            'v': 0,\n            'f': \"0\",\n        },\n{\n            'v': 0,\n            'f': \"0\",\n        },\n{\n            'v': 132,\n            'f': \"132\",\n        },\n{\n            'v': 1,\n            'f': \"1\",\n        },\n{\n            'v': 1.2,\n            'f': \"1.2\",\n        },\n{\n            'v': 2,\n            'f': \"2\",\n        },\n{\n            'v': 1.0,\n            'f': \"1.0\",\n        },\n{\n            'v': 7.0,\n            'f': \"7.0\",\n        },\n{\n            'v': 3,\n            'f': \"3\",\n        },\n{\n            'v': 1,\n            'f': \"1\",\n        },\n\"yes\"],\n [{\n            'v': 39,\n            'f': \"39\",\n        },\n{\n            'v': 61,\n            'f': \"61\",\n        },\n\"male\",\n{\n            'v': 3,\n            'f': \"3\",\n        },\n{\n            'v': 150,\n            'f': \"150\",\n        },\n{\n            'v': 243,\n            'f': \"243\",\n        },\n{\n            'v': 1,\n            'f': \"1\",\n        },\n{\n            'v': 0,\n            'f': \"0\",\n        },\n{\n            'v': 137,\n            'f': \"137\",\n        },\n{\n            'v': 1,\n            'f': \"1\",\n        },\n{\n            'v': 1.0,\n            'f': \"1.0\",\n        },\n{\n            'v': 2,\n            'f': \"2\",\n        },\n{\n            'v': 0.0,\n            'f': \"0.0\",\n        },\n{\n            'v': 3.0,\n            'f': \"3.0\",\n        },\n{\n            'v': 0,\n            'f': \"0\",\n        },\n{\n            'v': 1,\n            'f': \"1\",\n        },\n\"no\"],\n [{\n            'v': 40,\n            'f': \"40\",\n        },\n{\n            'v': 65,\n            'f': \"65\",\n        },\n\"female\",\n{\n            'v': 4,\n            'f': \"4\",\n        },\n{\n            'v': 150,\n            'f': \"150\",\n        },\n{\n            'v': 225,\n            'f': \"225\",\n        },\n{\n            'v': 0,\n            'f': \"0\",\n        },\n{\n            'v': 2,\n            'f': \"2\",\n        },\n{\n            'v': 114,\n            'f': \"114\",\n        },\n{\n            'v': 0,\n            'f': \"0\",\n        },\n{\n            'v': 1.0,\n            'f': \"1.0\",\n        },\n{\n            'v': 2,\n            'f': \"2\",\n        },\n{\n            'v': 3.0,\n            'f': \"3.0\",\n        },\n{\n            'v': 7.0,\n            'f': \"7.0\",\n        },\n{\n            'v': 4,\n            'f': \"4\",\n        },\n{\n            'v': 0,\n            'f': \"0\",\n        },\n\"yes\"],\n [{\n            'v': 41,\n            'f': \"41\",\n        },\n{\n            'v': 40,\n            'f': \"40\",\n        },\n\"male\",\n{\n            'v': 1,\n            'f': \"1\",\n        },\n{\n            'v': 140,\n            'f': \"140\",\n        },\n{\n            'v': 199,\n            'f': \"199\",\n        },\n{\n            'v': 0,\n            'f': \"0\",\n        },\n{\n            'v': 0,\n            'f': \"0\",\n        },\n{\n            'v': 178,\n            'f': \"178\",\n        },\n{\n            'v': 1,\n            'f': \"1\",\n        },\n{\n            'v': 1.4,\n            'f': \"1.4\",\n        },\n{\n            'v': 1,\n            'f': \"1\",\n        },\n{\n            'v': 0.0,\n            'f': \"0.0\",\n        },\n{\n            'v': 7.0,\n            'f': \"7.0\",\n        },\n{\n            'v': 0,\n            'f': \"0\",\n        },\n{\n            'v': 1,\n            'f': \"1\",\n        },\n\"no\"],\n [{\n            'v': 42,\n            'f': \"42\",\n        },\n{\n            'v': 71,\n            'f': \"71\",\n        },\n\"female\",\n{\n            'v': 2,\n            'f': \"2\",\n        },\n{\n            'v': 160,\n            'f': \"160\",\n        },\n{\n            'v': 302,\n            'f': \"302\",\n        },\n{\n            'v': 0,\n            'f': \"0\",\n        },\n{\n            'v': 0,\n            'f': \"0\",\n        },\n{\n            'v': 162,\n            'f': \"162\",\n        },\n{\n            'v': 0,\n            'f': \"0\",\n        },\n{\n            'v': 0.4,\n            'f': \"0.4\",\n        },\n{\n            'v': 1,\n            'f': \"1\",\n        },\n{\n            'v': 2.0,\n            'f': \"2.0\",\n        },\n{\n            'v': 3.0,\n            'f': \"3.0\",\n        },\n{\n            'v': 0,\n            'f': \"0\",\n        },\n{\n            'v': 0,\n            'f': \"0\",\n        },\n\"no\"],\n [{\n            'v': 43,\n            'f': \"43\",\n        },\n{\n            'v': 59,\n            'f': \"59\",\n        },\n\"male\",\n{\n            'v': 3,\n            'f': \"3\",\n        },\n{\n            'v': 150,\n            'f': \"150\",\n        },\n{\n            'v': 212,\n            'f': \"212\",\n        },\n{\n            'v': 1,\n            'f': \"1\",\n        },\n{\n            'v': 0,\n            'f': \"0\",\n        },\n{\n            'v': 157,\n            'f': \"157\",\n        },\n{\n            'v': 0,\n            'f': \"0\",\n        },\n{\n            'v': 1.6,\n            'f': \"1.6\",\n        },\n{\n            'v': 1,\n            'f': \"1\",\n        },\n{\n            'v': 0.0,\n            'f': \"0.0\",\n        },\n{\n            'v': 3.0,\n            'f': \"3.0\",\n        },\n{\n            'v': 0,\n            'f': \"0\",\n        },\n{\n            'v': 0,\n            'f': \"0\",\n        },\n\"no\"],\n [{\n            'v': 44,\n            'f': \"44\",\n        },\n{\n            'v': 61,\n            'f': \"61\",\n        },\n\"female\",\n{\n            'v': 4,\n            'f': \"4\",\n        },\n{\n            'v': 130,\n            'f': \"130\",\n        },\n{\n            'v': 330,\n            'f': \"330\",\n        },\n{\n            'v': 0,\n            'f': \"0\",\n        },\n{\n            'v': 2,\n            'f': \"2\",\n        },\n{\n            'v': 169,\n            'f': \"169\",\n        },\n{\n            'v': 0,\n            'f': \"0\",\n        },\n{\n            'v': 0.0,\n            'f': \"0.0\",\n        },\n{\n            'v': 1,\n            'f': \"1\",\n        },\n{\n            'v': 0.0,\n            'f': \"0.0\",\n        },\n{\n            'v': 3.0,\n            'f': \"3.0\",\n        },\n{\n            'v': 1,\n            'f': \"1\",\n        },\n{\n            'v': 0,\n            'f': \"0\",\n        },\n\"yes\"],\n [{\n            'v': 45,\n            'f': \"45\",\n        },\n{\n            'v': 58,\n            'f': \"58\",\n        },\n\"male\",\n{\n            'v': 3,\n            'f': \"3\",\n        },\n{\n            'v': 112,\n            'f': \"112\",\n        },\n{\n            'v': 230,\n            'f': \"230\",\n        },\n{\n            'v': 0,\n            'f': \"0\",\n        },\n{\n            'v': 2,\n            'f': \"2\",\n        },\n{\n            'v': 165,\n            'f': \"165\",\n        },\n{\n            'v': 0,\n            'f': \"0\",\n        },\n{\n            'v': 2.5,\n            'f': \"2.5\",\n        },\n{\n            'v': 2,\n            'f': \"2\",\n        },\n{\n            'v': 1.0,\n            'f': \"1.0\",\n        },\n{\n            'v': 7.0,\n            'f': \"7.0\",\n        },\n{\n            'v': 4,\n            'f': \"4\",\n        },\n{\n            'v': 0,\n            'f': \"0\",\n        },\n\"yes\"],\n [{\n            'v': 46,\n            'f': \"46\",\n        },\n{\n            'v': 51,\n            'f': \"51\",\n        },\n\"male\",\n{\n            'v': 3,\n            'f': \"3\",\n        },\n{\n            'v': 110,\n            'f': \"110\",\n        },\n{\n            'v': 175,\n            'f': \"175\",\n        },\n{\n            'v': 0,\n            'f': \"0\",\n        },\n{\n            'v': 0,\n            'f': \"0\",\n        },\n{\n            'v': 123,\n            'f': \"123\",\n        },\n{\n            'v': 0,\n            'f': \"0\",\n        },\n{\n            'v': 0.6,\n            'f': \"0.6\",\n        },\n{\n            'v': 1,\n            'f': \"1\",\n        },\n{\n            'v': 0.0,\n            'f': \"0.0\",\n        },\n{\n            'v': 3.0,\n            'f': \"3.0\",\n        },\n{\n            'v': 0,\n            'f': \"0\",\n        },\n{\n            'v': 0,\n            'f': \"0\",\n        },\n\"no\"],\n [{\n            'v': 47,\n            'f': \"47\",\n        },\n{\n            'v': 50,\n            'f': \"50\",\n        },\n\"male\",\n{\n            'v': 4,\n            'f': \"4\",\n        },\n{\n            'v': 150,\n            'f': \"150\",\n        },\n{\n            'v': 243,\n            'f': \"243\",\n        },\n{\n            'v': 0,\n            'f': \"0\",\n        },\n{\n            'v': 2,\n            'f': \"2\",\n        },\n{\n            'v': 128,\n            'f': \"128\",\n        },\n{\n            'v': 0,\n            'f': \"0\",\n        },\n{\n            'v': 2.6,\n            'f': \"2.6\",\n        },\n{\n            'v': 2,\n            'f': \"2\",\n        },\n{\n            'v': 0.0,\n            'f': \"0.0\",\n        },\n{\n            'v': 7.0,\n            'f': \"7.0\",\n        },\n{\n            'v': 4,\n            'f': \"4\",\n        },\n{\n            'v': 0,\n            'f': \"0\",\n        },\n\"yes\"],\n [{\n            'v': 48,\n            'f': \"48\",\n        },\n{\n            'v': 65,\n            'f': \"65\",\n        },\n\"female\",\n{\n            'v': 3,\n            'f': \"3\",\n        },\n{\n            'v': 140,\n            'f': \"140\",\n        },\n{\n            'v': 417,\n            'f': \"417\",\n        },\n{\n            'v': 1,\n            'f': \"1\",\n        },\n{\n            'v': 2,\n            'f': \"2\",\n        },\n{\n            'v': 157,\n            'f': \"157\",\n        },\n{\n            'v': 0,\n            'f': \"0\",\n        },\n{\n            'v': 0.8,\n            'f': \"0.8\",\n        },\n{\n            'v': 1,\n            'f': \"1\",\n        },\n{\n            'v': 1.0,\n            'f': \"1.0\",\n        },\n{\n            'v': 3.0,\n            'f': \"3.0\",\n        },\n{\n            'v': 0,\n            'f': \"0\",\n        },\n{\n            'v': 0,\n            'f': \"0\",\n        },\n\"no\"],\n [{\n            'v': 49,\n            'f': \"49\",\n        },\n{\n            'v': 53,\n            'f': \"53\",\n        },\n\"male\",\n{\n            'v': 3,\n            'f': \"3\",\n        },\n{\n            'v': 130,\n            'f': \"130\",\n        },\n{\n            'v': 197,\n            'f': \"197\",\n        },\n{\n            'v': 1,\n            'f': \"1\",\n        },\n{\n            'v': 2,\n            'f': \"2\",\n        },\n{\n            'v': 152,\n            'f': \"152\",\n        },\n{\n            'v': 0,\n            'f': \"0\",\n        },\n{\n            'v': 1.2,\n            'f': \"1.2\",\n        },\n{\n            'v': 3,\n            'f': \"3\",\n        },\n{\n            'v': 0.0,\n            'f': \"0.0\",\n        },\n{\n            'v': 3.0,\n            'f': \"3.0\",\n        },\n{\n            'v': 0,\n            'f': \"0\",\n        },\n{\n            'v': 0,\n            'f': \"0\",\n        },\n\"no\"],\n [{\n            'v': 50,\n            'f': \"50\",\n        },\n{\n            'v': 41,\n            'f': \"41\",\n        },\n\"female\",\n{\n            'v': 2,\n            'f': \"2\",\n        },\n{\n            'v': 105,\n            'f': \"105\",\n        },\n{\n            'v': 198,\n            'f': \"198\",\n        },\n{\n            'v': 0,\n            'f': \"0\",\n        },\n{\n            'v': 0,\n            'f': \"0\",\n        },\n{\n            'v': 168,\n            'f': \"168\",\n        },\n{\n            'v': 0,\n            'f': \"0\",\n        },\n{\n            'v': 0.0,\n            'f': \"0.0\",\n        },\n{\n            'v': 1,\n            'f': \"1\",\n        },\n{\n            'v': 1.0,\n            'f': \"1.0\",\n        },\n{\n            'v': 3.0,\n            'f': \"3.0\",\n        },\n{\n            'v': 0,\n            'f': \"0\",\n        },\n{\n            'v': 0,\n            'f': \"0\",\n        },\n\"no\"],\n [{\n            'v': 51,\n            'f': \"51\",\n        },\n{\n            'v': 65,\n            'f': \"65\",\n        },\n\"male\",\n{\n            'v': 4,\n            'f': \"4\",\n        },\n{\n            'v': 120,\n            'f': \"120\",\n        },\n{\n            'v': 177,\n            'f': \"177\",\n        },\n{\n            'v': 0,\n            'f': \"0\",\n        },\n{\n            'v': 0,\n            'f': \"0\",\n        },\n{\n            'v': 140,\n            'f': \"140\",\n        },\n{\n            'v': 0,\n            'f': \"0\",\n        },\n{\n            'v': 0.4,\n            'f': \"0.4\",\n        },\n{\n            'v': 1,\n            'f': \"1\",\n        },\n{\n            'v': 0.0,\n            'f': \"0.0\",\n        },\n{\n            'v': 7.0,\n            'f': \"7.0\",\n        },\n{\n            'v': 0,\n            'f': \"0\",\n        },\n{\n            'v': 0,\n            'f': \"0\",\n        },\n\"no\"],\n [{\n            'v': 52,\n            'f': \"52\",\n        },\n{\n            'v': 44,\n            'f': \"44\",\n        },\n\"male\",\n{\n            'v': 4,\n            'f': \"4\",\n        },\n{\n            'v': 112,\n            'f': \"112\",\n        },\n{\n            'v': 290,\n            'f': \"290\",\n        },\n{\n            'v': 0,\n            'f': \"0\",\n        },\n{\n            'v': 2,\n            'f': \"2\",\n        },\n{\n            'v': 153,\n            'f': \"153\",\n        },\n{\n            'v': 0,\n            'f': \"0\",\n        },\n{\n            'v': 0.0,\n            'f': \"0.0\",\n        },\n{\n            'v': 1,\n            'f': \"1\",\n        },\n{\n            'v': 1.0,\n            'f': \"1.0\",\n        },\n{\n            'v': 3.0,\n            'f': \"3.0\",\n        },\n{\n            'v': 2,\n            'f': \"2\",\n        },\n{\n            'v': 0,\n            'f': \"0\",\n        },\n\"yes\"],\n [{\n            'v': 53,\n            'f': \"53\",\n        },\n{\n            'v': 44,\n            'f': \"44\",\n        },\n\"male\",\n{\n            'v': 2,\n            'f': \"2\",\n        },\n{\n            'v': 130,\n            'f': \"130\",\n        },\n{\n            'v': 219,\n            'f': \"219\",\n        },\n{\n            'v': 0,\n            'f': \"0\",\n        },\n{\n            'v': 2,\n            'f': \"2\",\n        },\n{\n            'v': 188,\n            'f': \"188\",\n        },\n{\n            'v': 0,\n            'f': \"0\",\n        },\n{\n            'v': 0.0,\n            'f': \"0.0\",\n        },\n{\n            'v': 1,\n            'f': \"1\",\n        },\n{\n            'v': 0.0,\n            'f': \"0.0\",\n        },\n{\n            'v': 3.0,\n            'f': \"3.0\",\n        },\n{\n            'v': 0,\n            'f': \"0\",\n        },\n{\n            'v': 0,\n            'f': \"0\",\n        },\n\"no\"],\n [{\n            'v': 54,\n            'f': \"54\",\n        },\n{\n            'v': 60,\n            'f': \"60\",\n        },\n\"male\",\n{\n            'v': 4,\n            'f': \"4\",\n        },\n{\n            'v': 130,\n            'f': \"130\",\n        },\n{\n            'v': 253,\n            'f': \"253\",\n        },\n{\n            'v': 0,\n            'f': \"0\",\n        },\n{\n            'v': 0,\n            'f': \"0\",\n        },\n{\n            'v': 144,\n            'f': \"144\",\n        },\n{\n            'v': 1,\n            'f': \"1\",\n        },\n{\n            'v': 1.4,\n            'f': \"1.4\",\n        },\n{\n            'v': 1,\n            'f': \"1\",\n        },\n{\n            'v': 1.0,\n            'f': \"1.0\",\n        },\n{\n            'v': 7.0,\n            'f': \"7.0\",\n        },\n{\n            'v': 1,\n            'f': \"1\",\n        },\n{\n            'v': 1,\n            'f': \"1\",\n        },\n\"yes\"],\n [{\n            'v': 55,\n            'f': \"55\",\n        },\n{\n            'v': 54,\n            'f': \"54\",\n        },\n\"male\",\n{\n            'v': 4,\n            'f': \"4\",\n        },\n{\n            'v': 124,\n            'f': \"124\",\n        },\n{\n            'v': 266,\n            'f': \"266\",\n        },\n{\n            'v': 0,\n            'f': \"0\",\n        },\n{\n            'v': 2,\n            'f': \"2\",\n        },\n{\n            'v': 109,\n            'f': \"109\",\n        },\n{\n            'v': 1,\n            'f': \"1\",\n        },\n{\n            'v': 2.2,\n            'f': \"2.2\",\n        },\n{\n            'v': 2,\n            'f': \"2\",\n        },\n{\n            'v': 1.0,\n            'f': \"1.0\",\n        },\n{\n            'v': 7.0,\n            'f': \"7.0\",\n        },\n{\n            'v': 1,\n            'f': \"1\",\n        },\n{\n            'v': 1,\n            'f': \"1\",\n        },\n\"yes\"],\n [{\n            'v': 56,\n            'f': \"56\",\n        },\n{\n            'v': 50,\n            'f': \"50\",\n        },\n\"male\",\n{\n            'v': 3,\n            'f': \"3\",\n        },\n{\n            'v': 140,\n            'f': \"140\",\n        },\n{\n            'v': 233,\n            'f': \"233\",\n        },\n{\n            'v': 0,\n            'f': \"0\",\n        },\n{\n            'v': 0,\n            'f': \"0\",\n        },\n{\n            'v': 163,\n            'f': \"163\",\n        },\n{\n            'v': 0,\n            'f': \"0\",\n        },\n{\n            'v': 0.6,\n            'f': \"0.6\",\n        },\n{\n            'v': 2,\n            'f': \"2\",\n        },\n{\n            'v': 1.0,\n            'f': \"1.0\",\n        },\n{\n            'v': 7.0,\n            'f': \"7.0\",\n        },\n{\n            'v': 1,\n            'f': \"1\",\n        },\n{\n            'v': 0,\n            'f': \"0\",\n        },\n\"yes\"],\n [{\n            'v': 57,\n            'f': \"57\",\n        },\n{\n            'v': 41,\n            'f': \"41\",\n        },\n\"male\",\n{\n            'v': 4,\n            'f': \"4\",\n        },\n{\n            'v': 110,\n            'f': \"110\",\n        },\n{\n            'v': 172,\n            'f': \"172\",\n        },\n{\n            'v': 0,\n            'f': \"0\",\n        },\n{\n            'v': 2,\n            'f': \"2\",\n        },\n{\n            'v': 158,\n            'f': \"158\",\n        },\n{\n            'v': 0,\n            'f': \"0\",\n        },\n{\n            'v': 0.0,\n            'f': \"0.0\",\n        },\n{\n            'v': 1,\n            'f': \"1\",\n        },\n{\n            'v': 0.0,\n            'f': \"0.0\",\n        },\n{\n            'v': 7.0,\n            'f': \"7.0\",\n        },\n{\n            'v': 1,\n            'f': \"1\",\n        },\n{\n            'v': 0,\n            'f': \"0\",\n        },\n\"yes\"],\n [{\n            'v': 58,\n            'f': \"58\",\n        },\n{\n            'v': 54,\n            'f': \"54\",\n        },\n\"male\",\n{\n            'v': 3,\n            'f': \"3\",\n        },\n{\n            'v': 125,\n            'f': \"125\",\n        },\n{\n            'v': 273,\n            'f': \"273\",\n        },\n{\n            'v': 0,\n            'f': \"0\",\n        },\n{\n            'v': 2,\n            'f': \"2\",\n        },\n{\n            'v': 152,\n            'f': \"152\",\n        },\n{\n            'v': 0,\n            'f': \"0\",\n        },\n{\n            'v': 0.5,\n            'f': \"0.5\",\n        },\n{\n            'v': 3,\n            'f': \"3\",\n        },\n{\n            'v': 1.0,\n            'f': \"1.0\",\n        },\n{\n            'v': 3.0,\n            'f': \"3.0\",\n        },\n{\n            'v': 0,\n            'f': \"0\",\n        },\n{\n            'v': 0,\n            'f': \"0\",\n        },\n\"no\"],\n [{\n            'v': 59,\n            'f': \"59\",\n        },\n{\n            'v': 51,\n            'f': \"51\",\n        },\n\"male\",\n{\n            'v': 1,\n            'f': \"1\",\n        },\n{\n            'v': 125,\n            'f': \"125\",\n        },\n{\n            'v': 213,\n            'f': \"213\",\n        },\n{\n            'v': 0,\n            'f': \"0\",\n        },\n{\n            'v': 2,\n            'f': \"2\",\n        },\n{\n            'v': 125,\n            'f': \"125\",\n        },\n{\n            'v': 1,\n            'f': \"1\",\n        },\n{\n            'v': 1.4,\n            'f': \"1.4\",\n        },\n{\n            'v': 1,\n            'f': \"1\",\n        },\n{\n            'v': 1.0,\n            'f': \"1.0\",\n        },\n{\n            'v': 3.0,\n            'f': \"3.0\",\n        },\n{\n            'v': 0,\n            'f': \"0\",\n        },\n{\n            'v': 1,\n            'f': \"1\",\n        },\n\"no\"],\n [{\n            'v': 60,\n            'f': \"60\",\n        },\n{\n            'v': 51,\n            'f': \"51\",\n        },\n\"female\",\n{\n            'v': 4,\n            'f': \"4\",\n        },\n{\n            'v': 130,\n            'f': \"130\",\n        },\n{\n            'v': 305,\n            'f': \"305\",\n        },\n{\n            'v': 0,\n            'f': \"0\",\n        },\n{\n            'v': 0,\n            'f': \"0\",\n        },\n{\n            'v': 142,\n            'f': \"142\",\n        },\n{\n            'v': 1,\n            'f': \"1\",\n        },\n{\n            'v': 1.2,\n            'f': \"1.2\",\n        },\n{\n            'v': 2,\n            'f': \"2\",\n        },\n{\n            'v': 0.0,\n            'f': \"0.0\",\n        },\n{\n            'v': 7.0,\n            'f': \"7.0\",\n        },\n{\n            'v': 2,\n            'f': \"2\",\n        },\n{\n            'v': 1,\n            'f': \"1\",\n        },\n\"yes\"],\n [{\n            'v': 61,\n            'f': \"61\",\n        },\n{\n            'v': 46,\n            'f': \"46\",\n        },\n\"female\",\n{\n            'v': 3,\n            'f': \"3\",\n        },\n{\n            'v': 142,\n            'f': \"142\",\n        },\n{\n            'v': 177,\n            'f': \"177\",\n        },\n{\n            'v': 0,\n            'f': \"0\",\n        },\n{\n            'v': 2,\n            'f': \"2\",\n        },\n{\n            'v': 160,\n            'f': \"160\",\n        },\n{\n            'v': 1,\n            'f': \"1\",\n        },\n{\n            'v': 1.4,\n            'f': \"1.4\",\n        },\n{\n            'v': 3,\n            'f': \"3\",\n        },\n{\n            'v': 0.0,\n            'f': \"0.0\",\n        },\n{\n            'v': 3.0,\n            'f': \"3.0\",\n        },\n{\n            'v': 0,\n            'f': \"0\",\n        },\n{\n            'v': 1,\n            'f': \"1\",\n        },\n\"no\"],\n [{\n            'v': 62,\n            'f': \"62\",\n        },\n{\n            'v': 58,\n            'f': \"58\",\n        },\n\"male\",\n{\n            'v': 4,\n            'f': \"4\",\n        },\n{\n            'v': 128,\n            'f': \"128\",\n        },\n{\n            'v': 216,\n            'f': \"216\",\n        },\n{\n            'v': 0,\n            'f': \"0\",\n        },\n{\n            'v': 2,\n            'f': \"2\",\n        },\n{\n            'v': 131,\n            'f': \"131\",\n        },\n{\n            'v': 1,\n            'f': \"1\",\n        },\n{\n            'v': 2.2,\n            'f': \"2.2\",\n        },\n{\n            'v': 2,\n            'f': \"2\",\n        },\n{\n            'v': 3.0,\n            'f': \"3.0\",\n        },\n{\n            'v': 7.0,\n            'f': \"7.0\",\n        },\n{\n            'v': 1,\n            'f': \"1\",\n        },\n{\n            'v': 1,\n            'f': \"1\",\n        },\n\"yes\"],\n [{\n            'v': 63,\n            'f': \"63\",\n        },\n{\n            'v': 54,\n            'f': \"54\",\n        },\n\"female\",\n{\n            'v': 3,\n            'f': \"3\",\n        },\n{\n            'v': 135,\n            'f': \"135\",\n        },\n{\n            'v': 304,\n            'f': \"304\",\n        },\n{\n            'v': 1,\n            'f': \"1\",\n        },\n{\n            'v': 0,\n            'f': \"0\",\n        },\n{\n            'v': 170,\n            'f': \"170\",\n        },\n{\n            'v': 0,\n            'f': \"0\",\n        },\n{\n            'v': 0.0,\n            'f': \"0.0\",\n        },\n{\n            'v': 1,\n            'f': \"1\",\n        },\n{\n            'v': 0.0,\n            'f': \"0.0\",\n        },\n{\n            'v': 3.0,\n            'f': \"3.0\",\n        },\n{\n            'v': 0,\n            'f': \"0\",\n        },\n{\n            'v': 0,\n            'f': \"0\",\n        },\n\"no\"],\n [{\n            'v': 64,\n            'f': \"64\",\n        },\n{\n            'v': 54,\n            'f': \"54\",\n        },\n\"male\",\n{\n            'v': 4,\n            'f': \"4\",\n        },\n{\n            'v': 120,\n            'f': \"120\",\n        },\n{\n            'v': 188,\n            'f': \"188\",\n        },\n{\n            'v': 0,\n            'f': \"0\",\n        },\n{\n            'v': 0,\n            'f': \"0\",\n        },\n{\n            'v': 113,\n            'f': \"113\",\n        },\n{\n            'v': 0,\n            'f': \"0\",\n        },\n{\n            'v': 1.4,\n            'f': \"1.4\",\n        },\n{\n            'v': 2,\n            'f': \"2\",\n        },\n{\n            'v': 1.0,\n            'f': \"1.0\",\n        },\n{\n            'v': 7.0,\n            'f': \"7.0\",\n        },\n{\n            'v': 2,\n            'f': \"2\",\n        },\n{\n            'v': 0,\n            'f': \"0\",\n        },\n\"yes\"],\n [{\n            'v': 65,\n            'f': \"65\",\n        },\n{\n            'v': 60,\n            'f': \"60\",\n        },\n\"male\",\n{\n            'v': 4,\n            'f': \"4\",\n        },\n{\n            'v': 145,\n            'f': \"145\",\n        },\n{\n            'v': 282,\n            'f': \"282\",\n        },\n{\n            'v': 0,\n            'f': \"0\",\n        },\n{\n            'v': 2,\n            'f': \"2\",\n        },\n{\n            'v': 142,\n            'f': \"142\",\n        },\n{\n            'v': 1,\n            'f': \"1\",\n        },\n{\n            'v': 2.8,\n            'f': \"2.8\",\n        },\n{\n            'v': 2,\n            'f': \"2\",\n        },\n{\n            'v': 2.0,\n            'f': \"2.0\",\n        },\n{\n            'v': 7.0,\n            'f': \"7.0\",\n        },\n{\n            'v': 2,\n            'f': \"2\",\n        },\n{\n            'v': 1,\n            'f': \"1\",\n        },\n\"yes\"],\n [{\n            'v': 66,\n            'f': \"66\",\n        },\n{\n            'v': 60,\n            'f': \"60\",\n        },\n\"male\",\n{\n            'v': 3,\n            'f': \"3\",\n        },\n{\n            'v': 140,\n            'f': \"140\",\n        },\n{\n            'v': 185,\n            'f': \"185\",\n        },\n{\n            'v': 0,\n            'f': \"0\",\n        },\n{\n            'v': 2,\n            'f': \"2\",\n        },\n{\n            'v': 155,\n            'f': \"155\",\n        },\n{\n            'v': 0,\n            'f': \"0\",\n        },\n{\n            'v': 3.0,\n            'f': \"3.0\",\n        },\n{\n            'v': 2,\n            'f': \"2\",\n        },\n{\n            'v': 0.0,\n            'f': \"0.0\",\n        },\n{\n            'v': 3.0,\n            'f': \"3.0\",\n        },\n{\n            'v': 1,\n            'f': \"1\",\n        },\n{\n            'v': 0,\n            'f': \"0\",\n        },\n\"yes\"],\n [{\n            'v': 67,\n            'f': \"67\",\n        },\n{\n            'v': 54,\n            'f': \"54\",\n        },\n\"male\",\n{\n            'v': 3,\n            'f': \"3\",\n        },\n{\n            'v': 150,\n            'f': \"150\",\n        },\n{\n            'v': 232,\n            'f': \"232\",\n        },\n{\n            'v': 0,\n            'f': \"0\",\n        },\n{\n            'v': 2,\n            'f': \"2\",\n        },\n{\n            'v': 165,\n            'f': \"165\",\n        },\n{\n            'v': 0,\n            'f': \"0\",\n        },\n{\n            'v': 1.6,\n            'f': \"1.6\",\n        },\n{\n            'v': 1,\n            'f': \"1\",\n        },\n{\n            'v': 0.0,\n            'f': \"0.0\",\n        },\n{\n            'v': 7.0,\n            'f': \"7.0\",\n        },\n{\n            'v': 0,\n            'f': \"0\",\n        },\n{\n            'v': 0,\n            'f': \"0\",\n        },\n\"no\"],\n [{\n            'v': 68,\n            'f': \"68\",\n        },\n{\n            'v': 59,\n            'f': \"59\",\n        },\n\"male\",\n{\n            'v': 4,\n            'f': \"4\",\n        },\n{\n            'v': 170,\n            'f': \"170\",\n        },\n{\n            'v': 326,\n            'f': \"326\",\n        },\n{\n            'v': 0,\n            'f': \"0\",\n        },\n{\n            'v': 2,\n            'f': \"2\",\n        },\n{\n            'v': 140,\n            'f': \"140\",\n        },\n{\n            'v': 1,\n            'f': \"1\",\n        },\n{\n            'v': 3.4,\n            'f': \"3.4\",\n        },\n{\n            'v': 3,\n            'f': \"3\",\n        },\n{\n            'v': 0.0,\n            'f': \"0.0\",\n        },\n{\n            'v': 7.0,\n            'f': \"7.0\",\n        },\n{\n            'v': 2,\n            'f': \"2\",\n        },\n{\n            'v': 1,\n            'f': \"1\",\n        },\n\"yes\"],\n [{\n            'v': 69,\n            'f': \"69\",\n        },\n{\n            'v': 46,\n            'f': \"46\",\n        },\n\"male\",\n{\n            'v': 3,\n            'f': \"3\",\n        },\n{\n            'v': 150,\n            'f': \"150\",\n        },\n{\n            'v': 231,\n            'f': \"231\",\n        },\n{\n            'v': 0,\n            'f': \"0\",\n        },\n{\n            'v': 0,\n            'f': \"0\",\n        },\n{\n            'v': 147,\n            'f': \"147\",\n        },\n{\n            'v': 0,\n            'f': \"0\",\n        },\n{\n            'v': 3.6,\n            'f': \"3.6\",\n        },\n{\n            'v': 2,\n            'f': \"2\",\n        },\n{\n            'v': 0.0,\n            'f': \"0.0\",\n        },\n{\n            'v': 3.0,\n            'f': \"3.0\",\n        },\n{\n            'v': 1,\n            'f': \"1\",\n        },\n{\n            'v': 0,\n            'f': \"0\",\n        },\n\"yes\"],\n [{\n            'v': 70,\n            'f': \"70\",\n        },\n{\n            'v': 65,\n            'f': \"65\",\n        },\n\"female\",\n{\n            'v': 3,\n            'f': \"3\",\n        },\n{\n            'v': 155,\n            'f': \"155\",\n        },\n{\n            'v': 269,\n            'f': \"269\",\n        },\n{\n            'v': 0,\n            'f': \"0\",\n        },\n{\n            'v': 0,\n            'f': \"0\",\n        },\n{\n            'v': 148,\n            'f': \"148\",\n        },\n{\n            'v': 0,\n            'f': \"0\",\n        },\n{\n            'v': 0.8,\n            'f': \"0.8\",\n        },\n{\n            'v': 1,\n            'f': \"1\",\n        },\n{\n            'v': 0.0,\n            'f': \"0.0\",\n        },\n{\n            'v': 3.0,\n            'f': \"3.0\",\n        },\n{\n            'v': 0,\n            'f': \"0\",\n        },\n{\n            'v': 0,\n            'f': \"0\",\n        },\n\"no\"],\n [{\n            'v': 71,\n            'f': \"71\",\n        },\n{\n            'v': 67,\n            'f': \"67\",\n        },\n\"male\",\n{\n            'v': 4,\n            'f': \"4\",\n        },\n{\n            'v': 125,\n            'f': \"125\",\n        },\n{\n            'v': 254,\n            'f': \"254\",\n        },\n{\n            'v': 1,\n            'f': \"1\",\n        },\n{\n            'v': 0,\n            'f': \"0\",\n        },\n{\n            'v': 163,\n            'f': \"163\",\n        },\n{\n            'v': 0,\n            'f': \"0\",\n        },\n{\n            'v': 0.2,\n            'f': \"0.2\",\n        },\n{\n            'v': 2,\n            'f': \"2\",\n        },\n{\n            'v': 2.0,\n            'f': \"2.0\",\n        },\n{\n            'v': 7.0,\n            'f': \"7.0\",\n        },\n{\n            'v': 3,\n            'f': \"3\",\n        },\n{\n            'v': 0,\n            'f': \"0\",\n        },\n\"yes\"],\n [{\n            'v': 72,\n            'f': \"72\",\n        },\n{\n            'v': 62,\n            'f': \"62\",\n        },\n\"male\",\n{\n            'v': 4,\n            'f': \"4\",\n        },\n{\n            'v': 120,\n            'f': \"120\",\n        },\n{\n            'v': 267,\n            'f': \"267\",\n        },\n{\n            'v': 0,\n            'f': \"0\",\n        },\n{\n            'v': 0,\n            'f': \"0\",\n        },\n{\n            'v': 99,\n            'f': \"99\",\n        },\n{\n            'v': 1,\n            'f': \"1\",\n        },\n{\n            'v': 1.8,\n            'f': \"1.8\",\n        },\n{\n            'v': 2,\n            'f': \"2\",\n        },\n{\n            'v': 2.0,\n            'f': \"2.0\",\n        },\n{\n            'v': 7.0,\n            'f': \"7.0\",\n        },\n{\n            'v': 1,\n            'f': \"1\",\n        },\n{\n            'v': 1,\n            'f': \"1\",\n        },\n\"yes\"],\n [{\n            'v': 73,\n            'f': \"73\",\n        },\n{\n            'v': 65,\n            'f': \"65\",\n        },\n\"male\",\n{\n            'v': 4,\n            'f': \"4\",\n        },\n{\n            'v': 110,\n            'f': \"110\",\n        },\n{\n            'v': 248,\n            'f': \"248\",\n        },\n{\n            'v': 0,\n            'f': \"0\",\n        },\n{\n            'v': 2,\n            'f': \"2\",\n        },\n{\n            'v': 158,\n            'f': \"158\",\n        },\n{\n            'v': 0,\n            'f': \"0\",\n        },\n{\n            'v': 0.6,\n            'f': \"0.6\",\n        },\n{\n            'v': 1,\n            'f': \"1\",\n        },\n{\n            'v': 2.0,\n            'f': \"2.0\",\n        },\n{\n            'v': 6.0,\n            'f': \"6.0\",\n        },\n{\n            'v': 1,\n            'f': \"1\",\n        },\n{\n            'v': 0,\n            'f': \"0\",\n        },\n\"yes\"],\n [{\n            'v': 74,\n            'f': \"74\",\n        },\n{\n            'v': 44,\n            'f': \"44\",\n        },\n\"male\",\n{\n            'v': 4,\n            'f': \"4\",\n        },\n{\n            'v': 110,\n            'f': \"110\",\n        },\n{\n            'v': 197,\n            'f': \"197\",\n        },\n{\n            'v': 0,\n            'f': \"0\",\n        },\n{\n            'v': 2,\n            'f': \"2\",\n        },\n{\n            'v': 177,\n            'f': \"177\",\n        },\n{\n            'v': 0,\n            'f': \"0\",\n        },\n{\n            'v': 0.0,\n            'f': \"0.0\",\n        },\n{\n            'v': 1,\n            'f': \"1\",\n        },\n{\n            'v': 1.0,\n            'f': \"1.0\",\n        },\n{\n            'v': 3.0,\n            'f': \"3.0\",\n        },\n{\n            'v': 1,\n            'f': \"1\",\n        },\n{\n            'v': 0,\n            'f': \"0\",\n        },\n\"yes\"],\n [{\n            'v': 75,\n            'f': \"75\",\n        },\n{\n            'v': 65,\n            'f': \"65\",\n        },\n\"female\",\n{\n            'v': 3,\n            'f': \"3\",\n        },\n{\n            'v': 160,\n            'f': \"160\",\n        },\n{\n            'v': 360,\n            'f': \"360\",\n        },\n{\n            'v': 0,\n            'f': \"0\",\n        },\n{\n            'v': 2,\n            'f': \"2\",\n        },\n{\n            'v': 151,\n            'f': \"151\",\n        },\n{\n            'v': 0,\n            'f': \"0\",\n        },\n{\n            'v': 0.8,\n            'f': \"0.8\",\n        },\n{\n            'v': 1,\n            'f': \"1\",\n        },\n{\n            'v': 0.0,\n            'f': \"0.0\",\n        },\n{\n            'v': 3.0,\n            'f': \"3.0\",\n        },\n{\n            'v': 0,\n            'f': \"0\",\n        },\n{\n            'v': 0,\n            'f': \"0\",\n        },\n\"no\"],\n [{\n            'v': 76,\n            'f': \"76\",\n        },\n{\n            'v': 60,\n            'f': \"60\",\n        },\n\"male\",\n{\n            'v': 4,\n            'f': \"4\",\n        },\n{\n            'v': 125,\n            'f': \"125\",\n        },\n{\n            'v': 258,\n            'f': \"258\",\n        },\n{\n            'v': 0,\n            'f': \"0\",\n        },\n{\n            'v': 2,\n            'f': \"2\",\n        },\n{\n            'v': 141,\n            'f': \"141\",\n        },\n{\n            'v': 1,\n            'f': \"1\",\n        },\n{\n            'v': 2.8,\n            'f': \"2.8\",\n        },\n{\n            'v': 2,\n            'f': \"2\",\n        },\n{\n            'v': 1.0,\n            'f': \"1.0\",\n        },\n{\n            'v': 7.0,\n            'f': \"7.0\",\n        },\n{\n            'v': 1,\n            'f': \"1\",\n        },\n{\n            'v': 1,\n            'f': \"1\",\n        },\n\"yes\"],\n [{\n            'v': 77,\n            'f': \"77\",\n        },\n{\n            'v': 51,\n            'f': \"51\",\n        },\n\"female\",\n{\n            'v': 3,\n            'f': \"3\",\n        },\n{\n            'v': 140,\n            'f': \"140\",\n        },\n{\n            'v': 308,\n            'f': \"308\",\n        },\n{\n            'v': 0,\n            'f': \"0\",\n        },\n{\n            'v': 2,\n            'f': \"2\",\n        },\n{\n            'v': 142,\n            'f': \"142\",\n        },\n{\n            'v': 0,\n            'f': \"0\",\n        },\n{\n            'v': 1.5,\n            'f': \"1.5\",\n        },\n{\n            'v': 1,\n            'f': \"1\",\n        },\n{\n            'v': 1.0,\n            'f': \"1.0\",\n        },\n{\n            'v': 3.0,\n            'f': \"3.0\",\n        },\n{\n            'v': 0,\n            'f': \"0\",\n        },\n{\n            'v': 0,\n            'f': \"0\",\n        },\n\"no\"],\n [{\n            'v': 78,\n            'f': \"78\",\n        },\n{\n            'v': 48,\n            'f': \"48\",\n        },\n\"male\",\n{\n            'v': 2,\n            'f': \"2\",\n        },\n{\n            'v': 130,\n            'f': \"130\",\n        },\n{\n            'v': 245,\n            'f': \"245\",\n        },\n{\n            'v': 0,\n            'f': \"0\",\n        },\n{\n            'v': 2,\n            'f': \"2\",\n        },\n{\n            'v': 180,\n            'f': \"180\",\n        },\n{\n            'v': 0,\n            'f': \"0\",\n        },\n{\n            'v': 0.2,\n            'f': \"0.2\",\n        },\n{\n            'v': 2,\n            'f': \"2\",\n        },\n{\n            'v': 0.0,\n            'f': \"0.0\",\n        },\n{\n            'v': 3.0,\n            'f': \"3.0\",\n        },\n{\n            'v': 0,\n            'f': \"0\",\n        },\n{\n            'v': 0,\n            'f': \"0\",\n        },\n\"no\"],\n [{\n            'v': 79,\n            'f': \"79\",\n        },\n{\n            'v': 58,\n            'f': \"58\",\n        },\n\"male\",\n{\n            'v': 4,\n            'f': \"4\",\n        },\n{\n            'v': 150,\n            'f': \"150\",\n        },\n{\n            'v': 270,\n            'f': \"270\",\n        },\n{\n            'v': 0,\n            'f': \"0\",\n        },\n{\n            'v': 2,\n            'f': \"2\",\n        },\n{\n            'v': 111,\n            'f': \"111\",\n        },\n{\n            'v': 1,\n            'f': \"1\",\n        },\n{\n            'v': 0.8,\n            'f': \"0.8\",\n        },\n{\n            'v': 1,\n            'f': \"1\",\n        },\n{\n            'v': 0.0,\n            'f': \"0.0\",\n        },\n{\n            'v': 7.0,\n            'f': \"7.0\",\n        },\n{\n            'v': 3,\n            'f': \"3\",\n        },\n{\n            'v': 1,\n            'f': \"1\",\n        },\n\"yes\"],\n [{\n            'v': 80,\n            'f': \"80\",\n        },\n{\n            'v': 45,\n            'f': \"45\",\n        },\n\"male\",\n{\n            'v': 4,\n            'f': \"4\",\n        },\n{\n            'v': 104,\n            'f': \"104\",\n        },\n{\n            'v': 208,\n            'f': \"208\",\n        },\n{\n            'v': 0,\n            'f': \"0\",\n        },\n{\n            'v': 2,\n            'f': \"2\",\n        },\n{\n            'v': 148,\n            'f': \"148\",\n        },\n{\n            'v': 1,\n            'f': \"1\",\n        },\n{\n            'v': 3.0,\n            'f': \"3.0\",\n        },\n{\n            'v': 2,\n            'f': \"2\",\n        },\n{\n            'v': 0.0,\n            'f': \"0.0\",\n        },\n{\n            'v': 3.0,\n            'f': \"3.0\",\n        },\n{\n            'v': 0,\n            'f': \"0\",\n        },\n{\n            'v': 1,\n            'f': \"1\",\n        },\n\"no\"],\n [{\n            'v': 81,\n            'f': \"81\",\n        },\n{\n            'v': 53,\n            'f': \"53\",\n        },\n\"female\",\n{\n            'v': 4,\n            'f': \"4\",\n        },\n{\n            'v': 130,\n            'f': \"130\",\n        },\n{\n            'v': 264,\n            'f': \"264\",\n        },\n{\n            'v': 0,\n            'f': \"0\",\n        },\n{\n            'v': 2,\n            'f': \"2\",\n        },\n{\n            'v': 143,\n            'f': \"143\",\n        },\n{\n            'v': 0,\n            'f': \"0\",\n        },\n{\n            'v': 0.4,\n            'f': \"0.4\",\n        },\n{\n            'v': 2,\n            'f': \"2\",\n        },\n{\n            'v': 0.0,\n            'f': \"0.0\",\n        },\n{\n            'v': 3.0,\n            'f': \"3.0\",\n        },\n{\n            'v': 0,\n            'f': \"0\",\n        },\n{\n            'v': 0,\n            'f': \"0\",\n        },\n\"no\"],\n [{\n            'v': 82,\n            'f': \"82\",\n        },\n{\n            'v': 39,\n            'f': \"39\",\n        },\n\"male\",\n{\n            'v': 3,\n            'f': \"3\",\n        },\n{\n            'v': 140,\n            'f': \"140\",\n        },\n{\n            'v': 321,\n            'f': \"321\",\n        },\n{\n            'v': 0,\n            'f': \"0\",\n        },\n{\n            'v': 2,\n            'f': \"2\",\n        },\n{\n            'v': 182,\n            'f': \"182\",\n        },\n{\n            'v': 0,\n            'f': \"0\",\n        },\n{\n            'v': 0.0,\n            'f': \"0.0\",\n        },\n{\n            'v': 1,\n            'f': \"1\",\n        },\n{\n            'v': 0.0,\n            'f': \"0.0\",\n        },\n{\n            'v': 3.0,\n            'f': \"3.0\",\n        },\n{\n            'v': 0,\n            'f': \"0\",\n        },\n{\n            'v': 0,\n            'f': \"0\",\n        },\n\"no\"],\n [{\n            'v': 83,\n            'f': \"83\",\n        },\n{\n            'v': 68,\n            'f': \"68\",\n        },\n\"male\",\n{\n            'v': 3,\n            'f': \"3\",\n        },\n{\n            'v': 180,\n            'f': \"180\",\n        },\n{\n            'v': 274,\n            'f': \"274\",\n        },\n{\n            'v': 1,\n            'f': \"1\",\n        },\n{\n            'v': 2,\n            'f': \"2\",\n        },\n{\n            'v': 150,\n            'f': \"150\",\n        },\n{\n            'v': 1,\n            'f': \"1\",\n        },\n{\n            'v': 1.6,\n            'f': \"1.6\",\n        },\n{\n            'v': 2,\n            'f': \"2\",\n        },\n{\n            'v': 0.0,\n            'f': \"0.0\",\n        },\n{\n            'v': 7.0,\n            'f': \"7.0\",\n        },\n{\n            'v': 3,\n            'f': \"3\",\n        },\n{\n            'v': 1,\n            'f': \"1\",\n        },\n\"yes\"],\n [{\n            'v': 84,\n            'f': \"84\",\n        },\n{\n            'v': 52,\n            'f': \"52\",\n        },\n\"male\",\n{\n            'v': 2,\n            'f': \"2\",\n        },\n{\n            'v': 120,\n            'f': \"120\",\n        },\n{\n            'v': 325,\n            'f': \"325\",\n        },\n{\n            'v': 0,\n            'f': \"0\",\n        },\n{\n            'v': 0,\n            'f': \"0\",\n        },\n{\n            'v': 172,\n            'f': \"172\",\n        },\n{\n            'v': 0,\n            'f': \"0\",\n        },\n{\n            'v': 0.2,\n            'f': \"0.2\",\n        },\n{\n            'v': 1,\n            'f': \"1\",\n        },\n{\n            'v': 0.0,\n            'f': \"0.0\",\n        },\n{\n            'v': 3.0,\n            'f': \"3.0\",\n        },\n{\n            'v': 0,\n            'f': \"0\",\n        },\n{\n            'v': 0,\n            'f': \"0\",\n        },\n\"no\"],\n [{\n            'v': 85,\n            'f': \"85\",\n        },\n{\n            'v': 44,\n            'f': \"44\",\n        },\n\"male\",\n{\n            'v': 3,\n            'f': \"3\",\n        },\n{\n            'v': 140,\n            'f': \"140\",\n        },\n{\n            'v': 235,\n            'f': \"235\",\n        },\n{\n            'v': 0,\n            'f': \"0\",\n        },\n{\n            'v': 2,\n            'f': \"2\",\n        },\n{\n            'v': 180,\n            'f': \"180\",\n        },\n{\n            'v': 0,\n            'f': \"0\",\n        },\n{\n            'v': 0.0,\n            'f': \"0.0\",\n        },\n{\n            'v': 1,\n            'f': \"1\",\n        },\n{\n            'v': 0.0,\n            'f': \"0.0\",\n        },\n{\n            'v': 3.0,\n            'f': \"3.0\",\n        },\n{\n            'v': 0,\n            'f': \"0\",\n        },\n{\n            'v': 0,\n            'f': \"0\",\n        },\n\"no\"],\n [{\n            'v': 86,\n            'f': \"86\",\n        },\n{\n            'v': 47,\n            'f': \"47\",\n        },\n\"male\",\n{\n            'v': 3,\n            'f': \"3\",\n        },\n{\n            'v': 138,\n            'f': \"138\",\n        },\n{\n            'v': 257,\n            'f': \"257\",\n        },\n{\n            'v': 0,\n            'f': \"0\",\n        },\n{\n            'v': 2,\n            'f': \"2\",\n        },\n{\n            'v': 156,\n            'f': \"156\",\n        },\n{\n            'v': 0,\n            'f': \"0\",\n        },\n{\n            'v': 0.0,\n            'f': \"0.0\",\n        },\n{\n            'v': 1,\n            'f': \"1\",\n        },\n{\n            'v': 0.0,\n            'f': \"0.0\",\n        },\n{\n            'v': 3.0,\n            'f': \"3.0\",\n        },\n{\n            'v': 0,\n            'f': \"0\",\n        },\n{\n            'v': 0,\n            'f': \"0\",\n        },\n\"no\"],\n [{\n            'v': 87,\n            'f': \"87\",\n        },\n{\n            'v': 53,\n            'f': \"53\",\n        },\n\"female\",\n{\n            'v': 3,\n            'f': \"3\",\n        },\n{\n            'v': 128,\n            'f': \"128\",\n        },\n{\n            'v': 216,\n            'f': \"216\",\n        },\n{\n            'v': 0,\n            'f': \"0\",\n        },\n{\n            'v': 2,\n            'f': \"2\",\n        },\n{\n            'v': 115,\n            'f': \"115\",\n        },\n{\n            'v': 0,\n            'f': \"0\",\n        },\n{\n            'v': 0.0,\n            'f': \"0.0\",\n        },\n{\n            'v': 1,\n            'f': \"1\",\n        },\n{\n            'v': 0.0,\n            'f': \"0.0\",\n        },\n{\n            'v': NaN,\n            'f': \"NaN\",\n        },\n{\n            'v': 0,\n            'f': \"0\",\n        },\n{\n            'v': 0,\n            'f': \"0\",\n        },\n\"no\"],\n [{\n            'v': 88,\n            'f': \"88\",\n        },\n{\n            'v': 53,\n            'f': \"53\",\n        },\n\"female\",\n{\n            'v': 4,\n            'f': \"4\",\n        },\n{\n            'v': 138,\n            'f': \"138\",\n        },\n{\n            'v': 234,\n            'f': \"234\",\n        },\n{\n            'v': 0,\n            'f': \"0\",\n        },\n{\n            'v': 2,\n            'f': \"2\",\n        },\n{\n            'v': 160,\n            'f': \"160\",\n        },\n{\n            'v': 0,\n            'f': \"0\",\n        },\n{\n            'v': 0.0,\n            'f': \"0.0\",\n        },\n{\n            'v': 1,\n            'f': \"1\",\n        },\n{\n            'v': 0.0,\n            'f': \"0.0\",\n        },\n{\n            'v': 3.0,\n            'f': \"3.0\",\n        },\n{\n            'v': 0,\n            'f': \"0\",\n        },\n{\n            'v': 0,\n            'f': \"0\",\n        },\n\"no\"],\n [{\n            'v': 89,\n            'f': \"89\",\n        },\n{\n            'v': 51,\n            'f': \"51\",\n        },\n\"female\",\n{\n            'v': 3,\n            'f': \"3\",\n        },\n{\n            'v': 130,\n            'f': \"130\",\n        },\n{\n            'v': 256,\n            'f': \"256\",\n        },\n{\n            'v': 0,\n            'f': \"0\",\n        },\n{\n            'v': 2,\n            'f': \"2\",\n        },\n{\n            'v': 149,\n            'f': \"149\",\n        },\n{\n            'v': 0,\n            'f': \"0\",\n        },\n{\n            'v': 0.5,\n            'f': \"0.5\",\n        },\n{\n            'v': 1,\n            'f': \"1\",\n        },\n{\n            'v': 0.0,\n            'f': \"0.0\",\n        },\n{\n            'v': 3.0,\n            'f': \"3.0\",\n        },\n{\n            'v': 0,\n            'f': \"0\",\n        },\n{\n            'v': 0,\n            'f': \"0\",\n        },\n\"no\"],\n [{\n            'v': 90,\n            'f': \"90\",\n        },\n{\n            'v': 66,\n            'f': \"66\",\n        },\n\"male\",\n{\n            'v': 4,\n            'f': \"4\",\n        },\n{\n            'v': 120,\n            'f': \"120\",\n        },\n{\n            'v': 302,\n            'f': \"302\",\n        },\n{\n            'v': 0,\n            'f': \"0\",\n        },\n{\n            'v': 2,\n            'f': \"2\",\n        },\n{\n            'v': 151,\n            'f': \"151\",\n        },\n{\n            'v': 0,\n            'f': \"0\",\n        },\n{\n            'v': 0.4,\n            'f': \"0.4\",\n        },\n{\n            'v': 2,\n            'f': \"2\",\n        },\n{\n            'v': 0.0,\n            'f': \"0.0\",\n        },\n{\n            'v': 3.0,\n            'f': \"3.0\",\n        },\n{\n            'v': 0,\n            'f': \"0\",\n        },\n{\n            'v': 0,\n            'f': \"0\",\n        },\n\"no\"],\n [{\n            'v': 91,\n            'f': \"91\",\n        },\n{\n            'v': 62,\n            'f': \"62\",\n        },\n\"female\",\n{\n            'v': 4,\n            'f': \"4\",\n        },\n{\n            'v': 160,\n            'f': \"160\",\n        },\n{\n            'v': 164,\n            'f': \"164\",\n        },\n{\n            'v': 0,\n            'f': \"0\",\n        },\n{\n            'v': 2,\n            'f': \"2\",\n        },\n{\n            'v': 145,\n            'f': \"145\",\n        },\n{\n            'v': 0,\n            'f': \"0\",\n        },\n{\n            'v': 6.2,\n            'f': \"6.2\",\n        },\n{\n            'v': 3,\n            'f': \"3\",\n        },\n{\n            'v': 3.0,\n            'f': \"3.0\",\n        },\n{\n            'v': 7.0,\n            'f': \"7.0\",\n        },\n{\n            'v': 3,\n            'f': \"3\",\n        },\n{\n            'v': 0,\n            'f': \"0\",\n        },\n\"yes\"],\n [{\n            'v': 92,\n            'f': \"92\",\n        },\n{\n            'v': 62,\n            'f': \"62\",\n        },\n\"male\",\n{\n            'v': 3,\n            'f': \"3\",\n        },\n{\n            'v': 130,\n            'f': \"130\",\n        },\n{\n            'v': 231,\n            'f': \"231\",\n        },\n{\n            'v': 0,\n            'f': \"0\",\n        },\n{\n            'v': 0,\n            'f': \"0\",\n        },\n{\n            'v': 146,\n            'f': \"146\",\n        },\n{\n            'v': 0,\n            'f': \"0\",\n        },\n{\n            'v': 1.8,\n            'f': \"1.8\",\n        },\n{\n            'v': 2,\n            'f': \"2\",\n        },\n{\n            'v': 3.0,\n            'f': \"3.0\",\n        },\n{\n            'v': 7.0,\n            'f': \"7.0\",\n        },\n{\n            'v': 0,\n            'f': \"0\",\n        },\n{\n            'v': 0,\n            'f': \"0\",\n        },\n\"no\"],\n [{\n            'v': 93,\n            'f': \"93\",\n        },\n{\n            'v': 44,\n            'f': \"44\",\n        },\n\"female\",\n{\n            'v': 3,\n            'f': \"3\",\n        },\n{\n            'v': 108,\n            'f': \"108\",\n        },\n{\n            'v': 141,\n            'f': \"141\",\n        },\n{\n            'v': 0,\n            'f': \"0\",\n        },\n{\n            'v': 0,\n            'f': \"0\",\n        },\n{\n            'v': 175,\n            'f': \"175\",\n        },\n{\n            'v': 0,\n            'f': \"0\",\n        },\n{\n            'v': 0.6,\n            'f': \"0.6\",\n        },\n{\n            'v': 2,\n            'f': \"2\",\n        },\n{\n            'v': 0.0,\n            'f': \"0.0\",\n        },\n{\n            'v': 3.0,\n            'f': \"3.0\",\n        },\n{\n            'v': 0,\n            'f': \"0\",\n        },\n{\n            'v': 0,\n            'f': \"0\",\n        },\n\"no\"],\n [{\n            'v': 94,\n            'f': \"94\",\n        },\n{\n            'v': 63,\n            'f': \"63\",\n        },\n\"female\",\n{\n            'v': 3,\n            'f': \"3\",\n        },\n{\n            'v': 135,\n            'f': \"135\",\n        },\n{\n            'v': 252,\n            'f': \"252\",\n        },\n{\n            'v': 0,\n            'f': \"0\",\n        },\n{\n            'v': 2,\n            'f': \"2\",\n        },\n{\n            'v': 172,\n            'f': \"172\",\n        },\n{\n            'v': 0,\n            'f': \"0\",\n        },\n{\n            'v': 0.0,\n            'f': \"0.0\",\n        },\n{\n            'v': 1,\n            'f': \"1\",\n        },\n{\n            'v': 0.0,\n            'f': \"0.0\",\n        },\n{\n            'v': 3.0,\n            'f': \"3.0\",\n        },\n{\n            'v': 0,\n            'f': \"0\",\n        },\n{\n            'v': 0,\n            'f': \"0\",\n        },\n\"no\"],\n [{\n            'v': 95,\n            'f': \"95\",\n        },\n{\n            'v': 52,\n            'f': \"52\",\n        },\n\"male\",\n{\n            'v': 4,\n            'f': \"4\",\n        },\n{\n            'v': 128,\n            'f': \"128\",\n        },\n{\n            'v': 255,\n            'f': \"255\",\n        },\n{\n            'v': 0,\n            'f': \"0\",\n        },\n{\n            'v': 0,\n            'f': \"0\",\n        },\n{\n            'v': 161,\n            'f': \"161\",\n        },\n{\n            'v': 1,\n            'f': \"1\",\n        },\n{\n            'v': 0.0,\n            'f': \"0.0\",\n        },\n{\n            'v': 1,\n            'f': \"1\",\n        },\n{\n            'v': 1.0,\n            'f': \"1.0\",\n        },\n{\n            'v': 7.0,\n            'f': \"7.0\",\n        },\n{\n            'v': 1,\n            'f': \"1\",\n        },\n{\n            'v': 1,\n            'f': \"1\",\n        },\n\"yes\"],\n [{\n            'v': 96,\n            'f': \"96\",\n        },\n{\n            'v': 59,\n            'f': \"59\",\n        },\n\"male\",\n{\n            'v': 4,\n            'f': \"4\",\n        },\n{\n            'v': 110,\n            'f': \"110\",\n        },\n{\n            'v': 239,\n            'f': \"239\",\n        },\n{\n            'v': 0,\n            'f': \"0\",\n        },\n{\n            'v': 2,\n            'f': \"2\",\n        },\n{\n            'v': 142,\n            'f': \"142\",\n        },\n{\n            'v': 1,\n            'f': \"1\",\n        },\n{\n            'v': 1.2,\n            'f': \"1.2\",\n        },\n{\n            'v': 2,\n            'f': \"2\",\n        },\n{\n            'v': 1.0,\n            'f': \"1.0\",\n        },\n{\n            'v': 7.0,\n            'f': \"7.0\",\n        },\n{\n            'v': 2,\n            'f': \"2\",\n        },\n{\n            'v': 1,\n            'f': \"1\",\n        },\n\"yes\"],\n [{\n            'v': 97,\n            'f': \"97\",\n        },\n{\n            'v': 60,\n            'f': \"60\",\n        },\n\"female\",\n{\n            'v': 4,\n            'f': \"4\",\n        },\n{\n            'v': 150,\n            'f': \"150\",\n        },\n{\n            'v': 258,\n            'f': \"258\",\n        },\n{\n            'v': 0,\n            'f': \"0\",\n        },\n{\n            'v': 2,\n            'f': \"2\",\n        },\n{\n            'v': 157,\n            'f': \"157\",\n        },\n{\n            'v': 0,\n            'f': \"0\",\n        },\n{\n            'v': 2.6,\n            'f': \"2.6\",\n        },\n{\n            'v': 2,\n            'f': \"2\",\n        },\n{\n            'v': 2.0,\n            'f': \"2.0\",\n        },\n{\n            'v': 7.0,\n            'f': \"7.0\",\n        },\n{\n            'v': 3,\n            'f': \"3\",\n        },\n{\n            'v': 0,\n            'f': \"0\",\n        },\n\"yes\"],\n [{\n            'v': 98,\n            'f': \"98\",\n        },\n{\n            'v': 52,\n            'f': \"52\",\n        },\n\"male\",\n{\n            'v': 2,\n            'f': \"2\",\n        },\n{\n            'v': 134,\n            'f': \"134\",\n        },\n{\n            'v': 201,\n            'f': \"201\",\n        },\n{\n            'v': 0,\n            'f': \"0\",\n        },\n{\n            'v': 0,\n            'f': \"0\",\n        },\n{\n            'v': 158,\n            'f': \"158\",\n        },\n{\n            'v': 0,\n            'f': \"0\",\n        },\n{\n            'v': 0.8,\n            'f': \"0.8\",\n        },\n{\n            'v': 1,\n            'f': \"1\",\n        },\n{\n            'v': 1.0,\n            'f': \"1.0\",\n        },\n{\n            'v': 3.0,\n            'f': \"3.0\",\n        },\n{\n            'v': 0,\n            'f': \"0\",\n        },\n{\n            'v': 0,\n            'f': \"0\",\n        },\n\"no\"],\n [{\n            'v': 99,\n            'f': \"99\",\n        },\n{\n            'v': 48,\n            'f': \"48\",\n        },\n\"male\",\n{\n            'v': 4,\n            'f': \"4\",\n        },\n{\n            'v': 122,\n            'f': \"122\",\n        },\n{\n            'v': 222,\n            'f': \"222\",\n        },\n{\n            'v': 0,\n            'f': \"0\",\n        },\n{\n            'v': 2,\n            'f': \"2\",\n        },\n{\n            'v': 186,\n            'f': \"186\",\n        },\n{\n            'v': 0,\n            'f': \"0\",\n        },\n{\n            'v': 0.0,\n            'f': \"0.0\",\n        },\n{\n            'v': 1,\n            'f': \"1\",\n        },\n{\n            'v': 0.0,\n            'f': \"0.0\",\n        },\n{\n            'v': 3.0,\n            'f': \"3.0\",\n        },\n{\n            'v': 0,\n            'f': \"0\",\n        },\n{\n            'v': 0,\n            'f': \"0\",\n        },\n\"no\"],\n [{\n            'v': 100,\n            'f': \"100\",\n        },\n{\n            'v': 45,\n            'f': \"45\",\n        },\n\"male\",\n{\n            'v': 4,\n            'f': \"4\",\n        },\n{\n            'v': 115,\n            'f': \"115\",\n        },\n{\n            'v': 260,\n            'f': \"260\",\n        },\n{\n            'v': 0,\n            'f': \"0\",\n        },\n{\n            'v': 2,\n            'f': \"2\",\n        },\n{\n            'v': 185,\n            'f': \"185\",\n        },\n{\n            'v': 0,\n            'f': \"0\",\n        },\n{\n            'v': 0.0,\n            'f': \"0.0\",\n        },\n{\n            'v': 1,\n            'f': \"1\",\n        },\n{\n            'v': 0.0,\n            'f': \"0.0\",\n        },\n{\n            'v': 3.0,\n            'f': \"3.0\",\n        },\n{\n            'v': 0,\n            'f': \"0\",\n        },\n{\n            'v': 0,\n            'f': \"0\",\n        },\n\"no\"],\n [{\n            'v': 101,\n            'f': \"101\",\n        },\n{\n            'v': 34,\n            'f': \"34\",\n        },\n\"male\",\n{\n            'v': 1,\n            'f': \"1\",\n        },\n{\n            'v': 118,\n            'f': \"118\",\n        },\n{\n            'v': 182,\n            'f': \"182\",\n        },\n{\n            'v': 0,\n            'f': \"0\",\n        },\n{\n            'v': 2,\n            'f': \"2\",\n        },\n{\n            'v': 174,\n            'f': \"174\",\n        },\n{\n            'v': 0,\n            'f': \"0\",\n        },\n{\n            'v': 0.0,\n            'f': \"0.0\",\n        },\n{\n            'v': 1,\n            'f': \"1\",\n        },\n{\n            'v': 0.0,\n            'f': \"0.0\",\n        },\n{\n            'v': 3.0,\n            'f': \"3.0\",\n        },\n{\n            'v': 0,\n            'f': \"0\",\n        },\n{\n            'v': 0,\n            'f': \"0\",\n        },\n\"no\"],\n [{\n            'v': 102,\n            'f': \"102\",\n        },\n{\n            'v': 57,\n            'f': \"57\",\n        },\n\"female\",\n{\n            'v': 4,\n            'f': \"4\",\n        },\n{\n            'v': 128,\n            'f': \"128\",\n        },\n{\n            'v': 303,\n            'f': \"303\",\n        },\n{\n            'v': 0,\n            'f': \"0\",\n        },\n{\n            'v': 2,\n            'f': \"2\",\n        },\n{\n            'v': 159,\n            'f': \"159\",\n        },\n{\n            'v': 0,\n            'f': \"0\",\n        },\n{\n            'v': 0.0,\n            'f': \"0.0\",\n        },\n{\n            'v': 1,\n            'f': \"1\",\n        },\n{\n            'v': 1.0,\n            'f': \"1.0\",\n        },\n{\n            'v': 3.0,\n            'f': \"3.0\",\n        },\n{\n            'v': 0,\n            'f': \"0\",\n        },\n{\n            'v': 0,\n            'f': \"0\",\n        },\n\"no\"],\n [{\n            'v': 103,\n            'f': \"103\",\n        },\n{\n            'v': 71,\n            'f': \"71\",\n        },\n\"female\",\n{\n            'v': 3,\n            'f': \"3\",\n        },\n{\n            'v': 110,\n            'f': \"110\",\n        },\n{\n            'v': 265,\n            'f': \"265\",\n        },\n{\n            'v': 1,\n            'f': \"1\",\n        },\n{\n            'v': 2,\n            'f': \"2\",\n        },\n{\n            'v': 130,\n            'f': \"130\",\n        },\n{\n            'v': 0,\n            'f': \"0\",\n        },\n{\n            'v': 0.0,\n            'f': \"0.0\",\n        },\n{\n            'v': 1,\n            'f': \"1\",\n        },\n{\n            'v': 1.0,\n            'f': \"1.0\",\n        },\n{\n            'v': 3.0,\n            'f': \"3.0\",\n        },\n{\n            'v': 0,\n            'f': \"0\",\n        },\n{\n            'v': 0,\n            'f': \"0\",\n        },\n\"no\"],\n [{\n            'v': 104,\n            'f': \"104\",\n        },\n{\n            'v': 49,\n            'f': \"49\",\n        },\n\"male\",\n{\n            'v': 3,\n            'f': \"3\",\n        },\n{\n            'v': 120,\n            'f': \"120\",\n        },\n{\n            'v': 188,\n            'f': \"188\",\n        },\n{\n            'v': 0,\n            'f': \"0\",\n        },\n{\n            'v': 0,\n            'f': \"0\",\n        },\n{\n            'v': 139,\n            'f': \"139\",\n        },\n{\n            'v': 0,\n            'f': \"0\",\n        },\n{\n            'v': 2.0,\n            'f': \"2.0\",\n        },\n{\n            'v': 2,\n            'f': \"2\",\n        },\n{\n            'v': 3.0,\n            'f': \"3.0\",\n        },\n{\n            'v': 7.0,\n            'f': \"7.0\",\n        },\n{\n            'v': 3,\n            'f': \"3\",\n        },\n{\n            'v': 0,\n            'f': \"0\",\n        },\n\"yes\"],\n [{\n            'v': 105,\n            'f': \"105\",\n        },\n{\n            'v': 54,\n            'f': \"54\",\n        },\n\"male\",\n{\n            'v': 2,\n            'f': \"2\",\n        },\n{\n            'v': 108,\n            'f': \"108\",\n        },\n{\n            'v': 309,\n            'f': \"309\",\n        },\n{\n            'v': 0,\n            'f': \"0\",\n        },\n{\n            'v': 0,\n            'f': \"0\",\n        },\n{\n            'v': 156,\n            'f': \"156\",\n        },\n{\n            'v': 0,\n            'f': \"0\",\n        },\n{\n            'v': 0.0,\n            'f': \"0.0\",\n        },\n{\n            'v': 1,\n            'f': \"1\",\n        },\n{\n            'v': 0.0,\n            'f': \"0.0\",\n        },\n{\n            'v': 7.0,\n            'f': \"7.0\",\n        },\n{\n            'v': 0,\n            'f': \"0\",\n        },\n{\n            'v': 0,\n            'f': \"0\",\n        },\n\"no\"],\n [{\n            'v': 106,\n            'f': \"106\",\n        },\n{\n            'v': 59,\n            'f': \"59\",\n        },\n\"male\",\n{\n            'v': 4,\n            'f': \"4\",\n        },\n{\n            'v': 140,\n            'f': \"140\",\n        },\n{\n            'v': 177,\n            'f': \"177\",\n        },\n{\n            'v': 0,\n            'f': \"0\",\n        },\n{\n            'v': 0,\n            'f': \"0\",\n        },\n{\n            'v': 162,\n            'f': \"162\",\n        },\n{\n            'v': 1,\n            'f': \"1\",\n        },\n{\n            'v': 0.0,\n            'f': \"0.0\",\n        },\n{\n            'v': 1,\n            'f': \"1\",\n        },\n{\n            'v': 1.0,\n            'f': \"1.0\",\n        },\n{\n            'v': 7.0,\n            'f': \"7.0\",\n        },\n{\n            'v': 2,\n            'f': \"2\",\n        },\n{\n            'v': 1,\n            'f': \"1\",\n        },\n\"yes\"],\n [{\n            'v': 107,\n            'f': \"107\",\n        },\n{\n            'v': 57,\n            'f': \"57\",\n        },\n\"male\",\n{\n            'v': 3,\n            'f': \"3\",\n        },\n{\n            'v': 128,\n            'f': \"128\",\n        },\n{\n            'v': 229,\n            'f': \"229\",\n        },\n{\n            'v': 0,\n            'f': \"0\",\n        },\n{\n            'v': 2,\n            'f': \"2\",\n        },\n{\n            'v': 150,\n            'f': \"150\",\n        },\n{\n            'v': 0,\n            'f': \"0\",\n        },\n{\n            'v': 0.4,\n            'f': \"0.4\",\n        },\n{\n            'v': 2,\n            'f': \"2\",\n        },\n{\n            'v': 1.0,\n            'f': \"1.0\",\n        },\n{\n            'v': 7.0,\n            'f': \"7.0\",\n        },\n{\n            'v': 1,\n            'f': \"1\",\n        },\n{\n            'v': 0,\n            'f': \"0\",\n        },\n\"yes\"],\n [{\n            'v': 108,\n            'f': \"108\",\n        },\n{\n            'v': 61,\n            'f': \"61\",\n        },\n\"male\",\n{\n            'v': 4,\n            'f': \"4\",\n        },\n{\n            'v': 120,\n            'f': \"120\",\n        },\n{\n            'v': 260,\n            'f': \"260\",\n        },\n{\n            'v': 0,\n            'f': \"0\",\n        },\n{\n            'v': 0,\n            'f': \"0\",\n        },\n{\n            'v': 140,\n            'f': \"140\",\n        },\n{\n            'v': 1,\n            'f': \"1\",\n        },\n{\n            'v': 3.6,\n            'f': \"3.6\",\n        },\n{\n            'v': 2,\n            'f': \"2\",\n        },\n{\n            'v': 1.0,\n            'f': \"1.0\",\n        },\n{\n            'v': 7.0,\n            'f': \"7.0\",\n        },\n{\n            'v': 2,\n            'f': \"2\",\n        },\n{\n            'v': 1,\n            'f': \"1\",\n        },\n\"yes\"],\n [{\n            'v': 109,\n            'f': \"109\",\n        },\n{\n            'v': 39,\n            'f': \"39\",\n        },\n\"male\",\n{\n            'v': 4,\n            'f': \"4\",\n        },\n{\n            'v': 118,\n            'f': \"118\",\n        },\n{\n            'v': 219,\n            'f': \"219\",\n        },\n{\n            'v': 0,\n            'f': \"0\",\n        },\n{\n            'v': 0,\n            'f': \"0\",\n        },\n{\n            'v': 140,\n            'f': \"140\",\n        },\n{\n            'v': 0,\n            'f': \"0\",\n        },\n{\n            'v': 1.2,\n            'f': \"1.2\",\n        },\n{\n            'v': 2,\n            'f': \"2\",\n        },\n{\n            'v': 0.0,\n            'f': \"0.0\",\n        },\n{\n            'v': 7.0,\n            'f': \"7.0\",\n        },\n{\n            'v': 3,\n            'f': \"3\",\n        },\n{\n            'v': 0,\n            'f': \"0\",\n        },\n\"yes\"],\n [{\n            'v': 110,\n            'f': \"110\",\n        },\n{\n            'v': 61,\n            'f': \"61\",\n        },\n\"female\",\n{\n            'v': 4,\n            'f': \"4\",\n        },\n{\n            'v': 145,\n            'f': \"145\",\n        },\n{\n            'v': 307,\n            'f': \"307\",\n        },\n{\n            'v': 0,\n            'f': \"0\",\n        },\n{\n            'v': 2,\n            'f': \"2\",\n        },\n{\n            'v': 146,\n            'f': \"146\",\n        },\n{\n            'v': 1,\n            'f': \"1\",\n        },\n{\n            'v': 1.0,\n            'f': \"1.0\",\n        },\n{\n            'v': 2,\n            'f': \"2\",\n        },\n{\n            'v': 0.0,\n            'f': \"0.0\",\n        },\n{\n            'v': 7.0,\n            'f': \"7.0\",\n        },\n{\n            'v': 1,\n            'f': \"1\",\n        },\n{\n            'v': 1,\n            'f': \"1\",\n        },\n\"yes\"],\n [{\n            'v': 111,\n            'f': \"111\",\n        },\n{\n            'v': 56,\n            'f': \"56\",\n        },\n\"male\",\n{\n            'v': 4,\n            'f': \"4\",\n        },\n{\n            'v': 125,\n            'f': \"125\",\n        },\n{\n            'v': 249,\n            'f': \"249\",\n        },\n{\n            'v': 1,\n            'f': \"1\",\n        },\n{\n            'v': 2,\n            'f': \"2\",\n        },\n{\n            'v': 144,\n            'f': \"144\",\n        },\n{\n            'v': 1,\n            'f': \"1\",\n        },\n{\n            'v': 1.2,\n            'f': \"1.2\",\n        },\n{\n            'v': 2,\n            'f': \"2\",\n        },\n{\n            'v': 1.0,\n            'f': \"1.0\",\n        },\n{\n            'v': 3.0,\n            'f': \"3.0\",\n        },\n{\n            'v': 1,\n            'f': \"1\",\n        },\n{\n            'v': 1,\n            'f': \"1\",\n        },\n\"yes\"],\n [{\n            'v': 112,\n            'f': \"112\",\n        },\n{\n            'v': 52,\n            'f': \"52\",\n        },\n\"male\",\n{\n            'v': 1,\n            'f': \"1\",\n        },\n{\n            'v': 118,\n            'f': \"118\",\n        },\n{\n            'v': 186,\n            'f': \"186\",\n        },\n{\n            'v': 0,\n            'f': \"0\",\n        },\n{\n            'v': 2,\n            'f': \"2\",\n        },\n{\n            'v': 190,\n            'f': \"190\",\n        },\n{\n            'v': 0,\n            'f': \"0\",\n        },\n{\n            'v': 0.0,\n            'f': \"0.0\",\n        },\n{\n            'v': 2,\n            'f': \"2\",\n        },\n{\n            'v': 0.0,\n            'f': \"0.0\",\n        },\n{\n            'v': 6.0,\n            'f': \"6.0\",\n        },\n{\n            'v': 0,\n            'f': \"0\",\n        },\n{\n            'v': 0,\n            'f': \"0\",\n        },\n\"no\"],\n [{\n            'v': 113,\n            'f': \"113\",\n        },\n{\n            'v': 43,\n            'f': \"43\",\n        },\n\"female\",\n{\n            'v': 4,\n            'f': \"4\",\n        },\n{\n            'v': 132,\n            'f': \"132\",\n        },\n{\n            'v': 341,\n            'f': \"341\",\n        },\n{\n            'v': 1,\n            'f': \"1\",\n        },\n{\n            'v': 2,\n            'f': \"2\",\n        },\n{\n            'v': 136,\n            'f': \"136\",\n        },\n{\n            'v': 1,\n            'f': \"1\",\n        },\n{\n            'v': 3.0,\n            'f': \"3.0\",\n        },\n{\n            'v': 2,\n            'f': \"2\",\n        },\n{\n            'v': 0.0,\n            'f': \"0.0\",\n        },\n{\n            'v': 7.0,\n            'f': \"7.0\",\n        },\n{\n            'v': 2,\n            'f': \"2\",\n        },\n{\n            'v': 1,\n            'f': \"1\",\n        },\n\"yes\"],\n [{\n            'v': 114,\n            'f': \"114\",\n        },\n{\n            'v': 62,\n            'f': \"62\",\n        },\n\"female\",\n{\n            'v': 3,\n            'f': \"3\",\n        },\n{\n            'v': 130,\n            'f': \"130\",\n        },\n{\n            'v': 263,\n            'f': \"263\",\n        },\n{\n            'v': 0,\n            'f': \"0\",\n        },\n{\n            'v': 0,\n            'f': \"0\",\n        },\n{\n            'v': 97,\n            'f': \"97\",\n        },\n{\n            'v': 0,\n            'f': \"0\",\n        },\n{\n            'v': 1.2,\n            'f': \"1.2\",\n        },\n{\n            'v': 2,\n            'f': \"2\",\n        },\n{\n            'v': 1.0,\n            'f': \"1.0\",\n        },\n{\n            'v': 7.0,\n            'f': \"7.0\",\n        },\n{\n            'v': 2,\n            'f': \"2\",\n        },\n{\n            'v': 0,\n            'f': \"0\",\n        },\n\"yes\"],\n [{\n            'v': 115,\n            'f': \"115\",\n        },\n{\n            'v': 41,\n            'f': \"41\",\n        },\n\"male\",\n{\n            'v': 2,\n            'f': \"2\",\n        },\n{\n            'v': 135,\n            'f': \"135\",\n        },\n{\n            'v': 203,\n            'f': \"203\",\n        },\n{\n            'v': 0,\n            'f': \"0\",\n        },\n{\n            'v': 0,\n            'f': \"0\",\n        },\n{\n            'v': 132,\n            'f': \"132\",\n        },\n{\n            'v': 0,\n            'f': \"0\",\n        },\n{\n            'v': 0.0,\n            'f': \"0.0\",\n        },\n{\n            'v': 2,\n            'f': \"2\",\n        },\n{\n            'v': 0.0,\n            'f': \"0.0\",\n        },\n{\n            'v': 6.0,\n            'f': \"6.0\",\n        },\n{\n            'v': 0,\n            'f': \"0\",\n        },\n{\n            'v': 0,\n            'f': \"0\",\n        },\n\"no\"],\n [{\n            'v': 116,\n            'f': \"116\",\n        },\n{\n            'v': 58,\n            'f': \"58\",\n        },\n\"male\",\n{\n            'v': 3,\n            'f': \"3\",\n        },\n{\n            'v': 140,\n            'f': \"140\",\n        },\n{\n            'v': 211,\n            'f': \"211\",\n        },\n{\n            'v': 1,\n            'f': \"1\",\n        },\n{\n            'v': 2,\n            'f': \"2\",\n        },\n{\n            'v': 165,\n            'f': \"165\",\n        },\n{\n            'v': 0,\n            'f': \"0\",\n        },\n{\n            'v': 0.0,\n            'f': \"0.0\",\n        },\n{\n            'v': 1,\n            'f': \"1\",\n        },\n{\n            'v': 0.0,\n            'f': \"0.0\",\n        },\n{\n            'v': 3.0,\n            'f': \"3.0\",\n        },\n{\n            'v': 0,\n            'f': \"0\",\n        },\n{\n            'v': 0,\n            'f': \"0\",\n        },\n\"no\"],\n [{\n            'v': 117,\n            'f': \"117\",\n        },\n{\n            'v': 35,\n            'f': \"35\",\n        },\n\"female\",\n{\n            'v': 4,\n            'f': \"4\",\n        },\n{\n            'v': 138,\n            'f': \"138\",\n        },\n{\n            'v': 183,\n            'f': \"183\",\n        },\n{\n            'v': 0,\n            'f': \"0\",\n        },\n{\n            'v': 0,\n            'f': \"0\",\n        },\n{\n            'v': 182,\n            'f': \"182\",\n        },\n{\n            'v': 0,\n            'f': \"0\",\n        },\n{\n            'v': 1.4,\n            'f': \"1.4\",\n        },\n{\n            'v': 1,\n            'f': \"1\",\n        },\n{\n            'v': 0.0,\n            'f': \"0.0\",\n        },\n{\n            'v': 3.0,\n            'f': \"3.0\",\n        },\n{\n            'v': 0,\n            'f': \"0\",\n        },\n{\n            'v': 0,\n            'f': \"0\",\n        },\n\"no\"],\n [{\n            'v': 118,\n            'f': \"118\",\n        },\n{\n            'v': 63,\n            'f': \"63\",\n        },\n\"male\",\n{\n            'v': 4,\n            'f': \"4\",\n        },\n{\n            'v': 130,\n            'f': \"130\",\n        },\n{\n            'v': 330,\n            'f': \"330\",\n        },\n{\n            'v': 1,\n            'f': \"1\",\n        },\n{\n            'v': 2,\n            'f': \"2\",\n        },\n{\n            'v': 132,\n            'f': \"132\",\n        },\n{\n            'v': 1,\n            'f': \"1\",\n        },\n{\n            'v': 1.8,\n            'f': \"1.8\",\n        },\n{\n            'v': 1,\n            'f': \"1\",\n        },\n{\n            'v': 3.0,\n            'f': \"3.0\",\n        },\n{\n            'v': 7.0,\n            'f': \"7.0\",\n        },\n{\n            'v': 3,\n            'f': \"3\",\n        },\n{\n            'v': 1,\n            'f': \"1\",\n        },\n\"yes\"],\n [{\n            'v': 119,\n            'f': \"119\",\n        },\n{\n            'v': 65,\n            'f': \"65\",\n        },\n\"male\",\n{\n            'v': 4,\n            'f': \"4\",\n        },\n{\n            'v': 135,\n            'f': \"135\",\n        },\n{\n            'v': 254,\n            'f': \"254\",\n        },\n{\n            'v': 0,\n            'f': \"0\",\n        },\n{\n            'v': 2,\n            'f': \"2\",\n        },\n{\n            'v': 127,\n            'f': \"127\",\n        },\n{\n            'v': 0,\n            'f': \"0\",\n        },\n{\n            'v': 2.8,\n            'f': \"2.8\",\n        },\n{\n            'v': 2,\n            'f': \"2\",\n        },\n{\n            'v': 1.0,\n            'f': \"1.0\",\n        },\n{\n            'v': 7.0,\n            'f': \"7.0\",\n        },\n{\n            'v': 2,\n            'f': \"2\",\n        },\n{\n            'v': 0,\n            'f': \"0\",\n        },\n\"yes\"],\n [{\n            'v': 120,\n            'f': \"120\",\n        },\n{\n            'v': 48,\n            'f': \"48\",\n        },\n\"male\",\n{\n            'v': 4,\n            'f': \"4\",\n        },\n{\n            'v': 130,\n            'f': \"130\",\n        },\n{\n            'v': 256,\n            'f': \"256\",\n        },\n{\n            'v': 1,\n            'f': \"1\",\n        },\n{\n            'v': 2,\n            'f': \"2\",\n        },\n{\n            'v': 150,\n            'f': \"150\",\n        },\n{\n            'v': 1,\n            'f': \"1\",\n        },\n{\n            'v': 0.0,\n            'f': \"0.0\",\n        },\n{\n            'v': 1,\n            'f': \"1\",\n        },\n{\n            'v': 2.0,\n            'f': \"2.0\",\n        },\n{\n            'v': 7.0,\n            'f': \"7.0\",\n        },\n{\n            'v': 3,\n            'f': \"3\",\n        },\n{\n            'v': 1,\n            'f': \"1\",\n        },\n\"yes\"],\n [{\n            'v': 121,\n            'f': \"121\",\n        },\n{\n            'v': 63,\n            'f': \"63\",\n        },\n\"female\",\n{\n            'v': 4,\n            'f': \"4\",\n        },\n{\n            'v': 150,\n            'f': \"150\",\n        },\n{\n            'v': 407,\n            'f': \"407\",\n        },\n{\n            'v': 0,\n            'f': \"0\",\n        },\n{\n            'v': 2,\n            'f': \"2\",\n        },\n{\n            'v': 154,\n            'f': \"154\",\n        },\n{\n            'v': 0,\n            'f': \"0\",\n        },\n{\n            'v': 4.0,\n            'f': \"4.0\",\n        },\n{\n            'v': 2,\n            'f': \"2\",\n        },\n{\n            'v': 3.0,\n            'f': \"3.0\",\n        },\n{\n            'v': 7.0,\n            'f': \"7.0\",\n        },\n{\n            'v': 4,\n            'f': \"4\",\n        },\n{\n            'v': 0,\n            'f': \"0\",\n        },\n\"yes\"],\n [{\n            'v': 122,\n            'f': \"122\",\n        },\n{\n            'v': 51,\n            'f': \"51\",\n        },\n\"male\",\n{\n            'v': 3,\n            'f': \"3\",\n        },\n{\n            'v': 100,\n            'f': \"100\",\n        },\n{\n            'v': 222,\n            'f': \"222\",\n        },\n{\n            'v': 0,\n            'f': \"0\",\n        },\n{\n            'v': 0,\n            'f': \"0\",\n        },\n{\n            'v': 143,\n            'f': \"143\",\n        },\n{\n            'v': 1,\n            'f': \"1\",\n        },\n{\n            'v': 1.2,\n            'f': \"1.2\",\n        },\n{\n            'v': 2,\n            'f': \"2\",\n        },\n{\n            'v': 0.0,\n            'f': \"0.0\",\n        },\n{\n            'v': 3.0,\n            'f': \"3.0\",\n        },\n{\n            'v': 0,\n            'f': \"0\",\n        },\n{\n            'v': 1,\n            'f': \"1\",\n        },\n\"no\"],\n [{\n            'v': 123,\n            'f': \"123\",\n        },\n{\n            'v': 55,\n            'f': \"55\",\n        },\n\"male\",\n{\n            'v': 4,\n            'f': \"4\",\n        },\n{\n            'v': 140,\n            'f': \"140\",\n        },\n{\n            'v': 217,\n            'f': \"217\",\n        },\n{\n            'v': 0,\n            'f': \"0\",\n        },\n{\n            'v': 0,\n            'f': \"0\",\n        },\n{\n            'v': 111,\n            'f': \"111\",\n        },\n{\n            'v': 1,\n            'f': \"1\",\n        },\n{\n            'v': 5.6,\n            'f': \"5.6\",\n        },\n{\n            'v': 3,\n            'f': \"3\",\n        },\n{\n            'v': 0.0,\n            'f': \"0.0\",\n        },\n{\n            'v': 7.0,\n            'f': \"7.0\",\n        },\n{\n            'v': 3,\n            'f': \"3\",\n        },\n{\n            'v': 1,\n            'f': \"1\",\n        },\n\"yes\"],\n [{\n            'v': 124,\n            'f': \"124\",\n        },\n{\n            'v': 65,\n            'f': \"65\",\n        },\n\"male\",\n{\n            'v': 1,\n            'f': \"1\",\n        },\n{\n            'v': 138,\n            'f': \"138\",\n        },\n{\n            'v': 282,\n            'f': \"282\",\n        },\n{\n            'v': 1,\n            'f': \"1\",\n        },\n{\n            'v': 2,\n            'f': \"2\",\n        },\n{\n            'v': 174,\n            'f': \"174\",\n        },\n{\n            'v': 0,\n            'f': \"0\",\n        },\n{\n            'v': 1.4,\n            'f': \"1.4\",\n        },\n{\n            'v': 2,\n            'f': \"2\",\n        },\n{\n            'v': 1.0,\n            'f': \"1.0\",\n        },\n{\n            'v': 3.0,\n            'f': \"3.0\",\n        },\n{\n            'v': 1,\n            'f': \"1\",\n        },\n{\n            'v': 0,\n            'f': \"0\",\n        },\n\"yes\"],\n [{\n            'v': 125,\n            'f': \"125\",\n        },\n{\n            'v': 45,\n            'f': \"45\",\n        },\n\"female\",\n{\n            'v': 2,\n            'f': \"2\",\n        },\n{\n            'v': 130,\n            'f': \"130\",\n        },\n{\n            'v': 234,\n            'f': \"234\",\n        },\n{\n            'v': 0,\n            'f': \"0\",\n        },\n{\n            'v': 2,\n            'f': \"2\",\n        },\n{\n            'v': 175,\n            'f': \"175\",\n        },\n{\n            'v': 0,\n            'f': \"0\",\n        },\n{\n            'v': 0.6,\n            'f': \"0.6\",\n        },\n{\n            'v': 2,\n            'f': \"2\",\n        },\n{\n            'v': 0.0,\n            'f': \"0.0\",\n        },\n{\n            'v': 3.0,\n            'f': \"3.0\",\n        },\n{\n            'v': 0,\n            'f': \"0\",\n        },\n{\n            'v': 0,\n            'f': \"0\",\n        },\n\"no\"],\n [{\n            'v': 126,\n            'f': \"126\",\n        },\n{\n            'v': 56,\n            'f': \"56\",\n        },\n\"female\",\n{\n            'v': 4,\n            'f': \"4\",\n        },\n{\n            'v': 200,\n            'f': \"200\",\n        },\n{\n            'v': 288,\n            'f': \"288\",\n        },\n{\n            'v': 1,\n            'f': \"1\",\n        },\n{\n            'v': 2,\n            'f': \"2\",\n        },\n{\n            'v': 133,\n            'f': \"133\",\n        },\n{\n            'v': 1,\n            'f': \"1\",\n        },\n{\n            'v': 4.0,\n            'f': \"4.0\",\n        },\n{\n            'v': 3,\n            'f': \"3\",\n        },\n{\n            'v': 2.0,\n            'f': \"2.0\",\n        },\n{\n            'v': 7.0,\n            'f': \"7.0\",\n        },\n{\n            'v': 3,\n            'f': \"3\",\n        },\n{\n            'v': 1,\n            'f': \"1\",\n        },\n\"yes\"],\n [{\n            'v': 127,\n            'f': \"127\",\n        },\n{\n            'v': 54,\n            'f': \"54\",\n        },\n\"male\",\n{\n            'v': 4,\n            'f': \"4\",\n        },\n{\n            'v': 110,\n            'f': \"110\",\n        },\n{\n            'v': 239,\n            'f': \"239\",\n        },\n{\n            'v': 0,\n            'f': \"0\",\n        },\n{\n            'v': 0,\n            'f': \"0\",\n        },\n{\n            'v': 126,\n            'f': \"126\",\n        },\n{\n            'v': 1,\n            'f': \"1\",\n        },\n{\n            'v': 2.8,\n            'f': \"2.8\",\n        },\n{\n            'v': 2,\n            'f': \"2\",\n        },\n{\n            'v': 1.0,\n            'f': \"1.0\",\n        },\n{\n            'v': 7.0,\n            'f': \"7.0\",\n        },\n{\n            'v': 3,\n            'f': \"3\",\n        },\n{\n            'v': 1,\n            'f': \"1\",\n        },\n\"yes\"],\n [{\n            'v': 128,\n            'f': \"128\",\n        },\n{\n            'v': 44,\n            'f': \"44\",\n        },\n\"male\",\n{\n            'v': 2,\n            'f': \"2\",\n        },\n{\n            'v': 120,\n            'f': \"120\",\n        },\n{\n            'v': 220,\n            'f': \"220\",\n        },\n{\n            'v': 0,\n            'f': \"0\",\n        },\n{\n            'v': 0,\n            'f': \"0\",\n        },\n{\n            'v': 170,\n            'f': \"170\",\n        },\n{\n            'v': 0,\n            'f': \"0\",\n        },\n{\n            'v': 0.0,\n            'f': \"0.0\",\n        },\n{\n            'v': 1,\n            'f': \"1\",\n        },\n{\n            'v': 0.0,\n            'f': \"0.0\",\n        },\n{\n            'v': 3.0,\n            'f': \"3.0\",\n        },\n{\n            'v': 0,\n            'f': \"0\",\n        },\n{\n            'v': 0,\n            'f': \"0\",\n        },\n\"no\"],\n [{\n            'v': 129,\n            'f': \"129\",\n        },\n{\n            'v': 62,\n            'f': \"62\",\n        },\n\"female\",\n{\n            'v': 4,\n            'f': \"4\",\n        },\n{\n            'v': 124,\n            'f': \"124\",\n        },\n{\n            'v': 209,\n            'f': \"209\",\n        },\n{\n            'v': 0,\n            'f': \"0\",\n        },\n{\n            'v': 0,\n            'f': \"0\",\n        },\n{\n            'v': 163,\n            'f': \"163\",\n        },\n{\n            'v': 0,\n            'f': \"0\",\n        },\n{\n            'v': 0.0,\n            'f': \"0.0\",\n        },\n{\n            'v': 1,\n            'f': \"1\",\n        },\n{\n            'v': 0.0,\n            'f': \"0.0\",\n        },\n{\n            'v': 3.0,\n            'f': \"3.0\",\n        },\n{\n            'v': 0,\n            'f': \"0\",\n        },\n{\n            'v': 0,\n            'f': \"0\",\n        },\n\"no\"],\n [{\n            'v': 130,\n            'f': \"130\",\n        },\n{\n            'v': 54,\n            'f': \"54\",\n        },\n\"male\",\n{\n            'v': 3,\n            'f': \"3\",\n        },\n{\n            'v': 120,\n            'f': \"120\",\n        },\n{\n            'v': 258,\n            'f': \"258\",\n        },\n{\n            'v': 0,\n            'f': \"0\",\n        },\n{\n            'v': 2,\n            'f': \"2\",\n        },\n{\n            'v': 147,\n            'f': \"147\",\n        },\n{\n            'v': 0,\n            'f': \"0\",\n        },\n{\n            'v': 0.4,\n            'f': \"0.4\",\n        },\n{\n            'v': 2,\n            'f': \"2\",\n        },\n{\n            'v': 0.0,\n            'f': \"0.0\",\n        },\n{\n            'v': 7.0,\n            'f': \"7.0\",\n        },\n{\n            'v': 0,\n            'f': \"0\",\n        },\n{\n            'v': 0,\n            'f': \"0\",\n        },\n\"no\"],\n [{\n            'v': 131,\n            'f': \"131\",\n        },\n{\n            'v': 51,\n            'f': \"51\",\n        },\n\"male\",\n{\n            'v': 3,\n            'f': \"3\",\n        },\n{\n            'v': 94,\n            'f': \"94\",\n        },\n{\n            'v': 227,\n            'f': \"227\",\n        },\n{\n            'v': 0,\n            'f': \"0\",\n        },\n{\n            'v': 0,\n            'f': \"0\",\n        },\n{\n            'v': 154,\n            'f': \"154\",\n        },\n{\n            'v': 1,\n            'f': \"1\",\n        },\n{\n            'v': 0.0,\n            'f': \"0.0\",\n        },\n{\n            'v': 1,\n            'f': \"1\",\n        },\n{\n            'v': 1.0,\n            'f': \"1.0\",\n        },\n{\n            'v': 7.0,\n            'f': \"7.0\",\n        },\n{\n            'v': 0,\n            'f': \"0\",\n        },\n{\n            'v': 1,\n            'f': \"1\",\n        },\n\"no\"],\n [{\n            'v': 132,\n            'f': \"132\",\n        },\n{\n            'v': 29,\n            'f': \"29\",\n        },\n\"male\",\n{\n            'v': 2,\n            'f': \"2\",\n        },\n{\n            'v': 130,\n            'f': \"130\",\n        },\n{\n            'v': 204,\n            'f': \"204\",\n        },\n{\n            'v': 0,\n            'f': \"0\",\n        },\n{\n            'v': 2,\n            'f': \"2\",\n        },\n{\n            'v': 202,\n            'f': \"202\",\n        },\n{\n            'v': 0,\n            'f': \"0\",\n        },\n{\n            'v': 0.0,\n            'f': \"0.0\",\n        },\n{\n            'v': 1,\n            'f': \"1\",\n        },\n{\n            'v': 0.0,\n            'f': \"0.0\",\n        },\n{\n            'v': 3.0,\n            'f': \"3.0\",\n        },\n{\n            'v': 0,\n            'f': \"0\",\n        },\n{\n            'v': 0,\n            'f': \"0\",\n        },\n\"no\"],\n [{\n            'v': 133,\n            'f': \"133\",\n        },\n{\n            'v': 51,\n            'f': \"51\",\n        },\n\"male\",\n{\n            'v': 4,\n            'f': \"4\",\n        },\n{\n            'v': 140,\n            'f': \"140\",\n        },\n{\n            'v': 261,\n            'f': \"261\",\n        },\n{\n            'v': 0,\n            'f': \"0\",\n        },\n{\n            'v': 2,\n            'f': \"2\",\n        },\n{\n            'v': 186,\n            'f': \"186\",\n        },\n{\n            'v': 1,\n            'f': \"1\",\n        },\n{\n            'v': 0.0,\n            'f': \"0.0\",\n        },\n{\n            'v': 1,\n            'f': \"1\",\n        },\n{\n            'v': 0.0,\n            'f': \"0.0\",\n        },\n{\n            'v': 3.0,\n            'f': \"3.0\",\n        },\n{\n            'v': 0,\n            'f': \"0\",\n        },\n{\n            'v': 1,\n            'f': \"1\",\n        },\n\"no\"],\n [{\n            'v': 134,\n            'f': \"134\",\n        },\n{\n            'v': 43,\n            'f': \"43\",\n        },\n\"female\",\n{\n            'v': 3,\n            'f': \"3\",\n        },\n{\n            'v': 122,\n            'f': \"122\",\n        },\n{\n            'v': 213,\n            'f': \"213\",\n        },\n{\n            'v': 0,\n            'f': \"0\",\n        },\n{\n            'v': 0,\n            'f': \"0\",\n        },\n{\n            'v': 165,\n            'f': \"165\",\n        },\n{\n            'v': 0,\n            'f': \"0\",\n        },\n{\n            'v': 0.2,\n            'f': \"0.2\",\n        },\n{\n            'v': 2,\n            'f': \"2\",\n        },\n{\n            'v': 0.0,\n            'f': \"0.0\",\n        },\n{\n            'v': 3.0,\n            'f': \"3.0\",\n        },\n{\n            'v': 0,\n            'f': \"0\",\n        },\n{\n            'v': 0,\n            'f': \"0\",\n        },\n\"no\"],\n [{\n            'v': 135,\n            'f': \"135\",\n        },\n{\n            'v': 55,\n            'f': \"55\",\n        },\n\"female\",\n{\n            'v': 2,\n            'f': \"2\",\n        },\n{\n            'v': 135,\n            'f': \"135\",\n        },\n{\n            'v': 250,\n            'f': \"250\",\n        },\n{\n            'v': 0,\n            'f': \"0\",\n        },\n{\n            'v': 2,\n            'f': \"2\",\n        },\n{\n            'v': 161,\n            'f': \"161\",\n        },\n{\n            'v': 0,\n            'f': \"0\",\n        },\n{\n            'v': 1.4,\n            'f': \"1.4\",\n        },\n{\n            'v': 2,\n            'f': \"2\",\n        },\n{\n            'v': 0.0,\n            'f': \"0.0\",\n        },\n{\n            'v': 3.0,\n            'f': \"3.0\",\n        },\n{\n            'v': 0,\n            'f': \"0\",\n        },\n{\n            'v': 0,\n            'f': \"0\",\n        },\n\"no\"],\n [{\n            'v': 136,\n            'f': \"136\",\n        },\n{\n            'v': 70,\n            'f': \"70\",\n        },\n\"male\",\n{\n            'v': 4,\n            'f': \"4\",\n        },\n{\n            'v': 145,\n            'f': \"145\",\n        },\n{\n            'v': 174,\n            'f': \"174\",\n        },\n{\n            'v': 0,\n            'f': \"0\",\n        },\n{\n            'v': 0,\n            'f': \"0\",\n        },\n{\n            'v': 125,\n            'f': \"125\",\n        },\n{\n            'v': 1,\n            'f': \"1\",\n        },\n{\n            'v': 2.6,\n            'f': \"2.6\",\n        },\n{\n            'v': 3,\n            'f': \"3\",\n        },\n{\n            'v': 0.0,\n            'f': \"0.0\",\n        },\n{\n            'v': 7.0,\n            'f': \"7.0\",\n        },\n{\n            'v': 4,\n            'f': \"4\",\n        },\n{\n            'v': 1,\n            'f': \"1\",\n        },\n\"yes\"],\n [{\n            'v': 137,\n            'f': \"137\",\n        },\n{\n            'v': 62,\n            'f': \"62\",\n        },\n\"male\",\n{\n            'v': 2,\n            'f': \"2\",\n        },\n{\n            'v': 120,\n            'f': \"120\",\n        },\n{\n            'v': 281,\n            'f': \"281\",\n        },\n{\n            'v': 0,\n            'f': \"0\",\n        },\n{\n            'v': 2,\n            'f': \"2\",\n        },\n{\n            'v': 103,\n            'f': \"103\",\n        },\n{\n            'v': 0,\n            'f': \"0\",\n        },\n{\n            'v': 1.4,\n            'f': \"1.4\",\n        },\n{\n            'v': 2,\n            'f': \"2\",\n        },\n{\n            'v': 1.0,\n            'f': \"1.0\",\n        },\n{\n            'v': 7.0,\n            'f': \"7.0\",\n        },\n{\n            'v': 3,\n            'f': \"3\",\n        },\n{\n            'v': 0,\n            'f': \"0\",\n        },\n\"yes\"],\n [{\n            'v': 138,\n            'f': \"138\",\n        },\n{\n            'v': 35,\n            'f': \"35\",\n        },\n\"male\",\n{\n            'v': 4,\n            'f': \"4\",\n        },\n{\n            'v': 120,\n            'f': \"120\",\n        },\n{\n            'v': 198,\n            'f': \"198\",\n        },\n{\n            'v': 0,\n            'f': \"0\",\n        },\n{\n            'v': 0,\n            'f': \"0\",\n        },\n{\n            'v': 130,\n            'f': \"130\",\n        },\n{\n            'v': 1,\n            'f': \"1\",\n        },\n{\n            'v': 1.6,\n            'f': \"1.6\",\n        },\n{\n            'v': 2,\n            'f': \"2\",\n        },\n{\n            'v': 0.0,\n            'f': \"0.0\",\n        },\n{\n            'v': 7.0,\n            'f': \"7.0\",\n        },\n{\n            'v': 1,\n            'f': \"1\",\n        },\n{\n            'v': 1,\n            'f': \"1\",\n        },\n\"yes\"],\n [{\n            'v': 139,\n            'f': \"139\",\n        },\n{\n            'v': 51,\n            'f': \"51\",\n        },\n\"male\",\n{\n            'v': 3,\n            'f': \"3\",\n        },\n{\n            'v': 125,\n            'f': \"125\",\n        },\n{\n            'v': 245,\n            'f': \"245\",\n        },\n{\n            'v': 1,\n            'f': \"1\",\n        },\n{\n            'v': 2,\n            'f': \"2\",\n        },\n{\n            'v': 166,\n            'f': \"166\",\n        },\n{\n            'v': 0,\n            'f': \"0\",\n        },\n{\n            'v': 2.4,\n            'f': \"2.4\",\n        },\n{\n            'v': 2,\n            'f': \"2\",\n        },\n{\n            'v': 0.0,\n            'f': \"0.0\",\n        },\n{\n            'v': 3.0,\n            'f': \"3.0\",\n        },\n{\n            'v': 0,\n            'f': \"0\",\n        },\n{\n            'v': 0,\n            'f': \"0\",\n        },\n\"no\"],\n [{\n            'v': 140,\n            'f': \"140\",\n        },\n{\n            'v': 59,\n            'f': \"59\",\n        },\n\"male\",\n{\n            'v': 2,\n            'f': \"2\",\n        },\n{\n            'v': 140,\n            'f': \"140\",\n        },\n{\n            'v': 221,\n            'f': \"221\",\n        },\n{\n            'v': 0,\n            'f': \"0\",\n        },\n{\n            'v': 0,\n            'f': \"0\",\n        },\n{\n            'v': 164,\n            'f': \"164\",\n        },\n{\n            'v': 1,\n            'f': \"1\",\n        },\n{\n            'v': 0.0,\n            'f': \"0.0\",\n        },\n{\n            'v': 1,\n            'f': \"1\",\n        },\n{\n            'v': 0.0,\n            'f': \"0.0\",\n        },\n{\n            'v': 3.0,\n            'f': \"3.0\",\n        },\n{\n            'v': 0,\n            'f': \"0\",\n        },\n{\n            'v': 1,\n            'f': \"1\",\n        },\n\"no\"],\n [{\n            'v': 141,\n            'f': \"141\",\n        },\n{\n            'v': 59,\n            'f': \"59\",\n        },\n\"male\",\n{\n            'v': 1,\n            'f': \"1\",\n        },\n{\n            'v': 170,\n            'f': \"170\",\n        },\n{\n            'v': 288,\n            'f': \"288\",\n        },\n{\n            'v': 0,\n            'f': \"0\",\n        },\n{\n            'v': 2,\n            'f': \"2\",\n        },\n{\n            'v': 159,\n            'f': \"159\",\n        },\n{\n            'v': 0,\n            'f': \"0\",\n        },\n{\n            'v': 0.2,\n            'f': \"0.2\",\n        },\n{\n            'v': 2,\n            'f': \"2\",\n        },\n{\n            'v': 0.0,\n            'f': \"0.0\",\n        },\n{\n            'v': 7.0,\n            'f': \"7.0\",\n        },\n{\n            'v': 1,\n            'f': \"1\",\n        },\n{\n            'v': 0,\n            'f': \"0\",\n        },\n\"yes\"],\n [{\n            'v': 142,\n            'f': \"142\",\n        },\n{\n            'v': 52,\n            'f': \"52\",\n        },\n\"male\",\n{\n            'v': 2,\n            'f': \"2\",\n        },\n{\n            'v': 128,\n            'f': \"128\",\n        },\n{\n            'v': 205,\n            'f': \"205\",\n        },\n{\n            'v': 1,\n            'f': \"1\",\n        },\n{\n            'v': 0,\n            'f': \"0\",\n        },\n{\n            'v': 184,\n            'f': \"184\",\n        },\n{\n            'v': 0,\n            'f': \"0\",\n        },\n{\n            'v': 0.0,\n            'f': \"0.0\",\n        },\n{\n            'v': 1,\n            'f': \"1\",\n        },\n{\n            'v': 0.0,\n            'f': \"0.0\",\n        },\n{\n            'v': 3.0,\n            'f': \"3.0\",\n        },\n{\n            'v': 0,\n            'f': \"0\",\n        },\n{\n            'v': 0,\n            'f': \"0\",\n        },\n\"no\"],\n [{\n            'v': 143,\n            'f': \"143\",\n        },\n{\n            'v': 64,\n            'f': \"64\",\n        },\n\"male\",\n{\n            'v': 3,\n            'f': \"3\",\n        },\n{\n            'v': 125,\n            'f': \"125\",\n        },\n{\n            'v': 309,\n            'f': \"309\",\n        },\n{\n            'v': 0,\n            'f': \"0\",\n        },\n{\n            'v': 0,\n            'f': \"0\",\n        },\n{\n            'v': 131,\n            'f': \"131\",\n        },\n{\n            'v': 1,\n            'f': \"1\",\n        },\n{\n            'v': 1.8,\n            'f': \"1.8\",\n        },\n{\n            'v': 2,\n            'f': \"2\",\n        },\n{\n            'v': 0.0,\n            'f': \"0.0\",\n        },\n{\n            'v': 7.0,\n            'f': \"7.0\",\n        },\n{\n            'v': 1,\n            'f': \"1\",\n        },\n{\n            'v': 1,\n            'f': \"1\",\n        },\n\"yes\"],\n [{\n            'v': 144,\n            'f': \"144\",\n        },\n{\n            'v': 58,\n            'f': \"58\",\n        },\n\"male\",\n{\n            'v': 3,\n            'f': \"3\",\n        },\n{\n            'v': 105,\n            'f': \"105\",\n        },\n{\n            'v': 240,\n            'f': \"240\",\n        },\n{\n            'v': 0,\n            'f': \"0\",\n        },\n{\n            'v': 2,\n            'f': \"2\",\n        },\n{\n            'v': 154,\n            'f': \"154\",\n        },\n{\n            'v': 1,\n            'f': \"1\",\n        },\n{\n            'v': 0.6,\n            'f': \"0.6\",\n        },\n{\n            'v': 2,\n            'f': \"2\",\n        },\n{\n            'v': 0.0,\n            'f': \"0.0\",\n        },\n{\n            'v': 7.0,\n            'f': \"7.0\",\n        },\n{\n            'v': 0,\n            'f': \"0\",\n        },\n{\n            'v': 1,\n            'f': \"1\",\n        },\n\"no\"],\n [{\n            'v': 145,\n            'f': \"145\",\n        },\n{\n            'v': 47,\n            'f': \"47\",\n        },\n\"male\",\n{\n            'v': 3,\n            'f': \"3\",\n        },\n{\n            'v': 108,\n            'f': \"108\",\n        },\n{\n            'v': 243,\n            'f': \"243\",\n        },\n{\n            'v': 0,\n            'f': \"0\",\n        },\n{\n            'v': 0,\n            'f': \"0\",\n        },\n{\n            'v': 152,\n            'f': \"152\",\n        },\n{\n            'v': 0,\n            'f': \"0\",\n        },\n{\n            'v': 0.0,\n            'f': \"0.0\",\n        },\n{\n            'v': 1,\n            'f': \"1\",\n        },\n{\n            'v': 0.0,\n            'f': \"0.0\",\n        },\n{\n            'v': 3.0,\n            'f': \"3.0\",\n        },\n{\n            'v': 1,\n            'f': \"1\",\n        },\n{\n            'v': 0,\n            'f': \"0\",\n        },\n\"yes\"],\n [{\n            'v': 146,\n            'f': \"146\",\n        },\n{\n            'v': 57,\n            'f': \"57\",\n        },\n\"male\",\n{\n            'v': 4,\n            'f': \"4\",\n        },\n{\n            'v': 165,\n            'f': \"165\",\n        },\n{\n            'v': 289,\n            'f': \"289\",\n        },\n{\n            'v': 1,\n            'f': \"1\",\n        },\n{\n            'v': 2,\n            'f': \"2\",\n        },\n{\n            'v': 124,\n            'f': \"124\",\n        },\n{\n            'v': 0,\n            'f': \"0\",\n        },\n{\n            'v': 1.0,\n            'f': \"1.0\",\n        },\n{\n            'v': 2,\n            'f': \"2\",\n        },\n{\n            'v': 3.0,\n            'f': \"3.0\",\n        },\n{\n            'v': 7.0,\n            'f': \"7.0\",\n        },\n{\n            'v': 4,\n            'f': \"4\",\n        },\n{\n            'v': 0,\n            'f': \"0\",\n        },\n\"yes\"],\n [{\n            'v': 147,\n            'f': \"147\",\n        },\n{\n            'v': 41,\n            'f': \"41\",\n        },\n\"male\",\n{\n            'v': 3,\n            'f': \"3\",\n        },\n{\n            'v': 112,\n            'f': \"112\",\n        },\n{\n            'v': 250,\n            'f': \"250\",\n        },\n{\n            'v': 0,\n            'f': \"0\",\n        },\n{\n            'v': 0,\n            'f': \"0\",\n        },\n{\n            'v': 179,\n            'f': \"179\",\n        },\n{\n            'v': 0,\n            'f': \"0\",\n        },\n{\n            'v': 0.0,\n            'f': \"0.0\",\n        },\n{\n            'v': 1,\n            'f': \"1\",\n        },\n{\n            'v': 0.0,\n            'f': \"0.0\",\n        },\n{\n            'v': 3.0,\n            'f': \"3.0\",\n        },\n{\n            'v': 0,\n            'f': \"0\",\n        },\n{\n            'v': 0,\n            'f': \"0\",\n        },\n\"no\"],\n [{\n            'v': 148,\n            'f': \"148\",\n        },\n{\n            'v': 45,\n            'f': \"45\",\n        },\n\"male\",\n{\n            'v': 2,\n            'f': \"2\",\n        },\n{\n            'v': 128,\n            'f': \"128\",\n        },\n{\n            'v': 308,\n            'f': \"308\",\n        },\n{\n            'v': 0,\n            'f': \"0\",\n        },\n{\n            'v': 2,\n            'f': \"2\",\n        },\n{\n            'v': 170,\n            'f': \"170\",\n        },\n{\n            'v': 0,\n            'f': \"0\",\n        },\n{\n            'v': 0.0,\n            'f': \"0.0\",\n        },\n{\n            'v': 1,\n            'f': \"1\",\n        },\n{\n            'v': 0.0,\n            'f': \"0.0\",\n        },\n{\n            'v': 3.0,\n            'f': \"3.0\",\n        },\n{\n            'v': 0,\n            'f': \"0\",\n        },\n{\n            'v': 0,\n            'f': \"0\",\n        },\n\"no\"],\n [{\n            'v': 149,\n            'f': \"149\",\n        },\n{\n            'v': 60,\n            'f': \"60\",\n        },\n\"female\",\n{\n            'v': 3,\n            'f': \"3\",\n        },\n{\n            'v': 102,\n            'f': \"102\",\n        },\n{\n            'v': 318,\n            'f': \"318\",\n        },\n{\n            'v': 0,\n            'f': \"0\",\n        },\n{\n            'v': 0,\n            'f': \"0\",\n        },\n{\n            'v': 160,\n            'f': \"160\",\n        },\n{\n            'v': 0,\n            'f': \"0\",\n        },\n{\n            'v': 0.0,\n            'f': \"0.0\",\n        },\n{\n            'v': 1,\n            'f': \"1\",\n        },\n{\n            'v': 1.0,\n            'f': \"1.0\",\n        },\n{\n            'v': 3.0,\n            'f': \"3.0\",\n        },\n{\n            'v': 0,\n            'f': \"0\",\n        },\n{\n            'v': 0,\n            'f': \"0\",\n        },\n\"no\"],\n [{\n            'v': 150,\n            'f': \"150\",\n        },\n{\n            'v': 52,\n            'f': \"52\",\n        },\n\"male\",\n{\n            'v': 1,\n            'f': \"1\",\n        },\n{\n            'v': 152,\n            'f': \"152\",\n        },\n{\n            'v': 298,\n            'f': \"298\",\n        },\n{\n            'v': 1,\n            'f': \"1\",\n        },\n{\n            'v': 0,\n            'f': \"0\",\n        },\n{\n            'v': 178,\n            'f': \"178\",\n        },\n{\n            'v': 0,\n            'f': \"0\",\n        },\n{\n            'v': 1.2,\n            'f': \"1.2\",\n        },\n{\n            'v': 2,\n            'f': \"2\",\n        },\n{\n            'v': 0.0,\n            'f': \"0.0\",\n        },\n{\n            'v': 7.0,\n            'f': \"7.0\",\n        },\n{\n            'v': 0,\n            'f': \"0\",\n        },\n{\n            'v': 0,\n            'f': \"0\",\n        },\n\"no\"],\n [{\n            'v': 151,\n            'f': \"151\",\n        },\n{\n            'v': 42,\n            'f': \"42\",\n        },\n\"female\",\n{\n            'v': 4,\n            'f': \"4\",\n        },\n{\n            'v': 102,\n            'f': \"102\",\n        },\n{\n            'v': 265,\n            'f': \"265\",\n        },\n{\n            'v': 0,\n            'f': \"0\",\n        },\n{\n            'v': 2,\n            'f': \"2\",\n        },\n{\n            'v': 122,\n            'f': \"122\",\n        },\n{\n            'v': 0,\n            'f': \"0\",\n        },\n{\n            'v': 0.6,\n            'f': \"0.6\",\n        },\n{\n            'v': 2,\n            'f': \"2\",\n        },\n{\n            'v': 0.0,\n            'f': \"0.0\",\n        },\n{\n            'v': 3.0,\n            'f': \"3.0\",\n        },\n{\n            'v': 0,\n            'f': \"0\",\n        },\n{\n            'v': 0,\n            'f': \"0\",\n        },\n\"no\"],\n [{\n            'v': 152,\n            'f': \"152\",\n        },\n{\n            'v': 67,\n            'f': \"67\",\n        },\n\"female\",\n{\n            'v': 3,\n            'f': \"3\",\n        },\n{\n            'v': 115,\n            'f': \"115\",\n        },\n{\n            'v': 564,\n            'f': \"564\",\n        },\n{\n            'v': 0,\n            'f': \"0\",\n        },\n{\n            'v': 2,\n            'f': \"2\",\n        },\n{\n            'v': 160,\n            'f': \"160\",\n        },\n{\n            'v': 0,\n            'f': \"0\",\n        },\n{\n            'v': 1.6,\n            'f': \"1.6\",\n        },\n{\n            'v': 2,\n            'f': \"2\",\n        },\n{\n            'v': 0.0,\n            'f': \"0.0\",\n        },\n{\n            'v': 7.0,\n            'f': \"7.0\",\n        },\n{\n            'v': 0,\n            'f': \"0\",\n        },\n{\n            'v': 0,\n            'f': \"0\",\n        },\n\"no\"],\n [{\n            'v': 153,\n            'f': \"153\",\n        },\n{\n            'v': 55,\n            'f': \"55\",\n        },\n\"male\",\n{\n            'v': 4,\n            'f': \"4\",\n        },\n{\n            'v': 160,\n            'f': \"160\",\n        },\n{\n            'v': 289,\n            'f': \"289\",\n        },\n{\n            'v': 0,\n            'f': \"0\",\n        },\n{\n            'v': 2,\n            'f': \"2\",\n        },\n{\n            'v': 145,\n            'f': \"145\",\n        },\n{\n            'v': 1,\n            'f': \"1\",\n        },\n{\n            'v': 0.8,\n            'f': \"0.8\",\n        },\n{\n            'v': 2,\n            'f': \"2\",\n        },\n{\n            'v': 1.0,\n            'f': \"1.0\",\n        },\n{\n            'v': 7.0,\n            'f': \"7.0\",\n        },\n{\n            'v': 4,\n            'f': \"4\",\n        },\n{\n            'v': 1,\n            'f': \"1\",\n        },\n\"yes\"],\n [{\n            'v': 154,\n            'f': \"154\",\n        },\n{\n            'v': 64,\n            'f': \"64\",\n        },\n\"male\",\n{\n            'v': 4,\n            'f': \"4\",\n        },\n{\n            'v': 120,\n            'f': \"120\",\n        },\n{\n            'v': 246,\n            'f': \"246\",\n        },\n{\n            'v': 0,\n            'f': \"0\",\n        },\n{\n            'v': 2,\n            'f': \"2\",\n        },\n{\n            'v': 96,\n            'f': \"96\",\n        },\n{\n            'v': 1,\n            'f': \"1\",\n        },\n{\n            'v': 2.2,\n            'f': \"2.2\",\n        },\n{\n            'v': 3,\n            'f': \"3\",\n        },\n{\n            'v': 1.0,\n            'f': \"1.0\",\n        },\n{\n            'v': 3.0,\n            'f': \"3.0\",\n        },\n{\n            'v': 3,\n            'f': \"3\",\n        },\n{\n            'v': 1,\n            'f': \"1\",\n        },\n\"yes\"],\n [{\n            'v': 155,\n            'f': \"155\",\n        },\n{\n            'v': 70,\n            'f': \"70\",\n        },\n\"male\",\n{\n            'v': 4,\n            'f': \"4\",\n        },\n{\n            'v': 130,\n            'f': \"130\",\n        },\n{\n            'v': 322,\n            'f': \"322\",\n        },\n{\n            'v': 0,\n            'f': \"0\",\n        },\n{\n            'v': 2,\n            'f': \"2\",\n        },\n{\n            'v': 109,\n            'f': \"109\",\n        },\n{\n            'v': 0,\n            'f': \"0\",\n        },\n{\n            'v': 2.4,\n            'f': \"2.4\",\n        },\n{\n            'v': 2,\n            'f': \"2\",\n        },\n{\n            'v': 3.0,\n            'f': \"3.0\",\n        },\n{\n            'v': 3.0,\n            'f': \"3.0\",\n        },\n{\n            'v': 1,\n            'f': \"1\",\n        },\n{\n            'v': 0,\n            'f': \"0\",\n        },\n\"yes\"],\n [{\n            'v': 156,\n            'f': \"156\",\n        },\n{\n            'v': 51,\n            'f': \"51\",\n        },\n\"male\",\n{\n            'v': 4,\n            'f': \"4\",\n        },\n{\n            'v': 140,\n            'f': \"140\",\n        },\n{\n            'v': 299,\n            'f': \"299\",\n        },\n{\n            'v': 0,\n            'f': \"0\",\n        },\n{\n            'v': 0,\n            'f': \"0\",\n        },\n{\n            'v': 173,\n            'f': \"173\",\n        },\n{\n            'v': 1,\n            'f': \"1\",\n        },\n{\n            'v': 1.6,\n            'f': \"1.6\",\n        },\n{\n            'v': 1,\n            'f': \"1\",\n        },\n{\n            'v': 0.0,\n            'f': \"0.0\",\n        },\n{\n            'v': 7.0,\n            'f': \"7.0\",\n        },\n{\n            'v': 1,\n            'f': \"1\",\n        },\n{\n            'v': 1,\n            'f': \"1\",\n        },\n\"yes\"],\n [{\n            'v': 157,\n            'f': \"157\",\n        },\n{\n            'v': 58,\n            'f': \"58\",\n        },\n\"male\",\n{\n            'v': 4,\n            'f': \"4\",\n        },\n{\n            'v': 125,\n            'f': \"125\",\n        },\n{\n            'v': 300,\n            'f': \"300\",\n        },\n{\n            'v': 0,\n            'f': \"0\",\n        },\n{\n            'v': 2,\n            'f': \"2\",\n        },\n{\n            'v': 171,\n            'f': \"171\",\n        },\n{\n            'v': 0,\n            'f': \"0\",\n        },\n{\n            'v': 0.0,\n            'f': \"0.0\",\n        },\n{\n            'v': 1,\n            'f': \"1\",\n        },\n{\n            'v': 2.0,\n            'f': \"2.0\",\n        },\n{\n            'v': 7.0,\n            'f': \"7.0\",\n        },\n{\n            'v': 1,\n            'f': \"1\",\n        },\n{\n            'v': 0,\n            'f': \"0\",\n        },\n\"yes\"],\n [{\n            'v': 158,\n            'f': \"158\",\n        },\n{\n            'v': 60,\n            'f': \"60\",\n        },\n\"male\",\n{\n            'v': 4,\n            'f': \"4\",\n        },\n{\n            'v': 140,\n            'f': \"140\",\n        },\n{\n            'v': 293,\n            'f': \"293\",\n        },\n{\n            'v': 0,\n            'f': \"0\",\n        },\n{\n            'v': 2,\n            'f': \"2\",\n        },\n{\n            'v': 170,\n            'f': \"170\",\n        },\n{\n            'v': 0,\n            'f': \"0\",\n        },\n{\n            'v': 1.2,\n            'f': \"1.2\",\n        },\n{\n            'v': 2,\n            'f': \"2\",\n        },\n{\n            'v': 2.0,\n            'f': \"2.0\",\n        },\n{\n            'v': 7.0,\n            'f': \"7.0\",\n        },\n{\n            'v': 2,\n            'f': \"2\",\n        },\n{\n            'v': 0,\n            'f': \"0\",\n        },\n\"yes\"],\n [{\n            'v': 159,\n            'f': \"159\",\n        },\n{\n            'v': 68,\n            'f': \"68\",\n        },\n\"male\",\n{\n            'v': 3,\n            'f': \"3\",\n        },\n{\n            'v': 118,\n            'f': \"118\",\n        },\n{\n            'v': 277,\n            'f': \"277\",\n        },\n{\n            'v': 0,\n            'f': \"0\",\n        },\n{\n            'v': 0,\n            'f': \"0\",\n        },\n{\n            'v': 151,\n            'f': \"151\",\n        },\n{\n            'v': 0,\n            'f': \"0\",\n        },\n{\n            'v': 1.0,\n            'f': \"1.0\",\n        },\n{\n            'v': 1,\n            'f': \"1\",\n        },\n{\n            'v': 1.0,\n            'f': \"1.0\",\n        },\n{\n            'v': 7.0,\n            'f': \"7.0\",\n        },\n{\n            'v': 0,\n            'f': \"0\",\n        },\n{\n            'v': 0,\n            'f': \"0\",\n        },\n\"no\"],\n [{\n            'v': 160,\n            'f': \"160\",\n        },\n{\n            'v': 46,\n            'f': \"46\",\n        },\n\"male\",\n{\n            'v': 2,\n            'f': \"2\",\n        },\n{\n            'v': 101,\n            'f': \"101\",\n        },\n{\n            'v': 197,\n            'f': \"197\",\n        },\n{\n            'v': 1,\n            'f': \"1\",\n        },\n{\n            'v': 0,\n            'f': \"0\",\n        },\n{\n            'v': 156,\n            'f': \"156\",\n        },\n{\n            'v': 0,\n            'f': \"0\",\n        },\n{\n            'v': 0.0,\n            'f': \"0.0\",\n        },\n{\n            'v': 1,\n            'f': \"1\",\n        },\n{\n            'v': 0.0,\n            'f': \"0.0\",\n        },\n{\n            'v': 7.0,\n            'f': \"7.0\",\n        },\n{\n            'v': 0,\n            'f': \"0\",\n        },\n{\n            'v': 0,\n            'f': \"0\",\n        },\n\"no\"],\n [{\n            'v': 161,\n            'f': \"161\",\n        },\n{\n            'v': 77,\n            'f': \"77\",\n        },\n\"male\",\n{\n            'v': 4,\n            'f': \"4\",\n        },\n{\n            'v': 125,\n            'f': \"125\",\n        },\n{\n            'v': 304,\n            'f': \"304\",\n        },\n{\n            'v': 0,\n            'f': \"0\",\n        },\n{\n            'v': 2,\n            'f': \"2\",\n        },\n{\n            'v': 162,\n            'f': \"162\",\n        },\n{\n            'v': 1,\n            'f': \"1\",\n        },\n{\n            'v': 0.0,\n            'f': \"0.0\",\n        },\n{\n            'v': 1,\n            'f': \"1\",\n        },\n{\n            'v': 3.0,\n            'f': \"3.0\",\n        },\n{\n            'v': 3.0,\n            'f': \"3.0\",\n        },\n{\n            'v': 4,\n            'f': \"4\",\n        },\n{\n            'v': 1,\n            'f': \"1\",\n        },\n\"yes\"],\n [{\n            'v': 162,\n            'f': \"162\",\n        },\n{\n            'v': 54,\n            'f': \"54\",\n        },\n\"female\",\n{\n            'v': 3,\n            'f': \"3\",\n        },\n{\n            'v': 110,\n            'f': \"110\",\n        },\n{\n            'v': 214,\n            'f': \"214\",\n        },\n{\n            'v': 0,\n            'f': \"0\",\n        },\n{\n            'v': 0,\n            'f': \"0\",\n        },\n{\n            'v': 158,\n            'f': \"158\",\n        },\n{\n            'v': 0,\n            'f': \"0\",\n        },\n{\n            'v': 1.6,\n            'f': \"1.6\",\n        },\n{\n            'v': 2,\n            'f': \"2\",\n        },\n{\n            'v': 0.0,\n            'f': \"0.0\",\n        },\n{\n            'v': 3.0,\n            'f': \"3.0\",\n        },\n{\n            'v': 0,\n            'f': \"0\",\n        },\n{\n            'v': 0,\n            'f': \"0\",\n        },\n\"no\"],\n [{\n            'v': 163,\n            'f': \"163\",\n        },\n{\n            'v': 58,\n            'f': \"58\",\n        },\n\"female\",\n{\n            'v': 4,\n            'f': \"4\",\n        },\n{\n            'v': 100,\n            'f': \"100\",\n        },\n{\n            'v': 248,\n            'f': \"248\",\n        },\n{\n            'v': 0,\n            'f': \"0\",\n        },\n{\n            'v': 2,\n            'f': \"2\",\n        },\n{\n            'v': 122,\n            'f': \"122\",\n        },\n{\n            'v': 0,\n            'f': \"0\",\n        },\n{\n            'v': 1.0,\n            'f': \"1.0\",\n        },\n{\n            'v': 2,\n            'f': \"2\",\n        },\n{\n            'v': 0.0,\n            'f': \"0.0\",\n        },\n{\n            'v': 3.0,\n            'f': \"3.0\",\n        },\n{\n            'v': 0,\n            'f': \"0\",\n        },\n{\n            'v': 0,\n            'f': \"0\",\n        },\n\"no\"],\n [{\n            'v': 164,\n            'f': \"164\",\n        },\n{\n            'v': 48,\n            'f': \"48\",\n        },\n\"male\",\n{\n            'v': 3,\n            'f': \"3\",\n        },\n{\n            'v': 124,\n            'f': \"124\",\n        },\n{\n            'v': 255,\n            'f': \"255\",\n        },\n{\n            'v': 1,\n            'f': \"1\",\n        },\n{\n            'v': 0,\n            'f': \"0\",\n        },\n{\n            'v': 175,\n            'f': \"175\",\n        },\n{\n            'v': 0,\n            'f': \"0\",\n        },\n{\n            'v': 0.0,\n            'f': \"0.0\",\n        },\n{\n            'v': 1,\n            'f': \"1\",\n        },\n{\n            'v': 2.0,\n            'f': \"2.0\",\n        },\n{\n            'v': 3.0,\n            'f': \"3.0\",\n        },\n{\n            'v': 0,\n            'f': \"0\",\n        },\n{\n            'v': 0,\n            'f': \"0\",\n        },\n\"no\"],\n [{\n            'v': 165,\n            'f': \"165\",\n        },\n{\n            'v': 57,\n            'f': \"57\",\n        },\n\"male\",\n{\n            'v': 4,\n            'f': \"4\",\n        },\n{\n            'v': 132,\n            'f': \"132\",\n        },\n{\n            'v': 207,\n            'f': \"207\",\n        },\n{\n            'v': 0,\n            'f': \"0\",\n        },\n{\n            'v': 0,\n            'f': \"0\",\n        },\n{\n            'v': 168,\n            'f': \"168\",\n        },\n{\n            'v': 1,\n            'f': \"1\",\n        },\n{\n            'v': 0.0,\n            'f': \"0.0\",\n        },\n{\n            'v': 1,\n            'f': \"1\",\n        },\n{\n            'v': 0.0,\n            'f': \"0.0\",\n        },\n{\n            'v': 7.0,\n            'f': \"7.0\",\n        },\n{\n            'v': 0,\n            'f': \"0\",\n        },\n{\n            'v': 1,\n            'f': \"1\",\n        },\n\"no\"],\n [{\n            'v': 166,\n            'f': \"166\",\n        },\n{\n            'v': 52,\n            'f': \"52\",\n        },\n\"male\",\n{\n            'v': 3,\n            'f': \"3\",\n        },\n{\n            'v': 138,\n            'f': \"138\",\n        },\n{\n            'v': 223,\n            'f': \"223\",\n        },\n{\n            'v': 0,\n            'f': \"0\",\n        },\n{\n            'v': 0,\n            'f': \"0\",\n        },\n{\n            'v': 169,\n            'f': \"169\",\n        },\n{\n            'v': 0,\n            'f': \"0\",\n        },\n{\n            'v': 0.0,\n            'f': \"0.0\",\n        },\n{\n            'v': 1,\n            'f': \"1\",\n        },\n{\n            'v': NaN,\n            'f': \"NaN\",\n        },\n{\n            'v': 3.0,\n            'f': \"3.0\",\n        },\n{\n            'v': 0,\n            'f': \"0\",\n        },\n{\n            'v': 0,\n            'f': \"0\",\n        },\n\"no\"],\n [{\n            'v': 167,\n            'f': \"167\",\n        },\n{\n            'v': 54,\n            'f': \"54\",\n        },\n\"female\",\n{\n            'v': 2,\n            'f': \"2\",\n        },\n{\n            'v': 132,\n            'f': \"132\",\n        },\n{\n            'v': 288,\n            'f': \"288\",\n        },\n{\n            'v': 1,\n            'f': \"1\",\n        },\n{\n            'v': 2,\n            'f': \"2\",\n        },\n{\n            'v': 159,\n            'f': \"159\",\n        },\n{\n            'v': 1,\n            'f': \"1\",\n        },\n{\n            'v': 0.0,\n            'f': \"0.0\",\n        },\n{\n            'v': 1,\n            'f': \"1\",\n        },\n{\n            'v': 1.0,\n            'f': \"1.0\",\n        },\n{\n            'v': 3.0,\n            'f': \"3.0\",\n        },\n{\n            'v': 0,\n            'f': \"0\",\n        },\n{\n            'v': 1,\n            'f': \"1\",\n        },\n\"no\"],\n [{\n            'v': 168,\n            'f': \"168\",\n        },\n{\n            'v': 35,\n            'f': \"35\",\n        },\n\"male\",\n{\n            'v': 4,\n            'f': \"4\",\n        },\n{\n            'v': 126,\n            'f': \"126\",\n        },\n{\n            'v': 282,\n            'f': \"282\",\n        },\n{\n            'v': 0,\n            'f': \"0\",\n        },\n{\n            'v': 2,\n            'f': \"2\",\n        },\n{\n            'v': 156,\n            'f': \"156\",\n        },\n{\n            'v': 1,\n            'f': \"1\",\n        },\n{\n            'v': 0.0,\n            'f': \"0.0\",\n        },\n{\n            'v': 1,\n            'f': \"1\",\n        },\n{\n            'v': 0.0,\n            'f': \"0.0\",\n        },\n{\n            'v': 7.0,\n            'f': \"7.0\",\n        },\n{\n            'v': 1,\n            'f': \"1\",\n        },\n{\n            'v': 1,\n            'f': \"1\",\n        },\n\"yes\"],\n [{\n            'v': 169,\n            'f': \"169\",\n        },\n{\n            'v': 45,\n            'f': \"45\",\n        },\n\"female\",\n{\n            'v': 2,\n            'f': \"2\",\n        },\n{\n            'v': 112,\n            'f': \"112\",\n        },\n{\n            'v': 160,\n            'f': \"160\",\n        },\n{\n            'v': 0,\n            'f': \"0\",\n        },\n{\n            'v': 0,\n            'f': \"0\",\n        },\n{\n            'v': 138,\n            'f': \"138\",\n        },\n{\n            'v': 0,\n            'f': \"0\",\n        },\n{\n            'v': 0.0,\n            'f': \"0.0\",\n        },\n{\n            'v': 2,\n            'f': \"2\",\n        },\n{\n            'v': 0.0,\n            'f': \"0.0\",\n        },\n{\n            'v': 3.0,\n            'f': \"3.0\",\n        },\n{\n            'v': 0,\n            'f': \"0\",\n        },\n{\n            'v': 0,\n            'f': \"0\",\n        },\n\"no\"],\n [{\n            'v': 170,\n            'f': \"170\",\n        },\n{\n            'v': 70,\n            'f': \"70\",\n        },\n\"male\",\n{\n            'v': 3,\n            'f': \"3\",\n        },\n{\n            'v': 160,\n            'f': \"160\",\n        },\n{\n            'v': 269,\n            'f': \"269\",\n        },\n{\n            'v': 0,\n            'f': \"0\",\n        },\n{\n            'v': 0,\n            'f': \"0\",\n        },\n{\n            'v': 112,\n            'f': \"112\",\n        },\n{\n            'v': 1,\n            'f': \"1\",\n        },\n{\n            'v': 2.9,\n            'f': \"2.9\",\n        },\n{\n            'v': 2,\n            'f': \"2\",\n        },\n{\n            'v': 1.0,\n            'f': \"1.0\",\n        },\n{\n            'v': 7.0,\n            'f': \"7.0\",\n        },\n{\n            'v': 3,\n            'f': \"3\",\n        },\n{\n            'v': 1,\n            'f': \"1\",\n        },\n\"yes\"],\n [{\n            'v': 171,\n            'f': \"171\",\n        },\n{\n            'v': 53,\n            'f': \"53\",\n        },\n\"male\",\n{\n            'v': 4,\n            'f': \"4\",\n        },\n{\n            'v': 142,\n            'f': \"142\",\n        },\n{\n            'v': 226,\n            'f': \"226\",\n        },\n{\n            'v': 0,\n            'f': \"0\",\n        },\n{\n            'v': 2,\n            'f': \"2\",\n        },\n{\n            'v': 111,\n            'f': \"111\",\n        },\n{\n            'v': 1,\n            'f': \"1\",\n        },\n{\n            'v': 0.0,\n            'f': \"0.0\",\n        },\n{\n            'v': 1,\n            'f': \"1\",\n        },\n{\n            'v': 0.0,\n            'f': \"0.0\",\n        },\n{\n            'v': 7.0,\n            'f': \"7.0\",\n        },\n{\n            'v': 0,\n            'f': \"0\",\n        },\n{\n            'v': 1,\n            'f': \"1\",\n        },\n\"no\"],\n [{\n            'v': 172,\n            'f': \"172\",\n        },\n{\n            'v': 59,\n            'f': \"59\",\n        },\n\"female\",\n{\n            'v': 4,\n            'f': \"4\",\n        },\n{\n            'v': 174,\n            'f': \"174\",\n        },\n{\n            'v': 249,\n            'f': \"249\",\n        },\n{\n            'v': 0,\n            'f': \"0\",\n        },\n{\n            'v': 0,\n            'f': \"0\",\n        },\n{\n            'v': 143,\n            'f': \"143\",\n        },\n{\n            'v': 1,\n            'f': \"1\",\n        },\n{\n            'v': 0.0,\n            'f': \"0.0\",\n        },\n{\n            'v': 2,\n            'f': \"2\",\n        },\n{\n            'v': 0.0,\n            'f': \"0.0\",\n        },\n{\n            'v': 3.0,\n            'f': \"3.0\",\n        },\n{\n            'v': 1,\n            'f': \"1\",\n        },\n{\n            'v': 1,\n            'f': \"1\",\n        },\n\"yes\"],\n [{\n            'v': 173,\n            'f': \"173\",\n        },\n{\n            'v': 62,\n            'f': \"62\",\n        },\n\"female\",\n{\n            'v': 4,\n            'f': \"4\",\n        },\n{\n            'v': 140,\n            'f': \"140\",\n        },\n{\n            'v': 394,\n            'f': \"394\",\n        },\n{\n            'v': 0,\n            'f': \"0\",\n        },\n{\n            'v': 2,\n            'f': \"2\",\n        },\n{\n            'v': 157,\n            'f': \"157\",\n        },\n{\n            'v': 0,\n            'f': \"0\",\n        },\n{\n            'v': 1.2,\n            'f': \"1.2\",\n        },\n{\n            'v': 2,\n            'f': \"2\",\n        },\n{\n            'v': 0.0,\n            'f': \"0.0\",\n        },\n{\n            'v': 3.0,\n            'f': \"3.0\",\n        },\n{\n            'v': 0,\n            'f': \"0\",\n        },\n{\n            'v': 0,\n            'f': \"0\",\n        },\n\"no\"],\n [{\n            'v': 174,\n            'f': \"174\",\n        },\n{\n            'v': 64,\n            'f': \"64\",\n        },\n\"male\",\n{\n            'v': 4,\n            'f': \"4\",\n        },\n{\n            'v': 145,\n            'f': \"145\",\n        },\n{\n            'v': 212,\n            'f': \"212\",\n        },\n{\n            'v': 0,\n            'f': \"0\",\n        },\n{\n            'v': 2,\n            'f': \"2\",\n        },\n{\n            'v': 132,\n            'f': \"132\",\n        },\n{\n            'v': 0,\n            'f': \"0\",\n        },\n{\n            'v': 2.0,\n            'f': \"2.0\",\n        },\n{\n            'v': 2,\n            'f': \"2\",\n        },\n{\n            'v': 2.0,\n            'f': \"2.0\",\n        },\n{\n            'v': 6.0,\n            'f': \"6.0\",\n        },\n{\n            'v': 4,\n            'f': \"4\",\n        },\n{\n            'v': 0,\n            'f': \"0\",\n        },\n\"yes\"],\n [{\n            'v': 175,\n            'f': \"175\",\n        },\n{\n            'v': 57,\n            'f': \"57\",\n        },\n\"male\",\n{\n            'v': 4,\n            'f': \"4\",\n        },\n{\n            'v': 152,\n            'f': \"152\",\n        },\n{\n            'v': 274,\n            'f': \"274\",\n        },\n{\n            'v': 0,\n            'f': \"0\",\n        },\n{\n            'v': 0,\n            'f': \"0\",\n        },\n{\n            'v': 88,\n            'f': \"88\",\n        },\n{\n            'v': 1,\n            'f': \"1\",\n        },\n{\n            'v': 1.2,\n            'f': \"1.2\",\n        },\n{\n            'v': 2,\n            'f': \"2\",\n        },\n{\n            'v': 1.0,\n            'f': \"1.0\",\n        },\n{\n            'v': 7.0,\n            'f': \"7.0\",\n        },\n{\n            'v': 1,\n            'f': \"1\",\n        },\n{\n            'v': 1,\n            'f': \"1\",\n        },\n\"yes\"],\n [{\n            'v': 176,\n            'f': \"176\",\n        },\n{\n            'v': 52,\n            'f': \"52\",\n        },\n\"male\",\n{\n            'v': 4,\n            'f': \"4\",\n        },\n{\n            'v': 108,\n            'f': \"108\",\n        },\n{\n            'v': 233,\n            'f': \"233\",\n        },\n{\n            'v': 1,\n            'f': \"1\",\n        },\n{\n            'v': 0,\n            'f': \"0\",\n        },\n{\n            'v': 147,\n            'f': \"147\",\n        },\n{\n            'v': 0,\n            'f': \"0\",\n        },\n{\n            'v': 0.1,\n            'f': \"0.1\",\n        },\n{\n            'v': 1,\n            'f': \"1\",\n        },\n{\n            'v': 3.0,\n            'f': \"3.0\",\n        },\n{\n            'v': 7.0,\n            'f': \"7.0\",\n        },\n{\n            'v': 0,\n            'f': \"0\",\n        },\n{\n            'v': 0,\n            'f': \"0\",\n        },\n\"no\"],\n [{\n            'v': 177,\n            'f': \"177\",\n        },\n{\n            'v': 56,\n            'f': \"56\",\n        },\n\"male\",\n{\n            'v': 4,\n            'f': \"4\",\n        },\n{\n            'v': 132,\n            'f': \"132\",\n        },\n{\n            'v': 184,\n            'f': \"184\",\n        },\n{\n            'v': 0,\n            'f': \"0\",\n        },\n{\n            'v': 2,\n            'f': \"2\",\n        },\n{\n            'v': 105,\n            'f': \"105\",\n        },\n{\n            'v': 1,\n            'f': \"1\",\n        },\n{\n            'v': 2.1,\n            'f': \"2.1\",\n        },\n{\n            'v': 2,\n            'f': \"2\",\n        },\n{\n            'v': 1.0,\n            'f': \"1.0\",\n        },\n{\n            'v': 6.0,\n            'f': \"6.0\",\n        },\n{\n            'v': 1,\n            'f': \"1\",\n        },\n{\n            'v': 1,\n            'f': \"1\",\n        },\n\"yes\"],\n [{\n            'v': 178,\n            'f': \"178\",\n        },\n{\n            'v': 43,\n            'f': \"43\",\n        },\n\"male\",\n{\n            'v': 3,\n            'f': \"3\",\n        },\n{\n            'v': 130,\n            'f': \"130\",\n        },\n{\n            'v': 315,\n            'f': \"315\",\n        },\n{\n            'v': 0,\n            'f': \"0\",\n        },\n{\n            'v': 0,\n            'f': \"0\",\n        },\n{\n            'v': 162,\n            'f': \"162\",\n        },\n{\n            'v': 0,\n            'f': \"0\",\n        },\n{\n            'v': 1.9,\n            'f': \"1.9\",\n        },\n{\n            'v': 1,\n            'f': \"1\",\n        },\n{\n            'v': 1.0,\n            'f': \"1.0\",\n        },\n{\n            'v': 3.0,\n            'f': \"3.0\",\n        },\n{\n            'v': 0,\n            'f': \"0\",\n        },\n{\n            'v': 0,\n            'f': \"0\",\n        },\n\"no\"],\n [{\n            'v': 179,\n            'f': \"179\",\n        },\n{\n            'v': 53,\n            'f': \"53\",\n        },\n\"male\",\n{\n            'v': 3,\n            'f': \"3\",\n        },\n{\n            'v': 130,\n            'f': \"130\",\n        },\n{\n            'v': 246,\n            'f': \"246\",\n        },\n{\n            'v': 1,\n            'f': \"1\",\n        },\n{\n            'v': 2,\n            'f': \"2\",\n        },\n{\n            'v': 173,\n            'f': \"173\",\n        },\n{\n            'v': 0,\n            'f': \"0\",\n        },\n{\n            'v': 0.0,\n            'f': \"0.0\",\n        },\n{\n            'v': 1,\n            'f': \"1\",\n        },\n{\n            'v': 3.0,\n            'f': \"3.0\",\n        },\n{\n            'v': 3.0,\n            'f': \"3.0\",\n        },\n{\n            'v': 0,\n            'f': \"0\",\n        },\n{\n            'v': 0,\n            'f': \"0\",\n        },\n\"no\"],\n [{\n            'v': 180,\n            'f': \"180\",\n        },\n{\n            'v': 48,\n            'f': \"48\",\n        },\n\"male\",\n{\n            'v': 4,\n            'f': \"4\",\n        },\n{\n            'v': 124,\n            'f': \"124\",\n        },\n{\n            'v': 274,\n            'f': \"274\",\n        },\n{\n            'v': 0,\n            'f': \"0\",\n        },\n{\n            'v': 2,\n            'f': \"2\",\n        },\n{\n            'v': 166,\n            'f': \"166\",\n        },\n{\n            'v': 0,\n            'f': \"0\",\n        },\n{\n            'v': 0.5,\n            'f': \"0.5\",\n        },\n{\n            'v': 2,\n            'f': \"2\",\n        },\n{\n            'v': 0.0,\n            'f': \"0.0\",\n        },\n{\n            'v': 7.0,\n            'f': \"7.0\",\n        },\n{\n            'v': 3,\n            'f': \"3\",\n        },\n{\n            'v': 0,\n            'f': \"0\",\n        },\n\"yes\"],\n [{\n            'v': 181,\n            'f': \"181\",\n        },\n{\n            'v': 56,\n            'f': \"56\",\n        },\n\"female\",\n{\n            'v': 4,\n            'f': \"4\",\n        },\n{\n            'v': 134,\n            'f': \"134\",\n        },\n{\n            'v': 409,\n            'f': \"409\",\n        },\n{\n            'v': 0,\n            'f': \"0\",\n        },\n{\n            'v': 2,\n            'f': \"2\",\n        },\n{\n            'v': 150,\n            'f': \"150\",\n        },\n{\n            'v': 1,\n            'f': \"1\",\n        },\n{\n            'v': 1.9,\n            'f': \"1.9\",\n        },\n{\n            'v': 2,\n            'f': \"2\",\n        },\n{\n            'v': 2.0,\n            'f': \"2.0\",\n        },\n{\n            'v': 7.0,\n            'f': \"7.0\",\n        },\n{\n            'v': 2,\n            'f': \"2\",\n        },\n{\n            'v': 1,\n            'f': \"1\",\n        },\n\"yes\"],\n [{\n            'v': 182,\n            'f': \"182\",\n        },\n{\n            'v': 42,\n            'f': \"42\",\n        },\n\"male\",\n{\n            'v': 1,\n            'f': \"1\",\n        },\n{\n            'v': 148,\n            'f': \"148\",\n        },\n{\n            'v': 244,\n            'f': \"244\",\n        },\n{\n            'v': 0,\n            'f': \"0\",\n        },\n{\n            'v': 2,\n            'f': \"2\",\n        },\n{\n            'v': 178,\n            'f': \"178\",\n        },\n{\n            'v': 0,\n            'f': \"0\",\n        },\n{\n            'v': 0.8,\n            'f': \"0.8\",\n        },\n{\n            'v': 1,\n            'f': \"1\",\n        },\n{\n            'v': 2.0,\n            'f': \"2.0\",\n        },\n{\n            'v': 3.0,\n            'f': \"3.0\",\n        },\n{\n            'v': 0,\n            'f': \"0\",\n        },\n{\n            'v': 0,\n            'f': \"0\",\n        },\n\"no\"],\n [{\n            'v': 183,\n            'f': \"183\",\n        },\n{\n            'v': 59,\n            'f': \"59\",\n        },\n\"male\",\n{\n            'v': 1,\n            'f': \"1\",\n        },\n{\n            'v': 178,\n            'f': \"178\",\n        },\n{\n            'v': 270,\n            'f': \"270\",\n        },\n{\n            'v': 0,\n            'f': \"0\",\n        },\n{\n            'v': 2,\n            'f': \"2\",\n        },\n{\n            'v': 145,\n            'f': \"145\",\n        },\n{\n            'v': 0,\n            'f': \"0\",\n        },\n{\n            'v': 4.2,\n            'f': \"4.2\",\n        },\n{\n            'v': 3,\n            'f': \"3\",\n        },\n{\n            'v': 0.0,\n            'f': \"0.0\",\n        },\n{\n            'v': 7.0,\n            'f': \"7.0\",\n        },\n{\n            'v': 0,\n            'f': \"0\",\n        },\n{\n            'v': 0,\n            'f': \"0\",\n        },\n\"no\"],\n [{\n            'v': 184,\n            'f': \"184\",\n        },\n{\n            'v': 60,\n            'f': \"60\",\n        },\n\"female\",\n{\n            'v': 4,\n            'f': \"4\",\n        },\n{\n            'v': 158,\n            'f': \"158\",\n        },\n{\n            'v': 305,\n            'f': \"305\",\n        },\n{\n            'v': 0,\n            'f': \"0\",\n        },\n{\n            'v': 2,\n            'f': \"2\",\n        },\n{\n            'v': 161,\n            'f': \"161\",\n        },\n{\n            'v': 0,\n            'f': \"0\",\n        },\n{\n            'v': 0.0,\n            'f': \"0.0\",\n        },\n{\n            'v': 1,\n            'f': \"1\",\n        },\n{\n            'v': 0.0,\n            'f': \"0.0\",\n        },\n{\n            'v': 3.0,\n            'f': \"3.0\",\n        },\n{\n            'v': 1,\n            'f': \"1\",\n        },\n{\n            'v': 0,\n            'f': \"0\",\n        },\n\"yes\"],\n [{\n            'v': 185,\n            'f': \"185\",\n        },\n{\n            'v': 63,\n            'f': \"63\",\n        },\n\"female\",\n{\n            'v': 2,\n            'f': \"2\",\n        },\n{\n            'v': 140,\n            'f': \"140\",\n        },\n{\n            'v': 195,\n            'f': \"195\",\n        },\n{\n            'v': 0,\n            'f': \"0\",\n        },\n{\n            'v': 0,\n            'f': \"0\",\n        },\n{\n            'v': 179,\n            'f': \"179\",\n        },\n{\n            'v': 0,\n            'f': \"0\",\n        },\n{\n            'v': 0.0,\n            'f': \"0.0\",\n        },\n{\n            'v': 1,\n            'f': \"1\",\n        },\n{\n            'v': 2.0,\n            'f': \"2.0\",\n        },\n{\n            'v': 3.0,\n            'f': \"3.0\",\n        },\n{\n            'v': 0,\n            'f': \"0\",\n        },\n{\n            'v': 0,\n            'f': \"0\",\n        },\n\"no\"],\n [{\n            'v': 186,\n            'f': \"186\",\n        },\n{\n            'v': 42,\n            'f': \"42\",\n        },\n\"male\",\n{\n            'v': 3,\n            'f': \"3\",\n        },\n{\n            'v': 120,\n            'f': \"120\",\n        },\n{\n            'v': 240,\n            'f': \"240\",\n        },\n{\n            'v': 1,\n            'f': \"1\",\n        },\n{\n            'v': 0,\n            'f': \"0\",\n        },\n{\n            'v': 194,\n            'f': \"194\",\n        },\n{\n            'v': 0,\n            'f': \"0\",\n        },\n{\n            'v': 0.8,\n            'f': \"0.8\",\n        },\n{\n            'v': 3,\n            'f': \"3\",\n        },\n{\n            'v': 0.0,\n            'f': \"0.0\",\n        },\n{\n            'v': 7.0,\n            'f': \"7.0\",\n        },\n{\n            'v': 0,\n            'f': \"0\",\n        },\n{\n            'v': 0,\n            'f': \"0\",\n        },\n\"no\"],\n [{\n            'v': 187,\n            'f': \"187\",\n        },\n{\n            'v': 66,\n            'f': \"66\",\n        },\n\"male\",\n{\n            'v': 2,\n            'f': \"2\",\n        },\n{\n            'v': 160,\n            'f': \"160\",\n        },\n{\n            'v': 246,\n            'f': \"246\",\n        },\n{\n            'v': 0,\n            'f': \"0\",\n        },\n{\n            'v': 0,\n            'f': \"0\",\n        },\n{\n            'v': 120,\n            'f': \"120\",\n        },\n{\n            'v': 1,\n            'f': \"1\",\n        },\n{\n            'v': 0.0,\n            'f': \"0.0\",\n        },\n{\n            'v': 2,\n            'f': \"2\",\n        },\n{\n            'v': 3.0,\n            'f': \"3.0\",\n        },\n{\n            'v': 6.0,\n            'f': \"6.0\",\n        },\n{\n            'v': 2,\n            'f': \"2\",\n        },\n{\n            'v': 1,\n            'f': \"1\",\n        },\n\"yes\"],\n [{\n            'v': 188,\n            'f': \"188\",\n        },\n{\n            'v': 54,\n            'f': \"54\",\n        },\n\"male\",\n{\n            'v': 2,\n            'f': \"2\",\n        },\n{\n            'v': 192,\n            'f': \"192\",\n        },\n{\n            'v': 283,\n            'f': \"283\",\n        },\n{\n            'v': 0,\n            'f': \"0\",\n        },\n{\n            'v': 2,\n            'f': \"2\",\n        },\n{\n            'v': 195,\n            'f': \"195\",\n        },\n{\n            'v': 0,\n            'f': \"0\",\n        },\n{\n            'v': 0.0,\n            'f': \"0.0\",\n        },\n{\n            'v': 1,\n            'f': \"1\",\n        },\n{\n            'v': 1.0,\n            'f': \"1.0\",\n        },\n{\n            'v': 7.0,\n            'f': \"7.0\",\n        },\n{\n            'v': 1,\n            'f': \"1\",\n        },\n{\n            'v': 0,\n            'f': \"0\",\n        },\n\"yes\"],\n [{\n            'v': 189,\n            'f': \"189\",\n        },\n{\n            'v': 69,\n            'f': \"69\",\n        },\n\"male\",\n{\n            'v': 3,\n            'f': \"3\",\n        },\n{\n            'v': 140,\n            'f': \"140\",\n        },\n{\n            'v': 254,\n            'f': \"254\",\n        },\n{\n            'v': 0,\n            'f': \"0\",\n        },\n{\n            'v': 2,\n            'f': \"2\",\n        },\n{\n            'v': 146,\n            'f': \"146\",\n        },\n{\n            'v': 0,\n            'f': \"0\",\n        },\n{\n            'v': 2.0,\n            'f': \"2.0\",\n        },\n{\n            'v': 2,\n            'f': \"2\",\n        },\n{\n            'v': 3.0,\n            'f': \"3.0\",\n        },\n{\n            'v': 7.0,\n            'f': \"7.0\",\n        },\n{\n            'v': 2,\n            'f': \"2\",\n        },\n{\n            'v': 0,\n            'f': \"0\",\n        },\n\"yes\"],\n [{\n            'v': 190,\n            'f': \"190\",\n        },\n{\n            'v': 50,\n            'f': \"50\",\n        },\n\"male\",\n{\n            'v': 3,\n            'f': \"3\",\n        },\n{\n            'v': 129,\n            'f': \"129\",\n        },\n{\n            'v': 196,\n            'f': \"196\",\n        },\n{\n            'v': 0,\n            'f': \"0\",\n        },\n{\n            'v': 0,\n            'f': \"0\",\n        },\n{\n            'v': 163,\n            'f': \"163\",\n        },\n{\n            'v': 0,\n            'f': \"0\",\n        },\n{\n            'v': 0.0,\n            'f': \"0.0\",\n        },\n{\n            'v': 1,\n            'f': \"1\",\n        },\n{\n            'v': 0.0,\n            'f': \"0.0\",\n        },\n{\n            'v': 3.0,\n            'f': \"3.0\",\n        },\n{\n            'v': 0,\n            'f': \"0\",\n        },\n{\n            'v': 0,\n            'f': \"0\",\n        },\n\"no\"],\n [{\n            'v': 191,\n            'f': \"191\",\n        },\n{\n            'v': 51,\n            'f': \"51\",\n        },\n\"male\",\n{\n            'v': 4,\n            'f': \"4\",\n        },\n{\n            'v': 140,\n            'f': \"140\",\n        },\n{\n            'v': 298,\n            'f': \"298\",\n        },\n{\n            'v': 0,\n            'f': \"0\",\n        },\n{\n            'v': 0,\n            'f': \"0\",\n        },\n{\n            'v': 122,\n            'f': \"122\",\n        },\n{\n            'v': 1,\n            'f': \"1\",\n        },\n{\n            'v': 4.2,\n            'f': \"4.2\",\n        },\n{\n            'v': 2,\n            'f': \"2\",\n        },\n{\n            'v': 3.0,\n            'f': \"3.0\",\n        },\n{\n            'v': 7.0,\n            'f': \"7.0\",\n        },\n{\n            'v': 3,\n            'f': \"3\",\n        },\n{\n            'v': 1,\n            'f': \"1\",\n        },\n\"yes\"],\n [{\n            'v': 192,\n            'f': \"192\",\n        },\n{\n            'v': 43,\n            'f': \"43\",\n        },\n\"male\",\n{\n            'v': 4,\n            'f': \"4\",\n        },\n{\n            'v': 132,\n            'f': \"132\",\n        },\n{\n            'v': 247,\n            'f': \"247\",\n        },\n{\n            'v': 1,\n            'f': \"1\",\n        },\n{\n            'v': 2,\n            'f': \"2\",\n        },\n{\n            'v': 143,\n            'f': \"143\",\n        },\n{\n            'v': 1,\n            'f': \"1\",\n        },\n{\n            'v': 0.1,\n            'f': \"0.1\",\n        },\n{\n            'v': 2,\n            'f': \"2\",\n        },\n{\n            'v': NaN,\n            'f': \"NaN\",\n        },\n{\n            'v': 7.0,\n            'f': \"7.0\",\n        },\n{\n            'v': 1,\n            'f': \"1\",\n        },\n{\n            'v': 1,\n            'f': \"1\",\n        },\n\"yes\"],\n [{\n            'v': 193,\n            'f': \"193\",\n        },\n{\n            'v': 62,\n            'f': \"62\",\n        },\n\"female\",\n{\n            'v': 4,\n            'f': \"4\",\n        },\n{\n            'v': 138,\n            'f': \"138\",\n        },\n{\n            'v': 294,\n            'f': \"294\",\n        },\n{\n            'v': 1,\n            'f': \"1\",\n        },\n{\n            'v': 0,\n            'f': \"0\",\n        },\n{\n            'v': 106,\n            'f': \"106\",\n        },\n{\n            'v': 0,\n            'f': \"0\",\n        },\n{\n            'v': 1.9,\n            'f': \"1.9\",\n        },\n{\n            'v': 2,\n            'f': \"2\",\n        },\n{\n            'v': 3.0,\n            'f': \"3.0\",\n        },\n{\n            'v': 3.0,\n            'f': \"3.0\",\n        },\n{\n            'v': 2,\n            'f': \"2\",\n        },\n{\n            'v': 0,\n            'f': \"0\",\n        },\n\"yes\"],\n [{\n            'v': 194,\n            'f': \"194\",\n        },\n{\n            'v': 68,\n            'f': \"68\",\n        },\n\"female\",\n{\n            'v': 3,\n            'f': \"3\",\n        },\n{\n            'v': 120,\n            'f': \"120\",\n        },\n{\n            'v': 211,\n            'f': \"211\",\n        },\n{\n            'v': 0,\n            'f': \"0\",\n        },\n{\n            'v': 2,\n            'f': \"2\",\n        },\n{\n            'v': 115,\n            'f': \"115\",\n        },\n{\n            'v': 0,\n            'f': \"0\",\n        },\n{\n            'v': 1.5,\n            'f': \"1.5\",\n        },\n{\n            'v': 2,\n            'f': \"2\",\n        },\n{\n            'v': 0.0,\n            'f': \"0.0\",\n        },\n{\n            'v': 3.0,\n            'f': \"3.0\",\n        },\n{\n            'v': 0,\n            'f': \"0\",\n        },\n{\n            'v': 0,\n            'f': \"0\",\n        },\n\"no\"],\n [{\n            'v': 195,\n            'f': \"195\",\n        },\n{\n            'v': 67,\n            'f': \"67\",\n        },\n\"male\",\n{\n            'v': 4,\n            'f': \"4\",\n        },\n{\n            'v': 100,\n            'f': \"100\",\n        },\n{\n            'v': 299,\n            'f': \"299\",\n        },\n{\n            'v': 0,\n            'f': \"0\",\n        },\n{\n            'v': 2,\n            'f': \"2\",\n        },\n{\n            'v': 125,\n            'f': \"125\",\n        },\n{\n            'v': 1,\n            'f': \"1\",\n        },\n{\n            'v': 0.9,\n            'f': \"0.9\",\n        },\n{\n            'v': 2,\n            'f': \"2\",\n        },\n{\n            'v': 2.0,\n            'f': \"2.0\",\n        },\n{\n            'v': 3.0,\n            'f': \"3.0\",\n        },\n{\n            'v': 3,\n            'f': \"3\",\n        },\n{\n            'v': 1,\n            'f': \"1\",\n        },\n\"yes\"],\n [{\n            'v': 196,\n            'f': \"196\",\n        },\n{\n            'v': 69,\n            'f': \"69\",\n        },\n\"male\",\n{\n            'v': 1,\n            'f': \"1\",\n        },\n{\n            'v': 160,\n            'f': \"160\",\n        },\n{\n            'v': 234,\n            'f': \"234\",\n        },\n{\n            'v': 1,\n            'f': \"1\",\n        },\n{\n            'v': 2,\n            'f': \"2\",\n        },\n{\n            'v': 131,\n            'f': \"131\",\n        },\n{\n            'v': 0,\n            'f': \"0\",\n        },\n{\n            'v': 0.1,\n            'f': \"0.1\",\n        },\n{\n            'v': 2,\n            'f': \"2\",\n        },\n{\n            'v': 1.0,\n            'f': \"1.0\",\n        },\n{\n            'v': 3.0,\n            'f': \"3.0\",\n        },\n{\n            'v': 0,\n            'f': \"0\",\n        },\n{\n            'v': 0,\n            'f': \"0\",\n        },\n\"no\"],\n [{\n            'v': 197,\n            'f': \"197\",\n        },\n{\n            'v': 45,\n            'f': \"45\",\n        },\n\"female\",\n{\n            'v': 4,\n            'f': \"4\",\n        },\n{\n            'v': 138,\n            'f': \"138\",\n        },\n{\n            'v': 236,\n            'f': \"236\",\n        },\n{\n            'v': 0,\n            'f': \"0\",\n        },\n{\n            'v': 2,\n            'f': \"2\",\n        },\n{\n            'v': 152,\n            'f': \"152\",\n        },\n{\n            'v': 1,\n            'f': \"1\",\n        },\n{\n            'v': 0.2,\n            'f': \"0.2\",\n        },\n{\n            'v': 2,\n            'f': \"2\",\n        },\n{\n            'v': 0.0,\n            'f': \"0.0\",\n        },\n{\n            'v': 3.0,\n            'f': \"3.0\",\n        },\n{\n            'v': 0,\n            'f': \"0\",\n        },\n{\n            'v': 1,\n            'f': \"1\",\n        },\n\"no\"],\n [{\n            'v': 198,\n            'f': \"198\",\n        },\n{\n            'v': 50,\n            'f': \"50\",\n        },\n\"female\",\n{\n            'v': 2,\n            'f': \"2\",\n        },\n{\n            'v': 120,\n            'f': \"120\",\n        },\n{\n            'v': 244,\n            'f': \"244\",\n        },\n{\n            'v': 0,\n            'f': \"0\",\n        },\n{\n            'v': 0,\n            'f': \"0\",\n        },\n{\n            'v': 162,\n            'f': \"162\",\n        },\n{\n            'v': 0,\n            'f': \"0\",\n        },\n{\n            'v': 1.1,\n            'f': \"1.1\",\n        },\n{\n            'v': 1,\n            'f': \"1\",\n        },\n{\n            'v': 0.0,\n            'f': \"0.0\",\n        },\n{\n            'v': 3.0,\n            'f': \"3.0\",\n        },\n{\n            'v': 0,\n            'f': \"0\",\n        },\n{\n            'v': 0,\n            'f': \"0\",\n        },\n\"no\"],\n [{\n            'v': 199,\n            'f': \"199\",\n        },\n{\n            'v': 59,\n            'f': \"59\",\n        },\n\"male\",\n{\n            'v': 1,\n            'f': \"1\",\n        },\n{\n            'v': 160,\n            'f': \"160\",\n        },\n{\n            'v': 273,\n            'f': \"273\",\n        },\n{\n            'v': 0,\n            'f': \"0\",\n        },\n{\n            'v': 2,\n            'f': \"2\",\n        },\n{\n            'v': 125,\n            'f': \"125\",\n        },\n{\n            'v': 0,\n            'f': \"0\",\n        },\n{\n            'v': 0.0,\n            'f': \"0.0\",\n        },\n{\n            'v': 1,\n            'f': \"1\",\n        },\n{\n            'v': 0.0,\n            'f': \"0.0\",\n        },\n{\n            'v': 3.0,\n            'f': \"3.0\",\n        },\n{\n            'v': 1,\n            'f': \"1\",\n        },\n{\n            'v': 0,\n            'f': \"0\",\n        },\n\"yes\"],\n [{\n            'v': 200,\n            'f': \"200\",\n        },\n{\n            'v': 50,\n            'f': \"50\",\n        },\n\"female\",\n{\n            'v': 4,\n            'f': \"4\",\n        },\n{\n            'v': 110,\n            'f': \"110\",\n        },\n{\n            'v': 254,\n            'f': \"254\",\n        },\n{\n            'v': 0,\n            'f': \"0\",\n        },\n{\n            'v': 2,\n            'f': \"2\",\n        },\n{\n            'v': 159,\n            'f': \"159\",\n        },\n{\n            'v': 0,\n            'f': \"0\",\n        },\n{\n            'v': 0.0,\n            'f': \"0.0\",\n        },\n{\n            'v': 1,\n            'f': \"1\",\n        },\n{\n            'v': 0.0,\n            'f': \"0.0\",\n        },\n{\n            'v': 3.0,\n            'f': \"3.0\",\n        },\n{\n            'v': 0,\n            'f': \"0\",\n        },\n{\n            'v': 0,\n            'f': \"0\",\n        },\n\"no\"],\n [{\n            'v': 201,\n            'f': \"201\",\n        },\n{\n            'v': 64,\n            'f': \"64\",\n        },\n\"female\",\n{\n            'v': 4,\n            'f': \"4\",\n        },\n{\n            'v': 180,\n            'f': \"180\",\n        },\n{\n            'v': 325,\n            'f': \"325\",\n        },\n{\n            'v': 0,\n            'f': \"0\",\n        },\n{\n            'v': 0,\n            'f': \"0\",\n        },\n{\n            'v': 154,\n            'f': \"154\",\n        },\n{\n            'v': 1,\n            'f': \"1\",\n        },\n{\n            'v': 0.0,\n            'f': \"0.0\",\n        },\n{\n            'v': 1,\n            'f': \"1\",\n        },\n{\n            'v': 0.0,\n            'f': \"0.0\",\n        },\n{\n            'v': 3.0,\n            'f': \"3.0\",\n        },\n{\n            'v': 0,\n            'f': \"0\",\n        },\n{\n            'v': 1,\n            'f': \"1\",\n        },\n\"no\"],\n [{\n            'v': 202,\n            'f': \"202\",\n        },\n{\n            'v': 57,\n            'f': \"57\",\n        },\n\"male\",\n{\n            'v': 3,\n            'f': \"3\",\n        },\n{\n            'v': 150,\n            'f': \"150\",\n        },\n{\n            'v': 126,\n            'f': \"126\",\n        },\n{\n            'v': 1,\n            'f': \"1\",\n        },\n{\n            'v': 0,\n            'f': \"0\",\n        },\n{\n            'v': 173,\n            'f': \"173\",\n        },\n{\n            'v': 0,\n            'f': \"0\",\n        },\n{\n            'v': 0.2,\n            'f': \"0.2\",\n        },\n{\n            'v': 1,\n            'f': \"1\",\n        },\n{\n            'v': 1.0,\n            'f': \"1.0\",\n        },\n{\n            'v': 7.0,\n            'f': \"7.0\",\n        },\n{\n            'v': 0,\n            'f': \"0\",\n        },\n{\n            'v': 0,\n            'f': \"0\",\n        },\n\"no\"],\n [{\n            'v': 203,\n            'f': \"203\",\n        },\n{\n            'v': 64,\n            'f': \"64\",\n        },\n\"female\",\n{\n            'v': 3,\n            'f': \"3\",\n        },\n{\n            'v': 140,\n            'f': \"140\",\n        },\n{\n            'v': 313,\n            'f': \"313\",\n        },\n{\n            'v': 0,\n            'f': \"0\",\n        },\n{\n            'v': 0,\n            'f': \"0\",\n        },\n{\n            'v': 133,\n            'f': \"133\",\n        },\n{\n            'v': 0,\n            'f': \"0\",\n        },\n{\n            'v': 0.2,\n            'f': \"0.2\",\n        },\n{\n            'v': 1,\n            'f': \"1\",\n        },\n{\n            'v': 0.0,\n            'f': \"0.0\",\n        },\n{\n            'v': 7.0,\n            'f': \"7.0\",\n        },\n{\n            'v': 0,\n            'f': \"0\",\n        },\n{\n            'v': 0,\n            'f': \"0\",\n        },\n\"no\"],\n [{\n            'v': 204,\n            'f': \"204\",\n        },\n{\n            'v': 43,\n            'f': \"43\",\n        },\n\"male\",\n{\n            'v': 4,\n            'f': \"4\",\n        },\n{\n            'v': 110,\n            'f': \"110\",\n        },\n{\n            'v': 211,\n            'f': \"211\",\n        },\n{\n            'v': 0,\n            'f': \"0\",\n        },\n{\n            'v': 0,\n            'f': \"0\",\n        },\n{\n            'v': 161,\n            'f': \"161\",\n        },\n{\n            'v': 0,\n            'f': \"0\",\n        },\n{\n            'v': 0.0,\n            'f': \"0.0\",\n        },\n{\n            'v': 1,\n            'f': \"1\",\n        },\n{\n            'v': 0.0,\n            'f': \"0.0\",\n        },\n{\n            'v': 7.0,\n            'f': \"7.0\",\n        },\n{\n            'v': 0,\n            'f': \"0\",\n        },\n{\n            'v': 0,\n            'f': \"0\",\n        },\n\"no\"],\n [{\n            'v': 205,\n            'f': \"205\",\n        },\n{\n            'v': 45,\n            'f': \"45\",\n        },\n\"male\",\n{\n            'v': 4,\n            'f': \"4\",\n        },\n{\n            'v': 142,\n            'f': \"142\",\n        },\n{\n            'v': 309,\n            'f': \"309\",\n        },\n{\n            'v': 0,\n            'f': \"0\",\n        },\n{\n            'v': 2,\n            'f': \"2\",\n        },\n{\n            'v': 147,\n            'f': \"147\",\n        },\n{\n            'v': 1,\n            'f': \"1\",\n        },\n{\n            'v': 0.0,\n            'f': \"0.0\",\n        },\n{\n            'v': 2,\n            'f': \"2\",\n        },\n{\n            'v': 3.0,\n            'f': \"3.0\",\n        },\n{\n            'v': 7.0,\n            'f': \"7.0\",\n        },\n{\n            'v': 3,\n            'f': \"3\",\n        },\n{\n            'v': 1,\n            'f': \"1\",\n        },\n\"yes\"],\n [{\n            'v': 206,\n            'f': \"206\",\n        },\n{\n            'v': 58,\n            'f': \"58\",\n        },\n\"male\",\n{\n            'v': 4,\n            'f': \"4\",\n        },\n{\n            'v': 128,\n            'f': \"128\",\n        },\n{\n            'v': 259,\n            'f': \"259\",\n        },\n{\n            'v': 0,\n            'f': \"0\",\n        },\n{\n            'v': 2,\n            'f': \"2\",\n        },\n{\n            'v': 130,\n            'f': \"130\",\n        },\n{\n            'v': 1,\n            'f': \"1\",\n        },\n{\n            'v': 3.0,\n            'f': \"3.0\",\n        },\n{\n            'v': 2,\n            'f': \"2\",\n        },\n{\n            'v': 2.0,\n            'f': \"2.0\",\n        },\n{\n            'v': 7.0,\n            'f': \"7.0\",\n        },\n{\n            'v': 3,\n            'f': \"3\",\n        },\n{\n            'v': 1,\n            'f': \"1\",\n        },\n\"yes\"],\n [{\n            'v': 207,\n            'f': \"207\",\n        },\n{\n            'v': 50,\n            'f': \"50\",\n        },\n\"male\",\n{\n            'v': 4,\n            'f': \"4\",\n        },\n{\n            'v': 144,\n            'f': \"144\",\n        },\n{\n            'v': 200,\n            'f': \"200\",\n        },\n{\n            'v': 0,\n            'f': \"0\",\n        },\n{\n            'v': 2,\n            'f': \"2\",\n        },\n{\n            'v': 126,\n            'f': \"126\",\n        },\n{\n            'v': 1,\n            'f': \"1\",\n        },\n{\n            'v': 0.9,\n            'f': \"0.9\",\n        },\n{\n            'v': 2,\n            'f': \"2\",\n        },\n{\n            'v': 0.0,\n            'f': \"0.0\",\n        },\n{\n            'v': 7.0,\n            'f': \"7.0\",\n        },\n{\n            'v': 3,\n            'f': \"3\",\n        },\n{\n            'v': 1,\n            'f': \"1\",\n        },\n\"yes\"],\n [{\n            'v': 208,\n            'f': \"208\",\n        },\n{\n            'v': 55,\n            'f': \"55\",\n        },\n\"male\",\n{\n            'v': 2,\n            'f': \"2\",\n        },\n{\n            'v': 130,\n            'f': \"130\",\n        },\n{\n            'v': 262,\n            'f': \"262\",\n        },\n{\n            'v': 0,\n            'f': \"0\",\n        },\n{\n            'v': 0,\n            'f': \"0\",\n        },\n{\n            'v': 155,\n            'f': \"155\",\n        },\n{\n            'v': 0,\n            'f': \"0\",\n        },\n{\n            'v': 0.0,\n            'f': \"0.0\",\n        },\n{\n            'v': 1,\n            'f': \"1\",\n        },\n{\n            'v': 0.0,\n            'f': \"0.0\",\n        },\n{\n            'v': 3.0,\n            'f': \"3.0\",\n        },\n{\n            'v': 0,\n            'f': \"0\",\n        },\n{\n            'v': 0,\n            'f': \"0\",\n        },\n\"no\"],\n [{\n            'v': 209,\n            'f': \"209\",\n        },\n{\n            'v': 62,\n            'f': \"62\",\n        },\n\"female\",\n{\n            'v': 4,\n            'f': \"4\",\n        },\n{\n            'v': 150,\n            'f': \"150\",\n        },\n{\n            'v': 244,\n            'f': \"244\",\n        },\n{\n            'v': 0,\n            'f': \"0\",\n        },\n{\n            'v': 0,\n            'f': \"0\",\n        },\n{\n            'v': 154,\n            'f': \"154\",\n        },\n{\n            'v': 1,\n            'f': \"1\",\n        },\n{\n            'v': 1.4,\n            'f': \"1.4\",\n        },\n{\n            'v': 2,\n            'f': \"2\",\n        },\n{\n            'v': 0.0,\n            'f': \"0.0\",\n        },\n{\n            'v': 3.0,\n            'f': \"3.0\",\n        },\n{\n            'v': 1,\n            'f': \"1\",\n        },\n{\n            'v': 1,\n            'f': \"1\",\n        },\n\"yes\"],\n [{\n            'v': 210,\n            'f': \"210\",\n        },\n{\n            'v': 37,\n            'f': \"37\",\n        },\n\"female\",\n{\n            'v': 3,\n            'f': \"3\",\n        },\n{\n            'v': 120,\n            'f': \"120\",\n        },\n{\n            'v': 215,\n            'f': \"215\",\n        },\n{\n            'v': 0,\n            'f': \"0\",\n        },\n{\n            'v': 0,\n            'f': \"0\",\n        },\n{\n            'v': 170,\n            'f': \"170\",\n        },\n{\n            'v': 0,\n            'f': \"0\",\n        },\n{\n            'v': 0.0,\n            'f': \"0.0\",\n        },\n{\n            'v': 1,\n            'f': \"1\",\n        },\n{\n            'v': 0.0,\n            'f': \"0.0\",\n        },\n{\n            'v': 3.0,\n            'f': \"3.0\",\n        },\n{\n            'v': 0,\n            'f': \"0\",\n        },\n{\n            'v': 0,\n            'f': \"0\",\n        },\n\"no\"],\n [{\n            'v': 211,\n            'f': \"211\",\n        },\n{\n            'v': 38,\n            'f': \"38\",\n        },\n\"male\",\n{\n            'v': 1,\n            'f': \"1\",\n        },\n{\n            'v': 120,\n            'f': \"120\",\n        },\n{\n            'v': 231,\n            'f': \"231\",\n        },\n{\n            'v': 0,\n            'f': \"0\",\n        },\n{\n            'v': 0,\n            'f': \"0\",\n        },\n{\n            'v': 182,\n            'f': \"182\",\n        },\n{\n            'v': 1,\n            'f': \"1\",\n        },\n{\n            'v': 3.8,\n            'f': \"3.8\",\n        },\n{\n            'v': 2,\n            'f': \"2\",\n        },\n{\n            'v': 0.0,\n            'f': \"0.0\",\n        },\n{\n            'v': 7.0,\n            'f': \"7.0\",\n        },\n{\n            'v': 4,\n            'f': \"4\",\n        },\n{\n            'v': 1,\n            'f': \"1\",\n        },\n\"yes\"],\n [{\n            'v': 212,\n            'f': \"212\",\n        },\n{\n            'v': 41,\n            'f': \"41\",\n        },\n\"male\",\n{\n            'v': 3,\n            'f': \"3\",\n        },\n{\n            'v': 130,\n            'f': \"130\",\n        },\n{\n            'v': 214,\n            'f': \"214\",\n        },\n{\n            'v': 0,\n            'f': \"0\",\n        },\n{\n            'v': 2,\n            'f': \"2\",\n        },\n{\n            'v': 168,\n            'f': \"168\",\n        },\n{\n            'v': 0,\n            'f': \"0\",\n        },\n{\n            'v': 2.0,\n            'f': \"2.0\",\n        },\n{\n            'v': 2,\n            'f': \"2\",\n        },\n{\n            'v': 0.0,\n            'f': \"0.0\",\n        },\n{\n            'v': 3.0,\n            'f': \"3.0\",\n        },\n{\n            'v': 0,\n            'f': \"0\",\n        },\n{\n            'v': 0,\n            'f': \"0\",\n        },\n\"no\"],\n [{\n            'v': 213,\n            'f': \"213\",\n        },\n{\n            'v': 66,\n            'f': \"66\",\n        },\n\"female\",\n{\n            'v': 4,\n            'f': \"4\",\n        },\n{\n            'v': 178,\n            'f': \"178\",\n        },\n{\n            'v': 228,\n            'f': \"228\",\n        },\n{\n            'v': 1,\n            'f': \"1\",\n        },\n{\n            'v': 0,\n            'f': \"0\",\n        },\n{\n            'v': 165,\n            'f': \"165\",\n        },\n{\n            'v': 1,\n            'f': \"1\",\n        },\n{\n            'v': 1.0,\n            'f': \"1.0\",\n        },\n{\n            'v': 2,\n            'f': \"2\",\n        },\n{\n            'v': 2.0,\n            'f': \"2.0\",\n        },\n{\n            'v': 7.0,\n            'f': \"7.0\",\n        },\n{\n            'v': 3,\n            'f': \"3\",\n        },\n{\n            'v': 1,\n            'f': \"1\",\n        },\n\"yes\"],\n [{\n            'v': 214,\n            'f': \"214\",\n        },\n{\n            'v': 52,\n            'f': \"52\",\n        },\n\"male\",\n{\n            'v': 4,\n            'f': \"4\",\n        },\n{\n            'v': 112,\n            'f': \"112\",\n        },\n{\n            'v': 230,\n            'f': \"230\",\n        },\n{\n            'v': 0,\n            'f': \"0\",\n        },\n{\n            'v': 0,\n            'f': \"0\",\n        },\n{\n            'v': 160,\n            'f': \"160\",\n        },\n{\n            'v': 0,\n            'f': \"0\",\n        },\n{\n            'v': 0.0,\n            'f': \"0.0\",\n        },\n{\n            'v': 1,\n            'f': \"1\",\n        },\n{\n            'v': 1.0,\n            'f': \"1.0\",\n        },\n{\n            'v': 3.0,\n            'f': \"3.0\",\n        },\n{\n            'v': 1,\n            'f': \"1\",\n        },\n{\n            'v': 0,\n            'f': \"0\",\n        },\n\"yes\"],\n [{\n            'v': 215,\n            'f': \"215\",\n        },\n{\n            'v': 56,\n            'f': \"56\",\n        },\n\"male\",\n{\n            'v': 1,\n            'f': \"1\",\n        },\n{\n            'v': 120,\n            'f': \"120\",\n        },\n{\n            'v': 193,\n            'f': \"193\",\n        },\n{\n            'v': 0,\n            'f': \"0\",\n        },\n{\n            'v': 2,\n            'f': \"2\",\n        },\n{\n            'v': 162,\n            'f': \"162\",\n        },\n{\n            'v': 0,\n            'f': \"0\",\n        },\n{\n            'v': 1.9,\n            'f': \"1.9\",\n        },\n{\n            'v': 2,\n            'f': \"2\",\n        },\n{\n            'v': 0.0,\n            'f': \"0.0\",\n        },\n{\n            'v': 7.0,\n            'f': \"7.0\",\n        },\n{\n            'v': 0,\n            'f': \"0\",\n        },\n{\n            'v': 0,\n            'f': \"0\",\n        },\n\"no\"],\n [{\n            'v': 216,\n            'f': \"216\",\n        },\n{\n            'v': 46,\n            'f': \"46\",\n        },\n\"female\",\n{\n            'v': 2,\n            'f': \"2\",\n        },\n{\n            'v': 105,\n            'f': \"105\",\n        },\n{\n            'v': 204,\n            'f': \"204\",\n        },\n{\n            'v': 0,\n            'f': \"0\",\n        },\n{\n            'v': 0,\n            'f': \"0\",\n        },\n{\n            'v': 172,\n            'f': \"172\",\n        },\n{\n            'v': 0,\n            'f': \"0\",\n        },\n{\n            'v': 0.0,\n            'f': \"0.0\",\n        },\n{\n            'v': 1,\n            'f': \"1\",\n        },\n{\n            'v': 0.0,\n            'f': \"0.0\",\n        },\n{\n            'v': 3.0,\n            'f': \"3.0\",\n        },\n{\n            'v': 0,\n            'f': \"0\",\n        },\n{\n            'v': 0,\n            'f': \"0\",\n        },\n\"no\"],\n [{\n            'v': 217,\n            'f': \"217\",\n        },\n{\n            'v': 46,\n            'f': \"46\",\n        },\n\"female\",\n{\n            'v': 4,\n            'f': \"4\",\n        },\n{\n            'v': 138,\n            'f': \"138\",\n        },\n{\n            'v': 243,\n            'f': \"243\",\n        },\n{\n            'v': 0,\n            'f': \"0\",\n        },\n{\n            'v': 2,\n            'f': \"2\",\n        },\n{\n            'v': 152,\n            'f': \"152\",\n        },\n{\n            'v': 1,\n            'f': \"1\",\n        },\n{\n            'v': 0.0,\n            'f': \"0.0\",\n        },\n{\n            'v': 2,\n            'f': \"2\",\n        },\n{\n            'v': 0.0,\n            'f': \"0.0\",\n        },\n{\n            'v': 3.0,\n            'f': \"3.0\",\n        },\n{\n            'v': 0,\n            'f': \"0\",\n        },\n{\n            'v': 1,\n            'f': \"1\",\n        },\n\"no\"],\n [{\n            'v': 218,\n            'f': \"218\",\n        },\n{\n            'v': 64,\n            'f': \"64\",\n        },\n\"female\",\n{\n            'v': 4,\n            'f': \"4\",\n        },\n{\n            'v': 130,\n            'f': \"130\",\n        },\n{\n            'v': 303,\n            'f': \"303\",\n        },\n{\n            'v': 0,\n            'f': \"0\",\n        },\n{\n            'v': 0,\n            'f': \"0\",\n        },\n{\n            'v': 122,\n            'f': \"122\",\n        },\n{\n            'v': 0,\n            'f': \"0\",\n        },\n{\n            'v': 2.0,\n            'f': \"2.0\",\n        },\n{\n            'v': 2,\n            'f': \"2\",\n        },\n{\n            'v': 2.0,\n            'f': \"2.0\",\n        },\n{\n            'v': 3.0,\n            'f': \"3.0\",\n        },\n{\n            'v': 0,\n            'f': \"0\",\n        },\n{\n            'v': 0,\n            'f': \"0\",\n        },\n\"no\"],\n [{\n            'v': 219,\n            'f': \"219\",\n        },\n{\n            'v': 59,\n            'f': \"59\",\n        },\n\"male\",\n{\n            'v': 4,\n            'f': \"4\",\n        },\n{\n            'v': 138,\n            'f': \"138\",\n        },\n{\n            'v': 271,\n            'f': \"271\",\n        },\n{\n            'v': 0,\n            'f': \"0\",\n        },\n{\n            'v': 2,\n            'f': \"2\",\n        },\n{\n            'v': 182,\n            'f': \"182\",\n        },\n{\n            'v': 0,\n            'f': \"0\",\n        },\n{\n            'v': 0.0,\n            'f': \"0.0\",\n        },\n{\n            'v': 1,\n            'f': \"1\",\n        },\n{\n            'v': 0.0,\n            'f': \"0.0\",\n        },\n{\n            'v': 3.0,\n            'f': \"3.0\",\n        },\n{\n            'v': 0,\n            'f': \"0\",\n        },\n{\n            'v': 0,\n            'f': \"0\",\n        },\n\"no\"],\n [{\n            'v': 220,\n            'f': \"220\",\n        },\n{\n            'v': 41,\n            'f': \"41\",\n        },\n\"female\",\n{\n            'v': 3,\n            'f': \"3\",\n        },\n{\n            'v': 112,\n            'f': \"112\",\n        },\n{\n            'v': 268,\n            'f': \"268\",\n        },\n{\n            'v': 0,\n            'f': \"0\",\n        },\n{\n            'v': 2,\n            'f': \"2\",\n        },\n{\n            'v': 172,\n            'f': \"172\",\n        },\n{\n            'v': 1,\n            'f': \"1\",\n        },\n{\n            'v': 0.0,\n            'f': \"0.0\",\n        },\n{\n            'v': 1,\n            'f': \"1\",\n        },\n{\n            'v': 0.0,\n            'f': \"0.0\",\n        },\n{\n            'v': 3.0,\n            'f': \"3.0\",\n        },\n{\n            'v': 0,\n            'f': \"0\",\n        },\n{\n            'v': 1,\n            'f': \"1\",\n        },\n\"no\"],\n [{\n            'v': 221,\n            'f': \"221\",\n        },\n{\n            'v': 54,\n            'f': \"54\",\n        },\n\"female\",\n{\n            'v': 3,\n            'f': \"3\",\n        },\n{\n            'v': 108,\n            'f': \"108\",\n        },\n{\n            'v': 267,\n            'f': \"267\",\n        },\n{\n            'v': 0,\n            'f': \"0\",\n        },\n{\n            'v': 2,\n            'f': \"2\",\n        },\n{\n            'v': 167,\n            'f': \"167\",\n        },\n{\n            'v': 0,\n            'f': \"0\",\n        },\n{\n            'v': 0.0,\n            'f': \"0.0\",\n        },\n{\n            'v': 1,\n            'f': \"1\",\n        },\n{\n            'v': 0.0,\n            'f': \"0.0\",\n        },\n{\n            'v': 3.0,\n            'f': \"3.0\",\n        },\n{\n            'v': 0,\n            'f': \"0\",\n        },\n{\n            'v': 0,\n            'f': \"0\",\n        },\n\"no\"],\n [{\n            'v': 222,\n            'f': \"222\",\n        },\n{\n            'v': 39,\n            'f': \"39\",\n        },\n\"female\",\n{\n            'v': 3,\n            'f': \"3\",\n        },\n{\n            'v': 94,\n            'f': \"94\",\n        },\n{\n            'v': 199,\n            'f': \"199\",\n        },\n{\n            'v': 0,\n            'f': \"0\",\n        },\n{\n            'v': 0,\n            'f': \"0\",\n        },\n{\n            'v': 179,\n            'f': \"179\",\n        },\n{\n            'v': 0,\n            'f': \"0\",\n        },\n{\n            'v': 0.0,\n            'f': \"0.0\",\n        },\n{\n            'v': 1,\n            'f': \"1\",\n        },\n{\n            'v': 0.0,\n            'f': \"0.0\",\n        },\n{\n            'v': 3.0,\n            'f': \"3.0\",\n        },\n{\n            'v': 0,\n            'f': \"0\",\n        },\n{\n            'v': 0,\n            'f': \"0\",\n        },\n\"no\"],\n [{\n            'v': 223,\n            'f': \"223\",\n        },\n{\n            'v': 53,\n            'f': \"53\",\n        },\n\"male\",\n{\n            'v': 4,\n            'f': \"4\",\n        },\n{\n            'v': 123,\n            'f': \"123\",\n        },\n{\n            'v': 282,\n            'f': \"282\",\n        },\n{\n            'v': 0,\n            'f': \"0\",\n        },\n{\n            'v': 0,\n            'f': \"0\",\n        },\n{\n            'v': 95,\n            'f': \"95\",\n        },\n{\n            'v': 1,\n            'f': \"1\",\n        },\n{\n            'v': 2.0,\n            'f': \"2.0\",\n        },\n{\n            'v': 2,\n            'f': \"2\",\n        },\n{\n            'v': 2.0,\n            'f': \"2.0\",\n        },\n{\n            'v': 7.0,\n            'f': \"7.0\",\n        },\n{\n            'v': 3,\n            'f': \"3\",\n        },\n{\n            'v': 1,\n            'f': \"1\",\n        },\n\"yes\"],\n [{\n            'v': 224,\n            'f': \"224\",\n        },\n{\n            'v': 63,\n            'f': \"63\",\n        },\n\"female\",\n{\n            'v': 4,\n            'f': \"4\",\n        },\n{\n            'v': 108,\n            'f': \"108\",\n        },\n{\n            'v': 269,\n            'f': \"269\",\n        },\n{\n            'v': 0,\n            'f': \"0\",\n        },\n{\n            'v': 0,\n            'f': \"0\",\n        },\n{\n            'v': 169,\n            'f': \"169\",\n        },\n{\n            'v': 1,\n            'f': \"1\",\n        },\n{\n            'v': 1.8,\n            'f': \"1.8\",\n        },\n{\n            'v': 2,\n            'f': \"2\",\n        },\n{\n            'v': 2.0,\n            'f': \"2.0\",\n        },\n{\n            'v': 3.0,\n            'f': \"3.0\",\n        },\n{\n            'v': 1,\n            'f': \"1\",\n        },\n{\n            'v': 1,\n            'f': \"1\",\n        },\n\"yes\"],\n [{\n            'v': 225,\n            'f': \"225\",\n        },\n{\n            'v': 34,\n            'f': \"34\",\n        },\n\"female\",\n{\n            'v': 2,\n            'f': \"2\",\n        },\n{\n            'v': 118,\n            'f': \"118\",\n        },\n{\n            'v': 210,\n            'f': \"210\",\n        },\n{\n            'v': 0,\n            'f': \"0\",\n        },\n{\n            'v': 0,\n            'f': \"0\",\n        },\n{\n            'v': 192,\n            'f': \"192\",\n        },\n{\n            'v': 0,\n            'f': \"0\",\n        },\n{\n            'v': 0.7,\n            'f': \"0.7\",\n        },\n{\n            'v': 1,\n            'f': \"1\",\n        },\n{\n            'v': 0.0,\n            'f': \"0.0\",\n        },\n{\n            'v': 3.0,\n            'f': \"3.0\",\n        },\n{\n            'v': 0,\n            'f': \"0\",\n        },\n{\n            'v': 0,\n            'f': \"0\",\n        },\n\"no\"],\n [{\n            'v': 226,\n            'f': \"226\",\n        },\n{\n            'v': 47,\n            'f': \"47\",\n        },\n\"male\",\n{\n            'v': 4,\n            'f': \"4\",\n        },\n{\n            'v': 112,\n            'f': \"112\",\n        },\n{\n            'v': 204,\n            'f': \"204\",\n        },\n{\n            'v': 0,\n            'f': \"0\",\n        },\n{\n            'v': 0,\n            'f': \"0\",\n        },\n{\n            'v': 143,\n            'f': \"143\",\n        },\n{\n            'v': 0,\n            'f': \"0\",\n        },\n{\n            'v': 0.1,\n            'f': \"0.1\",\n        },\n{\n            'v': 1,\n            'f': \"1\",\n        },\n{\n            'v': 0.0,\n            'f': \"0.0\",\n        },\n{\n            'v': 3.0,\n            'f': \"3.0\",\n        },\n{\n            'v': 0,\n            'f': \"0\",\n        },\n{\n            'v': 0,\n            'f': \"0\",\n        },\n\"no\"],\n [{\n            'v': 227,\n            'f': \"227\",\n        },\n{\n            'v': 67,\n            'f': \"67\",\n        },\n\"female\",\n{\n            'v': 3,\n            'f': \"3\",\n        },\n{\n            'v': 152,\n            'f': \"152\",\n        },\n{\n            'v': 277,\n            'f': \"277\",\n        },\n{\n            'v': 0,\n            'f': \"0\",\n        },\n{\n            'v': 0,\n            'f': \"0\",\n        },\n{\n            'v': 172,\n            'f': \"172\",\n        },\n{\n            'v': 0,\n            'f': \"0\",\n        },\n{\n            'v': 0.0,\n            'f': \"0.0\",\n        },\n{\n            'v': 1,\n            'f': \"1\",\n        },\n{\n            'v': 1.0,\n            'f': \"1.0\",\n        },\n{\n            'v': 3.0,\n            'f': \"3.0\",\n        },\n{\n            'v': 0,\n            'f': \"0\",\n        },\n{\n            'v': 0,\n            'f': \"0\",\n        },\n\"no\"],\n [{\n            'v': 228,\n            'f': \"228\",\n        },\n{\n            'v': 54,\n            'f': \"54\",\n        },\n\"male\",\n{\n            'v': 4,\n            'f': \"4\",\n        },\n{\n            'v': 110,\n            'f': \"110\",\n        },\n{\n            'v': 206,\n            'f': \"206\",\n        },\n{\n            'v': 0,\n            'f': \"0\",\n        },\n{\n            'v': 2,\n            'f': \"2\",\n        },\n{\n            'v': 108,\n            'f': \"108\",\n        },\n{\n            'v': 1,\n            'f': \"1\",\n        },\n{\n            'v': 0.0,\n            'f': \"0.0\",\n        },\n{\n            'v': 2,\n            'f': \"2\",\n        },\n{\n            'v': 1.0,\n            'f': \"1.0\",\n        },\n{\n            'v': 3.0,\n            'f': \"3.0\",\n        },\n{\n            'v': 3,\n            'f': \"3\",\n        },\n{\n            'v': 1,\n            'f': \"1\",\n        },\n\"yes\"],\n [{\n            'v': 229,\n            'f': \"229\",\n        },\n{\n            'v': 66,\n            'f': \"66\",\n        },\n\"male\",\n{\n            'v': 4,\n            'f': \"4\",\n        },\n{\n            'v': 112,\n            'f': \"112\",\n        },\n{\n            'v': 212,\n            'f': \"212\",\n        },\n{\n            'v': 0,\n            'f': \"0\",\n        },\n{\n            'v': 2,\n            'f': \"2\",\n        },\n{\n            'v': 132,\n            'f': \"132\",\n        },\n{\n            'v': 1,\n            'f': \"1\",\n        },\n{\n            'v': 0.1,\n            'f': \"0.1\",\n        },\n{\n            'v': 1,\n            'f': \"1\",\n        },\n{\n            'v': 1.0,\n            'f': \"1.0\",\n        },\n{\n            'v': 3.0,\n            'f': \"3.0\",\n        },\n{\n            'v': 2,\n            'f': \"2\",\n        },\n{\n            'v': 1,\n            'f': \"1\",\n        },\n\"yes\"],\n [{\n            'v': 230,\n            'f': \"230\",\n        },\n{\n            'v': 52,\n            'f': \"52\",\n        },\n\"female\",\n{\n            'v': 3,\n            'f': \"3\",\n        },\n{\n            'v': 136,\n            'f': \"136\",\n        },\n{\n            'v': 196,\n            'f': \"196\",\n        },\n{\n            'v': 0,\n            'f': \"0\",\n        },\n{\n            'v': 2,\n            'f': \"2\",\n        },\n{\n            'v': 169,\n            'f': \"169\",\n        },\n{\n            'v': 0,\n            'f': \"0\",\n        },\n{\n            'v': 0.1,\n            'f': \"0.1\",\n        },\n{\n            'v': 2,\n            'f': \"2\",\n        },\n{\n            'v': 0.0,\n            'f': \"0.0\",\n        },\n{\n            'v': 3.0,\n            'f': \"3.0\",\n        },\n{\n            'v': 0,\n            'f': \"0\",\n        },\n{\n            'v': 0,\n            'f': \"0\",\n        },\n\"no\"],\n [{\n            'v': 231,\n            'f': \"231\",\n        },\n{\n            'v': 55,\n            'f': \"55\",\n        },\n\"female\",\n{\n            'v': 4,\n            'f': \"4\",\n        },\n{\n            'v': 180,\n            'f': \"180\",\n        },\n{\n            'v': 327,\n            'f': \"327\",\n        },\n{\n            'v': 0,\n            'f': \"0\",\n        },\n{\n            'v': 1,\n            'f': \"1\",\n        },\n{\n            'v': 117,\n            'f': \"117\",\n        },\n{\n            'v': 1,\n            'f': \"1\",\n        },\n{\n            'v': 3.4,\n            'f': \"3.4\",\n        },\n{\n            'v': 2,\n            'f': \"2\",\n        },\n{\n            'v': 0.0,\n            'f': \"0.0\",\n        },\n{\n            'v': 3.0,\n            'f': \"3.0\",\n        },\n{\n            'v': 2,\n            'f': \"2\",\n        },\n{\n            'v': 1,\n            'f': \"1\",\n        },\n\"yes\"],\n [{\n            'v': 232,\n            'f': \"232\",\n        },\n{\n            'v': 49,\n            'f': \"49\",\n        },\n\"male\",\n{\n            'v': 3,\n            'f': \"3\",\n        },\n{\n            'v': 118,\n            'f': \"118\",\n        },\n{\n            'v': 149,\n            'f': \"149\",\n        },\n{\n            'v': 0,\n            'f': \"0\",\n        },\n{\n            'v': 2,\n            'f': \"2\",\n        },\n{\n            'v': 126,\n            'f': \"126\",\n        },\n{\n            'v': 0,\n            'f': \"0\",\n        },\n{\n            'v': 0.8,\n            'f': \"0.8\",\n        },\n{\n            'v': 1,\n            'f': \"1\",\n        },\n{\n            'v': 3.0,\n            'f': \"3.0\",\n        },\n{\n            'v': 3.0,\n            'f': \"3.0\",\n        },\n{\n            'v': 1,\n            'f': \"1\",\n        },\n{\n            'v': 0,\n            'f': \"0\",\n        },\n\"yes\"],\n [{\n            'v': 233,\n            'f': \"233\",\n        },\n{\n            'v': 74,\n            'f': \"74\",\n        },\n\"female\",\n{\n            'v': 2,\n            'f': \"2\",\n        },\n{\n            'v': 120,\n            'f': \"120\",\n        },\n{\n            'v': 269,\n            'f': \"269\",\n        },\n{\n            'v': 0,\n            'f': \"0\",\n        },\n{\n            'v': 2,\n            'f': \"2\",\n        },\n{\n            'v': 121,\n            'f': \"121\",\n        },\n{\n            'v': 1,\n            'f': \"1\",\n        },\n{\n            'v': 0.2,\n            'f': \"0.2\",\n        },\n{\n            'v': 1,\n            'f': \"1\",\n        },\n{\n            'v': 1.0,\n            'f': \"1.0\",\n        },\n{\n            'v': 3.0,\n            'f': \"3.0\",\n        },\n{\n            'v': 0,\n            'f': \"0\",\n        },\n{\n            'v': 1,\n            'f': \"1\",\n        },\n\"no\"],\n [{\n            'v': 234,\n            'f': \"234\",\n        },\n{\n            'v': 54,\n            'f': \"54\",\n        },\n\"female\",\n{\n            'v': 3,\n            'f': \"3\",\n        },\n{\n            'v': 160,\n            'f': \"160\",\n        },\n{\n            'v': 201,\n            'f': \"201\",\n        },\n{\n            'v': 0,\n            'f': \"0\",\n        },\n{\n            'v': 0,\n            'f': \"0\",\n        },\n{\n            'v': 163,\n            'f': \"163\",\n        },\n{\n            'v': 0,\n            'f': \"0\",\n        },\n{\n            'v': 0.0,\n            'f': \"0.0\",\n        },\n{\n            'v': 1,\n            'f': \"1\",\n        },\n{\n            'v': 1.0,\n            'f': \"1.0\",\n        },\n{\n            'v': 3.0,\n            'f': \"3.0\",\n        },\n{\n            'v': 0,\n            'f': \"0\",\n        },\n{\n            'v': 0,\n            'f': \"0\",\n        },\n\"no\"],\n [{\n            'v': 235,\n            'f': \"235\",\n        },\n{\n            'v': 54,\n            'f': \"54\",\n        },\n\"male\",\n{\n            'v': 4,\n            'f': \"4\",\n        },\n{\n            'v': 122,\n            'f': \"122\",\n        },\n{\n            'v': 286,\n            'f': \"286\",\n        },\n{\n            'v': 0,\n            'f': \"0\",\n        },\n{\n            'v': 2,\n            'f': \"2\",\n        },\n{\n            'v': 116,\n            'f': \"116\",\n        },\n{\n            'v': 1,\n            'f': \"1\",\n        },\n{\n            'v': 3.2,\n            'f': \"3.2\",\n        },\n{\n            'v': 2,\n            'f': \"2\",\n        },\n{\n            'v': 2.0,\n            'f': \"2.0\",\n        },\n{\n            'v': 3.0,\n            'f': \"3.0\",\n        },\n{\n            'v': 3,\n            'f': \"3\",\n        },\n{\n            'v': 1,\n            'f': \"1\",\n        },\n\"yes\"],\n [{\n            'v': 236,\n            'f': \"236\",\n        },\n{\n            'v': 56,\n            'f': \"56\",\n        },\n\"male\",\n{\n            'v': 4,\n            'f': \"4\",\n        },\n{\n            'v': 130,\n            'f': \"130\",\n        },\n{\n            'v': 283,\n            'f': \"283\",\n        },\n{\n            'v': 1,\n            'f': \"1\",\n        },\n{\n            'v': 2,\n            'f': \"2\",\n        },\n{\n            'v': 103,\n            'f': \"103\",\n        },\n{\n            'v': 1,\n            'f': \"1\",\n        },\n{\n            'v': 1.6,\n            'f': \"1.6\",\n        },\n{\n            'v': 3,\n            'f': \"3\",\n        },\n{\n            'v': 0.0,\n            'f': \"0.0\",\n        },\n{\n            'v': 7.0,\n            'f': \"7.0\",\n        },\n{\n            'v': 2,\n            'f': \"2\",\n        },\n{\n            'v': 1,\n            'f': \"1\",\n        },\n\"yes\"],\n [{\n            'v': 237,\n            'f': \"237\",\n        },\n{\n            'v': 46,\n            'f': \"46\",\n        },\n\"male\",\n{\n            'v': 4,\n            'f': \"4\",\n        },\n{\n            'v': 120,\n            'f': \"120\",\n        },\n{\n            'v': 249,\n            'f': \"249\",\n        },\n{\n            'v': 0,\n            'f': \"0\",\n        },\n{\n            'v': 2,\n            'f': \"2\",\n        },\n{\n            'v': 144,\n            'f': \"144\",\n        },\n{\n            'v': 0,\n            'f': \"0\",\n        },\n{\n            'v': 0.8,\n            'f': \"0.8\",\n        },\n{\n            'v': 1,\n            'f': \"1\",\n        },\n{\n            'v': 0.0,\n            'f': \"0.0\",\n        },\n{\n            'v': 7.0,\n            'f': \"7.0\",\n        },\n{\n            'v': 1,\n            'f': \"1\",\n        },\n{\n            'v': 0,\n            'f': \"0\",\n        },\n\"yes\"],\n [{\n            'v': 238,\n            'f': \"238\",\n        },\n{\n            'v': 49,\n            'f': \"49\",\n        },\n\"female\",\n{\n            'v': 2,\n            'f': \"2\",\n        },\n{\n            'v': 134,\n            'f': \"134\",\n        },\n{\n            'v': 271,\n            'f': \"271\",\n        },\n{\n            'v': 0,\n            'f': \"0\",\n        },\n{\n            'v': 0,\n            'f': \"0\",\n        },\n{\n            'v': 162,\n            'f': \"162\",\n        },\n{\n            'v': 0,\n            'f': \"0\",\n        },\n{\n            'v': 0.0,\n            'f': \"0.0\",\n        },\n{\n            'v': 2,\n            'f': \"2\",\n        },\n{\n            'v': 0.0,\n            'f': \"0.0\",\n        },\n{\n            'v': 3.0,\n            'f': \"3.0\",\n        },\n{\n            'v': 0,\n            'f': \"0\",\n        },\n{\n            'v': 0,\n            'f': \"0\",\n        },\n\"no\"],\n [{\n            'v': 239,\n            'f': \"239\",\n        },\n{\n            'v': 42,\n            'f': \"42\",\n        },\n\"male\",\n{\n            'v': 2,\n            'f': \"2\",\n        },\n{\n            'v': 120,\n            'f': \"120\",\n        },\n{\n            'v': 295,\n            'f': \"295\",\n        },\n{\n            'v': 0,\n            'f': \"0\",\n        },\n{\n            'v': 0,\n            'f': \"0\",\n        },\n{\n            'v': 162,\n            'f': \"162\",\n        },\n{\n            'v': 0,\n            'f': \"0\",\n        },\n{\n            'v': 0.0,\n            'f': \"0.0\",\n        },\n{\n            'v': 1,\n            'f': \"1\",\n        },\n{\n            'v': 0.0,\n            'f': \"0.0\",\n        },\n{\n            'v': 3.0,\n            'f': \"3.0\",\n        },\n{\n            'v': 0,\n            'f': \"0\",\n        },\n{\n            'v': 0,\n            'f': \"0\",\n        },\n\"no\"],\n [{\n            'v': 240,\n            'f': \"240\",\n        },\n{\n            'v': 41,\n            'f': \"41\",\n        },\n\"male\",\n{\n            'v': 2,\n            'f': \"2\",\n        },\n{\n            'v': 110,\n            'f': \"110\",\n        },\n{\n            'v': 235,\n            'f': \"235\",\n        },\n{\n            'v': 0,\n            'f': \"0\",\n        },\n{\n            'v': 0,\n            'f': \"0\",\n        },\n{\n            'v': 153,\n            'f': \"153\",\n        },\n{\n            'v': 0,\n            'f': \"0\",\n        },\n{\n            'v': 0.0,\n            'f': \"0.0\",\n        },\n{\n            'v': 1,\n            'f': \"1\",\n        },\n{\n            'v': 0.0,\n            'f': \"0.0\",\n        },\n{\n            'v': 3.0,\n            'f': \"3.0\",\n        },\n{\n            'v': 0,\n            'f': \"0\",\n        },\n{\n            'v': 0,\n            'f': \"0\",\n        },\n\"no\"],\n [{\n            'v': 241,\n            'f': \"241\",\n        },\n{\n            'v': 41,\n            'f': \"41\",\n        },\n\"female\",\n{\n            'v': 2,\n            'f': \"2\",\n        },\n{\n            'v': 126,\n            'f': \"126\",\n        },\n{\n            'v': 306,\n            'f': \"306\",\n        },\n{\n            'v': 0,\n            'f': \"0\",\n        },\n{\n            'v': 0,\n            'f': \"0\",\n        },\n{\n            'v': 163,\n            'f': \"163\",\n        },\n{\n            'v': 0,\n            'f': \"0\",\n        },\n{\n            'v': 0.0,\n            'f': \"0.0\",\n        },\n{\n            'v': 1,\n            'f': \"1\",\n        },\n{\n            'v': 0.0,\n            'f': \"0.0\",\n        },\n{\n            'v': 3.0,\n            'f': \"3.0\",\n        },\n{\n            'v': 0,\n            'f': \"0\",\n        },\n{\n            'v': 0,\n            'f': \"0\",\n        },\n\"no\"],\n [{\n            'v': 242,\n            'f': \"242\",\n        },\n{\n            'v': 49,\n            'f': \"49\",\n        },\n\"female\",\n{\n            'v': 4,\n            'f': \"4\",\n        },\n{\n            'v': 130,\n            'f': \"130\",\n        },\n{\n            'v': 269,\n            'f': \"269\",\n        },\n{\n            'v': 0,\n            'f': \"0\",\n        },\n{\n            'v': 0,\n            'f': \"0\",\n        },\n{\n            'v': 163,\n            'f': \"163\",\n        },\n{\n            'v': 0,\n            'f': \"0\",\n        },\n{\n            'v': 0.0,\n            'f': \"0.0\",\n        },\n{\n            'v': 1,\n            'f': \"1\",\n        },\n{\n            'v': 0.0,\n            'f': \"0.0\",\n        },\n{\n            'v': 3.0,\n            'f': \"3.0\",\n        },\n{\n            'v': 0,\n            'f': \"0\",\n        },\n{\n            'v': 0,\n            'f': \"0\",\n        },\n\"no\"],\n [{\n            'v': 243,\n            'f': \"243\",\n        },\n{\n            'v': 61,\n            'f': \"61\",\n        },\n\"male\",\n{\n            'v': 1,\n            'f': \"1\",\n        },\n{\n            'v': 134,\n            'f': \"134\",\n        },\n{\n            'v': 234,\n            'f': \"234\",\n        },\n{\n            'v': 0,\n            'f': \"0\",\n        },\n{\n            'v': 0,\n            'f': \"0\",\n        },\n{\n            'v': 145,\n            'f': \"145\",\n        },\n{\n            'v': 0,\n            'f': \"0\",\n        },\n{\n            'v': 2.6,\n            'f': \"2.6\",\n        },\n{\n            'v': 2,\n            'f': \"2\",\n        },\n{\n            'v': 2.0,\n            'f': \"2.0\",\n        },\n{\n            'v': 3.0,\n            'f': \"3.0\",\n        },\n{\n            'v': 2,\n            'f': \"2\",\n        },\n{\n            'v': 0,\n            'f': \"0\",\n        },\n\"yes\"],\n [{\n            'v': 244,\n            'f': \"244\",\n        },\n{\n            'v': 60,\n            'f': \"60\",\n        },\n\"female\",\n{\n            'v': 3,\n            'f': \"3\",\n        },\n{\n            'v': 120,\n            'f': \"120\",\n        },\n{\n            'v': 178,\n            'f': \"178\",\n        },\n{\n            'v': 1,\n            'f': \"1\",\n        },\n{\n            'v': 0,\n            'f': \"0\",\n        },\n{\n            'v': 96,\n            'f': \"96\",\n        },\n{\n            'v': 0,\n            'f': \"0\",\n        },\n{\n            'v': 0.0,\n            'f': \"0.0\",\n        },\n{\n            'v': 1,\n            'f': \"1\",\n        },\n{\n            'v': 0.0,\n            'f': \"0.0\",\n        },\n{\n            'v': 3.0,\n            'f': \"3.0\",\n        },\n{\n            'v': 0,\n            'f': \"0\",\n        },\n{\n            'v': 0,\n            'f': \"0\",\n        },\n\"no\"],\n [{\n            'v': 245,\n            'f': \"245\",\n        },\n{\n            'v': 67,\n            'f': \"67\",\n        },\n\"male\",\n{\n            'v': 4,\n            'f': \"4\",\n        },\n{\n            'v': 120,\n            'f': \"120\",\n        },\n{\n            'v': 237,\n            'f': \"237\",\n        },\n{\n            'v': 0,\n            'f': \"0\",\n        },\n{\n            'v': 0,\n            'f': \"0\",\n        },\n{\n            'v': 71,\n            'f': \"71\",\n        },\n{\n            'v': 0,\n            'f': \"0\",\n        },\n{\n            'v': 1.0,\n            'f': \"1.0\",\n        },\n{\n            'v': 2,\n            'f': \"2\",\n        },\n{\n            'v': 0.0,\n            'f': \"0.0\",\n        },\n{\n            'v': 3.0,\n            'f': \"3.0\",\n        },\n{\n            'v': 2,\n            'f': \"2\",\n        },\n{\n            'v': 0,\n            'f': \"0\",\n        },\n\"yes\"],\n [{\n            'v': 246,\n            'f': \"246\",\n        },\n{\n            'v': 58,\n            'f': \"58\",\n        },\n\"male\",\n{\n            'v': 4,\n            'f': \"4\",\n        },\n{\n            'v': 100,\n            'f': \"100\",\n        },\n{\n            'v': 234,\n            'f': \"234\",\n        },\n{\n            'v': 0,\n            'f': \"0\",\n        },\n{\n            'v': 0,\n            'f': \"0\",\n        },\n{\n            'v': 156,\n            'f': \"156\",\n        },\n{\n            'v': 0,\n            'f': \"0\",\n        },\n{\n            'v': 0.1,\n            'f': \"0.1\",\n        },\n{\n            'v': 1,\n            'f': \"1\",\n        },\n{\n            'v': 1.0,\n            'f': \"1.0\",\n        },\n{\n            'v': 7.0,\n            'f': \"7.0\",\n        },\n{\n            'v': 2,\n            'f': \"2\",\n        },\n{\n            'v': 0,\n            'f': \"0\",\n        },\n\"yes\"],\n [{\n            'v': 247,\n            'f': \"247\",\n        },\n{\n            'v': 47,\n            'f': \"47\",\n        },\n\"male\",\n{\n            'v': 4,\n            'f': \"4\",\n        },\n{\n            'v': 110,\n            'f': \"110\",\n        },\n{\n            'v': 275,\n            'f': \"275\",\n        },\n{\n            'v': 0,\n            'f': \"0\",\n        },\n{\n            'v': 2,\n            'f': \"2\",\n        },\n{\n            'v': 118,\n            'f': \"118\",\n        },\n{\n            'v': 1,\n            'f': \"1\",\n        },\n{\n            'v': 1.0,\n            'f': \"1.0\",\n        },\n{\n            'v': 2,\n            'f': \"2\",\n        },\n{\n            'v': 1.0,\n            'f': \"1.0\",\n        },\n{\n            'v': 3.0,\n            'f': \"3.0\",\n        },\n{\n            'v': 1,\n            'f': \"1\",\n        },\n{\n            'v': 1,\n            'f': \"1\",\n        },\n\"yes\"],\n [{\n            'v': 248,\n            'f': \"248\",\n        },\n{\n            'v': 52,\n            'f': \"52\",\n        },\n\"male\",\n{\n            'v': 4,\n            'f': \"4\",\n        },\n{\n            'v': 125,\n            'f': \"125\",\n        },\n{\n            'v': 212,\n            'f': \"212\",\n        },\n{\n            'v': 0,\n            'f': \"0\",\n        },\n{\n            'v': 0,\n            'f': \"0\",\n        },\n{\n            'v': 168,\n            'f': \"168\",\n        },\n{\n            'v': 0,\n            'f': \"0\",\n        },\n{\n            'v': 1.0,\n            'f': \"1.0\",\n        },\n{\n            'v': 1,\n            'f': \"1\",\n        },\n{\n            'v': 2.0,\n            'f': \"2.0\",\n        },\n{\n            'v': 7.0,\n            'f': \"7.0\",\n        },\n{\n            'v': 3,\n            'f': \"3\",\n        },\n{\n            'v': 0,\n            'f': \"0\",\n        },\n\"yes\"],\n [{\n            'v': 249,\n            'f': \"249\",\n        },\n{\n            'v': 62,\n            'f': \"62\",\n        },\n\"male\",\n{\n            'v': 2,\n            'f': \"2\",\n        },\n{\n            'v': 128,\n            'f': \"128\",\n        },\n{\n            'v': 208,\n            'f': \"208\",\n        },\n{\n            'v': 1,\n            'f': \"1\",\n        },\n{\n            'v': 2,\n            'f': \"2\",\n        },\n{\n            'v': 140,\n            'f': \"140\",\n        },\n{\n            'v': 0,\n            'f': \"0\",\n        },\n{\n            'v': 0.0,\n            'f': \"0.0\",\n        },\n{\n            'v': 1,\n            'f': \"1\",\n        },\n{\n            'v': 0.0,\n            'f': \"0.0\",\n        },\n{\n            'v': 3.0,\n            'f': \"3.0\",\n        },\n{\n            'v': 0,\n            'f': \"0\",\n        },\n{\n            'v': 0,\n            'f': \"0\",\n        },\n\"no\"],\n [{\n            'v': 250,\n            'f': \"250\",\n        },\n{\n            'v': 57,\n            'f': \"57\",\n        },\n\"male\",\n{\n            'v': 4,\n            'f': \"4\",\n        },\n{\n            'v': 110,\n            'f': \"110\",\n        },\n{\n            'v': 201,\n            'f': \"201\",\n        },\n{\n            'v': 0,\n            'f': \"0\",\n        },\n{\n            'v': 0,\n            'f': \"0\",\n        },\n{\n            'v': 126,\n            'f': \"126\",\n        },\n{\n            'v': 1,\n            'f': \"1\",\n        },\n{\n            'v': 1.5,\n            'f': \"1.5\",\n        },\n{\n            'v': 2,\n            'f': \"2\",\n        },\n{\n            'v': 0.0,\n            'f': \"0.0\",\n        },\n{\n            'v': 6.0,\n            'f': \"6.0\",\n        },\n{\n            'v': 0,\n            'f': \"0\",\n        },\n{\n            'v': 1,\n            'f': \"1\",\n        },\n\"no\"],\n [{\n            'v': 251,\n            'f': \"251\",\n        },\n{\n            'v': 58,\n            'f': \"58\",\n        },\n\"male\",\n{\n            'v': 4,\n            'f': \"4\",\n        },\n{\n            'v': 146,\n            'f': \"146\",\n        },\n{\n            'v': 218,\n            'f': \"218\",\n        },\n{\n            'v': 0,\n            'f': \"0\",\n        },\n{\n            'v': 0,\n            'f': \"0\",\n        },\n{\n            'v': 105,\n            'f': \"105\",\n        },\n{\n            'v': 0,\n            'f': \"0\",\n        },\n{\n            'v': 2.0,\n            'f': \"2.0\",\n        },\n{\n            'v': 2,\n            'f': \"2\",\n        },\n{\n            'v': 1.0,\n            'f': \"1.0\",\n        },\n{\n            'v': 7.0,\n            'f': \"7.0\",\n        },\n{\n            'v': 1,\n            'f': \"1\",\n        },\n{\n            'v': 0,\n            'f': \"0\",\n        },\n\"yes\"],\n [{\n            'v': 252,\n            'f': \"252\",\n        },\n{\n            'v': 64,\n            'f': \"64\",\n        },\n\"male\",\n{\n            'v': 4,\n            'f': \"4\",\n        },\n{\n            'v': 128,\n            'f': \"128\",\n        },\n{\n            'v': 263,\n            'f': \"263\",\n        },\n{\n            'v': 0,\n            'f': \"0\",\n        },\n{\n            'v': 0,\n            'f': \"0\",\n        },\n{\n            'v': 105,\n            'f': \"105\",\n        },\n{\n            'v': 1,\n            'f': \"1\",\n        },\n{\n            'v': 0.2,\n            'f': \"0.2\",\n        },\n{\n            'v': 2,\n            'f': \"2\",\n        },\n{\n            'v': 1.0,\n            'f': \"1.0\",\n        },\n{\n            'v': 7.0,\n            'f': \"7.0\",\n        },\n{\n            'v': 0,\n            'f': \"0\",\n        },\n{\n            'v': 1,\n            'f': \"1\",\n        },\n\"no\"],\n [{\n            'v': 253,\n            'f': \"253\",\n        },\n{\n            'v': 51,\n            'f': \"51\",\n        },\n\"female\",\n{\n            'v': 3,\n            'f': \"3\",\n        },\n{\n            'v': 120,\n            'f': \"120\",\n        },\n{\n            'v': 295,\n            'f': \"295\",\n        },\n{\n            'v': 0,\n            'f': \"0\",\n        },\n{\n            'v': 2,\n            'f': \"2\",\n        },\n{\n            'v': 157,\n            'f': \"157\",\n        },\n{\n            'v': 0,\n            'f': \"0\",\n        },\n{\n            'v': 0.6,\n            'f': \"0.6\",\n        },\n{\n            'v': 1,\n            'f': \"1\",\n        },\n{\n            'v': 0.0,\n            'f': \"0.0\",\n        },\n{\n            'v': 3.0,\n            'f': \"3.0\",\n        },\n{\n            'v': 0,\n            'f': \"0\",\n        },\n{\n            'v': 0,\n            'f': \"0\",\n        },\n\"no\"],\n [{\n            'v': 254,\n            'f': \"254\",\n        },\n{\n            'v': 43,\n            'f': \"43\",\n        },\n\"male\",\n{\n            'v': 4,\n            'f': \"4\",\n        },\n{\n            'v': 115,\n            'f': \"115\",\n        },\n{\n            'v': 303,\n            'f': \"303\",\n        },\n{\n            'v': 0,\n            'f': \"0\",\n        },\n{\n            'v': 0,\n            'f': \"0\",\n        },\n{\n            'v': 181,\n            'f': \"181\",\n        },\n{\n            'v': 0,\n            'f': \"0\",\n        },\n{\n            'v': 1.2,\n            'f': \"1.2\",\n        },\n{\n            'v': 2,\n            'f': \"2\",\n        },\n{\n            'v': 0.0,\n            'f': \"0.0\",\n        },\n{\n            'v': 3.0,\n            'f': \"3.0\",\n        },\n{\n            'v': 0,\n            'f': \"0\",\n        },\n{\n            'v': 0,\n            'f': \"0\",\n        },\n\"no\"],\n [{\n            'v': 255,\n            'f': \"255\",\n        },\n{\n            'v': 42,\n            'f': \"42\",\n        },\n\"female\",\n{\n            'v': 3,\n            'f': \"3\",\n        },\n{\n            'v': 120,\n            'f': \"120\",\n        },\n{\n            'v': 209,\n            'f': \"209\",\n        },\n{\n            'v': 0,\n            'f': \"0\",\n        },\n{\n            'v': 0,\n            'f': \"0\",\n        },\n{\n            'v': 173,\n            'f': \"173\",\n        },\n{\n            'v': 0,\n            'f': \"0\",\n        },\n{\n            'v': 0.0,\n            'f': \"0.0\",\n        },\n{\n            'v': 2,\n            'f': \"2\",\n        },\n{\n            'v': 0.0,\n            'f': \"0.0\",\n        },\n{\n            'v': 3.0,\n            'f': \"3.0\",\n        },\n{\n            'v': 0,\n            'f': \"0\",\n        },\n{\n            'v': 0,\n            'f': \"0\",\n        },\n\"no\"],\n [{\n            'v': 256,\n            'f': \"256\",\n        },\n{\n            'v': 67,\n            'f': \"67\",\n        },\n\"female\",\n{\n            'v': 4,\n            'f': \"4\",\n        },\n{\n            'v': 106,\n            'f': \"106\",\n        },\n{\n            'v': 223,\n            'f': \"223\",\n        },\n{\n            'v': 0,\n            'f': \"0\",\n        },\n{\n            'v': 0,\n            'f': \"0\",\n        },\n{\n            'v': 142,\n            'f': \"142\",\n        },\n{\n            'v': 0,\n            'f': \"0\",\n        },\n{\n            'v': 0.3,\n            'f': \"0.3\",\n        },\n{\n            'v': 1,\n            'f': \"1\",\n        },\n{\n            'v': 2.0,\n            'f': \"2.0\",\n        },\n{\n            'v': 3.0,\n            'f': \"3.0\",\n        },\n{\n            'v': 0,\n            'f': \"0\",\n        },\n{\n            'v': 0,\n            'f': \"0\",\n        },\n\"no\"],\n [{\n            'v': 257,\n            'f': \"257\",\n        },\n{\n            'v': 76,\n            'f': \"76\",\n        },\n\"female\",\n{\n            'v': 3,\n            'f': \"3\",\n        },\n{\n            'v': 140,\n            'f': \"140\",\n        },\n{\n            'v': 197,\n            'f': \"197\",\n        },\n{\n            'v': 0,\n            'f': \"0\",\n        },\n{\n            'v': 1,\n            'f': \"1\",\n        },\n{\n            'v': 116,\n            'f': \"116\",\n        },\n{\n            'v': 0,\n            'f': \"0\",\n        },\n{\n            'v': 1.1,\n            'f': \"1.1\",\n        },\n{\n            'v': 2,\n            'f': \"2\",\n        },\n{\n            'v': 0.0,\n            'f': \"0.0\",\n        },\n{\n            'v': 3.0,\n            'f': \"3.0\",\n        },\n{\n            'v': 0,\n            'f': \"0\",\n        },\n{\n            'v': 0,\n            'f': \"0\",\n        },\n\"no\"],\n [{\n            'v': 258,\n            'f': \"258\",\n        },\n{\n            'v': 70,\n            'f': \"70\",\n        },\n\"male\",\n{\n            'v': 2,\n            'f': \"2\",\n        },\n{\n            'v': 156,\n            'f': \"156\",\n        },\n{\n            'v': 245,\n            'f': \"245\",\n        },\n{\n            'v': 0,\n            'f': \"0\",\n        },\n{\n            'v': 2,\n            'f': \"2\",\n        },\n{\n            'v': 143,\n            'f': \"143\",\n        },\n{\n            'v': 0,\n            'f': \"0\",\n        },\n{\n            'v': 0.0,\n            'f': \"0.0\",\n        },\n{\n            'v': 1,\n            'f': \"1\",\n        },\n{\n            'v': 0.0,\n            'f': \"0.0\",\n        },\n{\n            'v': 3.0,\n            'f': \"3.0\",\n        },\n{\n            'v': 0,\n            'f': \"0\",\n        },\n{\n            'v': 0,\n            'f': \"0\",\n        },\n\"no\"],\n [{\n            'v': 259,\n            'f': \"259\",\n        },\n{\n            'v': 57,\n            'f': \"57\",\n        },\n\"male\",\n{\n            'v': 2,\n            'f': \"2\",\n        },\n{\n            'v': 124,\n            'f': \"124\",\n        },\n{\n            'v': 261,\n            'f': \"261\",\n        },\n{\n            'v': 0,\n            'f': \"0\",\n        },\n{\n            'v': 0,\n            'f': \"0\",\n        },\n{\n            'v': 141,\n            'f': \"141\",\n        },\n{\n            'v': 0,\n            'f': \"0\",\n        },\n{\n            'v': 0.3,\n            'f': \"0.3\",\n        },\n{\n            'v': 1,\n            'f': \"1\",\n        },\n{\n            'v': 0.0,\n            'f': \"0.0\",\n        },\n{\n            'v': 7.0,\n            'f': \"7.0\",\n        },\n{\n            'v': 1,\n            'f': \"1\",\n        },\n{\n            'v': 0,\n            'f': \"0\",\n        },\n\"yes\"],\n [{\n            'v': 260,\n            'f': \"260\",\n        },\n{\n            'v': 44,\n            'f': \"44\",\n        },\n\"female\",\n{\n            'v': 3,\n            'f': \"3\",\n        },\n{\n            'v': 118,\n            'f': \"118\",\n        },\n{\n            'v': 242,\n            'f': \"242\",\n        },\n{\n            'v': 0,\n            'f': \"0\",\n        },\n{\n            'v': 0,\n            'f': \"0\",\n        },\n{\n            'v': 149,\n            'f': \"149\",\n        },\n{\n            'v': 0,\n            'f': \"0\",\n        },\n{\n            'v': 0.3,\n            'f': \"0.3\",\n        },\n{\n            'v': 2,\n            'f': \"2\",\n        },\n{\n            'v': 1.0,\n            'f': \"1.0\",\n        },\n{\n            'v': 3.0,\n            'f': \"3.0\",\n        },\n{\n            'v': 0,\n            'f': \"0\",\n        },\n{\n            'v': 0,\n            'f': \"0\",\n        },\n\"no\"],\n [{\n            'v': 261,\n            'f': \"261\",\n        },\n{\n            'v': 58,\n            'f': \"58\",\n        },\n\"female\",\n{\n            'v': 2,\n            'f': \"2\",\n        },\n{\n            'v': 136,\n            'f': \"136\",\n        },\n{\n            'v': 319,\n            'f': \"319\",\n        },\n{\n            'v': 1,\n            'f': \"1\",\n        },\n{\n            'v': 2,\n            'f': \"2\",\n        },\n{\n            'v': 152,\n            'f': \"152\",\n        },\n{\n            'v': 0,\n            'f': \"0\",\n        },\n{\n            'v': 0.0,\n            'f': \"0.0\",\n        },\n{\n            'v': 1,\n            'f': \"1\",\n        },\n{\n            'v': 2.0,\n            'f': \"2.0\",\n        },\n{\n            'v': 3.0,\n            'f': \"3.0\",\n        },\n{\n            'v': 3,\n            'f': \"3\",\n        },\n{\n            'v': 0,\n            'f': \"0\",\n        },\n\"yes\"],\n [{\n            'v': 262,\n            'f': \"262\",\n        },\n{\n            'v': 60,\n            'f': \"60\",\n        },\n\"female\",\n{\n            'v': 1,\n            'f': \"1\",\n        },\n{\n            'v': 150,\n            'f': \"150\",\n        },\n{\n            'v': 240,\n            'f': \"240\",\n        },\n{\n            'v': 0,\n            'f': \"0\",\n        },\n{\n            'v': 0,\n            'f': \"0\",\n        },\n{\n            'v': 171,\n            'f': \"171\",\n        },\n{\n            'v': 0,\n            'f': \"0\",\n        },\n{\n            'v': 0.9,\n            'f': \"0.9\",\n        },\n{\n            'v': 1,\n            'f': \"1\",\n        },\n{\n            'v': 0.0,\n            'f': \"0.0\",\n        },\n{\n            'v': 3.0,\n            'f': \"3.0\",\n        },\n{\n            'v': 0,\n            'f': \"0\",\n        },\n{\n            'v': 0,\n            'f': \"0\",\n        },\n\"no\"],\n [{\n            'v': 263,\n            'f': \"263\",\n        },\n{\n            'v': 44,\n            'f': \"44\",\n        },\n\"male\",\n{\n            'v': 3,\n            'f': \"3\",\n        },\n{\n            'v': 120,\n            'f': \"120\",\n        },\n{\n            'v': 226,\n            'f': \"226\",\n        },\n{\n            'v': 0,\n            'f': \"0\",\n        },\n{\n            'v': 0,\n            'f': \"0\",\n        },\n{\n            'v': 169,\n            'f': \"169\",\n        },\n{\n            'v': 0,\n            'f': \"0\",\n        },\n{\n            'v': 0.0,\n            'f': \"0.0\",\n        },\n{\n            'v': 1,\n            'f': \"1\",\n        },\n{\n            'v': 0.0,\n            'f': \"0.0\",\n        },\n{\n            'v': 3.0,\n            'f': \"3.0\",\n        },\n{\n            'v': 0,\n            'f': \"0\",\n        },\n{\n            'v': 0,\n            'f': \"0\",\n        },\n\"no\"],\n [{\n            'v': 264,\n            'f': \"264\",\n        },\n{\n            'v': 61,\n            'f': \"61\",\n        },\n\"male\",\n{\n            'v': 4,\n            'f': \"4\",\n        },\n{\n            'v': 138,\n            'f': \"138\",\n        },\n{\n            'v': 166,\n            'f': \"166\",\n        },\n{\n            'v': 0,\n            'f': \"0\",\n        },\n{\n            'v': 2,\n            'f': \"2\",\n        },\n{\n            'v': 125,\n            'f': \"125\",\n        },\n{\n            'v': 1,\n            'f': \"1\",\n        },\n{\n            'v': 3.6,\n            'f': \"3.6\",\n        },\n{\n            'v': 2,\n            'f': \"2\",\n        },\n{\n            'v': 1.0,\n            'f': \"1.0\",\n        },\n{\n            'v': 3.0,\n            'f': \"3.0\",\n        },\n{\n            'v': 4,\n            'f': \"4\",\n        },\n{\n            'v': 1,\n            'f': \"1\",\n        },\n\"yes\"],\n [{\n            'v': 265,\n            'f': \"265\",\n        },\n{\n            'v': 42,\n            'f': \"42\",\n        },\n\"male\",\n{\n            'v': 4,\n            'f': \"4\",\n        },\n{\n            'v': 136,\n            'f': \"136\",\n        },\n{\n            'v': 315,\n            'f': \"315\",\n        },\n{\n            'v': 0,\n            'f': \"0\",\n        },\n{\n            'v': 0,\n            'f': \"0\",\n        },\n{\n            'v': 125,\n            'f': \"125\",\n        },\n{\n            'v': 1,\n            'f': \"1\",\n        },\n{\n            'v': 1.8,\n            'f': \"1.8\",\n        },\n{\n            'v': 2,\n            'f': \"2\",\n        },\n{\n            'v': 0.0,\n            'f': \"0.0\",\n        },\n{\n            'v': 6.0,\n            'f': \"6.0\",\n        },\n{\n            'v': 2,\n            'f': \"2\",\n        },\n{\n            'v': 1,\n            'f': \"1\",\n        },\n\"yes\"],\n [{\n            'v': 266,\n            'f': \"266\",\n        },\n{\n            'v': 52,\n            'f': \"52\",\n        },\n\"male\",\n{\n            'v': 4,\n            'f': \"4\",\n        },\n{\n            'v': 128,\n            'f': \"128\",\n        },\n{\n            'v': 204,\n            'f': \"204\",\n        },\n{\n            'v': 1,\n            'f': \"1\",\n        },\n{\n            'v': 0,\n            'f': \"0\",\n        },\n{\n            'v': 156,\n            'f': \"156\",\n        },\n{\n            'v': 1,\n            'f': \"1\",\n        },\n{\n            'v': 1.0,\n            'f': \"1.0\",\n        },\n{\n            'v': 2,\n            'f': \"2\",\n        },\n{\n            'v': 0.0,\n            'f': \"0.0\",\n        },\n{\n            'v': NaN,\n            'f': \"NaN\",\n        },\n{\n            'v': 2,\n            'f': \"2\",\n        },\n{\n            'v': 1,\n            'f': \"1\",\n        },\n\"yes\"],\n [{\n            'v': 267,\n            'f': \"267\",\n        },\n{\n            'v': 59,\n            'f': \"59\",\n        },\n\"male\",\n{\n            'v': 3,\n            'f': \"3\",\n        },\n{\n            'v': 126,\n            'f': \"126\",\n        },\n{\n            'v': 218,\n            'f': \"218\",\n        },\n{\n            'v': 1,\n            'f': \"1\",\n        },\n{\n            'v': 0,\n            'f': \"0\",\n        },\n{\n            'v': 134,\n            'f': \"134\",\n        },\n{\n            'v': 0,\n            'f': \"0\",\n        },\n{\n            'v': 2.2,\n            'f': \"2.2\",\n        },\n{\n            'v': 2,\n            'f': \"2\",\n        },\n{\n            'v': 1.0,\n            'f': \"1.0\",\n        },\n{\n            'v': 6.0,\n            'f': \"6.0\",\n        },\n{\n            'v': 2,\n            'f': \"2\",\n        },\n{\n            'v': 0,\n            'f': \"0\",\n        },\n\"yes\"],\n [{\n            'v': 268,\n            'f': \"268\",\n        },\n{\n            'v': 40,\n            'f': \"40\",\n        },\n\"male\",\n{\n            'v': 4,\n            'f': \"4\",\n        },\n{\n            'v': 152,\n            'f': \"152\",\n        },\n{\n            'v': 223,\n            'f': \"223\",\n        },\n{\n            'v': 0,\n            'f': \"0\",\n        },\n{\n            'v': 0,\n            'f': \"0\",\n        },\n{\n            'v': 181,\n            'f': \"181\",\n        },\n{\n            'v': 0,\n            'f': \"0\",\n        },\n{\n            'v': 0.0,\n            'f': \"0.0\",\n        },\n{\n            'v': 1,\n            'f': \"1\",\n        },\n{\n            'v': 0.0,\n            'f': \"0.0\",\n        },\n{\n            'v': 7.0,\n            'f': \"7.0\",\n        },\n{\n            'v': 1,\n            'f': \"1\",\n        },\n{\n            'v': 0,\n            'f': \"0\",\n        },\n\"yes\"],\n [{\n            'v': 269,\n            'f': \"269\",\n        },\n{\n            'v': 42,\n            'f': \"42\",\n        },\n\"male\",\n{\n            'v': 3,\n            'f': \"3\",\n        },\n{\n            'v': 130,\n            'f': \"130\",\n        },\n{\n            'v': 180,\n            'f': \"180\",\n        },\n{\n            'v': 0,\n            'f': \"0\",\n        },\n{\n            'v': 0,\n            'f': \"0\",\n        },\n{\n            'v': 150,\n            'f': \"150\",\n        },\n{\n            'v': 0,\n            'f': \"0\",\n        },\n{\n            'v': 0.0,\n            'f': \"0.0\",\n        },\n{\n            'v': 1,\n            'f': \"1\",\n        },\n{\n            'v': 0.0,\n            'f': \"0.0\",\n        },\n{\n            'v': 3.0,\n            'f': \"3.0\",\n        },\n{\n            'v': 0,\n            'f': \"0\",\n        },\n{\n            'v': 0,\n            'f': \"0\",\n        },\n\"no\"],\n [{\n            'v': 270,\n            'f': \"270\",\n        },\n{\n            'v': 61,\n            'f': \"61\",\n        },\n\"male\",\n{\n            'v': 4,\n            'f': \"4\",\n        },\n{\n            'v': 140,\n            'f': \"140\",\n        },\n{\n            'v': 207,\n            'f': \"207\",\n        },\n{\n            'v': 0,\n            'f': \"0\",\n        },\n{\n            'v': 2,\n            'f': \"2\",\n        },\n{\n            'v': 138,\n            'f': \"138\",\n        },\n{\n            'v': 1,\n            'f': \"1\",\n        },\n{\n            'v': 1.9,\n            'f': \"1.9\",\n        },\n{\n            'v': 1,\n            'f': \"1\",\n        },\n{\n            'v': 1.0,\n            'f': \"1.0\",\n        },\n{\n            'v': 7.0,\n            'f': \"7.0\",\n        },\n{\n            'v': 1,\n            'f': \"1\",\n        },\n{\n            'v': 1,\n            'f': \"1\",\n        },\n\"yes\"],\n [{\n            'v': 271,\n            'f': \"271\",\n        },\n{\n            'v': 66,\n            'f': \"66\",\n        },\n\"male\",\n{\n            'v': 4,\n            'f': \"4\",\n        },\n{\n            'v': 160,\n            'f': \"160\",\n        },\n{\n            'v': 228,\n            'f': \"228\",\n        },\n{\n            'v': 0,\n            'f': \"0\",\n        },\n{\n            'v': 2,\n            'f': \"2\",\n        },\n{\n            'v': 138,\n            'f': \"138\",\n        },\n{\n            'v': 0,\n            'f': \"0\",\n        },\n{\n            'v': 2.3,\n            'f': \"2.3\",\n        },\n{\n            'v': 1,\n            'f': \"1\",\n        },\n{\n            'v': 0.0,\n            'f': \"0.0\",\n        },\n{\n            'v': 6.0,\n            'f': \"6.0\",\n        },\n{\n            'v': 0,\n            'f': \"0\",\n        },\n{\n            'v': 0,\n            'f': \"0\",\n        },\n\"no\"],\n [{\n            'v': 272,\n            'f': \"272\",\n        },\n{\n            'v': 46,\n            'f': \"46\",\n        },\n\"male\",\n{\n            'v': 4,\n            'f': \"4\",\n        },\n{\n            'v': 140,\n            'f': \"140\",\n        },\n{\n            'v': 311,\n            'f': \"311\",\n        },\n{\n            'v': 0,\n            'f': \"0\",\n        },\n{\n            'v': 0,\n            'f': \"0\",\n        },\n{\n            'v': 120,\n            'f': \"120\",\n        },\n{\n            'v': 1,\n            'f': \"1\",\n        },\n{\n            'v': 1.8,\n            'f': \"1.8\",\n        },\n{\n            'v': 2,\n            'f': \"2\",\n        },\n{\n            'v': 2.0,\n            'f': \"2.0\",\n        },\n{\n            'v': 7.0,\n            'f': \"7.0\",\n        },\n{\n            'v': 2,\n            'f': \"2\",\n        },\n{\n            'v': 1,\n            'f': \"1\",\n        },\n\"yes\"],\n [{\n            'v': 273,\n            'f': \"273\",\n        },\n{\n            'v': 71,\n            'f': \"71\",\n        },\n\"female\",\n{\n            'v': 4,\n            'f': \"4\",\n        },\n{\n            'v': 112,\n            'f': \"112\",\n        },\n{\n            'v': 149,\n            'f': \"149\",\n        },\n{\n            'v': 0,\n            'f': \"0\",\n        },\n{\n            'v': 0,\n            'f': \"0\",\n        },\n{\n            'v': 125,\n            'f': \"125\",\n        },\n{\n            'v': 0,\n            'f': \"0\",\n        },\n{\n            'v': 1.6,\n            'f': \"1.6\",\n        },\n{\n            'v': 2,\n            'f': \"2\",\n        },\n{\n            'v': 0.0,\n            'f': \"0.0\",\n        },\n{\n            'v': 3.0,\n            'f': \"3.0\",\n        },\n{\n            'v': 0,\n            'f': \"0\",\n        },\n{\n            'v': 0,\n            'f': \"0\",\n        },\n\"no\"],\n [{\n            'v': 274,\n            'f': \"274\",\n        },\n{\n            'v': 59,\n            'f': \"59\",\n        },\n\"male\",\n{\n            'v': 1,\n            'f': \"1\",\n        },\n{\n            'v': 134,\n            'f': \"134\",\n        },\n{\n            'v': 204,\n            'f': \"204\",\n        },\n{\n            'v': 0,\n            'f': \"0\",\n        },\n{\n            'v': 0,\n            'f': \"0\",\n        },\n{\n            'v': 162,\n            'f': \"162\",\n        },\n{\n            'v': 0,\n            'f': \"0\",\n        },\n{\n            'v': 0.8,\n            'f': \"0.8\",\n        },\n{\n            'v': 1,\n            'f': \"1\",\n        },\n{\n            'v': 2.0,\n            'f': \"2.0\",\n        },\n{\n            'v': 3.0,\n            'f': \"3.0\",\n        },\n{\n            'v': 1,\n            'f': \"1\",\n        },\n{\n            'v': 0,\n            'f': \"0\",\n        },\n\"yes\"],\n [{\n            'v': 275,\n            'f': \"275\",\n        },\n{\n            'v': 64,\n            'f': \"64\",\n        },\n\"male\",\n{\n            'v': 1,\n            'f': \"1\",\n        },\n{\n            'v': 170,\n            'f': \"170\",\n        },\n{\n            'v': 227,\n            'f': \"227\",\n        },\n{\n            'v': 0,\n            'f': \"0\",\n        },\n{\n            'v': 2,\n            'f': \"2\",\n        },\n{\n            'v': 155,\n            'f': \"155\",\n        },\n{\n            'v': 0,\n            'f': \"0\",\n        },\n{\n            'v': 0.6,\n            'f': \"0.6\",\n        },\n{\n            'v': 2,\n            'f': \"2\",\n        },\n{\n            'v': 0.0,\n            'f': \"0.0\",\n        },\n{\n            'v': 7.0,\n            'f': \"7.0\",\n        },\n{\n            'v': 0,\n            'f': \"0\",\n        },\n{\n            'v': 0,\n            'f': \"0\",\n        },\n\"no\"],\n [{\n            'v': 276,\n            'f': \"276\",\n        },\n{\n            'v': 66,\n            'f': \"66\",\n        },\n\"female\",\n{\n            'v': 3,\n            'f': \"3\",\n        },\n{\n            'v': 146,\n            'f': \"146\",\n        },\n{\n            'v': 278,\n            'f': \"278\",\n        },\n{\n            'v': 0,\n            'f': \"0\",\n        },\n{\n            'v': 2,\n            'f': \"2\",\n        },\n{\n            'v': 152,\n            'f': \"152\",\n        },\n{\n            'v': 0,\n            'f': \"0\",\n        },\n{\n            'v': 0.0,\n            'f': \"0.0\",\n        },\n{\n            'v': 2,\n            'f': \"2\",\n        },\n{\n            'v': 1.0,\n            'f': \"1.0\",\n        },\n{\n            'v': 3.0,\n            'f': \"3.0\",\n        },\n{\n            'v': 0,\n            'f': \"0\",\n        },\n{\n            'v': 0,\n            'f': \"0\",\n        },\n\"no\"],\n [{\n            'v': 277,\n            'f': \"277\",\n        },\n{\n            'v': 39,\n            'f': \"39\",\n        },\n\"female\",\n{\n            'v': 3,\n            'f': \"3\",\n        },\n{\n            'v': 138,\n            'f': \"138\",\n        },\n{\n            'v': 220,\n            'f': \"220\",\n        },\n{\n            'v': 0,\n            'f': \"0\",\n        },\n{\n            'v': 0,\n            'f': \"0\",\n        },\n{\n            'v': 152,\n            'f': \"152\",\n        },\n{\n            'v': 0,\n            'f': \"0\",\n        },\n{\n            'v': 0.0,\n            'f': \"0.0\",\n        },\n{\n            'v': 2,\n            'f': \"2\",\n        },\n{\n            'v': 0.0,\n            'f': \"0.0\",\n        },\n{\n            'v': 3.0,\n            'f': \"3.0\",\n        },\n{\n            'v': 0,\n            'f': \"0\",\n        },\n{\n            'v': 0,\n            'f': \"0\",\n        },\n\"no\"],\n [{\n            'v': 278,\n            'f': \"278\",\n        },\n{\n            'v': 57,\n            'f': \"57\",\n        },\n\"male\",\n{\n            'v': 2,\n            'f': \"2\",\n        },\n{\n            'v': 154,\n            'f': \"154\",\n        },\n{\n            'v': 232,\n            'f': \"232\",\n        },\n{\n            'v': 0,\n            'f': \"0\",\n        },\n{\n            'v': 2,\n            'f': \"2\",\n        },\n{\n            'v': 164,\n            'f': \"164\",\n        },\n{\n            'v': 0,\n            'f': \"0\",\n        },\n{\n            'v': 0.0,\n            'f': \"0.0\",\n        },\n{\n            'v': 1,\n            'f': \"1\",\n        },\n{\n            'v': 1.0,\n            'f': \"1.0\",\n        },\n{\n            'v': 3.0,\n            'f': \"3.0\",\n        },\n{\n            'v': 1,\n            'f': \"1\",\n        },\n{\n            'v': 0,\n            'f': \"0\",\n        },\n\"yes\"],\n [{\n            'v': 279,\n            'f': \"279\",\n        },\n{\n            'v': 58,\n            'f': \"58\",\n        },\n\"female\",\n{\n            'v': 4,\n            'f': \"4\",\n        },\n{\n            'v': 130,\n            'f': \"130\",\n        },\n{\n            'v': 197,\n            'f': \"197\",\n        },\n{\n            'v': 0,\n            'f': \"0\",\n        },\n{\n            'v': 0,\n            'f': \"0\",\n        },\n{\n            'v': 131,\n            'f': \"131\",\n        },\n{\n            'v': 0,\n            'f': \"0\",\n        },\n{\n            'v': 0.6,\n            'f': \"0.6\",\n        },\n{\n            'v': 2,\n            'f': \"2\",\n        },\n{\n            'v': 0.0,\n            'f': \"0.0\",\n        },\n{\n            'v': 3.0,\n            'f': \"3.0\",\n        },\n{\n            'v': 0,\n            'f': \"0\",\n        },\n{\n            'v': 0,\n            'f': \"0\",\n        },\n\"no\"],\n [{\n            'v': 280,\n            'f': \"280\",\n        },\n{\n            'v': 57,\n            'f': \"57\",\n        },\n\"male\",\n{\n            'v': 4,\n            'f': \"4\",\n        },\n{\n            'v': 110,\n            'f': \"110\",\n        },\n{\n            'v': 335,\n            'f': \"335\",\n        },\n{\n            'v': 0,\n            'f': \"0\",\n        },\n{\n            'v': 0,\n            'f': \"0\",\n        },\n{\n            'v': 143,\n            'f': \"143\",\n        },\n{\n            'v': 1,\n            'f': \"1\",\n        },\n{\n            'v': 3.0,\n            'f': \"3.0\",\n        },\n{\n            'v': 2,\n            'f': \"2\",\n        },\n{\n            'v': 1.0,\n            'f': \"1.0\",\n        },\n{\n            'v': 7.0,\n            'f': \"7.0\",\n        },\n{\n            'v': 2,\n            'f': \"2\",\n        },\n{\n            'v': 1,\n            'f': \"1\",\n        },\n\"yes\"],\n [{\n            'v': 281,\n            'f': \"281\",\n        },\n{\n            'v': 47,\n            'f': \"47\",\n        },\n\"male\",\n{\n            'v': 3,\n            'f': \"3\",\n        },\n{\n            'v': 130,\n            'f': \"130\",\n        },\n{\n            'v': 253,\n            'f': \"253\",\n        },\n{\n            'v': 0,\n            'f': \"0\",\n        },\n{\n            'v': 0,\n            'f': \"0\",\n        },\n{\n            'v': 179,\n            'f': \"179\",\n        },\n{\n            'v': 0,\n            'f': \"0\",\n        },\n{\n            'v': 0.0,\n            'f': \"0.0\",\n        },\n{\n            'v': 1,\n            'f': \"1\",\n        },\n{\n            'v': 0.0,\n            'f': \"0.0\",\n        },\n{\n            'v': 3.0,\n            'f': \"3.0\",\n        },\n{\n            'v': 0,\n            'f': \"0\",\n        },\n{\n            'v': 0,\n            'f': \"0\",\n        },\n\"no\"],\n [{\n            'v': 282,\n            'f': \"282\",\n        },\n{\n            'v': 55,\n            'f': \"55\",\n        },\n\"female\",\n{\n            'v': 4,\n            'f': \"4\",\n        },\n{\n            'v': 128,\n            'f': \"128\",\n        },\n{\n            'v': 205,\n            'f': \"205\",\n        },\n{\n            'v': 0,\n            'f': \"0\",\n        },\n{\n            'v': 1,\n            'f': \"1\",\n        },\n{\n            'v': 130,\n            'f': \"130\",\n        },\n{\n            'v': 1,\n            'f': \"1\",\n        },\n{\n            'v': 2.0,\n            'f': \"2.0\",\n        },\n{\n            'v': 2,\n            'f': \"2\",\n        },\n{\n            'v': 1.0,\n            'f': \"1.0\",\n        },\n{\n            'v': 7.0,\n            'f': \"7.0\",\n        },\n{\n            'v': 3,\n            'f': \"3\",\n        },\n{\n            'v': 1,\n            'f': \"1\",\n        },\n\"yes\"],\n [{\n            'v': 283,\n            'f': \"283\",\n        },\n{\n            'v': 35,\n            'f': \"35\",\n        },\n\"male\",\n{\n            'v': 2,\n            'f': \"2\",\n        },\n{\n            'v': 122,\n            'f': \"122\",\n        },\n{\n            'v': 192,\n            'f': \"192\",\n        },\n{\n            'v': 0,\n            'f': \"0\",\n        },\n{\n            'v': 0,\n            'f': \"0\",\n        },\n{\n            'v': 174,\n            'f': \"174\",\n        },\n{\n            'v': 0,\n            'f': \"0\",\n        },\n{\n            'v': 0.0,\n            'f': \"0.0\",\n        },\n{\n            'v': 1,\n            'f': \"1\",\n        },\n{\n            'v': 0.0,\n            'f': \"0.0\",\n        },\n{\n            'v': 3.0,\n            'f': \"3.0\",\n        },\n{\n            'v': 0,\n            'f': \"0\",\n        },\n{\n            'v': 0,\n            'f': \"0\",\n        },\n\"no\"],\n [{\n            'v': 284,\n            'f': \"284\",\n        },\n{\n            'v': 61,\n            'f': \"61\",\n        },\n\"male\",\n{\n            'v': 4,\n            'f': \"4\",\n        },\n{\n            'v': 148,\n            'f': \"148\",\n        },\n{\n            'v': 203,\n            'f': \"203\",\n        },\n{\n            'v': 0,\n            'f': \"0\",\n        },\n{\n            'v': 0,\n            'f': \"0\",\n        },\n{\n            'v': 161,\n            'f': \"161\",\n        },\n{\n            'v': 0,\n            'f': \"0\",\n        },\n{\n            'v': 0.0,\n            'f': \"0.0\",\n        },\n{\n            'v': 1,\n            'f': \"1\",\n        },\n{\n            'v': 1.0,\n            'f': \"1.0\",\n        },\n{\n            'v': 7.0,\n            'f': \"7.0\",\n        },\n{\n            'v': 2,\n            'f': \"2\",\n        },\n{\n            'v': 0,\n            'f': \"0\",\n        },\n\"yes\"],\n [{\n            'v': 285,\n            'f': \"285\",\n        },\n{\n            'v': 58,\n            'f': \"58\",\n        },\n\"male\",\n{\n            'v': 4,\n            'f': \"4\",\n        },\n{\n            'v': 114,\n            'f': \"114\",\n        },\n{\n            'v': 318,\n            'f': \"318\",\n        },\n{\n            'v': 0,\n            'f': \"0\",\n        },\n{\n            'v': 1,\n            'f': \"1\",\n        },\n{\n            'v': 140,\n            'f': \"140\",\n        },\n{\n            'v': 0,\n            'f': \"0\",\n        },\n{\n            'v': 4.4,\n            'f': \"4.4\",\n        },\n{\n            'v': 3,\n            'f': \"3\",\n        },\n{\n            'v': 3.0,\n            'f': \"3.0\",\n        },\n{\n            'v': 6.0,\n            'f': \"6.0\",\n        },\n{\n            'v': 4,\n            'f': \"4\",\n        },\n{\n            'v': 0,\n            'f': \"0\",\n        },\n\"yes\"],\n [{\n            'v': 286,\n            'f': \"286\",\n        },\n{\n            'v': 58,\n            'f': \"58\",\n        },\n\"female\",\n{\n            'v': 4,\n            'f': \"4\",\n        },\n{\n            'v': 170,\n            'f': \"170\",\n        },\n{\n            'v': 225,\n            'f': \"225\",\n        },\n{\n            'v': 1,\n            'f': \"1\",\n        },\n{\n            'v': 2,\n            'f': \"2\",\n        },\n{\n            'v': 146,\n            'f': \"146\",\n        },\n{\n            'v': 1,\n            'f': \"1\",\n        },\n{\n            'v': 2.8,\n            'f': \"2.8\",\n        },\n{\n            'v': 2,\n            'f': \"2\",\n        },\n{\n            'v': 2.0,\n            'f': \"2.0\",\n        },\n{\n            'v': 6.0,\n            'f': \"6.0\",\n        },\n{\n            'v': 2,\n            'f': \"2\",\n        },\n{\n            'v': 1,\n            'f': \"1\",\n        },\n\"yes\"],\n [{\n            'v': 287,\n            'f': \"287\",\n        },\n{\n            'v': 58,\n            'f': \"58\",\n        },\n\"male\",\n{\n            'v': 2,\n            'f': \"2\",\n        },\n{\n            'v': 125,\n            'f': \"125\",\n        },\n{\n            'v': 220,\n            'f': \"220\",\n        },\n{\n            'v': 0,\n            'f': \"0\",\n        },\n{\n            'v': 0,\n            'f': \"0\",\n        },\n{\n            'v': 144,\n            'f': \"144\",\n        },\n{\n            'v': 0,\n            'f': \"0\",\n        },\n{\n            'v': 0.4,\n            'f': \"0.4\",\n        },\n{\n            'v': 2,\n            'f': \"2\",\n        },\n{\n            'v': NaN,\n            'f': \"NaN\",\n        },\n{\n            'v': 7.0,\n            'f': \"7.0\",\n        },\n{\n            'v': 0,\n            'f': \"0\",\n        },\n{\n            'v': 0,\n            'f': \"0\",\n        },\n\"no\"],\n [{\n            'v': 288,\n            'f': \"288\",\n        },\n{\n            'v': 56,\n            'f': \"56\",\n        },\n\"male\",\n{\n            'v': 2,\n            'f': \"2\",\n        },\n{\n            'v': 130,\n            'f': \"130\",\n        },\n{\n            'v': 221,\n            'f': \"221\",\n        },\n{\n            'v': 0,\n            'f': \"0\",\n        },\n{\n            'v': 2,\n            'f': \"2\",\n        },\n{\n            'v': 163,\n            'f': \"163\",\n        },\n{\n            'v': 0,\n            'f': \"0\",\n        },\n{\n            'v': 0.0,\n            'f': \"0.0\",\n        },\n{\n            'v': 1,\n            'f': \"1\",\n        },\n{\n            'v': 0.0,\n            'f': \"0.0\",\n        },\n{\n            'v': 7.0,\n            'f': \"7.0\",\n        },\n{\n            'v': 0,\n            'f': \"0\",\n        },\n{\n            'v': 0,\n            'f': \"0\",\n        },\n\"no\"],\n [{\n            'v': 289,\n            'f': \"289\",\n        },\n{\n            'v': 56,\n            'f': \"56\",\n        },\n\"male\",\n{\n            'v': 2,\n            'f': \"2\",\n        },\n{\n            'v': 120,\n            'f': \"120\",\n        },\n{\n            'v': 240,\n            'f': \"240\",\n        },\n{\n            'v': 0,\n            'f': \"0\",\n        },\n{\n            'v': 0,\n            'f': \"0\",\n        },\n{\n            'v': 169,\n            'f': \"169\",\n        },\n{\n            'v': 0,\n            'f': \"0\",\n        },\n{\n            'v': 0.0,\n            'f': \"0.0\",\n        },\n{\n            'v': 3,\n            'f': \"3\",\n        },\n{\n            'v': 0.0,\n            'f': \"0.0\",\n        },\n{\n            'v': 3.0,\n            'f': \"3.0\",\n        },\n{\n            'v': 0,\n            'f': \"0\",\n        },\n{\n            'v': 0,\n            'f': \"0\",\n        },\n\"no\"],\n [{\n            'v': 290,\n            'f': \"290\",\n        },\n{\n            'v': 67,\n            'f': \"67\",\n        },\n\"male\",\n{\n            'v': 3,\n            'f': \"3\",\n        },\n{\n            'v': 152,\n            'f': \"152\",\n        },\n{\n            'v': 212,\n            'f': \"212\",\n        },\n{\n            'v': 0,\n            'f': \"0\",\n        },\n{\n            'v': 2,\n            'f': \"2\",\n        },\n{\n            'v': 150,\n            'f': \"150\",\n        },\n{\n            'v': 0,\n            'f': \"0\",\n        },\n{\n            'v': 0.8,\n            'f': \"0.8\",\n        },\n{\n            'v': 2,\n            'f': \"2\",\n        },\n{\n            'v': 0.0,\n            'f': \"0.0\",\n        },\n{\n            'v': 7.0,\n            'f': \"7.0\",\n        },\n{\n            'v': 1,\n            'f': \"1\",\n        },\n{\n            'v': 0,\n            'f': \"0\",\n        },\n\"yes\"],\n [{\n            'v': 291,\n            'f': \"291\",\n        },\n{\n            'v': 55,\n            'f': \"55\",\n        },\n\"female\",\n{\n            'v': 2,\n            'f': \"2\",\n        },\n{\n            'v': 132,\n            'f': \"132\",\n        },\n{\n            'v': 342,\n            'f': \"342\",\n        },\n{\n            'v': 0,\n            'f': \"0\",\n        },\n{\n            'v': 0,\n            'f': \"0\",\n        },\n{\n            'v': 166,\n            'f': \"166\",\n        },\n{\n            'v': 0,\n            'f': \"0\",\n        },\n{\n            'v': 1.2,\n            'f': \"1.2\",\n        },\n{\n            'v': 1,\n            'f': \"1\",\n        },\n{\n            'v': 0.0,\n            'f': \"0.0\",\n        },\n{\n            'v': 3.0,\n            'f': \"3.0\",\n        },\n{\n            'v': 0,\n            'f': \"0\",\n        },\n{\n            'v': 0,\n            'f': \"0\",\n        },\n\"no\"],\n [{\n            'v': 292,\n            'f': \"292\",\n        },\n{\n            'v': 44,\n            'f': \"44\",\n        },\n\"male\",\n{\n            'v': 4,\n            'f': \"4\",\n        },\n{\n            'v': 120,\n            'f': \"120\",\n        },\n{\n            'v': 169,\n            'f': \"169\",\n        },\n{\n            'v': 0,\n            'f': \"0\",\n        },\n{\n            'v': 0,\n            'f': \"0\",\n        },\n{\n            'v': 144,\n            'f': \"144\",\n        },\n{\n            'v': 1,\n            'f': \"1\",\n        },\n{\n            'v': 2.8,\n            'f': \"2.8\",\n        },\n{\n            'v': 3,\n            'f': \"3\",\n        },\n{\n            'v': 0.0,\n            'f': \"0.0\",\n        },\n{\n            'v': 6.0,\n            'f': \"6.0\",\n        },\n{\n            'v': 2,\n            'f': \"2\",\n        },\n{\n            'v': 1,\n            'f': \"1\",\n        },\n\"yes\"],\n [{\n            'v': 293,\n            'f': \"293\",\n        },\n{\n            'v': 63,\n            'f': \"63\",\n        },\n\"male\",\n{\n            'v': 4,\n            'f': \"4\",\n        },\n{\n            'v': 140,\n            'f': \"140\",\n        },\n{\n            'v': 187,\n            'f': \"187\",\n        },\n{\n            'v': 0,\n            'f': \"0\",\n        },\n{\n            'v': 2,\n            'f': \"2\",\n        },\n{\n            'v': 144,\n            'f': \"144\",\n        },\n{\n            'v': 1,\n            'f': \"1\",\n        },\n{\n            'v': 4.0,\n            'f': \"4.0\",\n        },\n{\n            'v': 1,\n            'f': \"1\",\n        },\n{\n            'v': 2.0,\n            'f': \"2.0\",\n        },\n{\n            'v': 7.0,\n            'f': \"7.0\",\n        },\n{\n            'v': 2,\n            'f': \"2\",\n        },\n{\n            'v': 1,\n            'f': \"1\",\n        },\n\"yes\"],\n [{\n            'v': 294,\n            'f': \"294\",\n        },\n{\n            'v': 63,\n            'f': \"63\",\n        },\n\"female\",\n{\n            'v': 4,\n            'f': \"4\",\n        },\n{\n            'v': 124,\n            'f': \"124\",\n        },\n{\n            'v': 197,\n            'f': \"197\",\n        },\n{\n            'v': 0,\n            'f': \"0\",\n        },\n{\n            'v': 0,\n            'f': \"0\",\n        },\n{\n            'v': 136,\n            'f': \"136\",\n        },\n{\n            'v': 1,\n            'f': \"1\",\n        },\n{\n            'v': 0.0,\n            'f': \"0.0\",\n        },\n{\n            'v': 2,\n            'f': \"2\",\n        },\n{\n            'v': 0.0,\n            'f': \"0.0\",\n        },\n{\n            'v': 3.0,\n            'f': \"3.0\",\n        },\n{\n            'v': 1,\n            'f': \"1\",\n        },\n{\n            'v': 1,\n            'f': \"1\",\n        },\n\"yes\"],\n [{\n            'v': 295,\n            'f': \"295\",\n        },\n{\n            'v': 41,\n            'f': \"41\",\n        },\n\"male\",\n{\n            'v': 2,\n            'f': \"2\",\n        },\n{\n            'v': 120,\n            'f': \"120\",\n        },\n{\n            'v': 157,\n            'f': \"157\",\n        },\n{\n            'v': 0,\n            'f': \"0\",\n        },\n{\n            'v': 0,\n            'f': \"0\",\n        },\n{\n            'v': 182,\n            'f': \"182\",\n        },\n{\n            'v': 0,\n            'f': \"0\",\n        },\n{\n            'v': 0.0,\n            'f': \"0.0\",\n        },\n{\n            'v': 1,\n            'f': \"1\",\n        },\n{\n            'v': 0.0,\n            'f': \"0.0\",\n        },\n{\n            'v': 3.0,\n            'f': \"3.0\",\n        },\n{\n            'v': 0,\n            'f': \"0\",\n        },\n{\n            'v': 0,\n            'f': \"0\",\n        },\n\"no\"],\n [{\n            'v': 296,\n            'f': \"296\",\n        },\n{\n            'v': 59,\n            'f': \"59\",\n        },\n\"male\",\n{\n            'v': 4,\n            'f': \"4\",\n        },\n{\n            'v': 164,\n            'f': \"164\",\n        },\n{\n            'v': 176,\n            'f': \"176\",\n        },\n{\n            'v': 1,\n            'f': \"1\",\n        },\n{\n            'v': 2,\n            'f': \"2\",\n        },\n{\n            'v': 90,\n            'f': \"90\",\n        },\n{\n            'v': 0,\n            'f': \"0\",\n        },\n{\n            'v': 1.0,\n            'f': \"1.0\",\n        },\n{\n            'v': 2,\n            'f': \"2\",\n        },\n{\n            'v': 2.0,\n            'f': \"2.0\",\n        },\n{\n            'v': 6.0,\n            'f': \"6.0\",\n        },\n{\n            'v': 3,\n            'f': \"3\",\n        },\n{\n            'v': 0,\n            'f': \"0\",\n        },\n\"yes\"],\n [{\n            'v': 297,\n            'f': \"297\",\n        },\n{\n            'v': 57,\n            'f': \"57\",\n        },\n\"female\",\n{\n            'v': 4,\n            'f': \"4\",\n        },\n{\n            'v': 140,\n            'f': \"140\",\n        },\n{\n            'v': 241,\n            'f': \"241\",\n        },\n{\n            'v': 0,\n            'f': \"0\",\n        },\n{\n            'v': 0,\n            'f': \"0\",\n        },\n{\n            'v': 123,\n            'f': \"123\",\n        },\n{\n            'v': 1,\n            'f': \"1\",\n        },\n{\n            'v': 0.2,\n            'f': \"0.2\",\n        },\n{\n            'v': 2,\n            'f': \"2\",\n        },\n{\n            'v': 0.0,\n            'f': \"0.0\",\n        },\n{\n            'v': 7.0,\n            'f': \"7.0\",\n        },\n{\n            'v': 1,\n            'f': \"1\",\n        },\n{\n            'v': 1,\n            'f': \"1\",\n        },\n\"yes\"],\n [{\n            'v': 298,\n            'f': \"298\",\n        },\n{\n            'v': 45,\n            'f': \"45\",\n        },\n\"male\",\n{\n            'v': 1,\n            'f': \"1\",\n        },\n{\n            'v': 110,\n            'f': \"110\",\n        },\n{\n            'v': 264,\n            'f': \"264\",\n        },\n{\n            'v': 0,\n            'f': \"0\",\n        },\n{\n            'v': 0,\n            'f': \"0\",\n        },\n{\n            'v': 132,\n            'f': \"132\",\n        },\n{\n            'v': 0,\n            'f': \"0\",\n        },\n{\n            'v': 1.2,\n            'f': \"1.2\",\n        },\n{\n            'v': 2,\n            'f': \"2\",\n        },\n{\n            'v': 0.0,\n            'f': \"0.0\",\n        },\n{\n            'v': 7.0,\n            'f': \"7.0\",\n        },\n{\n            'v': 1,\n            'f': \"1\",\n        },\n{\n            'v': 0,\n            'f': \"0\",\n        },\n\"yes\"],\n [{\n            'v': 299,\n            'f': \"299\",\n        },\n{\n            'v': 68,\n            'f': \"68\",\n        },\n\"male\",\n{\n            'v': 4,\n            'f': \"4\",\n        },\n{\n            'v': 144,\n            'f': \"144\",\n        },\n{\n            'v': 193,\n            'f': \"193\",\n        },\n{\n            'v': 1,\n            'f': \"1\",\n        },\n{\n            'v': 0,\n            'f': \"0\",\n        },\n{\n            'v': 141,\n            'f': \"141\",\n        },\n{\n            'v': 0,\n            'f': \"0\",\n        },\n{\n            'v': 3.4,\n            'f': \"3.4\",\n        },\n{\n            'v': 2,\n            'f': \"2\",\n        },\n{\n            'v': 2.0,\n            'f': \"2.0\",\n        },\n{\n            'v': 7.0,\n            'f': \"7.0\",\n        },\n{\n            'v': 2,\n            'f': \"2\",\n        },\n{\n            'v': 0,\n            'f': \"0\",\n        },\n\"yes\"],\n [{\n            'v': 300,\n            'f': \"300\",\n        },\n{\n            'v': 57,\n            'f': \"57\",\n        },\n\"male\",\n{\n            'v': 4,\n            'f': \"4\",\n        },\n{\n            'v': 130,\n            'f': \"130\",\n        },\n{\n            'v': 131,\n            'f': \"131\",\n        },\n{\n            'v': 0,\n            'f': \"0\",\n        },\n{\n            'v': 0,\n            'f': \"0\",\n        },\n{\n            'v': 115,\n            'f': \"115\",\n        },\n{\n            'v': 1,\n            'f': \"1\",\n        },\n{\n            'v': 1.2,\n            'f': \"1.2\",\n        },\n{\n            'v': 2,\n            'f': \"2\",\n        },\n{\n            'v': 1.0,\n            'f': \"1.0\",\n        },\n{\n            'v': 7.0,\n            'f': \"7.0\",\n        },\n{\n            'v': 3,\n            'f': \"3\",\n        },\n{\n            'v': 1,\n            'f': \"1\",\n        },\n\"yes\"],\n [{\n            'v': 301,\n            'f': \"301\",\n        },\n{\n            'v': 57,\n            'f': \"57\",\n        },\n\"female\",\n{\n            'v': 2,\n            'f': \"2\",\n        },\n{\n            'v': 130,\n            'f': \"130\",\n        },\n{\n            'v': 236,\n            'f': \"236\",\n        },\n{\n            'v': 0,\n            'f': \"0\",\n        },\n{\n            'v': 2,\n            'f': \"2\",\n        },\n{\n            'v': 174,\n            'f': \"174\",\n        },\n{\n            'v': 0,\n            'f': \"0\",\n        },\n{\n            'v': 0.0,\n            'f': \"0.0\",\n        },\n{\n            'v': 2,\n            'f': \"2\",\n        },\n{\n            'v': 1.0,\n            'f': \"1.0\",\n        },\n{\n            'v': 3.0,\n            'f': \"3.0\",\n        },\n{\n            'v': 1,\n            'f': \"1\",\n        },\n{\n            'v': 0,\n            'f': \"0\",\n        },\n\"yes\"],\n [{\n            'v': 302,\n            'f': \"302\",\n        },\n{\n            'v': 38,\n            'f': \"38\",\n        },\n\"male\",\n{\n            'v': 3,\n            'f': \"3\",\n        },\n{\n            'v': 138,\n            'f': \"138\",\n        },\n{\n            'v': 175,\n            'f': \"175\",\n        },\n{\n            'v': 0,\n            'f': \"0\",\n        },\n{\n            'v': 0,\n            'f': \"0\",\n        },\n{\n            'v': 173,\n            'f': \"173\",\n        },\n{\n            'v': 0,\n            'f': \"0\",\n        },\n{\n            'v': 0.0,\n            'f': \"0.0\",\n        },\n{\n            'v': 1,\n            'f': \"1\",\n        },\n{\n            'v': NaN,\n            'f': \"NaN\",\n        },\n{\n            'v': 3.0,\n            'f': \"3.0\",\n        },\n{\n            'v': 0,\n            'f': \"0\",\n        },\n{\n            'v': 0,\n            'f': \"0\",\n        },\n\"no\"]],\n        columns: [[\"number\", \"index\"], [\"number\", \"age\"], [\"string\", \"gender\"], [\"number\", \"chest_pain\"], [\"number\", \"resting_blood_pressure\"], [\"number\", \"serum_cholestoral\"], [\"number\", \"fasting_blood_sugar\"], [\"number\", \"resting_electro\"], [\"number\", \"max_heart_rate\"], [\"number\", \"exer_angina\"], [\"number\", \"oldpeak\"], [\"number\", \"slope\"], [\"number\", \"num_vessels_flour\"], [\"number\", \"thal\"], [\"number\", \"heart_disease_severity\"], [\"number\", \"exter_angina\"], [\"string\", \"has_heart_disease\"]],\n        columnOptions: [{\"width\": \"1px\", \"className\": \"index_column\"}],\n        rowsPerPage: 25,\n        helpUrl: \"https://colab.research.google.com/notebooks/data_table.ipynb\",\n        suppressOutputScrolling: true,\n        minimumWidth: undefined,\n      });\n    ",
            "text/html": [
              "<div>\n",
              "<style scoped>\n",
              "    .dataframe tbody tr th:only-of-type {\n",
              "        vertical-align: middle;\n",
              "    }\n",
              "\n",
              "    .dataframe tbody tr th {\n",
              "        vertical-align: top;\n",
              "    }\n",
              "\n",
              "    .dataframe thead th {\n",
              "        text-align: right;\n",
              "    }\n",
              "</style>\n",
              "<table border=\"1\" class=\"dataframe\">\n",
              "  <thead>\n",
              "    <tr style=\"text-align: right;\">\n",
              "      <th></th>\n",
              "      <th>age</th>\n",
              "      <th>gender</th>\n",
              "      <th>chest_pain</th>\n",
              "      <th>resting_blood_pressure</th>\n",
              "      <th>serum_cholestoral</th>\n",
              "      <th>fasting_blood_sugar</th>\n",
              "      <th>resting_electro</th>\n",
              "      <th>max_heart_rate</th>\n",
              "      <th>exer_angina</th>\n",
              "      <th>oldpeak</th>\n",
              "      <th>slope</th>\n",
              "      <th>num_vessels_flour</th>\n",
              "      <th>thal</th>\n",
              "      <th>heart_disease_severity</th>\n",
              "      <th>exter_angina</th>\n",
              "      <th>has_heart_disease</th>\n",
              "    </tr>\n",
              "  </thead>\n",
              "  <tbody>\n",
              "    <tr>\n",
              "      <th>0</th>\n",
              "      <td>63</td>\n",
              "      <td>male</td>\n",
              "      <td>1</td>\n",
              "      <td>145</td>\n",
              "      <td>233</td>\n",
              "      <td>1</td>\n",
              "      <td>2</td>\n",
              "      <td>150</td>\n",
              "      <td>0</td>\n",
              "      <td>2.3</td>\n",
              "      <td>3</td>\n",
              "      <td>0.0</td>\n",
              "      <td>6.0</td>\n",
              "      <td>0</td>\n",
              "      <td>0</td>\n",
              "      <td>no</td>\n",
              "    </tr>\n",
              "    <tr>\n",
              "      <th>1</th>\n",
              "      <td>67</td>\n",
              "      <td>male</td>\n",
              "      <td>4</td>\n",
              "      <td>160</td>\n",
              "      <td>286</td>\n",
              "      <td>0</td>\n",
              "      <td>2</td>\n",
              "      <td>108</td>\n",
              "      <td>1</td>\n",
              "      <td>1.5</td>\n",
              "      <td>2</td>\n",
              "      <td>3.0</td>\n",
              "      <td>3.0</td>\n",
              "      <td>2</td>\n",
              "      <td>1</td>\n",
              "      <td>yes</td>\n",
              "    </tr>\n",
              "    <tr>\n",
              "      <th>2</th>\n",
              "      <td>67</td>\n",
              "      <td>male</td>\n",
              "      <td>4</td>\n",
              "      <td>120</td>\n",
              "      <td>229</td>\n",
              "      <td>0</td>\n",
              "      <td>2</td>\n",
              "      <td>129</td>\n",
              "      <td>1</td>\n",
              "      <td>2.6</td>\n",
              "      <td>2</td>\n",
              "      <td>2.0</td>\n",
              "      <td>7.0</td>\n",
              "      <td>1</td>\n",
              "      <td>1</td>\n",
              "      <td>yes</td>\n",
              "    </tr>\n",
              "    <tr>\n",
              "      <th>3</th>\n",
              "      <td>37</td>\n",
              "      <td>male</td>\n",
              "      <td>3</td>\n",
              "      <td>130</td>\n",
              "      <td>250</td>\n",
              "      <td>0</td>\n",
              "      <td>0</td>\n",
              "      <td>187</td>\n",
              "      <td>0</td>\n",
              "      <td>3.5</td>\n",
              "      <td>3</td>\n",
              "      <td>0.0</td>\n",
              "      <td>3.0</td>\n",
              "      <td>0</td>\n",
              "      <td>0</td>\n",
              "      <td>no</td>\n",
              "    </tr>\n",
              "    <tr>\n",
              "      <th>4</th>\n",
              "      <td>41</td>\n",
              "      <td>female</td>\n",
              "      <td>2</td>\n",
              "      <td>130</td>\n",
              "      <td>204</td>\n",
              "      <td>0</td>\n",
              "      <td>2</td>\n",
              "      <td>172</td>\n",
              "      <td>0</td>\n",
              "      <td>1.4</td>\n",
              "      <td>1</td>\n",
              "      <td>0.0</td>\n",
              "      <td>3.0</td>\n",
              "      <td>0</td>\n",
              "      <td>0</td>\n",
              "      <td>no</td>\n",
              "    </tr>\n",
              "    <tr>\n",
              "      <th>...</th>\n",
              "      <td>...</td>\n",
              "      <td>...</td>\n",
              "      <td>...</td>\n",
              "      <td>...</td>\n",
              "      <td>...</td>\n",
              "      <td>...</td>\n",
              "      <td>...</td>\n",
              "      <td>...</td>\n",
              "      <td>...</td>\n",
              "      <td>...</td>\n",
              "      <td>...</td>\n",
              "      <td>...</td>\n",
              "      <td>...</td>\n",
              "      <td>...</td>\n",
              "      <td>...</td>\n",
              "      <td>...</td>\n",
              "    </tr>\n",
              "    <tr>\n",
              "      <th>298</th>\n",
              "      <td>45</td>\n",
              "      <td>male</td>\n",
              "      <td>1</td>\n",
              "      <td>110</td>\n",
              "      <td>264</td>\n",
              "      <td>0</td>\n",
              "      <td>0</td>\n",
              "      <td>132</td>\n",
              "      <td>0</td>\n",
              "      <td>1.2</td>\n",
              "      <td>2</td>\n",
              "      <td>0.0</td>\n",
              "      <td>7.0</td>\n",
              "      <td>1</td>\n",
              "      <td>0</td>\n",
              "      <td>yes</td>\n",
              "    </tr>\n",
              "    <tr>\n",
              "      <th>299</th>\n",
              "      <td>68</td>\n",
              "      <td>male</td>\n",
              "      <td>4</td>\n",
              "      <td>144</td>\n",
              "      <td>193</td>\n",
              "      <td>1</td>\n",
              "      <td>0</td>\n",
              "      <td>141</td>\n",
              "      <td>0</td>\n",
              "      <td>3.4</td>\n",
              "      <td>2</td>\n",
              "      <td>2.0</td>\n",
              "      <td>7.0</td>\n",
              "      <td>2</td>\n",
              "      <td>0</td>\n",
              "      <td>yes</td>\n",
              "    </tr>\n",
              "    <tr>\n",
              "      <th>300</th>\n",
              "      <td>57</td>\n",
              "      <td>male</td>\n",
              "      <td>4</td>\n",
              "      <td>130</td>\n",
              "      <td>131</td>\n",
              "      <td>0</td>\n",
              "      <td>0</td>\n",
              "      <td>115</td>\n",
              "      <td>1</td>\n",
              "      <td>1.2</td>\n",
              "      <td>2</td>\n",
              "      <td>1.0</td>\n",
              "      <td>7.0</td>\n",
              "      <td>3</td>\n",
              "      <td>1</td>\n",
              "      <td>yes</td>\n",
              "    </tr>\n",
              "    <tr>\n",
              "      <th>301</th>\n",
              "      <td>57</td>\n",
              "      <td>female</td>\n",
              "      <td>2</td>\n",
              "      <td>130</td>\n",
              "      <td>236</td>\n",
              "      <td>0</td>\n",
              "      <td>2</td>\n",
              "      <td>174</td>\n",
              "      <td>0</td>\n",
              "      <td>0.0</td>\n",
              "      <td>2</td>\n",
              "      <td>1.0</td>\n",
              "      <td>3.0</td>\n",
              "      <td>1</td>\n",
              "      <td>0</td>\n",
              "      <td>yes</td>\n",
              "    </tr>\n",
              "    <tr>\n",
              "      <th>302</th>\n",
              "      <td>38</td>\n",
              "      <td>male</td>\n",
              "      <td>3</td>\n",
              "      <td>138</td>\n",
              "      <td>175</td>\n",
              "      <td>0</td>\n",
              "      <td>0</td>\n",
              "      <td>173</td>\n",
              "      <td>0</td>\n",
              "      <td>0.0</td>\n",
              "      <td>1</td>\n",
              "      <td>NaN</td>\n",
              "      <td>3.0</td>\n",
              "      <td>0</td>\n",
              "      <td>0</td>\n",
              "      <td>no</td>\n",
              "    </tr>\n",
              "  </tbody>\n",
              "</table>\n",
              "<p>303 rows × 16 columns</p>\n",
              "</div>"
            ],
            "text/plain": [
              "<google.colab.data_table.DataTable object>"
            ]
          },
          "execution_count": 17,
          "metadata": {},
          "output_type": "execute_result"
        }
      ],
      "source": [
        "from google.colab.data_table import DataTable\n",
        "\n",
        "DataTable(d_hd)"
      ]
    },
    {
      "cell_type": "code",
      "execution_count": null,
      "metadata": {
        "colab": {
          "base_uri": "https://localhost:8080/",
          "height": 270
        },
        "id": "udYlmzCWpLxs",
        "outputId": "c0318071-bb8a-4ed3-bcb5-fa67c0978ddc"
      },
      "outputs": [
        {
          "data": {
            "text/html": [
              "\n",
              "  <div id=\"df-29bf3eac-5b40-4a26-9e50-28003c548f84\">\n",
              "    <div class=\"colab-df-container\">\n",
              "      <div>\n",
              "<style scoped>\n",
              "    .dataframe tbody tr th:only-of-type {\n",
              "        vertical-align: middle;\n",
              "    }\n",
              "\n",
              "    .dataframe tbody tr th {\n",
              "        vertical-align: top;\n",
              "    }\n",
              "\n",
              "    .dataframe thead th {\n",
              "        text-align: right;\n",
              "    }\n",
              "</style>\n",
              "<table border=\"1\" class=\"dataframe\">\n",
              "  <thead>\n",
              "    <tr style=\"text-align: right;\">\n",
              "      <th></th>\n",
              "      <th>age</th>\n",
              "      <th>gender</th>\n",
              "      <th>chest_pain</th>\n",
              "      <th>resting_blood_pressure</th>\n",
              "      <th>serum_cholestoral</th>\n",
              "      <th>fasting_blood_sugar</th>\n",
              "      <th>resting_electro</th>\n",
              "      <th>max_heart_rate</th>\n",
              "      <th>exer_angina</th>\n",
              "      <th>oldpeak</th>\n",
              "      <th>slope</th>\n",
              "      <th>num_vessels_flour</th>\n",
              "      <th>thal</th>\n",
              "      <th>heart_disease_severity</th>\n",
              "      <th>exter_angina</th>\n",
              "      <th>has_heart_disease</th>\n",
              "    </tr>\n",
              "  </thead>\n",
              "  <tbody>\n",
              "    <tr>\n",
              "      <th>0</th>\n",
              "      <td>63</td>\n",
              "      <td>male</td>\n",
              "      <td>1</td>\n",
              "      <td>145</td>\n",
              "      <td>233</td>\n",
              "      <td>1</td>\n",
              "      <td>2</td>\n",
              "      <td>150</td>\n",
              "      <td>0</td>\n",
              "      <td>2.3</td>\n",
              "      <td>3</td>\n",
              "      <td>0.0</td>\n",
              "      <td>6.0</td>\n",
              "      <td>0</td>\n",
              "      <td>0</td>\n",
              "      <td>no</td>\n",
              "    </tr>\n",
              "    <tr>\n",
              "      <th>1</th>\n",
              "      <td>67</td>\n",
              "      <td>male</td>\n",
              "      <td>4</td>\n",
              "      <td>160</td>\n",
              "      <td>286</td>\n",
              "      <td>0</td>\n",
              "      <td>2</td>\n",
              "      <td>108</td>\n",
              "      <td>1</td>\n",
              "      <td>1.5</td>\n",
              "      <td>2</td>\n",
              "      <td>3.0</td>\n",
              "      <td>3.0</td>\n",
              "      <td>2</td>\n",
              "      <td>1</td>\n",
              "      <td>yes</td>\n",
              "    </tr>\n",
              "    <tr>\n",
              "      <th>2</th>\n",
              "      <td>67</td>\n",
              "      <td>male</td>\n",
              "      <td>4</td>\n",
              "      <td>120</td>\n",
              "      <td>229</td>\n",
              "      <td>0</td>\n",
              "      <td>2</td>\n",
              "      <td>129</td>\n",
              "      <td>1</td>\n",
              "      <td>2.6</td>\n",
              "      <td>2</td>\n",
              "      <td>2.0</td>\n",
              "      <td>7.0</td>\n",
              "      <td>1</td>\n",
              "      <td>1</td>\n",
              "      <td>yes</td>\n",
              "    </tr>\n",
              "    <tr>\n",
              "      <th>3</th>\n",
              "      <td>37</td>\n",
              "      <td>male</td>\n",
              "      <td>3</td>\n",
              "      <td>130</td>\n",
              "      <td>250</td>\n",
              "      <td>0</td>\n",
              "      <td>0</td>\n",
              "      <td>187</td>\n",
              "      <td>0</td>\n",
              "      <td>3.5</td>\n",
              "      <td>3</td>\n",
              "      <td>0.0</td>\n",
              "      <td>3.0</td>\n",
              "      <td>0</td>\n",
              "      <td>0</td>\n",
              "      <td>no</td>\n",
              "    </tr>\n",
              "    <tr>\n",
              "      <th>4</th>\n",
              "      <td>41</td>\n",
              "      <td>female</td>\n",
              "      <td>2</td>\n",
              "      <td>130</td>\n",
              "      <td>204</td>\n",
              "      <td>0</td>\n",
              "      <td>2</td>\n",
              "      <td>172</td>\n",
              "      <td>0</td>\n",
              "      <td>1.4</td>\n",
              "      <td>1</td>\n",
              "      <td>0.0</td>\n",
              "      <td>3.0</td>\n",
              "      <td>0</td>\n",
              "      <td>0</td>\n",
              "      <td>no</td>\n",
              "    </tr>\n",
              "  </tbody>\n",
              "</table>\n",
              "</div>\n",
              "      <button class=\"colab-df-convert\" onclick=\"convertToInteractive('df-29bf3eac-5b40-4a26-9e50-28003c548f84')\"\n",
              "              title=\"Convert this dataframe to an interactive table.\"\n",
              "              style=\"display:none;\">\n",
              "        \n",
              "  <svg xmlns=\"http://www.w3.org/2000/svg\" height=\"24px\"viewBox=\"0 0 24 24\"\n",
              "       width=\"24px\">\n",
              "    <path d=\"M0 0h24v24H0V0z\" fill=\"none\"/>\n",
              "    <path d=\"M18.56 5.44l.94 2.06.94-2.06 2.06-.94-2.06-.94-.94-2.06-.94 2.06-2.06.94zm-11 1L8.5 8.5l.94-2.06 2.06-.94-2.06-.94L8.5 2.5l-.94 2.06-2.06.94zm10 10l.94 2.06.94-2.06 2.06-.94-2.06-.94-.94-2.06-.94 2.06-2.06.94z\"/><path d=\"M17.41 7.96l-1.37-1.37c-.4-.4-.92-.59-1.43-.59-.52 0-1.04.2-1.43.59L10.3 9.45l-7.72 7.72c-.78.78-.78 2.05 0 2.83L4 21.41c.39.39.9.59 1.41.59.51 0 1.02-.2 1.41-.59l7.78-7.78 2.81-2.81c.8-.78.8-2.07 0-2.86zM5.41 20L4 18.59l7.72-7.72 1.47 1.35L5.41 20z\"/>\n",
              "  </svg>\n",
              "      </button>\n",
              "      \n",
              "  <style>\n",
              "    .colab-df-container {\n",
              "      display:flex;\n",
              "      flex-wrap:wrap;\n",
              "      gap: 12px;\n",
              "    }\n",
              "\n",
              "    .colab-df-convert {\n",
              "      background-color: #E8F0FE;\n",
              "      border: none;\n",
              "      border-radius: 50%;\n",
              "      cursor: pointer;\n",
              "      display: none;\n",
              "      fill: #1967D2;\n",
              "      height: 32px;\n",
              "      padding: 0 0 0 0;\n",
              "      width: 32px;\n",
              "    }\n",
              "\n",
              "    .colab-df-convert:hover {\n",
              "      background-color: #E2EBFA;\n",
              "      box-shadow: 0px 1px 2px rgba(60, 64, 67, 0.3), 0px 1px 3px 1px rgba(60, 64, 67, 0.15);\n",
              "      fill: #174EA6;\n",
              "    }\n",
              "\n",
              "    [theme=dark] .colab-df-convert {\n",
              "      background-color: #3B4455;\n",
              "      fill: #D2E3FC;\n",
              "    }\n",
              "\n",
              "    [theme=dark] .colab-df-convert:hover {\n",
              "      background-color: #434B5C;\n",
              "      box-shadow: 0px 1px 3px 1px rgba(0, 0, 0, 0.15);\n",
              "      filter: drop-shadow(0px 1px 2px rgba(0, 0, 0, 0.3));\n",
              "      fill: #FFFFFF;\n",
              "    }\n",
              "  </style>\n",
              "\n",
              "      <script>\n",
              "        const buttonEl =\n",
              "          document.querySelector('#df-29bf3eac-5b40-4a26-9e50-28003c548f84 button.colab-df-convert');\n",
              "        buttonEl.style.display =\n",
              "          google.colab.kernel.accessAllowed ? 'block' : 'none';\n",
              "\n",
              "        async function convertToInteractive(key) {\n",
              "          const element = document.querySelector('#df-29bf3eac-5b40-4a26-9e50-28003c548f84');\n",
              "          const dataTable =\n",
              "            await google.colab.kernel.invokeFunction('convertToInteractive',\n",
              "                                                     [key], {});\n",
              "          if (!dataTable) return;\n",
              "\n",
              "          const docLinkHtml = 'Like what you see? Visit the ' +\n",
              "            '<a target=\"_blank\" href=https://colab.research.google.com/notebooks/data_table.ipynb>data table notebook</a>'\n",
              "            + ' to learn more about interactive tables.';\n",
              "          element.innerHTML = '';\n",
              "          dataTable['output_type'] = 'display_data';\n",
              "          await google.colab.output.renderOutput(dataTable, element);\n",
              "          const docLink = document.createElement('div');\n",
              "          docLink.innerHTML = docLinkHtml;\n",
              "          element.appendChild(docLink);\n",
              "        }\n",
              "      </script>\n",
              "    </div>\n",
              "  </div>\n",
              "  "
            ],
            "text/plain": [
              "   age  gender  ...  exter_angina  has_heart_disease\n",
              "0   63    male  ...             0                 no\n",
              "1   67    male  ...             1                yes\n",
              "2   67    male  ...             1                yes\n",
              "3   37    male  ...             0                 no\n",
              "4   41  female  ...             0                 no\n",
              "\n",
              "[5 rows x 16 columns]"
            ]
          },
          "execution_count": 18,
          "metadata": {},
          "output_type": "execute_result"
        }
      ],
      "source": [
        "d_hd.head()"
      ]
    },
    {
      "cell_type": "code",
      "execution_count": null,
      "metadata": {
        "colab": {
          "base_uri": "https://localhost:8080/",
          "height": 270
        },
        "id": "3xyKte4Qpdc5",
        "outputId": "15509651-5311-452a-dda7-a30009d119bc"
      },
      "outputs": [
        {
          "data": {
            "text/html": [
              "\n",
              "  <div id=\"df-66d08330-73c6-4972-aec3-cadf1a8436b6\">\n",
              "    <div class=\"colab-df-container\">\n",
              "      <div>\n",
              "<style scoped>\n",
              "    .dataframe tbody tr th:only-of-type {\n",
              "        vertical-align: middle;\n",
              "    }\n",
              "\n",
              "    .dataframe tbody tr th {\n",
              "        vertical-align: top;\n",
              "    }\n",
              "\n",
              "    .dataframe thead th {\n",
              "        text-align: right;\n",
              "    }\n",
              "</style>\n",
              "<table border=\"1\" class=\"dataframe\">\n",
              "  <thead>\n",
              "    <tr style=\"text-align: right;\">\n",
              "      <th></th>\n",
              "      <th>age</th>\n",
              "      <th>gender</th>\n",
              "      <th>chest_pain</th>\n",
              "      <th>resting_blood_pressure</th>\n",
              "      <th>serum_cholestoral</th>\n",
              "      <th>fasting_blood_sugar</th>\n",
              "      <th>resting_electro</th>\n",
              "      <th>max_heart_rate</th>\n",
              "      <th>exer_angina</th>\n",
              "      <th>oldpeak</th>\n",
              "      <th>slope</th>\n",
              "      <th>num_vessels_flour</th>\n",
              "      <th>thal</th>\n",
              "      <th>heart_disease_severity</th>\n",
              "      <th>exter_angina</th>\n",
              "      <th>has_heart_disease</th>\n",
              "    </tr>\n",
              "  </thead>\n",
              "  <tbody>\n",
              "    <tr>\n",
              "      <th>298</th>\n",
              "      <td>45</td>\n",
              "      <td>male</td>\n",
              "      <td>1</td>\n",
              "      <td>110</td>\n",
              "      <td>264</td>\n",
              "      <td>0</td>\n",
              "      <td>0</td>\n",
              "      <td>132</td>\n",
              "      <td>0</td>\n",
              "      <td>1.2</td>\n",
              "      <td>2</td>\n",
              "      <td>0.0</td>\n",
              "      <td>7.0</td>\n",
              "      <td>1</td>\n",
              "      <td>0</td>\n",
              "      <td>yes</td>\n",
              "    </tr>\n",
              "    <tr>\n",
              "      <th>299</th>\n",
              "      <td>68</td>\n",
              "      <td>male</td>\n",
              "      <td>4</td>\n",
              "      <td>144</td>\n",
              "      <td>193</td>\n",
              "      <td>1</td>\n",
              "      <td>0</td>\n",
              "      <td>141</td>\n",
              "      <td>0</td>\n",
              "      <td>3.4</td>\n",
              "      <td>2</td>\n",
              "      <td>2.0</td>\n",
              "      <td>7.0</td>\n",
              "      <td>2</td>\n",
              "      <td>0</td>\n",
              "      <td>yes</td>\n",
              "    </tr>\n",
              "    <tr>\n",
              "      <th>300</th>\n",
              "      <td>57</td>\n",
              "      <td>male</td>\n",
              "      <td>4</td>\n",
              "      <td>130</td>\n",
              "      <td>131</td>\n",
              "      <td>0</td>\n",
              "      <td>0</td>\n",
              "      <td>115</td>\n",
              "      <td>1</td>\n",
              "      <td>1.2</td>\n",
              "      <td>2</td>\n",
              "      <td>1.0</td>\n",
              "      <td>7.0</td>\n",
              "      <td>3</td>\n",
              "      <td>1</td>\n",
              "      <td>yes</td>\n",
              "    </tr>\n",
              "    <tr>\n",
              "      <th>301</th>\n",
              "      <td>57</td>\n",
              "      <td>female</td>\n",
              "      <td>2</td>\n",
              "      <td>130</td>\n",
              "      <td>236</td>\n",
              "      <td>0</td>\n",
              "      <td>2</td>\n",
              "      <td>174</td>\n",
              "      <td>0</td>\n",
              "      <td>0.0</td>\n",
              "      <td>2</td>\n",
              "      <td>1.0</td>\n",
              "      <td>3.0</td>\n",
              "      <td>1</td>\n",
              "      <td>0</td>\n",
              "      <td>yes</td>\n",
              "    </tr>\n",
              "    <tr>\n",
              "      <th>302</th>\n",
              "      <td>38</td>\n",
              "      <td>male</td>\n",
              "      <td>3</td>\n",
              "      <td>138</td>\n",
              "      <td>175</td>\n",
              "      <td>0</td>\n",
              "      <td>0</td>\n",
              "      <td>173</td>\n",
              "      <td>0</td>\n",
              "      <td>0.0</td>\n",
              "      <td>1</td>\n",
              "      <td>NaN</td>\n",
              "      <td>3.0</td>\n",
              "      <td>0</td>\n",
              "      <td>0</td>\n",
              "      <td>no</td>\n",
              "    </tr>\n",
              "  </tbody>\n",
              "</table>\n",
              "</div>\n",
              "      <button class=\"colab-df-convert\" onclick=\"convertToInteractive('df-66d08330-73c6-4972-aec3-cadf1a8436b6')\"\n",
              "              title=\"Convert this dataframe to an interactive table.\"\n",
              "              style=\"display:none;\">\n",
              "        \n",
              "  <svg xmlns=\"http://www.w3.org/2000/svg\" height=\"24px\"viewBox=\"0 0 24 24\"\n",
              "       width=\"24px\">\n",
              "    <path d=\"M0 0h24v24H0V0z\" fill=\"none\"/>\n",
              "    <path d=\"M18.56 5.44l.94 2.06.94-2.06 2.06-.94-2.06-.94-.94-2.06-.94 2.06-2.06.94zm-11 1L8.5 8.5l.94-2.06 2.06-.94-2.06-.94L8.5 2.5l-.94 2.06-2.06.94zm10 10l.94 2.06.94-2.06 2.06-.94-2.06-.94-.94-2.06-.94 2.06-2.06.94z\"/><path d=\"M17.41 7.96l-1.37-1.37c-.4-.4-.92-.59-1.43-.59-.52 0-1.04.2-1.43.59L10.3 9.45l-7.72 7.72c-.78.78-.78 2.05 0 2.83L4 21.41c.39.39.9.59 1.41.59.51 0 1.02-.2 1.41-.59l7.78-7.78 2.81-2.81c.8-.78.8-2.07 0-2.86zM5.41 20L4 18.59l7.72-7.72 1.47 1.35L5.41 20z\"/>\n",
              "  </svg>\n",
              "      </button>\n",
              "      \n",
              "  <style>\n",
              "    .colab-df-container {\n",
              "      display:flex;\n",
              "      flex-wrap:wrap;\n",
              "      gap: 12px;\n",
              "    }\n",
              "\n",
              "    .colab-df-convert {\n",
              "      background-color: #E8F0FE;\n",
              "      border: none;\n",
              "      border-radius: 50%;\n",
              "      cursor: pointer;\n",
              "      display: none;\n",
              "      fill: #1967D2;\n",
              "      height: 32px;\n",
              "      padding: 0 0 0 0;\n",
              "      width: 32px;\n",
              "    }\n",
              "\n",
              "    .colab-df-convert:hover {\n",
              "      background-color: #E2EBFA;\n",
              "      box-shadow: 0px 1px 2px rgba(60, 64, 67, 0.3), 0px 1px 3px 1px rgba(60, 64, 67, 0.15);\n",
              "      fill: #174EA6;\n",
              "    }\n",
              "\n",
              "    [theme=dark] .colab-df-convert {\n",
              "      background-color: #3B4455;\n",
              "      fill: #D2E3FC;\n",
              "    }\n",
              "\n",
              "    [theme=dark] .colab-df-convert:hover {\n",
              "      background-color: #434B5C;\n",
              "      box-shadow: 0px 1px 3px 1px rgba(0, 0, 0, 0.15);\n",
              "      filter: drop-shadow(0px 1px 2px rgba(0, 0, 0, 0.3));\n",
              "      fill: #FFFFFF;\n",
              "    }\n",
              "  </style>\n",
              "\n",
              "      <script>\n",
              "        const buttonEl =\n",
              "          document.querySelector('#df-66d08330-73c6-4972-aec3-cadf1a8436b6 button.colab-df-convert');\n",
              "        buttonEl.style.display =\n",
              "          google.colab.kernel.accessAllowed ? 'block' : 'none';\n",
              "\n",
              "        async function convertToInteractive(key) {\n",
              "          const element = document.querySelector('#df-66d08330-73c6-4972-aec3-cadf1a8436b6');\n",
              "          const dataTable =\n",
              "            await google.colab.kernel.invokeFunction('convertToInteractive',\n",
              "                                                     [key], {});\n",
              "          if (!dataTable) return;\n",
              "\n",
              "          const docLinkHtml = 'Like what you see? Visit the ' +\n",
              "            '<a target=\"_blank\" href=https://colab.research.google.com/notebooks/data_table.ipynb>data table notebook</a>'\n",
              "            + ' to learn more about interactive tables.';\n",
              "          element.innerHTML = '';\n",
              "          dataTable['output_type'] = 'display_data';\n",
              "          await google.colab.output.renderOutput(dataTable, element);\n",
              "          const docLink = document.createElement('div');\n",
              "          docLink.innerHTML = docLinkHtml;\n",
              "          element.appendChild(docLink);\n",
              "        }\n",
              "      </script>\n",
              "    </div>\n",
              "  </div>\n",
              "  "
            ],
            "text/plain": [
              "     age  gender  ...  exter_angina  has_heart_disease\n",
              "298   45    male  ...             0                yes\n",
              "299   68    male  ...             0                yes\n",
              "300   57    male  ...             1                yes\n",
              "301   57  female  ...             0                yes\n",
              "302   38    male  ...             0                 no\n",
              "\n",
              "[5 rows x 16 columns]"
            ]
          },
          "execution_count": 19,
          "metadata": {},
          "output_type": "execute_result"
        }
      ],
      "source": [
        "d_hd.tail()"
      ]
    },
    {
      "cell_type": "code",
      "execution_count": null,
      "metadata": {
        "colab": {
          "base_uri": "https://localhost:8080/"
        },
        "id": "ZB_g1UpXpg9X",
        "outputId": "8b925c2c-e491-4ab0-cae8-8ed7d470cc24"
      },
      "outputs": [
        {
          "data": {
            "text/plain": [
              "0       no\n",
              "1      yes\n",
              "2      yes\n",
              "3       no\n",
              "4       no\n",
              "      ... \n",
              "298    yes\n",
              "299    yes\n",
              "300    yes\n",
              "301    yes\n",
              "302     no\n",
              "Name: has_heart_disease, Length: 303, dtype: object"
            ]
          },
          "execution_count": 21,
          "metadata": {},
          "output_type": "execute_result"
        }
      ],
      "source": [
        "d_hd.loc[:,'has_heart_disease'] #Acceder con loc a la columna has_heart_disease, y mostrar todos los registros\n"
      ]
    },
    {
      "cell_type": "code",
      "execution_count": null,
      "metadata": {
        "colab": {
          "base_uri": "https://localhost:8080/",
          "height": 311
        },
        "id": "R-4M1g_4ptYD",
        "outputId": "dc44d953-f9b4-4879-95d7-b8e24adb0bcf"
      },
      "outputs": [
        {
          "ename": "IndexingError",
          "evalue": "ignored",
          "output_type": "error",
          "traceback": [
            "\u001b[0;31m---------------------------------------------------------------------------\u001b[0m",
            "\u001b[0;31mIndexingError\u001b[0m                             Traceback (most recent call last)",
            "\u001b[0;32m<ipython-input-22-190cdeabb816>\u001b[0m in \u001b[0;36m<module>\u001b[0;34m()\u001b[0m\n\u001b[0;32m----> 1\u001b[0;31m \u001b[0md_hd\u001b[0m\u001b[0;34m.\u001b[0m\u001b[0mloc\u001b[0m\u001b[0;34m[\u001b[0m\u001b[0;34m:\u001b[0m\u001b[0;34m,\u001b[0m\u001b[0;36m2\u001b[0m\u001b[0;34m,\u001b[0m\u001b[0;34m'has_heart_disease'\u001b[0m\u001b[0;34m]\u001b[0m\u001b[0;34m\u001b[0m\u001b[0;34m\u001b[0m\u001b[0m\n\u001b[0m",
            "\u001b[0;32m/usr/local/lib/python3.7/dist-packages/pandas/core/indexing.py\u001b[0m in \u001b[0;36m__getitem__\u001b[0;34m(self, key)\u001b[0m\n\u001b[1;32m    871\u001b[0m                     \u001b[0;31m# AttributeError for IntervalTree get_value\u001b[0m\u001b[0;34m\u001b[0m\u001b[0;34m\u001b[0m\u001b[0;34m\u001b[0m\u001b[0m\n\u001b[1;32m    872\u001b[0m                     \u001b[0;32mpass\u001b[0m\u001b[0;34m\u001b[0m\u001b[0;34m\u001b[0m\u001b[0m\n\u001b[0;32m--> 873\u001b[0;31m             \u001b[0;32mreturn\u001b[0m \u001b[0mself\u001b[0m\u001b[0;34m.\u001b[0m\u001b[0m_getitem_tuple\u001b[0m\u001b[0;34m(\u001b[0m\u001b[0mkey\u001b[0m\u001b[0;34m)\u001b[0m\u001b[0;34m\u001b[0m\u001b[0;34m\u001b[0m\u001b[0m\n\u001b[0m\u001b[1;32m    874\u001b[0m         \u001b[0;32melse\u001b[0m\u001b[0;34m:\u001b[0m\u001b[0;34m\u001b[0m\u001b[0;34m\u001b[0m\u001b[0m\n\u001b[1;32m    875\u001b[0m             \u001b[0;31m# we by definition only have the 0th axis\u001b[0m\u001b[0;34m\u001b[0m\u001b[0;34m\u001b[0m\u001b[0;34m\u001b[0m\u001b[0m\n",
            "\u001b[0;32m/usr/local/lib/python3.7/dist-packages/pandas/core/indexing.py\u001b[0m in \u001b[0;36m_getitem_tuple\u001b[0;34m(self, tup)\u001b[0m\n\u001b[1;32m   1047\u001b[0m \u001b[0;34m\u001b[0m\u001b[0m\n\u001b[1;32m   1048\u001b[0m         \u001b[0;31m# no multi-index, so validate all of the indexers\u001b[0m\u001b[0;34m\u001b[0m\u001b[0;34m\u001b[0m\u001b[0;34m\u001b[0m\u001b[0m\n\u001b[0;32m-> 1049\u001b[0;31m         \u001b[0mself\u001b[0m\u001b[0;34m.\u001b[0m\u001b[0m_has_valid_tuple\u001b[0m\u001b[0;34m(\u001b[0m\u001b[0mtup\u001b[0m\u001b[0;34m)\u001b[0m\u001b[0;34m\u001b[0m\u001b[0;34m\u001b[0m\u001b[0m\n\u001b[0m\u001b[1;32m   1050\u001b[0m \u001b[0;34m\u001b[0m\u001b[0m\n\u001b[1;32m   1051\u001b[0m         \u001b[0;31m# ugly hack for GH #836\u001b[0m\u001b[0;34m\u001b[0m\u001b[0;34m\u001b[0m\u001b[0;34m\u001b[0m\u001b[0m\n",
            "\u001b[0;32m/usr/local/lib/python3.7/dist-packages/pandas/core/indexing.py\u001b[0m in \u001b[0;36m_has_valid_tuple\u001b[0;34m(self, key)\u001b[0m\n\u001b[1;32m    698\u001b[0m         \u001b[0;32mfor\u001b[0m \u001b[0mi\u001b[0m\u001b[0;34m,\u001b[0m \u001b[0mk\u001b[0m \u001b[0;32min\u001b[0m \u001b[0menumerate\u001b[0m\u001b[0;34m(\u001b[0m\u001b[0mkey\u001b[0m\u001b[0;34m)\u001b[0m\u001b[0;34m:\u001b[0m\u001b[0;34m\u001b[0m\u001b[0;34m\u001b[0m\u001b[0m\n\u001b[1;32m    699\u001b[0m             \u001b[0;32mif\u001b[0m \u001b[0mi\u001b[0m \u001b[0;34m>=\u001b[0m \u001b[0mself\u001b[0m\u001b[0;34m.\u001b[0m\u001b[0mndim\u001b[0m\u001b[0;34m:\u001b[0m\u001b[0;34m\u001b[0m\u001b[0;34m\u001b[0m\u001b[0m\n\u001b[0;32m--> 700\u001b[0;31m                 \u001b[0;32mraise\u001b[0m \u001b[0mIndexingError\u001b[0m\u001b[0;34m(\u001b[0m\u001b[0;34m\"Too many indexers\"\u001b[0m\u001b[0;34m)\u001b[0m\u001b[0;34m\u001b[0m\u001b[0;34m\u001b[0m\u001b[0m\n\u001b[0m\u001b[1;32m    701\u001b[0m             \u001b[0;32mtry\u001b[0m\u001b[0;34m:\u001b[0m\u001b[0;34m\u001b[0m\u001b[0;34m\u001b[0m\u001b[0m\n\u001b[1;32m    702\u001b[0m                 \u001b[0mself\u001b[0m\u001b[0;34m.\u001b[0m\u001b[0m_validate_key\u001b[0m\u001b[0;34m(\u001b[0m\u001b[0mk\u001b[0m\u001b[0;34m,\u001b[0m \u001b[0mi\u001b[0m\u001b[0;34m)\u001b[0m\u001b[0;34m\u001b[0m\u001b[0;34m\u001b[0m\u001b[0m\n",
            "\u001b[0;31mIndexingError\u001b[0m: Too many indexers"
          ]
        }
      ],
      "source": [
        "d_hd.loc[:,'has_heart_disease', 2]"
      ]
    },
    {
      "cell_type": "code",
      "execution_count": null,
      "metadata": {
        "id": "F_Tk2z7HqWHw"
      },
      "outputs": [],
      "source": [
        "# 3.6) Usar iloc para obtener las primeras 3 columnas, y 5 registros\n"
      ]
    },
    {
      "cell_type": "code",
      "execution_count": null,
      "metadata": {
        "colab": {
          "base_uri": "https://localhost:8080/"
        },
        "id": "LZktknz4ztdU",
        "outputId": "aefb9ee7-672f-4036-9f54-db59bc1b7717"
      },
      "outputs": [
        {
          "data": {
            "text/plain": [
              "0    1\n",
              "1    0\n",
              "2    0\n",
              "Name: fasting_blood_sugar, dtype: int64"
            ]
          },
          "execution_count": 28,
          "metadata": {},
          "output_type": "execute_result"
        }
      ],
      "source": [
        "d_hd.iloc[0: 3, 5] #Usar iloc para obtener las primeras 3 columnas, y 5 registros"
      ]
    },
    {
      "cell_type": "code",
      "execution_count": null,
      "metadata": {
        "colab": {
          "base_uri": "https://localhost:8080/"
        },
        "id": "rd_r-ZZf1eIj",
        "outputId": "f7b370f4-e0eb-4973-ff82-e2ddc62b7162"
      },
      "outputs": [
        {
          "name": "stdout",
          "output_type": "stream",
          "text": [
            "Collecting funpymodeling\n",
            "  Downloading funpymodeling-0.1.7-py3-none-any.whl (6.4 kB)\n",
            "Requirement already satisfied: sklearn<0.1,>=0.0 in /usr/local/lib/python3.7/dist-packages (from funpymodeling) (0.0)\n",
            "Requirement already satisfied: typing-extensions<4.0.0,>=3.7.4 in /usr/local/lib/python3.7/dist-packages (from funpymodeling) (3.10.0.2)\n",
            "Collecting seaborn<0.11.0,>=0.10.1\n",
            "  Downloading seaborn-0.10.1-py3-none-any.whl (215 kB)\n",
            "\u001b[K     |████████████████████████████████| 215 kB 27.6 MB/s \n",
            "\u001b[?25hRequirement already satisfied: pandas<2.0.0,>=1.0.5 in /usr/local/lib/python3.7/dist-packages (from funpymodeling) (1.1.5)\n",
            "Requirement already satisfied: matplotlib<4.0.0,>=3.2.2 in /usr/local/lib/python3.7/dist-packages (from funpymodeling) (3.2.2)\n",
            "Requirement already satisfied: numpy<2.0.0,>=1.18.5 in /usr/local/lib/python3.7/dist-packages (from funpymodeling) (1.19.5)\n",
            "Requirement already satisfied: python-dateutil>=2.1 in /usr/local/lib/python3.7/dist-packages (from matplotlib<4.0.0,>=3.2.2->funpymodeling) (2.8.2)\n",
            "Requirement already satisfied: pyparsing!=2.0.4,!=2.1.2,!=2.1.6,>=2.0.1 in /usr/local/lib/python3.7/dist-packages (from matplotlib<4.0.0,>=3.2.2->funpymodeling) (3.0.6)\n",
            "Requirement already satisfied: cycler>=0.10 in /usr/local/lib/python3.7/dist-packages (from matplotlib<4.0.0,>=3.2.2->funpymodeling) (0.11.0)\n",
            "Requirement already satisfied: kiwisolver>=1.0.1 in /usr/local/lib/python3.7/dist-packages (from matplotlib<4.0.0,>=3.2.2->funpymodeling) (1.3.2)\n",
            "Requirement already satisfied: pytz>=2017.2 in /usr/local/lib/python3.7/dist-packages (from pandas<2.0.0,>=1.0.5->funpymodeling) (2018.9)\n",
            "Requirement already satisfied: six>=1.5 in /usr/local/lib/python3.7/dist-packages (from python-dateutil>=2.1->matplotlib<4.0.0,>=3.2.2->funpymodeling) (1.15.0)\n",
            "Requirement already satisfied: scipy>=1.0.1 in /usr/local/lib/python3.7/dist-packages (from seaborn<0.11.0,>=0.10.1->funpymodeling) (1.4.1)\n",
            "Requirement already satisfied: scikit-learn in /usr/local/lib/python3.7/dist-packages (from sklearn<0.1,>=0.0->funpymodeling) (1.0.1)\n",
            "Requirement already satisfied: threadpoolctl>=2.0.0 in /usr/local/lib/python3.7/dist-packages (from scikit-learn->sklearn<0.1,>=0.0->funpymodeling) (3.0.0)\n",
            "Requirement already satisfied: joblib>=0.11 in /usr/local/lib/python3.7/dist-packages (from scikit-learn->sklearn<0.1,>=0.0->funpymodeling) (1.1.0)\n",
            "Installing collected packages: seaborn, funpymodeling\n",
            "  Attempting uninstall: seaborn\n",
            "    Found existing installation: seaborn 0.11.2\n",
            "    Uninstalling seaborn-0.11.2:\n",
            "      Successfully uninstalled seaborn-0.11.2\n",
            "Successfully installed funpymodeling-0.1.7 seaborn-0.10.1\n"
          ]
        }
      ],
      "source": [
        "!pip install funpymodeling"
      ]
    },
    {
      "cell_type": "code",
      "execution_count": null,
      "metadata": {
        "colab": {
          "base_uri": "https://localhost:8080/"
        },
        "id": "6W75Mosb2FGF",
        "outputId": "ecac8461-8423-4582-daff-3d18e857777a"
      },
      "outputs": [
        {
          "name": "stderr",
          "output_type": "stream",
          "text": [
            "/usr/local/lib/python3.7/dist-packages/statsmodels/tools/_testing.py:19: FutureWarning: pandas.util.testing is deprecated. Use the functions in the public API at pandas.testing instead.\n",
            "  import pandas.util.testing as tm\n"
          ]
        }
      ],
      "source": [
        "from funpymodeling.exploratory import status"
      ]
    },
    {
      "cell_type": "code",
      "execution_count": null,
      "metadata": {
        "colab": {
          "base_uri": "https://localhost:8080/",
          "height": 551
        },
        "id": "yQoWuSRn2I14",
        "outputId": "34a9e602-6d7d-4bc8-d513-38ddc5516437"
      },
      "outputs": [
        {
          "data": {
            "text/html": [
              "\n",
              "  <div id=\"df-0d33afd4-2d51-4da8-94d9-edaeff11d6b2\">\n",
              "    <div class=\"colab-df-container\">\n",
              "      <div>\n",
              "<style scoped>\n",
              "    .dataframe tbody tr th:only-of-type {\n",
              "        vertical-align: middle;\n",
              "    }\n",
              "\n",
              "    .dataframe tbody tr th {\n",
              "        vertical-align: top;\n",
              "    }\n",
              "\n",
              "    .dataframe thead th {\n",
              "        text-align: right;\n",
              "    }\n",
              "</style>\n",
              "<table border=\"1\" class=\"dataframe\">\n",
              "  <thead>\n",
              "    <tr style=\"text-align: right;\">\n",
              "      <th></th>\n",
              "      <th>variable</th>\n",
              "      <th>q_nan</th>\n",
              "      <th>p_nan</th>\n",
              "      <th>q_zeros</th>\n",
              "      <th>p_zeros</th>\n",
              "      <th>unique</th>\n",
              "      <th>type</th>\n",
              "    </tr>\n",
              "  </thead>\n",
              "  <tbody>\n",
              "    <tr>\n",
              "      <th>0</th>\n",
              "      <td>age</td>\n",
              "      <td>0</td>\n",
              "      <td>0.000000</td>\n",
              "      <td>0</td>\n",
              "      <td>0.000000</td>\n",
              "      <td>41</td>\n",
              "      <td>int64</td>\n",
              "    </tr>\n",
              "    <tr>\n",
              "      <th>1</th>\n",
              "      <td>gender</td>\n",
              "      <td>0</td>\n",
              "      <td>0.000000</td>\n",
              "      <td>0</td>\n",
              "      <td>0.000000</td>\n",
              "      <td>2</td>\n",
              "      <td>object</td>\n",
              "    </tr>\n",
              "    <tr>\n",
              "      <th>2</th>\n",
              "      <td>chest_pain</td>\n",
              "      <td>0</td>\n",
              "      <td>0.000000</td>\n",
              "      <td>0</td>\n",
              "      <td>0.000000</td>\n",
              "      <td>4</td>\n",
              "      <td>int64</td>\n",
              "    </tr>\n",
              "    <tr>\n",
              "      <th>3</th>\n",
              "      <td>resting_blood_pressure</td>\n",
              "      <td>0</td>\n",
              "      <td>0.000000</td>\n",
              "      <td>0</td>\n",
              "      <td>0.000000</td>\n",
              "      <td>50</td>\n",
              "      <td>int64</td>\n",
              "    </tr>\n",
              "    <tr>\n",
              "      <th>4</th>\n",
              "      <td>serum_cholestoral</td>\n",
              "      <td>0</td>\n",
              "      <td>0.000000</td>\n",
              "      <td>0</td>\n",
              "      <td>0.000000</td>\n",
              "      <td>152</td>\n",
              "      <td>int64</td>\n",
              "    </tr>\n",
              "    <tr>\n",
              "      <th>5</th>\n",
              "      <td>fasting_blood_sugar</td>\n",
              "      <td>0</td>\n",
              "      <td>0.000000</td>\n",
              "      <td>258</td>\n",
              "      <td>0.851485</td>\n",
              "      <td>2</td>\n",
              "      <td>int64</td>\n",
              "    </tr>\n",
              "    <tr>\n",
              "      <th>6</th>\n",
              "      <td>resting_electro</td>\n",
              "      <td>0</td>\n",
              "      <td>0.000000</td>\n",
              "      <td>151</td>\n",
              "      <td>0.498350</td>\n",
              "      <td>3</td>\n",
              "      <td>int64</td>\n",
              "    </tr>\n",
              "    <tr>\n",
              "      <th>7</th>\n",
              "      <td>max_heart_rate</td>\n",
              "      <td>0</td>\n",
              "      <td>0.000000</td>\n",
              "      <td>0</td>\n",
              "      <td>0.000000</td>\n",
              "      <td>91</td>\n",
              "      <td>int64</td>\n",
              "    </tr>\n",
              "    <tr>\n",
              "      <th>8</th>\n",
              "      <td>exer_angina</td>\n",
              "      <td>0</td>\n",
              "      <td>0.000000</td>\n",
              "      <td>204</td>\n",
              "      <td>0.673267</td>\n",
              "      <td>2</td>\n",
              "      <td>int64</td>\n",
              "    </tr>\n",
              "    <tr>\n",
              "      <th>9</th>\n",
              "      <td>oldpeak</td>\n",
              "      <td>0</td>\n",
              "      <td>0.000000</td>\n",
              "      <td>99</td>\n",
              "      <td>0.326733</td>\n",
              "      <td>40</td>\n",
              "      <td>float64</td>\n",
              "    </tr>\n",
              "    <tr>\n",
              "      <th>10</th>\n",
              "      <td>slope</td>\n",
              "      <td>0</td>\n",
              "      <td>0.000000</td>\n",
              "      <td>0</td>\n",
              "      <td>0.000000</td>\n",
              "      <td>3</td>\n",
              "      <td>int64</td>\n",
              "    </tr>\n",
              "    <tr>\n",
              "      <th>11</th>\n",
              "      <td>num_vessels_flour</td>\n",
              "      <td>4</td>\n",
              "      <td>0.013201</td>\n",
              "      <td>176</td>\n",
              "      <td>0.580858</td>\n",
              "      <td>4</td>\n",
              "      <td>float64</td>\n",
              "    </tr>\n",
              "    <tr>\n",
              "      <th>12</th>\n",
              "      <td>thal</td>\n",
              "      <td>2</td>\n",
              "      <td>0.006601</td>\n",
              "      <td>0</td>\n",
              "      <td>0.000000</td>\n",
              "      <td>3</td>\n",
              "      <td>float64</td>\n",
              "    </tr>\n",
              "    <tr>\n",
              "      <th>13</th>\n",
              "      <td>heart_disease_severity</td>\n",
              "      <td>0</td>\n",
              "      <td>0.000000</td>\n",
              "      <td>164</td>\n",
              "      <td>0.541254</td>\n",
              "      <td>5</td>\n",
              "      <td>int64</td>\n",
              "    </tr>\n",
              "    <tr>\n",
              "      <th>14</th>\n",
              "      <td>exter_angina</td>\n",
              "      <td>0</td>\n",
              "      <td>0.000000</td>\n",
              "      <td>204</td>\n",
              "      <td>0.673267</td>\n",
              "      <td>2</td>\n",
              "      <td>int64</td>\n",
              "    </tr>\n",
              "    <tr>\n",
              "      <th>15</th>\n",
              "      <td>has_heart_disease</td>\n",
              "      <td>0</td>\n",
              "      <td>0.000000</td>\n",
              "      <td>0</td>\n",
              "      <td>0.000000</td>\n",
              "      <td>2</td>\n",
              "      <td>object</td>\n",
              "    </tr>\n",
              "  </tbody>\n",
              "</table>\n",
              "</div>\n",
              "      <button class=\"colab-df-convert\" onclick=\"convertToInteractive('df-0d33afd4-2d51-4da8-94d9-edaeff11d6b2')\"\n",
              "              title=\"Convert this dataframe to an interactive table.\"\n",
              "              style=\"display:none;\">\n",
              "        \n",
              "  <svg xmlns=\"http://www.w3.org/2000/svg\" height=\"24px\"viewBox=\"0 0 24 24\"\n",
              "       width=\"24px\">\n",
              "    <path d=\"M0 0h24v24H0V0z\" fill=\"none\"/>\n",
              "    <path d=\"M18.56 5.44l.94 2.06.94-2.06 2.06-.94-2.06-.94-.94-2.06-.94 2.06-2.06.94zm-11 1L8.5 8.5l.94-2.06 2.06-.94-2.06-.94L8.5 2.5l-.94 2.06-2.06.94zm10 10l.94 2.06.94-2.06 2.06-.94-2.06-.94-.94-2.06-.94 2.06-2.06.94z\"/><path d=\"M17.41 7.96l-1.37-1.37c-.4-.4-.92-.59-1.43-.59-.52 0-1.04.2-1.43.59L10.3 9.45l-7.72 7.72c-.78.78-.78 2.05 0 2.83L4 21.41c.39.39.9.59 1.41.59.51 0 1.02-.2 1.41-.59l7.78-7.78 2.81-2.81c.8-.78.8-2.07 0-2.86zM5.41 20L4 18.59l7.72-7.72 1.47 1.35L5.41 20z\"/>\n",
              "  </svg>\n",
              "      </button>\n",
              "      \n",
              "  <style>\n",
              "    .colab-df-container {\n",
              "      display:flex;\n",
              "      flex-wrap:wrap;\n",
              "      gap: 12px;\n",
              "    }\n",
              "\n",
              "    .colab-df-convert {\n",
              "      background-color: #E8F0FE;\n",
              "      border: none;\n",
              "      border-radius: 50%;\n",
              "      cursor: pointer;\n",
              "      display: none;\n",
              "      fill: #1967D2;\n",
              "      height: 32px;\n",
              "      padding: 0 0 0 0;\n",
              "      width: 32px;\n",
              "    }\n",
              "\n",
              "    .colab-df-convert:hover {\n",
              "      background-color: #E2EBFA;\n",
              "      box-shadow: 0px 1px 2px rgba(60, 64, 67, 0.3), 0px 1px 3px 1px rgba(60, 64, 67, 0.15);\n",
              "      fill: #174EA6;\n",
              "    }\n",
              "\n",
              "    [theme=dark] .colab-df-convert {\n",
              "      background-color: #3B4455;\n",
              "      fill: #D2E3FC;\n",
              "    }\n",
              "\n",
              "    [theme=dark] .colab-df-convert:hover {\n",
              "      background-color: #434B5C;\n",
              "      box-shadow: 0px 1px 3px 1px rgba(0, 0, 0, 0.15);\n",
              "      filter: drop-shadow(0px 1px 2px rgba(0, 0, 0, 0.3));\n",
              "      fill: #FFFFFF;\n",
              "    }\n",
              "  </style>\n",
              "\n",
              "      <script>\n",
              "        const buttonEl =\n",
              "          document.querySelector('#df-0d33afd4-2d51-4da8-94d9-edaeff11d6b2 button.colab-df-convert');\n",
              "        buttonEl.style.display =\n",
              "          google.colab.kernel.accessAllowed ? 'block' : 'none';\n",
              "\n",
              "        async function convertToInteractive(key) {\n",
              "          const element = document.querySelector('#df-0d33afd4-2d51-4da8-94d9-edaeff11d6b2');\n",
              "          const dataTable =\n",
              "            await google.colab.kernel.invokeFunction('convertToInteractive',\n",
              "                                                     [key], {});\n",
              "          if (!dataTable) return;\n",
              "\n",
              "          const docLinkHtml = 'Like what you see? Visit the ' +\n",
              "            '<a target=\"_blank\" href=https://colab.research.google.com/notebooks/data_table.ipynb>data table notebook</a>'\n",
              "            + ' to learn more about interactive tables.';\n",
              "          element.innerHTML = '';\n",
              "          dataTable['output_type'] = 'display_data';\n",
              "          await google.colab.output.renderOutput(dataTable, element);\n",
              "          const docLink = document.createElement('div');\n",
              "          docLink.innerHTML = docLinkHtml;\n",
              "          element.appendChild(docLink);\n",
              "        }\n",
              "      </script>\n",
              "    </div>\n",
              "  </div>\n",
              "  "
            ],
            "text/plain": [
              "                  variable  q_nan     p_nan  q_zeros   p_zeros  unique     type\n",
              "0                      age      0  0.000000        0  0.000000      41    int64\n",
              "1                   gender      0  0.000000        0  0.000000       2   object\n",
              "2               chest_pain      0  0.000000        0  0.000000       4    int64\n",
              "3   resting_blood_pressure      0  0.000000        0  0.000000      50    int64\n",
              "4        serum_cholestoral      0  0.000000        0  0.000000     152    int64\n",
              "5      fasting_blood_sugar      0  0.000000      258  0.851485       2    int64\n",
              "6          resting_electro      0  0.000000      151  0.498350       3    int64\n",
              "7           max_heart_rate      0  0.000000        0  0.000000      91    int64\n",
              "8              exer_angina      0  0.000000      204  0.673267       2    int64\n",
              "9                  oldpeak      0  0.000000       99  0.326733      40  float64\n",
              "10                   slope      0  0.000000        0  0.000000       3    int64\n",
              "11       num_vessels_flour      4  0.013201      176  0.580858       4  float64\n",
              "12                    thal      2  0.006601        0  0.000000       3  float64\n",
              "13  heart_disease_severity      0  0.000000      164  0.541254       5    int64\n",
              "14            exter_angina      0  0.000000      204  0.673267       2    int64\n",
              "15       has_heart_disease      0  0.000000        0  0.000000       2   object"
            ]
          },
          "execution_count": 31,
          "metadata": {},
          "output_type": "execute_result"
        }
      ],
      "source": [
        "# 4.3) ¿Qué variables tienen nulos?  (usar status) \n",
        "status (d_hd)"
      ]
    },
    {
      "cell_type": "code",
      "execution_count": null,
      "metadata": {
        "id": "cUOgcbIv4Wyc"
      },
      "outputs": [],
      "source": [
        "#Devolver un data frame con todos los registros que tienen NaN en la variable \"thal\"."
      ]
    },
    {
      "cell_type": "code",
      "execution_count": null,
      "metadata": {
        "id": "n05u0yrj6__W"
      },
      "outputs": [],
      "source": [
        "import numpy as np"
      ]
    },
    {
      "cell_type": "code",
      "execution_count": null,
      "metadata": {
        "id": "9HabMQph4gpp"
      },
      "outputs": [],
      "source": [
        "thal=pd.Series([1,2,3, np.NaN])"
      ]
    },
    {
      "cell_type": "code",
      "execution_count": null,
      "metadata": {
        "colab": {
          "base_uri": "https://localhost:8080/"
        },
        "id": "pomY12v46iXU",
        "outputId": "42a314b6-83a9-4c58-f4ff-ec897932061e"
      },
      "outputs": [
        {
          "data": {
            "text/plain": [
              "0    1.0\n",
              "1    2.0\n",
              "2    3.0\n",
              "3    NaN\n",
              "dtype: float64"
            ]
          },
          "execution_count": 38,
          "metadata": {},
          "output_type": "execute_result"
        }
      ],
      "source": [
        "thal\n"
      ]
    },
    {
      "cell_type": "code",
      "execution_count": null,
      "metadata": {
        "colab": {
          "background_save": true
        },
        "id": "8NSw4Uru6jZW",
        "outputId": "73a648d2-9445-46c0-e660-d0a2f0bd7f5c"
      },
      "outputs": [
        {
          "ename": "NameError",
          "evalue": "ignored",
          "output_type": "error",
          "traceback": [
            "\u001b[0;31m---------------------------------------------------------------------------\u001b[0m",
            "\u001b[0;31mNameError\u001b[0m                                 Traceback (most recent call last)",
            "\u001b[0;32m<ipython-input-1-0e5a70874fdb>\u001b[0m in \u001b[0;36m<module>\u001b[0;34m()\u001b[0m\n\u001b[0;32m----> 1\u001b[0;31m \u001b[0md_hd\u001b[0m\u001b[0;34m.\u001b[0m\u001b[0misna\u001b[0m\u001b[0;34m(\u001b[0m\u001b[0;34m)\u001b[0m\u001b[0;34m\u001b[0m\u001b[0;34m\u001b[0m\u001b[0m\n\u001b[0m",
            "\u001b[0;31mNameError\u001b[0m: name 'd_hd' is not defined"
          ]
        }
      ],
      "source": [
        "d_ ['hair_color'].isna()"
      ]
    }
  ],
  "metadata": {
    "colab": {
      "name": "PRACTICA PYTHON - DATOS.ipynb",
      "provenance": [],
      "mount_file_id": "1TaG9RPU_v0lpC3l7ak1RltIh-12CnsJ6",
      "authorship_tag": "ABX9TyN2peM2r2Cib43yJCkBlCDw",
      "include_colab_link": true
    },
    "kernelspec": {
      "display_name": "Python 3",
      "name": "python3"
    },
    "language_info": {
      "name": "python"
    }
  },
  "nbformat": 4,
  "nbformat_minor": 0
}